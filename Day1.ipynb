{
 "cells": [
  {
   "cell_type": "markdown",
   "metadata": {},
   "source": [
    "# Python Intermediate - Day 1\n",
    "---\n",
    "This is an intermediate level of Python programming. \n",
    "\n",
    "If you are new to Python programming, you are suggested to start with Python Introduction.  \n",
    "\n",
    "You can download the notebooks for Python Intro by the link below.\n",
    "\n",
    "[Python Intro](https://github.com/ngsanluk/PythonIntro-Blank)\n"
   ]
  },
  {
   "cell_type": "markdown",
   "metadata": {},
   "source": [
    "# Using Pandas\n",
    "- `pandas` is a fast, powerful, flexible and easy to use open source data analysis and manipulation add-on for Python\n",
    "- `pandas` is built on top of `numpy` and therefore quite often these two are used together."
   ]
  },
  {
   "cell_type": "markdown",
   "metadata": {},
   "source": [
    "## Import `pandas`\n",
    "To import `numpy` and `pandas`\n",
    "\n",
    "* `import numpy as np` # np is the alias\n",
    "* `import pandas as pd` # pd is the alias\n"
   ]
  },
  {
   "cell_type": "code",
   "execution_count": 1,
   "metadata": {},
   "outputs": [],
   "source": [
    "import numpy as np # np is the alias\n",
    "import pandas as pd # pd is the alias"
   ]
  },
  {
   "cell_type": "markdown",
   "metadata": {},
   "source": [
    "## Check Installed Version\n",
    "\n",
    "To check the version of `numpy` and `pandas`, type the following commands\n",
    "\n",
    "```\n",
    "print(np.__version__)\n",
    "print(pd.__version__)\n",
    "```"
   ]
  },
  {
   "cell_type": "code",
   "execution_count": 2,
   "metadata": {
    "scrolled": false
   },
   "outputs": [
    {
     "name": "stdout",
     "output_type": "stream",
     "text": [
      "1.21.5\n"
     ]
    }
   ],
   "source": [
    "print(np.__version__)"
   ]
  },
  {
   "cell_type": "code",
   "execution_count": 3,
   "metadata": {
    "scrolled": false
   },
   "outputs": [
    {
     "name": "stdout",
     "output_type": "stream",
     "text": [
      "1.4.2\n"
     ]
    }
   ],
   "source": [
    "print(pd.__version__)"
   ]
  },
  {
   "cell_type": "markdown",
   "metadata": {},
   "source": [
    "## Some Handy Features\n",
    "\n",
    "Some quickhands to speed up your code typing.\n",
    "\n",
    "**Creating array**\n",
    "\n",
    "The following statement involves too many special characters to type and therefore it will be slow to enter.\n",
    "\n",
    "```\n",
    "l = ['A', 'B', 'C', 'D', 'E']\n",
    "``` \n",
    "\n",
    "Using `list()` function would pick a character a time and make it a independant list member.\n",
    "```\n",
    "l = list('ABCDE') # \n",
    "```\n",
    "\n",
    "Use `split()` function to separate strings with SPACES in-between\n",
    "```\n",
    "l = 'A B C D E'.split()\n",
    "```\n",
    "\n",
    "**Generates a range of dates**:\n",
    "```\n",
    "dates = pd.date_range('20210101', periods=7) \n",
    "type(dates) # returns pandas.core.indexes.datetimes.DatetimeIndex\n",
    "```"
   ]
  },
  {
   "cell_type": "code",
   "execution_count": 4,
   "metadata": {},
   "outputs": [
    {
     "data": {
      "text/plain": [
       "['A', 'B', 'C', 'D', 'E']"
      ]
     },
     "execution_count": 4,
     "metadata": {},
     "output_type": "execute_result"
    }
   ],
   "source": [
    "list('ABCDE')"
   ]
  },
  {
   "cell_type": "code",
   "execution_count": 5,
   "metadata": {},
   "outputs": [
    {
     "data": {
      "text/plain": [
       "['A', 'B', 'C', 'D', 'E']"
      ]
     },
     "execution_count": 5,
     "metadata": {},
     "output_type": "execute_result"
    }
   ],
   "source": [
    "'A B C D E'.split()"
   ]
  },
  {
   "cell_type": "code",
   "execution_count": 6,
   "metadata": {},
   "outputs": [],
   "source": [
    "dates = pd.date_range('20220101', periods=7)"
   ]
  },
  {
   "cell_type": "code",
   "execution_count": 7,
   "metadata": {
    "scrolled": true
   },
   "outputs": [
    {
     "data": {
      "text/plain": [
       "DatetimeIndex(['2022-01-01', '2022-01-02', '2022-01-03', '2022-01-04',\n",
       "               '2022-01-05', '2022-01-06', '2022-01-07'],\n",
       "              dtype='datetime64[ns]', freq='D')"
      ]
     },
     "execution_count": 7,
     "metadata": {},
     "output_type": "execute_result"
    }
   ],
   "source": [
    "dates"
   ]
  },
  {
   "cell_type": "code",
   "execution_count": 8,
   "metadata": {},
   "outputs": [
    {
     "data": {
      "text/plain": [
       "pandas.core.indexes.datetimes.DatetimeIndex"
      ]
     },
     "execution_count": 8,
     "metadata": {},
     "output_type": "execute_result"
    }
   ],
   "source": [
    "type(dates)"
   ]
  },
  {
   "cell_type": "markdown",
   "metadata": {},
   "source": [
    "## Use `type()` function to check type\n",
    "\n",
    "Remember you can use `type()` function to verify the type of a variable or the returned object from a function call.\n",
    "\n",
    "**Example**:\n",
    "```\n",
    "type(dates)\n",
    "```"
   ]
  },
  {
   "cell_type": "code",
   "execution_count": 9,
   "metadata": {},
   "outputs": [
    {
     "data": {
      "text/plain": [
       "pandas.core.indexes.datetimes.DatetimeIndex"
      ]
     },
     "execution_count": 9,
     "metadata": {},
     "output_type": "execute_result"
    }
   ],
   "source": [
    "type(dates)"
   ]
  },
  {
   "cell_type": "markdown",
   "metadata": {},
   "source": [
    "# Keyboard Shortcuts\n",
    "\n",
    "A few keyboard shortcuts will speed up your code typing in great deal.  \n",
    "\n",
    "To apply keyboard shortcuts, you must be in **COMMAND** mode.\n",
    "\n",
    "When a cell is in EDIT mode, the border color is GREEN.\n",
    "\n",
    "When a cell is in COMMAND mode, the border color is BLUE."
   ]
  },
  {
   "cell_type": "markdown",
   "metadata": {},
   "source": [
    "## Switching between COMMAND / EDIT modes\n",
    "* Press `ESC` to switch to COMMAND mode (while you are in EDIT mode)\n",
    "* Press `ENTER` to switch to EDIT mode (while you are in COMMAND mode)\n",
    "\n",
    "To apply other keyboard shortcuts, make sure you are in **COMMAND** mode (Cell border in BLUE)"
   ]
  },
  {
   "cell_type": "markdown",
   "metadata": {},
   "source": [
    "## Operating/Managing Codes\n",
    "\n",
    "* `SHIFT + ENTER`: Run current cell and move to next cell\n",
    "* `CMD + ENTER` (Mac) or `CTRL + ENTER` (Windows): run and stay at the current cell\n",
    "* `A`: insert new cell ABOVE\n",
    "* `B`: insert new cell BELOW\n",
    "* `D + D`: delete the current celll\n",
    "* `M`: change a cell to **Markdown** type\n",
    "* `Y`: change a cell to **Code** type\n",
    "* `C`: copy\n",
    "* `V`: paste\n",
    "* `o`: show/hide cell's output\n",
    "* `SHIFT + UP/DOWN`: to select multiple cells"
   ]
  },
  {
   "cell_type": "markdown",
   "metadata": {},
   "source": [
    "## Spliting/Merging Cell(s)\n",
    "* `SHIFT + CTRL + -` (Mac/Windows): split current cells into two cells from where your cursor is currently at.\n",
    "* `SHIFT + M` (Mac/Windows): Merge multiple cells"
   ]
  },
  {
   "cell_type": "markdown",
   "metadata": {},
   "source": [
    "## Code Completion and Helps\n",
    "* `SHIFT + TAB`: after you input code keyword, press this key combination to show helps\n",
    "* `. + TAB`: type `.` and press `TAB` for code completion\n",
    "\n",
    "**Example**:\n",
    "\n",
    "Type `pd.read_` + `TAB`, you wil see prompts of whole list of functions name for reading different formats of file."
   ]
  },
  {
   "cell_type": "code",
   "execution_count": null,
   "metadata": {},
   "outputs": [],
   "source": [
    "pd.read_"
   ]
  },
  {
   "cell_type": "markdown",
   "metadata": {},
   "source": [
    "## Multiple Lines/Cursors\n",
    "\n",
    "Press and hold `OPTION` (on Mac) or `ALT` (on Windows) to select mulple lines\n",
    "\n",
    "Press and hold `OPTION + CMD` (on Mac) or `ALT + CTRL` (on Windows) to add more cursor"
   ]
  },
  {
   "cell_type": "code",
   "execution_count": 10,
   "metadata": {},
   "outputs": [
    {
     "name": "stdout",
     "output_type": "stream",
     "text": [
      "hi 1\n",
      "hi 2\n",
      "hi 3\n",
      "hi 4\n",
      "hi from Sunny\n",
      "hello from Sunny\n"
     ]
    }
   ],
   "source": [
    "print(\"hi 1\")\n",
    "print(\"hi 2\")\n",
    "print(\"hi 3\")\n",
    "print(\"hi 4\")\n",
    "print(\"hi from Sunny\")\n",
    "print(\"hello from Sunny\")"
   ]
  },
  {
   "cell_type": "markdown",
   "metadata": {},
   "source": [
    "# Help\n",
    "\n",
    "Prepend a `?` to a library name, method name or variable name, you can access the Docstring quick reference\n",
    "\n",
    "**Example**\n",
    "\n",
    "```\n",
    "?print\n",
    "?str.upper\n",
    "?pd.read_csv\n",
    "?pd.read_excel\n",
    "```\n",
    "\n",
    "**Or use `help()` function**\n",
    "```\n",
    "help(print)\n",
    "help(str.upper)\n",
    "help(pd.read_csv)\n",
    "help(pd.read_excel)\n",
    "```"
   ]
  },
  {
   "cell_type": "code",
   "execution_count": 11,
   "metadata": {},
   "outputs": [],
   "source": [
    "?str.upper"
   ]
  },
  {
   "cell_type": "code",
   "execution_count": 12,
   "metadata": {},
   "outputs": [],
   "source": [
    "?pd.read_csv"
   ]
  },
  {
   "cell_type": "code",
   "execution_count": 13,
   "metadata": {},
   "outputs": [
    {
     "name": "stdout",
     "output_type": "stream",
     "text": [
      "Help on method_descriptor:\n",
      "\n",
      "upper(self, /)\n",
      "    Return a copy of the string converted to uppercase.\n",
      "\n"
     ]
    }
   ],
   "source": [
    "help(str.upper)"
   ]
  },
  {
   "cell_type": "code",
   "execution_count": 14,
   "metadata": {},
   "outputs": [
    {
     "name": "stdout",
     "output_type": "stream",
     "text": [
      "Help on function read_csv in module pandas.io.parsers.readers:\n",
      "\n",
      "read_csv(filepath_or_buffer: 'FilePath | ReadCsvBuffer[bytes] | ReadCsvBuffer[str]', sep=<no_default>, delimiter=None, header='infer', names=<no_default>, index_col=None, usecols=None, squeeze=None, prefix=<no_default>, mangle_dupe_cols=True, dtype: 'DtypeArg | None' = None, engine: 'CSVEngine | None' = None, converters=None, true_values=None, false_values=None, skipinitialspace=False, skiprows=None, skipfooter=0, nrows=None, na_values=None, keep_default_na=True, na_filter=True, verbose=False, skip_blank_lines=True, parse_dates=None, infer_datetime_format=False, keep_date_col=False, date_parser=None, dayfirst=False, cache_dates=True, iterator=False, chunksize=None, compression: 'CompressionOptions' = 'infer', thousands=None, decimal: 'str' = '.', lineterminator=None, quotechar='\"', quoting=0, doublequote=True, escapechar=None, comment=None, encoding=None, encoding_errors: 'str | None' = 'strict', dialect=None, error_bad_lines=None, warn_bad_lines=None, on_bad_lines=None, delim_whitespace=False, low_memory=True, memory_map=False, float_precision=None, storage_options: 'StorageOptions' = None)\n",
      "    Read a comma-separated values (csv) file into DataFrame.\n",
      "    \n",
      "    Also supports optionally iterating or breaking of the file\n",
      "    into chunks.\n",
      "    \n",
      "    Additional help can be found in the online docs for\n",
      "    `IO Tools <https://pandas.pydata.org/pandas-docs/stable/user_guide/io.html>`_.\n",
      "    \n",
      "    Parameters\n",
      "    ----------\n",
      "    filepath_or_buffer : str, path object or file-like object\n",
      "        Any valid string path is acceptable. The string could be a URL. Valid\n",
      "        URL schemes include http, ftp, s3, gs, and file. For file URLs, a host is\n",
      "        expected. A local file could be: file://localhost/path/to/table.csv.\n",
      "    \n",
      "        If you want to pass in a path object, pandas accepts any ``os.PathLike``.\n",
      "    \n",
      "        By file-like object, we refer to objects with a ``read()`` method, such as\n",
      "        a file handle (e.g. via builtin ``open`` function) or ``StringIO``.\n",
      "    sep : str, default ','\n",
      "        Delimiter to use. If sep is None, the C engine cannot automatically detect\n",
      "        the separator, but the Python parsing engine can, meaning the latter will\n",
      "        be used and automatically detect the separator by Python's builtin sniffer\n",
      "        tool, ``csv.Sniffer``. In addition, separators longer than 1 character and\n",
      "        different from ``'\\s+'`` will be interpreted as regular expressions and\n",
      "        will also force the use of the Python parsing engine. Note that regex\n",
      "        delimiters are prone to ignoring quoted data. Regex example: ``'\\r\\t'``.\n",
      "    delimiter : str, default ``None``\n",
      "        Alias for sep.\n",
      "    header : int, list of int, None, default 'infer'\n",
      "        Row number(s) to use as the column names, and the start of the\n",
      "        data.  Default behavior is to infer the column names: if no names\n",
      "        are passed the behavior is identical to ``header=0`` and column\n",
      "        names are inferred from the first line of the file, if column\n",
      "        names are passed explicitly then the behavior is identical to\n",
      "        ``header=None``. Explicitly pass ``header=0`` to be able to\n",
      "        replace existing names. The header can be a list of integers that\n",
      "        specify row locations for a multi-index on the columns\n",
      "        e.g. [0,1,3]. Intervening rows that are not specified will be\n",
      "        skipped (e.g. 2 in this example is skipped). Note that this\n",
      "        parameter ignores commented lines and empty lines if\n",
      "        ``skip_blank_lines=True``, so ``header=0`` denotes the first line of\n",
      "        data rather than the first line of the file.\n",
      "    names : array-like, optional\n",
      "        List of column names to use. If the file contains a header row,\n",
      "        then you should explicitly pass ``header=0`` to override the column names.\n",
      "        Duplicates in this list are not allowed.\n",
      "    index_col : int, str, sequence of int / str, or False, optional, default ``None``\n",
      "      Column(s) to use as the row labels of the ``DataFrame``, either given as\n",
      "      string name or column index. If a sequence of int / str is given, a\n",
      "      MultiIndex is used.\n",
      "    \n",
      "      Note: ``index_col=False`` can be used to force pandas to *not* use the first\n",
      "      column as the index, e.g. when you have a malformed file with delimiters at\n",
      "      the end of each line.\n",
      "    usecols : list-like or callable, optional\n",
      "        Return a subset of the columns. If list-like, all elements must either\n",
      "        be positional (i.e. integer indices into the document columns) or strings\n",
      "        that correspond to column names provided either by the user in `names` or\n",
      "        inferred from the document header row(s). If ``names`` are given, the document\n",
      "        header row(s) are not taken into account. For example, a valid list-like\n",
      "        `usecols` parameter would be ``[0, 1, 2]`` or ``['foo', 'bar', 'baz']``.\n",
      "        Element order is ignored, so ``usecols=[0, 1]`` is the same as ``[1, 0]``.\n",
      "        To instantiate a DataFrame from ``data`` with element order preserved use\n",
      "        ``pd.read_csv(data, usecols=['foo', 'bar'])[['foo', 'bar']]`` for columns\n",
      "        in ``['foo', 'bar']`` order or\n",
      "        ``pd.read_csv(data, usecols=['foo', 'bar'])[['bar', 'foo']]``\n",
      "        for ``['bar', 'foo']`` order.\n",
      "    \n",
      "        If callable, the callable function will be evaluated against the column\n",
      "        names, returning names where the callable function evaluates to True. An\n",
      "        example of a valid callable argument would be ``lambda x: x.upper() in\n",
      "        ['AAA', 'BBB', 'DDD']``. Using this parameter results in much faster\n",
      "        parsing time and lower memory usage.\n",
      "    squeeze : bool, default False\n",
      "        If the parsed data only contains one column then return a Series.\n",
      "    \n",
      "        .. deprecated:: 1.4.0\n",
      "            Append ``.squeeze(\"columns\")`` to the call to ``read_csv`` to squeeze\n",
      "            the data.\n",
      "    prefix : str, optional\n",
      "        Prefix to add to column numbers when no header, e.g. 'X' for X0, X1, ...\n",
      "    \n",
      "        .. deprecated:: 1.4.0\n",
      "           Use a list comprehension on the DataFrame's columns after calling ``read_csv``.\n",
      "    mangle_dupe_cols : bool, default True\n",
      "        Duplicate columns will be specified as 'X', 'X.1', ...'X.N', rather than\n",
      "        'X'...'X'. Passing in False will cause data to be overwritten if there\n",
      "        are duplicate names in the columns.\n",
      "    dtype : Type name or dict of column -> type, optional\n",
      "        Data type for data or columns. E.g. {'a': np.float64, 'b': np.int32,\n",
      "        'c': 'Int64'}\n",
      "        Use `str` or `object` together with suitable `na_values` settings\n",
      "        to preserve and not interpret dtype.\n",
      "        If converters are specified, they will be applied INSTEAD\n",
      "        of dtype conversion.\n",
      "    engine : {'c', 'python', 'pyarrow'}, optional\n",
      "        Parser engine to use. The C and pyarrow engines are faster, while the python engine\n",
      "        is currently more feature-complete. Multithreading is currently only supported by\n",
      "        the pyarrow engine.\n",
      "    \n",
      "        .. versionadded:: 1.4.0\n",
      "    \n",
      "            The \"pyarrow\" engine was added as an *experimental* engine, and some features\n",
      "            are unsupported, or may not work correctly, with this engine.\n",
      "    converters : dict, optional\n",
      "        Dict of functions for converting values in certain columns. Keys can either\n",
      "        be integers or column labels.\n",
      "    true_values : list, optional\n",
      "        Values to consider as True.\n",
      "    false_values : list, optional\n",
      "        Values to consider as False.\n",
      "    skipinitialspace : bool, default False\n",
      "        Skip spaces after delimiter.\n",
      "    skiprows : list-like, int or callable, optional\n",
      "        Line numbers to skip (0-indexed) or number of lines to skip (int)\n",
      "        at the start of the file.\n",
      "    \n",
      "        If callable, the callable function will be evaluated against the row\n",
      "        indices, returning True if the row should be skipped and False otherwise.\n",
      "        An example of a valid callable argument would be ``lambda x: x in [0, 2]``.\n",
      "    skipfooter : int, default 0\n",
      "        Number of lines at bottom of file to skip (Unsupported with engine='c').\n",
      "    nrows : int, optional\n",
      "        Number of rows of file to read. Useful for reading pieces of large files.\n",
      "    na_values : scalar, str, list-like, or dict, optional\n",
      "        Additional strings to recognize as NA/NaN. If dict passed, specific\n",
      "        per-column NA values.  By default the following values are interpreted as\n",
      "        NaN: '', '#N/A', '#N/A N/A', '#NA', '-1.#IND', '-1.#QNAN', '-NaN', '-nan',\n",
      "        '1.#IND', '1.#QNAN', '<NA>', 'N/A', 'NA', 'NULL', 'NaN', 'n/a',\n",
      "        'nan', 'null'.\n",
      "    keep_default_na : bool, default True\n",
      "        Whether or not to include the default NaN values when parsing the data.\n",
      "        Depending on whether `na_values` is passed in, the behavior is as follows:\n",
      "    \n",
      "        * If `keep_default_na` is True, and `na_values` are specified, `na_values`\n",
      "          is appended to the default NaN values used for parsing.\n",
      "        * If `keep_default_na` is True, and `na_values` are not specified, only\n",
      "          the default NaN values are used for parsing.\n",
      "        * If `keep_default_na` is False, and `na_values` are specified, only\n",
      "          the NaN values specified `na_values` are used for parsing.\n",
      "        * If `keep_default_na` is False, and `na_values` are not specified, no\n",
      "          strings will be parsed as NaN.\n",
      "    \n",
      "        Note that if `na_filter` is passed in as False, the `keep_default_na` and\n",
      "        `na_values` parameters will be ignored.\n",
      "    na_filter : bool, default True\n",
      "        Detect missing value markers (empty strings and the value of na_values). In\n",
      "        data without any NAs, passing na_filter=False can improve the performance\n",
      "        of reading a large file.\n",
      "    verbose : bool, default False\n",
      "        Indicate number of NA values placed in non-numeric columns.\n",
      "    skip_blank_lines : bool, default True\n",
      "        If True, skip over blank lines rather than interpreting as NaN values.\n",
      "    parse_dates : bool or list of int or names or list of lists or dict, default False\n",
      "        The behavior is as follows:\n",
      "    \n",
      "        * boolean. If True -> try parsing the index.\n",
      "        * list of int or names. e.g. If [1, 2, 3] -> try parsing columns 1, 2, 3\n",
      "          each as a separate date column.\n",
      "        * list of lists. e.g.  If [[1, 3]] -> combine columns 1 and 3 and parse as\n",
      "          a single date column.\n",
      "        * dict, e.g. {'foo' : [1, 3]} -> parse columns 1, 3 as date and call\n",
      "          result 'foo'\n",
      "    \n",
      "        If a column or index cannot be represented as an array of datetimes,\n",
      "        say because of an unparsable value or a mixture of timezones, the column\n",
      "        or index will be returned unaltered as an object data type. For\n",
      "        non-standard datetime parsing, use ``pd.to_datetime`` after\n",
      "        ``pd.read_csv``. To parse an index or column with a mixture of timezones,\n",
      "        specify ``date_parser`` to be a partially-applied\n",
      "        :func:`pandas.to_datetime` with ``utc=True``. See\n",
      "        :ref:`io.csv.mixed_timezones` for more.\n",
      "    \n",
      "        Note: A fast-path exists for iso8601-formatted dates.\n",
      "    infer_datetime_format : bool, default False\n",
      "        If True and `parse_dates` is enabled, pandas will attempt to infer the\n",
      "        format of the datetime strings in the columns, and if it can be inferred,\n",
      "        switch to a faster method of parsing them. In some cases this can increase\n",
      "        the parsing speed by 5-10x.\n",
      "    keep_date_col : bool, default False\n",
      "        If True and `parse_dates` specifies combining multiple columns then\n",
      "        keep the original columns.\n",
      "    date_parser : function, optional\n",
      "        Function to use for converting a sequence of string columns to an array of\n",
      "        datetime instances. The default uses ``dateutil.parser.parser`` to do the\n",
      "        conversion. Pandas will try to call `date_parser` in three different ways,\n",
      "        advancing to the next if an exception occurs: 1) Pass one or more arrays\n",
      "        (as defined by `parse_dates`) as arguments; 2) concatenate (row-wise) the\n",
      "        string values from the columns defined by `parse_dates` into a single array\n",
      "        and pass that; and 3) call `date_parser` once for each row using one or\n",
      "        more strings (corresponding to the columns defined by `parse_dates`) as\n",
      "        arguments.\n",
      "    dayfirst : bool, default False\n",
      "        DD/MM format dates, international and European format.\n",
      "    cache_dates : bool, default True\n",
      "        If True, use a cache of unique, converted dates to apply the datetime\n",
      "        conversion. May produce significant speed-up when parsing duplicate\n",
      "        date strings, especially ones with timezone offsets.\n",
      "    \n",
      "        .. versionadded:: 0.25.0\n",
      "    iterator : bool, default False\n",
      "        Return TextFileReader object for iteration or getting chunks with\n",
      "        ``get_chunk()``.\n",
      "    \n",
      "        .. versionchanged:: 1.2\n",
      "    \n",
      "           ``TextFileReader`` is a context manager.\n",
      "    chunksize : int, optional\n",
      "        Return TextFileReader object for iteration.\n",
      "        See the `IO Tools docs\n",
      "        <https://pandas.pydata.org/pandas-docs/stable/io.html#io-chunking>`_\n",
      "        for more information on ``iterator`` and ``chunksize``.\n",
      "    \n",
      "        .. versionchanged:: 1.2\n",
      "    \n",
      "           ``TextFileReader`` is a context manager.\n",
      "    compression : str or dict, default 'infer'\n",
      "        For on-the-fly decompression of on-disk data. If 'infer' and '%s' is\n",
      "        path-like, then detect compression from the following extensions: '.gz',\n",
      "        '.bz2', '.zip', '.xz', or '.zst' (otherwise no compression). If using\n",
      "        'zip', the ZIP file must contain only one data file to be read in. Set to\n",
      "        ``None`` for no decompression. Can also be a dict with key ``'method'`` set\n",
      "        to one of {``'zip'``, ``'gzip'``, ``'bz2'``, ``'zstd'``} and other\n",
      "        key-value pairs are forwarded to ``zipfile.ZipFile``, ``gzip.GzipFile``,\n",
      "        ``bz2.BZ2File``, or ``zstandard.ZstdDecompressor``, respectively. As an\n",
      "        example, the following could be passed for Zstandard decompression using a\n",
      "        custom compression dictionary:\n",
      "        ``compression={'method': 'zstd', 'dict_data': my_compression_dict}``.\n",
      "    \n",
      "        .. versionchanged:: 1.4.0 Zstandard support.\n",
      "    \n",
      "    thousands : str, optional\n",
      "        Thousands separator.\n",
      "    decimal : str, default '.'\n",
      "        Character to recognize as decimal point (e.g. use ',' for European data).\n",
      "    lineterminator : str (length 1), optional\n",
      "        Character to break file into lines. Only valid with C parser.\n",
      "    quotechar : str (length 1), optional\n",
      "        The character used to denote the start and end of a quoted item. Quoted\n",
      "        items can include the delimiter and it will be ignored.\n",
      "    quoting : int or csv.QUOTE_* instance, default 0\n",
      "        Control field quoting behavior per ``csv.QUOTE_*`` constants. Use one of\n",
      "        QUOTE_MINIMAL (0), QUOTE_ALL (1), QUOTE_NONNUMERIC (2) or QUOTE_NONE (3).\n",
      "    doublequote : bool, default ``True``\n",
      "       When quotechar is specified and quoting is not ``QUOTE_NONE``, indicate\n",
      "       whether or not to interpret two consecutive quotechar elements INSIDE a\n",
      "       field as a single ``quotechar`` element.\n",
      "    escapechar : str (length 1), optional\n",
      "        One-character string used to escape other characters.\n",
      "    comment : str, optional\n",
      "        Indicates remainder of line should not be parsed. If found at the beginning\n",
      "        of a line, the line will be ignored altogether. This parameter must be a\n",
      "        single character. Like empty lines (as long as ``skip_blank_lines=True``),\n",
      "        fully commented lines are ignored by the parameter `header` but not by\n",
      "        `skiprows`. For example, if ``comment='#'``, parsing\n",
      "        ``#empty\\na,b,c\\n1,2,3`` with ``header=0`` will result in 'a,b,c' being\n",
      "        treated as the header.\n",
      "    encoding : str, optional\n",
      "        Encoding to use for UTF when reading/writing (ex. 'utf-8'). `List of Python\n",
      "        standard encodings\n",
      "        <https://docs.python.org/3/library/codecs.html#standard-encodings>`_ .\n",
      "    \n",
      "        .. versionchanged:: 1.2\n",
      "    \n",
      "           When ``encoding`` is ``None``, ``errors=\"replace\"`` is passed to\n",
      "           ``open()``. Otherwise, ``errors=\"strict\"`` is passed to ``open()``.\n",
      "           This behavior was previously only the case for ``engine=\"python\"``.\n",
      "    \n",
      "        .. versionchanged:: 1.3.0\n",
      "    \n",
      "           ``encoding_errors`` is a new argument. ``encoding`` has no longer an\n",
      "           influence on how encoding errors are handled.\n",
      "    \n",
      "    encoding_errors : str, optional, default \"strict\"\n",
      "        How encoding errors are treated. `List of possible values\n",
      "        <https://docs.python.org/3/library/codecs.html#error-handlers>`_ .\n",
      "    \n",
      "        .. versionadded:: 1.3.0\n",
      "    \n",
      "    dialect : str or csv.Dialect, optional\n",
      "        If provided, this parameter will override values (default or not) for the\n",
      "        following parameters: `delimiter`, `doublequote`, `escapechar`,\n",
      "        `skipinitialspace`, `quotechar`, and `quoting`. If it is necessary to\n",
      "        override values, a ParserWarning will be issued. See csv.Dialect\n",
      "        documentation for more details.\n",
      "    error_bad_lines : bool, optional, default ``None``\n",
      "        Lines with too many fields (e.g. a csv line with too many commas) will by\n",
      "        default cause an exception to be raised, and no DataFrame will be returned.\n",
      "        If False, then these \"bad lines\" will be dropped from the DataFrame that is\n",
      "        returned.\n",
      "    \n",
      "        .. deprecated:: 1.3.0\n",
      "           The ``on_bad_lines`` parameter should be used instead to specify behavior upon\n",
      "           encountering a bad line instead.\n",
      "    warn_bad_lines : bool, optional, default ``None``\n",
      "        If error_bad_lines is False, and warn_bad_lines is True, a warning for each\n",
      "        \"bad line\" will be output.\n",
      "    \n",
      "        .. deprecated:: 1.3.0\n",
      "           The ``on_bad_lines`` parameter should be used instead to specify behavior upon\n",
      "           encountering a bad line instead.\n",
      "    on_bad_lines : {'error', 'warn', 'skip'} or callable, default 'error'\n",
      "        Specifies what to do upon encountering a bad line (a line with too many fields).\n",
      "        Allowed values are :\n",
      "    \n",
      "            - 'error', raise an Exception when a bad line is encountered.\n",
      "            - 'warn', raise a warning when a bad line is encountered and skip that line.\n",
      "            - 'skip', skip bad lines without raising or warning when they are encountered.\n",
      "    \n",
      "        .. versionadded:: 1.3.0\n",
      "    \n",
      "            - callable, function with signature\n",
      "              ``(bad_line: list[str]) -> list[str] | None`` that will process a single\n",
      "              bad line. ``bad_line`` is a list of strings split by the ``sep``.\n",
      "              If the function returns ``None``, the bad line will be ignored.\n",
      "              If the function returns a new list of strings with more elements than\n",
      "              expected, a ``ParserWarning`` will be emitted while dropping extra elements.\n",
      "              Only supported when ``engine=\"python\"``\n",
      "    \n",
      "        .. versionadded:: 1.4.0\n",
      "    \n",
      "    delim_whitespace : bool, default False\n",
      "        Specifies whether or not whitespace (e.g. ``' '`` or ``'    '``) will be\n",
      "        used as the sep. Equivalent to setting ``sep='\\s+'``. If this option\n",
      "        is set to True, nothing should be passed in for the ``delimiter``\n",
      "        parameter.\n",
      "    low_memory : bool, default True\n",
      "        Internally process the file in chunks, resulting in lower memory use\n",
      "        while parsing, but possibly mixed type inference.  To ensure no mixed\n",
      "        types either set False, or specify the type with the `dtype` parameter.\n",
      "        Note that the entire file is read into a single DataFrame regardless,\n",
      "        use the `chunksize` or `iterator` parameter to return the data in chunks.\n",
      "        (Only valid with C parser).\n",
      "    memory_map : bool, default False\n",
      "        If a filepath is provided for `filepath_or_buffer`, map the file object\n",
      "        directly onto memory and access the data directly from there. Using this\n",
      "        option can improve performance because there is no longer any I/O overhead.\n",
      "    float_precision : str, optional\n",
      "        Specifies which converter the C engine should use for floating-point\n",
      "        values. The options are ``None`` or 'high' for the ordinary converter,\n",
      "        'legacy' for the original lower precision pandas converter, and\n",
      "        'round_trip' for the round-trip converter.\n",
      "    \n",
      "        .. versionchanged:: 1.2\n",
      "    \n",
      "    storage_options : dict, optional\n",
      "        Extra options that make sense for a particular storage connection, e.g.\n",
      "        host, port, username, password, etc. For HTTP(S) URLs the key-value pairs\n",
      "        are forwarded to ``urllib`` as header options. For other URLs (e.g.\n",
      "        starting with \"s3://\", and \"gcs://\") the key-value pairs are forwarded to\n",
      "        ``fsspec``. Please see ``fsspec`` and ``urllib`` for more details.\n",
      "    \n",
      "        .. versionadded:: 1.2\n",
      "    \n",
      "    Returns\n",
      "    -------\n",
      "    DataFrame or TextParser\n",
      "        A comma-separated values (csv) file is returned as two-dimensional\n",
      "        data structure with labeled axes.\n",
      "    \n",
      "    See Also\n",
      "    --------\n",
      "    DataFrame.to_csv : Write DataFrame to a comma-separated values (csv) file.\n",
      "    read_csv : Read a comma-separated values (csv) file into DataFrame.\n",
      "    read_fwf : Read a table of fixed-width formatted lines into DataFrame.\n",
      "    \n",
      "    Examples\n",
      "    --------\n",
      "    >>> pd.read_csv('data.csv')  # doctest: +SKIP\n",
      "\n"
     ]
    }
   ],
   "source": [
    "help(pd.read_csv)"
   ]
  },
  {
   "cell_type": "markdown",
   "metadata": {},
   "source": [
    "# EXERCISE : Shortcuts Practicing\n",
    "\n",
    "Picking up a few shortcuts will speed up your code typing by great deal.  \n",
    "\n",
    "You have 3 minutes to practice the above mentioned keyboard shortcuts.\n"
   ]
  },
  {
   "cell_type": "code",
   "execution_count": 15,
   "metadata": {},
   "outputs": [
    {
     "name": "stdout",
     "output_type": "stream",
     "text": [
      "hello #1\n"
     ]
    }
   ],
   "source": [
    "print(\"hello #1\") # this this cell with the next cell"
   ]
  },
  {
   "cell_type": "code",
   "execution_count": 16,
   "metadata": {},
   "outputs": [
    {
     "name": "stdout",
     "output_type": "stream",
     "text": [
      "hello #2\n"
     ]
    }
   ],
   "source": [
    "print(\"hello #2\")"
   ]
  },
  {
   "cell_type": "code",
   "execution_count": 17,
   "metadata": {},
   "outputs": [
    {
     "name": "stdout",
     "output_type": "stream",
     "text": [
      "hello #3\n",
      "hello #4\n"
     ]
    }
   ],
   "source": [
    "print(\"hello #3\")\n",
    "# split cell from here\n",
    "print(\"hello #4\")"
   ]
  },
  {
   "cell_type": "markdown",
   "metadata": {},
   "source": [
    "Type `print` and followed by pressing `SHIFT + TAB`"
   ]
  },
  {
   "cell_type": "code",
   "execution_count": 18,
   "metadata": {},
   "outputs": [
    {
     "name": "stdout",
     "output_type": "stream",
     "text": [
      "\n"
     ]
    }
   ],
   "source": [
    "print()"
   ]
  },
  {
   "cell_type": "code",
   "execution_count": 19,
   "metadata": {},
   "outputs": [],
   "source": [
    "address = \"Hong Kong\""
   ]
  },
  {
   "cell_type": "markdown",
   "metadata": {},
   "source": [
    "Type `address.` and followed by pressing `TAB` key\n",
    "you will see a list of function that can be applied to a string type"
   ]
  },
  {
   "cell_type": "code",
   "execution_count": null,
   "metadata": {},
   "outputs": [],
   "source": []
  },
  {
   "cell_type": "markdown",
   "metadata": {},
   "source": [
    "# Markdown"
   ]
  },
  {
   "cell_type": "markdown",
   "metadata": {},
   "source": [
    "## What is Markdown\n",
    "\n",
    "Markdown is a lightweight markup language that you can use to add formatting elements to plaintext text documents.\n",
    "\n",
    "Markdown is widely used in Jupyter Notebook for adding descriptive contents and instructions."
   ]
  },
  {
   "cell_type": "markdown",
   "metadata": {},
   "source": [
    "## Basic Syntax\n",
    "\n",
    "![Markdown Cheat Sheet](https://res.cloudinary.com/practicaldev/image/fetch/s--2rTn_7XO--/c_limit%2Cf_auto%2Cfl_progressive%2Cq_auto%2Cw_880/https://dev-to-uploads.s3.amazonaws.com/i/5zhubbpov3m3ly9a1t9c.png)"
   ]
  },
  {
   "cell_type": "markdown",
   "metadata": {},
   "source": [
    "## More on Markdown\n",
    "\n",
    "[More Markdown Syntax](https://www.markdownguide.org/basic-syntax/)"
   ]
  },
  {
   "cell_type": "markdown",
   "metadata": {},
   "source": [
    "## Markdown Playground \n",
    "\n",
    "The following page let you type markdown and provide instant live rendering/preview\n",
    "\n",
    "[dillinger.io](https://dillinger.io/)"
   ]
  },
  {
   "cell_type": "markdown",
   "metadata": {},
   "source": [
    "# EXERCISE: Markdown Practicing"
   ]
  },
  {
   "cell_type": "code",
   "execution_count": null,
   "metadata": {},
   "outputs": [],
   "source": []
  },
  {
   "cell_type": "code",
   "execution_count": null,
   "metadata": {},
   "outputs": [],
   "source": []
  },
  {
   "cell_type": "code",
   "execution_count": null,
   "metadata": {},
   "outputs": [],
   "source": []
  },
  {
   "cell_type": "markdown",
   "metadata": {},
   "source": [
    "# IPython Magic Commands\n",
    "\n",
    "**A few common magic commands**\n",
    "\n",
    "* `%pwd`: shows working directory\n",
    "* `%ls`: lists the files/folders under current directory\n",
    "* `%cd`: change the working directory to certain folder\n",
    "\n",
    "\n",
    "**To list all the IPython magic commands, type**\n",
    "```\n",
    "%lsmagic\n",
    "```"
   ]
  },
  {
   "cell_type": "code",
   "execution_count": 20,
   "metadata": {},
   "outputs": [
    {
     "data": {
      "text/plain": [
       "'/Users/sunnyng/Dev/PythonInter'"
      ]
     },
     "execution_count": 20,
     "metadata": {},
     "output_type": "execute_result"
    }
   ],
   "source": [
    "%pwd"
   ]
  },
  {
   "cell_type": "code",
   "execution_count": null,
   "metadata": {},
   "outputs": [],
   "source": []
  },
  {
   "cell_type": "code",
   "execution_count": null,
   "metadata": {},
   "outputs": [],
   "source": []
  },
  {
   "cell_type": "markdown",
   "metadata": {},
   "source": [
    "# Delete a variable from kernel\n",
    "\n",
    "Use the following command to delete variable from environment\n",
    "\n",
    "`del varaialb_name`\n",
    "\n",
    "e.g.:\n",
    "\n",
    "```\n",
    "greeting = \"hello from Sunny\"\n",
    "print(greeting)\n",
    "del greeting\n",
    "print(greeting) # since greeting is deleted, this line will throw an error\n",
    "\n",
    "```"
   ]
  },
  {
   "cell_type": "code",
   "execution_count": 22,
   "metadata": {},
   "outputs": [],
   "source": [
    "greeting = \"hello from sunny\""
   ]
  },
  {
   "cell_type": "code",
   "execution_count": 23,
   "metadata": {},
   "outputs": [
    {
     "name": "stdout",
     "output_type": "stream",
     "text": [
      "hello from sunny\n"
     ]
    }
   ],
   "source": [
    "print(greeting)"
   ]
  },
  {
   "cell_type": "code",
   "execution_count": 24,
   "metadata": {},
   "outputs": [],
   "source": [
    "del greeting"
   ]
  },
  {
   "cell_type": "markdown",
   "metadata": {},
   "source": [
    "# Pandas `DataFrame`\n",
    "\n",
    "A `DataFrame` is a two dimensional data structure.  \n",
    "\n",
    "It's one of the most widely used format for data science.\n",
    "\n",
    "**To declare a dataframe, use `pd.DataFrame()` function**:\n",
    "```\n",
    "students = pd.DataFrame({\n",
    "    \"Name\": [\"Andy\", \"Ben\", \"Cathy\", \"Debra\", \"Eva\"],\n",
    "    \"Age\": [20, 22, 23, 22, 21],\n",
    "    \"Sex\": [\"male\", \"male\", \"female\", \"female\", \"female\"],\n",
    "    \"Year\": [1, 3, 4, 3, 2]\n",
    "})\n",
    "```\n",
    "\n",
    "**Check the type by using `type()` function**\n",
    "```\n",
    "print(type(students)) # it returns pandas.core.frame.DataFrame\n",
    "\n",
    "```\n",
    "**In real situation**\n",
    "- When we need to use `DataFrame`, they are seldom loaded like above.\n",
    "- Instead, we usually import data from external files like csv, excel, json"
   ]
  },
  {
   "cell_type": "code",
   "execution_count": 2,
   "metadata": {},
   "outputs": [],
   "source": [
    "students = pd.DataFrame({\n",
    "    \"Name\": [\"Andy\", \"Ben\", \"Cathy\", \"Debra\", \"Eva\"],\n",
    "    \"Age\": [20, 22, 23, 22, 21],\n",
    "    \"Sex\": [\"male\", \"male\", \"female\", \"female\", \"female\"],\n",
    "    \"Year\": [1, 3, 4, 3, 2]\n",
    "})"
   ]
  },
  {
   "cell_type": "code",
   "execution_count": 5,
   "metadata": {},
   "outputs": [
    {
     "data": {
      "text/html": [
       "<div>\n",
       "<style scoped>\n",
       "    .dataframe tbody tr th:only-of-type {\n",
       "        vertical-align: middle;\n",
       "    }\n",
       "\n",
       "    .dataframe tbody tr th {\n",
       "        vertical-align: top;\n",
       "    }\n",
       "\n",
       "    .dataframe thead th {\n",
       "        text-align: right;\n",
       "    }\n",
       "</style>\n",
       "<table border=\"1\" class=\"dataframe\">\n",
       "  <thead>\n",
       "    <tr style=\"text-align: right;\">\n",
       "      <th></th>\n",
       "      <th>Name</th>\n",
       "      <th>Age</th>\n",
       "      <th>Sex</th>\n",
       "      <th>Year</th>\n",
       "    </tr>\n",
       "  </thead>\n",
       "  <tbody>\n",
       "    <tr>\n",
       "      <th>0</th>\n",
       "      <td>Andy</td>\n",
       "      <td>20</td>\n",
       "      <td>male</td>\n",
       "      <td>1</td>\n",
       "    </tr>\n",
       "    <tr>\n",
       "      <th>1</th>\n",
       "      <td>Ben</td>\n",
       "      <td>22</td>\n",
       "      <td>male</td>\n",
       "      <td>3</td>\n",
       "    </tr>\n",
       "    <tr>\n",
       "      <th>2</th>\n",
       "      <td>Cathy</td>\n",
       "      <td>23</td>\n",
       "      <td>female</td>\n",
       "      <td>4</td>\n",
       "    </tr>\n",
       "    <tr>\n",
       "      <th>3</th>\n",
       "      <td>Debra</td>\n",
       "      <td>22</td>\n",
       "      <td>female</td>\n",
       "      <td>3</td>\n",
       "    </tr>\n",
       "    <tr>\n",
       "      <th>4</th>\n",
       "      <td>Eva</td>\n",
       "      <td>21</td>\n",
       "      <td>female</td>\n",
       "      <td>2</td>\n",
       "    </tr>\n",
       "  </tbody>\n",
       "</table>\n",
       "</div>"
      ],
      "text/plain": [
       "    Name  Age     Sex  Year\n",
       "0   Andy   20    male     1\n",
       "1    Ben   22    male     3\n",
       "2  Cathy   23  female     4\n",
       "3  Debra   22  female     3\n",
       "4    Eva   21  female     2"
      ]
     },
     "execution_count": 5,
     "metadata": {},
     "output_type": "execute_result"
    }
   ],
   "source": [
    "students"
   ]
  },
  {
   "cell_type": "code",
   "execution_count": 27,
   "metadata": {},
   "outputs": [
    {
     "name": "stdout",
     "output_type": "stream",
     "text": [
      "<class 'pandas.core.frame.DataFrame'>\n"
     ]
    }
   ],
   "source": [
    "print(type(students))"
   ]
  },
  {
   "cell_type": "markdown",
   "metadata": {},
   "source": [
    "# `DataFrame` Information\n",
    "\n",
    "* `students.shape` #returns the dimension of data-frame in the form of tuple\n",
    "* `students.shape[0]` #retrieves the first elememnt of the returned tuple.  it represents the number of row\n",
    "* `students.info()` #returns the detailed information for a data-frame\n",
    "* `students.describe()` #shows the basic statistical summary such as min, max, average of a column (only for numeric columns)\n"
   ]
  },
  {
   "cell_type": "code",
   "execution_count": 28,
   "metadata": {},
   "outputs": [
    {
     "data": {
      "text/plain": [
       "(5, 4)"
      ]
     },
     "execution_count": 28,
     "metadata": {},
     "output_type": "execute_result"
    }
   ],
   "source": [
    "students.shape"
   ]
  },
  {
   "cell_type": "code",
   "execution_count": 29,
   "metadata": {},
   "outputs": [
    {
     "data": {
      "text/plain": [
       "5"
      ]
     },
     "execution_count": 29,
     "metadata": {},
     "output_type": "execute_result"
    }
   ],
   "source": [
    "students.shape[0]"
   ]
  },
  {
   "cell_type": "code",
   "execution_count": 30,
   "metadata": {},
   "outputs": [
    {
     "name": "stdout",
     "output_type": "stream",
     "text": [
      "<class 'pandas.core.frame.DataFrame'>\n",
      "RangeIndex: 5 entries, 0 to 4\n",
      "Data columns (total 4 columns):\n",
      " #   Column  Non-Null Count  Dtype \n",
      "---  ------  --------------  ----- \n",
      " 0   Name    5 non-null      object\n",
      " 1   Age     5 non-null      int64 \n",
      " 2   Sex     5 non-null      object\n",
      " 3   Year    5 non-null      int64 \n",
      "dtypes: int64(2), object(2)\n",
      "memory usage: 288.0+ bytes\n"
     ]
    }
   ],
   "source": [
    "students.info()"
   ]
  },
  {
   "cell_type": "code",
   "execution_count": 31,
   "metadata": {},
   "outputs": [
    {
     "data": {
      "text/html": [
       "<div>\n",
       "<style scoped>\n",
       "    .dataframe tbody tr th:only-of-type {\n",
       "        vertical-align: middle;\n",
       "    }\n",
       "\n",
       "    .dataframe tbody tr th {\n",
       "        vertical-align: top;\n",
       "    }\n",
       "\n",
       "    .dataframe thead th {\n",
       "        text-align: right;\n",
       "    }\n",
       "</style>\n",
       "<table border=\"1\" class=\"dataframe\">\n",
       "  <thead>\n",
       "    <tr style=\"text-align: right;\">\n",
       "      <th></th>\n",
       "      <th>Age</th>\n",
       "      <th>Year</th>\n",
       "    </tr>\n",
       "  </thead>\n",
       "  <tbody>\n",
       "    <tr>\n",
       "      <th>count</th>\n",
       "      <td>5.000000</td>\n",
       "      <td>5.000000</td>\n",
       "    </tr>\n",
       "    <tr>\n",
       "      <th>mean</th>\n",
       "      <td>21.600000</td>\n",
       "      <td>2.600000</td>\n",
       "    </tr>\n",
       "    <tr>\n",
       "      <th>std</th>\n",
       "      <td>1.140175</td>\n",
       "      <td>1.140175</td>\n",
       "    </tr>\n",
       "    <tr>\n",
       "      <th>min</th>\n",
       "      <td>20.000000</td>\n",
       "      <td>1.000000</td>\n",
       "    </tr>\n",
       "    <tr>\n",
       "      <th>25%</th>\n",
       "      <td>21.000000</td>\n",
       "      <td>2.000000</td>\n",
       "    </tr>\n",
       "    <tr>\n",
       "      <th>50%</th>\n",
       "      <td>22.000000</td>\n",
       "      <td>3.000000</td>\n",
       "    </tr>\n",
       "    <tr>\n",
       "      <th>75%</th>\n",
       "      <td>22.000000</td>\n",
       "      <td>3.000000</td>\n",
       "    </tr>\n",
       "    <tr>\n",
       "      <th>max</th>\n",
       "      <td>23.000000</td>\n",
       "      <td>4.000000</td>\n",
       "    </tr>\n",
       "  </tbody>\n",
       "</table>\n",
       "</div>"
      ],
      "text/plain": [
       "             Age      Year\n",
       "count   5.000000  5.000000\n",
       "mean   21.600000  2.600000\n",
       "std     1.140175  1.140175\n",
       "min    20.000000  1.000000\n",
       "25%    21.000000  2.000000\n",
       "50%    22.000000  3.000000\n",
       "75%    22.000000  3.000000\n",
       "max    23.000000  4.000000"
      ]
     },
     "execution_count": 31,
     "metadata": {},
     "output_type": "execute_result"
    }
   ],
   "source": [
    "students.describe()"
   ]
  },
  {
   "cell_type": "markdown",
   "metadata": {},
   "source": [
    "## Converting pandas dataframe to numpy array\n",
    "\n",
    "Many functions only accept numpy array or python dictionary as arguments.  \n",
    "\n",
    "In these cases, type conversion is required.\n",
    "\n",
    "To convert dataframe to numpy array\n",
    "```\n",
    "students.to_numpy()\n",
    "students.values\n",
    "```\n",
    "\n",
    "To convert dataframe to Python dictionary\n",
    "```\n",
    "students.to_dict()\n",
    "```"
   ]
  },
  {
   "cell_type": "code",
   "execution_count": 32,
   "metadata": {},
   "outputs": [
    {
     "data": {
      "text/plain": [
       "array([['Andy', 20, 'male', 1],\n",
       "       ['Ben', 22, 'male', 3],\n",
       "       ['Cathy', 23, 'female', 4],\n",
       "       ['Debra', 22, 'female', 3],\n",
       "       ['Eva', 21, 'female', 2]], dtype=object)"
      ]
     },
     "execution_count": 32,
     "metadata": {},
     "output_type": "execute_result"
    }
   ],
   "source": [
    "students.to_numpy()"
   ]
  },
  {
   "cell_type": "code",
   "execution_count": 33,
   "metadata": {},
   "outputs": [
    {
     "data": {
      "text/plain": [
       "array([['Andy', 20, 'male', 1],\n",
       "       ['Ben', 22, 'male', 3],\n",
       "       ['Cathy', 23, 'female', 4],\n",
       "       ['Debra', 22, 'female', 3],\n",
       "       ['Eva', 21, 'female', 2]], dtype=object)"
      ]
     },
     "execution_count": 33,
     "metadata": {},
     "output_type": "execute_result"
    }
   ],
   "source": [
    "students.values"
   ]
  },
  {
   "cell_type": "code",
   "execution_count": 34,
   "metadata": {},
   "outputs": [
    {
     "data": {
      "text/plain": [
       "{'Name': {0: 'Andy', 1: 'Ben', 2: 'Cathy', 3: 'Debra', 4: 'Eva'},\n",
       " 'Age': {0: 20, 1: 22, 2: 23, 3: 22, 4: 21},\n",
       " 'Sex': {0: 'male', 1: 'male', 2: 'female', 3: 'female', 4: 'female'},\n",
       " 'Year': {0: 1, 1: 3, 2: 4, 3: 3, 4: 2}}"
      ]
     },
     "execution_count": 34,
     "metadata": {},
     "output_type": "execute_result"
    }
   ],
   "source": [
    "students.to_dict()"
   ]
  },
  {
   "cell_type": "markdown",
   "metadata": {},
   "source": [
    "# Selecting Column(s)"
   ]
  },
  {
   "cell_type": "markdown",
   "metadata": {},
   "source": [
    "## To Select a Column \n",
    "\n",
    "Specify a **column name** (in string) to indicate which column you want to retrieve\n",
    "\n",
    "**Example**\n",
    "```\n",
    "students['Name']\n",
    "name = students['Name']\n",
    "print(type(name)) # returns pandas.core.series.Series\n",
    "```\n",
    "\n",
    "A Pandas Series is like a column in a table.\n",
    "\n",
    "It is a one-dimensional array holding data of any type."
   ]
  },
  {
   "cell_type": "code",
   "execution_count": 35,
   "metadata": {},
   "outputs": [
    {
     "data": {
      "text/plain": [
       "0     Andy\n",
       "1      Ben\n",
       "2    Cathy\n",
       "3    Debra\n",
       "4      Eva\n",
       "Name: Name, dtype: object"
      ]
     },
     "execution_count": 35,
     "metadata": {},
     "output_type": "execute_result"
    }
   ],
   "source": [
    "students['Name']\n",
    "names = students['Name']\n",
    "names"
   ]
  },
  {
   "cell_type": "code",
   "execution_count": 36,
   "metadata": {},
   "outputs": [
    {
     "name": "stdout",
     "output_type": "stream",
     "text": [
      "<class 'pandas.core.series.Series'>\n"
     ]
    }
   ],
   "source": [
    "print(type(names)) # returns pandas.core.series.Series"
   ]
  },
  {
   "cell_type": "markdown",
   "metadata": {},
   "source": [
    "## Retrieving Multiple Columns\n",
    "Use `[]` (square bracket) with a column names (in string) to indicate which columns you want to retrieve\n",
    "\n",
    "**Example**\n",
    "\n",
    "* `columns = ['Name', 'Year']` # declare the columns you want in a list\n",
    "* `print(students[columns])` # pass the column list as paramenter to the dataframe\n",
    "* `print(type(students[columns]))` # Returns **pandas.core.frame.DataFrame**\n",
    "\n",
    "A quick hand to write the above code is using **double** square brackets\n",
    "```\n",
    "name_and_year = students[['Name', 'Year']] # doubled square bracket are used here\n",
    "print(type(name_and_year)) # Returns **pandas.core.frame.DataFrame**\n",
    "```\n",
    "**Below is a mistake**\n",
    "```\n",
    "name_and_year = students['Name', 'Year'] # this is a mistake\n",
    "```"
   ]
  },
  {
   "cell_type": "code",
   "execution_count": 37,
   "metadata": {},
   "outputs": [
    {
     "name": "stdout",
     "output_type": "stream",
     "text": [
      "    Name  Year\n",
      "0   Andy     1\n",
      "1    Ben     3\n",
      "2  Cathy     4\n",
      "3  Debra     3\n",
      "4    Eva     2\n",
      "<class 'pandas.core.frame.DataFrame'>\n"
     ]
    }
   ],
   "source": [
    "columns = ['Name', 'Year'] #declare the columns you want in a list\n",
    "print(students[columns]) #pass the column list as paramenter to the dataframe\n",
    "print(type(students[columns])) #Returns pandas.core.frame.DataFrame"
   ]
  },
  {
   "cell_type": "code",
   "execution_count": 38,
   "metadata": {},
   "outputs": [
    {
     "name": "stdout",
     "output_type": "stream",
     "text": [
      "    Name  Year\n",
      "0   Andy     1\n",
      "1    Ben     3\n",
      "2  Cathy     4\n",
      "3  Debra     3\n",
      "4    Eva     2\n"
     ]
    }
   ],
   "source": [
    "students[['Name', 'Year']] \n",
    "name_and_year = students[['Name', 'Year']]\n",
    "print(name_and_year)"
   ]
  },
  {
   "cell_type": "code",
   "execution_count": 39,
   "metadata": {},
   "outputs": [
    {
     "name": "stdout",
     "output_type": "stream",
     "text": [
      "<class 'pandas.core.frame.DataFrame'>\n"
     ]
    }
   ],
   "source": [
    "print(type(name_and_year))"
   ]
  },
  {
   "cell_type": "markdown",
   "metadata": {},
   "source": [
    "# Selecting Row(s)"
   ]
  },
  {
   "cell_type": "markdown",
   "metadata": {},
   "source": [
    "## Use `loc[]` to Locate Row\n",
    "Pandas use the `loc` attribute to return one or more specified row(s)\n",
    "\n",
    "Example:\n",
    "```\n",
    "students.loc[0] # specify by row number\n",
    "students.loc[1] # specify by row number\n",
    "type(students.loc[0]) # returns pandas.core.series.Series\n",
    "```"
   ]
  },
  {
   "cell_type": "code",
   "execution_count": 40,
   "metadata": {},
   "outputs": [
    {
     "data": {
      "text/plain": [
       "Name    Andy\n",
       "Age       20\n",
       "Sex     male\n",
       "Year       1\n",
       "Name: 0, dtype: object"
      ]
     },
     "execution_count": 40,
     "metadata": {},
     "output_type": "execute_result"
    }
   ],
   "source": [
    "students.loc[0]"
   ]
  },
  {
   "cell_type": "code",
   "execution_count": 41,
   "metadata": {},
   "outputs": [
    {
     "data": {
      "text/plain": [
       "Name     Ben\n",
       "Age       22\n",
       "Sex     male\n",
       "Year       3\n",
       "Name: 1, dtype: object"
      ]
     },
     "execution_count": 41,
     "metadata": {},
     "output_type": "execute_result"
    }
   ],
   "source": [
    "students.loc[1]"
   ]
  },
  {
   "cell_type": "code",
   "execution_count": 42,
   "metadata": {},
   "outputs": [
    {
     "data": {
      "text/plain": [
       "pandas.core.series.Series"
      ]
     },
     "execution_count": 42,
     "metadata": {},
     "output_type": "execute_result"
    }
   ],
   "source": [
    "type(students.loc[0]) # returns pandas.core.series.Series"
   ]
  },
  {
   "cell_type": "markdown",
   "metadata": {},
   "source": [
    "## Alternative to Locate Multiple Rows\n",
    "Provide a list of row number: `[0, 2]`\n",
    "\n",
    "**Example**:\n",
    "```\n",
    "rows = [0, 2] # defines a list of row number separated by comma\n",
    "students.loc[rows] # use the defined row numbers as parameter for loc[]\n",
    "```\n",
    "\n",
    "**Or simplified it by one liner**:\n",
    "```\n",
    "students.loc[[0, 2]]\n",
    "type(students.loc[[0, 2]])\n",
    "```\n",
    "\n",
    "**Below is a mistake**\n",
    "```\n",
    "students.loc[0, 2] # have to use double pairs of squar brackets\n",
    "```\n"
   ]
  },
  {
   "cell_type": "code",
   "execution_count": 43,
   "metadata": {},
   "outputs": [
    {
     "data": {
      "text/html": [
       "<div>\n",
       "<style scoped>\n",
       "    .dataframe tbody tr th:only-of-type {\n",
       "        vertical-align: middle;\n",
       "    }\n",
       "\n",
       "    .dataframe tbody tr th {\n",
       "        vertical-align: top;\n",
       "    }\n",
       "\n",
       "    .dataframe thead th {\n",
       "        text-align: right;\n",
       "    }\n",
       "</style>\n",
       "<table border=\"1\" class=\"dataframe\">\n",
       "  <thead>\n",
       "    <tr style=\"text-align: right;\">\n",
       "      <th></th>\n",
       "      <th>Name</th>\n",
       "      <th>Age</th>\n",
       "      <th>Sex</th>\n",
       "      <th>Year</th>\n",
       "    </tr>\n",
       "  </thead>\n",
       "  <tbody>\n",
       "    <tr>\n",
       "      <th>0</th>\n",
       "      <td>Andy</td>\n",
       "      <td>20</td>\n",
       "      <td>male</td>\n",
       "      <td>1</td>\n",
       "    </tr>\n",
       "    <tr>\n",
       "      <th>2</th>\n",
       "      <td>Cathy</td>\n",
       "      <td>23</td>\n",
       "      <td>female</td>\n",
       "      <td>4</td>\n",
       "    </tr>\n",
       "  </tbody>\n",
       "</table>\n",
       "</div>"
      ],
      "text/plain": [
       "    Name  Age     Sex  Year\n",
       "0   Andy   20    male     1\n",
       "2  Cathy   23  female     4"
      ]
     },
     "execution_count": 43,
     "metadata": {},
     "output_type": "execute_result"
    }
   ],
   "source": [
    "students.loc[[0, 2]]"
   ]
  },
  {
   "cell_type": "code",
   "execution_count": 44,
   "metadata": {},
   "outputs": [
    {
     "data": {
      "text/plain": [
       "pandas.core.frame.DataFrame"
      ]
     },
     "execution_count": 44,
     "metadata": {},
     "output_type": "execute_result"
    }
   ],
   "source": [
    "type(students.loc[[0, 2]])"
   ]
  },
  {
   "cell_type": "markdown",
   "metadata": {},
   "source": [
    "## Retrieving Rows with Range\n",
    "- Provide the starting row number and ending row number\n",
    "- Use `:` to separate the starting row number and ending row number\n",
    "\n",
    "Example:\n",
    "\n",
    "* `students.loc[0:2]`  # selecting from position 0 to 2 (inclusive)\n",
    "* `students.loc[:2]` # omitting the starting index. selecting from position 0 to 2 \n",
    "* `students.loc[2:]` # omitting the ending index. selecting from position 2 all the way to the end\n",
    "\n",
    "Short hand:\n",
    "(Works a bit different. It's exclusive. The end index is NOT included in the result)\n",
    "\n",
    "* `students[0:2]` # from position 0 to 1. End index (row 2) is NOT included.\n",
    "* `students[:2]` \n",
    "* `students[2:]` # from position 2 to the end\n",
    "\n"
   ]
  },
  {
   "cell_type": "code",
   "execution_count": 6,
   "metadata": {},
   "outputs": [
    {
     "data": {
      "text/html": [
       "<div>\n",
       "<style scoped>\n",
       "    .dataframe tbody tr th:only-of-type {\n",
       "        vertical-align: middle;\n",
       "    }\n",
       "\n",
       "    .dataframe tbody tr th {\n",
       "        vertical-align: top;\n",
       "    }\n",
       "\n",
       "    .dataframe thead th {\n",
       "        text-align: right;\n",
       "    }\n",
       "</style>\n",
       "<table border=\"1\" class=\"dataframe\">\n",
       "  <thead>\n",
       "    <tr style=\"text-align: right;\">\n",
       "      <th></th>\n",
       "      <th>Name</th>\n",
       "      <th>Age</th>\n",
       "      <th>Sex</th>\n",
       "      <th>Year</th>\n",
       "    </tr>\n",
       "  </thead>\n",
       "  <tbody>\n",
       "    <tr>\n",
       "      <th>0</th>\n",
       "      <td>Andy</td>\n",
       "      <td>20</td>\n",
       "      <td>male</td>\n",
       "      <td>1</td>\n",
       "    </tr>\n",
       "    <tr>\n",
       "      <th>1</th>\n",
       "      <td>Ben</td>\n",
       "      <td>22</td>\n",
       "      <td>male</td>\n",
       "      <td>3</td>\n",
       "    </tr>\n",
       "    <tr>\n",
       "      <th>2</th>\n",
       "      <td>Cathy</td>\n",
       "      <td>23</td>\n",
       "      <td>female</td>\n",
       "      <td>4</td>\n",
       "    </tr>\n",
       "  </tbody>\n",
       "</table>\n",
       "</div>"
      ],
      "text/plain": [
       "    Name  Age     Sex  Year\n",
       "0   Andy   20    male     1\n",
       "1    Ben   22    male     3\n",
       "2  Cathy   23  female     4"
      ]
     },
     "execution_count": 6,
     "metadata": {},
     "output_type": "execute_result"
    }
   ],
   "source": [
    "students.loc[0:2] # selecting from position 0 to 2 (inclusive)"
   ]
  },
  {
   "cell_type": "code",
   "execution_count": 7,
   "metadata": {},
   "outputs": [
    {
     "data": {
      "text/html": [
       "<div>\n",
       "<style scoped>\n",
       "    .dataframe tbody tr th:only-of-type {\n",
       "        vertical-align: middle;\n",
       "    }\n",
       "\n",
       "    .dataframe tbody tr th {\n",
       "        vertical-align: top;\n",
       "    }\n",
       "\n",
       "    .dataframe thead th {\n",
       "        text-align: right;\n",
       "    }\n",
       "</style>\n",
       "<table border=\"1\" class=\"dataframe\">\n",
       "  <thead>\n",
       "    <tr style=\"text-align: right;\">\n",
       "      <th></th>\n",
       "      <th>Name</th>\n",
       "      <th>Age</th>\n",
       "      <th>Sex</th>\n",
       "      <th>Year</th>\n",
       "    </tr>\n",
       "  </thead>\n",
       "  <tbody>\n",
       "    <tr>\n",
       "      <th>0</th>\n",
       "      <td>Andy</td>\n",
       "      <td>20</td>\n",
       "      <td>male</td>\n",
       "      <td>1</td>\n",
       "    </tr>\n",
       "    <tr>\n",
       "      <th>1</th>\n",
       "      <td>Ben</td>\n",
       "      <td>22</td>\n",
       "      <td>male</td>\n",
       "      <td>3</td>\n",
       "    </tr>\n",
       "  </tbody>\n",
       "</table>\n",
       "</div>"
      ],
      "text/plain": [
       "   Name  Age   Sex  Year\n",
       "0  Andy   20  male     1\n",
       "1   Ben   22  male     3"
      ]
     },
     "execution_count": 7,
     "metadata": {},
     "output_type": "execute_result"
    }
   ],
   "source": [
    "students[0:2]"
   ]
  },
  {
   "cell_type": "code",
   "execution_count": 47,
   "metadata": {},
   "outputs": [
    {
     "data": {
      "text/html": [
       "<div>\n",
       "<style scoped>\n",
       "    .dataframe tbody tr th:only-of-type {\n",
       "        vertical-align: middle;\n",
       "    }\n",
       "\n",
       "    .dataframe tbody tr th {\n",
       "        vertical-align: top;\n",
       "    }\n",
       "\n",
       "    .dataframe thead th {\n",
       "        text-align: right;\n",
       "    }\n",
       "</style>\n",
       "<table border=\"1\" class=\"dataframe\">\n",
       "  <thead>\n",
       "    <tr style=\"text-align: right;\">\n",
       "      <th></th>\n",
       "      <th>Name</th>\n",
       "      <th>Age</th>\n",
       "      <th>Sex</th>\n",
       "      <th>Year</th>\n",
       "    </tr>\n",
       "  </thead>\n",
       "  <tbody>\n",
       "    <tr>\n",
       "      <th>0</th>\n",
       "      <td>Andy</td>\n",
       "      <td>20</td>\n",
       "      <td>male</td>\n",
       "      <td>1</td>\n",
       "    </tr>\n",
       "    <tr>\n",
       "      <th>1</th>\n",
       "      <td>Ben</td>\n",
       "      <td>22</td>\n",
       "      <td>male</td>\n",
       "      <td>3</td>\n",
       "    </tr>\n",
       "    <tr>\n",
       "      <th>2</th>\n",
       "      <td>Cathy</td>\n",
       "      <td>23</td>\n",
       "      <td>female</td>\n",
       "      <td>4</td>\n",
       "    </tr>\n",
       "  </tbody>\n",
       "</table>\n",
       "</div>"
      ],
      "text/plain": [
       "    Name  Age     Sex  Year\n",
       "0   Andy   20    male     1\n",
       "1    Ben   22    male     3\n",
       "2  Cathy   23  female     4"
      ]
     },
     "execution_count": 47,
     "metadata": {},
     "output_type": "execute_result"
    }
   ],
   "source": [
    "students.loc[:2]"
   ]
  },
  {
   "cell_type": "markdown",
   "metadata": {},
   "source": [
    "# Filtering Rows\n",
    "- It scans through each row\n",
    "- Perform a logical operation on a column of each row \n",
    "- It returns `True` or `False` as result for the comparison operation on that row\n",
    "\n",
    "**Example**:\n",
    "\n",
    "* `filter = students['Age']<23` # this returns a Series of True/False\n",
    "* `print(filter)`\n",
    "* `type(filter)` # It a Pandas Series of True/False\n",
    "* `students[filter]` # use the filter as parameters. A True means that row will stay.  A False means that row will be kicked out.\n",
    "\n",
    "\n",
    "**It's common to code in one-liner manner**\n",
    "```\n",
    "students[students['Age']<23]\n",
    "```\n"
   ]
  },
  {
   "cell_type": "code",
   "execution_count": 12,
   "metadata": {},
   "outputs": [],
   "source": [
    "filter = students['Age']<23"
   ]
  },
  {
   "cell_type": "code",
   "execution_count": 9,
   "metadata": {},
   "outputs": [
    {
     "name": "stdout",
     "output_type": "stream",
     "text": [
      "0     True\n",
      "1     True\n",
      "2    False\n",
      "3     True\n",
      "4     True\n",
      "Name: Age, dtype: bool\n"
     ]
    }
   ],
   "source": [
    "print(filter)"
   ]
  },
  {
   "cell_type": "code",
   "execution_count": 50,
   "metadata": {},
   "outputs": [
    {
     "data": {
      "text/plain": [
       "pandas.core.series.Series"
      ]
     },
     "execution_count": 50,
     "metadata": {},
     "output_type": "execute_result"
    }
   ],
   "source": [
    "type(filter)"
   ]
  },
  {
   "cell_type": "code",
   "execution_count": 51,
   "metadata": {},
   "outputs": [
    {
     "data": {
      "text/html": [
       "<div>\n",
       "<style scoped>\n",
       "    .dataframe tbody tr th:only-of-type {\n",
       "        vertical-align: middle;\n",
       "    }\n",
       "\n",
       "    .dataframe tbody tr th {\n",
       "        vertical-align: top;\n",
       "    }\n",
       "\n",
       "    .dataframe thead th {\n",
       "        text-align: right;\n",
       "    }\n",
       "</style>\n",
       "<table border=\"1\" class=\"dataframe\">\n",
       "  <thead>\n",
       "    <tr style=\"text-align: right;\">\n",
       "      <th></th>\n",
       "      <th>Name</th>\n",
       "      <th>Age</th>\n",
       "      <th>Sex</th>\n",
       "      <th>Year</th>\n",
       "    </tr>\n",
       "  </thead>\n",
       "  <tbody>\n",
       "    <tr>\n",
       "      <th>0</th>\n",
       "      <td>Andy</td>\n",
       "      <td>20</td>\n",
       "      <td>male</td>\n",
       "      <td>1</td>\n",
       "    </tr>\n",
       "    <tr>\n",
       "      <th>1</th>\n",
       "      <td>Ben</td>\n",
       "      <td>22</td>\n",
       "      <td>male</td>\n",
       "      <td>3</td>\n",
       "    </tr>\n",
       "    <tr>\n",
       "      <th>3</th>\n",
       "      <td>Debra</td>\n",
       "      <td>22</td>\n",
       "      <td>female</td>\n",
       "      <td>3</td>\n",
       "    </tr>\n",
       "    <tr>\n",
       "      <th>4</th>\n",
       "      <td>Eva</td>\n",
       "      <td>21</td>\n",
       "      <td>female</td>\n",
       "      <td>2</td>\n",
       "    </tr>\n",
       "  </tbody>\n",
       "</table>\n",
       "</div>"
      ],
      "text/plain": [
       "    Name  Age     Sex  Year\n",
       "0   Andy   20    male     1\n",
       "1    Ben   22    male     3\n",
       "3  Debra   22  female     3\n",
       "4    Eva   21  female     2"
      ]
     },
     "execution_count": 51,
     "metadata": {},
     "output_type": "execute_result"
    }
   ],
   "source": [
    "students[filter]"
   ]
  },
  {
   "cell_type": "code",
   "execution_count": 10,
   "metadata": {},
   "outputs": [
    {
     "data": {
      "text/html": [
       "<div>\n",
       "<style scoped>\n",
       "    .dataframe tbody tr th:only-of-type {\n",
       "        vertical-align: middle;\n",
       "    }\n",
       "\n",
       "    .dataframe tbody tr th {\n",
       "        vertical-align: top;\n",
       "    }\n",
       "\n",
       "    .dataframe thead th {\n",
       "        text-align: right;\n",
       "    }\n",
       "</style>\n",
       "<table border=\"1\" class=\"dataframe\">\n",
       "  <thead>\n",
       "    <tr style=\"text-align: right;\">\n",
       "      <th></th>\n",
       "      <th>Name</th>\n",
       "      <th>Age</th>\n",
       "      <th>Sex</th>\n",
       "      <th>Year</th>\n",
       "    </tr>\n",
       "  </thead>\n",
       "  <tbody>\n",
       "    <tr>\n",
       "      <th>0</th>\n",
       "      <td>Andy</td>\n",
       "      <td>20</td>\n",
       "      <td>male</td>\n",
       "      <td>1</td>\n",
       "    </tr>\n",
       "    <tr>\n",
       "      <th>1</th>\n",
       "      <td>Ben</td>\n",
       "      <td>22</td>\n",
       "      <td>male</td>\n",
       "      <td>3</td>\n",
       "    </tr>\n",
       "    <tr>\n",
       "      <th>3</th>\n",
       "      <td>Debra</td>\n",
       "      <td>22</td>\n",
       "      <td>female</td>\n",
       "      <td>3</td>\n",
       "    </tr>\n",
       "    <tr>\n",
       "      <th>4</th>\n",
       "      <td>Eva</td>\n",
       "      <td>21</td>\n",
       "      <td>female</td>\n",
       "      <td>2</td>\n",
       "    </tr>\n",
       "  </tbody>\n",
       "</table>\n",
       "</div>"
      ],
      "text/plain": [
       "    Name  Age     Sex  Year\n",
       "0   Andy   20    male     1\n",
       "1    Ben   22    male     3\n",
       "3  Debra   22  female     3\n",
       "4    Eva   21  female     2"
      ]
     },
     "execution_count": 10,
     "metadata": {},
     "output_type": "execute_result"
    }
   ],
   "source": [
    "students[students['Age']<23]"
   ]
  },
  {
   "cell_type": "markdown",
   "metadata": {},
   "source": [
    "## Filtering Rows with Multiple Conditions\n",
    "**Example**:\n",
    "\n",
    "* `filter = students['Age']<23`\n",
    "* `filter2 = students['Year']==3`\n",
    "* `students[filter & filter2]` # &: AND logical operator\n",
    "* `students[filter | filter2]` # |: OR logical operator\n",
    "\n",
    "\n",
    "**Or in one-liner**\n",
    "\n",
    "* `students[(students['Age']<23) & (students['Year']==3)]` # make sure you include the a pair of () for each logical operation\n",
    "* `students[(students['Age']<23) | (students['Year']==3)]` # make sure you include the a pair of () for each logical operation\n"
   ]
  },
  {
   "cell_type": "code",
   "execution_count": 53,
   "metadata": {},
   "outputs": [
    {
     "data": {
      "text/plain": [
       "0     True\n",
       "1     True\n",
       "2    False\n",
       "3     True\n",
       "4     True\n",
       "Name: Age, dtype: bool"
      ]
     },
     "execution_count": 53,
     "metadata": {},
     "output_type": "execute_result"
    }
   ],
   "source": [
    "filter = students['Age']<23\n",
    "filter"
   ]
  },
  {
   "cell_type": "code",
   "execution_count": 13,
   "metadata": {},
   "outputs": [
    {
     "data": {
      "text/plain": [
       "0    False\n",
       "1     True\n",
       "2    False\n",
       "3     True\n",
       "4    False\n",
       "Name: Year, dtype: bool"
      ]
     },
     "execution_count": 13,
     "metadata": {},
     "output_type": "execute_result"
    }
   ],
   "source": [
    "filter2 = students['Year']==3\n",
    "filter2"
   ]
  },
  {
   "cell_type": "code",
   "execution_count": 55,
   "metadata": {},
   "outputs": [
    {
     "data": {
      "text/plain": [
       "0    False\n",
       "1     True\n",
       "2    False\n",
       "3     True\n",
       "4    False\n",
       "dtype: bool"
      ]
     },
     "execution_count": 55,
     "metadata": {},
     "output_type": "execute_result"
    }
   ],
   "source": [
    "filter & filter2"
   ]
  },
  {
   "cell_type": "code",
   "execution_count": 56,
   "metadata": {},
   "outputs": [
    {
     "data": {
      "text/plain": [
       "0     True\n",
       "1     True\n",
       "2    False\n",
       "3     True\n",
       "4     True\n",
       "dtype: bool"
      ]
     },
     "execution_count": 56,
     "metadata": {},
     "output_type": "execute_result"
    }
   ],
   "source": [
    "filter | filter2"
   ]
  },
  {
   "cell_type": "code",
   "execution_count": 57,
   "metadata": {
    "scrolled": true
   },
   "outputs": [
    {
     "data": {
      "text/html": [
       "<div>\n",
       "<style scoped>\n",
       "    .dataframe tbody tr th:only-of-type {\n",
       "        vertical-align: middle;\n",
       "    }\n",
       "\n",
       "    .dataframe tbody tr th {\n",
       "        vertical-align: top;\n",
       "    }\n",
       "\n",
       "    .dataframe thead th {\n",
       "        text-align: right;\n",
       "    }\n",
       "</style>\n",
       "<table border=\"1\" class=\"dataframe\">\n",
       "  <thead>\n",
       "    <tr style=\"text-align: right;\">\n",
       "      <th></th>\n",
       "      <th>Name</th>\n",
       "      <th>Age</th>\n",
       "      <th>Sex</th>\n",
       "      <th>Year</th>\n",
       "    </tr>\n",
       "  </thead>\n",
       "  <tbody>\n",
       "    <tr>\n",
       "      <th>1</th>\n",
       "      <td>Ben</td>\n",
       "      <td>22</td>\n",
       "      <td>male</td>\n",
       "      <td>3</td>\n",
       "    </tr>\n",
       "    <tr>\n",
       "      <th>3</th>\n",
       "      <td>Debra</td>\n",
       "      <td>22</td>\n",
       "      <td>female</td>\n",
       "      <td>3</td>\n",
       "    </tr>\n",
       "  </tbody>\n",
       "</table>\n",
       "</div>"
      ],
      "text/plain": [
       "    Name  Age     Sex  Year\n",
       "1    Ben   22    male     3\n",
       "3  Debra   22  female     3"
      ]
     },
     "execution_count": 57,
     "metadata": {},
     "output_type": "execute_result"
    }
   ],
   "source": [
    "students[filter & filter2]"
   ]
  },
  {
   "cell_type": "code",
   "execution_count": 58,
   "metadata": {
    "scrolled": true
   },
   "outputs": [
    {
     "data": {
      "text/html": [
       "<div>\n",
       "<style scoped>\n",
       "    .dataframe tbody tr th:only-of-type {\n",
       "        vertical-align: middle;\n",
       "    }\n",
       "\n",
       "    .dataframe tbody tr th {\n",
       "        vertical-align: top;\n",
       "    }\n",
       "\n",
       "    .dataframe thead th {\n",
       "        text-align: right;\n",
       "    }\n",
       "</style>\n",
       "<table border=\"1\" class=\"dataframe\">\n",
       "  <thead>\n",
       "    <tr style=\"text-align: right;\">\n",
       "      <th></th>\n",
       "      <th>Name</th>\n",
       "      <th>Age</th>\n",
       "      <th>Sex</th>\n",
       "      <th>Year</th>\n",
       "    </tr>\n",
       "  </thead>\n",
       "  <tbody>\n",
       "    <tr>\n",
       "      <th>0</th>\n",
       "      <td>Andy</td>\n",
       "      <td>20</td>\n",
       "      <td>male</td>\n",
       "      <td>1</td>\n",
       "    </tr>\n",
       "    <tr>\n",
       "      <th>1</th>\n",
       "      <td>Ben</td>\n",
       "      <td>22</td>\n",
       "      <td>male</td>\n",
       "      <td>3</td>\n",
       "    </tr>\n",
       "    <tr>\n",
       "      <th>3</th>\n",
       "      <td>Debra</td>\n",
       "      <td>22</td>\n",
       "      <td>female</td>\n",
       "      <td>3</td>\n",
       "    </tr>\n",
       "    <tr>\n",
       "      <th>4</th>\n",
       "      <td>Eva</td>\n",
       "      <td>21</td>\n",
       "      <td>female</td>\n",
       "      <td>2</td>\n",
       "    </tr>\n",
       "  </tbody>\n",
       "</table>\n",
       "</div>"
      ],
      "text/plain": [
       "    Name  Age     Sex  Year\n",
       "0   Andy   20    male     1\n",
       "1    Ben   22    male     3\n",
       "3  Debra   22  female     3\n",
       "4    Eva   21  female     2"
      ]
     },
     "execution_count": 58,
     "metadata": {},
     "output_type": "execute_result"
    }
   ],
   "source": [
    "students[filter | filter2]"
   ]
  },
  {
   "cell_type": "markdown",
   "metadata": {},
   "source": [
    "## Practice One-liner Approach"
   ]
  },
  {
   "cell_type": "code",
   "execution_count": 59,
   "metadata": {},
   "outputs": [
    {
     "data": {
      "text/html": [
       "<div>\n",
       "<style scoped>\n",
       "    .dataframe tbody tr th:only-of-type {\n",
       "        vertical-align: middle;\n",
       "    }\n",
       "\n",
       "    .dataframe tbody tr th {\n",
       "        vertical-align: top;\n",
       "    }\n",
       "\n",
       "    .dataframe thead th {\n",
       "        text-align: right;\n",
       "    }\n",
       "</style>\n",
       "<table border=\"1\" class=\"dataframe\">\n",
       "  <thead>\n",
       "    <tr style=\"text-align: right;\">\n",
       "      <th></th>\n",
       "      <th>Name</th>\n",
       "      <th>Age</th>\n",
       "      <th>Sex</th>\n",
       "      <th>Year</th>\n",
       "    </tr>\n",
       "  </thead>\n",
       "  <tbody>\n",
       "    <tr>\n",
       "      <th>1</th>\n",
       "      <td>Ben</td>\n",
       "      <td>22</td>\n",
       "      <td>male</td>\n",
       "      <td>3</td>\n",
       "    </tr>\n",
       "    <tr>\n",
       "      <th>3</th>\n",
       "      <td>Debra</td>\n",
       "      <td>22</td>\n",
       "      <td>female</td>\n",
       "      <td>3</td>\n",
       "    </tr>\n",
       "  </tbody>\n",
       "</table>\n",
       "</div>"
      ],
      "text/plain": [
       "    Name  Age     Sex  Year\n",
       "1    Ben   22    male     3\n",
       "3  Debra   22  female     3"
      ]
     },
     "execution_count": 59,
     "metadata": {},
     "output_type": "execute_result"
    }
   ],
   "source": [
    "students[(students['Age']<23) & (students['Year']==3)]"
   ]
  },
  {
   "cell_type": "code",
   "execution_count": null,
   "metadata": {},
   "outputs": [],
   "source": [
    "students[(students['Age']<23) | (students['Year']==3)]"
   ]
  },
  {
   "cell_type": "markdown",
   "metadata": {},
   "source": [
    "## `concat()` Function\n",
    "\n",
    "You can use `concat()` function to merge multiple Series to form a data-frame\n",
    "\n",
    "```\n",
    "pd.concat([filter, filter2, (filter & filter2)], axis=1)\n",
    "pd.concat([filter, filter2, (filter | filter2)], axis=1)\n",
    "\n",
    "```"
   ]
  },
  {
   "cell_type": "code",
   "execution_count": 14,
   "metadata": {},
   "outputs": [
    {
     "name": "stdout",
     "output_type": "stream",
     "text": [
      "<class 'pandas.core.series.Series'>\n",
      "<class 'pandas.core.series.Series'>\n"
     ]
    }
   ],
   "source": [
    "print(type(filter))\n",
    "print(type(filter2))"
   ]
  },
  {
   "cell_type": "code",
   "execution_count": 15,
   "metadata": {
    "scrolled": false
   },
   "outputs": [
    {
     "data": {
      "text/html": [
       "<div>\n",
       "<style scoped>\n",
       "    .dataframe tbody tr th:only-of-type {\n",
       "        vertical-align: middle;\n",
       "    }\n",
       "\n",
       "    .dataframe tbody tr th {\n",
       "        vertical-align: top;\n",
       "    }\n",
       "\n",
       "    .dataframe thead th {\n",
       "        text-align: right;\n",
       "    }\n",
       "</style>\n",
       "<table border=\"1\" class=\"dataframe\">\n",
       "  <thead>\n",
       "    <tr style=\"text-align: right;\">\n",
       "      <th></th>\n",
       "      <th>Age</th>\n",
       "      <th>Year</th>\n",
       "      <th>0</th>\n",
       "    </tr>\n",
       "  </thead>\n",
       "  <tbody>\n",
       "    <tr>\n",
       "      <th>0</th>\n",
       "      <td>True</td>\n",
       "      <td>False</td>\n",
       "      <td>False</td>\n",
       "    </tr>\n",
       "    <tr>\n",
       "      <th>1</th>\n",
       "      <td>True</td>\n",
       "      <td>True</td>\n",
       "      <td>True</td>\n",
       "    </tr>\n",
       "    <tr>\n",
       "      <th>2</th>\n",
       "      <td>False</td>\n",
       "      <td>False</td>\n",
       "      <td>False</td>\n",
       "    </tr>\n",
       "    <tr>\n",
       "      <th>3</th>\n",
       "      <td>True</td>\n",
       "      <td>True</td>\n",
       "      <td>True</td>\n",
       "    </tr>\n",
       "    <tr>\n",
       "      <th>4</th>\n",
       "      <td>True</td>\n",
       "      <td>False</td>\n",
       "      <td>False</td>\n",
       "    </tr>\n",
       "  </tbody>\n",
       "</table>\n",
       "</div>"
      ],
      "text/plain": [
       "     Age   Year      0\n",
       "0   True  False  False\n",
       "1   True   True   True\n",
       "2  False  False  False\n",
       "3   True   True   True\n",
       "4   True  False  False"
      ]
     },
     "execution_count": 15,
     "metadata": {},
     "output_type": "execute_result"
    }
   ],
   "source": [
    "pd.concat([filter, filter2, (filter & filter2)], axis=1)"
   ]
  },
  {
   "cell_type": "code",
   "execution_count": 16,
   "metadata": {},
   "outputs": [
    {
     "data": {
      "text/plain": [
       "pandas.core.frame.DataFrame"
      ]
     },
     "execution_count": 16,
     "metadata": {},
     "output_type": "execute_result"
    }
   ],
   "source": [
    "type(pd.concat([filter, filter2, (filter & filter2)], axis=1))"
   ]
  },
  {
   "cell_type": "code",
   "execution_count": 17,
   "metadata": {},
   "outputs": [
    {
     "data": {
      "text/html": [
       "<div>\n",
       "<style scoped>\n",
       "    .dataframe tbody tr th:only-of-type {\n",
       "        vertical-align: middle;\n",
       "    }\n",
       "\n",
       "    .dataframe tbody tr th {\n",
       "        vertical-align: top;\n",
       "    }\n",
       "\n",
       "    .dataframe thead th {\n",
       "        text-align: right;\n",
       "    }\n",
       "</style>\n",
       "<table border=\"1\" class=\"dataframe\">\n",
       "  <thead>\n",
       "    <tr style=\"text-align: right;\">\n",
       "      <th></th>\n",
       "      <th>Age</th>\n",
       "      <th>Year</th>\n",
       "      <th>0</th>\n",
       "    </tr>\n",
       "  </thead>\n",
       "  <tbody>\n",
       "    <tr>\n",
       "      <th>0</th>\n",
       "      <td>True</td>\n",
       "      <td>False</td>\n",
       "      <td>True</td>\n",
       "    </tr>\n",
       "    <tr>\n",
       "      <th>1</th>\n",
       "      <td>True</td>\n",
       "      <td>True</td>\n",
       "      <td>True</td>\n",
       "    </tr>\n",
       "    <tr>\n",
       "      <th>2</th>\n",
       "      <td>False</td>\n",
       "      <td>False</td>\n",
       "      <td>False</td>\n",
       "    </tr>\n",
       "    <tr>\n",
       "      <th>3</th>\n",
       "      <td>True</td>\n",
       "      <td>True</td>\n",
       "      <td>True</td>\n",
       "    </tr>\n",
       "    <tr>\n",
       "      <th>4</th>\n",
       "      <td>True</td>\n",
       "      <td>False</td>\n",
       "      <td>True</td>\n",
       "    </tr>\n",
       "  </tbody>\n",
       "</table>\n",
       "</div>"
      ],
      "text/plain": [
       "     Age   Year      0\n",
       "0   True  False   True\n",
       "1   True   True   True\n",
       "2  False  False  False\n",
       "3   True   True   True\n",
       "4   True  False   True"
      ]
     },
     "execution_count": 17,
     "metadata": {},
     "output_type": "execute_result"
    }
   ],
   "source": [
    "pd.concat([filter, filter2, (filter | filter2)], axis=1)"
   ]
  },
  {
   "cell_type": "markdown",
   "metadata": {},
   "source": [
    "## Restricting Rows and Columns\n",
    "You can apply both **row filtering** and **columns selecting** in one statement\n",
    "\n",
    "Example:\n",
    "\n",
    "* `students[students['Year']==3]` # row filtering only\n",
    "* `students[students['Year']==3][['Name', 'Year']]` # row filtering and followed by column selecting.  The code can easily become difficult to read\n"
   ]
  },
  {
   "cell_type": "code",
   "execution_count": 18,
   "metadata": {},
   "outputs": [
    {
     "data": {
      "text/html": [
       "<div>\n",
       "<style scoped>\n",
       "    .dataframe tbody tr th:only-of-type {\n",
       "        vertical-align: middle;\n",
       "    }\n",
       "\n",
       "    .dataframe tbody tr th {\n",
       "        vertical-align: top;\n",
       "    }\n",
       "\n",
       "    .dataframe thead th {\n",
       "        text-align: right;\n",
       "    }\n",
       "</style>\n",
       "<table border=\"1\" class=\"dataframe\">\n",
       "  <thead>\n",
       "    <tr style=\"text-align: right;\">\n",
       "      <th></th>\n",
       "      <th>Name</th>\n",
       "      <th>Age</th>\n",
       "      <th>Sex</th>\n",
       "      <th>Year</th>\n",
       "    </tr>\n",
       "  </thead>\n",
       "  <tbody>\n",
       "    <tr>\n",
       "      <th>1</th>\n",
       "      <td>Ben</td>\n",
       "      <td>22</td>\n",
       "      <td>male</td>\n",
       "      <td>3</td>\n",
       "    </tr>\n",
       "    <tr>\n",
       "      <th>3</th>\n",
       "      <td>Debra</td>\n",
       "      <td>22</td>\n",
       "      <td>female</td>\n",
       "      <td>3</td>\n",
       "    </tr>\n",
       "  </tbody>\n",
       "</table>\n",
       "</div>"
      ],
      "text/plain": [
       "    Name  Age     Sex  Year\n",
       "1    Ben   22    male     3\n",
       "3  Debra   22  female     3"
      ]
     },
     "execution_count": 18,
     "metadata": {},
     "output_type": "execute_result"
    }
   ],
   "source": [
    "students[students['Year']==3]"
   ]
  },
  {
   "cell_type": "code",
   "execution_count": 19,
   "metadata": {},
   "outputs": [
    {
     "data": {
      "text/html": [
       "<div>\n",
       "<style scoped>\n",
       "    .dataframe tbody tr th:only-of-type {\n",
       "        vertical-align: middle;\n",
       "    }\n",
       "\n",
       "    .dataframe tbody tr th {\n",
       "        vertical-align: top;\n",
       "    }\n",
       "\n",
       "    .dataframe thead th {\n",
       "        text-align: right;\n",
       "    }\n",
       "</style>\n",
       "<table border=\"1\" class=\"dataframe\">\n",
       "  <thead>\n",
       "    <tr style=\"text-align: right;\">\n",
       "      <th></th>\n",
       "      <th>Name</th>\n",
       "      <th>Year</th>\n",
       "    </tr>\n",
       "  </thead>\n",
       "  <tbody>\n",
       "    <tr>\n",
       "      <th>1</th>\n",
       "      <td>Ben</td>\n",
       "      <td>3</td>\n",
       "    </tr>\n",
       "    <tr>\n",
       "      <th>3</th>\n",
       "      <td>Debra</td>\n",
       "      <td>3</td>\n",
       "    </tr>\n",
       "  </tbody>\n",
       "</table>\n",
       "</div>"
      ],
      "text/plain": [
       "    Name  Year\n",
       "1    Ben     3\n",
       "3  Debra     3"
      ]
     },
     "execution_count": 19,
     "metadata": {},
     "output_type": "execute_result"
    }
   ],
   "source": [
    "students[students['Year']==3][['Name', 'Year']]"
   ]
  },
  {
   "cell_type": "markdown",
   "metadata": {},
   "source": [
    "## Creating Subset using `loc[]`\n",
    "\n",
    "You can also use `loc[]` to select rows range and columns at the same time"
   ]
  },
  {
   "cell_type": "code",
   "execution_count": 20,
   "metadata": {},
   "outputs": [
    {
     "data": {
      "text/html": [
       "<div>\n",
       "<style scoped>\n",
       "    .dataframe tbody tr th:only-of-type {\n",
       "        vertical-align: middle;\n",
       "    }\n",
       "\n",
       "    .dataframe tbody tr th {\n",
       "        vertical-align: top;\n",
       "    }\n",
       "\n",
       "    .dataframe thead th {\n",
       "        text-align: right;\n",
       "    }\n",
       "</style>\n",
       "<table border=\"1\" class=\"dataframe\">\n",
       "  <thead>\n",
       "    <tr style=\"text-align: right;\">\n",
       "      <th></th>\n",
       "      <th>Name</th>\n",
       "      <th>Age</th>\n",
       "      <th>Sex</th>\n",
       "      <th>Year</th>\n",
       "    </tr>\n",
       "  </thead>\n",
       "  <tbody>\n",
       "    <tr>\n",
       "      <th>0</th>\n",
       "      <td>Andy</td>\n",
       "      <td>20</td>\n",
       "      <td>male</td>\n",
       "      <td>1</td>\n",
       "    </tr>\n",
       "    <tr>\n",
       "      <th>1</th>\n",
       "      <td>Ben</td>\n",
       "      <td>22</td>\n",
       "      <td>male</td>\n",
       "      <td>3</td>\n",
       "    </tr>\n",
       "    <tr>\n",
       "      <th>2</th>\n",
       "      <td>Cathy</td>\n",
       "      <td>23</td>\n",
       "      <td>female</td>\n",
       "      <td>4</td>\n",
       "    </tr>\n",
       "    <tr>\n",
       "      <th>3</th>\n",
       "      <td>Debra</td>\n",
       "      <td>22</td>\n",
       "      <td>female</td>\n",
       "      <td>3</td>\n",
       "    </tr>\n",
       "    <tr>\n",
       "      <th>4</th>\n",
       "      <td>Eva</td>\n",
       "      <td>21</td>\n",
       "      <td>female</td>\n",
       "      <td>2</td>\n",
       "    </tr>\n",
       "  </tbody>\n",
       "</table>\n",
       "</div>"
      ],
      "text/plain": [
       "    Name  Age     Sex  Year\n",
       "0   Andy   20    male     1\n",
       "1    Ben   22    male     3\n",
       "2  Cathy   23  female     4\n",
       "3  Debra   22  female     3\n",
       "4    Eva   21  female     2"
      ]
     },
     "execution_count": 20,
     "metadata": {},
     "output_type": "execute_result"
    }
   ],
   "source": [
    "students"
   ]
  },
  {
   "cell_type": "code",
   "execution_count": 21,
   "metadata": {},
   "outputs": [],
   "source": [
    "# Creating a subset\n",
    "df_subset = students.loc[2:4, ['Name', 'Sex', 'Year']]"
   ]
  },
  {
   "cell_type": "code",
   "execution_count": 22,
   "metadata": {
    "scrolled": true
   },
   "outputs": [
    {
     "data": {
      "text/html": [
       "<div>\n",
       "<style scoped>\n",
       "    .dataframe tbody tr th:only-of-type {\n",
       "        vertical-align: middle;\n",
       "    }\n",
       "\n",
       "    .dataframe tbody tr th {\n",
       "        vertical-align: top;\n",
       "    }\n",
       "\n",
       "    .dataframe thead th {\n",
       "        text-align: right;\n",
       "    }\n",
       "</style>\n",
       "<table border=\"1\" class=\"dataframe\">\n",
       "  <thead>\n",
       "    <tr style=\"text-align: right;\">\n",
       "      <th></th>\n",
       "      <th>Name</th>\n",
       "      <th>Sex</th>\n",
       "      <th>Year</th>\n",
       "    </tr>\n",
       "  </thead>\n",
       "  <tbody>\n",
       "    <tr>\n",
       "      <th>2</th>\n",
       "      <td>Cathy</td>\n",
       "      <td>female</td>\n",
       "      <td>4</td>\n",
       "    </tr>\n",
       "    <tr>\n",
       "      <th>3</th>\n",
       "      <td>Debra</td>\n",
       "      <td>female</td>\n",
       "      <td>3</td>\n",
       "    </tr>\n",
       "    <tr>\n",
       "      <th>4</th>\n",
       "      <td>Eva</td>\n",
       "      <td>female</td>\n",
       "      <td>2</td>\n",
       "    </tr>\n",
       "  </tbody>\n",
       "</table>\n",
       "</div>"
      ],
      "text/plain": [
       "    Name     Sex  Year\n",
       "2  Cathy  female     4\n",
       "3  Debra  female     3\n",
       "4    Eva  female     2"
      ]
     },
     "execution_count": 22,
     "metadata": {},
     "output_type": "execute_result"
    }
   ],
   "source": [
    "df_subset"
   ]
  },
  {
   "cell_type": "markdown",
   "metadata": {},
   "source": [
    "# EXERCISE: Row/Column Selecting\n",
    "\n",
    "You have 5 minutes to practice the rows and column Selecting statements\n",
    "\n",
    "Load the **graduates.csv** file as df\n",
    "```\n",
    "df = pd.read_csv('./data/graduates.csv')\n",
    "df.head()\n",
    "df.info()\n",
    "df.desribe()\n",
    "```"
   ]
  },
  {
   "cell_type": "code",
   "execution_count": 24,
   "metadata": {},
   "outputs": [
    {
     "data": {
      "text/html": [
       "<div>\n",
       "<style scoped>\n",
       "    .dataframe tbody tr th:only-of-type {\n",
       "        vertical-align: middle;\n",
       "    }\n",
       "\n",
       "    .dataframe tbody tr th {\n",
       "        vertical-align: top;\n",
       "    }\n",
       "\n",
       "    .dataframe thead th {\n",
       "        text-align: right;\n",
       "    }\n",
       "</style>\n",
       "<table border=\"1\" class=\"dataframe\">\n",
       "  <thead>\n",
       "    <tr style=\"text-align: right;\">\n",
       "      <th></th>\n",
       "      <th>AcademicYear</th>\n",
       "      <th>LevelOfStudy</th>\n",
       "      <th>ProgrammeCategory</th>\n",
       "      <th>Sex</th>\n",
       "      <th>Headcount</th>\n",
       "    </tr>\n",
       "  </thead>\n",
       "  <tbody>\n",
       "    <tr>\n",
       "      <th>0</th>\n",
       "      <td>2009/10</td>\n",
       "      <td>Sub-degree</td>\n",
       "      <td>Arts and Humanities</td>\n",
       "      <td>M</td>\n",
       "      <td>158</td>\n",
       "    </tr>\n",
       "    <tr>\n",
       "      <th>1</th>\n",
       "      <td>2009/10</td>\n",
       "      <td>Sub-degree</td>\n",
       "      <td>Arts and Humanities</td>\n",
       "      <td>F</td>\n",
       "      <td>475</td>\n",
       "    </tr>\n",
       "    <tr>\n",
       "      <th>2</th>\n",
       "      <td>2009/10</td>\n",
       "      <td>Sub-degree</td>\n",
       "      <td>Business and Management</td>\n",
       "      <td>M</td>\n",
       "      <td>73</td>\n",
       "    </tr>\n",
       "    <tr>\n",
       "      <th>3</th>\n",
       "      <td>2009/10</td>\n",
       "      <td>Sub-degree</td>\n",
       "      <td>Business and Management</td>\n",
       "      <td>F</td>\n",
       "      <td>227</td>\n",
       "    </tr>\n",
       "    <tr>\n",
       "      <th>4</th>\n",
       "      <td>2009/10</td>\n",
       "      <td>Sub-degree</td>\n",
       "      <td>Education</td>\n",
       "      <td>M</td>\n",
       "      <td>122</td>\n",
       "    </tr>\n",
       "  </tbody>\n",
       "</table>\n",
       "</div>"
      ],
      "text/plain": [
       "  AcademicYear LevelOfStudy        ProgrammeCategory Sex  Headcount\n",
       "0      2009/10   Sub-degree      Arts and Humanities   M        158\n",
       "1      2009/10   Sub-degree      Arts and Humanities   F        475\n",
       "2      2009/10   Sub-degree  Business and Management   M         73\n",
       "3      2009/10   Sub-degree  Business and Management   F        227\n",
       "4      2009/10   Sub-degree                Education   M        122"
      ]
     },
     "execution_count": 24,
     "metadata": {},
     "output_type": "execute_result"
    }
   ],
   "source": [
    "df = pd.read_csv('./data/graduates.csv')\n",
    "df.head()"
   ]
  },
  {
   "cell_type": "markdown",
   "metadata": {},
   "source": [
    "### Task 1\n",
    "**Select all the rows that LevelOfStudy is  'Undergraduate'**\n",
    "\n",
    "Hints: use `==` to check if the value of `LevelOfStudy` is equivalent to `'Undergraduate'`"
   ]
  },
  {
   "cell_type": "code",
   "execution_count": 70,
   "metadata": {},
   "outputs": [
    {
     "data": {
      "text/html": [
       "<div>\n",
       "<style scoped>\n",
       "    .dataframe tbody tr th:only-of-type {\n",
       "        vertical-align: middle;\n",
       "    }\n",
       "\n",
       "    .dataframe tbody tr th {\n",
       "        vertical-align: top;\n",
       "    }\n",
       "\n",
       "    .dataframe thead th {\n",
       "        text-align: right;\n",
       "    }\n",
       "</style>\n",
       "<table border=\"1\" class=\"dataframe\">\n",
       "  <thead>\n",
       "    <tr style=\"text-align: right;\">\n",
       "      <th></th>\n",
       "      <th>AcademicYear</th>\n",
       "      <th>LevelOfStudy</th>\n",
       "      <th>ProgrammeCategory</th>\n",
       "      <th>Sex</th>\n",
       "      <th>Headcount</th>\n",
       "    </tr>\n",
       "  </thead>\n",
       "  <tbody>\n",
       "    <tr>\n",
       "      <th>14</th>\n",
       "      <td>2009/10</td>\n",
       "      <td>Undergraduate</td>\n",
       "      <td>Arts and Humanities</td>\n",
       "      <td>M</td>\n",
       "      <td>659</td>\n",
       "    </tr>\n",
       "    <tr>\n",
       "      <th>15</th>\n",
       "      <td>2009/10</td>\n",
       "      <td>Undergraduate</td>\n",
       "      <td>Arts and Humanities</td>\n",
       "      <td>F</td>\n",
       "      <td>1788</td>\n",
       "    </tr>\n",
       "    <tr>\n",
       "      <th>16</th>\n",
       "      <td>2009/10</td>\n",
       "      <td>Undergraduate</td>\n",
       "      <td>Business and Management</td>\n",
       "      <td>M</td>\n",
       "      <td>1861</td>\n",
       "    </tr>\n",
       "    <tr>\n",
       "      <th>17</th>\n",
       "      <td>2009/10</td>\n",
       "      <td>Undergraduate</td>\n",
       "      <td>Business and Management</td>\n",
       "      <td>F</td>\n",
       "      <td>2314</td>\n",
       "    </tr>\n",
       "    <tr>\n",
       "      <th>18</th>\n",
       "      <td>2009/10</td>\n",
       "      <td>Undergraduate</td>\n",
       "      <td>Education</td>\n",
       "      <td>M</td>\n",
       "      <td>148</td>\n",
       "    </tr>\n",
       "    <tr>\n",
       "      <th>...</th>\n",
       "      <td>...</td>\n",
       "      <td>...</td>\n",
       "      <td>...</td>\n",
       "      <td>...</td>\n",
       "      <td>...</td>\n",
       "    </tr>\n",
       "    <tr>\n",
       "      <th>620</th>\n",
       "      <td>2020/21</td>\n",
       "      <td>Undergraduate</td>\n",
       "      <td>Medicine, Dentistry and Health</td>\n",
       "      <td>F</td>\n",
       "      <td>1217</td>\n",
       "    </tr>\n",
       "    <tr>\n",
       "      <th>621</th>\n",
       "      <td>2020/21</td>\n",
       "      <td>Undergraduate</td>\n",
       "      <td>Sciences</td>\n",
       "      <td>M</td>\n",
       "      <td>2251</td>\n",
       "    </tr>\n",
       "    <tr>\n",
       "      <th>622</th>\n",
       "      <td>2020/21</td>\n",
       "      <td>Undergraduate</td>\n",
       "      <td>Sciences</td>\n",
       "      <td>F</td>\n",
       "      <td>1379</td>\n",
       "    </tr>\n",
       "    <tr>\n",
       "      <th>623</th>\n",
       "      <td>2020/21</td>\n",
       "      <td>Undergraduate</td>\n",
       "      <td>Social Sciences</td>\n",
       "      <td>M</td>\n",
       "      <td>1314</td>\n",
       "    </tr>\n",
       "    <tr>\n",
       "      <th>624</th>\n",
       "      <td>2020/21</td>\n",
       "      <td>Undergraduate</td>\n",
       "      <td>Social Sciences</td>\n",
       "      <td>F</td>\n",
       "      <td>2164</td>\n",
       "    </tr>\n",
       "  </tbody>\n",
       "</table>\n",
       "<p>168 rows × 5 columns</p>\n",
       "</div>"
      ],
      "text/plain": [
       "    AcademicYear   LevelOfStudy               ProgrammeCategory Sex  Headcount\n",
       "14       2009/10  Undergraduate             Arts and Humanities   M        659\n",
       "15       2009/10  Undergraduate             Arts and Humanities   F       1788\n",
       "16       2009/10  Undergraduate         Business and Management   M       1861\n",
       "17       2009/10  Undergraduate         Business and Management   F       2314\n",
       "18       2009/10  Undergraduate                       Education   M        148\n",
       "..           ...            ...                             ...  ..        ...\n",
       "620      2020/21  Undergraduate  Medicine, Dentistry and Health   F       1217\n",
       "621      2020/21  Undergraduate                        Sciences   M       2251\n",
       "622      2020/21  Undergraduate                        Sciences   F       1379\n",
       "623      2020/21  Undergraduate                 Social Sciences   M       1314\n",
       "624      2020/21  Undergraduate                 Social Sciences   F       2164\n",
       "\n",
       "[168 rows x 5 columns]"
      ]
     },
     "execution_count": 70,
     "metadata": {},
     "output_type": "execute_result"
    }
   ],
   "source": [
    "df[df['LevelOfStudy']=='Undergraduate']"
   ]
  },
  {
   "cell_type": "markdown",
   "metadata": {},
   "source": [
    "### Task 2\n",
    "**Select all the rows that `LevelOfStudy` is  'Undergraduate' and `ProgrammeCategory` is 'Business and Management'**\n",
    "\n",
    "Hints: \n",
    "* Use `&` to put together mutilple logical expression\n",
    "* Use `()` to wrap each logical expression"
   ]
  },
  {
   "cell_type": "code",
   "execution_count": 25,
   "metadata": {
    "scrolled": true
   },
   "outputs": [
    {
     "data": {
      "text/html": [
       "<div>\n",
       "<style scoped>\n",
       "    .dataframe tbody tr th:only-of-type {\n",
       "        vertical-align: middle;\n",
       "    }\n",
       "\n",
       "    .dataframe tbody tr th {\n",
       "        vertical-align: top;\n",
       "    }\n",
       "\n",
       "    .dataframe thead th {\n",
       "        text-align: right;\n",
       "    }\n",
       "</style>\n",
       "<table border=\"1\" class=\"dataframe\">\n",
       "  <thead>\n",
       "    <tr style=\"text-align: right;\">\n",
       "      <th></th>\n",
       "      <th>AcademicYear</th>\n",
       "      <th>LevelOfStudy</th>\n",
       "      <th>ProgrammeCategory</th>\n",
       "      <th>Sex</th>\n",
       "      <th>Headcount</th>\n",
       "    </tr>\n",
       "  </thead>\n",
       "  <tbody>\n",
       "    <tr>\n",
       "      <th>16</th>\n",
       "      <td>2009/10</td>\n",
       "      <td>Undergraduate</td>\n",
       "      <td>Business and Management</td>\n",
       "      <td>M</td>\n",
       "      <td>1861</td>\n",
       "    </tr>\n",
       "    <tr>\n",
       "      <th>17</th>\n",
       "      <td>2009/10</td>\n",
       "      <td>Undergraduate</td>\n",
       "      <td>Business and Management</td>\n",
       "      <td>F</td>\n",
       "      <td>2314</td>\n",
       "    </tr>\n",
       "    <tr>\n",
       "      <th>72</th>\n",
       "      <td>2010/11</td>\n",
       "      <td>Undergraduate</td>\n",
       "      <td>Business and Management</td>\n",
       "      <td>M</td>\n",
       "      <td>1900</td>\n",
       "    </tr>\n",
       "    <tr>\n",
       "      <th>73</th>\n",
       "      <td>2010/11</td>\n",
       "      <td>Undergraduate</td>\n",
       "      <td>Business and Management</td>\n",
       "      <td>F</td>\n",
       "      <td>2417</td>\n",
       "    </tr>\n",
       "    <tr>\n",
       "      <th>128</th>\n",
       "      <td>2011/12</td>\n",
       "      <td>Undergraduate</td>\n",
       "      <td>Business and Management</td>\n",
       "      <td>M</td>\n",
       "      <td>1815</td>\n",
       "    </tr>\n",
       "    <tr>\n",
       "      <th>129</th>\n",
       "      <td>2011/12</td>\n",
       "      <td>Undergraduate</td>\n",
       "      <td>Business and Management</td>\n",
       "      <td>F</td>\n",
       "      <td>2332</td>\n",
       "    </tr>\n",
       "    <tr>\n",
       "      <th>184</th>\n",
       "      <td>2012/13</td>\n",
       "      <td>Undergraduate</td>\n",
       "      <td>Business and Management</td>\n",
       "      <td>M</td>\n",
       "      <td>1826</td>\n",
       "    </tr>\n",
       "    <tr>\n",
       "      <th>185</th>\n",
       "      <td>2012/13</td>\n",
       "      <td>Undergraduate</td>\n",
       "      <td>Business and Management</td>\n",
       "      <td>F</td>\n",
       "      <td>2315</td>\n",
       "    </tr>\n",
       "    <tr>\n",
       "      <th>240</th>\n",
       "      <td>2013/14</td>\n",
       "      <td>Undergraduate</td>\n",
       "      <td>Business and Management</td>\n",
       "      <td>M</td>\n",
       "      <td>1881</td>\n",
       "    </tr>\n",
       "    <tr>\n",
       "      <th>241</th>\n",
       "      <td>2013/14</td>\n",
       "      <td>Undergraduate</td>\n",
       "      <td>Business and Management</td>\n",
       "      <td>F</td>\n",
       "      <td>2374</td>\n",
       "    </tr>\n",
       "    <tr>\n",
       "      <th>296</th>\n",
       "      <td>2014/15</td>\n",
       "      <td>Undergraduate</td>\n",
       "      <td>Business and Management</td>\n",
       "      <td>M</td>\n",
       "      <td>1927</td>\n",
       "    </tr>\n",
       "    <tr>\n",
       "      <th>297</th>\n",
       "      <td>2014/15</td>\n",
       "      <td>Undergraduate</td>\n",
       "      <td>Business and Management</td>\n",
       "      <td>F</td>\n",
       "      <td>2471</td>\n",
       "    </tr>\n",
       "    <tr>\n",
       "      <th>349</th>\n",
       "      <td>2015/16</td>\n",
       "      <td>Undergraduate</td>\n",
       "      <td>Business and Management</td>\n",
       "      <td>M</td>\n",
       "      <td>1881</td>\n",
       "    </tr>\n",
       "    <tr>\n",
       "      <th>350</th>\n",
       "      <td>2015/16</td>\n",
       "      <td>Undergraduate</td>\n",
       "      <td>Business and Management</td>\n",
       "      <td>F</td>\n",
       "      <td>2878</td>\n",
       "    </tr>\n",
       "    <tr>\n",
       "      <th>403</th>\n",
       "      <td>2016/17</td>\n",
       "      <td>Undergraduate</td>\n",
       "      <td>Business and Management</td>\n",
       "      <td>M</td>\n",
       "      <td>1892</td>\n",
       "    </tr>\n",
       "    <tr>\n",
       "      <th>404</th>\n",
       "      <td>2016/17</td>\n",
       "      <td>Undergraduate</td>\n",
       "      <td>Business and Management</td>\n",
       "      <td>F</td>\n",
       "      <td>2876</td>\n",
       "    </tr>\n",
       "    <tr>\n",
       "      <th>457</th>\n",
       "      <td>2017/18</td>\n",
       "      <td>Undergraduate</td>\n",
       "      <td>Business and Management</td>\n",
       "      <td>M</td>\n",
       "      <td>1944</td>\n",
       "    </tr>\n",
       "    <tr>\n",
       "      <th>458</th>\n",
       "      <td>2017/18</td>\n",
       "      <td>Undergraduate</td>\n",
       "      <td>Business and Management</td>\n",
       "      <td>F</td>\n",
       "      <td>2702</td>\n",
       "    </tr>\n",
       "    <tr>\n",
       "      <th>511</th>\n",
       "      <td>2018/19</td>\n",
       "      <td>Undergraduate</td>\n",
       "      <td>Business and Management</td>\n",
       "      <td>M</td>\n",
       "      <td>1826</td>\n",
       "    </tr>\n",
       "    <tr>\n",
       "      <th>512</th>\n",
       "      <td>2018/19</td>\n",
       "      <td>Undergraduate</td>\n",
       "      <td>Business and Management</td>\n",
       "      <td>F</td>\n",
       "      <td>2780</td>\n",
       "    </tr>\n",
       "    <tr>\n",
       "      <th>563</th>\n",
       "      <td>2019/20</td>\n",
       "      <td>Undergraduate</td>\n",
       "      <td>Business and Management</td>\n",
       "      <td>M</td>\n",
       "      <td>1902</td>\n",
       "    </tr>\n",
       "    <tr>\n",
       "      <th>564</th>\n",
       "      <td>2019/20</td>\n",
       "      <td>Undergraduate</td>\n",
       "      <td>Business and Management</td>\n",
       "      <td>F</td>\n",
       "      <td>2814</td>\n",
       "    </tr>\n",
       "    <tr>\n",
       "      <th>613</th>\n",
       "      <td>2020/21</td>\n",
       "      <td>Undergraduate</td>\n",
       "      <td>Business and Management</td>\n",
       "      <td>M</td>\n",
       "      <td>1959</td>\n",
       "    </tr>\n",
       "    <tr>\n",
       "      <th>614</th>\n",
       "      <td>2020/21</td>\n",
       "      <td>Undergraduate</td>\n",
       "      <td>Business and Management</td>\n",
       "      <td>F</td>\n",
       "      <td>2820</td>\n",
       "    </tr>\n",
       "  </tbody>\n",
       "</table>\n",
       "</div>"
      ],
      "text/plain": [
       "    AcademicYear   LevelOfStudy        ProgrammeCategory Sex  Headcount\n",
       "16       2009/10  Undergraduate  Business and Management   M       1861\n",
       "17       2009/10  Undergraduate  Business and Management   F       2314\n",
       "72       2010/11  Undergraduate  Business and Management   M       1900\n",
       "73       2010/11  Undergraduate  Business and Management   F       2417\n",
       "128      2011/12  Undergraduate  Business and Management   M       1815\n",
       "129      2011/12  Undergraduate  Business and Management   F       2332\n",
       "184      2012/13  Undergraduate  Business and Management   M       1826\n",
       "185      2012/13  Undergraduate  Business and Management   F       2315\n",
       "240      2013/14  Undergraduate  Business and Management   M       1881\n",
       "241      2013/14  Undergraduate  Business and Management   F       2374\n",
       "296      2014/15  Undergraduate  Business and Management   M       1927\n",
       "297      2014/15  Undergraduate  Business and Management   F       2471\n",
       "349      2015/16  Undergraduate  Business and Management   M       1881\n",
       "350      2015/16  Undergraduate  Business and Management   F       2878\n",
       "403      2016/17  Undergraduate  Business and Management   M       1892\n",
       "404      2016/17  Undergraduate  Business and Management   F       2876\n",
       "457      2017/18  Undergraduate  Business and Management   M       1944\n",
       "458      2017/18  Undergraduate  Business and Management   F       2702\n",
       "511      2018/19  Undergraduate  Business and Management   M       1826\n",
       "512      2018/19  Undergraduate  Business and Management   F       2780\n",
       "563      2019/20  Undergraduate  Business and Management   M       1902\n",
       "564      2019/20  Undergraduate  Business and Management   F       2814\n",
       "613      2020/21  Undergraduate  Business and Management   M       1959\n",
       "614      2020/21  Undergraduate  Business and Management   F       2820"
      ]
     },
     "execution_count": 25,
     "metadata": {},
     "output_type": "execute_result"
    }
   ],
   "source": [
    "df[(df['LevelOfStudy']=='Undergraduate') \n",
    "   & (df['ProgrammeCategory']=='Business and Management')]"
   ]
  },
  {
   "cell_type": "markdown",
   "metadata": {},
   "source": [
    "### Task 3\n",
    "**Select all the rows that `LevelOfStudy` is  'Undergraduate' and `ProgrammeCategory` is 'Business and Management' and for rows of 'male' only**\n",
    "\n",
    "Hints: \n",
    "* Use `&` to put together mutilple logical expression\n",
    "* Use `()` to wrap each logical expression"
   ]
  },
  {
   "cell_type": "code",
   "execution_count": 72,
   "metadata": {
    "scrolled": true
   },
   "outputs": [
    {
     "data": {
      "text/html": [
       "<div>\n",
       "<style scoped>\n",
       "    .dataframe tbody tr th:only-of-type {\n",
       "        vertical-align: middle;\n",
       "    }\n",
       "\n",
       "    .dataframe tbody tr th {\n",
       "        vertical-align: top;\n",
       "    }\n",
       "\n",
       "    .dataframe thead th {\n",
       "        text-align: right;\n",
       "    }\n",
       "</style>\n",
       "<table border=\"1\" class=\"dataframe\">\n",
       "  <thead>\n",
       "    <tr style=\"text-align: right;\">\n",
       "      <th></th>\n",
       "      <th>AcademicYear</th>\n",
       "      <th>LevelOfStudy</th>\n",
       "      <th>ProgrammeCategory</th>\n",
       "      <th>Sex</th>\n",
       "      <th>Headcount</th>\n",
       "    </tr>\n",
       "  </thead>\n",
       "  <tbody>\n",
       "    <tr>\n",
       "      <th>16</th>\n",
       "      <td>2009/10</td>\n",
       "      <td>Undergraduate</td>\n",
       "      <td>Business and Management</td>\n",
       "      <td>M</td>\n",
       "      <td>1861</td>\n",
       "    </tr>\n",
       "    <tr>\n",
       "      <th>72</th>\n",
       "      <td>2010/11</td>\n",
       "      <td>Undergraduate</td>\n",
       "      <td>Business and Management</td>\n",
       "      <td>M</td>\n",
       "      <td>1900</td>\n",
       "    </tr>\n",
       "    <tr>\n",
       "      <th>128</th>\n",
       "      <td>2011/12</td>\n",
       "      <td>Undergraduate</td>\n",
       "      <td>Business and Management</td>\n",
       "      <td>M</td>\n",
       "      <td>1815</td>\n",
       "    </tr>\n",
       "    <tr>\n",
       "      <th>184</th>\n",
       "      <td>2012/13</td>\n",
       "      <td>Undergraduate</td>\n",
       "      <td>Business and Management</td>\n",
       "      <td>M</td>\n",
       "      <td>1826</td>\n",
       "    </tr>\n",
       "    <tr>\n",
       "      <th>240</th>\n",
       "      <td>2013/14</td>\n",
       "      <td>Undergraduate</td>\n",
       "      <td>Business and Management</td>\n",
       "      <td>M</td>\n",
       "      <td>1881</td>\n",
       "    </tr>\n",
       "    <tr>\n",
       "      <th>296</th>\n",
       "      <td>2014/15</td>\n",
       "      <td>Undergraduate</td>\n",
       "      <td>Business and Management</td>\n",
       "      <td>M</td>\n",
       "      <td>1927</td>\n",
       "    </tr>\n",
       "    <tr>\n",
       "      <th>349</th>\n",
       "      <td>2015/16</td>\n",
       "      <td>Undergraduate</td>\n",
       "      <td>Business and Management</td>\n",
       "      <td>M</td>\n",
       "      <td>1881</td>\n",
       "    </tr>\n",
       "    <tr>\n",
       "      <th>403</th>\n",
       "      <td>2016/17</td>\n",
       "      <td>Undergraduate</td>\n",
       "      <td>Business and Management</td>\n",
       "      <td>M</td>\n",
       "      <td>1892</td>\n",
       "    </tr>\n",
       "    <tr>\n",
       "      <th>457</th>\n",
       "      <td>2017/18</td>\n",
       "      <td>Undergraduate</td>\n",
       "      <td>Business and Management</td>\n",
       "      <td>M</td>\n",
       "      <td>1944</td>\n",
       "    </tr>\n",
       "    <tr>\n",
       "      <th>511</th>\n",
       "      <td>2018/19</td>\n",
       "      <td>Undergraduate</td>\n",
       "      <td>Business and Management</td>\n",
       "      <td>M</td>\n",
       "      <td>1826</td>\n",
       "    </tr>\n",
       "    <tr>\n",
       "      <th>563</th>\n",
       "      <td>2019/20</td>\n",
       "      <td>Undergraduate</td>\n",
       "      <td>Business and Management</td>\n",
       "      <td>M</td>\n",
       "      <td>1902</td>\n",
       "    </tr>\n",
       "    <tr>\n",
       "      <th>613</th>\n",
       "      <td>2020/21</td>\n",
       "      <td>Undergraduate</td>\n",
       "      <td>Business and Management</td>\n",
       "      <td>M</td>\n",
       "      <td>1959</td>\n",
       "    </tr>\n",
       "  </tbody>\n",
       "</table>\n",
       "</div>"
      ],
      "text/plain": [
       "    AcademicYear   LevelOfStudy        ProgrammeCategory Sex  Headcount\n",
       "16       2009/10  Undergraduate  Business and Management   M       1861\n",
       "72       2010/11  Undergraduate  Business and Management   M       1900\n",
       "128      2011/12  Undergraduate  Business and Management   M       1815\n",
       "184      2012/13  Undergraduate  Business and Management   M       1826\n",
       "240      2013/14  Undergraduate  Business and Management   M       1881\n",
       "296      2014/15  Undergraduate  Business and Management   M       1927\n",
       "349      2015/16  Undergraduate  Business and Management   M       1881\n",
       "403      2016/17  Undergraduate  Business and Management   M       1892\n",
       "457      2017/18  Undergraduate  Business and Management   M       1944\n",
       "511      2018/19  Undergraduate  Business and Management   M       1826\n",
       "563      2019/20  Undergraduate  Business and Management   M       1902\n",
       "613      2020/21  Undergraduate  Business and Management   M       1959"
      ]
     },
     "execution_count": 72,
     "metadata": {},
     "output_type": "execute_result"
    }
   ],
   "source": [
    "df[(df['LevelOfStudy']=='Undergraduate') & \n",
    "   (df['ProgrammeCategory']=='Business and Management') & \n",
    "   (df['Sex']=='M')]"
   ]
  },
  {
   "cell_type": "markdown",
   "metadata": {},
   "source": [
    "### Task 4\n",
    "- Select all the rows that `LevelOfStudy` is  `Undergraduate` and `ProgrammeCategory` is `Business and Management` and for rows of male only.  \n",
    "- Show only the `AcademicYear` and `Headcount`\n",
    "\n",
    "Hints: \n",
    "* Use `&` to put together mutilple logical expression\n",
    "* Use `()` to wrap each logical expression"
   ]
  },
  {
   "cell_type": "code",
   "execution_count": 26,
   "metadata": {
    "scrolled": true
   },
   "outputs": [
    {
     "data": {
      "text/html": [
       "<div>\n",
       "<style scoped>\n",
       "    .dataframe tbody tr th:only-of-type {\n",
       "        vertical-align: middle;\n",
       "    }\n",
       "\n",
       "    .dataframe tbody tr th {\n",
       "        vertical-align: top;\n",
       "    }\n",
       "\n",
       "    .dataframe thead th {\n",
       "        text-align: right;\n",
       "    }\n",
       "</style>\n",
       "<table border=\"1\" class=\"dataframe\">\n",
       "  <thead>\n",
       "    <tr style=\"text-align: right;\">\n",
       "      <th></th>\n",
       "      <th>AcademicYear</th>\n",
       "      <th>Headcount</th>\n",
       "    </tr>\n",
       "  </thead>\n",
       "  <tbody>\n",
       "    <tr>\n",
       "      <th>16</th>\n",
       "      <td>2009/10</td>\n",
       "      <td>1861</td>\n",
       "    </tr>\n",
       "    <tr>\n",
       "      <th>72</th>\n",
       "      <td>2010/11</td>\n",
       "      <td>1900</td>\n",
       "    </tr>\n",
       "    <tr>\n",
       "      <th>128</th>\n",
       "      <td>2011/12</td>\n",
       "      <td>1815</td>\n",
       "    </tr>\n",
       "    <tr>\n",
       "      <th>184</th>\n",
       "      <td>2012/13</td>\n",
       "      <td>1826</td>\n",
       "    </tr>\n",
       "    <tr>\n",
       "      <th>240</th>\n",
       "      <td>2013/14</td>\n",
       "      <td>1881</td>\n",
       "    </tr>\n",
       "    <tr>\n",
       "      <th>296</th>\n",
       "      <td>2014/15</td>\n",
       "      <td>1927</td>\n",
       "    </tr>\n",
       "    <tr>\n",
       "      <th>349</th>\n",
       "      <td>2015/16</td>\n",
       "      <td>1881</td>\n",
       "    </tr>\n",
       "    <tr>\n",
       "      <th>403</th>\n",
       "      <td>2016/17</td>\n",
       "      <td>1892</td>\n",
       "    </tr>\n",
       "    <tr>\n",
       "      <th>457</th>\n",
       "      <td>2017/18</td>\n",
       "      <td>1944</td>\n",
       "    </tr>\n",
       "    <tr>\n",
       "      <th>511</th>\n",
       "      <td>2018/19</td>\n",
       "      <td>1826</td>\n",
       "    </tr>\n",
       "    <tr>\n",
       "      <th>563</th>\n",
       "      <td>2019/20</td>\n",
       "      <td>1902</td>\n",
       "    </tr>\n",
       "    <tr>\n",
       "      <th>613</th>\n",
       "      <td>2020/21</td>\n",
       "      <td>1959</td>\n",
       "    </tr>\n",
       "  </tbody>\n",
       "</table>\n",
       "</div>"
      ],
      "text/plain": [
       "    AcademicYear  Headcount\n",
       "16       2009/10       1861\n",
       "72       2010/11       1900\n",
       "128      2011/12       1815\n",
       "184      2012/13       1826\n",
       "240      2013/14       1881\n",
       "296      2014/15       1927\n",
       "349      2015/16       1881\n",
       "403      2016/17       1892\n",
       "457      2017/18       1944\n",
       "511      2018/19       1826\n",
       "563      2019/20       1902\n",
       "613      2020/21       1959"
      ]
     },
     "execution_count": 26,
     "metadata": {},
     "output_type": "execute_result"
    }
   ],
   "source": [
    "df[(df['LevelOfStudy']=='Undergraduate') & \n",
    "   (df['ProgrammeCategory']=='Business and Management') & \n",
    "   (df['Sex']=='M')][['AcademicYear', \"Headcount\"]]"
   ]
  },
  {
   "cell_type": "markdown",
   "metadata": {},
   "source": [
    "# Reading External Data Source\n",
    "\n",
    "use `pd.read_xxx()` funtion to read file of various types.\n",
    "\n",
    "Type `pd.read_` + `TAB` to see the complete list of read functions.\n",
    "\n",
    "**Example**:\n",
    "```\n",
    "allowance_df = pd.read_csv('./data/allowance.csv') # the dot './' mean current path path\n",
    "allowance_df.head() # return the first 5 rows\n",
    "allowance_df.tail() # return the last 5 rows\n",
    "allowance_df.head(8)\n",
    "allowance_df.tail(8)\n",
    "allowance_df.info() # the table meta data\n",
    "allowance_df.describe() # basic statistic information\n",
    "```\n",
    "**Handling Empty Values**:\n",
    "- The `info()` method also tells us how many Non-Null values there are present in each column\n",
    "- Empty values, or Null values, can be bad when analyzing data, and you should consider removing rows with empty values or replace the empty value with an average value of the column\n",
    "- This process is a called data tidying."
   ]
  },
  {
   "cell_type": "code",
   "execution_count": 27,
   "metadata": {},
   "outputs": [],
   "source": [
    "allowance_df = pd.read_csv('./data/allowance.csv')"
   ]
  },
  {
   "cell_type": "code",
   "execution_count": 28,
   "metadata": {},
   "outputs": [
    {
     "data": {
      "text/html": [
       "<div>\n",
       "<style scoped>\n",
       "    .dataframe tbody tr th:only-of-type {\n",
       "        vertical-align: middle;\n",
       "    }\n",
       "\n",
       "    .dataframe tbody tr th {\n",
       "        vertical-align: top;\n",
       "    }\n",
       "\n",
       "    .dataframe thead th {\n",
       "        text-align: right;\n",
       "    }\n",
       "</style>\n",
       "<table border=\"1\" class=\"dataframe\">\n",
       "  <thead>\n",
       "    <tr style=\"text-align: right;\">\n",
       "      <th></th>\n",
       "      <th>Assessment_Year</th>\n",
       "      <th>Basic</th>\n",
       "      <th>Married_Person</th>\n",
       "      <th>Child</th>\n",
       "      <th>Child_newborn</th>\n",
       "      <th>Dependent_Brother_Sister</th>\n",
       "      <th>Dependent_Parent_60</th>\n",
       "      <th>Dependent_Parent_55</th>\n",
       "      <th>Additional_Dependent_Parent_60</th>\n",
       "      <th>Additional_Dependent_Parent_55</th>\n",
       "      <th>Personal_Disability_Allowance</th>\n",
       "      <th>Single_Parent</th>\n",
       "      <th>Disabled_Dependant</th>\n",
       "    </tr>\n",
       "  </thead>\n",
       "  <tbody>\n",
       "    <tr>\n",
       "      <th>0</th>\n",
       "      <td>2019/20</td>\n",
       "      <td>132000</td>\n",
       "      <td>264000</td>\n",
       "      <td>120000</td>\n",
       "      <td>120000</td>\n",
       "      <td>37500</td>\n",
       "      <td>50000</td>\n",
       "      <td>25000</td>\n",
       "      <td>50000</td>\n",
       "      <td>25000</td>\n",
       "      <td>75000.0</td>\n",
       "      <td>132000</td>\n",
       "      <td>75000</td>\n",
       "    </tr>\n",
       "    <tr>\n",
       "      <th>1</th>\n",
       "      <td>2018/19</td>\n",
       "      <td>132000</td>\n",
       "      <td>264000</td>\n",
       "      <td>120000</td>\n",
       "      <td>120000</td>\n",
       "      <td>37500</td>\n",
       "      <td>50000</td>\n",
       "      <td>25000</td>\n",
       "      <td>50000</td>\n",
       "      <td>25000</td>\n",
       "      <td>75000.0</td>\n",
       "      <td>132000</td>\n",
       "      <td>75000</td>\n",
       "    </tr>\n",
       "    <tr>\n",
       "      <th>2</th>\n",
       "      <td>2017/18</td>\n",
       "      <td>132000</td>\n",
       "      <td>264000</td>\n",
       "      <td>100000</td>\n",
       "      <td>100000</td>\n",
       "      <td>37500</td>\n",
       "      <td>46000</td>\n",
       "      <td>23000</td>\n",
       "      <td>46000</td>\n",
       "      <td>23000</td>\n",
       "      <td>NaN</td>\n",
       "      <td>132000</td>\n",
       "      <td>75000</td>\n",
       "    </tr>\n",
       "    <tr>\n",
       "      <th>3</th>\n",
       "      <td>2016/17</td>\n",
       "      <td>132000</td>\n",
       "      <td>264000</td>\n",
       "      <td>100000</td>\n",
       "      <td>100000</td>\n",
       "      <td>33000</td>\n",
       "      <td>46000</td>\n",
       "      <td>23000</td>\n",
       "      <td>46000</td>\n",
       "      <td>23000</td>\n",
       "      <td>NaN</td>\n",
       "      <td>132000</td>\n",
       "      <td>66000</td>\n",
       "    </tr>\n",
       "    <tr>\n",
       "      <th>4</th>\n",
       "      <td>2015/16</td>\n",
       "      <td>120000</td>\n",
       "      <td>240000</td>\n",
       "      <td>100000</td>\n",
       "      <td>100000</td>\n",
       "      <td>33000</td>\n",
       "      <td>40000</td>\n",
       "      <td>20000</td>\n",
       "      <td>40000</td>\n",
       "      <td>20000</td>\n",
       "      <td>NaN</td>\n",
       "      <td>120000</td>\n",
       "      <td>66000</td>\n",
       "    </tr>\n",
       "  </tbody>\n",
       "</table>\n",
       "</div>"
      ],
      "text/plain": [
       "  Assessment_Year   Basic  Married_Person   Child  Child_newborn  \\\n",
       "0         2019/20  132000          264000  120000         120000   \n",
       "1         2018/19  132000          264000  120000         120000   \n",
       "2         2017/18  132000          264000  100000         100000   \n",
       "3         2016/17  132000          264000  100000         100000   \n",
       "4         2015/16  120000          240000  100000         100000   \n",
       "\n",
       "   Dependent_Brother_Sister  Dependent_Parent_60  Dependent_Parent_55  \\\n",
       "0                     37500                50000                25000   \n",
       "1                     37500                50000                25000   \n",
       "2                     37500                46000                23000   \n",
       "3                     33000                46000                23000   \n",
       "4                     33000                40000                20000   \n",
       "\n",
       "   Additional_Dependent_Parent_60  Additional_Dependent_Parent_55  \\\n",
       "0                           50000                           25000   \n",
       "1                           50000                           25000   \n",
       "2                           46000                           23000   \n",
       "3                           46000                           23000   \n",
       "4                           40000                           20000   \n",
       "\n",
       "   Personal_Disability_Allowance  Single_Parent  Disabled_Dependant  \n",
       "0                        75000.0         132000               75000  \n",
       "1                        75000.0         132000               75000  \n",
       "2                            NaN         132000               75000  \n",
       "3                            NaN         132000               66000  \n",
       "4                            NaN         120000               66000  "
      ]
     },
     "execution_count": 28,
     "metadata": {},
     "output_type": "execute_result"
    }
   ],
   "source": [
    "allowance_df.head()"
   ]
  },
  {
   "cell_type": "code",
   "execution_count": 29,
   "metadata": {},
   "outputs": [
    {
     "data": {
      "text/html": [
       "<div>\n",
       "<style scoped>\n",
       "    .dataframe tbody tr th:only-of-type {\n",
       "        vertical-align: middle;\n",
       "    }\n",
       "\n",
       "    .dataframe tbody tr th {\n",
       "        vertical-align: top;\n",
       "    }\n",
       "\n",
       "    .dataframe thead th {\n",
       "        text-align: right;\n",
       "    }\n",
       "</style>\n",
       "<table border=\"1\" class=\"dataframe\">\n",
       "  <thead>\n",
       "    <tr style=\"text-align: right;\">\n",
       "      <th></th>\n",
       "      <th>Assessment_Year</th>\n",
       "      <th>Basic</th>\n",
       "      <th>Married_Person</th>\n",
       "      <th>Child</th>\n",
       "      <th>Child_newborn</th>\n",
       "      <th>Dependent_Brother_Sister</th>\n",
       "      <th>Dependent_Parent_60</th>\n",
       "      <th>Dependent_Parent_55</th>\n",
       "      <th>Additional_Dependent_Parent_60</th>\n",
       "      <th>Additional_Dependent_Parent_55</th>\n",
       "      <th>Personal_Disability_Allowance</th>\n",
       "      <th>Single_Parent</th>\n",
       "      <th>Disabled_Dependant</th>\n",
       "    </tr>\n",
       "  </thead>\n",
       "  <tbody>\n",
       "    <tr>\n",
       "      <th>6</th>\n",
       "      <td>2013/14</td>\n",
       "      <td>120000</td>\n",
       "      <td>240000</td>\n",
       "      <td>70000</td>\n",
       "      <td>70000</td>\n",
       "      <td>33000</td>\n",
       "      <td>38000</td>\n",
       "      <td>19000</td>\n",
       "      <td>38000</td>\n",
       "      <td>19000</td>\n",
       "      <td>NaN</td>\n",
       "      <td>120000</td>\n",
       "      <td>66000</td>\n",
       "    </tr>\n",
       "    <tr>\n",
       "      <th>7</th>\n",
       "      <td>2012/13</td>\n",
       "      <td>120000</td>\n",
       "      <td>240000</td>\n",
       "      <td>63000</td>\n",
       "      <td>63000</td>\n",
       "      <td>33000</td>\n",
       "      <td>38000</td>\n",
       "      <td>19000</td>\n",
       "      <td>38000</td>\n",
       "      <td>19000</td>\n",
       "      <td>NaN</td>\n",
       "      <td>120000</td>\n",
       "      <td>66000</td>\n",
       "    </tr>\n",
       "    <tr>\n",
       "      <th>8</th>\n",
       "      <td>2011/12</td>\n",
       "      <td>108000</td>\n",
       "      <td>216000</td>\n",
       "      <td>60000</td>\n",
       "      <td>60000</td>\n",
       "      <td>30000</td>\n",
       "      <td>36000</td>\n",
       "      <td>18000</td>\n",
       "      <td>36000</td>\n",
       "      <td>18000</td>\n",
       "      <td>NaN</td>\n",
       "      <td>108000</td>\n",
       "      <td>60000</td>\n",
       "    </tr>\n",
       "    <tr>\n",
       "      <th>9</th>\n",
       "      <td>2010/11</td>\n",
       "      <td>108000</td>\n",
       "      <td>216000</td>\n",
       "      <td>50000</td>\n",
       "      <td>50000</td>\n",
       "      <td>30000</td>\n",
       "      <td>30000</td>\n",
       "      <td>15000</td>\n",
       "      <td>30000</td>\n",
       "      <td>15000</td>\n",
       "      <td>NaN</td>\n",
       "      <td>108000</td>\n",
       "      <td>60000</td>\n",
       "    </tr>\n",
       "    <tr>\n",
       "      <th>10</th>\n",
       "      <td>2009/10</td>\n",
       "      <td>108000</td>\n",
       "      <td>216000</td>\n",
       "      <td>50000</td>\n",
       "      <td>50000</td>\n",
       "      <td>30000</td>\n",
       "      <td>30000</td>\n",
       "      <td>15000</td>\n",
       "      <td>30000</td>\n",
       "      <td>15000</td>\n",
       "      <td>NaN</td>\n",
       "      <td>108000</td>\n",
       "      <td>60000</td>\n",
       "    </tr>\n",
       "  </tbody>\n",
       "</table>\n",
       "</div>"
      ],
      "text/plain": [
       "   Assessment_Year   Basic  Married_Person  Child  Child_newborn  \\\n",
       "6          2013/14  120000          240000  70000          70000   \n",
       "7          2012/13  120000          240000  63000          63000   \n",
       "8          2011/12  108000          216000  60000          60000   \n",
       "9          2010/11  108000          216000  50000          50000   \n",
       "10         2009/10  108000          216000  50000          50000   \n",
       "\n",
       "    Dependent_Brother_Sister  Dependent_Parent_60  Dependent_Parent_55  \\\n",
       "6                      33000                38000                19000   \n",
       "7                      33000                38000                19000   \n",
       "8                      30000                36000                18000   \n",
       "9                      30000                30000                15000   \n",
       "10                     30000                30000                15000   \n",
       "\n",
       "    Additional_Dependent_Parent_60  Additional_Dependent_Parent_55  \\\n",
       "6                            38000                           19000   \n",
       "7                            38000                           19000   \n",
       "8                            36000                           18000   \n",
       "9                            30000                           15000   \n",
       "10                           30000                           15000   \n",
       "\n",
       "    Personal_Disability_Allowance  Single_Parent  Disabled_Dependant  \n",
       "6                             NaN         120000               66000  \n",
       "7                             NaN         120000               66000  \n",
       "8                             NaN         108000               60000  \n",
       "9                             NaN         108000               60000  \n",
       "10                            NaN         108000               60000  "
      ]
     },
     "execution_count": 29,
     "metadata": {},
     "output_type": "execute_result"
    }
   ],
   "source": [
    "allowance_df.tail()"
   ]
  },
  {
   "cell_type": "code",
   "execution_count": 30,
   "metadata": {},
   "outputs": [
    {
     "data": {
      "text/html": [
       "<div>\n",
       "<style scoped>\n",
       "    .dataframe tbody tr th:only-of-type {\n",
       "        vertical-align: middle;\n",
       "    }\n",
       "\n",
       "    .dataframe tbody tr th {\n",
       "        vertical-align: top;\n",
       "    }\n",
       "\n",
       "    .dataframe thead th {\n",
       "        text-align: right;\n",
       "    }\n",
       "</style>\n",
       "<table border=\"1\" class=\"dataframe\">\n",
       "  <thead>\n",
       "    <tr style=\"text-align: right;\">\n",
       "      <th></th>\n",
       "      <th>Assessment_Year</th>\n",
       "      <th>Basic</th>\n",
       "      <th>Married_Person</th>\n",
       "      <th>Child</th>\n",
       "      <th>Child_newborn</th>\n",
       "      <th>Dependent_Brother_Sister</th>\n",
       "      <th>Dependent_Parent_60</th>\n",
       "      <th>Dependent_Parent_55</th>\n",
       "      <th>Additional_Dependent_Parent_60</th>\n",
       "      <th>Additional_Dependent_Parent_55</th>\n",
       "      <th>Personal_Disability_Allowance</th>\n",
       "      <th>Single_Parent</th>\n",
       "      <th>Disabled_Dependant</th>\n",
       "    </tr>\n",
       "  </thead>\n",
       "  <tbody>\n",
       "    <tr>\n",
       "      <th>0</th>\n",
       "      <td>2019/20</td>\n",
       "      <td>132000</td>\n",
       "      <td>264000</td>\n",
       "      <td>120000</td>\n",
       "      <td>120000</td>\n",
       "      <td>37500</td>\n",
       "      <td>50000</td>\n",
       "      <td>25000</td>\n",
       "      <td>50000</td>\n",
       "      <td>25000</td>\n",
       "      <td>75000.0</td>\n",
       "      <td>132000</td>\n",
       "      <td>75000</td>\n",
       "    </tr>\n",
       "    <tr>\n",
       "      <th>1</th>\n",
       "      <td>2018/19</td>\n",
       "      <td>132000</td>\n",
       "      <td>264000</td>\n",
       "      <td>120000</td>\n",
       "      <td>120000</td>\n",
       "      <td>37500</td>\n",
       "      <td>50000</td>\n",
       "      <td>25000</td>\n",
       "      <td>50000</td>\n",
       "      <td>25000</td>\n",
       "      <td>75000.0</td>\n",
       "      <td>132000</td>\n",
       "      <td>75000</td>\n",
       "    </tr>\n",
       "    <tr>\n",
       "      <th>2</th>\n",
       "      <td>2017/18</td>\n",
       "      <td>132000</td>\n",
       "      <td>264000</td>\n",
       "      <td>100000</td>\n",
       "      <td>100000</td>\n",
       "      <td>37500</td>\n",
       "      <td>46000</td>\n",
       "      <td>23000</td>\n",
       "      <td>46000</td>\n",
       "      <td>23000</td>\n",
       "      <td>NaN</td>\n",
       "      <td>132000</td>\n",
       "      <td>75000</td>\n",
       "    </tr>\n",
       "    <tr>\n",
       "      <th>3</th>\n",
       "      <td>2016/17</td>\n",
       "      <td>132000</td>\n",
       "      <td>264000</td>\n",
       "      <td>100000</td>\n",
       "      <td>100000</td>\n",
       "      <td>33000</td>\n",
       "      <td>46000</td>\n",
       "      <td>23000</td>\n",
       "      <td>46000</td>\n",
       "      <td>23000</td>\n",
       "      <td>NaN</td>\n",
       "      <td>132000</td>\n",
       "      <td>66000</td>\n",
       "    </tr>\n",
       "    <tr>\n",
       "      <th>4</th>\n",
       "      <td>2015/16</td>\n",
       "      <td>120000</td>\n",
       "      <td>240000</td>\n",
       "      <td>100000</td>\n",
       "      <td>100000</td>\n",
       "      <td>33000</td>\n",
       "      <td>40000</td>\n",
       "      <td>20000</td>\n",
       "      <td>40000</td>\n",
       "      <td>20000</td>\n",
       "      <td>NaN</td>\n",
       "      <td>120000</td>\n",
       "      <td>66000</td>\n",
       "    </tr>\n",
       "    <tr>\n",
       "      <th>5</th>\n",
       "      <td>2014/15</td>\n",
       "      <td>120000</td>\n",
       "      <td>240000</td>\n",
       "      <td>70000</td>\n",
       "      <td>70000</td>\n",
       "      <td>33000</td>\n",
       "      <td>40000</td>\n",
       "      <td>20000</td>\n",
       "      <td>40000</td>\n",
       "      <td>20000</td>\n",
       "      <td>NaN</td>\n",
       "      <td>120000</td>\n",
       "      <td>66000</td>\n",
       "    </tr>\n",
       "    <tr>\n",
       "      <th>6</th>\n",
       "      <td>2013/14</td>\n",
       "      <td>120000</td>\n",
       "      <td>240000</td>\n",
       "      <td>70000</td>\n",
       "      <td>70000</td>\n",
       "      <td>33000</td>\n",
       "      <td>38000</td>\n",
       "      <td>19000</td>\n",
       "      <td>38000</td>\n",
       "      <td>19000</td>\n",
       "      <td>NaN</td>\n",
       "      <td>120000</td>\n",
       "      <td>66000</td>\n",
       "    </tr>\n",
       "    <tr>\n",
       "      <th>7</th>\n",
       "      <td>2012/13</td>\n",
       "      <td>120000</td>\n",
       "      <td>240000</td>\n",
       "      <td>63000</td>\n",
       "      <td>63000</td>\n",
       "      <td>33000</td>\n",
       "      <td>38000</td>\n",
       "      <td>19000</td>\n",
       "      <td>38000</td>\n",
       "      <td>19000</td>\n",
       "      <td>NaN</td>\n",
       "      <td>120000</td>\n",
       "      <td>66000</td>\n",
       "    </tr>\n",
       "  </tbody>\n",
       "</table>\n",
       "</div>"
      ],
      "text/plain": [
       "  Assessment_Year   Basic  Married_Person   Child  Child_newborn  \\\n",
       "0         2019/20  132000          264000  120000         120000   \n",
       "1         2018/19  132000          264000  120000         120000   \n",
       "2         2017/18  132000          264000  100000         100000   \n",
       "3         2016/17  132000          264000  100000         100000   \n",
       "4         2015/16  120000          240000  100000         100000   \n",
       "5         2014/15  120000          240000   70000          70000   \n",
       "6         2013/14  120000          240000   70000          70000   \n",
       "7         2012/13  120000          240000   63000          63000   \n",
       "\n",
       "   Dependent_Brother_Sister  Dependent_Parent_60  Dependent_Parent_55  \\\n",
       "0                     37500                50000                25000   \n",
       "1                     37500                50000                25000   \n",
       "2                     37500                46000                23000   \n",
       "3                     33000                46000                23000   \n",
       "4                     33000                40000                20000   \n",
       "5                     33000                40000                20000   \n",
       "6                     33000                38000                19000   \n",
       "7                     33000                38000                19000   \n",
       "\n",
       "   Additional_Dependent_Parent_60  Additional_Dependent_Parent_55  \\\n",
       "0                           50000                           25000   \n",
       "1                           50000                           25000   \n",
       "2                           46000                           23000   \n",
       "3                           46000                           23000   \n",
       "4                           40000                           20000   \n",
       "5                           40000                           20000   \n",
       "6                           38000                           19000   \n",
       "7                           38000                           19000   \n",
       "\n",
       "   Personal_Disability_Allowance  Single_Parent  Disabled_Dependant  \n",
       "0                        75000.0         132000               75000  \n",
       "1                        75000.0         132000               75000  \n",
       "2                            NaN         132000               75000  \n",
       "3                            NaN         132000               66000  \n",
       "4                            NaN         120000               66000  \n",
       "5                            NaN         120000               66000  \n",
       "6                            NaN         120000               66000  \n",
       "7                            NaN         120000               66000  "
      ]
     },
     "execution_count": 30,
     "metadata": {},
     "output_type": "execute_result"
    }
   ],
   "source": [
    "allowance_df.head(8)"
   ]
  },
  {
   "cell_type": "code",
   "execution_count": 31,
   "metadata": {},
   "outputs": [
    {
     "name": "stdout",
     "output_type": "stream",
     "text": [
      "<class 'pandas.core.frame.DataFrame'>\n",
      "RangeIndex: 11 entries, 0 to 10\n",
      "Data columns (total 13 columns):\n",
      " #   Column                          Non-Null Count  Dtype  \n",
      "---  ------                          --------------  -----  \n",
      " 0   Assessment_Year                 11 non-null     object \n",
      " 1   Basic                           11 non-null     int64  \n",
      " 2   Married_Person                  11 non-null     int64  \n",
      " 3   Child                           11 non-null     int64  \n",
      " 4   Child_newborn                   11 non-null     int64  \n",
      " 5   Dependent_Brother_Sister        11 non-null     int64  \n",
      " 6   Dependent_Parent_60             11 non-null     int64  \n",
      " 7   Dependent_Parent_55             11 non-null     int64  \n",
      " 8   Additional_Dependent_Parent_60  11 non-null     int64  \n",
      " 9   Additional_Dependent_Parent_55  11 non-null     int64  \n",
      " 10  Personal_Disability_Allowance   2 non-null      float64\n",
      " 11  Single_Parent                   11 non-null     int64  \n",
      " 12  Disabled_Dependant              11 non-null     int64  \n",
      "dtypes: float64(1), int64(11), object(1)\n",
      "memory usage: 1.2+ KB\n"
     ]
    }
   ],
   "source": [
    "allowance_df.info() # the table meta data"
   ]
  },
  {
   "cell_type": "code",
   "execution_count": 32,
   "metadata": {},
   "outputs": [
    {
     "data": {
      "text/html": [
       "<div>\n",
       "<style scoped>\n",
       "    .dataframe tbody tr th:only-of-type {\n",
       "        vertical-align: middle;\n",
       "    }\n",
       "\n",
       "    .dataframe tbody tr th {\n",
       "        vertical-align: top;\n",
       "    }\n",
       "\n",
       "    .dataframe thead th {\n",
       "        text-align: right;\n",
       "    }\n",
       "</style>\n",
       "<table border=\"1\" class=\"dataframe\">\n",
       "  <thead>\n",
       "    <tr style=\"text-align: right;\">\n",
       "      <th></th>\n",
       "      <th>Basic</th>\n",
       "      <th>Married_Person</th>\n",
       "      <th>Child</th>\n",
       "      <th>Child_newborn</th>\n",
       "      <th>Dependent_Brother_Sister</th>\n",
       "      <th>Dependent_Parent_60</th>\n",
       "      <th>Dependent_Parent_55</th>\n",
       "      <th>Additional_Dependent_Parent_60</th>\n",
       "      <th>Additional_Dependent_Parent_55</th>\n",
       "      <th>Personal_Disability_Allowance</th>\n",
       "      <th>Single_Parent</th>\n",
       "      <th>Disabled_Dependant</th>\n",
       "    </tr>\n",
       "  </thead>\n",
       "  <tbody>\n",
       "    <tr>\n",
       "      <th>count</th>\n",
       "      <td>11.000000</td>\n",
       "      <td>11.000000</td>\n",
       "      <td>11.000000</td>\n",
       "      <td>11.000000</td>\n",
       "      <td>11.000000</td>\n",
       "      <td>11.000000</td>\n",
       "      <td>11.000000</td>\n",
       "      <td>11.000000</td>\n",
       "      <td>11.000000</td>\n",
       "      <td>2.0</td>\n",
       "      <td>11.000000</td>\n",
       "      <td>11.000000</td>\n",
       "    </tr>\n",
       "    <tr>\n",
       "      <th>mean</th>\n",
       "      <td>121090.909091</td>\n",
       "      <td>242181.818182</td>\n",
       "      <td>82090.909091</td>\n",
       "      <td>82090.909091</td>\n",
       "      <td>33409.090909</td>\n",
       "      <td>40363.636364</td>\n",
       "      <td>20181.818182</td>\n",
       "      <td>40363.636364</td>\n",
       "      <td>20181.818182</td>\n",
       "      <td>75000.0</td>\n",
       "      <td>121090.909091</td>\n",
       "      <td>66818.181818</td>\n",
       "    </tr>\n",
       "    <tr>\n",
       "      <th>std</th>\n",
       "      <td>9974.512975</td>\n",
       "      <td>19949.025950</td>\n",
       "      <td>26534.711400</td>\n",
       "      <td>26534.711400</td>\n",
       "      <td>2931.025263</td>\n",
       "      <td>7032.392584</td>\n",
       "      <td>3516.196292</td>\n",
       "      <td>7032.392584</td>\n",
       "      <td>3516.196292</td>\n",
       "      <td>0.0</td>\n",
       "      <td>9974.512975</td>\n",
       "      <td>5862.050526</td>\n",
       "    </tr>\n",
       "    <tr>\n",
       "      <th>min</th>\n",
       "      <td>108000.000000</td>\n",
       "      <td>216000.000000</td>\n",
       "      <td>50000.000000</td>\n",
       "      <td>50000.000000</td>\n",
       "      <td>30000.000000</td>\n",
       "      <td>30000.000000</td>\n",
       "      <td>15000.000000</td>\n",
       "      <td>30000.000000</td>\n",
       "      <td>15000.000000</td>\n",
       "      <td>75000.0</td>\n",
       "      <td>108000.000000</td>\n",
       "      <td>60000.000000</td>\n",
       "    </tr>\n",
       "    <tr>\n",
       "      <th>25%</th>\n",
       "      <td>114000.000000</td>\n",
       "      <td>228000.000000</td>\n",
       "      <td>61500.000000</td>\n",
       "      <td>61500.000000</td>\n",
       "      <td>31500.000000</td>\n",
       "      <td>37000.000000</td>\n",
       "      <td>18500.000000</td>\n",
       "      <td>37000.000000</td>\n",
       "      <td>18500.000000</td>\n",
       "      <td>75000.0</td>\n",
       "      <td>114000.000000</td>\n",
       "      <td>63000.000000</td>\n",
       "    </tr>\n",
       "    <tr>\n",
       "      <th>50%</th>\n",
       "      <td>120000.000000</td>\n",
       "      <td>240000.000000</td>\n",
       "      <td>70000.000000</td>\n",
       "      <td>70000.000000</td>\n",
       "      <td>33000.000000</td>\n",
       "      <td>40000.000000</td>\n",
       "      <td>20000.000000</td>\n",
       "      <td>40000.000000</td>\n",
       "      <td>20000.000000</td>\n",
       "      <td>75000.0</td>\n",
       "      <td>120000.000000</td>\n",
       "      <td>66000.000000</td>\n",
       "    </tr>\n",
       "    <tr>\n",
       "      <th>75%</th>\n",
       "      <td>132000.000000</td>\n",
       "      <td>264000.000000</td>\n",
       "      <td>100000.000000</td>\n",
       "      <td>100000.000000</td>\n",
       "      <td>35250.000000</td>\n",
       "      <td>46000.000000</td>\n",
       "      <td>23000.000000</td>\n",
       "      <td>46000.000000</td>\n",
       "      <td>23000.000000</td>\n",
       "      <td>75000.0</td>\n",
       "      <td>132000.000000</td>\n",
       "      <td>70500.000000</td>\n",
       "    </tr>\n",
       "    <tr>\n",
       "      <th>max</th>\n",
       "      <td>132000.000000</td>\n",
       "      <td>264000.000000</td>\n",
       "      <td>120000.000000</td>\n",
       "      <td>120000.000000</td>\n",
       "      <td>37500.000000</td>\n",
       "      <td>50000.000000</td>\n",
       "      <td>25000.000000</td>\n",
       "      <td>50000.000000</td>\n",
       "      <td>25000.000000</td>\n",
       "      <td>75000.0</td>\n",
       "      <td>132000.000000</td>\n",
       "      <td>75000.000000</td>\n",
       "    </tr>\n",
       "  </tbody>\n",
       "</table>\n",
       "</div>"
      ],
      "text/plain": [
       "               Basic  Married_Person          Child  Child_newborn  \\\n",
       "count      11.000000       11.000000      11.000000      11.000000   \n",
       "mean   121090.909091   242181.818182   82090.909091   82090.909091   \n",
       "std      9974.512975    19949.025950   26534.711400   26534.711400   \n",
       "min    108000.000000   216000.000000   50000.000000   50000.000000   \n",
       "25%    114000.000000   228000.000000   61500.000000   61500.000000   \n",
       "50%    120000.000000   240000.000000   70000.000000   70000.000000   \n",
       "75%    132000.000000   264000.000000  100000.000000  100000.000000   \n",
       "max    132000.000000   264000.000000  120000.000000  120000.000000   \n",
       "\n",
       "       Dependent_Brother_Sister  Dependent_Parent_60  Dependent_Parent_55  \\\n",
       "count                 11.000000            11.000000            11.000000   \n",
       "mean               33409.090909         40363.636364         20181.818182   \n",
       "std                 2931.025263          7032.392584          3516.196292   \n",
       "min                30000.000000         30000.000000         15000.000000   \n",
       "25%                31500.000000         37000.000000         18500.000000   \n",
       "50%                33000.000000         40000.000000         20000.000000   \n",
       "75%                35250.000000         46000.000000         23000.000000   \n",
       "max                37500.000000         50000.000000         25000.000000   \n",
       "\n",
       "       Additional_Dependent_Parent_60  Additional_Dependent_Parent_55  \\\n",
       "count                       11.000000                       11.000000   \n",
       "mean                     40363.636364                    20181.818182   \n",
       "std                       7032.392584                     3516.196292   \n",
       "min                      30000.000000                    15000.000000   \n",
       "25%                      37000.000000                    18500.000000   \n",
       "50%                      40000.000000                    20000.000000   \n",
       "75%                      46000.000000                    23000.000000   \n",
       "max                      50000.000000                    25000.000000   \n",
       "\n",
       "       Personal_Disability_Allowance  Single_Parent  Disabled_Dependant  \n",
       "count                            2.0      11.000000           11.000000  \n",
       "mean                         75000.0  121090.909091        66818.181818  \n",
       "std                              0.0    9974.512975         5862.050526  \n",
       "min                          75000.0  108000.000000        60000.000000  \n",
       "25%                          75000.0  114000.000000        63000.000000  \n",
       "50%                          75000.0  120000.000000        66000.000000  \n",
       "75%                          75000.0  132000.000000        70500.000000  \n",
       "max                          75000.0  132000.000000        75000.000000  "
      ]
     },
     "execution_count": 32,
     "metadata": {},
     "output_type": "execute_result"
    }
   ],
   "source": [
    "allowance_df.describe() # basic statistic information"
   ]
  },
  {
   "cell_type": "markdown",
   "metadata": {},
   "source": [
    "# Tidying Data\n",
    "Fixing bad data in your data set.\n",
    "\n",
    "**Bad data could be**:\n",
    "- Empty cells\n",
    "- Data in wrong format\n",
    "- Wrong data\n",
    "- Duplicates"
   ]
  },
  {
   "cell_type": "markdown",
   "metadata": {},
   "source": [
    "## Rename Columns: `rename()`\n",
    "\n",
    "Call `rename()` function with dictionay object\n",
    "\n",
    "Example:\n",
    "```\n",
    "students.rename(columns={'Name': 'StudentName', 'Sex': 'Gender'})\n",
    "```"
   ]
  },
  {
   "cell_type": "code",
   "execution_count": 80,
   "metadata": {},
   "outputs": [
    {
     "data": {
      "text/html": [
       "<div>\n",
       "<style scoped>\n",
       "    .dataframe tbody tr th:only-of-type {\n",
       "        vertical-align: middle;\n",
       "    }\n",
       "\n",
       "    .dataframe tbody tr th {\n",
       "        vertical-align: top;\n",
       "    }\n",
       "\n",
       "    .dataframe thead th {\n",
       "        text-align: right;\n",
       "    }\n",
       "</style>\n",
       "<table border=\"1\" class=\"dataframe\">\n",
       "  <thead>\n",
       "    <tr style=\"text-align: right;\">\n",
       "      <th></th>\n",
       "      <th>Name</th>\n",
       "      <th>Age</th>\n",
       "      <th>Sex</th>\n",
       "      <th>Year</th>\n",
       "    </tr>\n",
       "  </thead>\n",
       "  <tbody>\n",
       "    <tr>\n",
       "      <th>0</th>\n",
       "      <td>Andy</td>\n",
       "      <td>20</td>\n",
       "      <td>male</td>\n",
       "      <td>1</td>\n",
       "    </tr>\n",
       "    <tr>\n",
       "      <th>1</th>\n",
       "      <td>Ben</td>\n",
       "      <td>22</td>\n",
       "      <td>male</td>\n",
       "      <td>3</td>\n",
       "    </tr>\n",
       "    <tr>\n",
       "      <th>2</th>\n",
       "      <td>Cathy</td>\n",
       "      <td>23</td>\n",
       "      <td>female</td>\n",
       "      <td>4</td>\n",
       "    </tr>\n",
       "    <tr>\n",
       "      <th>3</th>\n",
       "      <td>Debra</td>\n",
       "      <td>22</td>\n",
       "      <td>female</td>\n",
       "      <td>3</td>\n",
       "    </tr>\n",
       "    <tr>\n",
       "      <th>4</th>\n",
       "      <td>Eva</td>\n",
       "      <td>21</td>\n",
       "      <td>female</td>\n",
       "      <td>2</td>\n",
       "    </tr>\n",
       "  </tbody>\n",
       "</table>\n",
       "</div>"
      ],
      "text/plain": [
       "    Name  Age     Sex  Year\n",
       "0   Andy   20    male     1\n",
       "1    Ben   22    male     3\n",
       "2  Cathy   23  female     4\n",
       "3  Debra   22  female     3\n",
       "4    Eva   21  female     2"
      ]
     },
     "execution_count": 80,
     "metadata": {},
     "output_type": "execute_result"
    }
   ],
   "source": [
    "students"
   ]
  },
  {
   "cell_type": "code",
   "execution_count": 81,
   "metadata": {},
   "outputs": [
    {
     "data": {
      "text/html": [
       "<div>\n",
       "<style scoped>\n",
       "    .dataframe tbody tr th:only-of-type {\n",
       "        vertical-align: middle;\n",
       "    }\n",
       "\n",
       "    .dataframe tbody tr th {\n",
       "        vertical-align: top;\n",
       "    }\n",
       "\n",
       "    .dataframe thead th {\n",
       "        text-align: right;\n",
       "    }\n",
       "</style>\n",
       "<table border=\"1\" class=\"dataframe\">\n",
       "  <thead>\n",
       "    <tr style=\"text-align: right;\">\n",
       "      <th></th>\n",
       "      <th>StudentName</th>\n",
       "      <th>Age</th>\n",
       "      <th>Gender</th>\n",
       "      <th>Year</th>\n",
       "    </tr>\n",
       "  </thead>\n",
       "  <tbody>\n",
       "    <tr>\n",
       "      <th>0</th>\n",
       "      <td>Andy</td>\n",
       "      <td>20</td>\n",
       "      <td>male</td>\n",
       "      <td>1</td>\n",
       "    </tr>\n",
       "    <tr>\n",
       "      <th>1</th>\n",
       "      <td>Ben</td>\n",
       "      <td>22</td>\n",
       "      <td>male</td>\n",
       "      <td>3</td>\n",
       "    </tr>\n",
       "    <tr>\n",
       "      <th>2</th>\n",
       "      <td>Cathy</td>\n",
       "      <td>23</td>\n",
       "      <td>female</td>\n",
       "      <td>4</td>\n",
       "    </tr>\n",
       "    <tr>\n",
       "      <th>3</th>\n",
       "      <td>Debra</td>\n",
       "      <td>22</td>\n",
       "      <td>female</td>\n",
       "      <td>3</td>\n",
       "    </tr>\n",
       "    <tr>\n",
       "      <th>4</th>\n",
       "      <td>Eva</td>\n",
       "      <td>21</td>\n",
       "      <td>female</td>\n",
       "      <td>2</td>\n",
       "    </tr>\n",
       "  </tbody>\n",
       "</table>\n",
       "</div>"
      ],
      "text/plain": [
       "  StudentName  Age  Gender  Year\n",
       "0        Andy   20    male     1\n",
       "1         Ben   22    male     3\n",
       "2       Cathy   23  female     4\n",
       "3       Debra   22  female     3\n",
       "4         Eva   21  female     2"
      ]
     },
     "execution_count": 81,
     "metadata": {},
     "output_type": "execute_result"
    }
   ],
   "source": [
    "students.rename(columns={'Name': 'StudentName', 'Sex': 'Gender'})"
   ]
  },
  {
   "cell_type": "markdown",
   "metadata": {},
   "source": [
    "## Delete Columns\n",
    "\n",
    "Call `drop()` function to delete the columns that your don't want\n",
    "\n",
    "Example:\n",
    "```\n",
    "students.drop(columns=['Age', 'Year']) # this statement returns a new dataframe\n",
    "```"
   ]
  },
  {
   "cell_type": "code",
   "execution_count": 82,
   "metadata": {},
   "outputs": [
    {
     "data": {
      "text/html": [
       "<div>\n",
       "<style scoped>\n",
       "    .dataframe tbody tr th:only-of-type {\n",
       "        vertical-align: middle;\n",
       "    }\n",
       "\n",
       "    .dataframe tbody tr th {\n",
       "        vertical-align: top;\n",
       "    }\n",
       "\n",
       "    .dataframe thead th {\n",
       "        text-align: right;\n",
       "    }\n",
       "</style>\n",
       "<table border=\"1\" class=\"dataframe\">\n",
       "  <thead>\n",
       "    <tr style=\"text-align: right;\">\n",
       "      <th></th>\n",
       "      <th>Name</th>\n",
       "      <th>Sex</th>\n",
       "    </tr>\n",
       "  </thead>\n",
       "  <tbody>\n",
       "    <tr>\n",
       "      <th>0</th>\n",
       "      <td>Andy</td>\n",
       "      <td>male</td>\n",
       "    </tr>\n",
       "    <tr>\n",
       "      <th>1</th>\n",
       "      <td>Ben</td>\n",
       "      <td>male</td>\n",
       "    </tr>\n",
       "    <tr>\n",
       "      <th>2</th>\n",
       "      <td>Cathy</td>\n",
       "      <td>female</td>\n",
       "    </tr>\n",
       "    <tr>\n",
       "      <th>3</th>\n",
       "      <td>Debra</td>\n",
       "      <td>female</td>\n",
       "    </tr>\n",
       "    <tr>\n",
       "      <th>4</th>\n",
       "      <td>Eva</td>\n",
       "      <td>female</td>\n",
       "    </tr>\n",
       "  </tbody>\n",
       "</table>\n",
       "</div>"
      ],
      "text/plain": [
       "    Name     Sex\n",
       "0   Andy    male\n",
       "1    Ben    male\n",
       "2  Cathy  female\n",
       "3  Debra  female\n",
       "4    Eva  female"
      ]
     },
     "execution_count": 82,
     "metadata": {},
     "output_type": "execute_result"
    }
   ],
   "source": [
    "students.drop(columns=['Age', 'Year'])"
   ]
  },
  {
   "cell_type": "markdown",
   "metadata": {},
   "source": [
    "## Replacing the existing data-frame variable\n",
    "\n",
    "We usually tend to replace the old dataframe variable with the processed data frame and therefore the code will go like\n",
    "\n",
    "```\n",
    "students\n",
    "students = students.rename(columns={'Name': 'StudentName', 'Sex': 'Gender'})\n",
    "students = students.drop(columns=['Age', 'Year'])\n",
    "\n",
    "```"
   ]
  },
  {
   "cell_type": "code",
   "execution_count": 83,
   "metadata": {},
   "outputs": [
    {
     "data": {
      "text/html": [
       "<div>\n",
       "<style scoped>\n",
       "    .dataframe tbody tr th:only-of-type {\n",
       "        vertical-align: middle;\n",
       "    }\n",
       "\n",
       "    .dataframe tbody tr th {\n",
       "        vertical-align: top;\n",
       "    }\n",
       "\n",
       "    .dataframe thead th {\n",
       "        text-align: right;\n",
       "    }\n",
       "</style>\n",
       "<table border=\"1\" class=\"dataframe\">\n",
       "  <thead>\n",
       "    <tr style=\"text-align: right;\">\n",
       "      <th></th>\n",
       "      <th>Name</th>\n",
       "      <th>Age</th>\n",
       "      <th>Sex</th>\n",
       "      <th>Year</th>\n",
       "    </tr>\n",
       "  </thead>\n",
       "  <tbody>\n",
       "    <tr>\n",
       "      <th>0</th>\n",
       "      <td>Andy</td>\n",
       "      <td>20</td>\n",
       "      <td>male</td>\n",
       "      <td>1</td>\n",
       "    </tr>\n",
       "    <tr>\n",
       "      <th>1</th>\n",
       "      <td>Ben</td>\n",
       "      <td>22</td>\n",
       "      <td>male</td>\n",
       "      <td>3</td>\n",
       "    </tr>\n",
       "    <tr>\n",
       "      <th>2</th>\n",
       "      <td>Cathy</td>\n",
       "      <td>23</td>\n",
       "      <td>female</td>\n",
       "      <td>4</td>\n",
       "    </tr>\n",
       "    <tr>\n",
       "      <th>3</th>\n",
       "      <td>Debra</td>\n",
       "      <td>22</td>\n",
       "      <td>female</td>\n",
       "      <td>3</td>\n",
       "    </tr>\n",
       "    <tr>\n",
       "      <th>4</th>\n",
       "      <td>Eva</td>\n",
       "      <td>21</td>\n",
       "      <td>female</td>\n",
       "      <td>2</td>\n",
       "    </tr>\n",
       "  </tbody>\n",
       "</table>\n",
       "</div>"
      ],
      "text/plain": [
       "    Name  Age     Sex  Year\n",
       "0   Andy   20    male     1\n",
       "1    Ben   22    male     3\n",
       "2  Cathy   23  female     4\n",
       "3  Debra   22  female     3\n",
       "4    Eva   21  female     2"
      ]
     },
     "execution_count": 83,
     "metadata": {},
     "output_type": "execute_result"
    }
   ],
   "source": [
    "students"
   ]
  },
  {
   "cell_type": "code",
   "execution_count": 84,
   "metadata": {},
   "outputs": [],
   "source": [
    "students = students.rename(columns={'Name': 'StudentName', 'Sex': 'Gender'})"
   ]
  },
  {
   "cell_type": "code",
   "execution_count": 85,
   "metadata": {},
   "outputs": [],
   "source": [
    "students = students.drop(columns=['Age', 'Year'])"
   ]
  },
  {
   "cell_type": "markdown",
   "metadata": {},
   "source": [
    "## Drop Rows with Empty Values\n",
    "\n",
    "Empty values cause noise to your data. One of the fixing is removing them.\n",
    "\n",
    "You can remove the rows with empty value by `dropna()` function\n",
    "\n",
    "```\n",
    "cleaned_df = df.dropna() # 9 rows with null value will be dropped\n",
    "print(df.shape[0])\n",
    "print(cleaned_df.shape[0])\n",
    "cleaned_df\n",
    "cleaned_df.info()\n",
    "cleaned_df.describe()\n",
    "```"
   ]
  },
  {
   "cell_type": "code",
   "execution_count": 86,
   "metadata": {},
   "outputs": [
    {
     "name": "stdout",
     "output_type": "stream",
     "text": [
      "<class 'pandas.core.frame.DataFrame'>\n",
      "RangeIndex: 11 entries, 0 to 10\n",
      "Data columns (total 13 columns):\n",
      " #   Column                          Non-Null Count  Dtype  \n",
      "---  ------                          --------------  -----  \n",
      " 0   Assessment_Year                 11 non-null     object \n",
      " 1   Basic                           11 non-null     int64  \n",
      " 2   Married_Person                  11 non-null     int64  \n",
      " 3   Child                           11 non-null     int64  \n",
      " 4   Child_newborn                   11 non-null     int64  \n",
      " 5   Dependent_Brother_Sister        11 non-null     int64  \n",
      " 6   Dependent_Parent_60             11 non-null     int64  \n",
      " 7   Dependent_Parent_55             11 non-null     int64  \n",
      " 8   Additional_Dependent_Parent_60  11 non-null     int64  \n",
      " 9   Additional_Dependent_Parent_55  11 non-null     int64  \n",
      " 10  Personal_Disability_Allowance   2 non-null      float64\n",
      " 11  Single_Parent                   11 non-null     int64  \n",
      " 12  Disabled_Dependant              11 non-null     int64  \n",
      "dtypes: float64(1), int64(11), object(1)\n",
      "memory usage: 1.2+ KB\n"
     ]
    }
   ],
   "source": [
    "allowance_df.info()"
   ]
  },
  {
   "cell_type": "code",
   "execution_count": 87,
   "metadata": {},
   "outputs": [],
   "source": [
    "cleaned_allowance_df = allowance_df.dropna()"
   ]
  },
  {
   "cell_type": "code",
   "execution_count": 88,
   "metadata": {},
   "outputs": [
    {
     "name": "stdout",
     "output_type": "stream",
     "text": [
      "2\n"
     ]
    }
   ],
   "source": [
    "print(cleaned_allowance_df.shape[0])"
   ]
  },
  {
   "cell_type": "code",
   "execution_count": 89,
   "metadata": {},
   "outputs": [
    {
     "data": {
      "text/html": [
       "<div>\n",
       "<style scoped>\n",
       "    .dataframe tbody tr th:only-of-type {\n",
       "        vertical-align: middle;\n",
       "    }\n",
       "\n",
       "    .dataframe tbody tr th {\n",
       "        vertical-align: top;\n",
       "    }\n",
       "\n",
       "    .dataframe thead th {\n",
       "        text-align: right;\n",
       "    }\n",
       "</style>\n",
       "<table border=\"1\" class=\"dataframe\">\n",
       "  <thead>\n",
       "    <tr style=\"text-align: right;\">\n",
       "      <th></th>\n",
       "      <th>Assessment_Year</th>\n",
       "      <th>Basic</th>\n",
       "      <th>Married_Person</th>\n",
       "      <th>Child</th>\n",
       "      <th>Child_newborn</th>\n",
       "      <th>Dependent_Brother_Sister</th>\n",
       "      <th>Dependent_Parent_60</th>\n",
       "      <th>Dependent_Parent_55</th>\n",
       "      <th>Additional_Dependent_Parent_60</th>\n",
       "      <th>Additional_Dependent_Parent_55</th>\n",
       "      <th>Personal_Disability_Allowance</th>\n",
       "      <th>Single_Parent</th>\n",
       "      <th>Disabled_Dependant</th>\n",
       "    </tr>\n",
       "  </thead>\n",
       "  <tbody>\n",
       "    <tr>\n",
       "      <th>0</th>\n",
       "      <td>2019/20</td>\n",
       "      <td>132000</td>\n",
       "      <td>264000</td>\n",
       "      <td>120000</td>\n",
       "      <td>120000</td>\n",
       "      <td>37500</td>\n",
       "      <td>50000</td>\n",
       "      <td>25000</td>\n",
       "      <td>50000</td>\n",
       "      <td>25000</td>\n",
       "      <td>75000.0</td>\n",
       "      <td>132000</td>\n",
       "      <td>75000</td>\n",
       "    </tr>\n",
       "    <tr>\n",
       "      <th>1</th>\n",
       "      <td>2018/19</td>\n",
       "      <td>132000</td>\n",
       "      <td>264000</td>\n",
       "      <td>120000</td>\n",
       "      <td>120000</td>\n",
       "      <td>37500</td>\n",
       "      <td>50000</td>\n",
       "      <td>25000</td>\n",
       "      <td>50000</td>\n",
       "      <td>25000</td>\n",
       "      <td>75000.0</td>\n",
       "      <td>132000</td>\n",
       "      <td>75000</td>\n",
       "    </tr>\n",
       "  </tbody>\n",
       "</table>\n",
       "</div>"
      ],
      "text/plain": [
       "  Assessment_Year   Basic  Married_Person   Child  Child_newborn  \\\n",
       "0         2019/20  132000          264000  120000         120000   \n",
       "1         2018/19  132000          264000  120000         120000   \n",
       "\n",
       "   Dependent_Brother_Sister  Dependent_Parent_60  Dependent_Parent_55  \\\n",
       "0                     37500                50000                25000   \n",
       "1                     37500                50000                25000   \n",
       "\n",
       "   Additional_Dependent_Parent_60  Additional_Dependent_Parent_55  \\\n",
       "0                           50000                           25000   \n",
       "1                           50000                           25000   \n",
       "\n",
       "   Personal_Disability_Allowance  Single_Parent  Disabled_Dependant  \n",
       "0                        75000.0         132000               75000  \n",
       "1                        75000.0         132000               75000  "
      ]
     },
     "execution_count": 89,
     "metadata": {},
     "output_type": "execute_result"
    }
   ],
   "source": [
    "cleaned_allowance_df"
   ]
  },
  {
   "cell_type": "code",
   "execution_count": 90,
   "metadata": {},
   "outputs": [
    {
     "name": "stdout",
     "output_type": "stream",
     "text": [
      "<class 'pandas.core.frame.DataFrame'>\n",
      "Int64Index: 2 entries, 0 to 1\n",
      "Data columns (total 13 columns):\n",
      " #   Column                          Non-Null Count  Dtype  \n",
      "---  ------                          --------------  -----  \n",
      " 0   Assessment_Year                 2 non-null      object \n",
      " 1   Basic                           2 non-null      int64  \n",
      " 2   Married_Person                  2 non-null      int64  \n",
      " 3   Child                           2 non-null      int64  \n",
      " 4   Child_newborn                   2 non-null      int64  \n",
      " 5   Dependent_Brother_Sister        2 non-null      int64  \n",
      " 6   Dependent_Parent_60             2 non-null      int64  \n",
      " 7   Dependent_Parent_55             2 non-null      int64  \n",
      " 8   Additional_Dependent_Parent_60  2 non-null      int64  \n",
      " 9   Additional_Dependent_Parent_55  2 non-null      int64  \n",
      " 10  Personal_Disability_Allowance   2 non-null      float64\n",
      " 11  Single_Parent                   2 non-null      int64  \n",
      " 12  Disabled_Dependant              2 non-null      int64  \n",
      "dtypes: float64(1), int64(11), object(1)\n",
      "memory usage: 224.0+ bytes\n"
     ]
    }
   ],
   "source": [
    "cleaned_allowance_df.info()"
   ]
  },
  {
   "cell_type": "code",
   "execution_count": 91,
   "metadata": {},
   "outputs": [
    {
     "data": {
      "text/html": [
       "<div>\n",
       "<style scoped>\n",
       "    .dataframe tbody tr th:only-of-type {\n",
       "        vertical-align: middle;\n",
       "    }\n",
       "\n",
       "    .dataframe tbody tr th {\n",
       "        vertical-align: top;\n",
       "    }\n",
       "\n",
       "    .dataframe thead th {\n",
       "        text-align: right;\n",
       "    }\n",
       "</style>\n",
       "<table border=\"1\" class=\"dataframe\">\n",
       "  <thead>\n",
       "    <tr style=\"text-align: right;\">\n",
       "      <th></th>\n",
       "      <th>Basic</th>\n",
       "      <th>Married_Person</th>\n",
       "      <th>Child</th>\n",
       "      <th>Child_newborn</th>\n",
       "      <th>Dependent_Brother_Sister</th>\n",
       "      <th>Dependent_Parent_60</th>\n",
       "      <th>Dependent_Parent_55</th>\n",
       "      <th>Additional_Dependent_Parent_60</th>\n",
       "      <th>Additional_Dependent_Parent_55</th>\n",
       "      <th>Personal_Disability_Allowance</th>\n",
       "      <th>Single_Parent</th>\n",
       "      <th>Disabled_Dependant</th>\n",
       "    </tr>\n",
       "  </thead>\n",
       "  <tbody>\n",
       "    <tr>\n",
       "      <th>count</th>\n",
       "      <td>2.0</td>\n",
       "      <td>2.0</td>\n",
       "      <td>2.0</td>\n",
       "      <td>2.0</td>\n",
       "      <td>2.0</td>\n",
       "      <td>2.0</td>\n",
       "      <td>2.0</td>\n",
       "      <td>2.0</td>\n",
       "      <td>2.0</td>\n",
       "      <td>2.0</td>\n",
       "      <td>2.0</td>\n",
       "      <td>2.0</td>\n",
       "    </tr>\n",
       "    <tr>\n",
       "      <th>mean</th>\n",
       "      <td>132000.0</td>\n",
       "      <td>264000.0</td>\n",
       "      <td>120000.0</td>\n",
       "      <td>120000.0</td>\n",
       "      <td>37500.0</td>\n",
       "      <td>50000.0</td>\n",
       "      <td>25000.0</td>\n",
       "      <td>50000.0</td>\n",
       "      <td>25000.0</td>\n",
       "      <td>75000.0</td>\n",
       "      <td>132000.0</td>\n",
       "      <td>75000.0</td>\n",
       "    </tr>\n",
       "    <tr>\n",
       "      <th>std</th>\n",
       "      <td>0.0</td>\n",
       "      <td>0.0</td>\n",
       "      <td>0.0</td>\n",
       "      <td>0.0</td>\n",
       "      <td>0.0</td>\n",
       "      <td>0.0</td>\n",
       "      <td>0.0</td>\n",
       "      <td>0.0</td>\n",
       "      <td>0.0</td>\n",
       "      <td>0.0</td>\n",
       "      <td>0.0</td>\n",
       "      <td>0.0</td>\n",
       "    </tr>\n",
       "    <tr>\n",
       "      <th>min</th>\n",
       "      <td>132000.0</td>\n",
       "      <td>264000.0</td>\n",
       "      <td>120000.0</td>\n",
       "      <td>120000.0</td>\n",
       "      <td>37500.0</td>\n",
       "      <td>50000.0</td>\n",
       "      <td>25000.0</td>\n",
       "      <td>50000.0</td>\n",
       "      <td>25000.0</td>\n",
       "      <td>75000.0</td>\n",
       "      <td>132000.0</td>\n",
       "      <td>75000.0</td>\n",
       "    </tr>\n",
       "    <tr>\n",
       "      <th>25%</th>\n",
       "      <td>132000.0</td>\n",
       "      <td>264000.0</td>\n",
       "      <td>120000.0</td>\n",
       "      <td>120000.0</td>\n",
       "      <td>37500.0</td>\n",
       "      <td>50000.0</td>\n",
       "      <td>25000.0</td>\n",
       "      <td>50000.0</td>\n",
       "      <td>25000.0</td>\n",
       "      <td>75000.0</td>\n",
       "      <td>132000.0</td>\n",
       "      <td>75000.0</td>\n",
       "    </tr>\n",
       "    <tr>\n",
       "      <th>50%</th>\n",
       "      <td>132000.0</td>\n",
       "      <td>264000.0</td>\n",
       "      <td>120000.0</td>\n",
       "      <td>120000.0</td>\n",
       "      <td>37500.0</td>\n",
       "      <td>50000.0</td>\n",
       "      <td>25000.0</td>\n",
       "      <td>50000.0</td>\n",
       "      <td>25000.0</td>\n",
       "      <td>75000.0</td>\n",
       "      <td>132000.0</td>\n",
       "      <td>75000.0</td>\n",
       "    </tr>\n",
       "    <tr>\n",
       "      <th>75%</th>\n",
       "      <td>132000.0</td>\n",
       "      <td>264000.0</td>\n",
       "      <td>120000.0</td>\n",
       "      <td>120000.0</td>\n",
       "      <td>37500.0</td>\n",
       "      <td>50000.0</td>\n",
       "      <td>25000.0</td>\n",
       "      <td>50000.0</td>\n",
       "      <td>25000.0</td>\n",
       "      <td>75000.0</td>\n",
       "      <td>132000.0</td>\n",
       "      <td>75000.0</td>\n",
       "    </tr>\n",
       "    <tr>\n",
       "      <th>max</th>\n",
       "      <td>132000.0</td>\n",
       "      <td>264000.0</td>\n",
       "      <td>120000.0</td>\n",
       "      <td>120000.0</td>\n",
       "      <td>37500.0</td>\n",
       "      <td>50000.0</td>\n",
       "      <td>25000.0</td>\n",
       "      <td>50000.0</td>\n",
       "      <td>25000.0</td>\n",
       "      <td>75000.0</td>\n",
       "      <td>132000.0</td>\n",
       "      <td>75000.0</td>\n",
       "    </tr>\n",
       "  </tbody>\n",
       "</table>\n",
       "</div>"
      ],
      "text/plain": [
       "          Basic  Married_Person     Child  Child_newborn  \\\n",
       "count       2.0             2.0       2.0            2.0   \n",
       "mean   132000.0        264000.0  120000.0       120000.0   \n",
       "std         0.0             0.0       0.0            0.0   \n",
       "min    132000.0        264000.0  120000.0       120000.0   \n",
       "25%    132000.0        264000.0  120000.0       120000.0   \n",
       "50%    132000.0        264000.0  120000.0       120000.0   \n",
       "75%    132000.0        264000.0  120000.0       120000.0   \n",
       "max    132000.0        264000.0  120000.0       120000.0   \n",
       "\n",
       "       Dependent_Brother_Sister  Dependent_Parent_60  Dependent_Parent_55  \\\n",
       "count                       2.0                  2.0                  2.0   \n",
       "mean                    37500.0              50000.0              25000.0   \n",
       "std                         0.0                  0.0                  0.0   \n",
       "min                     37500.0              50000.0              25000.0   \n",
       "25%                     37500.0              50000.0              25000.0   \n",
       "50%                     37500.0              50000.0              25000.0   \n",
       "75%                     37500.0              50000.0              25000.0   \n",
       "max                     37500.0              50000.0              25000.0   \n",
       "\n",
       "       Additional_Dependent_Parent_60  Additional_Dependent_Parent_55  \\\n",
       "count                             2.0                             2.0   \n",
       "mean                          50000.0                         25000.0   \n",
       "std                               0.0                             0.0   \n",
       "min                           50000.0                         25000.0   \n",
       "25%                           50000.0                         25000.0   \n",
       "50%                           50000.0                         25000.0   \n",
       "75%                           50000.0                         25000.0   \n",
       "max                           50000.0                         25000.0   \n",
       "\n",
       "       Personal_Disability_Allowance  Single_Parent  Disabled_Dependant  \n",
       "count                            2.0            2.0                 2.0  \n",
       "mean                         75000.0       132000.0             75000.0  \n",
       "std                              0.0            0.0                 0.0  \n",
       "min                          75000.0       132000.0             75000.0  \n",
       "25%                          75000.0       132000.0             75000.0  \n",
       "50%                          75000.0       132000.0             75000.0  \n",
       "75%                          75000.0       132000.0             75000.0  \n",
       "max                          75000.0       132000.0             75000.0  "
      ]
     },
     "execution_count": 91,
     "metadata": {},
     "output_type": "execute_result"
    }
   ],
   "source": [
    "cleaned_allowance_df.describe()"
   ]
  },
  {
   "cell_type": "markdown",
   "metadata": {},
   "source": [
    "## Replacing empty cells with mean or median\n",
    "\n",
    "An alternative fixing to rows will empty values is using `fillna()` function to fill in the missing values for these rows.\n",
    "\n",
    "```\n",
    "allowance_df[\"Personal_Disability_Allowance\"].describe()\n",
    "x = allowance_df[\"Personal_Disability_Allowance\"].mean()\n",
    "allowance_df[\"Personal_Disability_Allowance\"].fillna(x, inplace = True)\n",
    "allowance_df[\"Personal_Disability_Allowance\"].describe()\n",
    "```\n"
   ]
  },
  {
   "cell_type": "code",
   "execution_count": 92,
   "metadata": {},
   "outputs": [
    {
     "data": {
      "text/plain": [
       "count        2.0\n",
       "mean     75000.0\n",
       "std          0.0\n",
       "min      75000.0\n",
       "25%      75000.0\n",
       "50%      75000.0\n",
       "75%      75000.0\n",
       "max      75000.0\n",
       "Name: Personal_Disability_Allowance, dtype: float64"
      ]
     },
     "execution_count": 92,
     "metadata": {},
     "output_type": "execute_result"
    }
   ],
   "source": [
    "allowance_df[\"Personal_Disability_Allowance\"].describe()"
   ]
  },
  {
   "cell_type": "code",
   "execution_count": 93,
   "metadata": {},
   "outputs": [
    {
     "data": {
      "text/plain": [
       "75000.0"
      ]
     },
     "execution_count": 93,
     "metadata": {},
     "output_type": "execute_result"
    }
   ],
   "source": [
    "x = allowance_df[\"Personal_Disability_Allowance\"].mean()\n",
    "x"
   ]
  },
  {
   "cell_type": "code",
   "execution_count": 94,
   "metadata": {},
   "outputs": [],
   "source": [
    "allowance_df[\"Personal_Disability_Allowance\"].fillna(x, inplace = True)"
   ]
  },
  {
   "cell_type": "code",
   "execution_count": 95,
   "metadata": {
    "scrolled": true
   },
   "outputs": [
    {
     "data": {
      "text/plain": [
       "count        8.000000\n",
       "mean     56251.375000\n",
       "std      34715.707861\n",
       "min          0.000000\n",
       "25%      56252.750000\n",
       "50%      75000.000000\n",
       "75%      75000.000000\n",
       "max      75000.000000\n",
       "Name: Personal_Disability_Allowance, dtype: float64"
      ]
     },
     "execution_count": 95,
     "metadata": {},
     "output_type": "execute_result"
    }
   ],
   "source": [
    "allowance_df[\"Personal_Disability_Allowance\"].describe().describe()"
   ]
  },
  {
   "cell_type": "code",
   "execution_count": 96,
   "metadata": {},
   "outputs": [
    {
     "data": {
      "text/html": [
       "<div>\n",
       "<style scoped>\n",
       "    .dataframe tbody tr th:only-of-type {\n",
       "        vertical-align: middle;\n",
       "    }\n",
       "\n",
       "    .dataframe tbody tr th {\n",
       "        vertical-align: top;\n",
       "    }\n",
       "\n",
       "    .dataframe thead th {\n",
       "        text-align: right;\n",
       "    }\n",
       "</style>\n",
       "<table border=\"1\" class=\"dataframe\">\n",
       "  <thead>\n",
       "    <tr style=\"text-align: right;\">\n",
       "      <th></th>\n",
       "      <th>Assessment_Year</th>\n",
       "      <th>Basic</th>\n",
       "      <th>Married_Person</th>\n",
       "      <th>Child</th>\n",
       "      <th>Child_newborn</th>\n",
       "      <th>Dependent_Brother_Sister</th>\n",
       "      <th>Dependent_Parent_60</th>\n",
       "      <th>Dependent_Parent_55</th>\n",
       "      <th>Additional_Dependent_Parent_60</th>\n",
       "      <th>Additional_Dependent_Parent_55</th>\n",
       "      <th>Personal_Disability_Allowance</th>\n",
       "      <th>Single_Parent</th>\n",
       "      <th>Disabled_Dependant</th>\n",
       "    </tr>\n",
       "  </thead>\n",
       "  <tbody>\n",
       "    <tr>\n",
       "      <th>0</th>\n",
       "      <td>2019/20</td>\n",
       "      <td>132000</td>\n",
       "      <td>264000</td>\n",
       "      <td>120000</td>\n",
       "      <td>120000</td>\n",
       "      <td>37500</td>\n",
       "      <td>50000</td>\n",
       "      <td>25000</td>\n",
       "      <td>50000</td>\n",
       "      <td>25000</td>\n",
       "      <td>75000.0</td>\n",
       "      <td>132000</td>\n",
       "      <td>75000</td>\n",
       "    </tr>\n",
       "    <tr>\n",
       "      <th>1</th>\n",
       "      <td>2018/19</td>\n",
       "      <td>132000</td>\n",
       "      <td>264000</td>\n",
       "      <td>120000</td>\n",
       "      <td>120000</td>\n",
       "      <td>37500</td>\n",
       "      <td>50000</td>\n",
       "      <td>25000</td>\n",
       "      <td>50000</td>\n",
       "      <td>25000</td>\n",
       "      <td>75000.0</td>\n",
       "      <td>132000</td>\n",
       "      <td>75000</td>\n",
       "    </tr>\n",
       "    <tr>\n",
       "      <th>2</th>\n",
       "      <td>2017/18</td>\n",
       "      <td>132000</td>\n",
       "      <td>264000</td>\n",
       "      <td>100000</td>\n",
       "      <td>100000</td>\n",
       "      <td>37500</td>\n",
       "      <td>46000</td>\n",
       "      <td>23000</td>\n",
       "      <td>46000</td>\n",
       "      <td>23000</td>\n",
       "      <td>75000.0</td>\n",
       "      <td>132000</td>\n",
       "      <td>75000</td>\n",
       "    </tr>\n",
       "    <tr>\n",
       "      <th>3</th>\n",
       "      <td>2016/17</td>\n",
       "      <td>132000</td>\n",
       "      <td>264000</td>\n",
       "      <td>100000</td>\n",
       "      <td>100000</td>\n",
       "      <td>33000</td>\n",
       "      <td>46000</td>\n",
       "      <td>23000</td>\n",
       "      <td>46000</td>\n",
       "      <td>23000</td>\n",
       "      <td>75000.0</td>\n",
       "      <td>132000</td>\n",
       "      <td>66000</td>\n",
       "    </tr>\n",
       "    <tr>\n",
       "      <th>4</th>\n",
       "      <td>2015/16</td>\n",
       "      <td>120000</td>\n",
       "      <td>240000</td>\n",
       "      <td>100000</td>\n",
       "      <td>100000</td>\n",
       "      <td>33000</td>\n",
       "      <td>40000</td>\n",
       "      <td>20000</td>\n",
       "      <td>40000</td>\n",
       "      <td>20000</td>\n",
       "      <td>75000.0</td>\n",
       "      <td>120000</td>\n",
       "      <td>66000</td>\n",
       "    </tr>\n",
       "    <tr>\n",
       "      <th>5</th>\n",
       "      <td>2014/15</td>\n",
       "      <td>120000</td>\n",
       "      <td>240000</td>\n",
       "      <td>70000</td>\n",
       "      <td>70000</td>\n",
       "      <td>33000</td>\n",
       "      <td>40000</td>\n",
       "      <td>20000</td>\n",
       "      <td>40000</td>\n",
       "      <td>20000</td>\n",
       "      <td>75000.0</td>\n",
       "      <td>120000</td>\n",
       "      <td>66000</td>\n",
       "    </tr>\n",
       "    <tr>\n",
       "      <th>6</th>\n",
       "      <td>2013/14</td>\n",
       "      <td>120000</td>\n",
       "      <td>240000</td>\n",
       "      <td>70000</td>\n",
       "      <td>70000</td>\n",
       "      <td>33000</td>\n",
       "      <td>38000</td>\n",
       "      <td>19000</td>\n",
       "      <td>38000</td>\n",
       "      <td>19000</td>\n",
       "      <td>75000.0</td>\n",
       "      <td>120000</td>\n",
       "      <td>66000</td>\n",
       "    </tr>\n",
       "    <tr>\n",
       "      <th>7</th>\n",
       "      <td>2012/13</td>\n",
       "      <td>120000</td>\n",
       "      <td>240000</td>\n",
       "      <td>63000</td>\n",
       "      <td>63000</td>\n",
       "      <td>33000</td>\n",
       "      <td>38000</td>\n",
       "      <td>19000</td>\n",
       "      <td>38000</td>\n",
       "      <td>19000</td>\n",
       "      <td>75000.0</td>\n",
       "      <td>120000</td>\n",
       "      <td>66000</td>\n",
       "    </tr>\n",
       "    <tr>\n",
       "      <th>8</th>\n",
       "      <td>2011/12</td>\n",
       "      <td>108000</td>\n",
       "      <td>216000</td>\n",
       "      <td>60000</td>\n",
       "      <td>60000</td>\n",
       "      <td>30000</td>\n",
       "      <td>36000</td>\n",
       "      <td>18000</td>\n",
       "      <td>36000</td>\n",
       "      <td>18000</td>\n",
       "      <td>75000.0</td>\n",
       "      <td>108000</td>\n",
       "      <td>60000</td>\n",
       "    </tr>\n",
       "    <tr>\n",
       "      <th>9</th>\n",
       "      <td>2010/11</td>\n",
       "      <td>108000</td>\n",
       "      <td>216000</td>\n",
       "      <td>50000</td>\n",
       "      <td>50000</td>\n",
       "      <td>30000</td>\n",
       "      <td>30000</td>\n",
       "      <td>15000</td>\n",
       "      <td>30000</td>\n",
       "      <td>15000</td>\n",
       "      <td>75000.0</td>\n",
       "      <td>108000</td>\n",
       "      <td>60000</td>\n",
       "    </tr>\n",
       "    <tr>\n",
       "      <th>10</th>\n",
       "      <td>2009/10</td>\n",
       "      <td>108000</td>\n",
       "      <td>216000</td>\n",
       "      <td>50000</td>\n",
       "      <td>50000</td>\n",
       "      <td>30000</td>\n",
       "      <td>30000</td>\n",
       "      <td>15000</td>\n",
       "      <td>30000</td>\n",
       "      <td>15000</td>\n",
       "      <td>75000.0</td>\n",
       "      <td>108000</td>\n",
       "      <td>60000</td>\n",
       "    </tr>\n",
       "  </tbody>\n",
       "</table>\n",
       "</div>"
      ],
      "text/plain": [
       "   Assessment_Year   Basic  Married_Person   Child  Child_newborn  \\\n",
       "0          2019/20  132000          264000  120000         120000   \n",
       "1          2018/19  132000          264000  120000         120000   \n",
       "2          2017/18  132000          264000  100000         100000   \n",
       "3          2016/17  132000          264000  100000         100000   \n",
       "4          2015/16  120000          240000  100000         100000   \n",
       "5          2014/15  120000          240000   70000          70000   \n",
       "6          2013/14  120000          240000   70000          70000   \n",
       "7          2012/13  120000          240000   63000          63000   \n",
       "8          2011/12  108000          216000   60000          60000   \n",
       "9          2010/11  108000          216000   50000          50000   \n",
       "10         2009/10  108000          216000   50000          50000   \n",
       "\n",
       "    Dependent_Brother_Sister  Dependent_Parent_60  Dependent_Parent_55  \\\n",
       "0                      37500                50000                25000   \n",
       "1                      37500                50000                25000   \n",
       "2                      37500                46000                23000   \n",
       "3                      33000                46000                23000   \n",
       "4                      33000                40000                20000   \n",
       "5                      33000                40000                20000   \n",
       "6                      33000                38000                19000   \n",
       "7                      33000                38000                19000   \n",
       "8                      30000                36000                18000   \n",
       "9                      30000                30000                15000   \n",
       "10                     30000                30000                15000   \n",
       "\n",
       "    Additional_Dependent_Parent_60  Additional_Dependent_Parent_55  \\\n",
       "0                            50000                           25000   \n",
       "1                            50000                           25000   \n",
       "2                            46000                           23000   \n",
       "3                            46000                           23000   \n",
       "4                            40000                           20000   \n",
       "5                            40000                           20000   \n",
       "6                            38000                           19000   \n",
       "7                            38000                           19000   \n",
       "8                            36000                           18000   \n",
       "9                            30000                           15000   \n",
       "10                           30000                           15000   \n",
       "\n",
       "    Personal_Disability_Allowance  Single_Parent  Disabled_Dependant  \n",
       "0                         75000.0         132000               75000  \n",
       "1                         75000.0         132000               75000  \n",
       "2                         75000.0         132000               75000  \n",
       "3                         75000.0         132000               66000  \n",
       "4                         75000.0         120000               66000  \n",
       "5                         75000.0         120000               66000  \n",
       "6                         75000.0         120000               66000  \n",
       "7                         75000.0         120000               66000  \n",
       "8                         75000.0         108000               60000  \n",
       "9                         75000.0         108000               60000  \n",
       "10                        75000.0         108000               60000  "
      ]
     },
     "execution_count": 96,
     "metadata": {},
     "output_type": "execute_result"
    }
   ],
   "source": [
    "allowance_df"
   ]
  },
  {
   "cell_type": "markdown",
   "metadata": {},
   "source": [
    "# Aggregation Functions\n",
    "\n",
    "aggregation functions provide summary information about a column.\n",
    "\n",
    "```\n",
    "allowance_df = pd.read_csv('./data/allowance.csv')\n",
    "allowance_df.info()\n",
    "```\n",
    "\n",
    "* `allowance_df['Basic'].max()` # returns the maximum value for the column\n",
    "* `allowance_df['Basic'].min()` # returns the minimum value for the column\n",
    "* `allowance_df['Basic'].median()` # returns the median for the column\n",
    "* `allowance_df['Basic'].mean()` # returns the mean value for the column\n",
    "* `allowance_df['Basic'].std()` # returns the standard deviation for the column\n",
    "* `allowance_df['Basic'].sum()` # returns the standard deviation for the column\n"
   ]
  },
  {
   "cell_type": "code",
   "execution_count": 97,
   "metadata": {},
   "outputs": [],
   "source": [
    "allowance_df = pd.read_csv('./data/allowance.csv')"
   ]
  },
  {
   "cell_type": "code",
   "execution_count": 98,
   "metadata": {},
   "outputs": [
    {
     "name": "stdout",
     "output_type": "stream",
     "text": [
      "<class 'pandas.core.frame.DataFrame'>\n",
      "RangeIndex: 11 entries, 0 to 10\n",
      "Data columns (total 13 columns):\n",
      " #   Column                          Non-Null Count  Dtype  \n",
      "---  ------                          --------------  -----  \n",
      " 0   Assessment_Year                 11 non-null     object \n",
      " 1   Basic                           11 non-null     int64  \n",
      " 2   Married_Person                  11 non-null     int64  \n",
      " 3   Child                           11 non-null     int64  \n",
      " 4   Child_newborn                   11 non-null     int64  \n",
      " 5   Dependent_Brother_Sister        11 non-null     int64  \n",
      " 6   Dependent_Parent_60             11 non-null     int64  \n",
      " 7   Dependent_Parent_55             11 non-null     int64  \n",
      " 8   Additional_Dependent_Parent_60  11 non-null     int64  \n",
      " 9   Additional_Dependent_Parent_55  11 non-null     int64  \n",
      " 10  Personal_Disability_Allowance   2 non-null      float64\n",
      " 11  Single_Parent                   11 non-null     int64  \n",
      " 12  Disabled_Dependant              11 non-null     int64  \n",
      "dtypes: float64(1), int64(11), object(1)\n",
      "memory usage: 1.2+ KB\n"
     ]
    }
   ],
   "source": [
    "allowance_df.info()"
   ]
  },
  {
   "cell_type": "code",
   "execution_count": 99,
   "metadata": {},
   "outputs": [
    {
     "data": {
      "text/plain": [
       "1332000"
      ]
     },
     "execution_count": 99,
     "metadata": {},
     "output_type": "execute_result"
    }
   ],
   "source": [
    "allowance_df['Basic'].sum() # returns the standard deviation for the column"
   ]
  },
  {
   "cell_type": "code",
   "execution_count": 100,
   "metadata": {},
   "outputs": [
    {
     "data": {
      "text/plain": [
       "121090.90909090909"
      ]
     },
     "execution_count": 100,
     "metadata": {},
     "output_type": "execute_result"
    }
   ],
   "source": [
    "allowance_df['Basic'].mean() # returns the standard deviation for the column"
   ]
  },
  {
   "cell_type": "markdown",
   "metadata": {},
   "source": [
    "# Finding Columns' Relationship\n",
    "The `corr()` method calculates the relationship between each column in your data set.\n",
    "```\n",
    "df.corr()\n",
    "```\n",
    "The Result of the `corr()` method is a table with a lot of numbers that represents how well the relationship is between two columns.\n",
    "- The number varies from `-1` to `1`.\n",
    "- `1` means that there is a 1 to 1 relationship (a perfect correlation).\n",
    "- `0.7` or above is also a good relationship, and if you increase one value, the other will probably increase as well.\n",
    "- `-0.7` or below would be just as good relationship as 0.7, but if you increase one value, the other will go down.\n",
    "- `0.2` means NOT a good relationship, meaning that if one value goes up does not mean that the other will.\n",
    "\n",
    "Example:\n",
    "```\n",
    "students2 = pd.read_excel('./data/Students.xlsx', sheet_name=0)\n",
    "students2\n",
    "students2.corr()\n",
    "```"
   ]
  },
  {
   "cell_type": "code",
   "execution_count": 101,
   "metadata": {},
   "outputs": [
    {
     "data": {
      "text/html": [
       "<div>\n",
       "<style scoped>\n",
       "    .dataframe tbody tr th:only-of-type {\n",
       "        vertical-align: middle;\n",
       "    }\n",
       "\n",
       "    .dataframe tbody tr th {\n",
       "        vertical-align: top;\n",
       "    }\n",
       "\n",
       "    .dataframe thead th {\n",
       "        text-align: right;\n",
       "    }\n",
       "</style>\n",
       "<table border=\"1\" class=\"dataframe\">\n",
       "  <thead>\n",
       "    <tr style=\"text-align: right;\">\n",
       "      <th></th>\n",
       "      <th>AcademicYear</th>\n",
       "      <th>AssociateDegree</th>\n",
       "      <th>HigherDiploma</th>\n",
       "      <th>Subdegree</th>\n",
       "      <th>FirstYearFirstDegree</th>\n",
       "      <th>TopUpDegree</th>\n",
       "      <th>Undergraduate</th>\n",
       "    </tr>\n",
       "  </thead>\n",
       "  <tbody>\n",
       "    <tr>\n",
       "      <th>0</th>\n",
       "      <td>2007/08</td>\n",
       "      <td>12029</td>\n",
       "      <td>9882</td>\n",
       "      <td>21911</td>\n",
       "      <td>2468</td>\n",
       "      <td>1731</td>\n",
       "      <td>4199</td>\n",
       "    </tr>\n",
       "    <tr>\n",
       "      <th>1</th>\n",
       "      <td>2008/09</td>\n",
       "      <td>11238</td>\n",
       "      <td>9405</td>\n",
       "      <td>20643</td>\n",
       "      <td>3004</td>\n",
       "      <td>2095</td>\n",
       "      <td>5099</td>\n",
       "    </tr>\n",
       "    <tr>\n",
       "      <th>2</th>\n",
       "      <td>2009/10</td>\n",
       "      <td>14177</td>\n",
       "      <td>10186</td>\n",
       "      <td>24363</td>\n",
       "      <td>2782</td>\n",
       "      <td>2680</td>\n",
       "      <td>5462</td>\n",
       "    </tr>\n",
       "    <tr>\n",
       "      <th>3</th>\n",
       "      <td>2010/11</td>\n",
       "      <td>17646</td>\n",
       "      <td>10715</td>\n",
       "      <td>28361</td>\n",
       "      <td>3193</td>\n",
       "      <td>3334</td>\n",
       "      <td>6527</td>\n",
       "    </tr>\n",
       "    <tr>\n",
       "      <th>4</th>\n",
       "      <td>2011/12</td>\n",
       "      <td>16018</td>\n",
       "      <td>9331</td>\n",
       "      <td>25349</td>\n",
       "      <td>3640</td>\n",
       "      <td>4081</td>\n",
       "      <td>7721</td>\n",
       "    </tr>\n",
       "    <tr>\n",
       "      <th>5</th>\n",
       "      <td>2012/13</td>\n",
       "      <td>18131</td>\n",
       "      <td>13486</td>\n",
       "      <td>31617</td>\n",
       "      <td>6796</td>\n",
       "      <td>6082</td>\n",
       "      <td>12878</td>\n",
       "    </tr>\n",
       "    <tr>\n",
       "      <th>6</th>\n",
       "      <td>2013/14</td>\n",
       "      <td>11715</td>\n",
       "      <td>9751</td>\n",
       "      <td>21466</td>\n",
       "      <td>6128</td>\n",
       "      <td>7349</td>\n",
       "      <td>13477</td>\n",
       "    </tr>\n",
       "    <tr>\n",
       "      <th>7</th>\n",
       "      <td>2014/15</td>\n",
       "      <td>10275</td>\n",
       "      <td>9483</td>\n",
       "      <td>19758</td>\n",
       "      <td>7194</td>\n",
       "      <td>10488</td>\n",
       "      <td>17682</td>\n",
       "    </tr>\n",
       "    <tr>\n",
       "      <th>8</th>\n",
       "      <td>2015/16</td>\n",
       "      <td>10942</td>\n",
       "      <td>8713</td>\n",
       "      <td>19655</td>\n",
       "      <td>6701</td>\n",
       "      <td>8736</td>\n",
       "      <td>15437</td>\n",
       "    </tr>\n",
       "    <tr>\n",
       "      <th>9</th>\n",
       "      <td>2016/17</td>\n",
       "      <td>11127</td>\n",
       "      <td>7884</td>\n",
       "      <td>19011</td>\n",
       "      <td>6153</td>\n",
       "      <td>7635</td>\n",
       "      <td>13788</td>\n",
       "    </tr>\n",
       "    <tr>\n",
       "      <th>10</th>\n",
       "      <td>2017/18</td>\n",
       "      <td>11420</td>\n",
       "      <td>6863</td>\n",
       "      <td>18283</td>\n",
       "      <td>5997</td>\n",
       "      <td>7906</td>\n",
       "      <td>13903</td>\n",
       "    </tr>\n",
       "    <tr>\n",
       "      <th>11</th>\n",
       "      <td>2018/19</td>\n",
       "      <td>11574</td>\n",
       "      <td>7263</td>\n",
       "      <td>18837</td>\n",
       "      <td>5753</td>\n",
       "      <td>8175</td>\n",
       "      <td>13928</td>\n",
       "    </tr>\n",
       "    <tr>\n",
       "      <th>12</th>\n",
       "      <td>2019/20</td>\n",
       "      <td>11170</td>\n",
       "      <td>7196</td>\n",
       "      <td>18366</td>\n",
       "      <td>6311</td>\n",
       "      <td>7863</td>\n",
       "      <td>14174</td>\n",
       "    </tr>\n",
       "  </tbody>\n",
       "</table>\n",
       "</div>"
      ],
      "text/plain": [
       "   AcademicYear  AssociateDegree  HigherDiploma  Subdegree  \\\n",
       "0       2007/08            12029           9882      21911   \n",
       "1       2008/09            11238           9405      20643   \n",
       "2       2009/10            14177          10186      24363   \n",
       "3       2010/11            17646          10715      28361   \n",
       "4       2011/12            16018           9331      25349   \n",
       "5       2012/13            18131          13486      31617   \n",
       "6       2013/14            11715           9751      21466   \n",
       "7       2014/15            10275           9483      19758   \n",
       "8       2015/16            10942           8713      19655   \n",
       "9       2016/17            11127           7884      19011   \n",
       "10      2017/18            11420           6863      18283   \n",
       "11      2018/19            11574           7263      18837   \n",
       "12      2019/20            11170           7196      18366   \n",
       "\n",
       "    FirstYearFirstDegree  TopUpDegree  Undergraduate  \n",
       "0                   2468         1731           4199  \n",
       "1                   3004         2095           5099  \n",
       "2                   2782         2680           5462  \n",
       "3                   3193         3334           6527  \n",
       "4                   3640         4081           7721  \n",
       "5                   6796         6082          12878  \n",
       "6                   6128         7349          13477  \n",
       "7                   7194        10488          17682  \n",
       "8                   6701         8736          15437  \n",
       "9                   6153         7635          13788  \n",
       "10                  5997         7906          13903  \n",
       "11                  5753         8175          13928  \n",
       "12                  6311         7863          14174  "
      ]
     },
     "execution_count": 101,
     "metadata": {},
     "output_type": "execute_result"
    }
   ],
   "source": [
    "students2 = pd.read_excel('./data/Students.xlsx', sheet_name=0)\n",
    "students2"
   ]
  },
  {
   "cell_type": "code",
   "execution_count": 102,
   "metadata": {
    "scrolled": false
   },
   "outputs": [
    {
     "data": {
      "text/html": [
       "<div>\n",
       "<style scoped>\n",
       "    .dataframe tbody tr th:only-of-type {\n",
       "        vertical-align: middle;\n",
       "    }\n",
       "\n",
       "    .dataframe tbody tr th {\n",
       "        vertical-align: top;\n",
       "    }\n",
       "\n",
       "    .dataframe thead th {\n",
       "        text-align: right;\n",
       "    }\n",
       "</style>\n",
       "<table border=\"1\" class=\"dataframe\">\n",
       "  <thead>\n",
       "    <tr style=\"text-align: right;\">\n",
       "      <th></th>\n",
       "      <th>AssociateDegree</th>\n",
       "      <th>HigherDiploma</th>\n",
       "      <th>Subdegree</th>\n",
       "      <th>FirstYearFirstDegree</th>\n",
       "      <th>TopUpDegree</th>\n",
       "      <th>Undergraduate</th>\n",
       "    </tr>\n",
       "  </thead>\n",
       "  <tbody>\n",
       "    <tr>\n",
       "      <th>AssociateDegree</th>\n",
       "      <td>1.000000</td>\n",
       "      <td>0.728727</td>\n",
       "      <td>0.956570</td>\n",
       "      <td>-0.315338</td>\n",
       "      <td>-0.460673</td>\n",
       "      <td>-0.410802</td>\n",
       "    </tr>\n",
       "    <tr>\n",
       "      <th>HigherDiploma</th>\n",
       "      <td>0.728727</td>\n",
       "      <td>1.000000</td>\n",
       "      <td>0.896701</td>\n",
       "      <td>-0.189895</td>\n",
       "      <td>-0.405373</td>\n",
       "      <td>-0.327808</td>\n",
       "    </tr>\n",
       "    <tr>\n",
       "      <th>Subdegree</th>\n",
       "      <td>0.956570</td>\n",
       "      <td>0.896701</td>\n",
       "      <td>1.000000</td>\n",
       "      <td>-0.284658</td>\n",
       "      <td>-0.470321</td>\n",
       "      <td>-0.405070</td>\n",
       "    </tr>\n",
       "    <tr>\n",
       "      <th>FirstYearFirstDegree</th>\n",
       "      <td>-0.315338</td>\n",
       "      <td>-0.189895</td>\n",
       "      <td>-0.284658</td>\n",
       "      <td>1.000000</td>\n",
       "      <td>0.945621</td>\n",
       "      <td>0.978879</td>\n",
       "    </tr>\n",
       "    <tr>\n",
       "      <th>TopUpDegree</th>\n",
       "      <td>-0.460673</td>\n",
       "      <td>-0.405373</td>\n",
       "      <td>-0.470321</td>\n",
       "      <td>0.945621</td>\n",
       "      <td>1.000000</td>\n",
       "      <td>0.992147</td>\n",
       "    </tr>\n",
       "    <tr>\n",
       "      <th>Undergraduate</th>\n",
       "      <td>-0.410802</td>\n",
       "      <td>-0.327808</td>\n",
       "      <td>-0.405070</td>\n",
       "      <td>0.978879</td>\n",
       "      <td>0.992147</td>\n",
       "      <td>1.000000</td>\n",
       "    </tr>\n",
       "  </tbody>\n",
       "</table>\n",
       "</div>"
      ],
      "text/plain": [
       "                      AssociateDegree  HigherDiploma  Subdegree  \\\n",
       "AssociateDegree              1.000000       0.728727   0.956570   \n",
       "HigherDiploma                0.728727       1.000000   0.896701   \n",
       "Subdegree                    0.956570       0.896701   1.000000   \n",
       "FirstYearFirstDegree        -0.315338      -0.189895  -0.284658   \n",
       "TopUpDegree                 -0.460673      -0.405373  -0.470321   \n",
       "Undergraduate               -0.410802      -0.327808  -0.405070   \n",
       "\n",
       "                      FirstYearFirstDegree  TopUpDegree  Undergraduate  \n",
       "AssociateDegree                  -0.315338    -0.460673      -0.410802  \n",
       "HigherDiploma                    -0.189895    -0.405373      -0.327808  \n",
       "Subdegree                        -0.284658    -0.470321      -0.405070  \n",
       "FirstYearFirstDegree              1.000000     0.945621       0.978879  \n",
       "TopUpDegree                       0.945621     1.000000       0.992147  \n",
       "Undergraduate                     0.978879     0.992147       1.000000  "
      ]
     },
     "execution_count": 102,
     "metadata": {},
     "output_type": "execute_result"
    }
   ],
   "source": [
    "students2.corr()"
   ]
  },
  {
   "cell_type": "markdown",
   "metadata": {},
   "source": [
    "# Groupby and  Groups' Aggregations"
   ]
  },
  {
   "cell_type": "markdown",
   "metadata": {},
   "source": [
    "## `Groupby()`: divide data into groups\n",
    "\n",
    "**`unique()` function**\n",
    "```\n",
    "gra = pd.read_csv('./data/graduates.csv')\n",
    "gra.info()\n",
    "gra[\"LevelOfStudy\"].unique() # Display unique values of a column\n",
    "gra[\"ProgrammeCategory\"].unique()\n",
    "```\n",
    "\n",
    "**`groupby() function`**\n",
    "```\n",
    "gra.groupby('LevelOfStudy')\n",
    "gra.groupby('ProgrammeCategory')\n",
    "group_by_level = gra.groupby('LevelOfStudy') # save the grouping as a variable\n",
    "group_by_category = gra.groupby('ProgrammeCategory') # save the grouping as a variable\n",
    "group_by_level.groups # Display groups and rows belongs to that groups\n",
    "```\n",
    "\n",
    "**Those integer numbers in the list are the row number.**\n",
    "```\n",
    "group_by_level.first() # gives you a preview of the first few groups\n",
    "group_by_level.last() # gives you a previous of the last few groups\n",
    "group_by_level.size() # return the number of row (group size) in each group\n",
    "group_by_level.get_group(\"Sub-degree\") # get a group by provide the KEY of the group\n",
    "```"
   ]
  },
  {
   "cell_type": "code",
   "execution_count": 103,
   "metadata": {},
   "outputs": [
    {
     "name": "stdout",
     "output_type": "stream",
     "text": [
      "<class 'pandas.core.frame.DataFrame'>\n",
      "RangeIndex: 653 entries, 0 to 652\n",
      "Data columns (total 5 columns):\n",
      " #   Column             Non-Null Count  Dtype \n",
      "---  ------             --------------  ----- \n",
      " 0   AcademicYear       653 non-null    object\n",
      " 1   LevelOfStudy       653 non-null    object\n",
      " 2   ProgrammeCategory  653 non-null    object\n",
      " 3   Sex                653 non-null    object\n",
      " 4   Headcount          653 non-null    int64 \n",
      "dtypes: int64(1), object(4)\n",
      "memory usage: 25.6+ KB\n"
     ]
    },
    {
     "data": {
      "text/plain": [
       "array(['Arts and Humanities', 'Business and Management', 'Education',\n",
       "       'Engineering and Technology', 'Medicine, Dentistry and Health',\n",
       "       'Sciences', 'Social Sciences'], dtype=object)"
      ]
     },
     "execution_count": 103,
     "metadata": {},
     "output_type": "execute_result"
    }
   ],
   "source": [
    "gra = pd.read_csv('./data/graduates.csv')\n",
    "gra.info()\n",
    "gra[\"LevelOfStudy\"].unique() # Display unique values of a column\n",
    "gra[\"ProgrammeCategory\"].unique()"
   ]
  },
  {
   "cell_type": "code",
   "execution_count": 104,
   "metadata": {},
   "outputs": [
    {
     "data": {
      "text/plain": [
       "{'Research Postgraduate': [42, 43, 44, 45, 46, 47, 48, 49, 50, 51, 52, 53, 54, 55, 98, 99, 100, 101, 102, 103, 104, 105, 106, 107, 108, 109, 110, 111, 154, 155, 156, 157, 158, 159, 160, 161, 162, 163, 164, 165, 166, 167, 210, 211, 212, 213, 214, 215, 216, 217, 218, 219, 220, 221, 222, 223, 266, 267, 268, 269, 270, 271, 272, 273, 274, 275, 276, 277, 278, 279, 319, 320, 321, 322, 323, 324, 325, 326, 327, 328, 329, 330, 331, 332, 375, 376, 377, 378, 379, 380, 381, 382, 383, 384, 385, 386, 387, 388, 429, 430, ...], 'Sub-degree': [0, 1, 2, 3, 4, 5, 6, 7, 8, 9, 10, 11, 12, 13, 56, 57, 58, 59, 60, 61, 62, 63, 64, 65, 66, 67, 68, 69, 112, 113, 114, 115, 116, 117, 118, 119, 120, 121, 122, 123, 124, 125, 168, 169, 170, 171, 172, 173, 174, 175, 176, 177, 178, 179, 180, 181, 224, 225, 226, 227, 228, 229, 230, 231, 232, 233, 234, 235, 236, 237, 280, 281, 282, 283, 284, 285, 286, 287, 288, 289, 290, 291, 292, 293, 333, 334, 335, 336, 337, 338, 339, 340, 341, 342, 343, 344, 345, 346, 389, 390, ...], 'Taught Postgraduate': [28, 29, 30, 31, 32, 33, 34, 35, 36, 37, 38, 39, 40, 41, 84, 85, 86, 87, 88, 89, 90, 91, 92, 93, 94, 95, 96, 97, 140, 141, 142, 143, 144, 145, 146, 147, 148, 149, 150, 151, 152, 153, 196, 197, 198, 199, 200, 201, 202, 203, 204, 205, 206, 207, 208, 209, 252, 253, 254, 255, 256, 257, 258, 259, 260, 261, 262, 263, 264, 265, 308, 309, 310, 311, 312, 313, 314, 315, 316, 317, 318, 361, 362, 363, 364, 365, 366, 367, 368, 369, 370, 371, 372, 373, 374, 415, 416, 417, 418, 419, ...], 'Undergraduate': [14, 15, 16, 17, 18, 19, 20, 21, 22, 23, 24, 25, 26, 27, 70, 71, 72, 73, 74, 75, 76, 77, 78, 79, 80, 81, 82, 83, 126, 127, 128, 129, 130, 131, 132, 133, 134, 135, 136, 137, 138, 139, 182, 183, 184, 185, 186, 187, 188, 189, 190, 191, 192, 193, 194, 195, 238, 239, 240, 241, 242, 243, 244, 245, 246, 247, 248, 249, 250, 251, 294, 295, 296, 297, 298, 299, 300, 301, 302, 303, 304, 305, 306, 307, 347, 348, 349, 350, 351, 352, 353, 354, 355, 356, 357, 358, 359, 360, 401, 402, ...]}"
      ]
     },
     "execution_count": 104,
     "metadata": {},
     "output_type": "execute_result"
    }
   ],
   "source": [
    "gra.groupby('LevelOfStudy')\n",
    "gra.groupby('ProgrammeCategory')\n",
    "group_by_level = gra.groupby('LevelOfStudy') # save the grouping as a variable\n",
    "group_by_category = gra.groupby('ProgrammeCategory') # save the grouping as a variable\n",
    "group_by_level.groups # Display groups and rows belongs to that groups"
   ]
  },
  {
   "cell_type": "code",
   "execution_count": 105,
   "metadata": {},
   "outputs": [
    {
     "data": {
      "text/html": [
       "<div>\n",
       "<style scoped>\n",
       "    .dataframe tbody tr th:only-of-type {\n",
       "        vertical-align: middle;\n",
       "    }\n",
       "\n",
       "    .dataframe tbody tr th {\n",
       "        vertical-align: top;\n",
       "    }\n",
       "\n",
       "    .dataframe thead th {\n",
       "        text-align: right;\n",
       "    }\n",
       "</style>\n",
       "<table border=\"1\" class=\"dataframe\">\n",
       "  <thead>\n",
       "    <tr style=\"text-align: right;\">\n",
       "      <th></th>\n",
       "      <th>AcademicYear</th>\n",
       "      <th>LevelOfStudy</th>\n",
       "      <th>ProgrammeCategory</th>\n",
       "      <th>Sex</th>\n",
       "      <th>Headcount</th>\n",
       "    </tr>\n",
       "  </thead>\n",
       "  <tbody>\n",
       "    <tr>\n",
       "      <th>0</th>\n",
       "      <td>2009/10</td>\n",
       "      <td>Sub-degree</td>\n",
       "      <td>Arts and Humanities</td>\n",
       "      <td>M</td>\n",
       "      <td>158</td>\n",
       "    </tr>\n",
       "    <tr>\n",
       "      <th>1</th>\n",
       "      <td>2009/10</td>\n",
       "      <td>Sub-degree</td>\n",
       "      <td>Arts and Humanities</td>\n",
       "      <td>F</td>\n",
       "      <td>475</td>\n",
       "    </tr>\n",
       "    <tr>\n",
       "      <th>2</th>\n",
       "      <td>2009/10</td>\n",
       "      <td>Sub-degree</td>\n",
       "      <td>Business and Management</td>\n",
       "      <td>M</td>\n",
       "      <td>73</td>\n",
       "    </tr>\n",
       "    <tr>\n",
       "      <th>3</th>\n",
       "      <td>2009/10</td>\n",
       "      <td>Sub-degree</td>\n",
       "      <td>Business and Management</td>\n",
       "      <td>F</td>\n",
       "      <td>227</td>\n",
       "    </tr>\n",
       "    <tr>\n",
       "      <th>4</th>\n",
       "      <td>2009/10</td>\n",
       "      <td>Sub-degree</td>\n",
       "      <td>Education</td>\n",
       "      <td>M</td>\n",
       "      <td>122</td>\n",
       "    </tr>\n",
       "    <tr>\n",
       "      <th>...</th>\n",
       "      <td>...</td>\n",
       "      <td>...</td>\n",
       "      <td>...</td>\n",
       "      <td>...</td>\n",
       "      <td>...</td>\n",
       "    </tr>\n",
       "    <tr>\n",
       "      <th>606</th>\n",
       "      <td>2020/21</td>\n",
       "      <td>Sub-degree</td>\n",
       "      <td>Engineering and Technology</td>\n",
       "      <td>F</td>\n",
       "      <td>91</td>\n",
       "    </tr>\n",
       "    <tr>\n",
       "      <th>607</th>\n",
       "      <td>2020/21</td>\n",
       "      <td>Sub-degree</td>\n",
       "      <td>Sciences</td>\n",
       "      <td>M</td>\n",
       "      <td>76</td>\n",
       "    </tr>\n",
       "    <tr>\n",
       "      <th>608</th>\n",
       "      <td>2020/21</td>\n",
       "      <td>Sub-degree</td>\n",
       "      <td>Sciences</td>\n",
       "      <td>F</td>\n",
       "      <td>62</td>\n",
       "    </tr>\n",
       "    <tr>\n",
       "      <th>609</th>\n",
       "      <td>2020/21</td>\n",
       "      <td>Sub-degree</td>\n",
       "      <td>Social Sciences</td>\n",
       "      <td>M</td>\n",
       "      <td>12</td>\n",
       "    </tr>\n",
       "    <tr>\n",
       "      <th>610</th>\n",
       "      <td>2020/21</td>\n",
       "      <td>Sub-degree</td>\n",
       "      <td>Social Sciences</td>\n",
       "      <td>F</td>\n",
       "      <td>14</td>\n",
       "    </tr>\n",
       "  </tbody>\n",
       "</table>\n",
       "<p>154 rows × 5 columns</p>\n",
       "</div>"
      ],
      "text/plain": [
       "    AcademicYear LevelOfStudy           ProgrammeCategory Sex  Headcount\n",
       "0        2009/10   Sub-degree         Arts and Humanities   M        158\n",
       "1        2009/10   Sub-degree         Arts and Humanities   F        475\n",
       "2        2009/10   Sub-degree     Business and Management   M         73\n",
       "3        2009/10   Sub-degree     Business and Management   F        227\n",
       "4        2009/10   Sub-degree                   Education   M        122\n",
       "..           ...          ...                         ...  ..        ...\n",
       "606      2020/21   Sub-degree  Engineering and Technology   F         91\n",
       "607      2020/21   Sub-degree                    Sciences   M         76\n",
       "608      2020/21   Sub-degree                    Sciences   F         62\n",
       "609      2020/21   Sub-degree             Social Sciences   M         12\n",
       "610      2020/21   Sub-degree             Social Sciences   F         14\n",
       "\n",
       "[154 rows x 5 columns]"
      ]
     },
     "execution_count": 105,
     "metadata": {},
     "output_type": "execute_result"
    }
   ],
   "source": [
    "group_by_level.first() # gives you a preview of the first few groups\n",
    "group_by_level.last() # gives you a previous of the last few groups\n",
    "group_by_level.size() # return the number of row (group size) in each group\n",
    "group_by_level.get_group(\"Sub-degree\") # get a group by provide the KEY of the group"
   ]
  },
  {
   "cell_type": "markdown",
   "metadata": {},
   "source": [
    "## `describe()` function\n",
    "\n",
    "Show the basic statistics summary of numberic column.\n"
   ]
  },
  {
   "cell_type": "code",
   "execution_count": 106,
   "metadata": {},
   "outputs": [
    {
     "data": {
      "text/html": [
       "<div>\n",
       "<style scoped>\n",
       "    .dataframe tbody tr th:only-of-type {\n",
       "        vertical-align: middle;\n",
       "    }\n",
       "\n",
       "    .dataframe tbody tr th {\n",
       "        vertical-align: top;\n",
       "    }\n",
       "\n",
       "    .dataframe thead th {\n",
       "        text-align: right;\n",
       "    }\n",
       "</style>\n",
       "<table border=\"1\" class=\"dataframe\">\n",
       "  <thead>\n",
       "    <tr style=\"text-align: right;\">\n",
       "      <th></th>\n",
       "      <th>Headcount</th>\n",
       "    </tr>\n",
       "  </thead>\n",
       "  <tbody>\n",
       "    <tr>\n",
       "      <th>count</th>\n",
       "      <td>653.000000</td>\n",
       "    </tr>\n",
       "    <tr>\n",
       "      <th>mean</th>\n",
       "      <td>495.434916</td>\n",
       "    </tr>\n",
       "    <tr>\n",
       "      <th>std</th>\n",
       "      <td>680.415914</td>\n",
       "    </tr>\n",
       "    <tr>\n",
       "      <th>min</th>\n",
       "      <td>1.000000</td>\n",
       "    </tr>\n",
       "    <tr>\n",
       "      <th>25%</th>\n",
       "      <td>60.000000</td>\n",
       "    </tr>\n",
       "    <tr>\n",
       "      <th>50%</th>\n",
       "      <td>158.000000</td>\n",
       "    </tr>\n",
       "    <tr>\n",
       "      <th>75%</th>\n",
       "      <td>703.000000</td>\n",
       "    </tr>\n",
       "    <tr>\n",
       "      <th>max</th>\n",
       "      <td>2878.000000</td>\n",
       "    </tr>\n",
       "  </tbody>\n",
       "</table>\n",
       "</div>"
      ],
      "text/plain": [
       "         Headcount\n",
       "count   653.000000\n",
       "mean    495.434916\n",
       "std     680.415914\n",
       "min       1.000000\n",
       "25%      60.000000\n",
       "50%     158.000000\n",
       "75%     703.000000\n",
       "max    2878.000000"
      ]
     },
     "execution_count": 106,
     "metadata": {},
     "output_type": "execute_result"
    }
   ],
   "source": [
    "gra.describe()"
   ]
  },
  {
   "cell_type": "markdown",
   "metadata": {},
   "source": [
    "## `unique()` function\n",
    "\n",
    "This function list the unique values for a column.\n",
    "\n",
    "Examples:\n",
    "```\n",
    "df[\"LevelOfStudy\"].unique()\n",
    "df[\"ProgrammeCategory\"].unique()\n",
    "```"
   ]
  },
  {
   "cell_type": "code",
   "execution_count": 107,
   "metadata": {
    "scrolled": true
   },
   "outputs": [
    {
     "data": {
      "text/plain": [
       "array(['Sub-degree', 'Undergraduate', 'Taught Postgraduate',\n",
       "       'Research Postgraduate'], dtype=object)"
      ]
     },
     "execution_count": 107,
     "metadata": {},
     "output_type": "execute_result"
    }
   ],
   "source": [
    "gra[\"LevelOfStudy\"].unique()"
   ]
  },
  {
   "cell_type": "code",
   "execution_count": 108,
   "metadata": {},
   "outputs": [
    {
     "data": {
      "text/plain": [
       "array(['Arts and Humanities', 'Business and Management', 'Education',\n",
       "       'Engineering and Technology', 'Medicine, Dentistry and Health',\n",
       "       'Sciences', 'Social Sciences'], dtype=object)"
      ]
     },
     "execution_count": 108,
     "metadata": {},
     "output_type": "execute_result"
    }
   ],
   "source": [
    "gra[\"ProgrammeCategory\"].unique()"
   ]
  },
  {
   "cell_type": "markdown",
   "metadata": {},
   "source": [
    "## `value_counts()` function\n",
    "\n",
    "This function returns the number of row for each distinct value\n",
    "\n",
    "Example:\n",
    "```\n",
    "gra[\"LevelOfStudy\"].value_counts()\n",
    "gra['ProgrammeCategory'].value_counts()\n",
    "```\n",
    "\n",
    "\n",
    "```\n",
    "list(gra.groupby('LevelOfStudy'))\n",
    "group_by_level = gra.groupby('LevelOfStudy')\n",
    "group_by_level.groups\n",
    "group_by_category = gra.groupby('ProgrammeCategory')\n",
    "group_by_category\n",
    "\n",
    "group_by_level.groups # Display groups and rows belongs to that groups\n",
    "\n",
    "for group_key, group_data in group_by_level:\n",
    "    print(group_key)\n",
    "    print(group_data.head())\n",
    "    \n",
    "group_by_level.size()    \n",
    "```"
   ]
  },
  {
   "cell_type": "code",
   "execution_count": 109,
   "metadata": {},
   "outputs": [
    {
     "data": {
      "text/plain": [
       "Undergraduate            168\n",
       "Research Postgraduate    168\n",
       "Taught Postgraduate      163\n",
       "Sub-degree               154\n",
       "Name: LevelOfStudy, dtype: int64"
      ]
     },
     "execution_count": 109,
     "metadata": {},
     "output_type": "execute_result"
    }
   ],
   "source": [
    "gra[\"LevelOfStudy\"].value_counts()"
   ]
  },
  {
   "cell_type": "code",
   "execution_count": 110,
   "metadata": {},
   "outputs": [
    {
     "data": {
      "text/plain": [
       "Arts and Humanities               96\n",
       "Education                         96\n",
       "Engineering and Technology        96\n",
       "Sciences                          96\n",
       "Social Sciences                   96\n",
       "Business and Management           88\n",
       "Medicine, Dentistry and Health    85\n",
       "Name: ProgrammeCategory, dtype: int64"
      ]
     },
     "execution_count": 110,
     "metadata": {},
     "output_type": "execute_result"
    }
   ],
   "source": [
    "gra['ProgrammeCategory'].value_counts()"
   ]
  },
  {
   "cell_type": "code",
   "execution_count": 111,
   "metadata": {},
   "outputs": [
    {
     "data": {
      "text/plain": [
       "[('Research Postgraduate',\n",
       "      AcademicYear           LevelOfStudy               ProgrammeCategory Sex  \\\n",
       "  42       2009/10  Research Postgraduate             Arts and Humanities   M   \n",
       "  43       2009/10  Research Postgraduate             Arts and Humanities   F   \n",
       "  44       2009/10  Research Postgraduate         Business and Management   M   \n",
       "  45       2009/10  Research Postgraduate         Business and Management   F   \n",
       "  46       2009/10  Research Postgraduate                       Education   M   \n",
       "  ..           ...                    ...                             ...  ..   \n",
       "  648      2020/21  Research Postgraduate  Medicine, Dentistry and Health   F   \n",
       "  649      2020/21  Research Postgraduate                        Sciences   M   \n",
       "  650      2020/21  Research Postgraduate                        Sciences   F   \n",
       "  651      2020/21  Research Postgraduate                 Social Sciences   M   \n",
       "  652      2020/21  Research Postgraduate                 Social Sciences   F   \n",
       "  \n",
       "       Headcount  \n",
       "  42          82  \n",
       "  43         108  \n",
       "  44          53  \n",
       "  45          77  \n",
       "  46          12  \n",
       "  ..         ...  \n",
       "  648        237  \n",
       "  649        554  \n",
       "  650        286  \n",
       "  651        114  \n",
       "  652        145  \n",
       "  \n",
       "  [168 rows x 5 columns]),\n",
       " ('Sub-degree',\n",
       "      AcademicYear LevelOfStudy           ProgrammeCategory Sex  Headcount\n",
       "  0        2009/10   Sub-degree         Arts and Humanities   M        158\n",
       "  1        2009/10   Sub-degree         Arts and Humanities   F        475\n",
       "  2        2009/10   Sub-degree     Business and Management   M         73\n",
       "  3        2009/10   Sub-degree     Business and Management   F        227\n",
       "  4        2009/10   Sub-degree                   Education   M        122\n",
       "  ..           ...          ...                         ...  ..        ...\n",
       "  606      2020/21   Sub-degree  Engineering and Technology   F         91\n",
       "  607      2020/21   Sub-degree                    Sciences   M         76\n",
       "  608      2020/21   Sub-degree                    Sciences   F         62\n",
       "  609      2020/21   Sub-degree             Social Sciences   M         12\n",
       "  610      2020/21   Sub-degree             Social Sciences   F         14\n",
       "  \n",
       "  [154 rows x 5 columns]),\n",
       " ('Taught Postgraduate',\n",
       "      AcademicYear         LevelOfStudy               ProgrammeCategory Sex  \\\n",
       "  28       2009/10  Taught Postgraduate             Arts and Humanities   M   \n",
       "  29       2009/10  Taught Postgraduate             Arts and Humanities   F   \n",
       "  30       2009/10  Taught Postgraduate         Business and Management   M   \n",
       "  31       2009/10  Taught Postgraduate         Business and Management   F   \n",
       "  32       2009/10  Taught Postgraduate                       Education   M   \n",
       "  ..           ...                  ...                             ...  ..   \n",
       "  634      2020/21  Taught Postgraduate  Medicine, Dentistry and Health   F   \n",
       "  635      2020/21  Taught Postgraduate                        Sciences   M   \n",
       "  636      2020/21  Taught Postgraduate                        Sciences   F   \n",
       "  637      2020/21  Taught Postgraduate                 Social Sciences   M   \n",
       "  638      2020/21  Taught Postgraduate                 Social Sciences   F   \n",
       "  \n",
       "       Headcount  \n",
       "  28          39  \n",
       "  29          70  \n",
       "  30           5  \n",
       "  31           6  \n",
       "  32         518  \n",
       "  ..         ...  \n",
       "  634         60  \n",
       "  635         20  \n",
       "  636         37  \n",
       "  637        125  \n",
       "  638        146  \n",
       "  \n",
       "  [163 rows x 5 columns]),\n",
       " ('Undergraduate',\n",
       "      AcademicYear   LevelOfStudy               ProgrammeCategory Sex  Headcount\n",
       "  14       2009/10  Undergraduate             Arts and Humanities   M        659\n",
       "  15       2009/10  Undergraduate             Arts and Humanities   F       1788\n",
       "  16       2009/10  Undergraduate         Business and Management   M       1861\n",
       "  17       2009/10  Undergraduate         Business and Management   F       2314\n",
       "  18       2009/10  Undergraduate                       Education   M        148\n",
       "  ..           ...            ...                             ...  ..        ...\n",
       "  620      2020/21  Undergraduate  Medicine, Dentistry and Health   F       1217\n",
       "  621      2020/21  Undergraduate                        Sciences   M       2251\n",
       "  622      2020/21  Undergraduate                        Sciences   F       1379\n",
       "  623      2020/21  Undergraduate                 Social Sciences   M       1314\n",
       "  624      2020/21  Undergraduate                 Social Sciences   F       2164\n",
       "  \n",
       "  [168 rows x 5 columns])]"
      ]
     },
     "execution_count": 111,
     "metadata": {},
     "output_type": "execute_result"
    }
   ],
   "source": [
    "list(gra.groupby('LevelOfStudy'))"
   ]
  },
  {
   "cell_type": "code",
   "execution_count": 112,
   "metadata": {},
   "outputs": [],
   "source": [
    "group_by_level = gra.groupby('LevelOfStudy')"
   ]
  },
  {
   "cell_type": "code",
   "execution_count": 113,
   "metadata": {},
   "outputs": [
    {
     "data": {
      "text/plain": [
       "{'Research Postgraduate': [42, 43, 44, 45, 46, 47, 48, 49, 50, 51, 52, 53, 54, 55, 98, 99, 100, 101, 102, 103, 104, 105, 106, 107, 108, 109, 110, 111, 154, 155, 156, 157, 158, 159, 160, 161, 162, 163, 164, 165, 166, 167, 210, 211, 212, 213, 214, 215, 216, 217, 218, 219, 220, 221, 222, 223, 266, 267, 268, 269, 270, 271, 272, 273, 274, 275, 276, 277, 278, 279, 319, 320, 321, 322, 323, 324, 325, 326, 327, 328, 329, 330, 331, 332, 375, 376, 377, 378, 379, 380, 381, 382, 383, 384, 385, 386, 387, 388, 429, 430, ...], 'Sub-degree': [0, 1, 2, 3, 4, 5, 6, 7, 8, 9, 10, 11, 12, 13, 56, 57, 58, 59, 60, 61, 62, 63, 64, 65, 66, 67, 68, 69, 112, 113, 114, 115, 116, 117, 118, 119, 120, 121, 122, 123, 124, 125, 168, 169, 170, 171, 172, 173, 174, 175, 176, 177, 178, 179, 180, 181, 224, 225, 226, 227, 228, 229, 230, 231, 232, 233, 234, 235, 236, 237, 280, 281, 282, 283, 284, 285, 286, 287, 288, 289, 290, 291, 292, 293, 333, 334, 335, 336, 337, 338, 339, 340, 341, 342, 343, 344, 345, 346, 389, 390, ...], 'Taught Postgraduate': [28, 29, 30, 31, 32, 33, 34, 35, 36, 37, 38, 39, 40, 41, 84, 85, 86, 87, 88, 89, 90, 91, 92, 93, 94, 95, 96, 97, 140, 141, 142, 143, 144, 145, 146, 147, 148, 149, 150, 151, 152, 153, 196, 197, 198, 199, 200, 201, 202, 203, 204, 205, 206, 207, 208, 209, 252, 253, 254, 255, 256, 257, 258, 259, 260, 261, 262, 263, 264, 265, 308, 309, 310, 311, 312, 313, 314, 315, 316, 317, 318, 361, 362, 363, 364, 365, 366, 367, 368, 369, 370, 371, 372, 373, 374, 415, 416, 417, 418, 419, ...], 'Undergraduate': [14, 15, 16, 17, 18, 19, 20, 21, 22, 23, 24, 25, 26, 27, 70, 71, 72, 73, 74, 75, 76, 77, 78, 79, 80, 81, 82, 83, 126, 127, 128, 129, 130, 131, 132, 133, 134, 135, 136, 137, 138, 139, 182, 183, 184, 185, 186, 187, 188, 189, 190, 191, 192, 193, 194, 195, 238, 239, 240, 241, 242, 243, 244, 245, 246, 247, 248, 249, 250, 251, 294, 295, 296, 297, 298, 299, 300, 301, 302, 303, 304, 305, 306, 307, 347, 348, 349, 350, 351, 352, 353, 354, 355, 356, 357, 358, 359, 360, 401, 402, ...]}"
      ]
     },
     "execution_count": 113,
     "metadata": {},
     "output_type": "execute_result"
    }
   ],
   "source": [
    "group_by_level.groups"
   ]
  },
  {
   "cell_type": "code",
   "execution_count": 114,
   "metadata": {},
   "outputs": [
    {
     "data": {
      "text/plain": [
       "<pandas.core.groupby.generic.DataFrameGroupBy object at 0x7fcc02cda160>"
      ]
     },
     "execution_count": 114,
     "metadata": {},
     "output_type": "execute_result"
    }
   ],
   "source": [
    "group_by_category = gra.groupby('ProgrammeCategory')\n",
    "group_by_category"
   ]
  },
  {
   "cell_type": "code",
   "execution_count": 115,
   "metadata": {},
   "outputs": [
    {
     "data": {
      "text/plain": [
       "{'Research Postgraduate': [42, 43, 44, 45, 46, 47, 48, 49, 50, 51, 52, 53, 54, 55, 98, 99, 100, 101, 102, 103, 104, 105, 106, 107, 108, 109, 110, 111, 154, 155, 156, 157, 158, 159, 160, 161, 162, 163, 164, 165, 166, 167, 210, 211, 212, 213, 214, 215, 216, 217, 218, 219, 220, 221, 222, 223, 266, 267, 268, 269, 270, 271, 272, 273, 274, 275, 276, 277, 278, 279, 319, 320, 321, 322, 323, 324, 325, 326, 327, 328, 329, 330, 331, 332, 375, 376, 377, 378, 379, 380, 381, 382, 383, 384, 385, 386, 387, 388, 429, 430, ...], 'Sub-degree': [0, 1, 2, 3, 4, 5, 6, 7, 8, 9, 10, 11, 12, 13, 56, 57, 58, 59, 60, 61, 62, 63, 64, 65, 66, 67, 68, 69, 112, 113, 114, 115, 116, 117, 118, 119, 120, 121, 122, 123, 124, 125, 168, 169, 170, 171, 172, 173, 174, 175, 176, 177, 178, 179, 180, 181, 224, 225, 226, 227, 228, 229, 230, 231, 232, 233, 234, 235, 236, 237, 280, 281, 282, 283, 284, 285, 286, 287, 288, 289, 290, 291, 292, 293, 333, 334, 335, 336, 337, 338, 339, 340, 341, 342, 343, 344, 345, 346, 389, 390, ...], 'Taught Postgraduate': [28, 29, 30, 31, 32, 33, 34, 35, 36, 37, 38, 39, 40, 41, 84, 85, 86, 87, 88, 89, 90, 91, 92, 93, 94, 95, 96, 97, 140, 141, 142, 143, 144, 145, 146, 147, 148, 149, 150, 151, 152, 153, 196, 197, 198, 199, 200, 201, 202, 203, 204, 205, 206, 207, 208, 209, 252, 253, 254, 255, 256, 257, 258, 259, 260, 261, 262, 263, 264, 265, 308, 309, 310, 311, 312, 313, 314, 315, 316, 317, 318, 361, 362, 363, 364, 365, 366, 367, 368, 369, 370, 371, 372, 373, 374, 415, 416, 417, 418, 419, ...], 'Undergraduate': [14, 15, 16, 17, 18, 19, 20, 21, 22, 23, 24, 25, 26, 27, 70, 71, 72, 73, 74, 75, 76, 77, 78, 79, 80, 81, 82, 83, 126, 127, 128, 129, 130, 131, 132, 133, 134, 135, 136, 137, 138, 139, 182, 183, 184, 185, 186, 187, 188, 189, 190, 191, 192, 193, 194, 195, 238, 239, 240, 241, 242, 243, 244, 245, 246, 247, 248, 249, 250, 251, 294, 295, 296, 297, 298, 299, 300, 301, 302, 303, 304, 305, 306, 307, 347, 348, 349, 350, 351, 352, 353, 354, 355, 356, 357, 358, 359, 360, 401, 402, ...]}"
      ]
     },
     "execution_count": 115,
     "metadata": {},
     "output_type": "execute_result"
    }
   ],
   "source": [
    "group_by_level.groups # Display groups and rows belongs to that groups"
   ]
  },
  {
   "cell_type": "code",
   "execution_count": 116,
   "metadata": {},
   "outputs": [
    {
     "name": "stdout",
     "output_type": "stream",
     "text": [
      "Research Postgraduate\n",
      "   AcademicYear           LevelOfStudy        ProgrammeCategory Sex  Headcount\n",
      "42      2009/10  Research Postgraduate      Arts and Humanities   M         82\n",
      "43      2009/10  Research Postgraduate      Arts and Humanities   F        108\n",
      "44      2009/10  Research Postgraduate  Business and Management   M         53\n",
      "45      2009/10  Research Postgraduate  Business and Management   F         77\n",
      "46      2009/10  Research Postgraduate                Education   M         12\n",
      "Sub-degree\n",
      "  AcademicYear LevelOfStudy        ProgrammeCategory Sex  Headcount\n",
      "0      2009/10   Sub-degree      Arts and Humanities   M        158\n",
      "1      2009/10   Sub-degree      Arts and Humanities   F        475\n",
      "2      2009/10   Sub-degree  Business and Management   M         73\n",
      "3      2009/10   Sub-degree  Business and Management   F        227\n",
      "4      2009/10   Sub-degree                Education   M        122\n",
      "Taught Postgraduate\n",
      "   AcademicYear         LevelOfStudy        ProgrammeCategory Sex  Headcount\n",
      "28      2009/10  Taught Postgraduate      Arts and Humanities   M         39\n",
      "29      2009/10  Taught Postgraduate      Arts and Humanities   F         70\n",
      "30      2009/10  Taught Postgraduate  Business and Management   M          5\n",
      "31      2009/10  Taught Postgraduate  Business and Management   F          6\n",
      "32      2009/10  Taught Postgraduate                Education   M        518\n",
      "Undergraduate\n",
      "   AcademicYear   LevelOfStudy        ProgrammeCategory Sex  Headcount\n",
      "14      2009/10  Undergraduate      Arts and Humanities   M        659\n",
      "15      2009/10  Undergraduate      Arts and Humanities   F       1788\n",
      "16      2009/10  Undergraduate  Business and Management   M       1861\n",
      "17      2009/10  Undergraduate  Business and Management   F       2314\n",
      "18      2009/10  Undergraduate                Education   M        148\n"
     ]
    }
   ],
   "source": [
    "for group_key, group_data in group_by_level:\n",
    "    print(group_key)\n",
    "    print(group_data.head())"
   ]
  },
  {
   "cell_type": "code",
   "execution_count": 117,
   "metadata": {},
   "outputs": [
    {
     "data": {
      "text/plain": [
       "LevelOfStudy\n",
       "Research Postgraduate    168\n",
       "Sub-degree               154\n",
       "Taught Postgraduate      163\n",
       "Undergraduate            168\n",
       "dtype: int64"
      ]
     },
     "execution_count": 117,
     "metadata": {},
     "output_type": "execute_result"
    }
   ],
   "source": [
    "group_by_level.size()"
   ]
  },
  {
   "cell_type": "markdown",
   "metadata": {},
   "source": [
    "## Those integer numbers in the list are the row number.\n",
    "\n",
    "**Group Info**\n",
    "```\n",
    "group_by_level.first() # gives you a preview of the first few groups\n",
    "group_by_level.last() # gives you a previous of the last few groups\n",
    "group_by_level.size() # return the number of row (group size) in each group\n",
    "```\n",
    "\n",
    "**To get a group**\n",
    "```\n",
    "group_by_level.get_group(\"Sub-degree\") # get a group by provide the KEY of the group\n",
    "```\n",
    "\n",
    "\n",
    "**To loop through the groups**\n",
    "```\n",
    "for group_key, group_data in group_by_level:\n",
    "    print(group_key)\n",
    "    print(group_data.head())\n",
    "```"
   ]
  },
  {
   "cell_type": "code",
   "execution_count": 118,
   "metadata": {},
   "outputs": [
    {
     "data": {
      "text/html": [
       "<div>\n",
       "<style scoped>\n",
       "    .dataframe tbody tr th:only-of-type {\n",
       "        vertical-align: middle;\n",
       "    }\n",
       "\n",
       "    .dataframe tbody tr th {\n",
       "        vertical-align: top;\n",
       "    }\n",
       "\n",
       "    .dataframe thead th {\n",
       "        text-align: right;\n",
       "    }\n",
       "</style>\n",
       "<table border=\"1\" class=\"dataframe\">\n",
       "  <thead>\n",
       "    <tr style=\"text-align: right;\">\n",
       "      <th></th>\n",
       "      <th>AcademicYear</th>\n",
       "      <th>LevelOfStudy</th>\n",
       "      <th>ProgrammeCategory</th>\n",
       "      <th>Sex</th>\n",
       "      <th>Headcount</th>\n",
       "    </tr>\n",
       "  </thead>\n",
       "  <tbody>\n",
       "    <tr>\n",
       "      <th>0</th>\n",
       "      <td>2009/10</td>\n",
       "      <td>Sub-degree</td>\n",
       "      <td>Arts and Humanities</td>\n",
       "      <td>M</td>\n",
       "      <td>158</td>\n",
       "    </tr>\n",
       "    <tr>\n",
       "      <th>1</th>\n",
       "      <td>2009/10</td>\n",
       "      <td>Sub-degree</td>\n",
       "      <td>Arts and Humanities</td>\n",
       "      <td>F</td>\n",
       "      <td>475</td>\n",
       "    </tr>\n",
       "    <tr>\n",
       "      <th>2</th>\n",
       "      <td>2009/10</td>\n",
       "      <td>Sub-degree</td>\n",
       "      <td>Business and Management</td>\n",
       "      <td>M</td>\n",
       "      <td>73</td>\n",
       "    </tr>\n",
       "    <tr>\n",
       "      <th>3</th>\n",
       "      <td>2009/10</td>\n",
       "      <td>Sub-degree</td>\n",
       "      <td>Business and Management</td>\n",
       "      <td>F</td>\n",
       "      <td>227</td>\n",
       "    </tr>\n",
       "    <tr>\n",
       "      <th>4</th>\n",
       "      <td>2009/10</td>\n",
       "      <td>Sub-degree</td>\n",
       "      <td>Education</td>\n",
       "      <td>M</td>\n",
       "      <td>122</td>\n",
       "    </tr>\n",
       "    <tr>\n",
       "      <th>...</th>\n",
       "      <td>...</td>\n",
       "      <td>...</td>\n",
       "      <td>...</td>\n",
       "      <td>...</td>\n",
       "      <td>...</td>\n",
       "    </tr>\n",
       "    <tr>\n",
       "      <th>606</th>\n",
       "      <td>2020/21</td>\n",
       "      <td>Sub-degree</td>\n",
       "      <td>Engineering and Technology</td>\n",
       "      <td>F</td>\n",
       "      <td>91</td>\n",
       "    </tr>\n",
       "    <tr>\n",
       "      <th>607</th>\n",
       "      <td>2020/21</td>\n",
       "      <td>Sub-degree</td>\n",
       "      <td>Sciences</td>\n",
       "      <td>M</td>\n",
       "      <td>76</td>\n",
       "    </tr>\n",
       "    <tr>\n",
       "      <th>608</th>\n",
       "      <td>2020/21</td>\n",
       "      <td>Sub-degree</td>\n",
       "      <td>Sciences</td>\n",
       "      <td>F</td>\n",
       "      <td>62</td>\n",
       "    </tr>\n",
       "    <tr>\n",
       "      <th>609</th>\n",
       "      <td>2020/21</td>\n",
       "      <td>Sub-degree</td>\n",
       "      <td>Social Sciences</td>\n",
       "      <td>M</td>\n",
       "      <td>12</td>\n",
       "    </tr>\n",
       "    <tr>\n",
       "      <th>610</th>\n",
       "      <td>2020/21</td>\n",
       "      <td>Sub-degree</td>\n",
       "      <td>Social Sciences</td>\n",
       "      <td>F</td>\n",
       "      <td>14</td>\n",
       "    </tr>\n",
       "  </tbody>\n",
       "</table>\n",
       "<p>154 rows × 5 columns</p>\n",
       "</div>"
      ],
      "text/plain": [
       "    AcademicYear LevelOfStudy           ProgrammeCategory Sex  Headcount\n",
       "0        2009/10   Sub-degree         Arts and Humanities   M        158\n",
       "1        2009/10   Sub-degree         Arts and Humanities   F        475\n",
       "2        2009/10   Sub-degree     Business and Management   M         73\n",
       "3        2009/10   Sub-degree     Business and Management   F        227\n",
       "4        2009/10   Sub-degree                   Education   M        122\n",
       "..           ...          ...                         ...  ..        ...\n",
       "606      2020/21   Sub-degree  Engineering and Technology   F         91\n",
       "607      2020/21   Sub-degree                    Sciences   M         76\n",
       "608      2020/21   Sub-degree                    Sciences   F         62\n",
       "609      2020/21   Sub-degree             Social Sciences   M         12\n",
       "610      2020/21   Sub-degree             Social Sciences   F         14\n",
       "\n",
       "[154 rows x 5 columns]"
      ]
     },
     "execution_count": 118,
     "metadata": {},
     "output_type": "execute_result"
    }
   ],
   "source": [
    "group_by_level.get_group(\"Sub-degree\")"
   ]
  },
  {
   "cell_type": "code",
   "execution_count": 119,
   "metadata": {},
   "outputs": [
    {
     "data": {
      "text/html": [
       "<div>\n",
       "<style scoped>\n",
       "    .dataframe tbody tr th:only-of-type {\n",
       "        vertical-align: middle;\n",
       "    }\n",
       "\n",
       "    .dataframe tbody tr th {\n",
       "        vertical-align: top;\n",
       "    }\n",
       "\n",
       "    .dataframe thead th {\n",
       "        text-align: right;\n",
       "    }\n",
       "</style>\n",
       "<table border=\"1\" class=\"dataframe\">\n",
       "  <thead>\n",
       "    <tr style=\"text-align: right;\">\n",
       "      <th></th>\n",
       "      <th>AcademicYear</th>\n",
       "      <th>LevelOfStudy</th>\n",
       "      <th>ProgrammeCategory</th>\n",
       "      <th>Sex</th>\n",
       "      <th>Headcount</th>\n",
       "    </tr>\n",
       "  </thead>\n",
       "  <tbody>\n",
       "    <tr>\n",
       "      <th>6</th>\n",
       "      <td>2009/10</td>\n",
       "      <td>Sub-degree</td>\n",
       "      <td>Engineering and Technology</td>\n",
       "      <td>M</td>\n",
       "      <td>507</td>\n",
       "    </tr>\n",
       "    <tr>\n",
       "      <th>7</th>\n",
       "      <td>2009/10</td>\n",
       "      <td>Sub-degree</td>\n",
       "      <td>Engineering and Technology</td>\n",
       "      <td>F</td>\n",
       "      <td>505</td>\n",
       "    </tr>\n",
       "    <tr>\n",
       "      <th>20</th>\n",
       "      <td>2009/10</td>\n",
       "      <td>Undergraduate</td>\n",
       "      <td>Engineering and Technology</td>\n",
       "      <td>M</td>\n",
       "      <td>2152</td>\n",
       "    </tr>\n",
       "    <tr>\n",
       "      <th>21</th>\n",
       "      <td>2009/10</td>\n",
       "      <td>Undergraduate</td>\n",
       "      <td>Engineering and Technology</td>\n",
       "      <td>F</td>\n",
       "      <td>1016</td>\n",
       "    </tr>\n",
       "    <tr>\n",
       "      <th>34</th>\n",
       "      <td>2009/10</td>\n",
       "      <td>Taught Postgraduate</td>\n",
       "      <td>Engineering and Technology</td>\n",
       "      <td>M</td>\n",
       "      <td>62</td>\n",
       "    </tr>\n",
       "    <tr>\n",
       "      <th>...</th>\n",
       "      <td>...</td>\n",
       "      <td>...</td>\n",
       "      <td>...</td>\n",
       "      <td>...</td>\n",
       "      <td>...</td>\n",
       "    </tr>\n",
       "    <tr>\n",
       "      <th>618</th>\n",
       "      <td>2020/21</td>\n",
       "      <td>Undergraduate</td>\n",
       "      <td>Engineering and Technology</td>\n",
       "      <td>F</td>\n",
       "      <td>1228</td>\n",
       "    </tr>\n",
       "    <tr>\n",
       "      <th>631</th>\n",
       "      <td>2020/21</td>\n",
       "      <td>Taught Postgraduate</td>\n",
       "      <td>Engineering and Technology</td>\n",
       "      <td>M</td>\n",
       "      <td>76</td>\n",
       "    </tr>\n",
       "    <tr>\n",
       "      <th>632</th>\n",
       "      <td>2020/21</td>\n",
       "      <td>Taught Postgraduate</td>\n",
       "      <td>Engineering and Technology</td>\n",
       "      <td>F</td>\n",
       "      <td>70</td>\n",
       "    </tr>\n",
       "    <tr>\n",
       "      <th>645</th>\n",
       "      <td>2020/21</td>\n",
       "      <td>Research Postgraduate</td>\n",
       "      <td>Engineering and Technology</td>\n",
       "      <td>M</td>\n",
       "      <td>568</td>\n",
       "    </tr>\n",
       "    <tr>\n",
       "      <th>646</th>\n",
       "      <td>2020/21</td>\n",
       "      <td>Research Postgraduate</td>\n",
       "      <td>Engineering and Technology</td>\n",
       "      <td>F</td>\n",
       "      <td>270</td>\n",
       "    </tr>\n",
       "  </tbody>\n",
       "</table>\n",
       "<p>96 rows × 5 columns</p>\n",
       "</div>"
      ],
      "text/plain": [
       "    AcademicYear           LevelOfStudy           ProgrammeCategory Sex  \\\n",
       "6        2009/10             Sub-degree  Engineering and Technology   M   \n",
       "7        2009/10             Sub-degree  Engineering and Technology   F   \n",
       "20       2009/10          Undergraduate  Engineering and Technology   M   \n",
       "21       2009/10          Undergraduate  Engineering and Technology   F   \n",
       "34       2009/10    Taught Postgraduate  Engineering and Technology   M   \n",
       "..           ...                    ...                         ...  ..   \n",
       "618      2020/21          Undergraduate  Engineering and Technology   F   \n",
       "631      2020/21    Taught Postgraduate  Engineering and Technology   M   \n",
       "632      2020/21    Taught Postgraduate  Engineering and Technology   F   \n",
       "645      2020/21  Research Postgraduate  Engineering and Technology   M   \n",
       "646      2020/21  Research Postgraduate  Engineering and Technology   F   \n",
       "\n",
       "     Headcount  \n",
       "6          507  \n",
       "7          505  \n",
       "20        2152  \n",
       "21        1016  \n",
       "34          62  \n",
       "..         ...  \n",
       "618       1228  \n",
       "631         76  \n",
       "632         70  \n",
       "645        568  \n",
       "646        270  \n",
       "\n",
       "[96 rows x 5 columns]"
      ]
     },
     "execution_count": 119,
     "metadata": {},
     "output_type": "execute_result"
    }
   ],
   "source": [
    "group_by_category.get_group(\"Engineering and Technology\")"
   ]
  },
  {
   "cell_type": "markdown",
   "metadata": {},
   "source": [
    "## Group Aggregated Data\n",
    "\n",
    "An aggregated function returns a single aggregated value for each group.\n",
    "\n",
    "**Using a column name (Returns as Series)**:\n",
    "```\n",
    "group_by_level.Headcount.sum() # summation of each group\n",
    "group_by_level.Headcount.mean() # mean value of each group\n",
    "group_by_level.Headcount.max() # max value of each group\n",
    "group_by_level.Headcount.min() # min value of each group\n",
    "```\n",
    "\n",
    "**Using agg() function (Returns as data-frame)**:\n",
    "```\n",
    "group_by_level.Headcount.agg(['max', 'min', 'count', 'median', 'mean']) \n",
    "```\n",
    "\n",
    "**Without column (Returns as data-frame)**:\n",
    "\n",
    "- we don’t actually have to specify a column like Headcout. \n",
    "- Without a column, it will perform the aggregation across all of the **numeric** columns\n",
    "\n",
    "```\n",
    "group_by_level.agg(np.sum) # summation of each group\n",
    "group_by_level.agg(np.mean) # mean value of each group\n",
    "group_by_level.agg(np.max) # max value of each group\n",
    "group_by_level.agg(np.min) # min value of each group\n",
    "```\n"
   ]
  },
  {
   "cell_type": "code",
   "execution_count": 120,
   "metadata": {},
   "outputs": [
    {
     "data": {
      "text/plain": [
       "LevelOfStudy\n",
       "Research Postgraduate     28183\n",
       "Sub-degree                34531\n",
       "Taught Postgraduate       23409\n",
       "Undergraduate            237396\n",
       "Name: Headcount, dtype: int64"
      ]
     },
     "execution_count": 120,
     "metadata": {},
     "output_type": "execute_result"
    }
   ],
   "source": [
    "group_by_level.Headcount.sum()"
   ]
  },
  {
   "cell_type": "code",
   "execution_count": 121,
   "metadata": {},
   "outputs": [
    {
     "data": {
      "text/plain": [
       "LevelOfStudy\n",
       "Research Postgraduate     588\n",
       "Sub-degree               1226\n",
       "Taught Postgraduate      1052\n",
       "Undergraduate            2878\n",
       "Name: Headcount, dtype: int64"
      ]
     },
     "execution_count": 121,
     "metadata": {},
     "output_type": "execute_result"
    }
   ],
   "source": [
    "group_by_level.Headcount.max()"
   ]
  },
  {
   "cell_type": "code",
   "execution_count": 122,
   "metadata": {},
   "outputs": [
    {
     "data": {
      "text/plain": [
       "LevelOfStudy\n",
       "Research Postgraduate     12\n",
       "Sub-degree                 2\n",
       "Taught Postgraduate        1\n",
       "Undergraduate            148\n",
       "Name: Headcount, dtype: int64"
      ]
     },
     "execution_count": 122,
     "metadata": {},
     "output_type": "execute_result"
    }
   ],
   "source": [
    "group_by_level.Headcount.min()"
   ]
  },
  {
   "cell_type": "code",
   "execution_count": 123,
   "metadata": {},
   "outputs": [
    {
     "data": {
      "text/plain": [
       "LevelOfStudy\n",
       "Research Postgraduate     167.755952\n",
       "Sub-degree                224.227273\n",
       "Taught Postgraduate       143.613497\n",
       "Undergraduate            1413.071429\n",
       "Name: Headcount, dtype: float64"
      ]
     },
     "execution_count": 123,
     "metadata": {},
     "output_type": "execute_result"
    }
   ],
   "source": [
    "group_by_level.Headcount.mean()"
   ]
  },
  {
   "cell_type": "code",
   "execution_count": 124,
   "metadata": {},
   "outputs": [
    {
     "data": {
      "text/html": [
       "<div>\n",
       "<style scoped>\n",
       "    .dataframe tbody tr th:only-of-type {\n",
       "        vertical-align: middle;\n",
       "    }\n",
       "\n",
       "    .dataframe tbody tr th {\n",
       "        vertical-align: top;\n",
       "    }\n",
       "\n",
       "    .dataframe thead th {\n",
       "        text-align: right;\n",
       "    }\n",
       "</style>\n",
       "<table border=\"1\" class=\"dataframe\">\n",
       "  <thead>\n",
       "    <tr style=\"text-align: right;\">\n",
       "      <th></th>\n",
       "      <th>max</th>\n",
       "      <th>min</th>\n",
       "      <th>count</th>\n",
       "      <th>median</th>\n",
       "      <th>mean</th>\n",
       "    </tr>\n",
       "    <tr>\n",
       "      <th>LevelOfStudy</th>\n",
       "      <th></th>\n",
       "      <th></th>\n",
       "      <th></th>\n",
       "      <th></th>\n",
       "      <th></th>\n",
       "    </tr>\n",
       "  </thead>\n",
       "  <tbody>\n",
       "    <tr>\n",
       "      <th>Research Postgraduate</th>\n",
       "      <td>588</td>\n",
       "      <td>12</td>\n",
       "      <td>168</td>\n",
       "      <td>132.0</td>\n",
       "      <td>167.755952</td>\n",
       "    </tr>\n",
       "    <tr>\n",
       "      <th>Sub-degree</th>\n",
       "      <td>1226</td>\n",
       "      <td>2</td>\n",
       "      <td>154</td>\n",
       "      <td>123.0</td>\n",
       "      <td>224.227273</td>\n",
       "    </tr>\n",
       "    <tr>\n",
       "      <th>Taught Postgraduate</th>\n",
       "      <td>1052</td>\n",
       "      <td>1</td>\n",
       "      <td>163</td>\n",
       "      <td>56.0</td>\n",
       "      <td>143.613497</td>\n",
       "    </tr>\n",
       "    <tr>\n",
       "      <th>Undergraduate</th>\n",
       "      <td>2878</td>\n",
       "      <td>148</td>\n",
       "      <td>168</td>\n",
       "      <td>1236.0</td>\n",
       "      <td>1413.071429</td>\n",
       "    </tr>\n",
       "  </tbody>\n",
       "</table>\n",
       "</div>"
      ],
      "text/plain": [
       "                        max  min  count  median         mean\n",
       "LevelOfStudy                                                \n",
       "Research Postgraduate   588   12    168   132.0   167.755952\n",
       "Sub-degree             1226    2    154   123.0   224.227273\n",
       "Taught Postgraduate    1052    1    163    56.0   143.613497\n",
       "Undergraduate          2878  148    168  1236.0  1413.071429"
      ]
     },
     "execution_count": 124,
     "metadata": {},
     "output_type": "execute_result"
    }
   ],
   "source": [
    "group_by_level.Headcount.agg(['max', 'min', 'count', 'median', 'mean'])"
   ]
  },
  {
   "cell_type": "code",
   "execution_count": 125,
   "metadata": {},
   "outputs": [
    {
     "data": {
      "text/html": [
       "<div>\n",
       "<style scoped>\n",
       "    .dataframe tbody tr th:only-of-type {\n",
       "        vertical-align: middle;\n",
       "    }\n",
       "\n",
       "    .dataframe tbody tr th {\n",
       "        vertical-align: top;\n",
       "    }\n",
       "\n",
       "    .dataframe thead th {\n",
       "        text-align: right;\n",
       "    }\n",
       "</style>\n",
       "<table border=\"1\" class=\"dataframe\">\n",
       "  <thead>\n",
       "    <tr style=\"text-align: right;\">\n",
       "      <th></th>\n",
       "      <th>max</th>\n",
       "      <th>min</th>\n",
       "      <th>count</th>\n",
       "      <th>median</th>\n",
       "      <th>mean</th>\n",
       "    </tr>\n",
       "    <tr>\n",
       "      <th>LevelOfStudy</th>\n",
       "      <th></th>\n",
       "      <th></th>\n",
       "      <th></th>\n",
       "      <th></th>\n",
       "      <th></th>\n",
       "    </tr>\n",
       "  </thead>\n",
       "  <tbody>\n",
       "    <tr>\n",
       "      <th>Research Postgraduate</th>\n",
       "      <td>588</td>\n",
       "      <td>12</td>\n",
       "      <td>168</td>\n",
       "      <td>132.0</td>\n",
       "      <td>167.755952</td>\n",
       "    </tr>\n",
       "    <tr>\n",
       "      <th>Sub-degree</th>\n",
       "      <td>1226</td>\n",
       "      <td>2</td>\n",
       "      <td>154</td>\n",
       "      <td>123.0</td>\n",
       "      <td>224.227273</td>\n",
       "    </tr>\n",
       "    <tr>\n",
       "      <th>Taught Postgraduate</th>\n",
       "      <td>1052</td>\n",
       "      <td>1</td>\n",
       "      <td>163</td>\n",
       "      <td>56.0</td>\n",
       "      <td>143.613497</td>\n",
       "    </tr>\n",
       "    <tr>\n",
       "      <th>Undergraduate</th>\n",
       "      <td>2878</td>\n",
       "      <td>148</td>\n",
       "      <td>168</td>\n",
       "      <td>1236.0</td>\n",
       "      <td>1413.071429</td>\n",
       "    </tr>\n",
       "  </tbody>\n",
       "</table>\n",
       "</div>"
      ],
      "text/plain": [
       "                        max  min  count  median         mean\n",
       "LevelOfStudy                                                \n",
       "Research Postgraduate   588   12    168   132.0   167.755952\n",
       "Sub-degree             1226    2    154   123.0   224.227273\n",
       "Taught Postgraduate    1052    1    163    56.0   143.613497\n",
       "Undergraduate          2878  148    168  1236.0  1413.071429"
      ]
     },
     "execution_count": 125,
     "metadata": {},
     "output_type": "execute_result"
    }
   ],
   "source": [
    "group_by_level.Headcount.agg(['max', 'min', 'count', 'median', 'mean'])"
   ]
  },
  {
   "cell_type": "code",
   "execution_count": 126,
   "metadata": {
    "scrolled": true
   },
   "outputs": [
    {
     "data": {
      "text/html": [
       "<div>\n",
       "<style scoped>\n",
       "    .dataframe tbody tr th:only-of-type {\n",
       "        vertical-align: middle;\n",
       "    }\n",
       "\n",
       "    .dataframe tbody tr th {\n",
       "        vertical-align: top;\n",
       "    }\n",
       "\n",
       "    .dataframe thead th {\n",
       "        text-align: right;\n",
       "    }\n",
       "</style>\n",
       "<table border=\"1\" class=\"dataframe\">\n",
       "  <thead>\n",
       "    <tr style=\"text-align: right;\">\n",
       "      <th></th>\n",
       "      <th>Headcount</th>\n",
       "    </tr>\n",
       "    <tr>\n",
       "      <th>LevelOfStudy</th>\n",
       "      <th></th>\n",
       "    </tr>\n",
       "  </thead>\n",
       "  <tbody>\n",
       "    <tr>\n",
       "      <th>Research Postgraduate</th>\n",
       "      <td>28183</td>\n",
       "    </tr>\n",
       "    <tr>\n",
       "      <th>Sub-degree</th>\n",
       "      <td>34531</td>\n",
       "    </tr>\n",
       "    <tr>\n",
       "      <th>Taught Postgraduate</th>\n",
       "      <td>23409</td>\n",
       "    </tr>\n",
       "    <tr>\n",
       "      <th>Undergraduate</th>\n",
       "      <td>237396</td>\n",
       "    </tr>\n",
       "  </tbody>\n",
       "</table>\n",
       "</div>"
      ],
      "text/plain": [
       "                       Headcount\n",
       "LevelOfStudy                    \n",
       "Research Postgraduate      28183\n",
       "Sub-degree                 34531\n",
       "Taught Postgraduate        23409\n",
       "Undergraduate             237396"
      ]
     },
     "execution_count": 126,
     "metadata": {},
     "output_type": "execute_result"
    }
   ],
   "source": [
    "group_by_level.agg(np.sum)"
   ]
  },
  {
   "cell_type": "code",
   "execution_count": 127,
   "metadata": {
    "scrolled": true
   },
   "outputs": [
    {
     "data": {
      "text/html": [
       "<div>\n",
       "<style scoped>\n",
       "    .dataframe tbody tr th:only-of-type {\n",
       "        vertical-align: middle;\n",
       "    }\n",
       "\n",
       "    .dataframe tbody tr th {\n",
       "        vertical-align: top;\n",
       "    }\n",
       "\n",
       "    .dataframe thead th {\n",
       "        text-align: right;\n",
       "    }\n",
       "</style>\n",
       "<table border=\"1\" class=\"dataframe\">\n",
       "  <thead>\n",
       "    <tr style=\"text-align: right;\">\n",
       "      <th></th>\n",
       "      <th>Headcount</th>\n",
       "    </tr>\n",
       "    <tr>\n",
       "      <th>LevelOfStudy</th>\n",
       "      <th></th>\n",
       "    </tr>\n",
       "  </thead>\n",
       "  <tbody>\n",
       "    <tr>\n",
       "      <th>Research Postgraduate</th>\n",
       "      <td>167.755952</td>\n",
       "    </tr>\n",
       "    <tr>\n",
       "      <th>Sub-degree</th>\n",
       "      <td>224.227273</td>\n",
       "    </tr>\n",
       "    <tr>\n",
       "      <th>Taught Postgraduate</th>\n",
       "      <td>143.613497</td>\n",
       "    </tr>\n",
       "    <tr>\n",
       "      <th>Undergraduate</th>\n",
       "      <td>1413.071429</td>\n",
       "    </tr>\n",
       "  </tbody>\n",
       "</table>\n",
       "</div>"
      ],
      "text/plain": [
       "                         Headcount\n",
       "LevelOfStudy                      \n",
       "Research Postgraduate   167.755952\n",
       "Sub-degree              224.227273\n",
       "Taught Postgraduate     143.613497\n",
       "Undergraduate          1413.071429"
      ]
     },
     "execution_count": 127,
     "metadata": {},
     "output_type": "execute_result"
    }
   ],
   "source": [
    "group_by_level.agg(np.mean)"
   ]
  },
  {
   "cell_type": "code",
   "execution_count": 128,
   "metadata": {},
   "outputs": [
    {
     "data": {
      "text/html": [
       "<div>\n",
       "<style scoped>\n",
       "    .dataframe tbody tr th:only-of-type {\n",
       "        vertical-align: middle;\n",
       "    }\n",
       "\n",
       "    .dataframe tbody tr th {\n",
       "        vertical-align: top;\n",
       "    }\n",
       "\n",
       "    .dataframe thead th {\n",
       "        text-align: right;\n",
       "    }\n",
       "</style>\n",
       "<table border=\"1\" class=\"dataframe\">\n",
       "  <thead>\n",
       "    <tr style=\"text-align: right;\">\n",
       "      <th></th>\n",
       "      <th>AcademicYear</th>\n",
       "      <th>ProgrammeCategory</th>\n",
       "      <th>Sex</th>\n",
       "      <th>Headcount</th>\n",
       "    </tr>\n",
       "    <tr>\n",
       "      <th>LevelOfStudy</th>\n",
       "      <th></th>\n",
       "      <th></th>\n",
       "      <th></th>\n",
       "      <th></th>\n",
       "    </tr>\n",
       "  </thead>\n",
       "  <tbody>\n",
       "    <tr>\n",
       "      <th>Research Postgraduate</th>\n",
       "      <td>2020/21</td>\n",
       "      <td>Social Sciences</td>\n",
       "      <td>M</td>\n",
       "      <td>588</td>\n",
       "    </tr>\n",
       "    <tr>\n",
       "      <th>Sub-degree</th>\n",
       "      <td>2020/21</td>\n",
       "      <td>Social Sciences</td>\n",
       "      <td>M</td>\n",
       "      <td>1226</td>\n",
       "    </tr>\n",
       "    <tr>\n",
       "      <th>Taught Postgraduate</th>\n",
       "      <td>2020/21</td>\n",
       "      <td>Social Sciences</td>\n",
       "      <td>M</td>\n",
       "      <td>1052</td>\n",
       "    </tr>\n",
       "    <tr>\n",
       "      <th>Undergraduate</th>\n",
       "      <td>2020/21</td>\n",
       "      <td>Social Sciences</td>\n",
       "      <td>M</td>\n",
       "      <td>2878</td>\n",
       "    </tr>\n",
       "  </tbody>\n",
       "</table>\n",
       "</div>"
      ],
      "text/plain": [
       "                      AcademicYear ProgrammeCategory Sex  Headcount\n",
       "LevelOfStudy                                                       \n",
       "Research Postgraduate      2020/21   Social Sciences   M        588\n",
       "Sub-degree                 2020/21   Social Sciences   M       1226\n",
       "Taught Postgraduate        2020/21   Social Sciences   M       1052\n",
       "Undergraduate              2020/21   Social Sciences   M       2878"
      ]
     },
     "execution_count": 128,
     "metadata": {},
     "output_type": "execute_result"
    }
   ],
   "source": [
    "group_by_level.agg(np.max)"
   ]
  },
  {
   "cell_type": "code",
   "execution_count": 129,
   "metadata": {},
   "outputs": [
    {
     "data": {
      "text/html": [
       "<div>\n",
       "<style scoped>\n",
       "    .dataframe tbody tr th:only-of-type {\n",
       "        vertical-align: middle;\n",
       "    }\n",
       "\n",
       "    .dataframe tbody tr th {\n",
       "        vertical-align: top;\n",
       "    }\n",
       "\n",
       "    .dataframe thead th {\n",
       "        text-align: right;\n",
       "    }\n",
       "</style>\n",
       "<table border=\"1\" class=\"dataframe\">\n",
       "  <thead>\n",
       "    <tr style=\"text-align: right;\">\n",
       "      <th></th>\n",
       "      <th>AcademicYear</th>\n",
       "      <th>ProgrammeCategory</th>\n",
       "      <th>Sex</th>\n",
       "      <th>Headcount</th>\n",
       "    </tr>\n",
       "    <tr>\n",
       "      <th>LevelOfStudy</th>\n",
       "      <th></th>\n",
       "      <th></th>\n",
       "      <th></th>\n",
       "      <th></th>\n",
       "    </tr>\n",
       "  </thead>\n",
       "  <tbody>\n",
       "    <tr>\n",
       "      <th>Research Postgraduate</th>\n",
       "      <td>2009/10</td>\n",
       "      <td>Arts and Humanities</td>\n",
       "      <td>F</td>\n",
       "      <td>12</td>\n",
       "    </tr>\n",
       "    <tr>\n",
       "      <th>Sub-degree</th>\n",
       "      <td>2009/10</td>\n",
       "      <td>Arts and Humanities</td>\n",
       "      <td>F</td>\n",
       "      <td>2</td>\n",
       "    </tr>\n",
       "    <tr>\n",
       "      <th>Taught Postgraduate</th>\n",
       "      <td>2009/10</td>\n",
       "      <td>Arts and Humanities</td>\n",
       "      <td>F</td>\n",
       "      <td>1</td>\n",
       "    </tr>\n",
       "    <tr>\n",
       "      <th>Undergraduate</th>\n",
       "      <td>2009/10</td>\n",
       "      <td>Arts and Humanities</td>\n",
       "      <td>F</td>\n",
       "      <td>148</td>\n",
       "    </tr>\n",
       "  </tbody>\n",
       "</table>\n",
       "</div>"
      ],
      "text/plain": [
       "                      AcademicYear    ProgrammeCategory Sex  Headcount\n",
       "LevelOfStudy                                                          \n",
       "Research Postgraduate      2009/10  Arts and Humanities   F         12\n",
       "Sub-degree                 2009/10  Arts and Humanities   F          2\n",
       "Taught Postgraduate        2009/10  Arts and Humanities   F          1\n",
       "Undergraduate              2009/10  Arts and Humanities   F        148"
      ]
     },
     "execution_count": 129,
     "metadata": {},
     "output_type": "execute_result"
    }
   ],
   "source": [
    "group_by_level.agg(np.min)"
   ]
  },
  {
   "cell_type": "markdown",
   "metadata": {},
   "source": [
    "## Aggregated values of the whole data-frame\n",
    "\n",
    "Aggregated functions can also be applied to a complete column of a dataframe\n",
    "```\n",
    "gra[\"Headcount\"].sum()\n",
    "gra[\"Headcount\"].mean()\n",
    "gra[\"Headcount\"].max()\n",
    "gra[\"Headcount\"].min()\n",
    "gra[\"Headcount\"].std()\n",
    "```"
   ]
  },
  {
   "cell_type": "code",
   "execution_count": 130,
   "metadata": {
    "scrolled": true
   },
   "outputs": [
    {
     "data": {
      "text/plain": [
       "323519"
      ]
     },
     "execution_count": 130,
     "metadata": {},
     "output_type": "execute_result"
    }
   ],
   "source": [
    "gra[\"Headcount\"].sum()"
   ]
  },
  {
   "cell_type": "code",
   "execution_count": 131,
   "metadata": {
    "scrolled": true
   },
   "outputs": [
    {
     "data": {
      "text/plain": [
       "495.43491577335374"
      ]
     },
     "execution_count": 131,
     "metadata": {},
     "output_type": "execute_result"
    }
   ],
   "source": [
    "gra[\"Headcount\"].mean()"
   ]
  },
  {
   "cell_type": "code",
   "execution_count": 132,
   "metadata": {},
   "outputs": [
    {
     "data": {
      "text/plain": [
       "2878"
      ]
     },
     "execution_count": 132,
     "metadata": {},
     "output_type": "execute_result"
    }
   ],
   "source": [
    "gra[\"Headcount\"].max()"
   ]
  },
  {
   "cell_type": "code",
   "execution_count": 133,
   "metadata": {},
   "outputs": [
    {
     "data": {
      "text/plain": [
       "1"
      ]
     },
     "execution_count": 133,
     "metadata": {},
     "output_type": "execute_result"
    }
   ],
   "source": [
    "gra[\"Headcount\"].min()"
   ]
  },
  {
   "cell_type": "code",
   "execution_count": 134,
   "metadata": {},
   "outputs": [
    {
     "data": {
      "text/plain": [
       "680.415914491372"
      ]
     },
     "execution_count": 134,
     "metadata": {},
     "output_type": "execute_result"
    }
   ],
   "source": [
    "gra[\"Headcount\"].std()"
   ]
  },
  {
   "cell_type": "markdown",
   "metadata": {},
   "source": [
    "## Group by with multiple columns\n",
    "\n",
    "**Example**:\n",
    "```\n",
    "gra['LevelOfStudy'].unique()\n",
    "gra['ProgrammeCategory'].unique()\n",
    "group_by_level_category = gra.groupby(['LevelOfStudy', 'ProgrammeCategory'])\n",
    "group_by_level_category.groups\n",
    "group_by_level_category.ngroups # number of groups\n",
    "gra.groupby(['LevelOfStudy', 'ProgrammeCategory']).agg(np.mean)\n",
    "```\n",
    "\n"
   ]
  },
  {
   "cell_type": "code",
   "execution_count": 135,
   "metadata": {},
   "outputs": [
    {
     "name": "stdout",
     "output_type": "stream",
     "text": [
      "<class 'pandas.core.frame.DataFrame'>\n",
      "RangeIndex: 653 entries, 0 to 652\n",
      "Data columns (total 5 columns):\n",
      " #   Column             Non-Null Count  Dtype \n",
      "---  ------             --------------  ----- \n",
      " 0   AcademicYear       653 non-null    object\n",
      " 1   LevelOfStudy       653 non-null    object\n",
      " 2   ProgrammeCategory  653 non-null    object\n",
      " 3   Sex                653 non-null    object\n",
      " 4   Headcount          653 non-null    int64 \n",
      "dtypes: int64(1), object(4)\n",
      "memory usage: 25.6+ KB\n"
     ]
    }
   ],
   "source": [
    "gra.info()"
   ]
  },
  {
   "cell_type": "code",
   "execution_count": 136,
   "metadata": {},
   "outputs": [
    {
     "data": {
      "text/plain": [
       "array(['Sub-degree', 'Undergraduate', 'Taught Postgraduate',\n",
       "       'Research Postgraduate'], dtype=object)"
      ]
     },
     "execution_count": 136,
     "metadata": {},
     "output_type": "execute_result"
    }
   ],
   "source": [
    "gra[\"LevelOfStudy\"].unique()"
   ]
  },
  {
   "cell_type": "code",
   "execution_count": 137,
   "metadata": {},
   "outputs": [
    {
     "data": {
      "text/plain": [
       "array(['Arts and Humanities', 'Business and Management', 'Education',\n",
       "       'Engineering and Technology', 'Medicine, Dentistry and Health',\n",
       "       'Sciences', 'Social Sciences'], dtype=object)"
      ]
     },
     "execution_count": 137,
     "metadata": {},
     "output_type": "execute_result"
    }
   ],
   "source": [
    "gra['ProgrammeCategory'].unique()"
   ]
  },
  {
   "cell_type": "code",
   "execution_count": 138,
   "metadata": {},
   "outputs": [],
   "source": [
    "group_by_level_category = gra.groupby(['LevelOfStudy', 'ProgrammeCategory'])"
   ]
  },
  {
   "cell_type": "code",
   "execution_count": 139,
   "metadata": {},
   "outputs": [
    {
     "data": {
      "text/plain": [
       "{('Research Postgraduate', 'Arts and Humanities'): [42, 43, 98, 99, 154, 155, 210, 211, 266, 267, 319, 320, 375, 376, 429, 430, 483, 484, 537, 538, 587, 588, 639, 640], ('Research Postgraduate', 'Business and Management'): [44, 45, 100, 101, 156, 157, 212, 213, 268, 269, 321, 322, 377, 378, 431, 432, 485, 486, 539, 540, 589, 590, 641, 642], ('Research Postgraduate', 'Education'): [46, 47, 102, 103, 158, 159, 214, 215, 270, 271, 323, 324, 379, 380, 433, 434, 487, 488, 541, 542, 591, 592, 643, 644], ('Research Postgraduate', 'Engineering and Technology'): [48, 49, 104, 105, 160, 161, 216, 217, 272, 273, 325, 326, 381, 382, 435, 436, 489, 490, 543, 544, 593, 594, 645, 646], ('Research Postgraduate', 'Medicine, Dentistry and Health'): [50, 51, 106, 107, 162, 163, 218, 219, 274, 275, 327, 328, 383, 384, 437, 438, 491, 492, 545, 546, 595, 596, 647, 648], ('Research Postgraduate', 'Sciences'): [52, 53, 108, 109, 164, 165, 220, 221, 276, 277, 329, 330, 385, 386, 439, 440, 493, 494, 547, 548, 597, 598, 649, 650], ('Research Postgraduate', 'Social Sciences'): [54, 55, 110, 111, 166, 167, 222, 223, 278, 279, 331, 332, 387, 388, 441, 442, 495, 496, 549, 550, 599, 600, 651, 652], ('Sub-degree', 'Arts and Humanities'): [0, 1, 56, 57, 112, 113, 168, 169, 224, 225, 280, 281, 333, 334, 389, 390, 443, 444, 497, 498, 551, 552, 601, 602], ('Sub-degree', 'Business and Management'): [2, 3, 58, 59, 114, 115, 170, 171, 226, 227, 282, 283, 335, 336, 391, 392, 445, 446, 499, 500], ('Sub-degree', 'Education'): [4, 5, 60, 61, 116, 117, 172, 173, 228, 229, 284, 285, 337, 338, 393, 394, 447, 448, 501, 502, 553, 554, 603, 604], ('Sub-degree', 'Engineering and Technology'): [6, 7, 62, 63, 118, 119, 174, 175, 230, 231, 286, 287, 339, 340, 395, 396, 449, 450, 503, 504, 555, 556, 605, 606], ('Sub-degree', 'Medicine, Dentistry and Health'): [8, 9, 64, 65, 120, 121, 176, 177, 232, 233, 288, 289, 341, 342], ('Sub-degree', 'Sciences'): [10, 11, 66, 67, 122, 123, 178, 179, 234, 235, 290, 291, 343, 344, 397, 398, 451, 452, 505, 506, 557, 558, 607, 608], ('Sub-degree', 'Social Sciences'): [12, 13, 68, 69, 124, 125, 180, 181, 236, 237, 292, 293, 345, 346, 399, 400, 453, 454, 507, 508, 559, 560, 609, 610], ('Taught Postgraduate', 'Arts and Humanities'): [28, 29, 84, 85, 140, 141, 196, 197, 252, 253, 308, 309, 361, 362, 415, 416, 469, 470, 523, 524, 575, 576, 625, 626], ('Taught Postgraduate', 'Business and Management'): [30, 31, 86, 87, 142, 143, 198, 199, 254, 255, 363, 364, 417, 418, 471, 472, 525, 526, 627, 628], ('Taught Postgraduate', 'Education'): [32, 33, 88, 89, 144, 145, 200, 201, 256, 257, 310, 311, 365, 366, 419, 420, 473, 474, 527, 528, 577, 578, 629, 630], ('Taught Postgraduate', 'Engineering and Technology'): [34, 35, 90, 91, 146, 147, 202, 203, 258, 259, 312, 313, 367, 368, 421, 422, 475, 476, 529, 530, 579, 580, 631, 632], ('Taught Postgraduate', 'Medicine, Dentistry and Health'): [36, 37, 92, 93, 148, 149, 204, 205, 260, 261, 314, 369, 370, 423, 424, 477, 478, 531, 532, 581, 582, 633, 634], ('Taught Postgraduate', 'Sciences'): [38, 39, 94, 95, 150, 151, 206, 207, 262, 263, 315, 316, 371, 372, 425, 426, 479, 480, 533, 534, 583, 584, 635, 636], ('Taught Postgraduate', 'Social Sciences'): [40, 41, 96, 97, 152, 153, 208, 209, 264, 265, 317, 318, 373, 374, 427, 428, 481, 482, 535, 536, 585, 586, 637, 638], ('Undergraduate', 'Arts and Humanities'): [14, 15, 70, 71, 126, 127, 182, 183, 238, 239, 294, 295, 347, 348, 401, 402, 455, 456, 509, 510, 561, 562, 611, 612], ('Undergraduate', 'Business and Management'): [16, 17, 72, 73, 128, 129, 184, 185, 240, 241, 296, 297, 349, 350, 403, 404, 457, 458, 511, 512, 563, 564, 613, 614], ('Undergraduate', 'Education'): [18, 19, 74, 75, 130, 131, 186, 187, 242, 243, 298, 299, 351, 352, 405, 406, 459, 460, 513, 514, 565, 566, 615, 616], ('Undergraduate', 'Engineering and Technology'): [20, 21, 76, 77, 132, 133, 188, 189, 244, 245, 300, 301, 353, 354, 407, 408, 461, 462, 515, 516, 567, 568, 617, 618], ('Undergraduate', 'Medicine, Dentistry and Health'): [22, 23, 78, 79, 134, 135, 190, 191, 246, 247, 302, 303, 355, 356, 409, 410, 463, 464, 517, 518, 569, 570, 619, 620], ('Undergraduate', 'Sciences'): [24, 25, 80, 81, 136, 137, 192, 193, 248, 249, 304, 305, 357, 358, 411, 412, 465, 466, 519, 520, 571, 572, 621, 622], ('Undergraduate', 'Social Sciences'): [26, 27, 82, 83, 138, 139, 194, 195, 250, 251, 306, 307, 359, 360, 413, 414, 467, 468, 521, 522, 573, 574, 623, 624]}"
      ]
     },
     "execution_count": 139,
     "metadata": {},
     "output_type": "execute_result"
    }
   ],
   "source": [
    "group_by_level_category.groups"
   ]
  },
  {
   "cell_type": "code",
   "execution_count": 140,
   "metadata": {},
   "outputs": [
    {
     "data": {
      "text/plain": [
       "28"
      ]
     },
     "execution_count": 140,
     "metadata": {},
     "output_type": "execute_result"
    }
   ],
   "source": [
    "group_by_level_category.ngroups"
   ]
  },
  {
   "cell_type": "code",
   "execution_count": 141,
   "metadata": {},
   "outputs": [
    {
     "name": "stdout",
     "output_type": "stream",
     "text": [
      "('Research Postgraduate', 'Arts and Humanities') -     AcademicYear           LevelOfStudy    ProgrammeCategory Sex  Headcount\n",
      "42       2009/10  Research Postgraduate  Arts and Humanities   M         82\n",
      "43       2009/10  Research Postgraduate  Arts and Humanities   F        108\n",
      "98       2010/11  Research Postgraduate  Arts and Humanities   M         91\n",
      "99       2010/11  Research Postgraduate  Arts and Humanities   F        125\n",
      "154      2011/12  Research Postgraduate  Arts and Humanities   M         96\n",
      "155      2011/12  Research Postgraduate  Arts and Humanities   F        119\n",
      "210      2012/13  Research Postgraduate  Arts and Humanities   M         77\n",
      "211      2012/13  Research Postgraduate  Arts and Humanities   F        140\n",
      "266      2013/14  Research Postgraduate  Arts and Humanities   M         95\n",
      "267      2013/14  Research Postgraduate  Arts and Humanities   F        119\n",
      "319      2014/15  Research Postgraduate  Arts and Humanities   M         96\n",
      "320      2014/15  Research Postgraduate  Arts and Humanities   F        128\n",
      "375      2015/16  Research Postgraduate  Arts and Humanities   M         98\n",
      "376      2015/16  Research Postgraduate  Arts and Humanities   F        128\n",
      "429      2016/17  Research Postgraduate  Arts and Humanities   M        114\n",
      "430      2016/17  Research Postgraduate  Arts and Humanities   F        143\n",
      "483      2017/18  Research Postgraduate  Arts and Humanities   M        125\n",
      "484      2017/18  Research Postgraduate  Arts and Humanities   F        125\n",
      "537      2018/19  Research Postgraduate  Arts and Humanities   M        101\n",
      "538      2018/19  Research Postgraduate  Arts and Humanities   F        130\n",
      "587      2019/20  Research Postgraduate  Arts and Humanities   M        101\n",
      "588      2019/20  Research Postgraduate  Arts and Humanities   F        127\n",
      "639      2020/21  Research Postgraduate  Arts and Humanities   M        108\n",
      "640      2020/21  Research Postgraduate  Arts and Humanities   F        123\n",
      "('Research Postgraduate', 'Business and Management') -     AcademicYear           LevelOfStudy        ProgrammeCategory Sex  \\\n",
      "44       2009/10  Research Postgraduate  Business and Management   M   \n",
      "45       2009/10  Research Postgraduate  Business and Management   F   \n",
      "100      2010/11  Research Postgraduate  Business and Management   M   \n",
      "101      2010/11  Research Postgraduate  Business and Management   F   \n",
      "156      2011/12  Research Postgraduate  Business and Management   M   \n",
      "157      2011/12  Research Postgraduate  Business and Management   F   \n",
      "212      2012/13  Research Postgraduate  Business and Management   M   \n",
      "213      2012/13  Research Postgraduate  Business and Management   F   \n",
      "268      2013/14  Research Postgraduate  Business and Management   M   \n",
      "269      2013/14  Research Postgraduate  Business and Management   F   \n",
      "321      2014/15  Research Postgraduate  Business and Management   M   \n",
      "322      2014/15  Research Postgraduate  Business and Management   F   \n",
      "377      2015/16  Research Postgraduate  Business and Management   M   \n",
      "378      2015/16  Research Postgraduate  Business and Management   F   \n",
      "431      2016/17  Research Postgraduate  Business and Management   M   \n",
      "432      2016/17  Research Postgraduate  Business and Management   F   \n",
      "485      2017/18  Research Postgraduate  Business and Management   M   \n",
      "486      2017/18  Research Postgraduate  Business and Management   F   \n",
      "539      2018/19  Research Postgraduate  Business and Management   M   \n",
      "540      2018/19  Research Postgraduate  Business and Management   F   \n",
      "589      2019/20  Research Postgraduate  Business and Management   M   \n",
      "590      2019/20  Research Postgraduate  Business and Management   F   \n",
      "641      2020/21  Research Postgraduate  Business and Management   M   \n",
      "642      2020/21  Research Postgraduate  Business and Management   F   \n",
      "\n",
      "     Headcount  \n",
      "44          53  \n",
      "45          77  \n",
      "100         50  \n",
      "101         54  \n",
      "156         39  \n",
      "157         42  \n",
      "212         42  \n",
      "213         48  \n",
      "268         49  \n",
      "269         59  \n",
      "321         65  \n",
      "322         79  \n",
      "377         59  \n",
      "378         62  \n",
      "431         55  \n",
      "432         66  \n",
      "485         63  \n",
      "486         81  \n",
      "539         68  \n",
      "540         92  \n",
      "589         79  \n",
      "590         76  \n",
      "641         62  \n",
      "642         95  \n",
      "('Research Postgraduate', 'Education') -     AcademicYear           LevelOfStudy ProgrammeCategory Sex  Headcount\n",
      "46       2009/10  Research Postgraduate         Education   M         12\n",
      "47       2009/10  Research Postgraduate         Education   F         26\n",
      "102      2010/11  Research Postgraduate         Education   M         19\n",
      "103      2010/11  Research Postgraduate         Education   F         41\n",
      "158      2011/12  Research Postgraduate         Education   M         18\n",
      "159      2011/12  Research Postgraduate         Education   F         30\n",
      "214      2012/13  Research Postgraduate         Education   M         18\n",
      "215      2012/13  Research Postgraduate         Education   F         43\n",
      "270      2013/14  Research Postgraduate         Education   M         19\n",
      "271      2013/14  Research Postgraduate         Education   F         37\n",
      "323      2014/15  Research Postgraduate         Education   M         20\n",
      "324      2014/15  Research Postgraduate         Education   F         61\n",
      "379      2015/16  Research Postgraduate         Education   M         17\n",
      "380      2015/16  Research Postgraduate         Education   F         39\n",
      "433      2016/17  Research Postgraduate         Education   M         19\n",
      "434      2016/17  Research Postgraduate         Education   F         47\n",
      "487      2017/18  Research Postgraduate         Education   M         26\n",
      "488      2017/18  Research Postgraduate         Education   F         60\n",
      "541      2018/19  Research Postgraduate         Education   M         28\n",
      "542      2018/19  Research Postgraduate         Education   F         52\n",
      "591      2019/20  Research Postgraduate         Education   M         24\n",
      "592      2019/20  Research Postgraduate         Education   F         48\n",
      "643      2020/21  Research Postgraduate         Education   M         24\n",
      "644      2020/21  Research Postgraduate         Education   F         46\n",
      "('Research Postgraduate', 'Engineering and Technology') -     AcademicYear           LevelOfStudy           ProgrammeCategory Sex  \\\n",
      "48       2009/10  Research Postgraduate  Engineering and Technology   M   \n",
      "49       2009/10  Research Postgraduate  Engineering and Technology   F   \n",
      "104      2010/11  Research Postgraduate  Engineering and Technology   M   \n",
      "105      2010/11  Research Postgraduate  Engineering and Technology   F   \n",
      "160      2011/12  Research Postgraduate  Engineering and Technology   M   \n",
      "161      2011/12  Research Postgraduate  Engineering and Technology   F   \n",
      "216      2012/13  Research Postgraduate  Engineering and Technology   M   \n",
      "217      2012/13  Research Postgraduate  Engineering and Technology   F   \n",
      "272      2013/14  Research Postgraduate  Engineering and Technology   M   \n",
      "273      2013/14  Research Postgraduate  Engineering and Technology   F   \n",
      "325      2014/15  Research Postgraduate  Engineering and Technology   M   \n",
      "326      2014/15  Research Postgraduate  Engineering and Technology   F   \n",
      "381      2015/16  Research Postgraduate  Engineering and Technology   M   \n",
      "382      2015/16  Research Postgraduate  Engineering and Technology   F   \n",
      "435      2016/17  Research Postgraduate  Engineering and Technology   M   \n",
      "436      2016/17  Research Postgraduate  Engineering and Technology   F   \n",
      "489      2017/18  Research Postgraduate  Engineering and Technology   M   \n",
      "490      2017/18  Research Postgraduate  Engineering and Technology   F   \n",
      "543      2018/19  Research Postgraduate  Engineering and Technology   M   \n",
      "544      2018/19  Research Postgraduate  Engineering and Technology   F   \n",
      "593      2019/20  Research Postgraduate  Engineering and Technology   M   \n",
      "594      2019/20  Research Postgraduate  Engineering and Technology   F   \n",
      "645      2020/21  Research Postgraduate  Engineering and Technology   M   \n",
      "646      2020/21  Research Postgraduate  Engineering and Technology   F   \n",
      "\n",
      "     Headcount  \n",
      "48         347  \n",
      "49         143  \n",
      "104        362  \n",
      "105        156  \n",
      "160        371  \n",
      "161        164  \n",
      "216        393  \n",
      "217        152  \n",
      "272        412  \n",
      "273        177  \n",
      "325        436  \n",
      "326        191  \n",
      "381        493  \n",
      "382        173  \n",
      "435        533  \n",
      "436        232  \n",
      "489        559  \n",
      "490        244  \n",
      "543        588  \n",
      "544        228  \n",
      "593        556  \n",
      "594        228  \n",
      "645        568  \n",
      "646        270  \n",
      "('Research Postgraduate', 'Medicine, Dentistry and Health') -     AcademicYear           LevelOfStudy               ProgrammeCategory Sex  \\\n",
      "50       2009/10  Research Postgraduate  Medicine, Dentistry and Health   M   \n",
      "51       2009/10  Research Postgraduate  Medicine, Dentistry and Health   F   \n",
      "106      2010/11  Research Postgraduate  Medicine, Dentistry and Health   M   \n",
      "107      2010/11  Research Postgraduate  Medicine, Dentistry and Health   F   \n",
      "162      2011/12  Research Postgraduate  Medicine, Dentistry and Health   M   \n",
      "163      2011/12  Research Postgraduate  Medicine, Dentistry and Health   F   \n",
      "218      2012/13  Research Postgraduate  Medicine, Dentistry and Health   M   \n",
      "219      2012/13  Research Postgraduate  Medicine, Dentistry and Health   F   \n",
      "274      2013/14  Research Postgraduate  Medicine, Dentistry and Health   M   \n",
      "275      2013/14  Research Postgraduate  Medicine, Dentistry and Health   F   \n",
      "327      2014/15  Research Postgraduate  Medicine, Dentistry and Health   M   \n",
      "328      2014/15  Research Postgraduate  Medicine, Dentistry and Health   F   \n",
      "383      2015/16  Research Postgraduate  Medicine, Dentistry and Health   M   \n",
      "384      2015/16  Research Postgraduate  Medicine, Dentistry and Health   F   \n",
      "437      2016/17  Research Postgraduate  Medicine, Dentistry and Health   M   \n",
      "438      2016/17  Research Postgraduate  Medicine, Dentistry and Health   F   \n",
      "491      2017/18  Research Postgraduate  Medicine, Dentistry and Health   M   \n",
      "492      2017/18  Research Postgraduate  Medicine, Dentistry and Health   F   \n",
      "545      2018/19  Research Postgraduate  Medicine, Dentistry and Health   M   \n",
      "546      2018/19  Research Postgraduate  Medicine, Dentistry and Health   F   \n",
      "595      2019/20  Research Postgraduate  Medicine, Dentistry and Health   M   \n",
      "596      2019/20  Research Postgraduate  Medicine, Dentistry and Health   F   \n",
      "647      2020/21  Research Postgraduate  Medicine, Dentistry and Health   M   \n",
      "648      2020/21  Research Postgraduate  Medicine, Dentistry and Health   F   \n",
      "\n",
      "     Headcount  \n",
      "50         136  \n",
      "51         166  \n",
      "106        142  \n",
      "107        146  \n",
      "162        177  \n",
      "163        202  \n",
      "218        134  \n",
      "219        160  \n",
      "274        145  \n",
      "275        177  \n",
      "327        137  \n",
      "328        190  \n",
      "383        173  \n",
      "384        196  \n",
      "437        164  \n",
      "438        194  \n",
      "491        168  \n",
      "492        212  \n",
      "545        143  \n",
      "546        198  \n",
      "595        145  \n",
      "596        234  \n",
      "647        178  \n",
      "648        237  \n",
      "('Research Postgraduate', 'Sciences') -     AcademicYear           LevelOfStudy ProgrammeCategory Sex  Headcount\n",
      "52       2009/10  Research Postgraduate          Sciences   M        373\n",
      "53       2009/10  Research Postgraduate          Sciences   F        202\n",
      "108      2010/11  Research Postgraduate          Sciences   M        414\n",
      "109      2010/11  Research Postgraduate          Sciences   F        210\n",
      "164      2011/12  Research Postgraduate          Sciences   M        440\n",
      "165      2011/12  Research Postgraduate          Sciences   F        191\n",
      "220      2012/13  Research Postgraduate          Sciences   M        423\n",
      "221      2012/13  Research Postgraduate          Sciences   F        190\n",
      "276      2013/14  Research Postgraduate          Sciences   M        445\n",
      "277      2013/14  Research Postgraduate          Sciences   F        191\n",
      "329      2014/15  Research Postgraduate          Sciences   M        464\n",
      "330      2014/15  Research Postgraduate          Sciences   F        198\n",
      "385      2015/16  Research Postgraduate          Sciences   M        390\n",
      "386      2015/16  Research Postgraduate          Sciences   F        203\n",
      "439      2016/17  Research Postgraduate          Sciences   M        427\n",
      "440      2016/17  Research Postgraduate          Sciences   F        227\n",
      "493      2017/18  Research Postgraduate          Sciences   M        519\n",
      "494      2017/18  Research Postgraduate          Sciences   F        245\n",
      "547      2018/19  Research Postgraduate          Sciences   M        486\n",
      "548      2018/19  Research Postgraduate          Sciences   F        254\n",
      "597      2019/20  Research Postgraduate          Sciences   M        473\n",
      "598      2019/20  Research Postgraduate          Sciences   F        236\n",
      "649      2020/21  Research Postgraduate          Sciences   M        554\n",
      "650      2020/21  Research Postgraduate          Sciences   F        286\n",
      "('Research Postgraduate', 'Social Sciences') -     AcademicYear           LevelOfStudy ProgrammeCategory Sex  Headcount\n",
      "54       2009/10  Research Postgraduate   Social Sciences   M         82\n",
      "55       2009/10  Research Postgraduate   Social Sciences   F        124\n",
      "110      2010/11  Research Postgraduate   Social Sciences   M        114\n",
      "111      2010/11  Research Postgraduate   Social Sciences   F        126\n",
      "166      2011/12  Research Postgraduate   Social Sciences   M         95\n",
      "167      2011/12  Research Postgraduate   Social Sciences   F        129\n",
      "222      2012/13  Research Postgraduate   Social Sciences   M         98\n",
      "223      2012/13  Research Postgraduate   Social Sciences   F        151\n",
      "278      2013/14  Research Postgraduate   Social Sciences   M        124\n",
      "279      2013/14  Research Postgraduate   Social Sciences   F        143\n",
      "331      2014/15  Research Postgraduate   Social Sciences   M         96\n",
      "332      2014/15  Research Postgraduate   Social Sciences   F        148\n",
      "387      2015/16  Research Postgraduate   Social Sciences   M        117\n",
      "388      2015/16  Research Postgraduate   Social Sciences   F        165\n",
      "441      2016/17  Research Postgraduate   Social Sciences   M        120\n",
      "442      2016/17  Research Postgraduate   Social Sciences   F        167\n",
      "495      2017/18  Research Postgraduate   Social Sciences   M        100\n",
      "496      2017/18  Research Postgraduate   Social Sciences   F        135\n",
      "549      2018/19  Research Postgraduate   Social Sciences   M        137\n",
      "550      2018/19  Research Postgraduate   Social Sciences   F        162\n",
      "599      2019/20  Research Postgraduate   Social Sciences   M         97\n",
      "600      2019/20  Research Postgraduate   Social Sciences   F        135\n",
      "651      2020/21  Research Postgraduate   Social Sciences   M        114\n",
      "652      2020/21  Research Postgraduate   Social Sciences   F        145\n",
      "('Sub-degree', 'Arts and Humanities') -     AcademicYear LevelOfStudy    ProgrammeCategory Sex  Headcount\n",
      "0        2009/10   Sub-degree  Arts and Humanities   M        158\n",
      "1        2009/10   Sub-degree  Arts and Humanities   F        475\n",
      "56       2010/11   Sub-degree  Arts and Humanities   M        126\n",
      "57       2010/11   Sub-degree  Arts and Humanities   F        444\n",
      "112      2011/12   Sub-degree  Arts and Humanities   M        132\n",
      "113      2011/12   Sub-degree  Arts and Humanities   F        358\n",
      "168      2012/13   Sub-degree  Arts and Humanities   M         82\n",
      "169      2012/13   Sub-degree  Arts and Humanities   F        308\n",
      "224      2013/14   Sub-degree  Arts and Humanities   M         63\n",
      "225      2013/14   Sub-degree  Arts and Humanities   F        264\n",
      "280      2014/15   Sub-degree  Arts and Humanities   M         84\n",
      "281      2014/15   Sub-degree  Arts and Humanities   F        274\n",
      "333      2015/16   Sub-degree  Arts and Humanities   M         75\n",
      "334      2015/16   Sub-degree  Arts and Humanities   F        272\n",
      "389      2016/17   Sub-degree  Arts and Humanities   M         38\n",
      "390      2016/17   Sub-degree  Arts and Humanities   F        185\n",
      "443      2017/18   Sub-degree  Arts and Humanities   M         33\n",
      "444      2017/18   Sub-degree  Arts and Humanities   F        139\n",
      "497      2018/19   Sub-degree  Arts and Humanities   M         28\n",
      "498      2018/19   Sub-degree  Arts and Humanities   F         97\n",
      "551      2019/20   Sub-degree  Arts and Humanities   M          7\n",
      "552      2019/20   Sub-degree  Arts and Humanities   F         49\n",
      "601      2020/21   Sub-degree  Arts and Humanities   M         12\n",
      "602      2020/21   Sub-degree  Arts and Humanities   F         59\n",
      "('Sub-degree', 'Business and Management') -     AcademicYear LevelOfStudy        ProgrammeCategory Sex  Headcount\n",
      "2        2009/10   Sub-degree  Business and Management   M         73\n",
      "3        2009/10   Sub-degree  Business and Management   F        227\n",
      "58       2010/11   Sub-degree  Business and Management   M        103\n",
      "59       2010/11   Sub-degree  Business and Management   F        331\n",
      "114      2011/12   Sub-degree  Business and Management   M         96\n",
      "115      2011/12   Sub-degree  Business and Management   F        249\n",
      "170      2012/13   Sub-degree  Business and Management   M         82\n",
      "171      2012/13   Sub-degree  Business and Management   F        244\n",
      "226      2013/14   Sub-degree  Business and Management   M         95\n",
      "227      2013/14   Sub-degree  Business and Management   F        235\n",
      "282      2014/15   Sub-degree  Business and Management   M         67\n",
      "283      2014/15   Sub-degree  Business and Management   F        177\n",
      "335      2015/16   Sub-degree  Business and Management   M         41\n",
      "336      2015/16   Sub-degree  Business and Management   F        135\n",
      "391      2016/17   Sub-degree  Business and Management   M         43\n",
      "392      2016/17   Sub-degree  Business and Management   F        106\n",
      "445      2017/18   Sub-degree  Business and Management   M         34\n",
      "446      2017/18   Sub-degree  Business and Management   F         73\n",
      "499      2018/19   Sub-degree  Business and Management   M         22\n",
      "500      2018/19   Sub-degree  Business and Management   F         32\n",
      "('Sub-degree', 'Education') -     AcademicYear LevelOfStudy ProgrammeCategory Sex  Headcount\n",
      "4        2009/10   Sub-degree         Education   M        122\n",
      "5        2009/10   Sub-degree         Education   F        581\n",
      "60       2010/11   Sub-degree         Education   M        120\n",
      "61       2010/11   Sub-degree         Education   F        639\n",
      "116      2011/12   Sub-degree         Education   M        180\n",
      "117      2011/12   Sub-degree         Education   F        635\n",
      "172      2012/13   Sub-degree         Education   M        202\n",
      "173      2012/13   Sub-degree         Education   F        648\n",
      "228      2013/14   Sub-degree         Education   M        247\n",
      "229      2013/14   Sub-degree         Education   F        732\n",
      "284      2014/15   Sub-degree         Education   M        290\n",
      "285      2014/15   Sub-degree         Education   F        706\n",
      "337      2015/16   Sub-degree         Education   M        402\n",
      "338      2015/16   Sub-degree         Education   F       1026\n",
      "393      2016/17   Sub-degree         Education   M        394\n",
      "394      2016/17   Sub-degree         Education   F       1054\n",
      "447      2017/18   Sub-degree         Education   M        353\n",
      "448      2017/18   Sub-degree         Education   F       1151\n",
      "501      2018/19   Sub-degree         Education   M        360\n",
      "502      2018/19   Sub-degree         Education   F       1226\n",
      "553      2019/20   Sub-degree         Education   M        284\n",
      "554      2019/20   Sub-degree         Education   F       1087\n",
      "603      2020/21   Sub-degree         Education   M        299\n",
      "604      2020/21   Sub-degree         Education   F       1046\n",
      "('Sub-degree', 'Engineering and Technology') -     AcademicYear LevelOfStudy           ProgrammeCategory Sex  Headcount\n",
      "6        2009/10   Sub-degree  Engineering and Technology   M        507\n",
      "7        2009/10   Sub-degree  Engineering and Technology   F        505\n",
      "62       2010/11   Sub-degree  Engineering and Technology   M        514\n",
      "63       2010/11   Sub-degree  Engineering and Technology   F        498\n",
      "118      2011/12   Sub-degree  Engineering and Technology   M        563\n",
      "119      2011/12   Sub-degree  Engineering and Technology   F        457\n",
      "174      2012/13   Sub-degree  Engineering and Technology   M        602\n",
      "175      2012/13   Sub-degree  Engineering and Technology   F        467\n",
      "230      2013/14   Sub-degree  Engineering and Technology   M        622\n",
      "231      2013/14   Sub-degree  Engineering and Technology   F        475\n",
      "286      2014/15   Sub-degree  Engineering and Technology   M        556\n",
      "287      2014/15   Sub-degree  Engineering and Technology   F        381\n",
      "339      2015/16   Sub-degree  Engineering and Technology   M        552\n",
      "340      2015/16   Sub-degree  Engineering and Technology   F        312\n",
      "395      2016/17   Sub-degree  Engineering and Technology   M        547\n",
      "396      2016/17   Sub-degree  Engineering and Technology   F        272\n",
      "449      2017/18   Sub-degree  Engineering and Technology   M        495\n",
      "450      2017/18   Sub-degree  Engineering and Technology   F        268\n",
      "503      2018/19   Sub-degree  Engineering and Technology   M        443\n",
      "504      2018/19   Sub-degree  Engineering and Technology   F        169\n",
      "555      2019/20   Sub-degree  Engineering and Technology   M        354\n",
      "556      2019/20   Sub-degree  Engineering and Technology   F        118\n",
      "605      2020/21   Sub-degree  Engineering and Technology   M        331\n",
      "606      2020/21   Sub-degree  Engineering and Technology   F         91\n",
      "('Sub-degree', 'Medicine, Dentistry and Health') -     AcademicYear LevelOfStudy               ProgrammeCategory Sex  Headcount\n",
      "8        2009/10   Sub-degree  Medicine, Dentistry and Health   M         23\n",
      "9        2009/10   Sub-degree  Medicine, Dentistry and Health   F         91\n",
      "64       2010/11   Sub-degree  Medicine, Dentistry and Health   M         23\n",
      "65       2010/11   Sub-degree  Medicine, Dentistry and Health   F         82\n",
      "120      2011/12   Sub-degree  Medicine, Dentistry and Health   M         28\n",
      "121      2011/12   Sub-degree  Medicine, Dentistry and Health   F        120\n",
      "176      2012/13   Sub-degree  Medicine, Dentistry and Health   M         39\n",
      "177      2012/13   Sub-degree  Medicine, Dentistry and Health   F        115\n",
      "232      2013/14   Sub-degree  Medicine, Dentistry and Health   M         57\n",
      "233      2013/14   Sub-degree  Medicine, Dentistry and Health   F        106\n",
      "288      2014/15   Sub-degree  Medicine, Dentistry and Health   M         31\n",
      "289      2014/15   Sub-degree  Medicine, Dentistry and Health   F        115\n",
      "341      2015/16   Sub-degree  Medicine, Dentistry and Health   M          2\n",
      "342      2015/16   Sub-degree  Medicine, Dentistry and Health   F          4\n",
      "('Sub-degree', 'Sciences') -     AcademicYear LevelOfStudy ProgrammeCategory Sex  Headcount\n",
      "10       2009/10   Sub-degree          Sciences   M        124\n",
      "11       2009/10   Sub-degree          Sciences   F        168\n",
      "66       2010/11   Sub-degree          Sciences   M        165\n",
      "67       2010/11   Sub-degree          Sciences   F        153\n",
      "122      2011/12   Sub-degree          Sciences   M        162\n",
      "123      2011/12   Sub-degree          Sciences   F        134\n",
      "178      2012/13   Sub-degree          Sciences   M        150\n",
      "179      2012/13   Sub-degree          Sciences   F        137\n",
      "234      2013/14   Sub-degree          Sciences   M        168\n",
      "235      2013/14   Sub-degree          Sciences   F        133\n",
      "290      2014/15   Sub-degree          Sciences   M        148\n",
      "291      2014/15   Sub-degree          Sciences   F        135\n",
      "343      2015/16   Sub-degree          Sciences   M        133\n",
      "344      2015/16   Sub-degree          Sciences   F        103\n",
      "397      2016/17   Sub-degree          Sciences   M        148\n",
      "398      2016/17   Sub-degree          Sciences   F         75\n",
      "451      2017/18   Sub-degree          Sciences   M        118\n",
      "452      2017/18   Sub-degree          Sciences   F         74\n",
      "505      2018/19   Sub-degree          Sciences   M         84\n",
      "506      2018/19   Sub-degree          Sciences   F         68\n",
      "557      2019/20   Sub-degree          Sciences   M         70\n",
      "558      2019/20   Sub-degree          Sciences   F         39\n",
      "607      2020/21   Sub-degree          Sciences   M         76\n",
      "608      2020/21   Sub-degree          Sciences   F         62\n",
      "('Sub-degree', 'Social Sciences') -     AcademicYear LevelOfStudy ProgrammeCategory Sex  Headcount\n",
      "12       2009/10   Sub-degree   Social Sciences   M         36\n",
      "13       2009/10   Sub-degree   Social Sciences   F         91\n",
      "68       2010/11   Sub-degree   Social Sciences   M         41\n",
      "69       2010/11   Sub-degree   Social Sciences   F        100\n",
      "124      2011/12   Sub-degree   Social Sciences   M         42\n",
      "125      2011/12   Sub-degree   Social Sciences   F         97\n",
      "180      2012/13   Sub-degree   Social Sciences   M         37\n",
      "181      2012/13   Sub-degree   Social Sciences   F         64\n",
      "236      2013/14   Sub-degree   Social Sciences   M         19\n",
      "237      2013/14   Sub-degree   Social Sciences   F         35\n",
      "292      2014/15   Sub-degree   Social Sciences   M         13\n",
      "293      2014/15   Sub-degree   Social Sciences   F         44\n",
      "345      2015/16   Sub-degree   Social Sciences   M          5\n",
      "346      2015/16   Sub-degree   Social Sciences   F          9\n",
      "399      2016/17   Sub-degree   Social Sciences   M          6\n",
      "400      2016/17   Sub-degree   Social Sciences   F         13\n",
      "453      2017/18   Sub-degree   Social Sciences   M         11\n",
      "454      2017/18   Sub-degree   Social Sciences   F         21\n",
      "507      2018/19   Sub-degree   Social Sciences   M         11\n",
      "508      2018/19   Sub-degree   Social Sciences   F         15\n",
      "559      2019/20   Sub-degree   Social Sciences   M          7\n",
      "560      2019/20   Sub-degree   Social Sciences   F         15\n",
      "609      2020/21   Sub-degree   Social Sciences   M         12\n",
      "610      2020/21   Sub-degree   Social Sciences   F         14\n",
      "('Taught Postgraduate', 'Arts and Humanities') -     AcademicYear         LevelOfStudy    ProgrammeCategory Sex  Headcount\n",
      "28       2009/10  Taught Postgraduate  Arts and Humanities   M         39\n",
      "29       2009/10  Taught Postgraduate  Arts and Humanities   F         70\n",
      "84       2010/11  Taught Postgraduate  Arts and Humanities   M         43\n",
      "85       2010/11  Taught Postgraduate  Arts and Humanities   F         67\n",
      "140      2011/12  Taught Postgraduate  Arts and Humanities   M         37\n",
      "141      2011/12  Taught Postgraduate  Arts and Humanities   F         78\n",
      "196      2012/13  Taught Postgraduate  Arts and Humanities   M         34\n",
      "197      2012/13  Taught Postgraduate  Arts and Humanities   F         51\n",
      "252      2013/14  Taught Postgraduate  Arts and Humanities   M         37\n",
      "253      2013/14  Taught Postgraduate  Arts and Humanities   F         61\n",
      "308      2014/15  Taught Postgraduate  Arts and Humanities   M         35\n",
      "309      2014/15  Taught Postgraduate  Arts and Humanities   F         56\n",
      "361      2015/16  Taught Postgraduate  Arts and Humanities   M         34\n",
      "362      2015/16  Taught Postgraduate  Arts and Humanities   F         56\n",
      "415      2016/17  Taught Postgraduate  Arts and Humanities   M         26\n",
      "416      2016/17  Taught Postgraduate  Arts and Humanities   F         50\n",
      "469      2017/18  Taught Postgraduate  Arts and Humanities   M         34\n",
      "470      2017/18  Taught Postgraduate  Arts and Humanities   F         59\n",
      "523      2018/19  Taught Postgraduate  Arts and Humanities   M         39\n",
      "524      2018/19  Taught Postgraduate  Arts and Humanities   F         56\n",
      "575      2019/20  Taught Postgraduate  Arts and Humanities   M         25\n",
      "576      2019/20  Taught Postgraduate  Arts and Humanities   F         57\n",
      "625      2020/21  Taught Postgraduate  Arts and Humanities   M         23\n",
      "626      2020/21  Taught Postgraduate  Arts and Humanities   F         42\n",
      "('Taught Postgraduate', 'Business and Management') -     AcademicYear         LevelOfStudy        ProgrammeCategory Sex  Headcount\n",
      "30       2009/10  Taught Postgraduate  Business and Management   M          5\n",
      "31       2009/10  Taught Postgraduate  Business and Management   F          6\n",
      "86       2010/11  Taught Postgraduate  Business and Management   M          3\n",
      "87       2010/11  Taught Postgraduate  Business and Management   F          2\n",
      "142      2011/12  Taught Postgraduate  Business and Management   M          2\n",
      "143      2011/12  Taught Postgraduate  Business and Management   F          2\n",
      "198      2012/13  Taught Postgraduate  Business and Management   M          1\n",
      "199      2012/13  Taught Postgraduate  Business and Management   F          1\n",
      "254      2013/14  Taught Postgraduate  Business and Management   M          2\n",
      "255      2013/14  Taught Postgraduate  Business and Management   F          1\n",
      "363      2015/16  Taught Postgraduate  Business and Management   M          1\n",
      "364      2015/16  Taught Postgraduate  Business and Management   F          1\n",
      "417      2016/17  Taught Postgraduate  Business and Management   M          1\n",
      "418      2016/17  Taught Postgraduate  Business and Management   F          1\n",
      "471      2017/18  Taught Postgraduate  Business and Management   M          1\n",
      "472      2017/18  Taught Postgraduate  Business and Management   F          1\n",
      "525      2018/19  Taught Postgraduate  Business and Management   M          1\n",
      "526      2018/19  Taught Postgraduate  Business and Management   F          2\n",
      "627      2020/21  Taught Postgraduate  Business and Management   M          2\n",
      "628      2020/21  Taught Postgraduate  Business and Management   F          1\n",
      "('Taught Postgraduate', 'Education') -     AcademicYear         LevelOfStudy ProgrammeCategory Sex  Headcount\n",
      "32       2009/10  Taught Postgraduate         Education   M        518\n",
      "33       2009/10  Taught Postgraduate         Education   F        848\n",
      "88       2010/11  Taught Postgraduate         Education   M        540\n",
      "89       2010/11  Taught Postgraduate         Education   F        908\n",
      "144      2011/12  Taught Postgraduate         Education   M        487\n",
      "145      2011/12  Taught Postgraduate         Education   F        853\n",
      "200      2012/13  Taught Postgraduate         Education   M        610\n",
      "201      2012/13  Taught Postgraduate         Education   F       1052\n",
      "256      2013/14  Taught Postgraduate         Education   M        494\n",
      "257      2013/14  Taught Postgraduate         Education   F        877\n",
      "310      2014/15  Taught Postgraduate         Education   M        513\n",
      "311      2014/15  Taught Postgraduate         Education   F        858\n",
      "365      2015/16  Taught Postgraduate         Education   M        519\n",
      "366      2015/16  Taught Postgraduate         Education   F        902\n",
      "419      2016/17  Taught Postgraduate         Education   M        477\n",
      "420      2016/17  Taught Postgraduate         Education   F        846\n",
      "473      2017/18  Taught Postgraduate         Education   M        375\n",
      "474      2017/18  Taught Postgraduate         Education   F        744\n",
      "527      2018/19  Taught Postgraduate         Education   M        393\n",
      "528      2018/19  Taught Postgraduate         Education   F        744\n",
      "577      2019/20  Taught Postgraduate         Education   M        380\n",
      "578      2019/20  Taught Postgraduate         Education   F        755\n",
      "629      2020/21  Taught Postgraduate         Education   M        383\n",
      "630      2020/21  Taught Postgraduate         Education   F        712\n",
      "('Taught Postgraduate', 'Engineering and Technology') -     AcademicYear         LevelOfStudy           ProgrammeCategory Sex  \\\n",
      "34       2009/10  Taught Postgraduate  Engineering and Technology   M   \n",
      "35       2009/10  Taught Postgraduate  Engineering and Technology   F   \n",
      "90       2010/11  Taught Postgraduate  Engineering and Technology   M   \n",
      "91       2010/11  Taught Postgraduate  Engineering and Technology   F   \n",
      "146      2011/12  Taught Postgraduate  Engineering and Technology   M   \n",
      "147      2011/12  Taught Postgraduate  Engineering and Technology   F   \n",
      "202      2012/13  Taught Postgraduate  Engineering and Technology   M   \n",
      "203      2012/13  Taught Postgraduate  Engineering and Technology   F   \n",
      "258      2013/14  Taught Postgraduate  Engineering and Technology   M   \n",
      "259      2013/14  Taught Postgraduate  Engineering and Technology   F   \n",
      "312      2014/15  Taught Postgraduate  Engineering and Technology   M   \n",
      "313      2014/15  Taught Postgraduate  Engineering and Technology   F   \n",
      "367      2015/16  Taught Postgraduate  Engineering and Technology   M   \n",
      "368      2015/16  Taught Postgraduate  Engineering and Technology   F   \n",
      "421      2016/17  Taught Postgraduate  Engineering and Technology   M   \n",
      "422      2016/17  Taught Postgraduate  Engineering and Technology   F   \n",
      "475      2017/18  Taught Postgraduate  Engineering and Technology   M   \n",
      "476      2017/18  Taught Postgraduate  Engineering and Technology   F   \n",
      "529      2018/19  Taught Postgraduate  Engineering and Technology   M   \n",
      "530      2018/19  Taught Postgraduate  Engineering and Technology   F   \n",
      "579      2019/20  Taught Postgraduate  Engineering and Technology   M   \n",
      "580      2019/20  Taught Postgraduate  Engineering and Technology   F   \n",
      "631      2020/21  Taught Postgraduate  Engineering and Technology   M   \n",
      "632      2020/21  Taught Postgraduate  Engineering and Technology   F   \n",
      "\n",
      "     Headcount  \n",
      "34          62  \n",
      "35          75  \n",
      "90          80  \n",
      "91          52  \n",
      "146         75  \n",
      "147         68  \n",
      "202         81  \n",
      "203         66  \n",
      "258         72  \n",
      "259         71  \n",
      "312         66  \n",
      "313         78  \n",
      "367         72  \n",
      "368         78  \n",
      "421         56  \n",
      "422         81  \n",
      "475         71  \n",
      "476         75  \n",
      "529         73  \n",
      "530         71  \n",
      "579         63  \n",
      "580         71  \n",
      "631         76  \n",
      "632         70  \n",
      "('Taught Postgraduate', 'Medicine, Dentistry and Health') -     AcademicYear         LevelOfStudy               ProgrammeCategory Sex  \\\n",
      "36       2009/10  Taught Postgraduate  Medicine, Dentistry and Health   M   \n",
      "37       2009/10  Taught Postgraduate  Medicine, Dentistry and Health   F   \n",
      "92       2010/11  Taught Postgraduate  Medicine, Dentistry and Health   M   \n",
      "93       2010/11  Taught Postgraduate  Medicine, Dentistry and Health   F   \n",
      "148      2011/12  Taught Postgraduate  Medicine, Dentistry and Health   M   \n",
      "149      2011/12  Taught Postgraduate  Medicine, Dentistry and Health   F   \n",
      "204      2012/13  Taught Postgraduate  Medicine, Dentistry and Health   M   \n",
      "205      2012/13  Taught Postgraduate  Medicine, Dentistry and Health   F   \n",
      "260      2013/14  Taught Postgraduate  Medicine, Dentistry and Health   M   \n",
      "261      2013/14  Taught Postgraduate  Medicine, Dentistry and Health   F   \n",
      "314      2014/15  Taught Postgraduate  Medicine, Dentistry and Health   F   \n",
      "369      2015/16  Taught Postgraduate  Medicine, Dentistry and Health   M   \n",
      "370      2015/16  Taught Postgraduate  Medicine, Dentistry and Health   F   \n",
      "423      2016/17  Taught Postgraduate  Medicine, Dentistry and Health   M   \n",
      "424      2016/17  Taught Postgraduate  Medicine, Dentistry and Health   F   \n",
      "477      2017/18  Taught Postgraduate  Medicine, Dentistry and Health   M   \n",
      "478      2017/18  Taught Postgraduate  Medicine, Dentistry and Health   F   \n",
      "531      2018/19  Taught Postgraduate  Medicine, Dentistry and Health   M   \n",
      "532      2018/19  Taught Postgraduate  Medicine, Dentistry and Health   F   \n",
      "581      2019/20  Taught Postgraduate  Medicine, Dentistry and Health   M   \n",
      "582      2019/20  Taught Postgraduate  Medicine, Dentistry and Health   F   \n",
      "633      2020/21  Taught Postgraduate  Medicine, Dentistry and Health   M   \n",
      "634      2020/21  Taught Postgraduate  Medicine, Dentistry and Health   F   \n",
      "\n",
      "     Headcount  \n",
      "36          41  \n",
      "37          55  \n",
      "92          12  \n",
      "93          20  \n",
      "148          7  \n",
      "149         19  \n",
      "204          4  \n",
      "205          1  \n",
      "260          3  \n",
      "261          6  \n",
      "314          1  \n",
      "369          1  \n",
      "370          7  \n",
      "423          5  \n",
      "424          1  \n",
      "477          6  \n",
      "478          5  \n",
      "531          4  \n",
      "532          1  \n",
      "581          7  \n",
      "582         22  \n",
      "633         18  \n",
      "634         60  \n",
      "('Taught Postgraduate', 'Sciences') -     AcademicYear         LevelOfStudy ProgrammeCategory Sex  Headcount\n",
      "38       2009/10  Taught Postgraduate          Sciences   M         37\n",
      "39       2009/10  Taught Postgraduate          Sciences   F         60\n",
      "94       2010/11  Taught Postgraduate          Sciences   M         33\n",
      "95       2010/11  Taught Postgraduate          Sciences   F         51\n",
      "150      2011/12  Taught Postgraduate          Sciences   M         24\n",
      "151      2011/12  Taught Postgraduate          Sciences   F         48\n",
      "206      2012/13  Taught Postgraduate          Sciences   M         25\n",
      "207      2012/13  Taught Postgraduate          Sciences   F         38\n",
      "262      2013/14  Taught Postgraduate          Sciences   M         26\n",
      "263      2013/14  Taught Postgraduate          Sciences   F         37\n",
      "315      2014/15  Taught Postgraduate          Sciences   M         20\n",
      "316      2014/15  Taught Postgraduate          Sciences   F         30\n",
      "371      2015/16  Taught Postgraduate          Sciences   M         25\n",
      "372      2015/16  Taught Postgraduate          Sciences   F         40\n",
      "425      2016/17  Taught Postgraduate          Sciences   M         21\n",
      "426      2016/17  Taught Postgraduate          Sciences   F         38\n",
      "479      2017/18  Taught Postgraduate          Sciences   M         27\n",
      "480      2017/18  Taught Postgraduate          Sciences   F         43\n",
      "533      2018/19  Taught Postgraduate          Sciences   M         31\n",
      "534      2018/19  Taught Postgraduate          Sciences   F         44\n",
      "583      2019/20  Taught Postgraduate          Sciences   M         26\n",
      "584      2019/20  Taught Postgraduate          Sciences   F         50\n",
      "635      2020/21  Taught Postgraduate          Sciences   M         20\n",
      "636      2020/21  Taught Postgraduate          Sciences   F         37\n",
      "('Taught Postgraduate', 'Social Sciences') -     AcademicYear         LevelOfStudy ProgrammeCategory Sex  Headcount\n",
      "40       2009/10  Taught Postgraduate   Social Sciences   M         96\n",
      "41       2009/10  Taught Postgraduate   Social Sciences   F        180\n",
      "96       2010/11  Taught Postgraduate   Social Sciences   M        100\n",
      "97       2010/11  Taught Postgraduate   Social Sciences   F        172\n",
      "152      2011/12  Taught Postgraduate   Social Sciences   M         90\n",
      "153      2011/12  Taught Postgraduate   Social Sciences   F        187\n",
      "208      2012/13  Taught Postgraduate   Social Sciences   M        112\n",
      "209      2012/13  Taught Postgraduate   Social Sciences   F        158\n",
      "264      2013/14  Taught Postgraduate   Social Sciences   M        117\n",
      "265      2013/14  Taught Postgraduate   Social Sciences   F        188\n",
      "317      2014/15  Taught Postgraduate   Social Sciences   M        126\n",
      "318      2014/15  Taught Postgraduate   Social Sciences   F        177\n",
      "373      2015/16  Taught Postgraduate   Social Sciences   M        133\n",
      "374      2015/16  Taught Postgraduate   Social Sciences   F        186\n",
      "427      2016/17  Taught Postgraduate   Social Sciences   M        157\n",
      "428      2016/17  Taught Postgraduate   Social Sciences   F        222\n",
      "481      2017/18  Taught Postgraduate   Social Sciences   M        155\n",
      "482      2017/18  Taught Postgraduate   Social Sciences   F        245\n",
      "535      2018/19  Taught Postgraduate   Social Sciences   M        120\n",
      "536      2018/19  Taught Postgraduate   Social Sciences   F        182\n",
      "585      2019/20  Taught Postgraduate   Social Sciences   M        110\n",
      "586      2019/20  Taught Postgraduate   Social Sciences   F        151\n",
      "637      2020/21  Taught Postgraduate   Social Sciences   M        125\n",
      "638      2020/21  Taught Postgraduate   Social Sciences   F        146\n",
      "('Undergraduate', 'Arts and Humanities') -     AcademicYear   LevelOfStudy    ProgrammeCategory Sex  Headcount\n",
      "14       2009/10  Undergraduate  Arts and Humanities   M        659\n",
      "15       2009/10  Undergraduate  Arts and Humanities   F       1788\n",
      "70       2010/11  Undergraduate  Arts and Humanities   M        658\n",
      "71       2010/11  Undergraduate  Arts and Humanities   F       1855\n",
      "126      2011/12  Undergraduate  Arts and Humanities   M        620\n",
      "127      2011/12  Undergraduate  Arts and Humanities   F       1900\n",
      "182      2012/13  Undergraduate  Arts and Humanities   M        668\n",
      "183      2012/13  Undergraduate  Arts and Humanities   F       1831\n",
      "238      2013/14  Undergraduate  Arts and Humanities   M        734\n",
      "239      2013/14  Undergraduate  Arts and Humanities   F       1933\n",
      "294      2014/15  Undergraduate  Arts and Humanities   M        782\n",
      "295      2014/15  Undergraduate  Arts and Humanities   F       2112\n",
      "347      2015/16  Undergraduate  Arts and Humanities   M        696\n",
      "348      2015/16  Undergraduate  Arts and Humanities   F       2373\n",
      "401      2016/17  Undergraduate  Arts and Humanities   M        789\n",
      "402      2016/17  Undergraduate  Arts and Humanities   F       2397\n",
      "455      2017/18  Undergraduate  Arts and Humanities   M        846\n",
      "456      2017/18  Undergraduate  Arts and Humanities   F       2439\n",
      "509      2018/19  Undergraduate  Arts and Humanities   M        909\n",
      "510      2018/19  Undergraduate  Arts and Humanities   F       2343\n",
      "561      2019/20  Undergraduate  Arts and Humanities   M        893\n",
      "562      2019/20  Undergraduate  Arts and Humanities   F       2316\n",
      "611      2020/21  Undergraduate  Arts and Humanities   M        918\n",
      "612      2020/21  Undergraduate  Arts and Humanities   F       2300\n",
      "('Undergraduate', 'Business and Management') -     AcademicYear   LevelOfStudy        ProgrammeCategory Sex  Headcount\n",
      "16       2009/10  Undergraduate  Business and Management   M       1861\n",
      "17       2009/10  Undergraduate  Business and Management   F       2314\n",
      "72       2010/11  Undergraduate  Business and Management   M       1900\n",
      "73       2010/11  Undergraduate  Business and Management   F       2417\n",
      "128      2011/12  Undergraduate  Business and Management   M       1815\n",
      "129      2011/12  Undergraduate  Business and Management   F       2332\n",
      "184      2012/13  Undergraduate  Business and Management   M       1826\n",
      "185      2012/13  Undergraduate  Business and Management   F       2315\n",
      "240      2013/14  Undergraduate  Business and Management   M       1881\n",
      "241      2013/14  Undergraduate  Business and Management   F       2374\n",
      "296      2014/15  Undergraduate  Business and Management   M       1927\n",
      "297      2014/15  Undergraduate  Business and Management   F       2471\n",
      "349      2015/16  Undergraduate  Business and Management   M       1881\n",
      "350      2015/16  Undergraduate  Business and Management   F       2878\n",
      "403      2016/17  Undergraduate  Business and Management   M       1892\n",
      "404      2016/17  Undergraduate  Business and Management   F       2876\n",
      "457      2017/18  Undergraduate  Business and Management   M       1944\n",
      "458      2017/18  Undergraduate  Business and Management   F       2702\n",
      "511      2018/19  Undergraduate  Business and Management   M       1826\n",
      "512      2018/19  Undergraduate  Business and Management   F       2780\n",
      "563      2019/20  Undergraduate  Business and Management   M       1902\n",
      "564      2019/20  Undergraduate  Business and Management   F       2814\n",
      "613      2020/21  Undergraduate  Business and Management   M       1959\n",
      "614      2020/21  Undergraduate  Business and Management   F       2820\n",
      "('Undergraduate', 'Education') -     AcademicYear   LevelOfStudy ProgrammeCategory Sex  Headcount\n",
      "18       2009/10  Undergraduate         Education   M        148\n",
      "19       2009/10  Undergraduate         Education   F        579\n",
      "74       2010/11  Undergraduate         Education   M        183\n",
      "75       2010/11  Undergraduate         Education   F        703\n",
      "130      2011/12  Undergraduate         Education   M        181\n",
      "131      2011/12  Undergraduate         Education   F        761\n",
      "186      2012/13  Undergraduate         Education   M        205\n",
      "187      2012/13  Undergraduate         Education   F        768\n",
      "242      2013/14  Undergraduate         Education   M        221\n",
      "243      2013/14  Undergraduate         Education   F        874\n",
      "298      2014/15  Undergraduate         Education   M        249\n",
      "299      2014/15  Undergraduate         Education   F        884\n",
      "351      2015/16  Undergraduate         Education   M        248\n",
      "352      2015/16  Undergraduate         Education   F        781\n",
      "405      2016/17  Undergraduate         Education   M        228\n",
      "406      2016/17  Undergraduate         Education   F        876\n",
      "459      2017/18  Undergraduate         Education   M        221\n",
      "460      2017/18  Undergraduate         Education   F        829\n",
      "513      2018/19  Undergraduate         Education   M        268\n",
      "514      2018/19  Undergraduate         Education   F        684\n",
      "565      2019/20  Undergraduate         Education   M        232\n",
      "566      2019/20  Undergraduate         Education   F        842\n",
      "615      2020/21  Undergraduate         Education   M        265\n",
      "616      2020/21  Undergraduate         Education   F        869\n",
      "('Undergraduate', 'Engineering and Technology') -     AcademicYear   LevelOfStudy           ProgrammeCategory Sex  Headcount\n",
      "20       2009/10  Undergraduate  Engineering and Technology   M       2152\n",
      "21       2009/10  Undergraduate  Engineering and Technology   F       1016\n",
      "76       2010/11  Undergraduate  Engineering and Technology   M       2196\n",
      "77       2010/11  Undergraduate  Engineering and Technology   F       1021\n",
      "132      2011/12  Undergraduate  Engineering and Technology   M       2081\n",
      "133      2011/12  Undergraduate  Engineering and Technology   F        996\n",
      "188      2012/13  Undergraduate  Engineering and Technology   M       2234\n",
      "189      2012/13  Undergraduate  Engineering and Technology   F       1038\n",
      "244      2013/14  Undergraduate  Engineering and Technology   M       2259\n",
      "245      2013/14  Undergraduate  Engineering and Technology   F       1010\n",
      "300      2014/15  Undergraduate  Engineering and Technology   M       2332\n",
      "301      2014/15  Undergraduate  Engineering and Technology   F       1090\n",
      "353      2015/16  Undergraduate  Engineering and Technology   M       2473\n",
      "354      2015/16  Undergraduate  Engineering and Technology   F       1288\n",
      "407      2016/17  Undergraduate  Engineering and Technology   M       2638\n",
      "408      2016/17  Undergraduate  Engineering and Technology   F       1134\n",
      "461      2017/18  Undergraduate  Engineering and Technology   M       2784\n",
      "462      2017/18  Undergraduate  Engineering and Technology   F       1313\n",
      "515      2018/19  Undergraduate  Engineering and Technology   M       2838\n",
      "516      2018/19  Undergraduate  Engineering and Technology   F       1259\n",
      "567      2019/20  Undergraduate  Engineering and Technology   M       2704\n",
      "568      2019/20  Undergraduate  Engineering and Technology   F       1233\n",
      "617      2020/21  Undergraduate  Engineering and Technology   M       2829\n",
      "618      2020/21  Undergraduate  Engineering and Technology   F       1228\n",
      "('Undergraduate', 'Medicine, Dentistry and Health') -     AcademicYear   LevelOfStudy               ProgrammeCategory Sex  Headcount\n",
      "22       2009/10  Undergraduate  Medicine, Dentistry and Health   M        432\n",
      "23       2009/10  Undergraduate  Medicine, Dentistry and Health   F        769\n",
      "78       2010/11  Undergraduate  Medicine, Dentistry and Health   M        427\n",
      "79       2010/11  Undergraduate  Medicine, Dentistry and Health   F        744\n",
      "134      2011/12  Undergraduate  Medicine, Dentistry and Health   M        511\n",
      "135      2011/12  Undergraduate  Medicine, Dentistry and Health   F        825\n",
      "190      2012/13  Undergraduate  Medicine, Dentistry and Health   M        557\n",
      "191      2012/13  Undergraduate  Medicine, Dentistry and Health   F        850\n",
      "246      2013/14  Undergraduate  Medicine, Dentistry and Health   M        611\n",
      "247      2013/14  Undergraduate  Medicine, Dentistry and Health   F        869\n",
      "302      2014/15  Undergraduate  Medicine, Dentistry and Health   M        713\n",
      "303      2014/15  Undergraduate  Medicine, Dentistry and Health   F       1034\n",
      "355      2015/16  Undergraduate  Medicine, Dentistry and Health   M        762\n",
      "356      2015/16  Undergraduate  Medicine, Dentistry and Health   F       1046\n",
      "409      2016/17  Undergraduate  Medicine, Dentistry and Health   M        728\n",
      "410      2016/17  Undergraduate  Medicine, Dentistry and Health   F       1237\n",
      "463      2017/18  Undergraduate  Medicine, Dentistry and Health   M        715\n",
      "464      2017/18  Undergraduate  Medicine, Dentistry and Health   F       1240\n",
      "517      2018/19  Undergraduate  Medicine, Dentistry and Health   M        727\n",
      "518      2018/19  Undergraduate  Medicine, Dentistry and Health   F       1223\n",
      "569      2019/20  Undergraduate  Medicine, Dentistry and Health   M        742\n",
      "570      2019/20  Undergraduate  Medicine, Dentistry and Health   F       1235\n",
      "619      2020/21  Undergraduate  Medicine, Dentistry and Health   M        817\n",
      "620      2020/21  Undergraduate  Medicine, Dentistry and Health   F       1217\n",
      "('Undergraduate', 'Sciences') -     AcademicYear   LevelOfStudy ProgrammeCategory Sex  Headcount\n",
      "24       2009/10  Undergraduate          Sciences   M       1814\n",
      "25       2009/10  Undergraduate          Sciences   F       1010\n",
      "80       2010/11  Undergraduate          Sciences   M       1857\n",
      "81       2010/11  Undergraduate          Sciences   F        948\n",
      "136      2011/12  Undergraduate          Sciences   M       1877\n",
      "137      2011/12  Undergraduate          Sciences   F       1024\n",
      "192      2012/13  Undergraduate          Sciences   M       1935\n",
      "193      2012/13  Undergraduate          Sciences   F       1045\n",
      "248      2013/14  Undergraduate          Sciences   M       1981\n",
      "249      2013/14  Undergraduate          Sciences   F       1014\n",
      "304      2014/15  Undergraduate          Sciences   M       2036\n",
      "305      2014/15  Undergraduate          Sciences   F       1088\n",
      "357      2015/16  Undergraduate          Sciences   M       2006\n",
      "358      2015/16  Undergraduate          Sciences   F       1295\n",
      "411      2016/17  Undergraduate          Sciences   M       1928\n",
      "412      2016/17  Undergraduate          Sciences   F       1253\n",
      "465      2017/18  Undergraduate          Sciences   M       1983\n",
      "466      2017/18  Undergraduate          Sciences   F       1237\n",
      "519      2018/19  Undergraduate          Sciences   M       2085\n",
      "520      2018/19  Undergraduate          Sciences   F       1296\n",
      "571      2019/20  Undergraduate          Sciences   M       2061\n",
      "572      2019/20  Undergraduate          Sciences   F       1361\n",
      "621      2020/21  Undergraduate          Sciences   M       2251\n",
      "622      2020/21  Undergraduate          Sciences   F       1379\n",
      "('Undergraduate', 'Social Sciences') -     AcademicYear   LevelOfStudy ProgrammeCategory Sex  Headcount\n",
      "26       2009/10  Undergraduate   Social Sciences   M        897\n",
      "27       2009/10  Undergraduate   Social Sciences   F       1705\n",
      "82       2010/11  Undergraduate   Social Sciences   M        963\n",
      "83       2010/11  Undergraduate   Social Sciences   F       1727\n",
      "138      2011/12  Undergraduate   Social Sciences   M        950\n",
      "139      2011/12  Undergraduate   Social Sciences   F       1758\n",
      "194      2012/13  Undergraduate   Social Sciences   M        972\n",
      "195      2012/13  Undergraduate   Social Sciences   F       1663\n",
      "250      2013/14  Undergraduate   Social Sciences   M       1006\n",
      "251      2013/14  Undergraduate   Social Sciences   F       1691\n",
      "306      2014/15  Undergraduate   Social Sciences   M       1034\n",
      "307      2014/15  Undergraduate   Social Sciences   F       1850\n",
      "359      2015/16  Undergraduate   Social Sciences   M       1052\n",
      "360      2015/16  Undergraduate   Social Sciences   F       2256\n",
      "413      2016/17  Undergraduate   Social Sciences   M       1133\n",
      "414      2016/17  Undergraduate   Social Sciences   F       2096\n",
      "467      2017/18  Undergraduate   Social Sciences   M       1169\n",
      "468      2017/18  Undergraduate   Social Sciences   F       2075\n",
      "521      2018/19  Undergraduate   Social Sciences   M       1075\n",
      "522      2018/19  Undergraduate   Social Sciences   F       2138\n",
      "573      2019/20  Undergraduate   Social Sciences   M       1147\n",
      "574      2019/20  Undergraduate   Social Sciences   F       2055\n",
      "623      2020/21  Undergraduate   Social Sciences   M       1314\n",
      "624      2020/21  Undergraduate   Social Sciences   F       2164\n"
     ]
    }
   ],
   "source": [
    "for key, item in group_by_level_category:\n",
    "    print(key, \"-\", item)"
   ]
  },
  {
   "cell_type": "code",
   "execution_count": 142,
   "metadata": {},
   "outputs": [
    {
     "name": "stdout",
     "output_type": "stream",
     "text": [
      "Research Postgraduate - Arts and Humanities\n",
      "Research Postgraduate - Business and Management\n",
      "Research Postgraduate - Education\n",
      "Research Postgraduate - Engineering and Technology\n",
      "Research Postgraduate - Medicine, Dentistry and Health\n",
      "Research Postgraduate - Sciences\n",
      "Research Postgraduate - Social Sciences\n",
      "Sub-degree - Arts and Humanities\n",
      "Sub-degree - Business and Management\n",
      "Sub-degree - Education\n",
      "Sub-degree - Engineering and Technology\n",
      "Sub-degree - Medicine, Dentistry and Health\n",
      "Sub-degree - Sciences\n",
      "Sub-degree - Social Sciences\n",
      "Taught Postgraduate - Arts and Humanities\n",
      "Taught Postgraduate - Business and Management\n",
      "Taught Postgraduate - Education\n",
      "Taught Postgraduate - Engineering and Technology\n",
      "Taught Postgraduate - Medicine, Dentistry and Health\n",
      "Taught Postgraduate - Sciences\n",
      "Taught Postgraduate - Social Sciences\n",
      "Undergraduate - Arts and Humanities\n",
      "Undergraduate - Business and Management\n",
      "Undergraduate - Education\n",
      "Undergraduate - Engineering and Technology\n",
      "Undergraduate - Medicine, Dentistry and Health\n",
      "Undergraduate - Sciences\n",
      "Undergraduate - Social Sciences\n"
     ]
    }
   ],
   "source": [
    "for name, group in group_by_level_category.groups:\n",
    "    print(name, \"-\", group)"
   ]
  },
  {
   "cell_type": "code",
   "execution_count": 143,
   "metadata": {},
   "outputs": [
    {
     "data": {
      "text/html": [
       "<div>\n",
       "<style scoped>\n",
       "    .dataframe tbody tr th:only-of-type {\n",
       "        vertical-align: middle;\n",
       "    }\n",
       "\n",
       "    .dataframe tbody tr th {\n",
       "        vertical-align: top;\n",
       "    }\n",
       "\n",
       "    .dataframe thead th {\n",
       "        text-align: right;\n",
       "    }\n",
       "</style>\n",
       "<table border=\"1\" class=\"dataframe\">\n",
       "  <thead>\n",
       "    <tr style=\"text-align: right;\">\n",
       "      <th></th>\n",
       "      <th></th>\n",
       "      <th>Headcount</th>\n",
       "    </tr>\n",
       "    <tr>\n",
       "      <th>LevelOfStudy</th>\n",
       "      <th>ProgrammeCategory</th>\n",
       "      <th></th>\n",
       "    </tr>\n",
       "  </thead>\n",
       "  <tbody>\n",
       "    <tr>\n",
       "      <th rowspan=\"7\" valign=\"top\">Research Postgraduate</th>\n",
       "      <th>Arts and Humanities</th>\n",
       "      <td>2699</td>\n",
       "    </tr>\n",
       "    <tr>\n",
       "      <th>Business and Management</th>\n",
       "      <td>1515</td>\n",
       "    </tr>\n",
       "    <tr>\n",
       "      <th>Education</th>\n",
       "      <td>774</td>\n",
       "    </tr>\n",
       "    <tr>\n",
       "      <th>Engineering and Technology</th>\n",
       "      <td>7976</td>\n",
       "    </tr>\n",
       "    <tr>\n",
       "      <th>Medicine, Dentistry and Health</th>\n",
       "      <td>4154</td>\n",
       "    </tr>\n",
       "    <tr>\n",
       "      <th>Sciences</th>\n",
       "      <td>8041</td>\n",
       "    </tr>\n",
       "    <tr>\n",
       "      <th>Social Sciences</th>\n",
       "      <td>3024</td>\n",
       "    </tr>\n",
       "    <tr>\n",
       "      <th rowspan=\"7\" valign=\"top\">Sub-degree</th>\n",
       "      <th>Arts and Humanities</th>\n",
       "      <td>3762</td>\n",
       "    </tr>\n",
       "    <tr>\n",
       "      <th>Business and Management</th>\n",
       "      <td>2465</td>\n",
       "    </tr>\n",
       "    <tr>\n",
       "      <th>Education</th>\n",
       "      <td>13784</td>\n",
       "    </tr>\n",
       "    <tr>\n",
       "      <th>Engineering and Technology</th>\n",
       "      <td>10099</td>\n",
       "    </tr>\n",
       "    <tr>\n",
       "      <th>Medicine, Dentistry and Health</th>\n",
       "      <td>836</td>\n",
       "    </tr>\n",
       "    <tr>\n",
       "      <th>Sciences</th>\n",
       "      <td>2827</td>\n",
       "    </tr>\n",
       "    <tr>\n",
       "      <th>Social Sciences</th>\n",
       "      <td>758</td>\n",
       "    </tr>\n",
       "    <tr>\n",
       "      <th rowspan=\"7\" valign=\"top\">Taught Postgraduate</th>\n",
       "      <th>Arts and Humanities</th>\n",
       "      <td>1109</td>\n",
       "    </tr>\n",
       "    <tr>\n",
       "      <th>Business and Management</th>\n",
       "      <td>37</td>\n",
       "    </tr>\n",
       "    <tr>\n",
       "      <th>Education</th>\n",
       "      <td>15788</td>\n",
       "    </tr>\n",
       "    <tr>\n",
       "      <th>Engineering and Technology</th>\n",
       "      <td>1703</td>\n",
       "    </tr>\n",
       "    <tr>\n",
       "      <th>Medicine, Dentistry and Health</th>\n",
       "      <td>306</td>\n",
       "    </tr>\n",
       "    <tr>\n",
       "      <th>Sciences</th>\n",
       "      <td>831</td>\n",
       "    </tr>\n",
       "    <tr>\n",
       "      <th>Social Sciences</th>\n",
       "      <td>3635</td>\n",
       "    </tr>\n",
       "    <tr>\n",
       "      <th rowspan=\"7\" valign=\"top\">Undergraduate</th>\n",
       "      <th>Arts and Humanities</th>\n",
       "      <td>34759</td>\n",
       "    </tr>\n",
       "    <tr>\n",
       "      <th>Business and Management</th>\n",
       "      <td>53707</td>\n",
       "    </tr>\n",
       "    <tr>\n",
       "      <th>Education</th>\n",
       "      <td>12099</td>\n",
       "    </tr>\n",
       "    <tr>\n",
       "      <th>Engineering and Technology</th>\n",
       "      <td>43146</td>\n",
       "    </tr>\n",
       "    <tr>\n",
       "      <th>Medicine, Dentistry and Health</th>\n",
       "      <td>20031</td>\n",
       "    </tr>\n",
       "    <tr>\n",
       "      <th>Sciences</th>\n",
       "      <td>37764</td>\n",
       "    </tr>\n",
       "    <tr>\n",
       "      <th>Social Sciences</th>\n",
       "      <td>35890</td>\n",
       "    </tr>\n",
       "  </tbody>\n",
       "</table>\n",
       "</div>"
      ],
      "text/plain": [
       "                                                      Headcount\n",
       "LevelOfStudy          ProgrammeCategory                        \n",
       "Research Postgraduate Arts and Humanities                  2699\n",
       "                      Business and Management              1515\n",
       "                      Education                             774\n",
       "                      Engineering and Technology           7976\n",
       "                      Medicine, Dentistry and Health       4154\n",
       "                      Sciences                             8041\n",
       "                      Social Sciences                      3024\n",
       "Sub-degree            Arts and Humanities                  3762\n",
       "                      Business and Management              2465\n",
       "                      Education                           13784\n",
       "                      Engineering and Technology          10099\n",
       "                      Medicine, Dentistry and Health        836\n",
       "                      Sciences                             2827\n",
       "                      Social Sciences                       758\n",
       "Taught Postgraduate   Arts and Humanities                  1109\n",
       "                      Business and Management                37\n",
       "                      Education                           15788\n",
       "                      Engineering and Technology           1703\n",
       "                      Medicine, Dentistry and Health        306\n",
       "                      Sciences                              831\n",
       "                      Social Sciences                      3635\n",
       "Undergraduate         Arts and Humanities                 34759\n",
       "                      Business and Management             53707\n",
       "                      Education                           12099\n",
       "                      Engineering and Technology          43146\n",
       "                      Medicine, Dentistry and Health      20031\n",
       "                      Sciences                            37764\n",
       "                      Social Sciences                     35890"
      ]
     },
     "execution_count": 143,
     "metadata": {},
     "output_type": "execute_result"
    }
   ],
   "source": [
    "group_by_level_category.agg(np.sum)"
   ]
  },
  {
   "cell_type": "code",
   "execution_count": 144,
   "metadata": {},
   "outputs": [
    {
     "data": {
      "text/html": [
       "<div>\n",
       "<style scoped>\n",
       "    .dataframe tbody tr th:only-of-type {\n",
       "        vertical-align: middle;\n",
       "    }\n",
       "\n",
       "    .dataframe tbody tr th {\n",
       "        vertical-align: top;\n",
       "    }\n",
       "\n",
       "    .dataframe thead th {\n",
       "        text-align: right;\n",
       "    }\n",
       "</style>\n",
       "<table border=\"1\" class=\"dataframe\">\n",
       "  <thead>\n",
       "    <tr style=\"text-align: right;\">\n",
       "      <th></th>\n",
       "      <th>AcademicYear</th>\n",
       "      <th>LevelOfStudy</th>\n",
       "      <th>ProgrammeCategory</th>\n",
       "      <th>Sex</th>\n",
       "      <th>Headcount</th>\n",
       "    </tr>\n",
       "  </thead>\n",
       "  <tbody>\n",
       "    <tr>\n",
       "      <th>14</th>\n",
       "      <td>2009/10</td>\n",
       "      <td>Undergraduate</td>\n",
       "      <td>Arts and Humanities</td>\n",
       "      <td>M</td>\n",
       "      <td>659</td>\n",
       "    </tr>\n",
       "    <tr>\n",
       "      <th>15</th>\n",
       "      <td>2009/10</td>\n",
       "      <td>Undergraduate</td>\n",
       "      <td>Arts and Humanities</td>\n",
       "      <td>F</td>\n",
       "      <td>1788</td>\n",
       "    </tr>\n",
       "    <tr>\n",
       "      <th>70</th>\n",
       "      <td>2010/11</td>\n",
       "      <td>Undergraduate</td>\n",
       "      <td>Arts and Humanities</td>\n",
       "      <td>M</td>\n",
       "      <td>658</td>\n",
       "    </tr>\n",
       "    <tr>\n",
       "      <th>71</th>\n",
       "      <td>2010/11</td>\n",
       "      <td>Undergraduate</td>\n",
       "      <td>Arts and Humanities</td>\n",
       "      <td>F</td>\n",
       "      <td>1855</td>\n",
       "    </tr>\n",
       "    <tr>\n",
       "      <th>126</th>\n",
       "      <td>2011/12</td>\n",
       "      <td>Undergraduate</td>\n",
       "      <td>Arts and Humanities</td>\n",
       "      <td>M</td>\n",
       "      <td>620</td>\n",
       "    </tr>\n",
       "    <tr>\n",
       "      <th>127</th>\n",
       "      <td>2011/12</td>\n",
       "      <td>Undergraduate</td>\n",
       "      <td>Arts and Humanities</td>\n",
       "      <td>F</td>\n",
       "      <td>1900</td>\n",
       "    </tr>\n",
       "    <tr>\n",
       "      <th>182</th>\n",
       "      <td>2012/13</td>\n",
       "      <td>Undergraduate</td>\n",
       "      <td>Arts and Humanities</td>\n",
       "      <td>M</td>\n",
       "      <td>668</td>\n",
       "    </tr>\n",
       "    <tr>\n",
       "      <th>183</th>\n",
       "      <td>2012/13</td>\n",
       "      <td>Undergraduate</td>\n",
       "      <td>Arts and Humanities</td>\n",
       "      <td>F</td>\n",
       "      <td>1831</td>\n",
       "    </tr>\n",
       "    <tr>\n",
       "      <th>238</th>\n",
       "      <td>2013/14</td>\n",
       "      <td>Undergraduate</td>\n",
       "      <td>Arts and Humanities</td>\n",
       "      <td>M</td>\n",
       "      <td>734</td>\n",
       "    </tr>\n",
       "    <tr>\n",
       "      <th>239</th>\n",
       "      <td>2013/14</td>\n",
       "      <td>Undergraduate</td>\n",
       "      <td>Arts and Humanities</td>\n",
       "      <td>F</td>\n",
       "      <td>1933</td>\n",
       "    </tr>\n",
       "    <tr>\n",
       "      <th>294</th>\n",
       "      <td>2014/15</td>\n",
       "      <td>Undergraduate</td>\n",
       "      <td>Arts and Humanities</td>\n",
       "      <td>M</td>\n",
       "      <td>782</td>\n",
       "    </tr>\n",
       "    <tr>\n",
       "      <th>295</th>\n",
       "      <td>2014/15</td>\n",
       "      <td>Undergraduate</td>\n",
       "      <td>Arts and Humanities</td>\n",
       "      <td>F</td>\n",
       "      <td>2112</td>\n",
       "    </tr>\n",
       "    <tr>\n",
       "      <th>347</th>\n",
       "      <td>2015/16</td>\n",
       "      <td>Undergraduate</td>\n",
       "      <td>Arts and Humanities</td>\n",
       "      <td>M</td>\n",
       "      <td>696</td>\n",
       "    </tr>\n",
       "    <tr>\n",
       "      <th>348</th>\n",
       "      <td>2015/16</td>\n",
       "      <td>Undergraduate</td>\n",
       "      <td>Arts and Humanities</td>\n",
       "      <td>F</td>\n",
       "      <td>2373</td>\n",
       "    </tr>\n",
       "    <tr>\n",
       "      <th>401</th>\n",
       "      <td>2016/17</td>\n",
       "      <td>Undergraduate</td>\n",
       "      <td>Arts and Humanities</td>\n",
       "      <td>M</td>\n",
       "      <td>789</td>\n",
       "    </tr>\n",
       "    <tr>\n",
       "      <th>402</th>\n",
       "      <td>2016/17</td>\n",
       "      <td>Undergraduate</td>\n",
       "      <td>Arts and Humanities</td>\n",
       "      <td>F</td>\n",
       "      <td>2397</td>\n",
       "    </tr>\n",
       "    <tr>\n",
       "      <th>455</th>\n",
       "      <td>2017/18</td>\n",
       "      <td>Undergraduate</td>\n",
       "      <td>Arts and Humanities</td>\n",
       "      <td>M</td>\n",
       "      <td>846</td>\n",
       "    </tr>\n",
       "    <tr>\n",
       "      <th>456</th>\n",
       "      <td>2017/18</td>\n",
       "      <td>Undergraduate</td>\n",
       "      <td>Arts and Humanities</td>\n",
       "      <td>F</td>\n",
       "      <td>2439</td>\n",
       "    </tr>\n",
       "    <tr>\n",
       "      <th>509</th>\n",
       "      <td>2018/19</td>\n",
       "      <td>Undergraduate</td>\n",
       "      <td>Arts and Humanities</td>\n",
       "      <td>M</td>\n",
       "      <td>909</td>\n",
       "    </tr>\n",
       "    <tr>\n",
       "      <th>510</th>\n",
       "      <td>2018/19</td>\n",
       "      <td>Undergraduate</td>\n",
       "      <td>Arts and Humanities</td>\n",
       "      <td>F</td>\n",
       "      <td>2343</td>\n",
       "    </tr>\n",
       "    <tr>\n",
       "      <th>561</th>\n",
       "      <td>2019/20</td>\n",
       "      <td>Undergraduate</td>\n",
       "      <td>Arts and Humanities</td>\n",
       "      <td>M</td>\n",
       "      <td>893</td>\n",
       "    </tr>\n",
       "    <tr>\n",
       "      <th>562</th>\n",
       "      <td>2019/20</td>\n",
       "      <td>Undergraduate</td>\n",
       "      <td>Arts and Humanities</td>\n",
       "      <td>F</td>\n",
       "      <td>2316</td>\n",
       "    </tr>\n",
       "    <tr>\n",
       "      <th>611</th>\n",
       "      <td>2020/21</td>\n",
       "      <td>Undergraduate</td>\n",
       "      <td>Arts and Humanities</td>\n",
       "      <td>M</td>\n",
       "      <td>918</td>\n",
       "    </tr>\n",
       "    <tr>\n",
       "      <th>612</th>\n",
       "      <td>2020/21</td>\n",
       "      <td>Undergraduate</td>\n",
       "      <td>Arts and Humanities</td>\n",
       "      <td>F</td>\n",
       "      <td>2300</td>\n",
       "    </tr>\n",
       "  </tbody>\n",
       "</table>\n",
       "</div>"
      ],
      "text/plain": [
       "    AcademicYear   LevelOfStudy    ProgrammeCategory Sex  Headcount\n",
       "14       2009/10  Undergraduate  Arts and Humanities   M        659\n",
       "15       2009/10  Undergraduate  Arts and Humanities   F       1788\n",
       "70       2010/11  Undergraduate  Arts and Humanities   M        658\n",
       "71       2010/11  Undergraduate  Arts and Humanities   F       1855\n",
       "126      2011/12  Undergraduate  Arts and Humanities   M        620\n",
       "127      2011/12  Undergraduate  Arts and Humanities   F       1900\n",
       "182      2012/13  Undergraduate  Arts and Humanities   M        668\n",
       "183      2012/13  Undergraduate  Arts and Humanities   F       1831\n",
       "238      2013/14  Undergraduate  Arts and Humanities   M        734\n",
       "239      2013/14  Undergraduate  Arts and Humanities   F       1933\n",
       "294      2014/15  Undergraduate  Arts and Humanities   M        782\n",
       "295      2014/15  Undergraduate  Arts and Humanities   F       2112\n",
       "347      2015/16  Undergraduate  Arts and Humanities   M        696\n",
       "348      2015/16  Undergraduate  Arts and Humanities   F       2373\n",
       "401      2016/17  Undergraduate  Arts and Humanities   M        789\n",
       "402      2016/17  Undergraduate  Arts and Humanities   F       2397\n",
       "455      2017/18  Undergraduate  Arts and Humanities   M        846\n",
       "456      2017/18  Undergraduate  Arts and Humanities   F       2439\n",
       "509      2018/19  Undergraduate  Arts and Humanities   M        909\n",
       "510      2018/19  Undergraduate  Arts and Humanities   F       2343\n",
       "561      2019/20  Undergraduate  Arts and Humanities   M        893\n",
       "562      2019/20  Undergraduate  Arts and Humanities   F       2316\n",
       "611      2020/21  Undergraduate  Arts and Humanities   M        918\n",
       "612      2020/21  Undergraduate  Arts and Humanities   F       2300"
      ]
     },
     "execution_count": 144,
     "metadata": {},
     "output_type": "execute_result"
    }
   ],
   "source": [
    "group_by_level_category.get_group(('Undergraduate', 'Arts and Humanities'))"
   ]
  },
  {
   "cell_type": "markdown",
   "metadata": {},
   "source": [
    "## More on Multiple Columns Groupby\n",
    "\n",
    "**Example**:\n",
    "\n",
    "```\n",
    "group_by_level_category_year = gra.groupby(['LevelOfStudy', 'ProgrammeCategory', 'AcademicYear'])\n",
    "group_by_level_category_year.get_group(('Undergraduate', 'Arts and Humanities', '2020/21' ))\n",
    "```"
   ]
  },
  {
   "cell_type": "code",
   "execution_count": 145,
   "metadata": {},
   "outputs": [],
   "source": [
    "group_by_level_category_year = gra.groupby(['LevelOfStudy', 'ProgrammeCategory', 'AcademicYear'])"
   ]
  },
  {
   "cell_type": "code",
   "execution_count": 146,
   "metadata": {},
   "outputs": [
    {
     "data": {
      "text/html": [
       "<div>\n",
       "<style scoped>\n",
       "    .dataframe tbody tr th:only-of-type {\n",
       "        vertical-align: middle;\n",
       "    }\n",
       "\n",
       "    .dataframe tbody tr th {\n",
       "        vertical-align: top;\n",
       "    }\n",
       "\n",
       "    .dataframe thead th {\n",
       "        text-align: right;\n",
       "    }\n",
       "</style>\n",
       "<table border=\"1\" class=\"dataframe\">\n",
       "  <thead>\n",
       "    <tr style=\"text-align: right;\">\n",
       "      <th></th>\n",
       "      <th>AcademicYear</th>\n",
       "      <th>LevelOfStudy</th>\n",
       "      <th>ProgrammeCategory</th>\n",
       "      <th>Sex</th>\n",
       "      <th>Headcount</th>\n",
       "    </tr>\n",
       "  </thead>\n",
       "  <tbody>\n",
       "    <tr>\n",
       "      <th>611</th>\n",
       "      <td>2020/21</td>\n",
       "      <td>Undergraduate</td>\n",
       "      <td>Arts and Humanities</td>\n",
       "      <td>M</td>\n",
       "      <td>918</td>\n",
       "    </tr>\n",
       "    <tr>\n",
       "      <th>612</th>\n",
       "      <td>2020/21</td>\n",
       "      <td>Undergraduate</td>\n",
       "      <td>Arts and Humanities</td>\n",
       "      <td>F</td>\n",
       "      <td>2300</td>\n",
       "    </tr>\n",
       "  </tbody>\n",
       "</table>\n",
       "</div>"
      ],
      "text/plain": [
       "    AcademicYear   LevelOfStudy    ProgrammeCategory Sex  Headcount\n",
       "611      2020/21  Undergraduate  Arts and Humanities   M        918\n",
       "612      2020/21  Undergraduate  Arts and Humanities   F       2300"
      ]
     },
     "execution_count": 146,
     "metadata": {},
     "output_type": "execute_result"
    }
   ],
   "source": [
    "group_by_level_category_year.get_group(('Undergraduate', 'Arts and Humanities', '2020/21' ))"
   ]
  },
  {
   "cell_type": "markdown",
   "metadata": {},
   "source": [
    "## Groups Filtration\n",
    "\n",
    "Filtration is a process in which we discard some groups, according to a group-wise computation that evaluates `True` or `False`.\n",
    "\n",
    "* `group_by_level.Headcount.size()` # returns number of rows\n",
    "* `group_by_level.Headcount.sum()` # returns the summation of group\n"
   ]
  },
  {
   "cell_type": "code",
   "execution_count": 147,
   "metadata": {},
   "outputs": [
    {
     "data": {
      "text/plain": [
       "LevelOfStudy\n",
       "Research Postgraduate    168\n",
       "Sub-degree               154\n",
       "Taught Postgraduate      163\n",
       "Undergraduate            168\n",
       "Name: Headcount, dtype: int64"
      ]
     },
     "execution_count": 147,
     "metadata": {},
     "output_type": "execute_result"
    }
   ],
   "source": [
    "group_by_level.Headcount.size()"
   ]
  },
  {
   "cell_type": "code",
   "execution_count": 148,
   "metadata": {},
   "outputs": [
    {
     "data": {
      "text/plain": [
       "LevelOfStudy\n",
       "Research Postgraduate     28183\n",
       "Sub-degree                34531\n",
       "Taught Postgraduate       23409\n",
       "Undergraduate            237396\n",
       "Name: Headcount, dtype: int64"
      ]
     },
     "execution_count": 148,
     "metadata": {},
     "output_type": "execute_result"
    }
   ],
   "source": [
    "group_by_level.Headcount.sum()"
   ]
  },
  {
   "cell_type": "code",
   "execution_count": 149,
   "metadata": {},
   "outputs": [
    {
     "data": {
      "text/html": [
       "<div>\n",
       "<style scoped>\n",
       "    .dataframe tbody tr th:only-of-type {\n",
       "        vertical-align: middle;\n",
       "    }\n",
       "\n",
       "    .dataframe tbody tr th {\n",
       "        vertical-align: top;\n",
       "    }\n",
       "\n",
       "    .dataframe thead th {\n",
       "        text-align: right;\n",
       "    }\n",
       "</style>\n",
       "<table border=\"1\" class=\"dataframe\">\n",
       "  <thead>\n",
       "    <tr style=\"text-align: right;\">\n",
       "      <th></th>\n",
       "      <th>Headcount</th>\n",
       "    </tr>\n",
       "    <tr>\n",
       "      <th>LevelOfStudy</th>\n",
       "      <th></th>\n",
       "    </tr>\n",
       "  </thead>\n",
       "  <tbody>\n",
       "    <tr>\n",
       "      <th>Research Postgraduate</th>\n",
       "      <td>28183</td>\n",
       "    </tr>\n",
       "    <tr>\n",
       "      <th>Sub-degree</th>\n",
       "      <td>34531</td>\n",
       "    </tr>\n",
       "    <tr>\n",
       "      <th>Taught Postgraduate</th>\n",
       "      <td>23409</td>\n",
       "    </tr>\n",
       "    <tr>\n",
       "      <th>Undergraduate</th>\n",
       "      <td>237396</td>\n",
       "    </tr>\n",
       "  </tbody>\n",
       "</table>\n",
       "</div>"
      ],
      "text/plain": [
       "                       Headcount\n",
       "LevelOfStudy                    \n",
       "Research Postgraduate      28183\n",
       "Sub-degree                 34531\n",
       "Taught Postgraduate        23409\n",
       "Undergraduate             237396"
      ]
     },
     "execution_count": 149,
     "metadata": {},
     "output_type": "execute_result"
    }
   ],
   "source": [
    "group_by_level.sum()"
   ]
  },
  {
   "cell_type": "markdown",
   "metadata": {},
   "source": [
    "# EXERCISE: Groupby\n",
    "\n",
    "You have 5 minutes to practice `groupby()`\n",
    "\n",
    "Group the graduates by LevelOfStudy and Sex.  Show the **total headcount** for each group.\n",
    "\n"
   ]
  },
  {
   "cell_type": "code",
   "execution_count": 150,
   "metadata": {},
   "outputs": [],
   "source": [
    "group_by_level_sex = gra.groupby(['LevelOfStudy', 'Sex'])"
   ]
  },
  {
   "cell_type": "code",
   "execution_count": 151,
   "metadata": {},
   "outputs": [
    {
     "data": {
      "text/html": [
       "<div>\n",
       "<style scoped>\n",
       "    .dataframe tbody tr th:only-of-type {\n",
       "        vertical-align: middle;\n",
       "    }\n",
       "\n",
       "    .dataframe tbody tr th {\n",
       "        vertical-align: top;\n",
       "    }\n",
       "\n",
       "    .dataframe thead th {\n",
       "        text-align: right;\n",
       "    }\n",
       "</style>\n",
       "<table border=\"1\" class=\"dataframe\">\n",
       "  <thead>\n",
       "    <tr style=\"text-align: right;\">\n",
       "      <th></th>\n",
       "      <th></th>\n",
       "      <th>Headcount</th>\n",
       "    </tr>\n",
       "    <tr>\n",
       "      <th>LevelOfStudy</th>\n",
       "      <th>Sex</th>\n",
       "      <th></th>\n",
       "    </tr>\n",
       "  </thead>\n",
       "  <tbody>\n",
       "    <tr>\n",
       "      <th rowspan=\"2\" valign=\"top\">Research Postgraduate</th>\n",
       "      <th>F</th>\n",
       "      <td>11909</td>\n",
       "    </tr>\n",
       "    <tr>\n",
       "      <th>M</th>\n",
       "      <td>16274</td>\n",
       "    </tr>\n",
       "    <tr>\n",
       "      <th rowspan=\"2\" valign=\"top\">Sub-degree</th>\n",
       "      <th>F</th>\n",
       "      <td>21709</td>\n",
       "    </tr>\n",
       "    <tr>\n",
       "      <th>M</th>\n",
       "      <td>12822</td>\n",
       "    </tr>\n",
       "    <tr>\n",
       "      <th rowspan=\"2\" valign=\"top\">Taught Postgraduate</th>\n",
       "      <th>F</th>\n",
       "      <td>14584</td>\n",
       "    </tr>\n",
       "    <tr>\n",
       "      <th>M</th>\n",
       "      <td>8825</td>\n",
       "    </tr>\n",
       "    <tr>\n",
       "      <th rowspan=\"2\" valign=\"top\">Undergraduate</th>\n",
       "      <th>F</th>\n",
       "      <td>129173</td>\n",
       "    </tr>\n",
       "    <tr>\n",
       "      <th>M</th>\n",
       "      <td>108223</td>\n",
       "    </tr>\n",
       "  </tbody>\n",
       "</table>\n",
       "</div>"
      ],
      "text/plain": [
       "                           Headcount\n",
       "LevelOfStudy          Sex           \n",
       "Research Postgraduate F        11909\n",
       "                      M        16274\n",
       "Sub-degree            F        21709\n",
       "                      M        12822\n",
       "Taught Postgraduate   F        14584\n",
       "                      M         8825\n",
       "Undergraduate         F       129173\n",
       "                      M       108223"
      ]
     },
     "execution_count": 151,
     "metadata": {},
     "output_type": "execute_result"
    }
   ],
   "source": [
    "group_by_level_sex.agg(np.sum)"
   ]
  },
  {
   "cell_type": "markdown",
   "metadata": {},
   "source": [
    "# Merging Data\n",
    "- **Concatenation**: combining together Series, DataFrame\n",
    "- **Joining**: join operations is very similar to relational databases like SQL"
   ]
  },
  {
   "cell_type": "markdown",
   "metadata": {},
   "source": [
    "## Reading Excel Files\n",
    "```\n",
    "left = pd.read_excel('./data/Students.xlsx', sheet_name=0)\n",
    "right = pd.read_excel('./data/Students.xlsx', sheet_name=1)\n",
    "```"
   ]
  },
  {
   "cell_type": "code",
   "execution_count": 152,
   "metadata": {},
   "outputs": [],
   "source": [
    "left = pd.read_excel('./data/Students.xlsx', sheet_name=0)\n",
    "right = pd.read_excel('./data/Students.xlsx', sheet_name=1)"
   ]
  },
  {
   "cell_type": "markdown",
   "metadata": {},
   "source": [
    "## Using `merge()` function\n",
    "```\n",
    "joined = pd.merge(left, right, on='AcademicYear')\n",
    "joined\n",
    "```"
   ]
  },
  {
   "cell_type": "code",
   "execution_count": 153,
   "metadata": {},
   "outputs": [
    {
     "data": {
      "text/html": [
       "<div>\n",
       "<style scoped>\n",
       "    .dataframe tbody tr th:only-of-type {\n",
       "        vertical-align: middle;\n",
       "    }\n",
       "\n",
       "    .dataframe tbody tr th {\n",
       "        vertical-align: top;\n",
       "    }\n",
       "\n",
       "    .dataframe thead th {\n",
       "        text-align: right;\n",
       "    }\n",
       "</style>\n",
       "<table border=\"1\" class=\"dataframe\">\n",
       "  <thead>\n",
       "    <tr style=\"text-align: right;\">\n",
       "      <th></th>\n",
       "      <th>AcademicYear</th>\n",
       "      <th>AssociateDegree</th>\n",
       "      <th>HigherDiploma</th>\n",
       "      <th>Subdegree</th>\n",
       "      <th>FirstYearFirstDegree</th>\n",
       "      <th>TopUpDegree</th>\n",
       "      <th>Undergraduate</th>\n",
       "    </tr>\n",
       "  </thead>\n",
       "  <tbody>\n",
       "    <tr>\n",
       "      <th>0</th>\n",
       "      <td>2007/08</td>\n",
       "      <td>12029</td>\n",
       "      <td>9882</td>\n",
       "      <td>21911</td>\n",
       "      <td>2468</td>\n",
       "      <td>1731</td>\n",
       "      <td>4199</td>\n",
       "    </tr>\n",
       "    <tr>\n",
       "      <th>1</th>\n",
       "      <td>2008/09</td>\n",
       "      <td>11238</td>\n",
       "      <td>9405</td>\n",
       "      <td>20643</td>\n",
       "      <td>3004</td>\n",
       "      <td>2095</td>\n",
       "      <td>5099</td>\n",
       "    </tr>\n",
       "    <tr>\n",
       "      <th>2</th>\n",
       "      <td>2009/10</td>\n",
       "      <td>14177</td>\n",
       "      <td>10186</td>\n",
       "      <td>24363</td>\n",
       "      <td>2782</td>\n",
       "      <td>2680</td>\n",
       "      <td>5462</td>\n",
       "    </tr>\n",
       "    <tr>\n",
       "      <th>3</th>\n",
       "      <td>2010/11</td>\n",
       "      <td>17646</td>\n",
       "      <td>10715</td>\n",
       "      <td>28361</td>\n",
       "      <td>3193</td>\n",
       "      <td>3334</td>\n",
       "      <td>6527</td>\n",
       "    </tr>\n",
       "    <tr>\n",
       "      <th>4</th>\n",
       "      <td>2011/12</td>\n",
       "      <td>16018</td>\n",
       "      <td>9331</td>\n",
       "      <td>25349</td>\n",
       "      <td>3640</td>\n",
       "      <td>4081</td>\n",
       "      <td>7721</td>\n",
       "    </tr>\n",
       "  </tbody>\n",
       "</table>\n",
       "</div>"
      ],
      "text/plain": [
       "  AcademicYear  AssociateDegree  HigherDiploma  Subdegree  \\\n",
       "0      2007/08            12029           9882      21911   \n",
       "1      2008/09            11238           9405      20643   \n",
       "2      2009/10            14177          10186      24363   \n",
       "3      2010/11            17646          10715      28361   \n",
       "4      2011/12            16018           9331      25349   \n",
       "\n",
       "   FirstYearFirstDegree  TopUpDegree  Undergraduate  \n",
       "0                  2468         1731           4199  \n",
       "1                  3004         2095           5099  \n",
       "2                  2782         2680           5462  \n",
       "3                  3193         3334           6527  \n",
       "4                  3640         4081           7721  "
      ]
     },
     "execution_count": 153,
     "metadata": {},
     "output_type": "execute_result"
    }
   ],
   "source": [
    "left.head()"
   ]
  },
  {
   "cell_type": "code",
   "execution_count": 154,
   "metadata": {},
   "outputs": [
    {
     "data": {
      "text/html": [
       "<div>\n",
       "<style scoped>\n",
       "    .dataframe tbody tr th:only-of-type {\n",
       "        vertical-align: middle;\n",
       "    }\n",
       "\n",
       "    .dataframe tbody tr th {\n",
       "        vertical-align: top;\n",
       "    }\n",
       "\n",
       "    .dataframe thead th {\n",
       "        text-align: right;\n",
       "    }\n",
       "</style>\n",
       "<table border=\"1\" class=\"dataframe\">\n",
       "  <thead>\n",
       "    <tr style=\"text-align: right;\">\n",
       "      <th></th>\n",
       "      <th>AcademicYear</th>\n",
       "      <th>AssociateDegree_x</th>\n",
       "      <th>HigherDiploma_x</th>\n",
       "      <th>Subdegree_x</th>\n",
       "      <th>FirstYearFirstDegree_x</th>\n",
       "      <th>TopUpDegree_x</th>\n",
       "      <th>Undergraduate_x</th>\n",
       "      <th>AssociateDegree_y</th>\n",
       "      <th>HigherDiploma_y</th>\n",
       "      <th>Subdegree_y</th>\n",
       "      <th>FirstYearFirstDegree_y</th>\n",
       "      <th>TopUpDegree_y</th>\n",
       "      <th>Undergraduate_y</th>\n",
       "    </tr>\n",
       "  </thead>\n",
       "  <tbody>\n",
       "    <tr>\n",
       "      <th>0</th>\n",
       "      <td>2007/08</td>\n",
       "      <td>12029</td>\n",
       "      <td>9882</td>\n",
       "      <td>21911</td>\n",
       "      <td>2468</td>\n",
       "      <td>1731</td>\n",
       "      <td>4199</td>\n",
       "      <td>7159</td>\n",
       "      <td>6372</td>\n",
       "      <td>13531</td>\n",
       "      <td>1558</td>\n",
       "      <td>-</td>\n",
       "      <td>1558</td>\n",
       "    </tr>\n",
       "    <tr>\n",
       "      <th>1</th>\n",
       "      <td>2008/09</td>\n",
       "      <td>11238</td>\n",
       "      <td>9405</td>\n",
       "      <td>20643</td>\n",
       "      <td>3004</td>\n",
       "      <td>2095</td>\n",
       "      <td>5099</td>\n",
       "      <td>7211</td>\n",
       "      <td>7459</td>\n",
       "      <td>14670</td>\n",
       "      <td>2065</td>\n",
       "      <td>-</td>\n",
       "      <td>2065</td>\n",
       "    </tr>\n",
       "    <tr>\n",
       "      <th>2</th>\n",
       "      <td>2009/10</td>\n",
       "      <td>14177</td>\n",
       "      <td>10186</td>\n",
       "      <td>24363</td>\n",
       "      <td>2782</td>\n",
       "      <td>2680</td>\n",
       "      <td>5462</td>\n",
       "      <td>7303</td>\n",
       "      <td>8097</td>\n",
       "      <td>15400</td>\n",
       "      <td>2727</td>\n",
       "      <td>1499</td>\n",
       "      <td>4226</td>\n",
       "    </tr>\n",
       "    <tr>\n",
       "      <th>3</th>\n",
       "      <td>2010/11</td>\n",
       "      <td>17646</td>\n",
       "      <td>10715</td>\n",
       "      <td>28361</td>\n",
       "      <td>3193</td>\n",
       "      <td>3334</td>\n",
       "      <td>6527</td>\n",
       "      <td>8026</td>\n",
       "      <td>7167</td>\n",
       "      <td>15193</td>\n",
       "      <td>2921</td>\n",
       "      <td>2296</td>\n",
       "      <td>5217</td>\n",
       "    </tr>\n",
       "    <tr>\n",
       "      <th>4</th>\n",
       "      <td>2011/12</td>\n",
       "      <td>16018</td>\n",
       "      <td>9331</td>\n",
       "      <td>25349</td>\n",
       "      <td>3640</td>\n",
       "      <td>4081</td>\n",
       "      <td>7721</td>\n",
       "      <td>9468</td>\n",
       "      <td>7669</td>\n",
       "      <td>17137</td>\n",
       "      <td>2915</td>\n",
       "      <td>3003</td>\n",
       "      <td>5918</td>\n",
       "    </tr>\n",
       "    <tr>\n",
       "      <th>5</th>\n",
       "      <td>2012/13</td>\n",
       "      <td>18131</td>\n",
       "      <td>13486</td>\n",
       "      <td>31617</td>\n",
       "      <td>6796</td>\n",
       "      <td>6082</td>\n",
       "      <td>12878</td>\n",
       "      <td>10541</td>\n",
       "      <td>9271</td>\n",
       "      <td>19812</td>\n",
       "      <td>3040</td>\n",
       "      <td>4656</td>\n",
       "      <td>7696</td>\n",
       "    </tr>\n",
       "    <tr>\n",
       "      <th>6</th>\n",
       "      <td>2013/14</td>\n",
       "      <td>11715</td>\n",
       "      <td>9751</td>\n",
       "      <td>21466</td>\n",
       "      <td>6128</td>\n",
       "      <td>7349</td>\n",
       "      <td>13477</td>\n",
       "      <td>13035</td>\n",
       "      <td>13620</td>\n",
       "      <td>26655</td>\n",
       "      <td>3939</td>\n",
       "      <td>5767</td>\n",
       "      <td>9706</td>\n",
       "    </tr>\n",
       "    <tr>\n",
       "      <th>7</th>\n",
       "      <td>2014/15</td>\n",
       "      <td>10275</td>\n",
       "      <td>9483</td>\n",
       "      <td>19758</td>\n",
       "      <td>7194</td>\n",
       "      <td>10488</td>\n",
       "      <td>17682</td>\n",
       "      <td>9061</td>\n",
       "      <td>8387</td>\n",
       "      <td>17448</td>\n",
       "      <td>3286</td>\n",
       "      <td>7768</td>\n",
       "      <td>11054</td>\n",
       "    </tr>\n",
       "    <tr>\n",
       "      <th>8</th>\n",
       "      <td>2015/16</td>\n",
       "      <td>10942</td>\n",
       "      <td>8713</td>\n",
       "      <td>19655</td>\n",
       "      <td>6701</td>\n",
       "      <td>8736</td>\n",
       "      <td>15437</td>\n",
       "      <td>7962</td>\n",
       "      <td>7983</td>\n",
       "      <td>15945</td>\n",
       "      <td>5933</td>\n",
       "      <td>8279</td>\n",
       "      <td>14212</td>\n",
       "    </tr>\n",
       "    <tr>\n",
       "      <th>9</th>\n",
       "      <td>2016/17</td>\n",
       "      <td>11127</td>\n",
       "      <td>7884</td>\n",
       "      <td>19011</td>\n",
       "      <td>6153</td>\n",
       "      <td>7635</td>\n",
       "      <td>13788</td>\n",
       "      <td>8246</td>\n",
       "      <td>6986</td>\n",
       "      <td>15232</td>\n",
       "      <td>6060</td>\n",
       "      <td>7127</td>\n",
       "      <td>13187</td>\n",
       "    </tr>\n",
       "    <tr>\n",
       "      <th>10</th>\n",
       "      <td>2017/18</td>\n",
       "      <td>11420</td>\n",
       "      <td>6863</td>\n",
       "      <td>18283</td>\n",
       "      <td>5997</td>\n",
       "      <td>7906</td>\n",
       "      <td>13903</td>\n",
       "      <td>8460</td>\n",
       "      <td>6382</td>\n",
       "      <td>14842</td>\n",
       "      <td>6124</td>\n",
       "      <td>6591</td>\n",
       "      <td>12715</td>\n",
       "    </tr>\n",
       "    <tr>\n",
       "      <th>11</th>\n",
       "      <td>2018/19</td>\n",
       "      <td>11574</td>\n",
       "      <td>7263</td>\n",
       "      <td>18837</td>\n",
       "      <td>5753</td>\n",
       "      <td>8175</td>\n",
       "      <td>13928</td>\n",
       "      <td>8334</td>\n",
       "      <td>5619</td>\n",
       "      <td>13953</td>\n",
       "      <td>6501</td>\n",
       "      <td>6144</td>\n",
       "      <td>12645</td>\n",
       "    </tr>\n",
       "  </tbody>\n",
       "</table>\n",
       "</div>"
      ],
      "text/plain": [
       "   AcademicYear  AssociateDegree_x  HigherDiploma_x  Subdegree_x  \\\n",
       "0       2007/08              12029             9882        21911   \n",
       "1       2008/09              11238             9405        20643   \n",
       "2       2009/10              14177            10186        24363   \n",
       "3       2010/11              17646            10715        28361   \n",
       "4       2011/12              16018             9331        25349   \n",
       "5       2012/13              18131            13486        31617   \n",
       "6       2013/14              11715             9751        21466   \n",
       "7       2014/15              10275             9483        19758   \n",
       "8       2015/16              10942             8713        19655   \n",
       "9       2016/17              11127             7884        19011   \n",
       "10      2017/18              11420             6863        18283   \n",
       "11      2018/19              11574             7263        18837   \n",
       "\n",
       "    FirstYearFirstDegree_x  TopUpDegree_x  Undergraduate_x  AssociateDegree_y  \\\n",
       "0                     2468           1731             4199               7159   \n",
       "1                     3004           2095             5099               7211   \n",
       "2                     2782           2680             5462               7303   \n",
       "3                     3193           3334             6527               8026   \n",
       "4                     3640           4081             7721               9468   \n",
       "5                     6796           6082            12878              10541   \n",
       "6                     6128           7349            13477              13035   \n",
       "7                     7194          10488            17682               9061   \n",
       "8                     6701           8736            15437               7962   \n",
       "9                     6153           7635            13788               8246   \n",
       "10                    5997           7906            13903               8460   \n",
       "11                    5753           8175            13928               8334   \n",
       "\n",
       "    HigherDiploma_y  Subdegree_y  FirstYearFirstDegree_y TopUpDegree_y  \\\n",
       "0              6372        13531                    1558             -   \n",
       "1              7459        14670                    2065             -   \n",
       "2              8097        15400                    2727          1499   \n",
       "3              7167        15193                    2921          2296   \n",
       "4              7669        17137                    2915          3003   \n",
       "5              9271        19812                    3040          4656   \n",
       "6             13620        26655                    3939          5767   \n",
       "7              8387        17448                    3286          7768   \n",
       "8              7983        15945                    5933          8279   \n",
       "9              6986        15232                    6060          7127   \n",
       "10             6382        14842                    6124          6591   \n",
       "11             5619        13953                    6501          6144   \n",
       "\n",
       "    Undergraduate_y  \n",
       "0              1558  \n",
       "1              2065  \n",
       "2              4226  \n",
       "3              5217  \n",
       "4              5918  \n",
       "5              7696  \n",
       "6              9706  \n",
       "7             11054  \n",
       "8             14212  \n",
       "9             13187  \n",
       "10            12715  \n",
       "11            12645  "
      ]
     },
     "execution_count": 154,
     "metadata": {},
     "output_type": "execute_result"
    }
   ],
   "source": [
    "joined = pd.merge(left, right, on='AcademicYear')\n",
    "joined"
   ]
  },
  {
   "cell_type": "markdown",
   "metadata": {},
   "source": [
    "## using `concat()` function\n",
    "\n",
    "```\n",
    "df1 = pd.read_excel('./data/Students.xlsx', sheet_name=0)\n",
    "df2 = pd.read_excel('./data/Students.xlsx', sheet_name=0)\n",
    "concatencate1 = pd.concat([df1, df2])\n",
    "concatencate1\n",
    "concatencate2 = pd.concat([df1, df2], axis=1)\n",
    "concatencate2\n",
    "```"
   ]
  },
  {
   "cell_type": "code",
   "execution_count": 155,
   "metadata": {},
   "outputs": [
    {
     "data": {
      "text/html": [
       "<div>\n",
       "<style scoped>\n",
       "    .dataframe tbody tr th:only-of-type {\n",
       "        vertical-align: middle;\n",
       "    }\n",
       "\n",
       "    .dataframe tbody tr th {\n",
       "        vertical-align: top;\n",
       "    }\n",
       "\n",
       "    .dataframe thead th {\n",
       "        text-align: right;\n",
       "    }\n",
       "</style>\n",
       "<table border=\"1\" class=\"dataframe\">\n",
       "  <thead>\n",
       "    <tr style=\"text-align: right;\">\n",
       "      <th></th>\n",
       "      <th>AcademicYear</th>\n",
       "      <th>AssociateDegree</th>\n",
       "      <th>HigherDiploma</th>\n",
       "      <th>Subdegree</th>\n",
       "      <th>FirstYearFirstDegree</th>\n",
       "      <th>TopUpDegree</th>\n",
       "      <th>Undergraduate</th>\n",
       "    </tr>\n",
       "  </thead>\n",
       "  <tbody>\n",
       "    <tr>\n",
       "      <th>0</th>\n",
       "      <td>2007/08</td>\n",
       "      <td>12029</td>\n",
       "      <td>9882</td>\n",
       "      <td>21911</td>\n",
       "      <td>2468</td>\n",
       "      <td>1731</td>\n",
       "      <td>4199</td>\n",
       "    </tr>\n",
       "    <tr>\n",
       "      <th>1</th>\n",
       "      <td>2008/09</td>\n",
       "      <td>11238</td>\n",
       "      <td>9405</td>\n",
       "      <td>20643</td>\n",
       "      <td>3004</td>\n",
       "      <td>2095</td>\n",
       "      <td>5099</td>\n",
       "    </tr>\n",
       "    <tr>\n",
       "      <th>2</th>\n",
       "      <td>2009/10</td>\n",
       "      <td>14177</td>\n",
       "      <td>10186</td>\n",
       "      <td>24363</td>\n",
       "      <td>2782</td>\n",
       "      <td>2680</td>\n",
       "      <td>5462</td>\n",
       "    </tr>\n",
       "    <tr>\n",
       "      <th>3</th>\n",
       "      <td>2010/11</td>\n",
       "      <td>17646</td>\n",
       "      <td>10715</td>\n",
       "      <td>28361</td>\n",
       "      <td>3193</td>\n",
       "      <td>3334</td>\n",
       "      <td>6527</td>\n",
       "    </tr>\n",
       "    <tr>\n",
       "      <th>4</th>\n",
       "      <td>2011/12</td>\n",
       "      <td>16018</td>\n",
       "      <td>9331</td>\n",
       "      <td>25349</td>\n",
       "      <td>3640</td>\n",
       "      <td>4081</td>\n",
       "      <td>7721</td>\n",
       "    </tr>\n",
       "    <tr>\n",
       "      <th>5</th>\n",
       "      <td>2012/13</td>\n",
       "      <td>18131</td>\n",
       "      <td>13486</td>\n",
       "      <td>31617</td>\n",
       "      <td>6796</td>\n",
       "      <td>6082</td>\n",
       "      <td>12878</td>\n",
       "    </tr>\n",
       "    <tr>\n",
       "      <th>6</th>\n",
       "      <td>2013/14</td>\n",
       "      <td>11715</td>\n",
       "      <td>9751</td>\n",
       "      <td>21466</td>\n",
       "      <td>6128</td>\n",
       "      <td>7349</td>\n",
       "      <td>13477</td>\n",
       "    </tr>\n",
       "    <tr>\n",
       "      <th>7</th>\n",
       "      <td>2014/15</td>\n",
       "      <td>10275</td>\n",
       "      <td>9483</td>\n",
       "      <td>19758</td>\n",
       "      <td>7194</td>\n",
       "      <td>10488</td>\n",
       "      <td>17682</td>\n",
       "    </tr>\n",
       "    <tr>\n",
       "      <th>8</th>\n",
       "      <td>2015/16</td>\n",
       "      <td>10942</td>\n",
       "      <td>8713</td>\n",
       "      <td>19655</td>\n",
       "      <td>6701</td>\n",
       "      <td>8736</td>\n",
       "      <td>15437</td>\n",
       "    </tr>\n",
       "    <tr>\n",
       "      <th>9</th>\n",
       "      <td>2016/17</td>\n",
       "      <td>11127</td>\n",
       "      <td>7884</td>\n",
       "      <td>19011</td>\n",
       "      <td>6153</td>\n",
       "      <td>7635</td>\n",
       "      <td>13788</td>\n",
       "    </tr>\n",
       "    <tr>\n",
       "      <th>10</th>\n",
       "      <td>2017/18</td>\n",
       "      <td>11420</td>\n",
       "      <td>6863</td>\n",
       "      <td>18283</td>\n",
       "      <td>5997</td>\n",
       "      <td>7906</td>\n",
       "      <td>13903</td>\n",
       "    </tr>\n",
       "    <tr>\n",
       "      <th>11</th>\n",
       "      <td>2018/19</td>\n",
       "      <td>11574</td>\n",
       "      <td>7263</td>\n",
       "      <td>18837</td>\n",
       "      <td>5753</td>\n",
       "      <td>8175</td>\n",
       "      <td>13928</td>\n",
       "    </tr>\n",
       "    <tr>\n",
       "      <th>12</th>\n",
       "      <td>2019/20</td>\n",
       "      <td>11170</td>\n",
       "      <td>7196</td>\n",
       "      <td>18366</td>\n",
       "      <td>6311</td>\n",
       "      <td>7863</td>\n",
       "      <td>14174</td>\n",
       "    </tr>\n",
       "    <tr>\n",
       "      <th>0</th>\n",
       "      <td>2007/08</td>\n",
       "      <td>12029</td>\n",
       "      <td>9882</td>\n",
       "      <td>21911</td>\n",
       "      <td>2468</td>\n",
       "      <td>1731</td>\n",
       "      <td>4199</td>\n",
       "    </tr>\n",
       "    <tr>\n",
       "      <th>1</th>\n",
       "      <td>2008/09</td>\n",
       "      <td>11238</td>\n",
       "      <td>9405</td>\n",
       "      <td>20643</td>\n",
       "      <td>3004</td>\n",
       "      <td>2095</td>\n",
       "      <td>5099</td>\n",
       "    </tr>\n",
       "    <tr>\n",
       "      <th>2</th>\n",
       "      <td>2009/10</td>\n",
       "      <td>14177</td>\n",
       "      <td>10186</td>\n",
       "      <td>24363</td>\n",
       "      <td>2782</td>\n",
       "      <td>2680</td>\n",
       "      <td>5462</td>\n",
       "    </tr>\n",
       "    <tr>\n",
       "      <th>3</th>\n",
       "      <td>2010/11</td>\n",
       "      <td>17646</td>\n",
       "      <td>10715</td>\n",
       "      <td>28361</td>\n",
       "      <td>3193</td>\n",
       "      <td>3334</td>\n",
       "      <td>6527</td>\n",
       "    </tr>\n",
       "    <tr>\n",
       "      <th>4</th>\n",
       "      <td>2011/12</td>\n",
       "      <td>16018</td>\n",
       "      <td>9331</td>\n",
       "      <td>25349</td>\n",
       "      <td>3640</td>\n",
       "      <td>4081</td>\n",
       "      <td>7721</td>\n",
       "    </tr>\n",
       "    <tr>\n",
       "      <th>5</th>\n",
       "      <td>2012/13</td>\n",
       "      <td>18131</td>\n",
       "      <td>13486</td>\n",
       "      <td>31617</td>\n",
       "      <td>6796</td>\n",
       "      <td>6082</td>\n",
       "      <td>12878</td>\n",
       "    </tr>\n",
       "    <tr>\n",
       "      <th>6</th>\n",
       "      <td>2013/14</td>\n",
       "      <td>11715</td>\n",
       "      <td>9751</td>\n",
       "      <td>21466</td>\n",
       "      <td>6128</td>\n",
       "      <td>7349</td>\n",
       "      <td>13477</td>\n",
       "    </tr>\n",
       "    <tr>\n",
       "      <th>7</th>\n",
       "      <td>2014/15</td>\n",
       "      <td>10275</td>\n",
       "      <td>9483</td>\n",
       "      <td>19758</td>\n",
       "      <td>7194</td>\n",
       "      <td>10488</td>\n",
       "      <td>17682</td>\n",
       "    </tr>\n",
       "    <tr>\n",
       "      <th>8</th>\n",
       "      <td>2015/16</td>\n",
       "      <td>10942</td>\n",
       "      <td>8713</td>\n",
       "      <td>19655</td>\n",
       "      <td>6701</td>\n",
       "      <td>8736</td>\n",
       "      <td>15437</td>\n",
       "    </tr>\n",
       "    <tr>\n",
       "      <th>9</th>\n",
       "      <td>2016/17</td>\n",
       "      <td>11127</td>\n",
       "      <td>7884</td>\n",
       "      <td>19011</td>\n",
       "      <td>6153</td>\n",
       "      <td>7635</td>\n",
       "      <td>13788</td>\n",
       "    </tr>\n",
       "    <tr>\n",
       "      <th>10</th>\n",
       "      <td>2017/18</td>\n",
       "      <td>11420</td>\n",
       "      <td>6863</td>\n",
       "      <td>18283</td>\n",
       "      <td>5997</td>\n",
       "      <td>7906</td>\n",
       "      <td>13903</td>\n",
       "    </tr>\n",
       "    <tr>\n",
       "      <th>11</th>\n",
       "      <td>2018/19</td>\n",
       "      <td>11574</td>\n",
       "      <td>7263</td>\n",
       "      <td>18837</td>\n",
       "      <td>5753</td>\n",
       "      <td>8175</td>\n",
       "      <td>13928</td>\n",
       "    </tr>\n",
       "    <tr>\n",
       "      <th>12</th>\n",
       "      <td>2019/20</td>\n",
       "      <td>11170</td>\n",
       "      <td>7196</td>\n",
       "      <td>18366</td>\n",
       "      <td>6311</td>\n",
       "      <td>7863</td>\n",
       "      <td>14174</td>\n",
       "    </tr>\n",
       "  </tbody>\n",
       "</table>\n",
       "</div>"
      ],
      "text/plain": [
       "   AcademicYear  AssociateDegree  HigherDiploma  Subdegree  \\\n",
       "0       2007/08            12029           9882      21911   \n",
       "1       2008/09            11238           9405      20643   \n",
       "2       2009/10            14177          10186      24363   \n",
       "3       2010/11            17646          10715      28361   \n",
       "4       2011/12            16018           9331      25349   \n",
       "5       2012/13            18131          13486      31617   \n",
       "6       2013/14            11715           9751      21466   \n",
       "7       2014/15            10275           9483      19758   \n",
       "8       2015/16            10942           8713      19655   \n",
       "9       2016/17            11127           7884      19011   \n",
       "10      2017/18            11420           6863      18283   \n",
       "11      2018/19            11574           7263      18837   \n",
       "12      2019/20            11170           7196      18366   \n",
       "0       2007/08            12029           9882      21911   \n",
       "1       2008/09            11238           9405      20643   \n",
       "2       2009/10            14177          10186      24363   \n",
       "3       2010/11            17646          10715      28361   \n",
       "4       2011/12            16018           9331      25349   \n",
       "5       2012/13            18131          13486      31617   \n",
       "6       2013/14            11715           9751      21466   \n",
       "7       2014/15            10275           9483      19758   \n",
       "8       2015/16            10942           8713      19655   \n",
       "9       2016/17            11127           7884      19011   \n",
       "10      2017/18            11420           6863      18283   \n",
       "11      2018/19            11574           7263      18837   \n",
       "12      2019/20            11170           7196      18366   \n",
       "\n",
       "    FirstYearFirstDegree  TopUpDegree  Undergraduate  \n",
       "0                   2468         1731           4199  \n",
       "1                   3004         2095           5099  \n",
       "2                   2782         2680           5462  \n",
       "3                   3193         3334           6527  \n",
       "4                   3640         4081           7721  \n",
       "5                   6796         6082          12878  \n",
       "6                   6128         7349          13477  \n",
       "7                   7194        10488          17682  \n",
       "8                   6701         8736          15437  \n",
       "9                   6153         7635          13788  \n",
       "10                  5997         7906          13903  \n",
       "11                  5753         8175          13928  \n",
       "12                  6311         7863          14174  \n",
       "0                   2468         1731           4199  \n",
       "1                   3004         2095           5099  \n",
       "2                   2782         2680           5462  \n",
       "3                   3193         3334           6527  \n",
       "4                   3640         4081           7721  \n",
       "5                   6796         6082          12878  \n",
       "6                   6128         7349          13477  \n",
       "7                   7194        10488          17682  \n",
       "8                   6701         8736          15437  \n",
       "9                   6153         7635          13788  \n",
       "10                  5997         7906          13903  \n",
       "11                  5753         8175          13928  \n",
       "12                  6311         7863          14174  "
      ]
     },
     "execution_count": 155,
     "metadata": {},
     "output_type": "execute_result"
    }
   ],
   "source": [
    "df1 = pd.read_excel('./data/Students.xlsx', sheet_name=0)\n",
    "df2 = pd.read_excel('./data/Students.xlsx', sheet_name=0)\n",
    "concatencate1 = pd.concat([df1, df2])\n",
    "concatencate1"
   ]
  },
  {
   "cell_type": "code",
   "execution_count": 156,
   "metadata": {
    "scrolled": true
   },
   "outputs": [
    {
     "data": {
      "text/html": [
       "<div>\n",
       "<style scoped>\n",
       "    .dataframe tbody tr th:only-of-type {\n",
       "        vertical-align: middle;\n",
       "    }\n",
       "\n",
       "    .dataframe tbody tr th {\n",
       "        vertical-align: top;\n",
       "    }\n",
       "\n",
       "    .dataframe thead th {\n",
       "        text-align: right;\n",
       "    }\n",
       "</style>\n",
       "<table border=\"1\" class=\"dataframe\">\n",
       "  <thead>\n",
       "    <tr style=\"text-align: right;\">\n",
       "      <th></th>\n",
       "      <th>AcademicYear</th>\n",
       "      <th>AssociateDegree</th>\n",
       "      <th>HigherDiploma</th>\n",
       "      <th>Subdegree</th>\n",
       "      <th>FirstYearFirstDegree</th>\n",
       "      <th>TopUpDegree</th>\n",
       "      <th>Undergraduate</th>\n",
       "      <th>AcademicYear</th>\n",
       "      <th>AssociateDegree</th>\n",
       "      <th>HigherDiploma</th>\n",
       "      <th>Subdegree</th>\n",
       "      <th>FirstYearFirstDegree</th>\n",
       "      <th>TopUpDegree</th>\n",
       "      <th>Undergraduate</th>\n",
       "    </tr>\n",
       "  </thead>\n",
       "  <tbody>\n",
       "    <tr>\n",
       "      <th>0</th>\n",
       "      <td>2007/08</td>\n",
       "      <td>12029</td>\n",
       "      <td>9882</td>\n",
       "      <td>21911</td>\n",
       "      <td>2468</td>\n",
       "      <td>1731</td>\n",
       "      <td>4199</td>\n",
       "      <td>2007/08</td>\n",
       "      <td>12029</td>\n",
       "      <td>9882</td>\n",
       "      <td>21911</td>\n",
       "      <td>2468</td>\n",
       "      <td>1731</td>\n",
       "      <td>4199</td>\n",
       "    </tr>\n",
       "    <tr>\n",
       "      <th>1</th>\n",
       "      <td>2008/09</td>\n",
       "      <td>11238</td>\n",
       "      <td>9405</td>\n",
       "      <td>20643</td>\n",
       "      <td>3004</td>\n",
       "      <td>2095</td>\n",
       "      <td>5099</td>\n",
       "      <td>2008/09</td>\n",
       "      <td>11238</td>\n",
       "      <td>9405</td>\n",
       "      <td>20643</td>\n",
       "      <td>3004</td>\n",
       "      <td>2095</td>\n",
       "      <td>5099</td>\n",
       "    </tr>\n",
       "    <tr>\n",
       "      <th>2</th>\n",
       "      <td>2009/10</td>\n",
       "      <td>14177</td>\n",
       "      <td>10186</td>\n",
       "      <td>24363</td>\n",
       "      <td>2782</td>\n",
       "      <td>2680</td>\n",
       "      <td>5462</td>\n",
       "      <td>2009/10</td>\n",
       "      <td>14177</td>\n",
       "      <td>10186</td>\n",
       "      <td>24363</td>\n",
       "      <td>2782</td>\n",
       "      <td>2680</td>\n",
       "      <td>5462</td>\n",
       "    </tr>\n",
       "    <tr>\n",
       "      <th>3</th>\n",
       "      <td>2010/11</td>\n",
       "      <td>17646</td>\n",
       "      <td>10715</td>\n",
       "      <td>28361</td>\n",
       "      <td>3193</td>\n",
       "      <td>3334</td>\n",
       "      <td>6527</td>\n",
       "      <td>2010/11</td>\n",
       "      <td>17646</td>\n",
       "      <td>10715</td>\n",
       "      <td>28361</td>\n",
       "      <td>3193</td>\n",
       "      <td>3334</td>\n",
       "      <td>6527</td>\n",
       "    </tr>\n",
       "    <tr>\n",
       "      <th>4</th>\n",
       "      <td>2011/12</td>\n",
       "      <td>16018</td>\n",
       "      <td>9331</td>\n",
       "      <td>25349</td>\n",
       "      <td>3640</td>\n",
       "      <td>4081</td>\n",
       "      <td>7721</td>\n",
       "      <td>2011/12</td>\n",
       "      <td>16018</td>\n",
       "      <td>9331</td>\n",
       "      <td>25349</td>\n",
       "      <td>3640</td>\n",
       "      <td>4081</td>\n",
       "      <td>7721</td>\n",
       "    </tr>\n",
       "    <tr>\n",
       "      <th>5</th>\n",
       "      <td>2012/13</td>\n",
       "      <td>18131</td>\n",
       "      <td>13486</td>\n",
       "      <td>31617</td>\n",
       "      <td>6796</td>\n",
       "      <td>6082</td>\n",
       "      <td>12878</td>\n",
       "      <td>2012/13</td>\n",
       "      <td>18131</td>\n",
       "      <td>13486</td>\n",
       "      <td>31617</td>\n",
       "      <td>6796</td>\n",
       "      <td>6082</td>\n",
       "      <td>12878</td>\n",
       "    </tr>\n",
       "    <tr>\n",
       "      <th>6</th>\n",
       "      <td>2013/14</td>\n",
       "      <td>11715</td>\n",
       "      <td>9751</td>\n",
       "      <td>21466</td>\n",
       "      <td>6128</td>\n",
       "      <td>7349</td>\n",
       "      <td>13477</td>\n",
       "      <td>2013/14</td>\n",
       "      <td>11715</td>\n",
       "      <td>9751</td>\n",
       "      <td>21466</td>\n",
       "      <td>6128</td>\n",
       "      <td>7349</td>\n",
       "      <td>13477</td>\n",
       "    </tr>\n",
       "    <tr>\n",
       "      <th>7</th>\n",
       "      <td>2014/15</td>\n",
       "      <td>10275</td>\n",
       "      <td>9483</td>\n",
       "      <td>19758</td>\n",
       "      <td>7194</td>\n",
       "      <td>10488</td>\n",
       "      <td>17682</td>\n",
       "      <td>2014/15</td>\n",
       "      <td>10275</td>\n",
       "      <td>9483</td>\n",
       "      <td>19758</td>\n",
       "      <td>7194</td>\n",
       "      <td>10488</td>\n",
       "      <td>17682</td>\n",
       "    </tr>\n",
       "    <tr>\n",
       "      <th>8</th>\n",
       "      <td>2015/16</td>\n",
       "      <td>10942</td>\n",
       "      <td>8713</td>\n",
       "      <td>19655</td>\n",
       "      <td>6701</td>\n",
       "      <td>8736</td>\n",
       "      <td>15437</td>\n",
       "      <td>2015/16</td>\n",
       "      <td>10942</td>\n",
       "      <td>8713</td>\n",
       "      <td>19655</td>\n",
       "      <td>6701</td>\n",
       "      <td>8736</td>\n",
       "      <td>15437</td>\n",
       "    </tr>\n",
       "    <tr>\n",
       "      <th>9</th>\n",
       "      <td>2016/17</td>\n",
       "      <td>11127</td>\n",
       "      <td>7884</td>\n",
       "      <td>19011</td>\n",
       "      <td>6153</td>\n",
       "      <td>7635</td>\n",
       "      <td>13788</td>\n",
       "      <td>2016/17</td>\n",
       "      <td>11127</td>\n",
       "      <td>7884</td>\n",
       "      <td>19011</td>\n",
       "      <td>6153</td>\n",
       "      <td>7635</td>\n",
       "      <td>13788</td>\n",
       "    </tr>\n",
       "    <tr>\n",
       "      <th>10</th>\n",
       "      <td>2017/18</td>\n",
       "      <td>11420</td>\n",
       "      <td>6863</td>\n",
       "      <td>18283</td>\n",
       "      <td>5997</td>\n",
       "      <td>7906</td>\n",
       "      <td>13903</td>\n",
       "      <td>2017/18</td>\n",
       "      <td>11420</td>\n",
       "      <td>6863</td>\n",
       "      <td>18283</td>\n",
       "      <td>5997</td>\n",
       "      <td>7906</td>\n",
       "      <td>13903</td>\n",
       "    </tr>\n",
       "    <tr>\n",
       "      <th>11</th>\n",
       "      <td>2018/19</td>\n",
       "      <td>11574</td>\n",
       "      <td>7263</td>\n",
       "      <td>18837</td>\n",
       "      <td>5753</td>\n",
       "      <td>8175</td>\n",
       "      <td>13928</td>\n",
       "      <td>2018/19</td>\n",
       "      <td>11574</td>\n",
       "      <td>7263</td>\n",
       "      <td>18837</td>\n",
       "      <td>5753</td>\n",
       "      <td>8175</td>\n",
       "      <td>13928</td>\n",
       "    </tr>\n",
       "    <tr>\n",
       "      <th>12</th>\n",
       "      <td>2019/20</td>\n",
       "      <td>11170</td>\n",
       "      <td>7196</td>\n",
       "      <td>18366</td>\n",
       "      <td>6311</td>\n",
       "      <td>7863</td>\n",
       "      <td>14174</td>\n",
       "      <td>2019/20</td>\n",
       "      <td>11170</td>\n",
       "      <td>7196</td>\n",
       "      <td>18366</td>\n",
       "      <td>6311</td>\n",
       "      <td>7863</td>\n",
       "      <td>14174</td>\n",
       "    </tr>\n",
       "  </tbody>\n",
       "</table>\n",
       "</div>"
      ],
      "text/plain": [
       "   AcademicYear  AssociateDegree  HigherDiploma  Subdegree  \\\n",
       "0       2007/08            12029           9882      21911   \n",
       "1       2008/09            11238           9405      20643   \n",
       "2       2009/10            14177          10186      24363   \n",
       "3       2010/11            17646          10715      28361   \n",
       "4       2011/12            16018           9331      25349   \n",
       "5       2012/13            18131          13486      31617   \n",
       "6       2013/14            11715           9751      21466   \n",
       "7       2014/15            10275           9483      19758   \n",
       "8       2015/16            10942           8713      19655   \n",
       "9       2016/17            11127           7884      19011   \n",
       "10      2017/18            11420           6863      18283   \n",
       "11      2018/19            11574           7263      18837   \n",
       "12      2019/20            11170           7196      18366   \n",
       "\n",
       "    FirstYearFirstDegree  TopUpDegree  Undergraduate AcademicYear  \\\n",
       "0                   2468         1731           4199      2007/08   \n",
       "1                   3004         2095           5099      2008/09   \n",
       "2                   2782         2680           5462      2009/10   \n",
       "3                   3193         3334           6527      2010/11   \n",
       "4                   3640         4081           7721      2011/12   \n",
       "5                   6796         6082          12878      2012/13   \n",
       "6                   6128         7349          13477      2013/14   \n",
       "7                   7194        10488          17682      2014/15   \n",
       "8                   6701         8736          15437      2015/16   \n",
       "9                   6153         7635          13788      2016/17   \n",
       "10                  5997         7906          13903      2017/18   \n",
       "11                  5753         8175          13928      2018/19   \n",
       "12                  6311         7863          14174      2019/20   \n",
       "\n",
       "    AssociateDegree  HigherDiploma  Subdegree  FirstYearFirstDegree  \\\n",
       "0             12029           9882      21911                  2468   \n",
       "1             11238           9405      20643                  3004   \n",
       "2             14177          10186      24363                  2782   \n",
       "3             17646          10715      28361                  3193   \n",
       "4             16018           9331      25349                  3640   \n",
       "5             18131          13486      31617                  6796   \n",
       "6             11715           9751      21466                  6128   \n",
       "7             10275           9483      19758                  7194   \n",
       "8             10942           8713      19655                  6701   \n",
       "9             11127           7884      19011                  6153   \n",
       "10            11420           6863      18283                  5997   \n",
       "11            11574           7263      18837                  5753   \n",
       "12            11170           7196      18366                  6311   \n",
       "\n",
       "    TopUpDegree  Undergraduate  \n",
       "0          1731           4199  \n",
       "1          2095           5099  \n",
       "2          2680           5462  \n",
       "3          3334           6527  \n",
       "4          4081           7721  \n",
       "5          6082          12878  \n",
       "6          7349          13477  \n",
       "7         10488          17682  \n",
       "8          8736          15437  \n",
       "9          7635          13788  \n",
       "10         7906          13903  \n",
       "11         8175          13928  \n",
       "12         7863          14174  "
      ]
     },
     "execution_count": 156,
     "metadata": {},
     "output_type": "execute_result"
    }
   ],
   "source": [
    "concatencate2 = pd.concat([df1, df2], axis=1)\n",
    "concatencate2"
   ]
  },
  {
   "cell_type": "markdown",
   "metadata": {},
   "source": [
    "```\n",
    "left = pd.read_excel('./data/Students.xlsx', sheet_name=0)\n",
    "right = pd.read_excel('./data/Students.xlsx', sheet_name=1)\n",
    "joined = pd.merge(left, right, on='AcademicYear')\n",
    "joined\n",
    "```"
   ]
  },
  {
   "cell_type": "code",
   "execution_count": 157,
   "metadata": {},
   "outputs": [
    {
     "data": {
      "text/html": [
       "<div>\n",
       "<style scoped>\n",
       "    .dataframe tbody tr th:only-of-type {\n",
       "        vertical-align: middle;\n",
       "    }\n",
       "\n",
       "    .dataframe tbody tr th {\n",
       "        vertical-align: top;\n",
       "    }\n",
       "\n",
       "    .dataframe thead th {\n",
       "        text-align: right;\n",
       "    }\n",
       "</style>\n",
       "<table border=\"1\" class=\"dataframe\">\n",
       "  <thead>\n",
       "    <tr style=\"text-align: right;\">\n",
       "      <th></th>\n",
       "      <th>AcademicYear</th>\n",
       "      <th>AssociateDegree_x</th>\n",
       "      <th>HigherDiploma_x</th>\n",
       "      <th>Subdegree_x</th>\n",
       "      <th>FirstYearFirstDegree_x</th>\n",
       "      <th>TopUpDegree_x</th>\n",
       "      <th>Undergraduate_x</th>\n",
       "      <th>AssociateDegree_y</th>\n",
       "      <th>HigherDiploma_y</th>\n",
       "      <th>Subdegree_y</th>\n",
       "      <th>FirstYearFirstDegree_y</th>\n",
       "      <th>TopUpDegree_y</th>\n",
       "      <th>Undergraduate_y</th>\n",
       "    </tr>\n",
       "  </thead>\n",
       "  <tbody>\n",
       "    <tr>\n",
       "      <th>0</th>\n",
       "      <td>2007/08</td>\n",
       "      <td>12029</td>\n",
       "      <td>9882</td>\n",
       "      <td>21911</td>\n",
       "      <td>2468</td>\n",
       "      <td>1731</td>\n",
       "      <td>4199</td>\n",
       "      <td>7159</td>\n",
       "      <td>6372</td>\n",
       "      <td>13531</td>\n",
       "      <td>1558</td>\n",
       "      <td>-</td>\n",
       "      <td>1558</td>\n",
       "    </tr>\n",
       "    <tr>\n",
       "      <th>1</th>\n",
       "      <td>2008/09</td>\n",
       "      <td>11238</td>\n",
       "      <td>9405</td>\n",
       "      <td>20643</td>\n",
       "      <td>3004</td>\n",
       "      <td>2095</td>\n",
       "      <td>5099</td>\n",
       "      <td>7211</td>\n",
       "      <td>7459</td>\n",
       "      <td>14670</td>\n",
       "      <td>2065</td>\n",
       "      <td>-</td>\n",
       "      <td>2065</td>\n",
       "    </tr>\n",
       "    <tr>\n",
       "      <th>2</th>\n",
       "      <td>2009/10</td>\n",
       "      <td>14177</td>\n",
       "      <td>10186</td>\n",
       "      <td>24363</td>\n",
       "      <td>2782</td>\n",
       "      <td>2680</td>\n",
       "      <td>5462</td>\n",
       "      <td>7303</td>\n",
       "      <td>8097</td>\n",
       "      <td>15400</td>\n",
       "      <td>2727</td>\n",
       "      <td>1499</td>\n",
       "      <td>4226</td>\n",
       "    </tr>\n",
       "    <tr>\n",
       "      <th>3</th>\n",
       "      <td>2010/11</td>\n",
       "      <td>17646</td>\n",
       "      <td>10715</td>\n",
       "      <td>28361</td>\n",
       "      <td>3193</td>\n",
       "      <td>3334</td>\n",
       "      <td>6527</td>\n",
       "      <td>8026</td>\n",
       "      <td>7167</td>\n",
       "      <td>15193</td>\n",
       "      <td>2921</td>\n",
       "      <td>2296</td>\n",
       "      <td>5217</td>\n",
       "    </tr>\n",
       "    <tr>\n",
       "      <th>4</th>\n",
       "      <td>2011/12</td>\n",
       "      <td>16018</td>\n",
       "      <td>9331</td>\n",
       "      <td>25349</td>\n",
       "      <td>3640</td>\n",
       "      <td>4081</td>\n",
       "      <td>7721</td>\n",
       "      <td>9468</td>\n",
       "      <td>7669</td>\n",
       "      <td>17137</td>\n",
       "      <td>2915</td>\n",
       "      <td>3003</td>\n",
       "      <td>5918</td>\n",
       "    </tr>\n",
       "    <tr>\n",
       "      <th>5</th>\n",
       "      <td>2012/13</td>\n",
       "      <td>18131</td>\n",
       "      <td>13486</td>\n",
       "      <td>31617</td>\n",
       "      <td>6796</td>\n",
       "      <td>6082</td>\n",
       "      <td>12878</td>\n",
       "      <td>10541</td>\n",
       "      <td>9271</td>\n",
       "      <td>19812</td>\n",
       "      <td>3040</td>\n",
       "      <td>4656</td>\n",
       "      <td>7696</td>\n",
       "    </tr>\n",
       "    <tr>\n",
       "      <th>6</th>\n",
       "      <td>2013/14</td>\n",
       "      <td>11715</td>\n",
       "      <td>9751</td>\n",
       "      <td>21466</td>\n",
       "      <td>6128</td>\n",
       "      <td>7349</td>\n",
       "      <td>13477</td>\n",
       "      <td>13035</td>\n",
       "      <td>13620</td>\n",
       "      <td>26655</td>\n",
       "      <td>3939</td>\n",
       "      <td>5767</td>\n",
       "      <td>9706</td>\n",
       "    </tr>\n",
       "    <tr>\n",
       "      <th>7</th>\n",
       "      <td>2014/15</td>\n",
       "      <td>10275</td>\n",
       "      <td>9483</td>\n",
       "      <td>19758</td>\n",
       "      <td>7194</td>\n",
       "      <td>10488</td>\n",
       "      <td>17682</td>\n",
       "      <td>9061</td>\n",
       "      <td>8387</td>\n",
       "      <td>17448</td>\n",
       "      <td>3286</td>\n",
       "      <td>7768</td>\n",
       "      <td>11054</td>\n",
       "    </tr>\n",
       "    <tr>\n",
       "      <th>8</th>\n",
       "      <td>2015/16</td>\n",
       "      <td>10942</td>\n",
       "      <td>8713</td>\n",
       "      <td>19655</td>\n",
       "      <td>6701</td>\n",
       "      <td>8736</td>\n",
       "      <td>15437</td>\n",
       "      <td>7962</td>\n",
       "      <td>7983</td>\n",
       "      <td>15945</td>\n",
       "      <td>5933</td>\n",
       "      <td>8279</td>\n",
       "      <td>14212</td>\n",
       "    </tr>\n",
       "    <tr>\n",
       "      <th>9</th>\n",
       "      <td>2016/17</td>\n",
       "      <td>11127</td>\n",
       "      <td>7884</td>\n",
       "      <td>19011</td>\n",
       "      <td>6153</td>\n",
       "      <td>7635</td>\n",
       "      <td>13788</td>\n",
       "      <td>8246</td>\n",
       "      <td>6986</td>\n",
       "      <td>15232</td>\n",
       "      <td>6060</td>\n",
       "      <td>7127</td>\n",
       "      <td>13187</td>\n",
       "    </tr>\n",
       "    <tr>\n",
       "      <th>10</th>\n",
       "      <td>2017/18</td>\n",
       "      <td>11420</td>\n",
       "      <td>6863</td>\n",
       "      <td>18283</td>\n",
       "      <td>5997</td>\n",
       "      <td>7906</td>\n",
       "      <td>13903</td>\n",
       "      <td>8460</td>\n",
       "      <td>6382</td>\n",
       "      <td>14842</td>\n",
       "      <td>6124</td>\n",
       "      <td>6591</td>\n",
       "      <td>12715</td>\n",
       "    </tr>\n",
       "    <tr>\n",
       "      <th>11</th>\n",
       "      <td>2018/19</td>\n",
       "      <td>11574</td>\n",
       "      <td>7263</td>\n",
       "      <td>18837</td>\n",
       "      <td>5753</td>\n",
       "      <td>8175</td>\n",
       "      <td>13928</td>\n",
       "      <td>8334</td>\n",
       "      <td>5619</td>\n",
       "      <td>13953</td>\n",
       "      <td>6501</td>\n",
       "      <td>6144</td>\n",
       "      <td>12645</td>\n",
       "    </tr>\n",
       "  </tbody>\n",
       "</table>\n",
       "</div>"
      ],
      "text/plain": [
       "   AcademicYear  AssociateDegree_x  HigherDiploma_x  Subdegree_x  \\\n",
       "0       2007/08              12029             9882        21911   \n",
       "1       2008/09              11238             9405        20643   \n",
       "2       2009/10              14177            10186        24363   \n",
       "3       2010/11              17646            10715        28361   \n",
       "4       2011/12              16018             9331        25349   \n",
       "5       2012/13              18131            13486        31617   \n",
       "6       2013/14              11715             9751        21466   \n",
       "7       2014/15              10275             9483        19758   \n",
       "8       2015/16              10942             8713        19655   \n",
       "9       2016/17              11127             7884        19011   \n",
       "10      2017/18              11420             6863        18283   \n",
       "11      2018/19              11574             7263        18837   \n",
       "\n",
       "    FirstYearFirstDegree_x  TopUpDegree_x  Undergraduate_x  AssociateDegree_y  \\\n",
       "0                     2468           1731             4199               7159   \n",
       "1                     3004           2095             5099               7211   \n",
       "2                     2782           2680             5462               7303   \n",
       "3                     3193           3334             6527               8026   \n",
       "4                     3640           4081             7721               9468   \n",
       "5                     6796           6082            12878              10541   \n",
       "6                     6128           7349            13477              13035   \n",
       "7                     7194          10488            17682               9061   \n",
       "8                     6701           8736            15437               7962   \n",
       "9                     6153           7635            13788               8246   \n",
       "10                    5997           7906            13903               8460   \n",
       "11                    5753           8175            13928               8334   \n",
       "\n",
       "    HigherDiploma_y  Subdegree_y  FirstYearFirstDegree_y TopUpDegree_y  \\\n",
       "0              6372        13531                    1558             -   \n",
       "1              7459        14670                    2065             -   \n",
       "2              8097        15400                    2727          1499   \n",
       "3              7167        15193                    2921          2296   \n",
       "4              7669        17137                    2915          3003   \n",
       "5              9271        19812                    3040          4656   \n",
       "6             13620        26655                    3939          5767   \n",
       "7              8387        17448                    3286          7768   \n",
       "8              7983        15945                    5933          8279   \n",
       "9              6986        15232                    6060          7127   \n",
       "10             6382        14842                    6124          6591   \n",
       "11             5619        13953                    6501          6144   \n",
       "\n",
       "    Undergraduate_y  \n",
       "0              1558  \n",
       "1              2065  \n",
       "2              4226  \n",
       "3              5217  \n",
       "4              5918  \n",
       "5              7696  \n",
       "6              9706  \n",
       "7             11054  \n",
       "8             14212  \n",
       "9             13187  \n",
       "10            12715  \n",
       "11            12645  "
      ]
     },
     "execution_count": 157,
     "metadata": {},
     "output_type": "execute_result"
    }
   ],
   "source": [
    "left = pd.read_excel('./data/Students.xlsx', sheet_name=0)\n",
    "right = pd.read_excel('./data/Students.xlsx', sheet_name=1)\n",
    "joined = pd.merge(left, right, on='AcademicYear')\n",
    "joined"
   ]
  },
  {
   "cell_type": "markdown",
   "metadata": {},
   "source": [
    "# Data Visualization"
   ]
  },
  {
   "cell_type": "markdown",
   "metadata": {},
   "source": [
    "## Matplotlib Introduction\n",
    "Matplotlib is a low level graph plotting library for python."
   ]
  },
  {
   "cell_type": "markdown",
   "metadata": {},
   "source": [
    "## Import `matplotlib`\n",
    "\n",
    "Most of features that we will use belong to `pyplot` submodule.\n",
    "\n",
    "The sub module is usually imported as `plt` alias.\n",
    "\n",
    "```\n",
    "import matplotlib.pyplot as plt\n",
    "%matplotlib inline\n",
    "```"
   ]
  },
  {
   "cell_type": "code",
   "execution_count": 158,
   "metadata": {},
   "outputs": [],
   "source": [
    "import matplotlib.pyplot as plt\n",
    "%matplotlib inline"
   ]
  },
  {
   "cell_type": "markdown",
   "metadata": {},
   "source": [
    "## Simple Line Plot\n",
    "\n",
    "**Syntax**:\n",
    "\n",
    "Use `plot()` function to draw points.\n",
    "\n",
    "By default, the `plot()` function draws a **line** from point to point.\n",
    "\n",
    "It takes TWO parameter to make a point: \n",
    "\n",
    "* `x` is an array containing the points on the x-axis.\n",
    "\n",
    "* `y` is an array containing the points on the y-axis.\n",
    "\n",
    "```\n",
    "plt.plot(x, y)\n",
    "```\n",
    "\n",
    "* `x`: a numpy array for x-axis\n",
    "* `y`: a numpy array for y-axis\n",
    "\n",
    "**`plot()` function generates line plot by default**:\n",
    "```\n",
    "n = np.arange(1,11) # a range of number from 1 to 10\n",
    "plt.plot(n, n*2)\n",
    "```\n",
    "\n"
   ]
  },
  {
   "cell_type": "code",
   "execution_count": 159,
   "metadata": {
    "scrolled": true
   },
   "outputs": [
    {
     "data": {
      "text/plain": [
       "[<matplotlib.lines.Line2D at 0x7fcc03bcb340>]"
      ]
     },
     "execution_count": 159,
     "metadata": {},
     "output_type": "execute_result"
    },
    {
     "data": {
      "image/png": "[encoded data removed]",
      "text/plain": [
       "<Figure size 432x288 with 1 Axes>"
      ]
     },
     "metadata": {
      "needs_background": "light"
     },
     "output_type": "display_data"
    }
   ],
   "source": [
    "n = np.arange(1,11)\n",
    "plt.plot(n, n*2)"
   ]
  },
  {
   "cell_type": "markdown",
   "metadata": {},
   "source": [
    "## Plot Without Line (Markers Only)\n",
    "\n",
    "Add a third parameter to specify the marker so as to plot without line. \n",
    "\n",
    "```\n",
    "n = np.arange(1,11) # a range of number from 1 to 10\n",
    "plt.plot(n, n*2, 'o') # the third parameter 'o' is the marker shape\n",
    "```"
   ]
  },
  {
   "cell_type": "code",
   "execution_count": 160,
   "metadata": {
    "scrolled": true
   },
   "outputs": [
    {
     "data": {
      "text/plain": [
       "[<matplotlib.lines.Line2D at 0x7fcc03de8640>]"
      ]
     },
     "execution_count": 160,
     "metadata": {},
     "output_type": "execute_result"
    },
    {
     "data": {
      "image/png": "[encoded data removed]",
      "text/plain": [
       "<Figure size 432x288 with 1 Axes>"
      ]
     },
     "metadata": {
      "needs_background": "light"
     },
     "output_type": "display_data"
    }
   ],
   "source": [
    "n = np.arange(1,11) # a range of number from 1 to 10\n",
    "plt.plot(n, n*2, 'o') # the third parameter 'o' is the marker shape"
   ]
  },
  {
   "cell_type": "markdown",
   "metadata": {},
   "source": [
    "## Other Marker Shapes\n",
    "\n",
    "Other markers to consider:\n",
    "\n",
    "`'o'`\tCircle\t\n",
    "`'*'`\tStar\t\n",
    "`'.'`\tPoint\t\n",
    "`','`\tPixel\t\n",
    "`'x'`\tX\t\n",
    "`'X'`\tX (filled)\t\n",
    "`'+'`\tPlus\t\n",
    "`'P'`\tPlus (filled)\t\n",
    "`'s'`\tSquare\t\n",
    "`'D'`\tDiamond\t\n",
    "`'d'`\tDiamond (thin)\t\n",
    "`'p'`\tPentagon\t\n",
    "`'H'`\tHexagon\t\n",
    "`'h'`\tHexagon\t\n",
    "`'v'`\tTriangle Down\t\n",
    "`'^'`\tTriangle Up\t\n",
    "`'<'`\tTriangle Left\t\n",
    "`'>'`\tTriangle Right\t\n",
    "`'1'`\tTri Down\t\n",
    "`'2'`\tTri Up\t\n",
    "`'3'`\tTri Left\t\n",
    "`'4'`\tTri Right\t\n",
    "`'|'`\tVline\t\n",
    "`'_'`\tHline\n",
    "\n",
    "Examples:\n",
    "```\n",
    "n = np.arange(1,11) # a range of number from 1 to 10\n",
    "plt.plot(n, n*2, 'D') # diamond marker\n",
    "```"
   ]
  },
  {
   "cell_type": "code",
   "execution_count": 161,
   "metadata": {
    "scrolled": false
   },
   "outputs": [
    {
     "data": {
      "text/plain": [
       "[<matplotlib.lines.Line2D at 0x7fcc03e7b1f0>]"
      ]
     },
     "execution_count": 161,
     "metadata": {},
     "output_type": "execute_result"
    },
    {
     "data": {
      "image/png": "[encoded data removed]",
      "text/plain": [
       "<Figure size 432x288 with 1 Axes>"
      ]
     },
     "metadata": {
      "needs_background": "light"
     },
     "output_type": "display_data"
    }
   ],
   "source": [
    "n = np.arange(1,11) # a range of number from 1 to 10\n",
    "plt.plot(n, n*2, 'D') # diamond marker"
   ]
  },
  {
   "cell_type": "markdown",
   "metadata": {},
   "source": [
    "## Plotting Both Line and Markers\n",
    "\n",
    "Add a parameter name `marker` to your function to keep both line and markers.\n",
    "\n",
    "**Examples**:\n",
    "```\n",
    "n = np.arange(1,11) # a range of number from 1 to 10\n",
    "plt.plot(n, n*2, marker='D') # diamond marker\n",
    "```\n",
    "\n",
    "**Specifying Marker Size**:\n",
    "```\n",
    "n = np.arange(1,11) # a range of number from 1 to 10\n",
    "plt.plot(n, n*2, marker='o', ms=10) # ms: marker size\n",
    "```\n",
    "\n",
    "**Specifying Marker Fill Color**:\n",
    "```\n",
    "n = np.arange(1,11) # a range of number from 1 to 10\n",
    "plt.plot(n, n*2, marker='o', mfc='#FF00FF') # mfc: marker fill color\n",
    "```"
   ]
  },
  {
   "cell_type": "code",
   "execution_count": 162,
   "metadata": {
    "scrolled": false
   },
   "outputs": [
    {
     "data": {
      "text/plain": [
       "[<matplotlib.lines.Line2D at 0x7fcc03f8d9d0>]"
      ]
     },
     "execution_count": 162,
     "metadata": {},
     "output_type": "execute_result"
    },
    {
     "data": {
      "image/png": "[encoded data removed]",
      "text/plain": [
       "<Figure size 432x288 with 1 Axes>"
      ]
     },
     "metadata": {
      "needs_background": "light"
     },
     "output_type": "display_data"
    }
   ],
   "source": [
    "n = np.arange(1,11) # a range of number from 1 to 10\n",
    "plt.plot(n, n*2, marker='o', mfc='#FF00FF') # mfc: marker fill color"
   ]
  },
  {
   "cell_type": "markdown",
   "metadata": {},
   "source": [
    "## Line Styles\n",
    "\n",
    "Add parameter `ls` to specify the line style\n",
    "\n",
    "* `-`: solid line\n",
    "* `:`: dotted line\n",
    "* `--`: dashed line\n",
    "* `-.`: dashdot line\n",
    "\n",
    "Example:\n",
    "```\n",
    "n = np.arange(1,11) # a range of number from 1 to 10\n",
    "plt.plot(n, n*2, ls=\":\") # ls: line style\n",
    "```\n",
    "\n",
    "Add `color` or `c` parameter to specify the line color\n",
    "```\n",
    "plt.plot(n, n*2, color=\"purple\") # color: line color\n",
    "```"
   ]
  },
  {
   "cell_type": "code",
   "execution_count": 163,
   "metadata": {},
   "outputs": [
    {
     "data": {
      "text/plain": [
       "[<matplotlib.lines.Line2D at 0x7fcc0482ddc0>]"
      ]
     },
     "execution_count": 163,
     "metadata": {},
     "output_type": "execute_result"
    },
    {
     "data": {
      "image/png": "[encoded data removed]",
      "text/plain": [
       "<Figure size 432x288 with 1 Axes>"
      ]
     },
     "metadata": {
      "needs_background": "light"
     },
     "output_type": "display_data"
    }
   ],
   "source": [
    "n = np.arange(1,11) # a range of number from 1 to 10\n",
    "plt.plot(n, n*2, ls=\":\") # ls: line style"
   ]
  },
  {
   "cell_type": "code",
   "execution_count": 164,
   "metadata": {},
   "outputs": [
    {
     "data": {
      "text/plain": [
       "[<matplotlib.lines.Line2D at 0x7fcc03d50fa0>]"
      ]
     },
     "execution_count": 164,
     "metadata": {},
     "output_type": "execute_result"
    },
    {
     "data": {
      "image/png": "[encoded data removed]",
      "text/plain": [
       "<Figure size 432x288 with 1 Axes>"
      ]
     },
     "metadata": {
      "needs_background": "light"
     },
     "output_type": "display_data"
    }
   ],
   "source": [
    "plt.plot(n, n*2, color=\"purple\") # color: line color"
   ]
  },
  {
   "cell_type": "markdown",
   "metadata": {},
   "source": [
    "## Help with `plot()` function\n",
    "\n",
    "Type\n",
    "```\n",
    "?plt.plot\n",
    "```\n",
    "\n",
    "or\n",
    "\n",
    "```\n",
    "help(plt.plot)\n",
    "```"
   ]
  },
  {
   "cell_type": "code",
   "execution_count": null,
   "metadata": {},
   "outputs": [],
   "source": []
  },
  {
   "cell_type": "markdown",
   "metadata": {},
   "source": [
    "## Plot with Real Data\n",
    "\n",
    "**import graduates data file**\n",
    "```\n",
    "gra = pd.read_csv('./data/graduates.csv') \n",
    "```\n",
    "\n",
    "\n",
    "**select subset of undergraduate in 'Business and Management' and male students only**\n",
    "```\n",
    "ug_bm_m = gra[(gra['LevelOfStudy']=='Undergraduate') \n",
    "                    & (gra['ProgrammeCategory']=='Business and Management') \n",
    "                    & (gra['Sex']=='M')]\n",
    "ug_bm_m.head() # shows the rows previews\n",
    "ug_bm_m.info() # show dataframe information\n",
    "```\n",
    "\n",
    "\n",
    "**Extact the required columns in the format of numpy array for x-axis and y-axis**\n",
    "```\n",
    "year = ug_bm_m['AcademicYear'] # extract `AcademicYear` column as `year` numpy array\n",
    "headcount = ug_bm_m['Headcount'] # extract `Headcount` column as `headcount` numpy array\n",
    "\n",
    "plt.plot(year, headcount) # year as x-axis and headcount as y-axis\n",
    "```\n",
    "\n",
    "**Plot without providing x column**:\n",
    "\n",
    "you can plot without providing x-axis. the index number/row number will be automatically used as values for x-axis\n",
    "```\n",
    "plt.plot(headcount) \n",
    "```"
   ]
  },
  {
   "cell_type": "code",
   "execution_count": 165,
   "metadata": {},
   "outputs": [],
   "source": [
    "gra = pd.read_csv('./data/graduates.csv') "
   ]
  },
  {
   "cell_type": "code",
   "execution_count": 166,
   "metadata": {
    "scrolled": false
   },
   "outputs": [],
   "source": [
    "ug_bm_m = gra[(gra['LevelOfStudy']=='Undergraduate') \n",
    "                    & (gra['ProgrammeCategory']=='Business and Management') \n",
    "                    & (gra['Sex']=='M')]"
   ]
  },
  {
   "cell_type": "code",
   "execution_count": 167,
   "metadata": {},
   "outputs": [
    {
     "data": {
      "text/html": [
       "<div>\n",
       "<style scoped>\n",
       "    .dataframe tbody tr th:only-of-type {\n",
       "        vertical-align: middle;\n",
       "    }\n",
       "\n",
       "    .dataframe tbody tr th {\n",
       "        vertical-align: top;\n",
       "    }\n",
       "\n",
       "    .dataframe thead th {\n",
       "        text-align: right;\n",
       "    }\n",
       "</style>\n",
       "<table border=\"1\" class=\"dataframe\">\n",
       "  <thead>\n",
       "    <tr style=\"text-align: right;\">\n",
       "      <th></th>\n",
       "      <th>AcademicYear</th>\n",
       "      <th>LevelOfStudy</th>\n",
       "      <th>ProgrammeCategory</th>\n",
       "      <th>Sex</th>\n",
       "      <th>Headcount</th>\n",
       "    </tr>\n",
       "  </thead>\n",
       "  <tbody>\n",
       "    <tr>\n",
       "      <th>16</th>\n",
       "      <td>2009/10</td>\n",
       "      <td>Undergraduate</td>\n",
       "      <td>Business and Management</td>\n",
       "      <td>M</td>\n",
       "      <td>1861</td>\n",
       "    </tr>\n",
       "    <tr>\n",
       "      <th>72</th>\n",
       "      <td>2010/11</td>\n",
       "      <td>Undergraduate</td>\n",
       "      <td>Business and Management</td>\n",
       "      <td>M</td>\n",
       "      <td>1900</td>\n",
       "    </tr>\n",
       "    <tr>\n",
       "      <th>128</th>\n",
       "      <td>2011/12</td>\n",
       "      <td>Undergraduate</td>\n",
       "      <td>Business and Management</td>\n",
       "      <td>M</td>\n",
       "      <td>1815</td>\n",
       "    </tr>\n",
       "    <tr>\n",
       "      <th>184</th>\n",
       "      <td>2012/13</td>\n",
       "      <td>Undergraduate</td>\n",
       "      <td>Business and Management</td>\n",
       "      <td>M</td>\n",
       "      <td>1826</td>\n",
       "    </tr>\n",
       "    <tr>\n",
       "      <th>240</th>\n",
       "      <td>2013/14</td>\n",
       "      <td>Undergraduate</td>\n",
       "      <td>Business and Management</td>\n",
       "      <td>M</td>\n",
       "      <td>1881</td>\n",
       "    </tr>\n",
       "  </tbody>\n",
       "</table>\n",
       "</div>"
      ],
      "text/plain": [
       "    AcademicYear   LevelOfStudy        ProgrammeCategory Sex  Headcount\n",
       "16       2009/10  Undergraduate  Business and Management   M       1861\n",
       "72       2010/11  Undergraduate  Business and Management   M       1900\n",
       "128      2011/12  Undergraduate  Business and Management   M       1815\n",
       "184      2012/13  Undergraduate  Business and Management   M       1826\n",
       "240      2013/14  Undergraduate  Business and Management   M       1881"
      ]
     },
     "execution_count": 167,
     "metadata": {},
     "output_type": "execute_result"
    }
   ],
   "source": [
    "ug_bm_m.head() # shows the rows previews"
   ]
  },
  {
   "cell_type": "code",
   "execution_count": 168,
   "metadata": {},
   "outputs": [
    {
     "name": "stdout",
     "output_type": "stream",
     "text": [
      "<class 'pandas.core.frame.DataFrame'>\n",
      "Int64Index: 12 entries, 16 to 613\n",
      "Data columns (total 5 columns):\n",
      " #   Column             Non-Null Count  Dtype \n",
      "---  ------             --------------  ----- \n",
      " 0   AcademicYear       12 non-null     object\n",
      " 1   LevelOfStudy       12 non-null     object\n",
      " 2   ProgrammeCategory  12 non-null     object\n",
      " 3   Sex                12 non-null     object\n",
      " 4   Headcount          12 non-null     int64 \n",
      "dtypes: int64(1), object(4)\n",
      "memory usage: 576.0+ bytes\n"
     ]
    }
   ],
   "source": [
    "ug_bm_m.info() # show dataframe information"
   ]
  },
  {
   "cell_type": "code",
   "execution_count": 169,
   "metadata": {},
   "outputs": [],
   "source": [
    "year = ug_bm_m['AcademicYear']\n",
    "headcount = ug_bm_m['Headcount']"
   ]
  },
  {
   "cell_type": "code",
   "execution_count": 170,
   "metadata": {},
   "outputs": [
    {
     "data": {
      "text/plain": [
       "[<matplotlib.lines.Line2D at 0x7fcc04a67d60>]"
      ]
     },
     "execution_count": 170,
     "metadata": {},
     "output_type": "execute_result"
    },
    {
     "data": {
      "image/png": "[encoded data removed]",
      "text/plain": [
       "<Figure size 432x288 with 1 Axes>"
      ]
     },
     "metadata": {
      "needs_background": "light"
     },
     "output_type": "display_data"
    }
   ],
   "source": [
    "plt.plot(year, headcount)"
   ]
  },
  {
   "cell_type": "code",
   "execution_count": 171,
   "metadata": {},
   "outputs": [
    {
     "data": {
      "text/plain": [
       "[<matplotlib.lines.Line2D at 0x7fcc04f52c70>]"
      ]
     },
     "execution_count": 171,
     "metadata": {},
     "output_type": "execute_result"
    },
    {
     "data": {
      "image/png": "[encoded data removed]",
      "text/plain": [
       "<Figure size 432x288 with 1 Axes>"
      ]
     },
     "metadata": {
      "needs_background": "light"
     },
     "output_type": "display_data"
    }
   ],
   "source": [
    "plt.plot(headcount)"
   ]
  },
  {
   "cell_type": "markdown",
   "metadata": {},
   "source": [
    "## Rotating the xtickes\n",
    "\n",
    "Call `xticks()` function to rotate the xticks.  \n",
    "\n",
    "It requires a `rotation` degree in as parameter.\n",
    "\n",
    "Example:\n",
    "```\n",
    "plt.xticks(rotation=90)\n",
    "plt.plot(year, headcount)\n",
    "```"
   ]
  },
  {
   "cell_type": "code",
   "execution_count": 172,
   "metadata": {},
   "outputs": [
    {
     "data": {
      "text/plain": [
       "[<matplotlib.lines.Line2D at 0x7fcc0506a580>]"
      ]
     },
     "execution_count": 172,
     "metadata": {},
     "output_type": "execute_result"
    },
    {
     "data": {
      "image/png": "[encoded data removed]",
      "text/plain": [
       "<Figure size 432x288 with 1 Axes>"
      ]
     },
     "metadata": {
      "needs_background": "light"
     },
     "output_type": "display_data"
    }
   ],
   "source": [
    "plt.xticks(rotation=90)\n",
    "plt.plot(year, headcount)"
   ]
  },
  {
   "cell_type": "markdown",
   "metadata": {},
   "source": [
    "## Setting Title\n",
    "\n",
    "**Use `title()` function to add plot title**\n",
    "\n",
    "Example:\n",
    "```\n",
    "plt.title('Undergraduate Students \\n Business and Management')\n",
    "\n",
    "\n",
    "plt.plot(year, headcount)\n",
    "```\n",
    "\n",
    "You can specify title location with `loc` paremeter\n",
    "```\n",
    "plt.title('Undergraduate Students \\n Business and Management', loc=\"right\")\n",
    "plt.title('Undergraduate Students \\n Business and Management', loc=\"left\")\n",
    "\n",
    "```\n",
    "\n",
    "You can specify title font size with `fontsize` parameter\n",
    "```\n",
    "plt.title('Undergraduate Students \\n Business and Management', fontsize=22) \n",
    "```"
   ]
  },
  {
   "cell_type": "code",
   "execution_count": 173,
   "metadata": {
    "scrolled": true
   },
   "outputs": [
    {
     "data": {
      "text/plain": [
       "[<matplotlib.lines.Line2D at 0x7fcc050718e0>]"
      ]
     },
     "execution_count": 173,
     "metadata": {},
     "output_type": "execute_result"
    },
    {
     "data": {
      "image/png": "[encoded data removed]",
      "text/plain": [
       "<Figure size 432x288 with 1 Axes>"
      ]
     },
     "metadata": {
      "needs_background": "light"
     },
     "output_type": "display_data"
    }
   ],
   "source": [
    "plt.title('Undergraduate Students \\nin Business and Management', loc=\"right\")\n",
    "plt.plot(year, headcount)"
   ]
  },
  {
   "cell_type": "code",
   "execution_count": 174,
   "metadata": {
    "scrolled": true
   },
   "outputs": [
    {
     "data": {
      "text/plain": [
       "[<matplotlib.lines.Line2D at 0x7fcc051e3c40>]"
      ]
     },
     "execution_count": 174,
     "metadata": {},
     "output_type": "execute_result"
    },
    {
     "data": {
      "image/png": "[encoded data removed]",
      "text/plain": [
       "<Figure size 432x288 with 1 Axes>"
      ]
     },
     "metadata": {
      "needs_background": "light"
     },
     "output_type": "display_data"
    }
   ],
   "source": [
    "plt.title('Undergraduate Students \\n Business and Management', fontsize=16)\n",
    "plt.plot(year, headcount)"
   ]
  },
  {
   "cell_type": "markdown",
   "metadata": {},
   "source": [
    "## Setting Axis Labels\n",
    "\n",
    "**Use `xlabel()` and `ylabel()` to add axis labels**\n",
    "\n",
    "Example:\n",
    "```\n",
    "plt.xlabel('Academic Year')\n",
    "plt.ylabel('Student Headcount', fontsize=14)\n",
    "plt.plot(year, headcount)\n",
    "```"
   ]
  },
  {
   "cell_type": "code",
   "execution_count": 175,
   "metadata": {},
   "outputs": [
    {
     "data": {
      "text/plain": [
       "[<matplotlib.lines.Line2D at 0x7fcc053e4400>]"
      ]
     },
     "execution_count": 175,
     "metadata": {},
     "output_type": "execute_result"
    },
    {
     "data": {
      "image/png": "[encoded data removed]",
      "text/plain": [
       "<Figure size 432x288 with 1 Axes>"
      ]
     },
     "metadata": {
      "needs_background": "light"
     },
     "output_type": "display_data"
    }
   ],
   "source": [
    "plt.xlabel('Academic Year')\n",
    "plt.ylabel('Student Headcount', fontsize=14)\n",
    "plt.plot(year, headcount)"
   ]
  },
  {
   "cell_type": "markdown",
   "metadata": {},
   "source": [
    "## Plotting Multiple Lines\n",
    "\n",
    "You can plot multiple line simply by adding more plot() function.\n",
    "\n",
    "**Extracting Female undergraduate in 'Business and Management' for another plot**\n",
    "```\n",
    "ug_bm_f = gra[(gra['LevelOfStudy']=='Undergraduate') \n",
    "                    & (gra['ProgrammeCategory']=='Business and Management') \n",
    "                    & (gra['Sex']=='F')]\n",
    "```\n",
    "\n",
    "**Plotting multiple lines**\n",
    "```\n",
    "plt.plot(ug_bm_f['AcademicYear'], ug_bm_f['Headcount'])\n",
    "plt.plot(ug_bm_m['AcademicYear'], ug_bm_m['Headcount'])\n",
    "```"
   ]
  },
  {
   "cell_type": "code",
   "execution_count": 176,
   "metadata": {},
   "outputs": [],
   "source": [
    "ug_bm_f = gra[(gra['LevelOfStudy']=='Undergraduate') \n",
    "                    & (gra['ProgrammeCategory']=='Business and Management') \n",
    "                    & (gra['Sex']=='F')]"
   ]
  },
  {
   "cell_type": "code",
   "execution_count": 177,
   "metadata": {},
   "outputs": [
    {
     "data": {
      "text/plain": [
       "[<matplotlib.lines.Line2D at 0x7fcc054f39d0>]"
      ]
     },
     "execution_count": 177,
     "metadata": {},
     "output_type": "execute_result"
    },
    {
     "data": {
      "image/png": "[encoded data removed]",
      "text/plain": [
       "<Figure size 432x288 with 1 Axes>"
      ]
     },
     "metadata": {
      "needs_background": "light"
     },
     "output_type": "display_data"
    }
   ],
   "source": [
    "plt.plot(ug_bm_f['AcademicYear'], ug_bm_f['Headcount'])\n",
    "plt.plot(ug_bm_m['AcademicYear'], ug_bm_m['Headcount'])"
   ]
  },
  {
   "cell_type": "markdown",
   "metadata": {},
   "source": [
    "## Add Labels to Line and Show Legend\n",
    "\n",
    "\n",
    "**Adding Labels and Color to Plots**\n",
    "In the above plots, you can't tell which line is which. \n",
    "\n",
    "Let's add label and color to differentiate the lines\n",
    "```\n",
    "plt.plot(ug_bm_f['AcademicYear'], ug_bm_f['Headcount'], label = \"Female\", c=\"tomato\")\n",
    "plt.plot(ug_bm_m['AcademicYear'], ug_bm_m['Headcount'], label = \"Male\")\n",
    "plt.legend() # call this function to show legend\n",
    "```\n",
    "\n",
    "You can change the location of legend if it's blocking your lines\n",
    "```\n",
    "plt.legend(loc=\"center right\")\n",
    "```"
   ]
  },
  {
   "cell_type": "code",
   "execution_count": 178,
   "metadata": {},
   "outputs": [
    {
     "data": {
      "text/plain": [
       "<matplotlib.legend.Legend at 0x7fcc05639f40>"
      ]
     },
     "execution_count": 178,
     "metadata": {},
     "output_type": "execute_result"
    },
    {
     "data": {
      "image/png": "[encoded data removed]",
      "text/plain": [
       "<Figure size 432x288 with 1 Axes>"
      ]
     },
     "metadata": {
      "needs_background": "light"
     },
     "output_type": "display_data"
    }
   ],
   "source": [
    "plt.plot(ug_bm_f['AcademicYear'], ug_bm_f['Headcount'], label = \"Female\", c=\"tomato\")\n",
    "plt.plot(ug_bm_m['AcademicYear'], ug_bm_m['Headcount'], label = \"Male\")\n",
    "plt.legend()"
   ]
  },
  {
   "cell_type": "markdown",
   "metadata": {},
   "source": [
    "## Configuring Grid Lines\n",
    "\n",
    "**Call `grid()` function to configure grid line**\n",
    "\n",
    "Example:\n",
    "```\n",
    "plt.plot(ug_bm_f['AcademicYear'], ug_bm_f['Headcount'], label = \"Female\", c=\"tomato\")\n",
    "plt.plot(ug_bm_m['AcademicYear'], ug_bm_m['Headcount'], label = \"Male\")\n",
    "\n",
    "plt.grid() # shows both x and y axis grid lines\n",
    "\n",
    "plt.grid(axis='y') # shows y-axis grid lines only\n",
    "\n",
    "plt.grid(axis='x') # shows x-axis grid lines only\n",
    "\n",
    "```\n",
    "\n",
    "**Configuring `color` and `linewidth`**\n",
    "```\n",
    "plt.grid(c=\"purple\", linewidth=0.1)\n",
    "```\n",
    "\n",
    "\n",
    "**Check help for more on configuring grid lines**\n",
    "```\n",
    "?plt.grid\n",
    "help(plt.grid)\n",
    "```\n"
   ]
  },
  {
   "cell_type": "code",
   "execution_count": 179,
   "metadata": {
    "scrolled": true
   },
   "outputs": [
    {
     "data": {
      "image/png": "[encoded data removed]",
      "text/plain": [
       "<Figure size 432x288 with 1 Axes>"
      ]
     },
     "metadata": {
      "needs_background": "light"
     },
     "output_type": "display_data"
    }
   ],
   "source": [
    "plt.plot(ug_bm_f['AcademicYear'], ug_bm_f['Headcount'], label = \"Female\", c=\"tomato\")\n",
    "plt.plot(ug_bm_m['AcademicYear'], ug_bm_m['Headcount'], label = \"Male\")\n",
    "plt.grid(c=\"purple\", linewidth=0.05)"
   ]
  },
  {
   "cell_type": "code",
   "execution_count": 180,
   "metadata": {},
   "outputs": [],
   "source": [
    "?plt.grid"
   ]
  },
  {
   "cell_type": "markdown",
   "metadata": {},
   "source": [
    "## Subplots\n",
    "\n",
    "To draw multiple plots in one fiture, use `subplot()` function to specify the the number of `row`, `column` and the `position` of current plot.\n",
    "\n",
    "**Example 1: 1 Row x 2 Columns**\n",
    "```\n",
    "plt.subplot(1,2,1) # the first two number are row and column while the last number is position\n",
    "plt.plot(ug_bm_f['AcademicYear'], ug_bm_f['Headcount'], label = \"Female\", c=\"tomato\")\n",
    "plt.title(\"Female\")\n",
    "\n",
    "plt.subplot(1,2,2)\n",
    "plt.plot(ug_bm_m['AcademicYear'], ug_bm_m['Headcount'], label = \"Male\")\n",
    "plt.title(\"Male\")\n",
    "```\n",
    "\n",
    "**Example 2: Two Rows x 1 Column**\n",
    "```\n",
    "plt.subplot(2,1,1)\n",
    "plt.plot(ug_bm_f['AcademicYear'], ug_bm_f['Headcount'], label = \"Female\", c=\"tomato\")\n",
    "plt.title(\"Female\")\n",
    "\n",
    "plt.subplot(2,1,2)\n",
    "plt.plot(ug_bm_m['AcademicYear'], ug_bm_m['Headcount'], label = \"Male\")\n",
    "plt.title(\"Male\")\n",
    "```\n"
   ]
  },
  {
   "cell_type": "code",
   "execution_count": 181,
   "metadata": {},
   "outputs": [
    {
     "data": {
      "text/plain": [
       "[<matplotlib.lines.Line2D at 0x7fcc057dec70>]"
      ]
     },
     "execution_count": 181,
     "metadata": {},
     "output_type": "execute_result"
    },
    {
     "data": {
      "image/png": "[encoded data removed]",
      "text/plain": [
       "<Figure size 432x288 with 2 Axes>"
      ]
     },
     "metadata": {
      "needs_background": "light"
     },
     "output_type": "display_data"
    }
   ],
   "source": [
    "plt.subplot(1,2,1)\n",
    "plt.plot(ug_bm_f['AcademicYear'], ug_bm_f['Headcount'], label = \"Female\", c=\"tomato\")\n",
    "\n",
    "plt.subplot(1,2,2)\n",
    "plt.plot(ug_bm_m['AcademicYear'], ug_bm_m['Headcount'], label = \"Male\")"
   ]
  },
  {
   "cell_type": "code",
   "execution_count": 182,
   "metadata": {
    "scrolled": true
   },
   "outputs": [
    {
     "data": {
      "text/plain": [
       "Text(0.5, 1.0, 'Male')"
      ]
     },
     "execution_count": 182,
     "metadata": {},
     "output_type": "execute_result"
    },
    {
     "data": {
      "image/png": "[encoded data removed]",
      "text/plain": [
       "<Figure size 432x288 with 2 Axes>"
      ]
     },
     "metadata": {
      "needs_background": "light"
     },
     "output_type": "display_data"
    }
   ],
   "source": [
    "plt.subplot(2,1,1)\n",
    "plt.plot(ug_bm_f['AcademicYear'], ug_bm_f['Headcount'], label = \"Female\", c=\"tomato\")\n",
    "plt.title(\"Female\")\n",
    "\n",
    "plt.subplot(2,1,2)\n",
    "plt.plot(ug_bm_m['AcademicYear'], ug_bm_m['Headcount'], label = \"Male\")\n",
    "plt.title(\"Male\")"
   ]
  },
  {
   "cell_type": "markdown",
   "metadata": {},
   "source": [
    "## Bar Plot\n",
    "\n"
   ]
  },
  {
   "cell_type": "markdown",
   "metadata": {},
   "source": [
    "**Example**:\n",
    "\n",
    "```\n",
    "plt.bar(ug_bm_m['AcademicYear'], ug_bm_m['Headcount'])\n",
    "```"
   ]
  },
  {
   "cell_type": "code",
   "execution_count": 183,
   "metadata": {},
   "outputs": [
    {
     "data": {
      "text/plain": [
       "<BarContainer object of 12 artists>"
      ]
     },
     "execution_count": 183,
     "metadata": {},
     "output_type": "execute_result"
    },
    {
     "data": {
      "image/png": "[encoded data removed]",
      "text/plain": [
       "<Figure size 432x288 with 1 Axes>"
      ]
     },
     "metadata": {
      "needs_background": "light"
     },
     "output_type": "display_data"
    }
   ],
   "source": [
    "plt.bar(ug_bm_m['AcademicYear'], ug_bm_m['Headcount'])"
   ]
  },
  {
   "cell_type": "markdown",
   "metadata": {},
   "source": [
    "**Example:**\n",
    "```\n",
    "plt.barh(ug_bm_m['AcademicYear'], ug_bm_m['Headcount'])\n",
    "```"
   ]
  },
  {
   "cell_type": "code",
   "execution_count": 184,
   "metadata": {},
   "outputs": [
    {
     "data": {
      "text/plain": [
       "<BarContainer object of 12 artists>"
      ]
     },
     "execution_count": 184,
     "metadata": {},
     "output_type": "execute_result"
    },
    {
     "data": {
      "image/png": "[encoded data removed]",
      "text/plain": [
       "<Figure size 432x288 with 1 Axes>"
      ]
     },
     "metadata": {
      "needs_background": "light"
     },
     "output_type": "display_data"
    }
   ],
   "source": [
    "plt.barh(ug_bm_m['AcademicYear'], ug_bm_m['Headcount'])"
   ]
  },
  {
   "cell_type": "markdown",
   "metadata": {},
   "source": [
    "## Histograms\n",
    "\n",
    "A histogram is a graph showing frequency distributions.\n",
    "```\n",
    "heights = np.random.normal(170, 10, 250)\n",
    "print(heights)\n",
    "\n",
    "plt.hist(heights)\n",
    "```\n",
    "\n"
   ]
  },
  {
   "cell_type": "code",
   "execution_count": 185,
   "metadata": {},
   "outputs": [
    {
     "name": "stdout",
     "output_type": "stream",
     "text": [
      "[168.30896954 164.55351779 166.9339968  198.86725734 163.03133019\n",
      " 166.53726313 176.00921502 186.28324909 161.34581732 164.50589074\n",
      " 161.29915182 145.92587797 169.09742175 170.5966506  166.65911119\n",
      " 174.35667393 180.11917493 164.55352722 152.81155813 179.88651919\n",
      " 178.88508266 188.31680693 165.87617908 162.01153602 174.26612777\n",
      " 167.11997929 182.76843175 164.13763805 162.10573436 173.20612579\n",
      " 167.38977702 155.38033389 165.76459255 174.54150733 159.33167091\n",
      " 164.17416267 172.73397724 174.8011894  177.38846691 151.36097767\n",
      " 190.22371783 167.65251536 176.29809467 181.45703636 158.53725482\n",
      " 177.8078201  148.00107674 156.03004636 170.55038109 148.87803507\n",
      " 167.91080246 186.24152527 170.59607008 176.78031593 180.64456169\n",
      " 169.72438101 159.56727738 187.98054109 184.16825023 181.88910955\n",
      " 196.00279854 142.78602811 161.93191639 168.66486307 175.22107908\n",
      " 166.28449349 173.15645726 153.22092543 170.78545091 174.44194886\n",
      " 183.62323894 187.78138983 175.59493914 161.72711009 175.72969404\n",
      " 162.69576423 169.11236505 170.02775357 158.73331724 159.56340669\n",
      " 173.67523189 172.92070088 170.81078074 187.85386943 176.46553988\n",
      " 155.2085874  176.13183524 170.80069282 160.92111617 169.04463862\n",
      " 151.53260246 163.60002583 178.19809512 154.96209751 185.31610281\n",
      " 169.1314685  177.7770232  168.05621829 162.62757311 174.3041529\n",
      " 149.70039927 190.29780566 173.6722111  179.71094322 159.31248306\n",
      " 186.9685919  160.67580203 144.23509532 164.16954891 173.59476245\n",
      " 166.57967501 177.02067488 169.24567696 181.29786635 184.31103396\n",
      " 185.25019255 167.06464387 167.72996692 191.05763205 182.00783835\n",
      " 175.39814428 165.91305432 172.77890868 181.29594042 167.5036164\n",
      " 184.33096221 185.93832458 167.03920419 178.36171935 170.81766446\n",
      " 175.11601742 182.99463056 171.32248257 180.82803384 172.55175457\n",
      " 169.53581088 170.3452745  163.79321692 188.84838308 171.36439227\n",
      " 176.1973371  153.85480749 167.1951561  153.06360358 185.22445058\n",
      " 181.73735873 175.78978677 165.7040025  163.3099856  157.80878158\n",
      " 168.34701264 179.97143921 169.54649664 155.32422229 168.24361389\n",
      " 163.55872197 187.73968115 168.40576194 170.75942418 181.45037502\n",
      " 172.03639308 163.85451765 172.84373832 180.72334739 172.89600077\n",
      " 165.60989525 172.30892299 190.27176232 175.70033771 185.40954524\n",
      " 175.46636171 179.46906768 149.44956671 174.76669043 164.62437672\n",
      " 160.23967124 180.09039203 156.65300161 192.48696124 158.00671654\n",
      " 157.02501104 187.70781002 166.51720266 166.02624843 181.62479252\n",
      " 169.09090988 154.42354749 169.55610433 181.58429602 182.55568764\n",
      " 176.92863889 181.1369596  180.03606873 188.13434012 164.59148658\n",
      " 169.8417987  179.32191041 155.18419528 171.65877506 178.19213933\n",
      " 167.35567959 164.08306656 173.51743947 169.59029877 173.55656369\n",
      " 170.96755958 157.76562069 172.52636283 162.97416283 168.9852579\n",
      " 179.23273644 161.43287421 171.3652684  174.91924144 165.07268208\n",
      " 173.11318593 161.67048693 163.09619813 173.59918951 173.22852262\n",
      " 155.14431436 167.35574584 172.49679186 194.83033777 167.41020036\n",
      " 169.90369575 171.09824222 177.32382102 154.66949566 175.05901938\n",
      " 160.98408345 161.55248382 163.17613728 176.33438615 170.33082728\n",
      " 169.39398855 187.80693748 157.26153871 168.07997722 163.5429818\n",
      " 158.11998697 165.42526813 156.30197777 155.03772857 173.91525996\n",
      " 150.310864   151.10236311 170.96990077 171.21327807 149.8136992 ]\n"
     ]
    }
   ],
   "source": [
    "# use NumPy to randomly generate an array with 250 values, \n",
    "# where the values will concentrate around 170, and the standard deviation is 10.\n",
    "heights = np.random.normal(170, 10, 250)\n",
    "print(heights)"
   ]
  },
  {
   "cell_type": "code",
   "execution_count": 186,
   "metadata": {},
   "outputs": [
    {
     "data": {
      "text/plain": [
       "(array([ 4., 12., 24., 35., 58., 51., 34., 15., 14.,  3.]),\n",
       " array([142.78602811, 148.39415103, 154.00227395, 159.61039688,\n",
       "        165.2185198 , 170.82664272, 176.43476565, 182.04288857,\n",
       "        187.65101149, 193.25913442, 198.86725734]),\n",
       " <BarContainer object of 10 artists>)"
      ]
     },
     "execution_count": 186,
     "metadata": {},
     "output_type": "execute_result"
    },
    {
     "data": {
      "image/png": "[encoded data removed]",
      "text/plain": [
       "<Figure size 432x288 with 1 Axes>"
      ]
     },
     "metadata": {
      "needs_background": "light"
     },
     "output_type": "display_data"
    }
   ],
   "source": [
    "plt.hist(heights)"
   ]
  },
  {
   "cell_type": "markdown",
   "metadata": {},
   "source": [
    "## Pie Chart\n",
    "\n",
    "Pie Chart lets you emphasize the portion of whole.\n",
    "\n",
    "**Use `unique()` function to show the distinct values of a column**\n",
    "```\n",
    "gra['LevelOfStudy'].unique()\n",
    "gra['ProgrammeCategory'].unique()\n",
    "```\n",
    "\n",
    "**Exacting Rows**\n",
    "```\n",
    "engr_m_2021 = gra[(gra['ProgrammeCategory']==\"Engineering and Technology\") &\n",
    "             (gra['Sex']=='M') &\n",
    "             (gra['AcademicYear']=='2020/21')]\n",
    "\n",
    "ug_m_2021 = gra[(gra['LevelOfStudy']==\"Undergraduate\") &\n",
    "             (gra['Sex']=='M') &\n",
    "             (gra['AcademicYear']=='2020/21')]\n",
    "```\n",
    "\n",
    "\n",
    "**Plotting Pie-chart with Labels**\n",
    "```\n",
    "plt.pie(engr_m_2021['Headcount'], labels=engr_m_2021['LevelOfStudy'])\n",
    "plt.show()\n",
    "\n",
    "plt.pie(ug_m_2021['Headcount'], labels=ug_m_2021['ProgrammeCategory'])\n",
    "plt.show()\n",
    "```\n"
   ]
  },
  {
   "cell_type": "code",
   "execution_count": 187,
   "metadata": {
    "scrolled": true
   },
   "outputs": [
    {
     "data": {
      "text/html": [
       "<div>\n",
       "<style scoped>\n",
       "    .dataframe tbody tr th:only-of-type {\n",
       "        vertical-align: middle;\n",
       "    }\n",
       "\n",
       "    .dataframe tbody tr th {\n",
       "        vertical-align: top;\n",
       "    }\n",
       "\n",
       "    .dataframe thead th {\n",
       "        text-align: right;\n",
       "    }\n",
       "</style>\n",
       "<table border=\"1\" class=\"dataframe\">\n",
       "  <thead>\n",
       "    <tr style=\"text-align: right;\">\n",
       "      <th></th>\n",
       "      <th>AcademicYear</th>\n",
       "      <th>LevelOfStudy</th>\n",
       "      <th>ProgrammeCategory</th>\n",
       "      <th>Sex</th>\n",
       "      <th>Headcount</th>\n",
       "    </tr>\n",
       "  </thead>\n",
       "  <tbody>\n",
       "    <tr>\n",
       "      <th>0</th>\n",
       "      <td>2009/10</td>\n",
       "      <td>Sub-degree</td>\n",
       "      <td>Arts and Humanities</td>\n",
       "      <td>M</td>\n",
       "      <td>158</td>\n",
       "    </tr>\n",
       "    <tr>\n",
       "      <th>1</th>\n",
       "      <td>2009/10</td>\n",
       "      <td>Sub-degree</td>\n",
       "      <td>Arts and Humanities</td>\n",
       "      <td>F</td>\n",
       "      <td>475</td>\n",
       "    </tr>\n",
       "    <tr>\n",
       "      <th>2</th>\n",
       "      <td>2009/10</td>\n",
       "      <td>Sub-degree</td>\n",
       "      <td>Business and Management</td>\n",
       "      <td>M</td>\n",
       "      <td>73</td>\n",
       "    </tr>\n",
       "    <tr>\n",
       "      <th>3</th>\n",
       "      <td>2009/10</td>\n",
       "      <td>Sub-degree</td>\n",
       "      <td>Business and Management</td>\n",
       "      <td>F</td>\n",
       "      <td>227</td>\n",
       "    </tr>\n",
       "    <tr>\n",
       "      <th>4</th>\n",
       "      <td>2009/10</td>\n",
       "      <td>Sub-degree</td>\n",
       "      <td>Education</td>\n",
       "      <td>M</td>\n",
       "      <td>122</td>\n",
       "    </tr>\n",
       "    <tr>\n",
       "      <th>...</th>\n",
       "      <td>...</td>\n",
       "      <td>...</td>\n",
       "      <td>...</td>\n",
       "      <td>...</td>\n",
       "      <td>...</td>\n",
       "    </tr>\n",
       "    <tr>\n",
       "      <th>648</th>\n",
       "      <td>2020/21</td>\n",
       "      <td>Research Postgraduate</td>\n",
       "      <td>Medicine, Dentistry and Health</td>\n",
       "      <td>F</td>\n",
       "      <td>237</td>\n",
       "    </tr>\n",
       "    <tr>\n",
       "      <th>649</th>\n",
       "      <td>2020/21</td>\n",
       "      <td>Research Postgraduate</td>\n",
       "      <td>Sciences</td>\n",
       "      <td>M</td>\n",
       "      <td>554</td>\n",
       "    </tr>\n",
       "    <tr>\n",
       "      <th>650</th>\n",
       "      <td>2020/21</td>\n",
       "      <td>Research Postgraduate</td>\n",
       "      <td>Sciences</td>\n",
       "      <td>F</td>\n",
       "      <td>286</td>\n",
       "    </tr>\n",
       "    <tr>\n",
       "      <th>651</th>\n",
       "      <td>2020/21</td>\n",
       "      <td>Research Postgraduate</td>\n",
       "      <td>Social Sciences</td>\n",
       "      <td>M</td>\n",
       "      <td>114</td>\n",
       "    </tr>\n",
       "    <tr>\n",
       "      <th>652</th>\n",
       "      <td>2020/21</td>\n",
       "      <td>Research Postgraduate</td>\n",
       "      <td>Social Sciences</td>\n",
       "      <td>F</td>\n",
       "      <td>145</td>\n",
       "    </tr>\n",
       "  </tbody>\n",
       "</table>\n",
       "<p>653 rows × 5 columns</p>\n",
       "</div>"
      ],
      "text/plain": [
       "    AcademicYear           LevelOfStudy               ProgrammeCategory Sex  \\\n",
       "0        2009/10             Sub-degree             Arts and Humanities   M   \n",
       "1        2009/10             Sub-degree             Arts and Humanities   F   \n",
       "2        2009/10             Sub-degree         Business and Management   M   \n",
       "3        2009/10             Sub-degree         Business and Management   F   \n",
       "4        2009/10             Sub-degree                       Education   M   \n",
       "..           ...                    ...                             ...  ..   \n",
       "648      2020/21  Research Postgraduate  Medicine, Dentistry and Health   F   \n",
       "649      2020/21  Research Postgraduate                        Sciences   M   \n",
       "650      2020/21  Research Postgraduate                        Sciences   F   \n",
       "651      2020/21  Research Postgraduate                 Social Sciences   M   \n",
       "652      2020/21  Research Postgraduate                 Social Sciences   F   \n",
       "\n",
       "     Headcount  \n",
       "0          158  \n",
       "1          475  \n",
       "2           73  \n",
       "3          227  \n",
       "4          122  \n",
       "..         ...  \n",
       "648        237  \n",
       "649        554  \n",
       "650        286  \n",
       "651        114  \n",
       "652        145  \n",
       "\n",
       "[653 rows x 5 columns]"
      ]
     },
     "execution_count": 187,
     "metadata": {},
     "output_type": "execute_result"
    }
   ],
   "source": [
    "gra"
   ]
  },
  {
   "cell_type": "code",
   "execution_count": 188,
   "metadata": {},
   "outputs": [
    {
     "data": {
      "text/plain": [
       "array(['Arts and Humanities', 'Business and Management', 'Education',\n",
       "       'Engineering and Technology', 'Medicine, Dentistry and Health',\n",
       "       'Sciences', 'Social Sciences'], dtype=object)"
      ]
     },
     "execution_count": 188,
     "metadata": {},
     "output_type": "execute_result"
    }
   ],
   "source": [
    "gra['ProgrammeCategory'].unique()"
   ]
  },
  {
   "cell_type": "code",
   "execution_count": 189,
   "metadata": {},
   "outputs": [],
   "source": [
    "engr_m_2021 = gra[(gra['ProgrammeCategory']==\"Engineering and Technology\") &\n",
    "             (gra['Sex']=='M') &\n",
    "             (gra['AcademicYear']=='2020/21')]\n",
    "\n",
    "ug_m_2021 = gra[(gra['LevelOfStudy']==\"Undergraduate\") &\n",
    "             (gra['Sex']=='M') &\n",
    "             (gra['AcademicYear']=='2020/21')]"
   ]
  },
  {
   "cell_type": "code",
   "execution_count": 190,
   "metadata": {},
   "outputs": [
    {
     "data": {
      "text/html": [
       "<div>\n",
       "<style scoped>\n",
       "    .dataframe tbody tr th:only-of-type {\n",
       "        vertical-align: middle;\n",
       "    }\n",
       "\n",
       "    .dataframe tbody tr th {\n",
       "        vertical-align: top;\n",
       "    }\n",
       "\n",
       "    .dataframe thead th {\n",
       "        text-align: right;\n",
       "    }\n",
       "</style>\n",
       "<table border=\"1\" class=\"dataframe\">\n",
       "  <thead>\n",
       "    <tr style=\"text-align: right;\">\n",
       "      <th></th>\n",
       "      <th>AcademicYear</th>\n",
       "      <th>LevelOfStudy</th>\n",
       "      <th>ProgrammeCategory</th>\n",
       "      <th>Sex</th>\n",
       "      <th>Headcount</th>\n",
       "    </tr>\n",
       "  </thead>\n",
       "  <tbody>\n",
       "    <tr>\n",
       "      <th>605</th>\n",
       "      <td>2020/21</td>\n",
       "      <td>Sub-degree</td>\n",
       "      <td>Engineering and Technology</td>\n",
       "      <td>M</td>\n",
       "      <td>331</td>\n",
       "    </tr>\n",
       "    <tr>\n",
       "      <th>617</th>\n",
       "      <td>2020/21</td>\n",
       "      <td>Undergraduate</td>\n",
       "      <td>Engineering and Technology</td>\n",
       "      <td>M</td>\n",
       "      <td>2829</td>\n",
       "    </tr>\n",
       "    <tr>\n",
       "      <th>631</th>\n",
       "      <td>2020/21</td>\n",
       "      <td>Taught Postgraduate</td>\n",
       "      <td>Engineering and Technology</td>\n",
       "      <td>M</td>\n",
       "      <td>76</td>\n",
       "    </tr>\n",
       "    <tr>\n",
       "      <th>645</th>\n",
       "      <td>2020/21</td>\n",
       "      <td>Research Postgraduate</td>\n",
       "      <td>Engineering and Technology</td>\n",
       "      <td>M</td>\n",
       "      <td>568</td>\n",
       "    </tr>\n",
       "  </tbody>\n",
       "</table>\n",
       "</div>"
      ],
      "text/plain": [
       "    AcademicYear           LevelOfStudy           ProgrammeCategory Sex  \\\n",
       "605      2020/21             Sub-degree  Engineering and Technology   M   \n",
       "617      2020/21          Undergraduate  Engineering and Technology   M   \n",
       "631      2020/21    Taught Postgraduate  Engineering and Technology   M   \n",
       "645      2020/21  Research Postgraduate  Engineering and Technology   M   \n",
       "\n",
       "     Headcount  \n",
       "605        331  \n",
       "617       2829  \n",
       "631         76  \n",
       "645        568  "
      ]
     },
     "execution_count": 190,
     "metadata": {},
     "output_type": "execute_result"
    }
   ],
   "source": [
    "engr_m_2021"
   ]
  },
  {
   "cell_type": "code",
   "execution_count": 191,
   "metadata": {},
   "outputs": [
    {
     "data": {
      "image/png": "[encoded data removed]",
      "text/plain": [
       "<Figure size 432x288 with 1 Axes>"
      ]
     },
     "metadata": {},
     "output_type": "display_data"
    }
   ],
   "source": [
    "plt.pie(engr_m_2021['Headcount'], labels=engr_m_2021['LevelOfStudy'])\n",
    "plt.show()"
   ]
  },
  {
   "cell_type": "code",
   "execution_count": 192,
   "metadata": {},
   "outputs": [
    {
     "data": {
      "text/html": [
       "<div>\n",
       "<style scoped>\n",
       "    .dataframe tbody tr th:only-of-type {\n",
       "        vertical-align: middle;\n",
       "    }\n",
       "\n",
       "    .dataframe tbody tr th {\n",
       "        vertical-align: top;\n",
       "    }\n",
       "\n",
       "    .dataframe thead th {\n",
       "        text-align: right;\n",
       "    }\n",
       "</style>\n",
       "<table border=\"1\" class=\"dataframe\">\n",
       "  <thead>\n",
       "    <tr style=\"text-align: right;\">\n",
       "      <th></th>\n",
       "      <th>AcademicYear</th>\n",
       "      <th>LevelOfStudy</th>\n",
       "      <th>ProgrammeCategory</th>\n",
       "      <th>Sex</th>\n",
       "      <th>Headcount</th>\n",
       "    </tr>\n",
       "  </thead>\n",
       "  <tbody>\n",
       "    <tr>\n",
       "      <th>605</th>\n",
       "      <td>2020/21</td>\n",
       "      <td>Sub-degree</td>\n",
       "      <td>Engineering and Technology</td>\n",
       "      <td>M</td>\n",
       "      <td>331</td>\n",
       "    </tr>\n",
       "    <tr>\n",
       "      <th>617</th>\n",
       "      <td>2020/21</td>\n",
       "      <td>Undergraduate</td>\n",
       "      <td>Engineering and Technology</td>\n",
       "      <td>M</td>\n",
       "      <td>2829</td>\n",
       "    </tr>\n",
       "    <tr>\n",
       "      <th>631</th>\n",
       "      <td>2020/21</td>\n",
       "      <td>Taught Postgraduate</td>\n",
       "      <td>Engineering and Technology</td>\n",
       "      <td>M</td>\n",
       "      <td>76</td>\n",
       "    </tr>\n",
       "    <tr>\n",
       "      <th>645</th>\n",
       "      <td>2020/21</td>\n",
       "      <td>Research Postgraduate</td>\n",
       "      <td>Engineering and Technology</td>\n",
       "      <td>M</td>\n",
       "      <td>568</td>\n",
       "    </tr>\n",
       "  </tbody>\n",
       "</table>\n",
       "</div>"
      ],
      "text/plain": [
       "    AcademicYear           LevelOfStudy           ProgrammeCategory Sex  \\\n",
       "605      2020/21             Sub-degree  Engineering and Technology   M   \n",
       "617      2020/21          Undergraduate  Engineering and Technology   M   \n",
       "631      2020/21    Taught Postgraduate  Engineering and Technology   M   \n",
       "645      2020/21  Research Postgraduate  Engineering and Technology   M   \n",
       "\n",
       "     Headcount  \n",
       "605        331  \n",
       "617       2829  \n",
       "631         76  \n",
       "645        568  "
      ]
     },
     "execution_count": 192,
     "metadata": {},
     "output_type": "execute_result"
    }
   ],
   "source": [
    "engr_m_2021"
   ]
  },
  {
   "cell_type": "code",
   "execution_count": 193,
   "metadata": {},
   "outputs": [],
   "source": [
    "engr_m_2021_sorted = engr_m_2021.sort_values('Headcount', ascending=False)"
   ]
  },
  {
   "cell_type": "code",
   "execution_count": 194,
   "metadata": {},
   "outputs": [
    {
     "data": {
      "image/png": "[encoded data removed]",
      "text/plain": [
       "<Figure size 432x288 with 1 Axes>"
      ]
     },
     "metadata": {},
     "output_type": "display_data"
    }
   ],
   "source": [
    "plt.pie(engr_m_2021_sorted['Headcount'], labels=engr_m_2021_sorted['LevelOfStudy'])\n",
    "plt.show()"
   ]
  },
  {
   "cell_type": "code",
   "execution_count": 195,
   "metadata": {},
   "outputs": [
    {
     "data": {
      "image/png": "[encoded data removed]",
      "text/plain": [
       "<Figure size 432x288 with 1 Axes>"
      ]
     },
     "metadata": {},
     "output_type": "display_data"
    }
   ],
   "source": [
    "plt.pie(ug_m_2021['Headcount'], labels=ug_m_2021['ProgrammeCategory'])\n",
    "plt.show()"
   ]
  },
  {
   "cell_type": "code",
   "execution_count": 196,
   "metadata": {},
   "outputs": [
    {
     "data": {
      "text/html": [
       "<div>\n",
       "<style scoped>\n",
       "    .dataframe tbody tr th:only-of-type {\n",
       "        vertical-align: middle;\n",
       "    }\n",
       "\n",
       "    .dataframe tbody tr th {\n",
       "        vertical-align: top;\n",
       "    }\n",
       "\n",
       "    .dataframe thead th {\n",
       "        text-align: right;\n",
       "    }\n",
       "</style>\n",
       "<table border=\"1\" class=\"dataframe\">\n",
       "  <thead>\n",
       "    <tr style=\"text-align: right;\">\n",
       "      <th></th>\n",
       "      <th>AcademicYear</th>\n",
       "      <th>LevelOfStudy</th>\n",
       "      <th>ProgrammeCategory</th>\n",
       "      <th>Sex</th>\n",
       "      <th>Headcount</th>\n",
       "    </tr>\n",
       "  </thead>\n",
       "  <tbody>\n",
       "    <tr>\n",
       "      <th>611</th>\n",
       "      <td>2020/21</td>\n",
       "      <td>Undergraduate</td>\n",
       "      <td>Arts and Humanities</td>\n",
       "      <td>M</td>\n",
       "      <td>918</td>\n",
       "    </tr>\n",
       "    <tr>\n",
       "      <th>613</th>\n",
       "      <td>2020/21</td>\n",
       "      <td>Undergraduate</td>\n",
       "      <td>Business and Management</td>\n",
       "      <td>M</td>\n",
       "      <td>1959</td>\n",
       "    </tr>\n",
       "    <tr>\n",
       "      <th>615</th>\n",
       "      <td>2020/21</td>\n",
       "      <td>Undergraduate</td>\n",
       "      <td>Education</td>\n",
       "      <td>M</td>\n",
       "      <td>265</td>\n",
       "    </tr>\n",
       "    <tr>\n",
       "      <th>617</th>\n",
       "      <td>2020/21</td>\n",
       "      <td>Undergraduate</td>\n",
       "      <td>Engineering and Technology</td>\n",
       "      <td>M</td>\n",
       "      <td>2829</td>\n",
       "    </tr>\n",
       "    <tr>\n",
       "      <th>619</th>\n",
       "      <td>2020/21</td>\n",
       "      <td>Undergraduate</td>\n",
       "      <td>Medicine, Dentistry and Health</td>\n",
       "      <td>M</td>\n",
       "      <td>817</td>\n",
       "    </tr>\n",
       "    <tr>\n",
       "      <th>621</th>\n",
       "      <td>2020/21</td>\n",
       "      <td>Undergraduate</td>\n",
       "      <td>Sciences</td>\n",
       "      <td>M</td>\n",
       "      <td>2251</td>\n",
       "    </tr>\n",
       "    <tr>\n",
       "      <th>623</th>\n",
       "      <td>2020/21</td>\n",
       "      <td>Undergraduate</td>\n",
       "      <td>Social Sciences</td>\n",
       "      <td>M</td>\n",
       "      <td>1314</td>\n",
       "    </tr>\n",
       "  </tbody>\n",
       "</table>\n",
       "</div>"
      ],
      "text/plain": [
       "    AcademicYear   LevelOfStudy               ProgrammeCategory Sex  Headcount\n",
       "611      2020/21  Undergraduate             Arts and Humanities   M        918\n",
       "613      2020/21  Undergraduate         Business and Management   M       1959\n",
       "615      2020/21  Undergraduate                       Education   M        265\n",
       "617      2020/21  Undergraduate      Engineering and Technology   M       2829\n",
       "619      2020/21  Undergraduate  Medicine, Dentistry and Health   M        817\n",
       "621      2020/21  Undergraduate                        Sciences   M       2251\n",
       "623      2020/21  Undergraduate                 Social Sciences   M       1314"
      ]
     },
     "execution_count": 196,
     "metadata": {},
     "output_type": "execute_result"
    }
   ],
   "source": [
    "ug_m_2021"
   ]
  },
  {
   "cell_type": "markdown",
   "metadata": {
    "scrolled": true
   },
   "source": [
    "## Saving Plots\n",
    "\n",
    "Use `savefig()` function to save plots as external files.\n",
    "\n",
    "```\n",
    "plt.pie(ug_m_2021['Headcount'], labels=ug_m_2021['ProgrammeCategory'])\n",
    "plt.savefig(\"./plots/pie.png\")\n",
    "plt.show()\n",
    "```"
   ]
  },
  {
   "cell_type": "code",
   "execution_count": 197,
   "metadata": {},
   "outputs": [
    {
     "data": {
      "image/png": "[encoded data removed]",
      "text/plain": [
       "<Figure size 432x288 with 1 Axes>"
      ]
     },
     "metadata": {},
     "output_type": "display_data"
    }
   ],
   "source": [
    "plt.pie(ug_m_2021['Headcount'], labels=ug_m_2021['ProgrammeCategory'])\n",
    "plt.savefig(\"./plots/pie.png\")\n",
    "plt.show()"
   ]
  },
  {
   "cell_type": "markdown",
   "metadata": {},
   "source": [
    "# More on Matplotlib\n",
    "\n",
    "![Matplotlib Tutorial](https://matplotlib.org/3.5.0/_images/sphx_glr_pyplot_005.png)\n",
    "[Matplotlib Tutorial](https://matplotlib.org/stable/tutorials/index.html)"
   ]
  }
 ],
 "metadata": {
  "kernelspec": {
   "display_name": "Python 3 (ipykernel)",
   "language": "python",
   "name": "python3"
  },
  "language_info": {
   "codemirror_mode": {
    "name": "ipython",
    "version": 3
   },
   "file_extension": ".py",
   "mimetype": "text/x-python",
   "name": "python",
   "nbconvert_exporter": "python",
   "pygments_lexer": "ipython3",
   "version": "3.9.12"
  },
  "toc": {
   "base_numbering": 1,
   "nav_menu": {},
   "number_sections": true,
   "sideBar": true,
   "skip_h1_title": false,
   "title_cell": "Table of Contents",
   "title_sidebar": "Contents",
   "toc_cell": false,
   "toc_position": {
    "height": "calc(100% - 180px)",
    "left": "10px",
    "top": "150px",
    "width": "250.875px"
   },
   "toc_section_display": true,
   "toc_window_display": true
  }
 },
 "nbformat": 4,
 "nbformat_minor": 4
}
