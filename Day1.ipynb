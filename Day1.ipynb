{
 "cells": [
  {
   "cell_type": "markdown",
   "metadata": {},
   "source": [
    "# Python Intermediate - Day 1\n",
    "---\n",
    "This is an intermediate level of Python programming. \n",
    "\n",
    "If you are new to Python programming, you are suggested to start with Python Introduction.  \n",
    "\n",
    "You can download the notebooks for Python Intro by the link below.\n",
    "\n",
    "[Python Intro](https://github.com/ngsanluk/PythonIntro-Blank)\n"
   ]
  },
  {
   "cell_type": "markdown",
   "metadata": {},
   "source": [
    "# Using Pandas\n",
    "- `pandas` is a fast, powerful, flexible and easy to use open source data analysis and manipulation add-on for Python\n",
    "- `pandas` is built on top of `numpy` and therefore quite often these two are used together."
   ]
  },
  {
   "cell_type": "markdown",
   "metadata": {},
   "source": [
    "## Import `pandas`\n",
    "To import `numpy` and `pandas`\n",
    "\n",
    "* `import numpy as np` # np is the alias\n",
    "* `import pandas as pd` # pd is the alias\n"
   ]
  },
  {
   "cell_type": "code",
   "execution_count": null,
   "metadata": {},
   "outputs": [],
   "source": []
  },
  {
   "cell_type": "markdown",
   "metadata": {},
   "source": [
    "## Check Installed Version\n",
    "\n",
    "To check the version of `numpy` and `pandas`, type the following commands\n",
    "\n",
    "```\n",
    "print(np.__version__)\n",
    "print(pd.__version__)\n",
    "```"
   ]
  },
  {
   "cell_type": "code",
   "execution_count": null,
   "metadata": {},
   "outputs": [],
   "source": []
  },
  {
   "cell_type": "code",
   "execution_count": null,
   "metadata": {},
   "outputs": [],
   "source": []
  },
  {
   "cell_type": "markdown",
   "metadata": {},
   "source": [
    "## Some Handy Features\n",
    "\n",
    "Some quickhands to speed up your code typing.\n",
    "\n",
    "**Creating array**\n",
    "\n",
    "The following statement involves too many special characters to type and therefore it will be slow to enter.\n",
    "\n",
    "```\n",
    "l = ['A', 'B', 'C', 'D', 'E']\n",
    "``` \n",
    "\n",
    "Using `list()` function would pick a character a time and make it a independant list member.\n",
    "```\n",
    "l = list('ABCDE') # \n",
    "```\n",
    "\n",
    "Use `split()` function to separate strings with SPACES in-between\n",
    "```\n",
    "l = 'A B C D E'.split()\n",
    "```\n",
    "\n",
    "**Generates a range of dates**:\n",
    "```\n",
    "dates = pd.date_range('20210101', periods=7) \n",
    "type(dates) # returns pandas.core.indexes.datetimes.DatetimeIndex\n",
    "```"
   ]
  },
  {
   "cell_type": "code",
   "execution_count": null,
   "metadata": {},
   "outputs": [],
   "source": []
  },
  {
   "cell_type": "code",
   "execution_count": null,
   "metadata": {},
   "outputs": [],
   "source": []
  },
  {
   "cell_type": "code",
   "execution_count": null,
   "metadata": {},
   "outputs": [],
   "source": []
  },
  {
   "cell_type": "code",
   "execution_count": null,
   "metadata": {},
   "outputs": [],
   "source": []
  },
  {
   "cell_type": "code",
   "execution_count": null,
   "metadata": {},
   "outputs": [],
   "source": []
  },
  {
   "cell_type": "markdown",
   "metadata": {},
   "source": [
    "## Use `type()` function to check type\n",
    "\n",
    "Remember you can use `type()` function to verify the type of a variable or the returned object from a function call.\n",
    "\n",
    "**Example**:\n",
    "```\n",
    "type(dates)\n",
    "```"
   ]
  },
  {
   "cell_type": "code",
   "execution_count": null,
   "metadata": {},
   "outputs": [],
   "source": []
  },
  {
   "cell_type": "markdown",
   "metadata": {},
   "source": [
    "# Keyboard Shortcuts\n",
    "\n",
    "A few keyboard shortcuts will speed up your code typing in great deal.  \n",
    "\n",
    "To apply keyboard shortcuts, you must be in **COMMAND** mode.\n",
    "\n",
    "When a cell is in EDIT mode, the border color is GREEN.\n",
    "\n",
    "When a cell is in COMMAND mode, the border color is BLUE."
   ]
  },
  {
   "cell_type": "markdown",
   "metadata": {},
   "source": [
    "## Switching between COMMAND / EDIT modes\n",
    "* Press `ESC` to switch to COMMAND mode (while you are in EDIT mode)\n",
    "* Press `ENTER` to switch to EDIT mode (while you are in COMMAND mode)\n",
    "\n",
    "To apply other keyboard shortcuts, make sure you are in **COMMAND** mode (Cell border in BLUE)"
   ]
  },
  {
   "cell_type": "markdown",
   "metadata": {},
   "source": [
    "## Operating/Managing Codes\n",
    "\n",
    "* `SHIFT + ENTER`: Run current cell and move to next cell\n",
    "* `CMD + ENTER` (Mac) or `CTRL + ENTER` (Windows): run and stay at the current cell\n",
    "* `A`: insert new cell ABOVE\n",
    "* `B`: insert new cell BELOW\n",
    "* `D + D`: delete the current celll\n",
    "* `M`: change a cell to **Markdown** type\n",
    "* `Y`: change a cell to **Code** type\n",
    "* `C`: copy\n",
    "* `V`: paste\n",
    "* `o`: show/hide cell's output\n",
    "* `SHIFT + UP/DOWN`: to select multiple cells"
   ]
  },
  {
   "cell_type": "markdown",
   "metadata": {},
   "source": [
    "## Spliting/Merging Cell(s)\n",
    "* `SHIFT + CTRL + -` (Mac/Windows): split current cells into two cells from where your cursor is currently at.\n",
    "* `SHIFT + M` (Mac/Windows): Merge multiple cells"
   ]
  },
  {
   "cell_type": "markdown",
   "metadata": {},
   "source": [
    "## Code Completion and Helps\n",
    "* `SHIFT + TAB`: after you input code keyword, press this key combination to show helps\n",
    "* `. + TAB`: type `.` and press `TAB` for code completion\n",
    "\n",
    "**Example**:\n",
    "\n",
    "Type `pd.read_` + `TAB`, you wil see prompts of whole list of functions name for reading different formats of file."
   ]
  },
  {
   "cell_type": "code",
   "execution_count": null,
   "metadata": {},
   "outputs": [],
   "source": []
  },
  {
   "cell_type": "markdown",
   "metadata": {},
   "source": [
    "## Multiple Lines/Cursors\n",
    "\n",
    "Press and hold `OPTION` (on Mac) or `ALT` (on Windows) to select mulple lines\n",
    "\n",
    "Press and hold `OPTION + CMD` (on Mac) or `ALT + CTRL` (on Windows) to add more cursor"
   ]
  },
  {
   "cell_type": "code",
   "execution_count": null,
   "metadata": {},
   "outputs": [],
   "source": []
  },
  {
   "cell_type": "markdown",
   "metadata": {},
   "source": [
    "# Help\n",
    "\n",
    "Prepend a `?` to a library name, method name or variable name, you can access the Docstring quick reference\n",
    "\n",
    "**Example**\n",
    "\n",
    "```\n",
    "?print\n",
    "?str.upper\n",
    "?pd.read_csv\n",
    "?pd.read_excel\n",
    "```\n",
    "\n",
    "**Or use `help()` function**\n",
    "```\n",
    "help(print)\n",
    "help(str.upper)\n",
    "help(pd.read_csv)\n",
    "help(pd.read_excel)\n",
    "```"
   ]
  },
  {
   "cell_type": "code",
   "execution_count": null,
   "metadata": {},
   "outputs": [],
   "source": []
  },
  {
   "cell_type": "code",
   "execution_count": null,
   "metadata": {},
   "outputs": [],
   "source": []
  },
  {
   "cell_type": "code",
   "execution_count": null,
   "metadata": {},
   "outputs": [],
   "source": []
  },
  {
   "cell_type": "code",
   "execution_count": null,
   "metadata": {},
   "outputs": [],
   "source": []
  },
  {
   "cell_type": "markdown",
   "metadata": {},
   "source": [
    "# EXERCISE : Shortcuts Practicing\n",
    "\n",
    "Picking up a few shortcuts will speed up your code typing by great deal.  \n",
    "\n",
    "You have 3 minutes to practice the above mentioned keyboard shortcuts.\n"
   ]
  },
  {
   "cell_type": "code",
   "execution_count": null,
   "metadata": {},
   "outputs": [],
   "source": []
  },
  {
   "cell_type": "code",
   "execution_count": null,
   "metadata": {},
   "outputs": [],
   "source": []
  },
  {
   "cell_type": "code",
   "execution_count": null,
   "metadata": {},
   "outputs": [],
   "source": []
  },
  {
   "cell_type": "code",
   "execution_count": null,
   "metadata": {},
   "outputs": [],
   "source": []
  },
  {
   "cell_type": "markdown",
   "metadata": {},
   "source": [
    "Type `address.` and followed by pressing `TAB` key\n",
    "you will see a list of function that can be applied to a string type"
   ]
  },
  {
   "cell_type": "code",
   "execution_count": null,
   "metadata": {},
   "outputs": [],
   "source": []
  },
  {
   "cell_type": "markdown",
   "metadata": {},
   "source": [
    "# Markdown"
   ]
  },
  {
   "cell_type": "markdown",
   "metadata": {},
   "source": [
    "## What is Markdown\n",
    "\n",
    "Markdown is a lightweight markup language that you can use to add formatting elements to plaintext text documents.\n",
    "\n",
    "Markdown is widely used in Jupyter Notebook for adding descriptive contents and instructions."
   ]
  },
  {
   "cell_type": "markdown",
   "metadata": {},
   "source": [
    "## Basic Syntax\n",
    "\n",
    "![Markdown Cheat Sheet](https://res.cloudinary.com/practicaldev/image/fetch/s--2rTn_7XO--/c_limit%2Cf_auto%2Cfl_progressive%2Cq_auto%2Cw_880/https://dev-to-uploads.s3.amazonaws.com/i/5zhubbpov3m3ly9a1t9c.png)"
   ]
  },
  {
   "cell_type": "markdown",
   "metadata": {},
   "source": [
    "## More on Markdown\n",
    "\n",
    "[More Markdown Syntax](https://www.markdownguide.org/basic-syntax/)"
   ]
  },
  {
   "cell_type": "markdown",
   "metadata": {},
   "source": [
    "## Markdown Playground \n",
    "\n",
    "The following page let you type markdown and provide instant live rendering/preview\n",
    "\n",
    "[dillinger.io](https://dillinger.io/)"
   ]
  },
  {
   "cell_type": "markdown",
   "metadata": {},
   "source": [
    "# EXERCISE: Markdown Practicing"
   ]
  },
  {
   "cell_type": "code",
   "execution_count": null,
   "metadata": {},
   "outputs": [],
   "source": []
  },
  {
   "cell_type": "code",
   "execution_count": null,
   "metadata": {},
   "outputs": [],
   "source": []
  },
  {
   "cell_type": "code",
   "execution_count": null,
   "metadata": {},
   "outputs": [],
   "source": []
  },
  {
   "cell_type": "markdown",
   "metadata": {},
   "source": [
    "# IPython Magic Commands\n",
    "\n",
    "**A few common magic commands**\n",
    "\n",
    "* `%pwd`: shows working directory\n",
    "* `%ls`: lists the files/folders under current directory\n",
    "* `%cd`: change the working directory to certain folder\n",
    "\n",
    "\n",
    "**To list all the IPython magic commands, type**\n",
    "```\n",
    "%lsmagic\n",
    "```"
   ]
  },
  {
   "cell_type": "code",
   "execution_count": null,
   "metadata": {},
   "outputs": [],
   "source": []
  },
  {
   "cell_type": "code",
   "execution_count": null,
   "metadata": {},
   "outputs": [],
   "source": []
  },
  {
   "cell_type": "markdown",
   "metadata": {},
   "source": [
    "# Delete a variable from kernel\n",
    "\n",
    "Use the following command to delete variable from environment\n",
    "\n",
    "`del varaialb_name`\n",
    "\n",
    "e.g.:\n",
    "\n",
    "```\n",
    "greeting = \"hello from Sunny\"\n",
    "print(greeting)\n",
    "del greeting\n",
    "print(greeting) # since greeting is deleted, this line will throw an error\n",
    "\n",
    "```"
   ]
  },
  {
   "cell_type": "code",
   "execution_count": null,
   "metadata": {},
   "outputs": [],
   "source": []
  },
  {
   "cell_type": "code",
   "execution_count": null,
   "metadata": {},
   "outputs": [],
   "source": []
  },
  {
   "cell_type": "code",
   "execution_count": null,
   "metadata": {},
   "outputs": [],
   "source": []
  },
  {
   "cell_type": "markdown",
   "metadata": {},
   "source": [
    "# Pandas `DataFrame`\n",
    "\n",
    "A `DataFrame` is a two dimensional data structure.  \n",
    "\n",
    "It's one of the most widely used format for data science.\n",
    "\n",
    "**To declare a dataframe, use `pd.DataFrame()` function**:\n",
    "```\n",
    "students = pd.DataFrame({\n",
    "    \"Name\": [\"Andy\", \"Ben\", \"Cathy\", \"Debra\", \"Eva\"],\n",
    "    \"Age\": [20, 22, 23, 22, 21],\n",
    "    \"Sex\": [\"male\", \"male\", \"female\", \"female\", \"female\"],\n",
    "    \"Year\": [1, 3, 4, 3, 2]\n",
    "})\n",
    "```\n",
    "\n",
    "**Check the type by using `type()` function**\n",
    "```\n",
    "print(type(students)) # it returns pandas.core.frame.DataFrame\n",
    "\n",
    "```\n",
    "**In real situation**\n",
    "- When we need to use `DataFrame`, they are seldom loaded like above.\n",
    "- Instead, we usually import data from external files like csv, excel, json"
   ]
  },
  {
   "cell_type": "code",
   "execution_count": null,
   "metadata": {},
   "outputs": [],
   "source": []
  },
  {
   "cell_type": "code",
   "execution_count": null,
   "metadata": {},
   "outputs": [],
   "source": []
  },
  {
   "cell_type": "code",
   "execution_count": null,
   "metadata": {},
   "outputs": [],
   "source": []
  },
  {
   "cell_type": "markdown",
   "metadata": {},
   "source": [
    "# `DataFrame` Information\n",
    "\n",
    "* `students.shape` #returns the dimension of data-frame in the form of tuple\n",
    "* `students.shape[0]` #retrieves the first elememnt of the returned tuple.  it represents the number of row\n",
    "* `students.info()` #returns the detailed information for a data-frame\n",
    "* `students.describe()` #shows the basic statistical summary such as min, max, average of a column (only for numeric columns)\n"
   ]
  },
  {
   "cell_type": "code",
   "execution_count": null,
   "metadata": {},
   "outputs": [],
   "source": []
  },
  {
   "cell_type": "code",
   "execution_count": null,
   "metadata": {},
   "outputs": [],
   "source": []
  },
  {
   "cell_type": "code",
   "execution_count": null,
   "metadata": {},
   "outputs": [],
   "source": []
  },
  {
   "cell_type": "code",
   "execution_count": null,
   "metadata": {},
   "outputs": [],
   "source": []
  },
  {
   "cell_type": "markdown",
   "metadata": {},
   "source": [
    "## Converting pandas dataframe to numpy array\n",
    "\n",
    "Many functions only accept numpy array or python dictionary as arguments.  \n",
    "\n",
    "In these cases, type conversion is required.\n",
    "\n",
    "To convert dataframe to numpy array\n",
    "```\n",
    "students.to_numpy()\n",
    "students.values\n",
    "```\n",
    "\n",
    "To convert dataframe to Python dictionary\n",
    "```\n",
    "students.to_dict()\n",
    "```"
   ]
  },
  {
   "cell_type": "code",
   "execution_count": null,
   "metadata": {},
   "outputs": [],
   "source": []
  },
  {
   "cell_type": "code",
   "execution_count": null,
   "metadata": {},
   "outputs": [],
   "source": []
  },
  {
   "cell_type": "code",
   "execution_count": null,
   "metadata": {},
   "outputs": [],
   "source": []
  },
  {
   "cell_type": "markdown",
   "metadata": {},
   "source": [
    "# Selecting Column(s)"
   ]
  },
  {
   "cell_type": "markdown",
   "metadata": {},
   "source": [
    "## To Select a Column \n",
    "\n",
    "Specify a **column name** (in string) to indicate which column you want to retrieve\n",
    "\n",
    "**Example**\n",
    "```\n",
    "students['Name']\n",
    "name = students['Name']\n",
    "print(type(name)) # returns pandas.core.series.Series\n",
    "```\n",
    "\n",
    "A Pandas Series is like a column in a table.\n",
    "\n",
    "It is a one-dimensional array holding data of any type."
   ]
  },
  {
   "cell_type": "code",
   "execution_count": null,
   "metadata": {},
   "outputs": [],
   "source": []
  },
  {
   "cell_type": "code",
   "execution_count": null,
   "metadata": {},
   "outputs": [],
   "source": []
  },
  {
   "cell_type": "markdown",
   "metadata": {},
   "source": [
    "## Retrieving Multiple Columns\n",
    "Use `[]` (square bracket) with a column names (in string) to indicate which columns you want to retrieve\n",
    "\n",
    "**Example**\n",
    "\n",
    "* `columns = ['Name', 'Year']` # declare the columns you want in a list\n",
    "* `print(students[columns])` # pass the column list as paramenter to the dataframe\n",
    "* `print(type(students[columns]))` # Returns **pandas.core.frame.DataFrame**\n",
    "\n",
    "A quick hand to write the above code is using **double** square brackets\n",
    "```\n",
    "name_and_year = students[['Name', 'Year']] # doubled square bracket are used here\n",
    "print(type(name_and_year)) # Returns **pandas.core.frame.DataFrame**\n",
    "```\n",
    "**Below is a mistake**\n",
    "```\n",
    "name_and_year = students['Name', 'Year'] # this is a mistake\n",
    "```"
   ]
  },
  {
   "cell_type": "code",
   "execution_count": null,
   "metadata": {},
   "outputs": [],
   "source": []
  },
  {
   "cell_type": "code",
   "execution_count": null,
   "metadata": {},
   "outputs": [],
   "source": []
  },
  {
   "cell_type": "code",
   "execution_count": null,
   "metadata": {},
   "outputs": [],
   "source": []
  },
  {
   "cell_type": "markdown",
   "metadata": {},
   "source": [
    "# Selecting Row(s)"
   ]
  },
  {
   "cell_type": "markdown",
   "metadata": {},
   "source": [
    "## Use `loc[]` to Locate Row\n",
    "Pandas use the `loc` attribute to return one or more specified row(s)\n",
    "\n",
    "Example:\n",
    "```\n",
    "students.loc[0] # specify by row number\n",
    "students.loc[1] # specify by row number\n",
    "type(students.loc[0]) # returns pandas.core.series.Series\n",
    "```"
   ]
  },
  {
   "cell_type": "code",
   "execution_count": null,
   "metadata": {},
   "outputs": [],
   "source": []
  },
  {
   "cell_type": "code",
   "execution_count": null,
   "metadata": {},
   "outputs": [],
   "source": []
  },
  {
   "cell_type": "code",
   "execution_count": null,
   "metadata": {},
   "outputs": [],
   "source": []
  },
  {
   "cell_type": "markdown",
   "metadata": {},
   "source": [
    "## Alternative to Locate Multiple Rows\n",
    "Provide a list of row number: `[0, 2]`\n",
    "\n",
    "**Example**:\n",
    "```\n",
    "rows = [0, 2] # defines a list of row number separated by comma\n",
    "students.loc[rows] # use the defined row numbers as parameter for loc[]\n",
    "```\n",
    "\n",
    "**Or simplified it by one liner**:\n",
    "```\n",
    "students.loc[[0, 2]]\n",
    "type(students.loc[[0, 2]])\n",
    "```\n",
    "\n",
    "**Below is a mistake**\n",
    "```\n",
    "students.loc[0, 2] # have to use double pairs of squar brackets\n",
    "```\n"
   ]
  },
  {
   "cell_type": "code",
   "execution_count": null,
   "metadata": {},
   "outputs": [],
   "source": []
  },
  {
   "cell_type": "code",
   "execution_count": null,
   "metadata": {},
   "outputs": [],
   "source": []
  },
  {
   "cell_type": "markdown",
   "metadata": {},
   "source": [
    "## Retrieving Rows with Range\n",
    "- Provide the starting row number and ending row number\n",
    "- Use `:` to separate the starting row number and ending row number\n",
    "\n",
    "Example:\n",
    "\n",
    "* `students.loc[0:2]`  # selecting from position 0 to 2 (inclusive)\n",
    "* `students.loc[:2]` # omitting the starting index. selecting from position 0 to 2 \n",
    "* `students.loc[2:]` # omitting the ending index. selecting from position 2 all the way to the end\n",
    "\n",
    "Short hand:\n",
    "(Works a bit different. It's exclusive. The end index is NOT included in the result)\n",
    "\n",
    "* `students[0:2]` # from position 0 to 1. End index (row 2) is NOT included.\n",
    "* `students[:2]` \n",
    "* `students[2:]` # from position 2 to the end\n",
    "\n"
   ]
  },
  {
   "cell_type": "code",
   "execution_count": null,
   "metadata": {},
   "outputs": [],
   "source": []
  },
  {
   "cell_type": "code",
   "execution_count": null,
   "metadata": {},
   "outputs": [],
   "source": []
  },
  {
   "cell_type": "code",
   "execution_count": null,
   "metadata": {},
   "outputs": [],
   "source": []
  },
  {
   "cell_type": "markdown",
   "metadata": {},
   "source": [
    "# Filtering Rows\n",
    "- It scans through each row\n",
    "- Perform a logical operation on a column of each row \n",
    "- It returns `True` or `False` as result for the comparison operation on that row\n",
    "\n",
    "**Example**:\n",
    "\n",
    "* `filter = students['Age']<23` # this returns a Series of True/False\n",
    "* `print(filter)`\n",
    "* `type(filter)` # It a Pandas Series of True/False\n",
    "* `students[filter]` # use the filter as parameters. A True means that row will stay.  A False means that row will be kicked out.\n",
    "\n",
    "\n",
    "**It's common to code in one-liner manner**\n",
    "```\n",
    "students[students['Age']<23]\n",
    "```\n"
   ]
  },
  {
   "cell_type": "code",
   "execution_count": null,
   "metadata": {},
   "outputs": [],
   "source": []
  },
  {
   "cell_type": "code",
   "execution_count": null,
   "metadata": {},
   "outputs": [],
   "source": []
  },
  {
   "cell_type": "code",
   "execution_count": null,
   "metadata": {},
   "outputs": [],
   "source": []
  },
  {
   "cell_type": "code",
   "execution_count": null,
   "metadata": {},
   "outputs": [],
   "source": []
  },
  {
   "cell_type": "code",
   "execution_count": null,
   "metadata": {},
   "outputs": [],
   "source": []
  },
  {
   "cell_type": "markdown",
   "metadata": {},
   "source": [
    "## Filtering Rows with Multiple Conditions\n",
    "**Example**:\n",
    "\n",
    "* `filter = students['Age']<23`\n",
    "* `filter2 = students['Year']==3`\n",
    "* `students[filter & filter2]` # &: AND logical operator\n",
    "* `students[filter | filter2]` # |: OR logical operator\n",
    "\n",
    "\n",
    "**Or in one-liner**\n",
    "\n",
    "* `students[(students['Age']<23) & (students['Year']==3)]` # make sure you include the a pair of () for each logical operation\n",
    "* `students[(students['Age']<23) | (students['Year']==3)]` # make sure you include the a pair of () for each logical operation\n"
   ]
  },
  {
   "cell_type": "code",
   "execution_count": null,
   "metadata": {},
   "outputs": [],
   "source": []
  },
  {
   "cell_type": "code",
   "execution_count": null,
   "metadata": {},
   "outputs": [],
   "source": []
  },
  {
   "cell_type": "code",
   "execution_count": null,
   "metadata": {},
   "outputs": [],
   "source": []
  },
  {
   "cell_type": "code",
   "execution_count": null,
   "metadata": {},
   "outputs": [],
   "source": []
  },
  {
   "cell_type": "code",
   "execution_count": null,
   "metadata": {},
   "outputs": [],
   "source": []
  },
  {
   "cell_type": "code",
   "execution_count": null,
   "metadata": {},
   "outputs": [],
   "source": []
  },
  {
   "cell_type": "markdown",
   "metadata": {},
   "source": [
    "## Practice One-liner Approach"
   ]
  },
  {
   "cell_type": "code",
   "execution_count": 59,
   "metadata": {},
   "outputs": [
    {
     "data": {
      "text/html": [
       "<div>\n",
       "<style scoped>\n",
       "    .dataframe tbody tr th:only-of-type {\n",
       "        vertical-align: middle;\n",
       "    }\n",
       "\n",
       "    .dataframe tbody tr th {\n",
       "        vertical-align: top;\n",
       "    }\n",
       "\n",
       "    .dataframe thead th {\n",
       "        text-align: right;\n",
       "    }\n",
       "</style>\n",
       "<table border=\"1\" class=\"dataframe\">\n",
       "  <thead>\n",
       "    <tr style=\"text-align: right;\">\n",
       "      <th></th>\n",
       "      <th>Name</th>\n",
       "      <th>Age</th>\n",
       "      <th>Sex</th>\n",
       "      <th>Year</th>\n",
       "    </tr>\n",
       "  </thead>\n",
       "  <tbody>\n",
       "    <tr>\n",
       "      <th>1</th>\n",
       "      <td>Ben</td>\n",
       "      <td>22</td>\n",
       "      <td>male</td>\n",
       "      <td>3</td>\n",
       "    </tr>\n",
       "    <tr>\n",
       "      <th>3</th>\n",
       "      <td>Debra</td>\n",
       "      <td>22</td>\n",
       "      <td>female</td>\n",
       "      <td>3</td>\n",
       "    </tr>\n",
       "  </tbody>\n",
       "</table>\n",
       "</div>"
      ],
      "text/plain": [
       "    Name  Age     Sex  Year\n",
       "1    Ben   22    male     3\n",
       "3  Debra   22  female     3"
      ]
     },
     "execution_count": 59,
     "metadata": {},
     "output_type": "execute_result"
    }
   ],
   "source": [
    "students[(students['Age']<23) & (students['Year']==3)]"
   ]
  },
  {
   "cell_type": "code",
   "execution_count": null,
   "metadata": {},
   "outputs": [],
   "source": [
    "students[(students['Age']<23) | (students['Year']==3)]"
   ]
  },
  {
   "cell_type": "markdown",
   "metadata": {},
   "source": [
    "## `concat()` Function\n",
    "\n",
    "You can use `concat()` function to merge multiple Series to form a data-frame\n",
    "\n",
    "```\n",
    "pd.concat([filter, filter2, (filter & filter2)], axis=1)\n",
    "pd.concat([filter, filter2, (filter | filter2)], axis=1)\n",
    "\n",
    "```"
   ]
  },
  {
   "cell_type": "code",
   "execution_count": null,
   "metadata": {},
   "outputs": [],
   "source": []
  },
  {
   "cell_type": "code",
   "execution_count": null,
   "metadata": {},
   "outputs": [],
   "source": []
  },
  {
   "cell_type": "code",
   "execution_count": null,
   "metadata": {},
   "outputs": [],
   "source": []
  },
  {
   "cell_type": "code",
   "execution_count": null,
   "metadata": {},
   "outputs": [],
   "source": []
  },
  {
   "cell_type": "code",
   "execution_count": null,
   "metadata": {},
   "outputs": [],
   "source": []
  },
  {
   "cell_type": "code",
   "execution_count": null,
   "metadata": {},
   "outputs": [],
   "source": []
  },
  {
   "cell_type": "markdown",
   "metadata": {},
   "source": [
    "## Restricting Rows and Columns\n",
    "You can apply both **row filtering** and **columns selecting** in one statement\n",
    "\n",
    "Example:\n",
    "\n",
    "* `students[students['Year']==3]` # row filtering only\n",
    "* `students[students['Year']==3][['Name', 'Year']]` # row filtering and followed by column selecting.  The code can easily become difficult to read\n"
   ]
  },
  {
   "cell_type": "code",
   "execution_count": null,
   "metadata": {},
   "outputs": [],
   "source": []
  },
  {
   "cell_type": "code",
   "execution_count": null,
   "metadata": {},
   "outputs": [],
   "source": []
  },
  {
   "cell_type": "markdown",
   "metadata": {},
   "source": [
    "## Creating Subset using `loc[]`\n",
    "\n",
    "You can also use `loc[]` to select rows range and columns at the same time"
   ]
  },
  {
   "cell_type": "code",
   "execution_count": null,
   "metadata": {},
   "outputs": [],
   "source": []
  },
  {
   "cell_type": "code",
   "execution_count": null,
   "metadata": {},
   "outputs": [],
   "source": []
  },
  {
   "cell_type": "code",
   "execution_count": null,
   "metadata": {},
   "outputs": [],
   "source": []
  },
  {
   "cell_type": "markdown",
   "metadata": {},
   "source": [
    "# EXERCISE: Row/Column Selecting\n",
    "\n",
    "You have 5 minutes to practice the rows and column Selecting statements\n",
    "\n",
    "Load the **graduates.csv** file as df\n",
    "```\n",
    "df = pd.read_csv('./data/graduates.csv')\n",
    "df.head()\n",
    "df.info()\n",
    "df.desribe()\n",
    "```"
   ]
  },
  {
   "cell_type": "code",
   "execution_count": null,
   "metadata": {},
   "outputs": [],
   "source": []
  },
  {
   "cell_type": "markdown",
   "metadata": {},
   "source": [
    "### Task 1\n",
    "**Select all the rows that LevelOfStudy is  'Undergraduate'**\n",
    "\n",
    "Hints: use `==` to check if the value of `LevelOfStudy` is equivalent to `'Undergraduate'`"
   ]
  },
  {
   "cell_type": "code",
   "execution_count": null,
   "metadata": {},
   "outputs": [],
   "source": []
  },
  {
   "cell_type": "markdown",
   "metadata": {},
   "source": [
    "### Task 2\n",
    "**Select all the rows that `LevelOfStudy` is  'Undergraduate' and `ProgrammeCategory` is 'Business and Management'**\n",
    "\n",
    "Hints: \n",
    "* Use `&` to put together mutilple logical expression\n",
    "* Use `()` to wrap each logical expression"
   ]
  },
  {
   "cell_type": "code",
   "execution_count": null,
   "metadata": {},
   "outputs": [],
   "source": []
  },
  {
   "cell_type": "markdown",
   "metadata": {},
   "source": [
    "### Task 3\n",
    "**Select all the rows that `LevelOfStudy` is  'Undergraduate' and `ProgrammeCategory` is 'Business and Management' and for rows of 'male' only**\n",
    "\n",
    "Hints: \n",
    "* Use `&` to put together mutilple logical expression\n",
    "* Use `()` to wrap each logical expression"
   ]
  },
  {
   "cell_type": "code",
   "execution_count": null,
   "metadata": {},
   "outputs": [],
   "source": []
  },
  {
   "cell_type": "markdown",
   "metadata": {},
   "source": [
    "### Task 4\n",
    "- Select all the rows that `LevelOfStudy` is  `Undergraduate` and `ProgrammeCategory` is `Business and Management` and for rows of male only.  \n",
    "- Show only the `AcademicYear` and `Headcount`\n",
    "\n",
    "Hints: \n",
    "* Use `&` to put together mutilple logical expression\n",
    "* Use `()` to wrap each logical expression"
   ]
  },
  {
   "cell_type": "code",
   "execution_count": null,
   "metadata": {},
   "outputs": [],
   "source": []
  },
  {
   "cell_type": "markdown",
   "metadata": {},
   "source": [
    "# Reading External Data Source\n",
    "\n",
    "use `pd.read_xxx()` funtion to read file of various types.\n",
    "\n",
    "Type `pd.read_` + `TAB` to see the complete list of read functions.\n",
    "\n",
    "**Example**:\n",
    "```\n",
    "allowance_df = pd.read_csv('./data/allowance.csv') # the dot './' mean current path path\n",
    "allowance_df.head() # return the first 5 rows\n",
    "allowance_df.tail() # return the last 5 rows\n",
    "allowance_df.head(8)\n",
    "allowance_df.tail(8)\n",
    "allowance_df.info() # the table meta data\n",
    "allowance_df.describe() # basic statistic information\n",
    "```\n",
    "**Handling Empty Values**:\n",
    "- The `info()` method also tells us how many Non-Null values there are present in each column\n",
    "- Empty values, or Null values, can be bad when analyzing data, and you should consider removing rows with empty values or replace the empty value with an average value of the column\n",
    "- This process is a called data tidying."
   ]
  },
  {
   "cell_type": "code",
   "execution_count": null,
   "metadata": {},
   "outputs": [],
   "source": []
  },
  {
   "cell_type": "code",
   "execution_count": 27,
   "metadata": {},
   "outputs": [],
   "source": [
    "allowance_df = pd.read_csv('./data/allowance.csv')"
   ]
  },
  {
   "cell_type": "code",
   "execution_count": 28,
   "metadata": {},
   "outputs": [
    {
     "data": {
      "text/html": [
       "<div>\n",
       "<style scoped>\n",
       "    .dataframe tbody tr th:only-of-type {\n",
       "        vertical-align: middle;\n",
       "    }\n",
       "\n",
       "    .dataframe tbody tr th {\n",
       "        vertical-align: top;\n",
       "    }\n",
       "\n",
       "    .dataframe thead th {\n",
       "        text-align: right;\n",
       "    }\n",
       "</style>\n",
       "<table border=\"1\" class=\"dataframe\">\n",
       "  <thead>\n",
       "    <tr style=\"text-align: right;\">\n",
       "      <th></th>\n",
       "      <th>Assessment_Year</th>\n",
       "      <th>Basic</th>\n",
       "      <th>Married_Person</th>\n",
       "      <th>Child</th>\n",
       "      <th>Child_newborn</th>\n",
       "      <th>Dependent_Brother_Sister</th>\n",
       "      <th>Dependent_Parent_60</th>\n",
       "      <th>Dependent_Parent_55</th>\n",
       "      <th>Additional_Dependent_Parent_60</th>\n",
       "      <th>Additional_Dependent_Parent_55</th>\n",
       "      <th>Personal_Disability_Allowance</th>\n",
       "      <th>Single_Parent</th>\n",
       "      <th>Disabled_Dependant</th>\n",
       "    </tr>\n",
       "  </thead>\n",
       "  <tbody>\n",
       "    <tr>\n",
       "      <th>0</th>\n",
       "      <td>2019/20</td>\n",
       "      <td>132000</td>\n",
       "      <td>264000</td>\n",
       "      <td>120000</td>\n",
       "      <td>120000</td>\n",
       "      <td>37500</td>\n",
       "      <td>50000</td>\n",
       "      <td>25000</td>\n",
       "      <td>50000</td>\n",
       "      <td>25000</td>\n",
       "      <td>75000.0</td>\n",
       "      <td>132000</td>\n",
       "      <td>75000</td>\n",
       "    </tr>\n",
       "    <tr>\n",
       "      <th>1</th>\n",
       "      <td>2018/19</td>\n",
       "      <td>132000</td>\n",
       "      <td>264000</td>\n",
       "      <td>120000</td>\n",
       "      <td>120000</td>\n",
       "      <td>37500</td>\n",
       "      <td>50000</td>\n",
       "      <td>25000</td>\n",
       "      <td>50000</td>\n",
       "      <td>25000</td>\n",
       "      <td>75000.0</td>\n",
       "      <td>132000</td>\n",
       "      <td>75000</td>\n",
       "    </tr>\n",
       "    <tr>\n",
       "      <th>2</th>\n",
       "      <td>2017/18</td>\n",
       "      <td>132000</td>\n",
       "      <td>264000</td>\n",
       "      <td>100000</td>\n",
       "      <td>100000</td>\n",
       "      <td>37500</td>\n",
       "      <td>46000</td>\n",
       "      <td>23000</td>\n",
       "      <td>46000</td>\n",
       "      <td>23000</td>\n",
       "      <td>NaN</td>\n",
       "      <td>132000</td>\n",
       "      <td>75000</td>\n",
       "    </tr>\n",
       "    <tr>\n",
       "      <th>3</th>\n",
       "      <td>2016/17</td>\n",
       "      <td>132000</td>\n",
       "      <td>264000</td>\n",
       "      <td>100000</td>\n",
       "      <td>100000</td>\n",
       "      <td>33000</td>\n",
       "      <td>46000</td>\n",
       "      <td>23000</td>\n",
       "      <td>46000</td>\n",
       "      <td>23000</td>\n",
       "      <td>NaN</td>\n",
       "      <td>132000</td>\n",
       "      <td>66000</td>\n",
       "    </tr>\n",
       "    <tr>\n",
       "      <th>4</th>\n",
       "      <td>2015/16</td>\n",
       "      <td>120000</td>\n",
       "      <td>240000</td>\n",
       "      <td>100000</td>\n",
       "      <td>100000</td>\n",
       "      <td>33000</td>\n",
       "      <td>40000</td>\n",
       "      <td>20000</td>\n",
       "      <td>40000</td>\n",
       "      <td>20000</td>\n",
       "      <td>NaN</td>\n",
       "      <td>120000</td>\n",
       "      <td>66000</td>\n",
       "    </tr>\n",
       "  </tbody>\n",
       "</table>\n",
       "</div>"
      ],
      "text/plain": [
       "  Assessment_Year   Basic  Married_Person   Child  Child_newborn  \\\n",
       "0         2019/20  132000          264000  120000         120000   \n",
       "1         2018/19  132000          264000  120000         120000   \n",
       "2         2017/18  132000          264000  100000         100000   \n",
       "3         2016/17  132000          264000  100000         100000   \n",
       "4         2015/16  120000          240000  100000         100000   \n",
       "\n",
       "   Dependent_Brother_Sister  Dependent_Parent_60  Dependent_Parent_55  \\\n",
       "0                     37500                50000                25000   \n",
       "1                     37500                50000                25000   \n",
       "2                     37500                46000                23000   \n",
       "3                     33000                46000                23000   \n",
       "4                     33000                40000                20000   \n",
       "\n",
       "   Additional_Dependent_Parent_60  Additional_Dependent_Parent_55  \\\n",
       "0                           50000                           25000   \n",
       "1                           50000                           25000   \n",
       "2                           46000                           23000   \n",
       "3                           46000                           23000   \n",
       "4                           40000                           20000   \n",
       "\n",
       "   Personal_Disability_Allowance  Single_Parent  Disabled_Dependant  \n",
       "0                        75000.0         132000               75000  \n",
       "1                        75000.0         132000               75000  \n",
       "2                            NaN         132000               75000  \n",
       "3                            NaN         132000               66000  \n",
       "4                            NaN         120000               66000  "
      ]
     },
     "execution_count": 28,
     "metadata": {},
     "output_type": "execute_result"
    }
   ],
   "source": [
    "allowance_df.head()"
   ]
  },
  {
   "cell_type": "code",
   "execution_count": 29,
   "metadata": {},
   "outputs": [
    {
     "data": {
      "text/html": [
       "<div>\n",
       "<style scoped>\n",
       "    .dataframe tbody tr th:only-of-type {\n",
       "        vertical-align: middle;\n",
       "    }\n",
       "\n",
       "    .dataframe tbody tr th {\n",
       "        vertical-align: top;\n",
       "    }\n",
       "\n",
       "    .dataframe thead th {\n",
       "        text-align: right;\n",
       "    }\n",
       "</style>\n",
       "<table border=\"1\" class=\"dataframe\">\n",
       "  <thead>\n",
       "    <tr style=\"text-align: right;\">\n",
       "      <th></th>\n",
       "      <th>Assessment_Year</th>\n",
       "      <th>Basic</th>\n",
       "      <th>Married_Person</th>\n",
       "      <th>Child</th>\n",
       "      <th>Child_newborn</th>\n",
       "      <th>Dependent_Brother_Sister</th>\n",
       "      <th>Dependent_Parent_60</th>\n",
       "      <th>Dependent_Parent_55</th>\n",
       "      <th>Additional_Dependent_Parent_60</th>\n",
       "      <th>Additional_Dependent_Parent_55</th>\n",
       "      <th>Personal_Disability_Allowance</th>\n",
       "      <th>Single_Parent</th>\n",
       "      <th>Disabled_Dependant</th>\n",
       "    </tr>\n",
       "  </thead>\n",
       "  <tbody>\n",
       "    <tr>\n",
       "      <th>6</th>\n",
       "      <td>2013/14</td>\n",
       "      <td>120000</td>\n",
       "      <td>240000</td>\n",
       "      <td>70000</td>\n",
       "      <td>70000</td>\n",
       "      <td>33000</td>\n",
       "      <td>38000</td>\n",
       "      <td>19000</td>\n",
       "      <td>38000</td>\n",
       "      <td>19000</td>\n",
       "      <td>NaN</td>\n",
       "      <td>120000</td>\n",
       "      <td>66000</td>\n",
       "    </tr>\n",
       "    <tr>\n",
       "      <th>7</th>\n",
       "      <td>2012/13</td>\n",
       "      <td>120000</td>\n",
       "      <td>240000</td>\n",
       "      <td>63000</td>\n",
       "      <td>63000</td>\n",
       "      <td>33000</td>\n",
       "      <td>38000</td>\n",
       "      <td>19000</td>\n",
       "      <td>38000</td>\n",
       "      <td>19000</td>\n",
       "      <td>NaN</td>\n",
       "      <td>120000</td>\n",
       "      <td>66000</td>\n",
       "    </tr>\n",
       "    <tr>\n",
       "      <th>8</th>\n",
       "      <td>2011/12</td>\n",
       "      <td>108000</td>\n",
       "      <td>216000</td>\n",
       "      <td>60000</td>\n",
       "      <td>60000</td>\n",
       "      <td>30000</td>\n",
       "      <td>36000</td>\n",
       "      <td>18000</td>\n",
       "      <td>36000</td>\n",
       "      <td>18000</td>\n",
       "      <td>NaN</td>\n",
       "      <td>108000</td>\n",
       "      <td>60000</td>\n",
       "    </tr>\n",
       "    <tr>\n",
       "      <th>9</th>\n",
       "      <td>2010/11</td>\n",
       "      <td>108000</td>\n",
       "      <td>216000</td>\n",
       "      <td>50000</td>\n",
       "      <td>50000</td>\n",
       "      <td>30000</td>\n",
       "      <td>30000</td>\n",
       "      <td>15000</td>\n",
       "      <td>30000</td>\n",
       "      <td>15000</td>\n",
       "      <td>NaN</td>\n",
       "      <td>108000</td>\n",
       "      <td>60000</td>\n",
       "    </tr>\n",
       "    <tr>\n",
       "      <th>10</th>\n",
       "      <td>2009/10</td>\n",
       "      <td>108000</td>\n",
       "      <td>216000</td>\n",
       "      <td>50000</td>\n",
       "      <td>50000</td>\n",
       "      <td>30000</td>\n",
       "      <td>30000</td>\n",
       "      <td>15000</td>\n",
       "      <td>30000</td>\n",
       "      <td>15000</td>\n",
       "      <td>NaN</td>\n",
       "      <td>108000</td>\n",
       "      <td>60000</td>\n",
       "    </tr>\n",
       "  </tbody>\n",
       "</table>\n",
       "</div>"
      ],
      "text/plain": [
       "   Assessment_Year   Basic  Married_Person  Child  Child_newborn  \\\n",
       "6          2013/14  120000          240000  70000          70000   \n",
       "7          2012/13  120000          240000  63000          63000   \n",
       "8          2011/12  108000          216000  60000          60000   \n",
       "9          2010/11  108000          216000  50000          50000   \n",
       "10         2009/10  108000          216000  50000          50000   \n",
       "\n",
       "    Dependent_Brother_Sister  Dependent_Parent_60  Dependent_Parent_55  \\\n",
       "6                      33000                38000                19000   \n",
       "7                      33000                38000                19000   \n",
       "8                      30000                36000                18000   \n",
       "9                      30000                30000                15000   \n",
       "10                     30000                30000                15000   \n",
       "\n",
       "    Additional_Dependent_Parent_60  Additional_Dependent_Parent_55  \\\n",
       "6                            38000                           19000   \n",
       "7                            38000                           19000   \n",
       "8                            36000                           18000   \n",
       "9                            30000                           15000   \n",
       "10                           30000                           15000   \n",
       "\n",
       "    Personal_Disability_Allowance  Single_Parent  Disabled_Dependant  \n",
       "6                             NaN         120000               66000  \n",
       "7                             NaN         120000               66000  \n",
       "8                             NaN         108000               60000  \n",
       "9                             NaN         108000               60000  \n",
       "10                            NaN         108000               60000  "
      ]
     },
     "execution_count": 29,
     "metadata": {},
     "output_type": "execute_result"
    }
   ],
   "source": [
    "allowance_df.tail()"
   ]
  },
  {
   "cell_type": "code",
   "execution_count": 30,
   "metadata": {},
   "outputs": [
    {
     "data": {
      "text/html": [
       "<div>\n",
       "<style scoped>\n",
       "    .dataframe tbody tr th:only-of-type {\n",
       "        vertical-align: middle;\n",
       "    }\n",
       "\n",
       "    .dataframe tbody tr th {\n",
       "        vertical-align: top;\n",
       "    }\n",
       "\n",
       "    .dataframe thead th {\n",
       "        text-align: right;\n",
       "    }\n",
       "</style>\n",
       "<table border=\"1\" class=\"dataframe\">\n",
       "  <thead>\n",
       "    <tr style=\"text-align: right;\">\n",
       "      <th></th>\n",
       "      <th>Assessment_Year</th>\n",
       "      <th>Basic</th>\n",
       "      <th>Married_Person</th>\n",
       "      <th>Child</th>\n",
       "      <th>Child_newborn</th>\n",
       "      <th>Dependent_Brother_Sister</th>\n",
       "      <th>Dependent_Parent_60</th>\n",
       "      <th>Dependent_Parent_55</th>\n",
       "      <th>Additional_Dependent_Parent_60</th>\n",
       "      <th>Additional_Dependent_Parent_55</th>\n",
       "      <th>Personal_Disability_Allowance</th>\n",
       "      <th>Single_Parent</th>\n",
       "      <th>Disabled_Dependant</th>\n",
       "    </tr>\n",
       "  </thead>\n",
       "  <tbody>\n",
       "    <tr>\n",
       "      <th>0</th>\n",
       "      <td>2019/20</td>\n",
       "      <td>132000</td>\n",
       "      <td>264000</td>\n",
       "      <td>120000</td>\n",
       "      <td>120000</td>\n",
       "      <td>37500</td>\n",
       "      <td>50000</td>\n",
       "      <td>25000</td>\n",
       "      <td>50000</td>\n",
       "      <td>25000</td>\n",
       "      <td>75000.0</td>\n",
       "      <td>132000</td>\n",
       "      <td>75000</td>\n",
       "    </tr>\n",
       "    <tr>\n",
       "      <th>1</th>\n",
       "      <td>2018/19</td>\n",
       "      <td>132000</td>\n",
       "      <td>264000</td>\n",
       "      <td>120000</td>\n",
       "      <td>120000</td>\n",
       "      <td>37500</td>\n",
       "      <td>50000</td>\n",
       "      <td>25000</td>\n",
       "      <td>50000</td>\n",
       "      <td>25000</td>\n",
       "      <td>75000.0</td>\n",
       "      <td>132000</td>\n",
       "      <td>75000</td>\n",
       "    </tr>\n",
       "    <tr>\n",
       "      <th>2</th>\n",
       "      <td>2017/18</td>\n",
       "      <td>132000</td>\n",
       "      <td>264000</td>\n",
       "      <td>100000</td>\n",
       "      <td>100000</td>\n",
       "      <td>37500</td>\n",
       "      <td>46000</td>\n",
       "      <td>23000</td>\n",
       "      <td>46000</td>\n",
       "      <td>23000</td>\n",
       "      <td>NaN</td>\n",
       "      <td>132000</td>\n",
       "      <td>75000</td>\n",
       "    </tr>\n",
       "    <tr>\n",
       "      <th>3</th>\n",
       "      <td>2016/17</td>\n",
       "      <td>132000</td>\n",
       "      <td>264000</td>\n",
       "      <td>100000</td>\n",
       "      <td>100000</td>\n",
       "      <td>33000</td>\n",
       "      <td>46000</td>\n",
       "      <td>23000</td>\n",
       "      <td>46000</td>\n",
       "      <td>23000</td>\n",
       "      <td>NaN</td>\n",
       "      <td>132000</td>\n",
       "      <td>66000</td>\n",
       "    </tr>\n",
       "    <tr>\n",
       "      <th>4</th>\n",
       "      <td>2015/16</td>\n",
       "      <td>120000</td>\n",
       "      <td>240000</td>\n",
       "      <td>100000</td>\n",
       "      <td>100000</td>\n",
       "      <td>33000</td>\n",
       "      <td>40000</td>\n",
       "      <td>20000</td>\n",
       "      <td>40000</td>\n",
       "      <td>20000</td>\n",
       "      <td>NaN</td>\n",
       "      <td>120000</td>\n",
       "      <td>66000</td>\n",
       "    </tr>\n",
       "    <tr>\n",
       "      <th>5</th>\n",
       "      <td>2014/15</td>\n",
       "      <td>120000</td>\n",
       "      <td>240000</td>\n",
       "      <td>70000</td>\n",
       "      <td>70000</td>\n",
       "      <td>33000</td>\n",
       "      <td>40000</td>\n",
       "      <td>20000</td>\n",
       "      <td>40000</td>\n",
       "      <td>20000</td>\n",
       "      <td>NaN</td>\n",
       "      <td>120000</td>\n",
       "      <td>66000</td>\n",
       "    </tr>\n",
       "    <tr>\n",
       "      <th>6</th>\n",
       "      <td>2013/14</td>\n",
       "      <td>120000</td>\n",
       "      <td>240000</td>\n",
       "      <td>70000</td>\n",
       "      <td>70000</td>\n",
       "      <td>33000</td>\n",
       "      <td>38000</td>\n",
       "      <td>19000</td>\n",
       "      <td>38000</td>\n",
       "      <td>19000</td>\n",
       "      <td>NaN</td>\n",
       "      <td>120000</td>\n",
       "      <td>66000</td>\n",
       "    </tr>\n",
       "    <tr>\n",
       "      <th>7</th>\n",
       "      <td>2012/13</td>\n",
       "      <td>120000</td>\n",
       "      <td>240000</td>\n",
       "      <td>63000</td>\n",
       "      <td>63000</td>\n",
       "      <td>33000</td>\n",
       "      <td>38000</td>\n",
       "      <td>19000</td>\n",
       "      <td>38000</td>\n",
       "      <td>19000</td>\n",
       "      <td>NaN</td>\n",
       "      <td>120000</td>\n",
       "      <td>66000</td>\n",
       "    </tr>\n",
       "  </tbody>\n",
       "</table>\n",
       "</div>"
      ],
      "text/plain": [
       "  Assessment_Year   Basic  Married_Person   Child  Child_newborn  \\\n",
       "0         2019/20  132000          264000  120000         120000   \n",
       "1         2018/19  132000          264000  120000         120000   \n",
       "2         2017/18  132000          264000  100000         100000   \n",
       "3         2016/17  132000          264000  100000         100000   \n",
       "4         2015/16  120000          240000  100000         100000   \n",
       "5         2014/15  120000          240000   70000          70000   \n",
       "6         2013/14  120000          240000   70000          70000   \n",
       "7         2012/13  120000          240000   63000          63000   \n",
       "\n",
       "   Dependent_Brother_Sister  Dependent_Parent_60  Dependent_Parent_55  \\\n",
       "0                     37500                50000                25000   \n",
       "1                     37500                50000                25000   \n",
       "2                     37500                46000                23000   \n",
       "3                     33000                46000                23000   \n",
       "4                     33000                40000                20000   \n",
       "5                     33000                40000                20000   \n",
       "6                     33000                38000                19000   \n",
       "7                     33000                38000                19000   \n",
       "\n",
       "   Additional_Dependent_Parent_60  Additional_Dependent_Parent_55  \\\n",
       "0                           50000                           25000   \n",
       "1                           50000                           25000   \n",
       "2                           46000                           23000   \n",
       "3                           46000                           23000   \n",
       "4                           40000                           20000   \n",
       "5                           40000                           20000   \n",
       "6                           38000                           19000   \n",
       "7                           38000                           19000   \n",
       "\n",
       "   Personal_Disability_Allowance  Single_Parent  Disabled_Dependant  \n",
       "0                        75000.0         132000               75000  \n",
       "1                        75000.0         132000               75000  \n",
       "2                            NaN         132000               75000  \n",
       "3                            NaN         132000               66000  \n",
       "4                            NaN         120000               66000  \n",
       "5                            NaN         120000               66000  \n",
       "6                            NaN         120000               66000  \n",
       "7                            NaN         120000               66000  "
      ]
     },
     "execution_count": 30,
     "metadata": {},
     "output_type": "execute_result"
    }
   ],
   "source": [
    "allowance_df.head(8)"
   ]
  },
  {
   "cell_type": "code",
   "execution_count": 31,
   "metadata": {},
   "outputs": [
    {
     "name": "stdout",
     "output_type": "stream",
     "text": [
      "<class 'pandas.core.frame.DataFrame'>\n",
      "RangeIndex: 11 entries, 0 to 10\n",
      "Data columns (total 13 columns):\n",
      " #   Column                          Non-Null Count  Dtype  \n",
      "---  ------                          --------------  -----  \n",
      " 0   Assessment_Year                 11 non-null     object \n",
      " 1   Basic                           11 non-null     int64  \n",
      " 2   Married_Person                  11 non-null     int64  \n",
      " 3   Child                           11 non-null     int64  \n",
      " 4   Child_newborn                   11 non-null     int64  \n",
      " 5   Dependent_Brother_Sister        11 non-null     int64  \n",
      " 6   Dependent_Parent_60             11 non-null     int64  \n",
      " 7   Dependent_Parent_55             11 non-null     int64  \n",
      " 8   Additional_Dependent_Parent_60  11 non-null     int64  \n",
      " 9   Additional_Dependent_Parent_55  11 non-null     int64  \n",
      " 10  Personal_Disability_Allowance   2 non-null      float64\n",
      " 11  Single_Parent                   11 non-null     int64  \n",
      " 12  Disabled_Dependant              11 non-null     int64  \n",
      "dtypes: float64(1), int64(11), object(1)\n",
      "memory usage: 1.2+ KB\n"
     ]
    }
   ],
   "source": [
    "allowance_df.info() # the table meta data"
   ]
  },
  {
   "cell_type": "code",
   "execution_count": 32,
   "metadata": {},
   "outputs": [
    {
     "data": {
      "text/html": [
       "<div>\n",
       "<style scoped>\n",
       "    .dataframe tbody tr th:only-of-type {\n",
       "        vertical-align: middle;\n",
       "    }\n",
       "\n",
       "    .dataframe tbody tr th {\n",
       "        vertical-align: top;\n",
       "    }\n",
       "\n",
       "    .dataframe thead th {\n",
       "        text-align: right;\n",
       "    }\n",
       "</style>\n",
       "<table border=\"1\" class=\"dataframe\">\n",
       "  <thead>\n",
       "    <tr style=\"text-align: right;\">\n",
       "      <th></th>\n",
       "      <th>Basic</th>\n",
       "      <th>Married_Person</th>\n",
       "      <th>Child</th>\n",
       "      <th>Child_newborn</th>\n",
       "      <th>Dependent_Brother_Sister</th>\n",
       "      <th>Dependent_Parent_60</th>\n",
       "      <th>Dependent_Parent_55</th>\n",
       "      <th>Additional_Dependent_Parent_60</th>\n",
       "      <th>Additional_Dependent_Parent_55</th>\n",
       "      <th>Personal_Disability_Allowance</th>\n",
       "      <th>Single_Parent</th>\n",
       "      <th>Disabled_Dependant</th>\n",
       "    </tr>\n",
       "  </thead>\n",
       "  <tbody>\n",
       "    <tr>\n",
       "      <th>count</th>\n",
       "      <td>11.000000</td>\n",
       "      <td>11.000000</td>\n",
       "      <td>11.000000</td>\n",
       "      <td>11.000000</td>\n",
       "      <td>11.000000</td>\n",
       "      <td>11.000000</td>\n",
       "      <td>11.000000</td>\n",
       "      <td>11.000000</td>\n",
       "      <td>11.000000</td>\n",
       "      <td>2.0</td>\n",
       "      <td>11.000000</td>\n",
       "      <td>11.000000</td>\n",
       "    </tr>\n",
       "    <tr>\n",
       "      <th>mean</th>\n",
       "      <td>121090.909091</td>\n",
       "      <td>242181.818182</td>\n",
       "      <td>82090.909091</td>\n",
       "      <td>82090.909091</td>\n",
       "      <td>33409.090909</td>\n",
       "      <td>40363.636364</td>\n",
       "      <td>20181.818182</td>\n",
       "      <td>40363.636364</td>\n",
       "      <td>20181.818182</td>\n",
       "      <td>75000.0</td>\n",
       "      <td>121090.909091</td>\n",
       "      <td>66818.181818</td>\n",
       "    </tr>\n",
       "    <tr>\n",
       "      <th>std</th>\n",
       "      <td>9974.512975</td>\n",
       "      <td>19949.025950</td>\n",
       "      <td>26534.711400</td>\n",
       "      <td>26534.711400</td>\n",
       "      <td>2931.025263</td>\n",
       "      <td>7032.392584</td>\n",
       "      <td>3516.196292</td>\n",
       "      <td>7032.392584</td>\n",
       "      <td>3516.196292</td>\n",
       "      <td>0.0</td>\n",
       "      <td>9974.512975</td>\n",
       "      <td>5862.050526</td>\n",
       "    </tr>\n",
       "    <tr>\n",
       "      <th>min</th>\n",
       "      <td>108000.000000</td>\n",
       "      <td>216000.000000</td>\n",
       "      <td>50000.000000</td>\n",
       "      <td>50000.000000</td>\n",
       "      <td>30000.000000</td>\n",
       "      <td>30000.000000</td>\n",
       "      <td>15000.000000</td>\n",
       "      <td>30000.000000</td>\n",
       "      <td>15000.000000</td>\n",
       "      <td>75000.0</td>\n",
       "      <td>108000.000000</td>\n",
       "      <td>60000.000000</td>\n",
       "    </tr>\n",
       "    <tr>\n",
       "      <th>25%</th>\n",
       "      <td>114000.000000</td>\n",
       "      <td>228000.000000</td>\n",
       "      <td>61500.000000</td>\n",
       "      <td>61500.000000</td>\n",
       "      <td>31500.000000</td>\n",
       "      <td>37000.000000</td>\n",
       "      <td>18500.000000</td>\n",
       "      <td>37000.000000</td>\n",
       "      <td>18500.000000</td>\n",
       "      <td>75000.0</td>\n",
       "      <td>114000.000000</td>\n",
       "      <td>63000.000000</td>\n",
       "    </tr>\n",
       "    <tr>\n",
       "      <th>50%</th>\n",
       "      <td>120000.000000</td>\n",
       "      <td>240000.000000</td>\n",
       "      <td>70000.000000</td>\n",
       "      <td>70000.000000</td>\n",
       "      <td>33000.000000</td>\n",
       "      <td>40000.000000</td>\n",
       "      <td>20000.000000</td>\n",
       "      <td>40000.000000</td>\n",
       "      <td>20000.000000</td>\n",
       "      <td>75000.0</td>\n",
       "      <td>120000.000000</td>\n",
       "      <td>66000.000000</td>\n",
       "    </tr>\n",
       "    <tr>\n",
       "      <th>75%</th>\n",
       "      <td>132000.000000</td>\n",
       "      <td>264000.000000</td>\n",
       "      <td>100000.000000</td>\n",
       "      <td>100000.000000</td>\n",
       "      <td>35250.000000</td>\n",
       "      <td>46000.000000</td>\n",
       "      <td>23000.000000</td>\n",
       "      <td>46000.000000</td>\n",
       "      <td>23000.000000</td>\n",
       "      <td>75000.0</td>\n",
       "      <td>132000.000000</td>\n",
       "      <td>70500.000000</td>\n",
       "    </tr>\n",
       "    <tr>\n",
       "      <th>max</th>\n",
       "      <td>132000.000000</td>\n",
       "      <td>264000.000000</td>\n",
       "      <td>120000.000000</td>\n",
       "      <td>120000.000000</td>\n",
       "      <td>37500.000000</td>\n",
       "      <td>50000.000000</td>\n",
       "      <td>25000.000000</td>\n",
       "      <td>50000.000000</td>\n",
       "      <td>25000.000000</td>\n",
       "      <td>75000.0</td>\n",
       "      <td>132000.000000</td>\n",
       "      <td>75000.000000</td>\n",
       "    </tr>\n",
       "  </tbody>\n",
       "</table>\n",
       "</div>"
      ],
      "text/plain": [
       "               Basic  Married_Person          Child  Child_newborn  \\\n",
       "count      11.000000       11.000000      11.000000      11.000000   \n",
       "mean   121090.909091   242181.818182   82090.909091   82090.909091   \n",
       "std      9974.512975    19949.025950   26534.711400   26534.711400   \n",
       "min    108000.000000   216000.000000   50000.000000   50000.000000   \n",
       "25%    114000.000000   228000.000000   61500.000000   61500.000000   \n",
       "50%    120000.000000   240000.000000   70000.000000   70000.000000   \n",
       "75%    132000.000000   264000.000000  100000.000000  100000.000000   \n",
       "max    132000.000000   264000.000000  120000.000000  120000.000000   \n",
       "\n",
       "       Dependent_Brother_Sister  Dependent_Parent_60  Dependent_Parent_55  \\\n",
       "count                 11.000000            11.000000            11.000000   \n",
       "mean               33409.090909         40363.636364         20181.818182   \n",
       "std                 2931.025263          7032.392584          3516.196292   \n",
       "min                30000.000000         30000.000000         15000.000000   \n",
       "25%                31500.000000         37000.000000         18500.000000   \n",
       "50%                33000.000000         40000.000000         20000.000000   \n",
       "75%                35250.000000         46000.000000         23000.000000   \n",
       "max                37500.000000         50000.000000         25000.000000   \n",
       "\n",
       "       Additional_Dependent_Parent_60  Additional_Dependent_Parent_55  \\\n",
       "count                       11.000000                       11.000000   \n",
       "mean                     40363.636364                    20181.818182   \n",
       "std                       7032.392584                     3516.196292   \n",
       "min                      30000.000000                    15000.000000   \n",
       "25%                      37000.000000                    18500.000000   \n",
       "50%                      40000.000000                    20000.000000   \n",
       "75%                      46000.000000                    23000.000000   \n",
       "max                      50000.000000                    25000.000000   \n",
       "\n",
       "       Personal_Disability_Allowance  Single_Parent  Disabled_Dependant  \n",
       "count                            2.0      11.000000           11.000000  \n",
       "mean                         75000.0  121090.909091        66818.181818  \n",
       "std                              0.0    9974.512975         5862.050526  \n",
       "min                          75000.0  108000.000000        60000.000000  \n",
       "25%                          75000.0  114000.000000        63000.000000  \n",
       "50%                          75000.0  120000.000000        66000.000000  \n",
       "75%                          75000.0  132000.000000        70500.000000  \n",
       "max                          75000.0  132000.000000        75000.000000  "
      ]
     },
     "execution_count": 32,
     "metadata": {},
     "output_type": "execute_result"
    }
   ],
   "source": [
    "allowance_df.describe() # basic statistic information"
   ]
  },
  {
   "cell_type": "code",
   "execution_count": null,
   "metadata": {},
   "outputs": [],
   "source": []
  },
  {
   "cell_type": "code",
   "execution_count": null,
   "metadata": {},
   "outputs": [],
   "source": []
  },
  {
   "cell_type": "code",
   "execution_count": null,
   "metadata": {},
   "outputs": [],
   "source": []
  },
  {
   "cell_type": "code",
   "execution_count": null,
   "metadata": {},
   "outputs": [],
   "source": []
  },
  {
   "cell_type": "code",
   "execution_count": null,
   "metadata": {},
   "outputs": [],
   "source": []
  },
  {
   "cell_type": "markdown",
   "metadata": {},
   "source": [
    "# Tidying Data\n",
    "Fixing bad data in your data set.\n",
    "\n",
    "**Bad data could be**:\n",
    "- Empty cells\n",
    "- Data in wrong format\n",
    "- Wrong data\n",
    "- Duplicates"
   ]
  },
  {
   "cell_type": "markdown",
   "metadata": {},
   "source": [
    "## Rename Columns: `rename()`\n",
    "\n",
    "Call `rename()` function with dictionay object\n",
    "\n",
    "Example:\n",
    "```\n",
    "students.rename(columns={'Name': 'StudentName', 'Sex': 'Gender'})\n",
    "```"
   ]
  },
  {
   "cell_type": "code",
   "execution_count": null,
   "metadata": {},
   "outputs": [],
   "source": []
  },
  {
   "cell_type": "code",
   "execution_count": null,
   "metadata": {},
   "outputs": [],
   "source": []
  },
  {
   "cell_type": "markdown",
   "metadata": {},
   "source": [
    "## Delete Columns\n",
    "\n",
    "Call `drop()` function to delete the columns that your don't want\n",
    "\n",
    "Example:\n",
    "```\n",
    "students.drop(columns=['Age', 'Year']) # this statement returns a new dataframe\n",
    "```"
   ]
  },
  {
   "cell_type": "code",
   "execution_count": null,
   "metadata": {},
   "outputs": [],
   "source": []
  },
  {
   "cell_type": "markdown",
   "metadata": {},
   "source": [
    "## Replacing the existing data-frame variable\n",
    "\n",
    "We usually tend to replace the old dataframe variable with the processed data frame and therefore the code will go like\n",
    "\n",
    "```\n",
    "students\n",
    "students = students.rename(columns={'Name': 'StudentName', 'Sex': 'Gender'})\n",
    "students = students.drop(columns=['Age', 'Year'])\n",
    "\n",
    "```"
   ]
  },
  {
   "cell_type": "code",
   "execution_count": null,
   "metadata": {},
   "outputs": [],
   "source": []
  },
  {
   "cell_type": "code",
   "execution_count": null,
   "metadata": {},
   "outputs": [],
   "source": []
  },
  {
   "cell_type": "code",
   "execution_count": null,
   "metadata": {},
   "outputs": [],
   "source": []
  },
  {
   "cell_type": "markdown",
   "metadata": {},
   "source": [
    "## Drop Rows with Empty Values\n",
    "\n",
    "Empty values cause noise to your data. One of the fixing is removing them.\n",
    "\n",
    "You can remove the rows with empty value by `dropna()` function\n",
    "\n",
    "```\n",
    "cleaned_df = df.dropna() # 9 rows with null value will be dropped\n",
    "print(df.shape[0])\n",
    "print(cleaned_df.shape[0])\n",
    "cleaned_df\n",
    "cleaned_df.info()\n",
    "cleaned_df.describe()\n",
    "```"
   ]
  },
  {
   "cell_type": "code",
   "execution_count": null,
   "metadata": {},
   "outputs": [],
   "source": []
  },
  {
   "cell_type": "code",
   "execution_count": null,
   "metadata": {},
   "outputs": [],
   "source": []
  },
  {
   "cell_type": "code",
   "execution_count": null,
   "metadata": {},
   "outputs": [],
   "source": []
  },
  {
   "cell_type": "code",
   "execution_count": null,
   "metadata": {},
   "outputs": [],
   "source": []
  },
  {
   "cell_type": "code",
   "execution_count": null,
   "metadata": {},
   "outputs": [],
   "source": []
  },
  {
   "cell_type": "code",
   "execution_count": null,
   "metadata": {},
   "outputs": [],
   "source": []
  },
  {
   "cell_type": "markdown",
   "metadata": {},
   "source": [
    "## Replacing empty cells with mean or median\n",
    "\n",
    "An alternative fixing to rows will empty values is using `fillna()` function to fill in the missing values for these rows.\n",
    "\n",
    "```\n",
    "allowance_df[\"Personal_Disability_Allowance\"].describe()\n",
    "x = allowance_df[\"Personal_Disability_Allowance\"].mean()\n",
    "allowance_df[\"Personal_Disability_Allowance\"].fillna(x, inplace = True)\n",
    "allowance_df[\"Personal_Disability_Allowance\"].describe()\n",
    "```\n"
   ]
  },
  {
   "cell_type": "code",
   "execution_count": null,
   "metadata": {},
   "outputs": [],
   "source": []
  },
  {
   "cell_type": "code",
   "execution_count": null,
   "metadata": {},
   "outputs": [],
   "source": []
  },
  {
   "cell_type": "code",
   "execution_count": null,
   "metadata": {},
   "outputs": [],
   "source": []
  },
  {
   "cell_type": "code",
   "execution_count": null,
   "metadata": {},
   "outputs": [],
   "source": []
  },
  {
   "cell_type": "code",
   "execution_count": null,
   "metadata": {},
   "outputs": [],
   "source": []
  },
  {
   "cell_type": "markdown",
   "metadata": {},
   "source": [
    "# Aggregation Functions\n",
    "\n",
    "aggregation functions provide summary information about a column.\n",
    "\n",
    "```\n",
    "allowance_df = pd.read_csv('./data/allowance.csv')\n",
    "allowance_df.info()\n",
    "```\n",
    "\n",
    "* `allowance_df['Basic'].max()` # returns the maximum value for the column\n",
    "* `allowance_df['Basic'].min()` # returns the minimum value for the column\n",
    "* `allowance_df['Basic'].median()` # returns the median for the column\n",
    "* `allowance_df['Basic'].mean()` # returns the mean value for the column\n",
    "* `allowance_df['Basic'].std()` # returns the standard deviation for the column\n",
    "* `allowance_df['Basic'].sum()` # returns the standard deviation for the column\n"
   ]
  },
  {
   "cell_type": "code",
   "execution_count": null,
   "metadata": {},
   "outputs": [],
   "source": []
  },
  {
   "cell_type": "code",
   "execution_count": null,
   "metadata": {},
   "outputs": [],
   "source": []
  },
  {
   "cell_type": "code",
   "execution_count": null,
   "metadata": {},
   "outputs": [],
   "source": []
  },
  {
   "cell_type": "code",
   "execution_count": null,
   "metadata": {},
   "outputs": [],
   "source": []
  },
  {
   "cell_type": "markdown",
   "metadata": {},
   "source": [
    "# Finding Columns' Relationship\n",
    "The `corr()` method calculates the relationship between each column in your data set.\n",
    "```\n",
    "df.corr()\n",
    "```\n",
    "The Result of the `corr()` method is a table with a lot of numbers that represents how well the relationship is between two columns.\n",
    "- The number varies from `-1` to `1`.\n",
    "- `1` means that there is a 1 to 1 relationship (a perfect correlation).\n",
    "- `0.7` or above is also a good relationship, and if you increase one value, the other will probably increase as well.\n",
    "- `-0.7` or below would be just as good relationship as 0.7, but if you increase one value, the other will go down.\n",
    "- `0.2` means NOT a good relationship, meaning that if one value goes up does not mean that the other will.\n",
    "\n",
    "Example:\n",
    "```\n",
    "students2 = pd.read_excel('./data/Students.xlsx', sheet_name=0)\n",
    "students2\n",
    "students2.corr()\n",
    "```"
   ]
  },
  {
   "cell_type": "code",
   "execution_count": null,
   "metadata": {},
   "outputs": [],
   "source": []
  },
  {
   "cell_type": "code",
   "execution_count": null,
   "metadata": {},
   "outputs": [],
   "source": []
  },
  {
   "cell_type": "markdown",
   "metadata": {},
   "source": [
    "# Groupby and  Groups' Aggregations"
   ]
  },
  {
   "cell_type": "markdown",
   "metadata": {},
   "source": [
    "## `Groupby()`: divide data into groups\n",
    "\n",
    "**`unique()` function**\n",
    "```\n",
    "gra = pd.read_csv('./data/graduates.csv')\n",
    "gra.info()\n",
    "gra[\"LevelOfStudy\"].unique() # Display unique values of a column\n",
    "gra[\"ProgrammeCategory\"].unique()\n",
    "```\n",
    "\n",
    "**`groupby() function`**\n",
    "```\n",
    "gra.groupby('LevelOfStudy')\n",
    "gra.groupby('ProgrammeCategory')\n",
    "group_by_level = gra.groupby('LevelOfStudy') # save the grouping as a variable\n",
    "group_by_category = gra.groupby('ProgrammeCategory') # save the grouping as a variable\n",
    "group_by_level.groups # Display groups and rows belongs to that groups\n",
    "```\n",
    "\n",
    "**Those integer numbers in the list are the row number.**\n",
    "```\n",
    "group_by_level.first() # gives you a preview of the first few groups\n",
    "group_by_level.last() # gives you a previous of the last few groups\n",
    "group_by_level.size() # return the number of row (group size) in each group\n",
    "group_by_level.get_group(\"Sub-degree\") # get a group by provide the KEY of the group\n",
    "```"
   ]
  },
  {
   "cell_type": "code",
   "execution_count": null,
   "metadata": {},
   "outputs": [],
   "source": []
  },
  {
   "cell_type": "code",
   "execution_count": null,
   "metadata": {},
   "outputs": [],
   "source": []
  },
  {
   "cell_type": "code",
   "execution_count": null,
   "metadata": {},
   "outputs": [],
   "source": []
  },
  {
   "cell_type": "markdown",
   "metadata": {},
   "source": [
    "## `describe()` function\n",
    "\n",
    "Show the basic statistics summary of numberic column.\n"
   ]
  },
  {
   "cell_type": "code",
   "execution_count": null,
   "metadata": {},
   "outputs": [],
   "source": []
  },
  {
   "cell_type": "markdown",
   "metadata": {},
   "source": [
    "## `unique()` function\n",
    "\n",
    "This function list the unique values for a column.\n",
    "\n",
    "Examples:\n",
    "```\n",
    "df[\"LevelOfStudy\"].unique()\n",
    "df[\"ProgrammeCategory\"].unique()\n",
    "```"
   ]
  },
  {
   "cell_type": "code",
   "execution_count": null,
   "metadata": {},
   "outputs": [],
   "source": []
  },
  {
   "cell_type": "code",
   "execution_count": null,
   "metadata": {},
   "outputs": [],
   "source": []
  },
  {
   "cell_type": "markdown",
   "metadata": {},
   "source": [
    "## `value_counts()` function\n",
    "\n",
    "This function returns the number of row for each distinct value\n",
    "\n",
    "Example:\n",
    "```\n",
    "gra[\"LevelOfStudy\"].value_counts()\n",
    "gra['ProgrammeCategory'].value_counts()\n",
    "```\n",
    "\n",
    "\n",
    "```\n",
    "list(gra.groupby('LevelOfStudy'))\n",
    "group_by_level = gra.groupby('LevelOfStudy')\n",
    "group_by_level.groups\n",
    "group_by_category = gra.groupby('ProgrammeCategory')\n",
    "group_by_category\n",
    "\n",
    "group_by_level.groups # Display groups and rows belongs to that groups\n",
    "\n",
    "for group_key, group_data in group_by_level:\n",
    "    print(group_key)\n",
    "    print(group_data.head())\n",
    "    \n",
    "group_by_level.size()    \n",
    "```"
   ]
  },
  {
   "cell_type": "code",
   "execution_count": null,
   "metadata": {},
   "outputs": [],
   "source": []
  },
  {
   "cell_type": "code",
   "execution_count": null,
   "metadata": {},
   "outputs": [],
   "source": []
  },
  {
   "cell_type": "code",
   "execution_count": null,
   "metadata": {},
   "outputs": [],
   "source": []
  },
  {
   "cell_type": "code",
   "execution_count": null,
   "metadata": {},
   "outputs": [],
   "source": []
  },
  {
   "cell_type": "code",
   "execution_count": null,
   "metadata": {},
   "outputs": [],
   "source": []
  },
  {
   "cell_type": "code",
   "execution_count": null,
   "metadata": {},
   "outputs": [],
   "source": []
  },
  {
   "cell_type": "code",
   "execution_count": null,
   "metadata": {},
   "outputs": [],
   "source": []
  },
  {
   "cell_type": "code",
   "execution_count": null,
   "metadata": {},
   "outputs": [],
   "source": []
  },
  {
   "cell_type": "code",
   "execution_count": null,
   "metadata": {},
   "outputs": [],
   "source": []
  },
  {
   "cell_type": "markdown",
   "metadata": {},
   "source": [
    "## Those integer numbers in the list are the row number.\n",
    "\n",
    "**Group Info**\n",
    "```\n",
    "group_by_level.first() # gives you a preview of the first few groups\n",
    "group_by_level.last() # gives you a previous of the last few groups\n",
    "group_by_level.size() # return the number of row (group size) in each group\n",
    "```\n",
    "\n",
    "**To get a group**\n",
    "```\n",
    "group_by_level.get_group(\"Sub-degree\") # get a group by provide the KEY of the group\n",
    "```\n",
    "\n",
    "\n",
    "**To loop through the groups**\n",
    "```\n",
    "for group_key, group_data in group_by_level:\n",
    "    print(group_key)\n",
    "    print(group_data.head())\n",
    "```"
   ]
  },
  {
   "cell_type": "code",
   "execution_count": null,
   "metadata": {},
   "outputs": [],
   "source": []
  },
  {
   "cell_type": "code",
   "execution_count": null,
   "metadata": {},
   "outputs": [],
   "source": []
  },
  {
   "cell_type": "markdown",
   "metadata": {},
   "source": [
    "## Group Aggregated Data\n",
    "\n",
    "An aggregated function returns a single aggregated value for each group.\n",
    "\n",
    "**Using a column name (Returns as Series)**:\n",
    "```\n",
    "group_by_level.Headcount.sum() # summation of each group\n",
    "group_by_level.Headcount.mean() # mean value of each group\n",
    "group_by_level.Headcount.max() # max value of each group\n",
    "group_by_level.Headcount.min() # min value of each group\n",
    "```\n",
    "\n",
    "**Using agg() function (Returns as data-frame)**:\n",
    "```\n",
    "group_by_level.Headcount.agg(['max', 'min', 'count', 'median', 'mean']) \n",
    "```\n",
    "\n",
    "**Without column (Returns as data-frame)**:\n",
    "\n",
    "- we don’t actually have to specify a column like Headcout. \n",
    "- Without a column, it will perform the aggregation across all of the **numeric** columns\n",
    "\n",
    "```\n",
    "group_by_level.agg(np.sum) # summation of each group\n",
    "group_by_level.agg(np.mean) # mean value of each group\n",
    "group_by_level.agg(np.max) # max value of each group\n",
    "group_by_level.agg(np.min) # min value of each group\n",
    "```\n"
   ]
  },
  {
   "cell_type": "code",
   "execution_count": null,
   "metadata": {},
   "outputs": [],
   "source": []
  },
  {
   "cell_type": "code",
   "execution_count": null,
   "metadata": {},
   "outputs": [],
   "source": []
  },
  {
   "cell_type": "code",
   "execution_count": null,
   "metadata": {},
   "outputs": [],
   "source": []
  },
  {
   "cell_type": "code",
   "execution_count": null,
   "metadata": {},
   "outputs": [],
   "source": []
  },
  {
   "cell_type": "code",
   "execution_count": null,
   "metadata": {},
   "outputs": [],
   "source": []
  },
  {
   "cell_type": "code",
   "execution_count": null,
   "metadata": {},
   "outputs": [],
   "source": []
  },
  {
   "cell_type": "code",
   "execution_count": null,
   "metadata": {},
   "outputs": [],
   "source": []
  },
  {
   "cell_type": "code",
   "execution_count": null,
   "metadata": {},
   "outputs": [],
   "source": []
  },
  {
   "cell_type": "markdown",
   "metadata": {},
   "source": [
    "## Aggregated values of the whole data-frame\n",
    "\n",
    "Aggregated functions can also be applied to a complete column of a dataframe\n",
    "```\n",
    "gra[\"Headcount\"].sum()\n",
    "gra[\"Headcount\"].mean()\n",
    "gra[\"Headcount\"].max()\n",
    "gra[\"Headcount\"].min()\n",
    "gra[\"Headcount\"].std()\n",
    "```"
   ]
  },
  {
   "cell_type": "code",
   "execution_count": null,
   "metadata": {},
   "outputs": [],
   "source": []
  },
  {
   "cell_type": "code",
   "execution_count": null,
   "metadata": {},
   "outputs": [],
   "source": []
  },
  {
   "cell_type": "code",
   "execution_count": null,
   "metadata": {},
   "outputs": [],
   "source": []
  },
  {
   "cell_type": "code",
   "execution_count": null,
   "metadata": {},
   "outputs": [],
   "source": []
  },
  {
   "cell_type": "code",
   "execution_count": null,
   "metadata": {},
   "outputs": [],
   "source": []
  },
  {
   "cell_type": "markdown",
   "metadata": {},
   "source": [
    "## Group by with multiple columns\n",
    "\n",
    "**Example**:\n",
    "```\n",
    "gra['LevelOfStudy'].unique()\n",
    "gra['ProgrammeCategory'].unique()\n",
    "group_by_level_category = gra.groupby(['LevelOfStudy', 'ProgrammeCategory'])\n",
    "group_by_level_category.groups\n",
    "group_by_level_category.ngroups # number of groups\n",
    "gra.groupby(['LevelOfStudy', 'ProgrammeCategory']).agg(np.mean)\n",
    "```\n",
    "\n"
   ]
  },
  {
   "cell_type": "code",
   "execution_count": null,
   "metadata": {},
   "outputs": [],
   "source": []
  },
  {
   "cell_type": "code",
   "execution_count": null,
   "metadata": {},
   "outputs": [],
   "source": []
  },
  {
   "cell_type": "code",
   "execution_count": null,
   "metadata": {},
   "outputs": [],
   "source": []
  },
  {
   "cell_type": "code",
   "execution_count": null,
   "metadata": {},
   "outputs": [],
   "source": []
  },
  {
   "cell_type": "code",
   "execution_count": null,
   "metadata": {},
   "outputs": [],
   "source": []
  },
  {
   "cell_type": "code",
   "execution_count": null,
   "metadata": {},
   "outputs": [],
   "source": []
  },
  {
   "cell_type": "code",
   "execution_count": null,
   "metadata": {},
   "outputs": [],
   "source": []
  },
  {
   "cell_type": "code",
   "execution_count": null,
   "metadata": {},
   "outputs": [],
   "source": []
  },
  {
   "cell_type": "markdown",
   "metadata": {},
   "source": [
    "## More on Multiple Columns Groupby\n",
    "\n",
    "**Example**:\n",
    "\n",
    "```\n",
    "group_by_level_category_year = gra.groupby(['LevelOfStudy', 'ProgrammeCategory', 'AcademicYear'])\n",
    "group_by_level_category_year.get_group(('Undergraduate', 'Arts and Humanities', '2020/21' ))\n",
    "```"
   ]
  },
  {
   "cell_type": "code",
   "execution_count": null,
   "metadata": {},
   "outputs": [],
   "source": []
  },
  {
   "cell_type": "code",
   "execution_count": null,
   "metadata": {},
   "outputs": [],
   "source": []
  },
  {
   "cell_type": "markdown",
   "metadata": {},
   "source": [
    "## Groups Filtration\n",
    "\n",
    "Filtration is a process in which we discard some groups, according to a group-wise computation that evaluates `True` or `False`.\n",
    "\n",
    "* `group_by_level.Headcount.size()` # returns number of rows\n",
    "* `group_by_level.Headcount.sum()` # returns the summation of group\n"
   ]
  },
  {
   "cell_type": "code",
   "execution_count": null,
   "metadata": {},
   "outputs": [],
   "source": []
  },
  {
   "cell_type": "code",
   "execution_count": null,
   "metadata": {},
   "outputs": [],
   "source": []
  },
  {
   "cell_type": "code",
   "execution_count": null,
   "metadata": {},
   "outputs": [],
   "source": []
  },
  {
   "cell_type": "markdown",
   "metadata": {},
   "source": [
    "# EXERCISE: Groupby\n",
    "\n",
    "You have 5 minutes to practice `groupby()`\n",
    "\n",
    "Group the graduates by LevelOfStudy and Sex.  Show the **total headcount** for each group.\n",
    "\n"
   ]
  },
  {
   "cell_type": "code",
   "execution_count": null,
   "metadata": {},
   "outputs": [],
   "source": []
  },
  {
   "cell_type": "code",
   "execution_count": null,
   "metadata": {},
   "outputs": [],
   "source": []
  },
  {
   "cell_type": "markdown",
   "metadata": {},
   "source": [
    "# Merging Data\n",
    "- **Concatenation**: combining together Series, DataFrame\n",
    "- **Joining**: join operations is very similar to relational databases like SQL"
   ]
  },
  {
   "cell_type": "markdown",
   "metadata": {},
   "source": [
    "## Reading Excel Files\n",
    "```\n",
    "left = pd.read_excel('./data/Students.xlsx', sheet_name=0)\n",
    "right = pd.read_excel('./data/Students.xlsx', sheet_name=1)\n",
    "```"
   ]
  },
  {
   "cell_type": "code",
   "execution_count": null,
   "metadata": {},
   "outputs": [],
   "source": []
  },
  {
   "cell_type": "markdown",
   "metadata": {},
   "source": [
    "## Using `merge()` function\n",
    "```\n",
    "joined = pd.merge(left, right, on='AcademicYear')\n",
    "joined\n",
    "```"
   ]
  },
  {
   "cell_type": "code",
   "execution_count": null,
   "metadata": {},
   "outputs": [],
   "source": []
  },
  {
   "cell_type": "code",
   "execution_count": null,
   "metadata": {},
   "outputs": [],
   "source": []
  },
  {
   "cell_type": "code",
   "execution_count": null,
   "metadata": {},
   "outputs": [],
   "source": []
  },
  {
   "cell_type": "markdown",
   "metadata": {},
   "source": [
    "## using `concat()` function\n",
    "\n",
    "```\n",
    "df1 = pd.read_excel('./data/Students.xlsx', sheet_name=0)\n",
    "df2 = pd.read_excel('./data/Students.xlsx', sheet_name=0)\n",
    "concatencate1 = pd.concat([df1, df2])\n",
    "concatencate1\n",
    "concatencate2 = pd.concat([df1, df2], axis=1)\n",
    "concatencate2\n",
    "```"
   ]
  },
  {
   "cell_type": "code",
   "execution_count": null,
   "metadata": {},
   "outputs": [],
   "source": []
  },
  {
   "cell_type": "code",
   "execution_count": null,
   "metadata": {},
   "outputs": [],
   "source": []
  },
  {
   "cell_type": "markdown",
   "metadata": {},
   "source": [
    "```\n",
    "left = pd.read_excel('./data/Students.xlsx', sheet_name=0)\n",
    "right = pd.read_excel('./data/Students.xlsx', sheet_name=1)\n",
    "joined = pd.merge(left, right, on='AcademicYear')\n",
    "joined\n",
    "```"
   ]
  },
  {
   "cell_type": "code",
   "execution_count": null,
   "metadata": {},
   "outputs": [],
   "source": []
  },
  {
   "cell_type": "markdown",
   "metadata": {},
   "source": [
    "# Data Visualization"
   ]
  },
  {
   "cell_type": "markdown",
   "metadata": {},
   "source": [
    "## Matplotlib Introduction\n",
    "Matplotlib is a low level graph plotting library for python."
   ]
  },
  {
   "cell_type": "markdown",
   "metadata": {},
   "source": [
    "## Import `matplotlib`\n",
    "\n",
    "Most of features that we will use belong to `pyplot` submodule.\n",
    "\n",
    "The sub module is usually imported as `plt` alias.\n",
    "\n",
    "```\n",
    "import matplotlib.pyplot as plt\n",
    "%matplotlib inline\n",
    "```"
   ]
  },
  {
   "cell_type": "code",
   "execution_count": null,
   "metadata": {},
   "outputs": [],
   "source": []
  },
  {
   "cell_type": "markdown",
   "metadata": {},
   "source": [
    "## Simple Line Plot\n",
    "\n",
    "**Syntax**:\n",
    "\n",
    "Use `plot()` function to draw points.\n",
    "\n",
    "By default, the `plot()` function draws a **line** from point to point.\n",
    "\n",
    "It takes TWO parameter to make a point: \n",
    "\n",
    "* `x` is an array containing the points on the x-axis.\n",
    "\n",
    "* `y` is an array containing the points on the y-axis.\n",
    "\n",
    "```\n",
    "plt.plot(x, y)\n",
    "```\n",
    "\n",
    "* `x`: a numpy array for x-axis\n",
    "* `y`: a numpy array for y-axis\n",
    "\n",
    "**`plot()` function generates line plot by default**:\n",
    "```\n",
    "n = np.arange(1,11) # a range of number from 1 to 10\n",
    "plt.plot(n, n*2)\n",
    "```\n",
    "\n"
   ]
  },
  {
   "cell_type": "code",
   "execution_count": null,
   "metadata": {},
   "outputs": [],
   "source": []
  },
  {
   "cell_type": "markdown",
   "metadata": {},
   "source": [
    "## Plot Without Line (Markers Only)\n",
    "\n",
    "Add a third parameter to specify the marker so as to plot without line. \n",
    "\n",
    "```\n",
    "n = np.arange(1,11) # a range of number from 1 to 10\n",
    "plt.plot(n, n*2, 'o') # the third parameter 'o' is the marker shape\n",
    "```"
   ]
  },
  {
   "cell_type": "code",
   "execution_count": null,
   "metadata": {},
   "outputs": [],
   "source": []
  },
  {
   "cell_type": "markdown",
   "metadata": {},
   "source": [
    "## Other Marker Shapes\n",
    "\n",
    "Other markers to consider:\n",
    "\n",
    "`'o'`\tCircle\t\n",
    "`'*'`\tStar\t\n",
    "`'.'`\tPoint\t\n",
    "`','`\tPixel\t\n",
    "`'x'`\tX\t\n",
    "`'X'`\tX (filled)\t\n",
    "`'+'`\tPlus\t\n",
    "`'P'`\tPlus (filled)\t\n",
    "`'s'`\tSquare\t\n",
    "`'D'`\tDiamond\t\n",
    "`'d'`\tDiamond (thin)\t\n",
    "`'p'`\tPentagon\t\n",
    "`'H'`\tHexagon\t\n",
    "`'h'`\tHexagon\t\n",
    "`'v'`\tTriangle Down\t\n",
    "`'^'`\tTriangle Up\t\n",
    "`'<'`\tTriangle Left\t\n",
    "`'>'`\tTriangle Right\t\n",
    "`'1'`\tTri Down\t\n",
    "`'2'`\tTri Up\t\n",
    "`'3'`\tTri Left\t\n",
    "`'4'`\tTri Right\t\n",
    "`'|'`\tVline\t\n",
    "`'_'`\tHline\n",
    "\n",
    "Examples:\n",
    "```\n",
    "n = np.arange(1,11) # a range of number from 1 to 10\n",
    "plt.plot(n, n*2, 'D') # diamond marker\n",
    "```"
   ]
  },
  {
   "cell_type": "code",
   "execution_count": null,
   "metadata": {},
   "outputs": [],
   "source": []
  },
  {
   "cell_type": "markdown",
   "metadata": {},
   "source": [
    "## Plotting Both Line and Markers\n",
    "\n",
    "Add a parameter name `marker` to your function to keep both line and markers.\n",
    "\n",
    "**Examples**:\n",
    "```\n",
    "n = np.arange(1,11) # a range of number from 1 to 10\n",
    "plt.plot(n, n*2, marker='D') # diamond marker\n",
    "```\n",
    "\n",
    "**Specifying Marker Size**:\n",
    "```\n",
    "n = np.arange(1,11) # a range of number from 1 to 10\n",
    "plt.plot(n, n*2, marker='o', ms=10) # ms: marker size\n",
    "```\n",
    "\n",
    "**Specifying Marker Fill Color**:\n",
    "```\n",
    "n = np.arange(1,11) # a range of number from 1 to 10\n",
    "plt.plot(n, n*2, marker='o', mfc='#FF00FF') # mfc: marker fill color\n",
    "```"
   ]
  },
  {
   "cell_type": "code",
   "execution_count": null,
   "metadata": {},
   "outputs": [],
   "source": []
  },
  {
   "cell_type": "markdown",
   "metadata": {},
   "source": [
    "## Line Styles\n",
    "\n",
    "Add parameter `ls` to specify the line style\n",
    "\n",
    "* `-`: solid line\n",
    "* `:`: dotted line\n",
    "* `--`: dashed line\n",
    "* `-.`: dashdot line\n",
    "\n",
    "Example:\n",
    "```\n",
    "n = np.arange(1,11) # a range of number from 1 to 10\n",
    "plt.plot(n, n*2, ls=\":\") # ls: line style\n",
    "```\n",
    "\n",
    "Add `color` or `c` parameter to specify the line color\n",
    "```\n",
    "plt.plot(n, n*2, color=\"purple\") # color: line color\n",
    "```"
   ]
  },
  {
   "cell_type": "code",
   "execution_count": null,
   "metadata": {},
   "outputs": [],
   "source": []
  },
  {
   "cell_type": "code",
   "execution_count": null,
   "metadata": {},
   "outputs": [],
   "source": []
  },
  {
   "cell_type": "markdown",
   "metadata": {},
   "source": [
    "## Help with `plot()` function\n",
    "\n",
    "Type\n",
    "```\n",
    "?plt.plot\n",
    "```\n",
    "\n",
    "or\n",
    "\n",
    "```\n",
    "help(plt.plot)\n",
    "```"
   ]
  },
  {
   "cell_type": "code",
   "execution_count": null,
   "metadata": {},
   "outputs": [],
   "source": []
  },
  {
   "cell_type": "markdown",
   "metadata": {},
   "source": [
    "## Plot with Real Data\n",
    "\n",
    "**import graduates data file**\n",
    "```\n",
    "gra = pd.read_csv('./data/graduates.csv') \n",
    "```\n",
    "\n",
    "\n",
    "**select subset of undergraduate in 'Business and Management' and male students only**\n",
    "```\n",
    "ug_bm_m = gra[(gra['LevelOfStudy']=='Undergraduate') \n",
    "                    & (gra['ProgrammeCategory']=='Business and Management') \n",
    "                    & (gra['Sex']=='M')]\n",
    "ug_bm_m.head() # shows the rows previews\n",
    "ug_bm_m.info() # show dataframe information\n",
    "```\n",
    "\n",
    "\n",
    "**Extact the required columns in the format of numpy array for x-axis and y-axis**\n",
    "```\n",
    "year = ug_bm_m['AcademicYear'] # extract `AcademicYear` column as `year` numpy array\n",
    "headcount = ug_bm_m['Headcount'] # extract `Headcount` column as `headcount` numpy array\n",
    "\n",
    "plt.plot(year, headcount) # year as x-axis and headcount as y-axis\n",
    "```\n",
    "\n",
    "**Plot without providing x column**:\n",
    "\n",
    "you can plot without providing x-axis. the index number/row number will be automatically used as values for x-axis\n",
    "```\n",
    "plt.plot(headcount) \n",
    "```"
   ]
  },
  {
   "cell_type": "code",
   "execution_count": null,
   "metadata": {},
   "outputs": [],
   "source": []
  },
  {
   "cell_type": "code",
   "execution_count": null,
   "metadata": {},
   "outputs": [],
   "source": []
  },
  {
   "cell_type": "code",
   "execution_count": null,
   "metadata": {},
   "outputs": [],
   "source": []
  },
  {
   "cell_type": "code",
   "execution_count": null,
   "metadata": {},
   "outputs": [],
   "source": []
  },
  {
   "cell_type": "code",
   "execution_count": null,
   "metadata": {},
   "outputs": [],
   "source": []
  },
  {
   "cell_type": "code",
   "execution_count": null,
   "metadata": {},
   "outputs": [],
   "source": []
  },
  {
   "cell_type": "code",
   "execution_count": null,
   "metadata": {},
   "outputs": [],
   "source": []
  },
  {
   "cell_type": "markdown",
   "metadata": {},
   "source": [
    "## Rotating the xtickes\n",
    "\n",
    "Call `xticks()` function to rotate the xticks.  \n",
    "\n",
    "It requires a `rotation` degree in as parameter.\n",
    "\n",
    "Example:\n",
    "```\n",
    "plt.xticks(rotation=90)\n",
    "plt.plot(year, headcount)\n",
    "```"
   ]
  },
  {
   "cell_type": "code",
   "execution_count": null,
   "metadata": {},
   "outputs": [],
   "source": []
  },
  {
   "cell_type": "markdown",
   "metadata": {},
   "source": [
    "## Setting Title\n",
    "\n",
    "**Use `title()` function to add plot title**\n",
    "\n",
    "Example:\n",
    "```\n",
    "plt.title('Undergraduate Students \\n Business and Management')\n",
    "\n",
    "\n",
    "plt.plot(year, headcount)\n",
    "```\n",
    "\n",
    "You can specify title location with `loc` paremeter\n",
    "```\n",
    "plt.title('Undergraduate Students \\n Business and Management', loc=\"right\")\n",
    "plt.title('Undergraduate Students \\n Business and Management', loc=\"left\")\n",
    "\n",
    "```\n",
    "\n",
    "You can specify title font size with `fontsize` parameter\n",
    "```\n",
    "plt.title('Undergraduate Students \\n Business and Management', fontsize=22) \n",
    "```"
   ]
  },
  {
   "cell_type": "code",
   "execution_count": null,
   "metadata": {},
   "outputs": [],
   "source": []
  },
  {
   "cell_type": "code",
   "execution_count": null,
   "metadata": {},
   "outputs": [],
   "source": []
  },
  {
   "cell_type": "markdown",
   "metadata": {},
   "source": [
    "## Setting Axis Labels\n",
    "\n",
    "**Use `xlabel()` and `ylabel()` to add axis labels**\n",
    "\n",
    "Example:\n",
    "```\n",
    "plt.xlabel('Academic Year')\n",
    "plt.ylabel('Student Headcount', fontsize=14)\n",
    "plt.plot(year, headcount)\n",
    "```"
   ]
  },
  {
   "cell_type": "code",
   "execution_count": null,
   "metadata": {},
   "outputs": [],
   "source": []
  },
  {
   "cell_type": "markdown",
   "metadata": {},
   "source": [
    "## Plotting Multiple Lines\n",
    "\n",
    "You can plot multiple line simply by adding more plot() function.\n",
    "\n",
    "**Extracting Female undergraduate in 'Business and Management' for another plot**\n",
    "```\n",
    "ug_bm_f = gra[(gra['LevelOfStudy']=='Undergraduate') \n",
    "                    & (gra['ProgrammeCategory']=='Business and Management') \n",
    "                    & (gra['Sex']=='F')]\n",
    "```\n",
    "\n",
    "**Plotting multiple lines**\n",
    "```\n",
    "plt.plot(ug_bm_f['AcademicYear'], ug_bm_f['Headcount'])\n",
    "plt.plot(ug_bm_m['AcademicYear'], ug_bm_m['Headcount'])\n",
    "```"
   ]
  },
  {
   "cell_type": "code",
   "execution_count": null,
   "metadata": {},
   "outputs": [],
   "source": []
  },
  {
   "cell_type": "code",
   "execution_count": null,
   "metadata": {},
   "outputs": [],
   "source": []
  },
  {
   "cell_type": "markdown",
   "metadata": {},
   "source": [
    "## Add Labels to Line and Show Legend\n",
    "\n",
    "\n",
    "**Adding Labels and Color to Plots**\n",
    "In the above plots, you can't tell which line is which. \n",
    "\n",
    "Let's add label and color to differentiate the lines\n",
    "```\n",
    "plt.plot(ug_bm_f['AcademicYear'], ug_bm_f['Headcount'], label = \"Female\", c=\"tomato\")\n",
    "plt.plot(ug_bm_m['AcademicYear'], ug_bm_m['Headcount'], label = \"Male\")\n",
    "plt.legend() # call this function to show legend\n",
    "```\n",
    "\n",
    "You can change the location of legend if it's blocking your lines\n",
    "```\n",
    "plt.legend(loc=\"center right\")\n",
    "```"
   ]
  },
  {
   "cell_type": "code",
   "execution_count": null,
   "metadata": {},
   "outputs": [],
   "source": []
  },
  {
   "cell_type": "markdown",
   "metadata": {},
   "source": [
    "## Configuring Grid Lines\n",
    "\n",
    "**Call `grid()` function to configure grid line**\n",
    "\n",
    "Example:\n",
    "```\n",
    "plt.plot(ug_bm_f['AcademicYear'], ug_bm_f['Headcount'], label = \"Female\", c=\"tomato\")\n",
    "plt.plot(ug_bm_m['AcademicYear'], ug_bm_m['Headcount'], label = \"Male\")\n",
    "\n",
    "plt.grid() # shows both x and y axis grid lines\n",
    "\n",
    "plt.grid(axis='y') # shows y-axis grid lines only\n",
    "\n",
    "plt.grid(axis='x') # shows x-axis grid lines only\n",
    "\n",
    "```\n",
    "\n",
    "**Configuring `color` and `linewidth`**\n",
    "```\n",
    "plt.grid(c=\"purple\", linewidth=0.1)\n",
    "```\n",
    "\n",
    "\n",
    "**Check help for more on configuring grid lines**\n",
    "```\n",
    "?plt.grid\n",
    "help(plt.grid)\n",
    "```\n"
   ]
  },
  {
   "cell_type": "code",
   "execution_count": null,
   "metadata": {},
   "outputs": [],
   "source": []
  },
  {
   "cell_type": "code",
   "execution_count": null,
   "metadata": {},
   "outputs": [],
   "source": []
  },
  {
   "cell_type": "markdown",
   "metadata": {},
   "source": [
    "## Subplots\n",
    "\n",
    "To draw multiple plots in one fiture, use `subplot()` function to specify the the number of `row`, `column` and the `position` of current plot.\n",
    "\n",
    "**Example 1: 1 Row x 2 Columns**\n",
    "```\n",
    "plt.subplot(1,2,1) # the first two number are row and column while the last number is position\n",
    "plt.plot(ug_bm_f['AcademicYear'], ug_bm_f['Headcount'], label = \"Female\", c=\"tomato\")\n",
    "plt.title(\"Female\")\n",
    "\n",
    "plt.subplot(1,2,2)\n",
    "plt.plot(ug_bm_m['AcademicYear'], ug_bm_m['Headcount'], label = \"Male\")\n",
    "plt.title(\"Male\")\n",
    "```\n",
    "\n",
    "**Example 2: Two Rows x 1 Column**\n",
    "```\n",
    "plt.subplot(2,1,1)\n",
    "plt.plot(ug_bm_f['AcademicYear'], ug_bm_f['Headcount'], label = \"Female\", c=\"tomato\")\n",
    "plt.title(\"Female\")\n",
    "\n",
    "plt.subplot(2,1,2)\n",
    "plt.plot(ug_bm_m['AcademicYear'], ug_bm_m['Headcount'], label = \"Male\")\n",
    "plt.title(\"Male\")\n",
    "```\n"
   ]
  },
  {
   "cell_type": "code",
   "execution_count": null,
   "metadata": {},
   "outputs": [],
   "source": []
  },
  {
   "cell_type": "code",
   "execution_count": null,
   "metadata": {},
   "outputs": [],
   "source": []
  },
  {
   "cell_type": "markdown",
   "metadata": {},
   "source": [
    "## Bar Plot\n",
    "\n"
   ]
  },
  {
   "cell_type": "markdown",
   "metadata": {},
   "source": [
    "**Example**:\n",
    "\n",
    "```\n",
    "plt.bar(ug_bm_m['AcademicYear'], ug_bm_m['Headcount'])\n",
    "```"
   ]
  },
  {
   "cell_type": "code",
   "execution_count": null,
   "metadata": {},
   "outputs": [],
   "source": []
  },
  {
   "cell_type": "markdown",
   "metadata": {},
   "source": [
    "**Example:**\n",
    "```\n",
    "plt.barh(ug_bm_m['AcademicYear'], ug_bm_m['Headcount'])\n",
    "```"
   ]
  },
  {
   "cell_type": "code",
   "execution_count": null,
   "metadata": {},
   "outputs": [],
   "source": []
  },
  {
   "cell_type": "markdown",
   "metadata": {},
   "source": [
    "## Histograms\n",
    "\n",
    "A histogram is a graph showing frequency distributions.\n",
    "```\n",
    "heights = np.random.normal(170, 10, 250)\n",
    "print(heights)\n",
    "\n",
    "plt.hist(heights)\n",
    "```\n",
    "\n"
   ]
  },
  {
   "cell_type": "code",
   "execution_count": null,
   "metadata": {},
   "outputs": [],
   "source": []
  },
  {
   "cell_type": "code",
   "execution_count": null,
   "metadata": {},
   "outputs": [],
   "source": []
  },
  {
   "cell_type": "markdown",
   "metadata": {},
   "source": [
    "## Pie Chart\n",
    "\n",
    "Pie Chart lets you emphasize the portion of whole.\n",
    "\n",
    "**Use `unique()` function to show the distinct values of a column**\n",
    "```\n",
    "gra['LevelOfStudy'].unique()\n",
    "gra['ProgrammeCategory'].unique()\n",
    "```\n",
    "\n",
    "**Exacting Rows**\n",
    "```\n",
    "engr_m_2021 = gra[(gra['ProgrammeCategory']==\"Engineering and Technology\") &\n",
    "             (gra['Sex']=='M') &\n",
    "             (gra['AcademicYear']=='2020/21')]\n",
    "\n",
    "ug_m_2021 = gra[(gra['LevelOfStudy']==\"Undergraduate\") &\n",
    "             (gra['Sex']=='M') &\n",
    "             (gra['AcademicYear']=='2020/21')]\n",
    "```\n",
    "\n",
    "\n",
    "**Plotting Pie-chart with Labels**\n",
    "```\n",
    "plt.pie(engr_m_2021['Headcount'], labels=engr_m_2021['LevelOfStudy'])\n",
    "plt.show()\n",
    "\n",
    "plt.pie(ug_m_2021['Headcount'], labels=ug_m_2021['ProgrammeCategory'])\n",
    "plt.show()\n",
    "```\n"
   ]
  },
  {
   "cell_type": "code",
   "execution_count": null,
   "metadata": {},
   "outputs": [],
   "source": []
  },
  {
   "cell_type": "code",
   "execution_count": null,
   "metadata": {},
   "outputs": [],
   "source": []
  },
  {
   "cell_type": "code",
   "execution_count": null,
   "metadata": {},
   "outputs": [],
   "source": []
  },
  {
   "cell_type": "code",
   "execution_count": null,
   "metadata": {},
   "outputs": [],
   "source": []
  },
  {
   "cell_type": "code",
   "execution_count": null,
   "metadata": {},
   "outputs": [],
   "source": []
  },
  {
   "cell_type": "code",
   "execution_count": null,
   "metadata": {},
   "outputs": [],
   "source": []
  },
  {
   "cell_type": "code",
   "execution_count": null,
   "metadata": {},
   "outputs": [],
   "source": []
  },
  {
   "cell_type": "code",
   "execution_count": null,
   "metadata": {},
   "outputs": [],
   "source": []
  },
  {
   "cell_type": "code",
   "execution_count": null,
   "metadata": {},
   "outputs": [],
   "source": []
  },
  {
   "cell_type": "code",
   "execution_count": null,
   "metadata": {},
   "outputs": [],
   "source": []
  },
  {
   "cell_type": "markdown",
   "metadata": {
    "scrolled": true
   },
   "source": [
    "## Saving Plots\n",
    "\n",
    "Use `savefig()` function to save plots as external files.\n",
    "\n",
    "```\n",
    "plt.pie(ug_m_2021['Headcount'], labels=ug_m_2021['ProgrammeCategory'])\n",
    "plt.savefig(\"./plots/pie.png\")\n",
    "plt.show()\n",
    "```"
   ]
  },
  {
   "cell_type": "code",
   "execution_count": null,
   "metadata": {},
   "outputs": [],
   "source": []
  },
  {
   "cell_type": "markdown",
   "metadata": {},
   "source": [
    "# More on Matplotlib\n",
    "\n",
    "![Matplotlib Tutorial](https://matplotlib.org/3.5.0/_images/sphx_glr_pyplot_005.png)\n",
    "[Matplotlib Tutorial](https://matplotlib.org/stable/tutorials/index.html)"
   ]
  }
 ],
 "metadata": {
  "kernelspec": {
   "display_name": "Python 3 (ipykernel)",
   "language": "python",
   "name": "python3"
  },
  "language_info": {
   "codemirror_mode": {
    "name": "ipython",
    "version": 3
   },
   "file_extension": ".py",
   "mimetype": "text/x-python",
   "name": "python",
   "nbconvert_exporter": "python",
   "pygments_lexer": "ipython3",
   "version": "3.9.12"
  },
  "toc": {
   "base_numbering": 1,
   "nav_menu": {},
   "number_sections": true,
   "sideBar": true,
   "skip_h1_title": false,
   "title_cell": "Table of Contents",
   "title_sidebar": "Contents",
   "toc_cell": false,
   "toc_position": {
    "height": "calc(100% - 180px)",
    "left": "10px",
    "top": "150px",
    "width": "250.875px"
   },
   "toc_section_display": true,
   "toc_window_display": true
  }
 },
 "nbformat": 4,
 "nbformat_minor": 4
}
