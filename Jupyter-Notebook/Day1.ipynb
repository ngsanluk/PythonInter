{
 "cells": [
  {
   "cell_type": "markdown",
   "metadata": {},
   "source": [
    "# `requests` - the python addon to get data by HTTP\n",
    "\n",
    "**Import before you use it**\n",
    "\n",
    "```\n",
    "import requests\n",
    "```\n",
    "\n",
    "Provide a web page link that you want to fetch data from\n",
    "\n",
    "```\n",
    "r = requests.get('https://data.weather.gov.hk/weatherAPI/opendata/weather.php?dataType=fnd&lang=tc') # retrieving live weather data\n",
    "r\n",
    "r.status_code\n",
    "r.headers\n",
    "r.headers['content-type']\n",
    "r.encoding\n",
    "r.text\n",
    "r.json()\n",
    "```\n",
    "To run a CELL\n",
    "- Press `▶ Run` Button\n",
    "- HOLD `SHIFT` + PRESS ```ENTER```"
   ]
  },
  {
   "cell_type": "code",
   "execution_count": 1,
   "metadata": {},
   "outputs": [],
   "source": [
    "import requests"
   ]
  },
  {
   "cell_type": "code",
   "execution_count": 2,
   "metadata": {},
   "outputs": [],
   "source": [
    "r = requests.get('https://data.weather.gov.hk/weatherAPI/opendata/weather.php?dataType=fnd&lang=tc')"
   ]
  },
  {
   "cell_type": "code",
   "execution_count": 3,
   "metadata": {},
   "outputs": [
    {
     "data": {
      "text/plain": [
       "{'Date': 'Tue, 05 Jan 2021 11:59:32 GMT', 'Server': 'Apache', 'Strict-Transport-Security': 'max-age=31536000; includeSubDomains; preload', 'Referrer-Policy': 'no-referrer-when-downgrade', 'X-Frame-Options': 'SAMEORIGIN, SAMEORIGIN', 'Content-Security-Policy': \"default-src 'self'; frame-ancestors 'self' *;, frame-ancestors 'self';\", 'Access-Control-Allow-Origin': '*', 'Content-Length': '3998', 'Keep-Alive': 'timeout=10, max=100', 'Connection': 'Keep-Alive', 'Content-Type': 'application/json; charset=utf-8'}"
      ]
     },
     "execution_count": 3,
     "metadata": {},
     "output_type": "execute_result"
    }
   ],
   "source": [
    "r.headers"
   ]
  },
  {
   "cell_type": "code",
   "execution_count": 4,
   "metadata": {},
   "outputs": [
    {
     "data": {
      "text/plain": [
       "200"
      ]
     },
     "execution_count": 4,
     "metadata": {},
     "output_type": "execute_result"
    }
   ],
   "source": [
    "r.status_code"
   ]
  },
  {
   "cell_type": "code",
   "execution_count": 5,
   "metadata": {},
   "outputs": [
    {
     "data": {
      "text/plain": [
       "'application/json; charset=utf-8'"
      ]
     },
     "execution_count": 5,
     "metadata": {},
     "output_type": "execute_result"
    }
   ],
   "source": [
    "r.headers['content-type']"
   ]
  },
  {
   "cell_type": "code",
   "execution_count": 6,
   "metadata": {},
   "outputs": [
    {
     "data": {
      "text/plain": [
       "'utf-8'"
      ]
     },
     "execution_count": 6,
     "metadata": {},
     "output_type": "execute_result"
    }
   ],
   "source": [
    "r.encoding"
   ]
  },
  {
   "cell_type": "code",
   "execution_count": 7,
   "metadata": {},
   "outputs": [
    {
     "data": {
      "text/plain": [
       "'{\"generalSituation\":\"預料一股冬季季候風會在明日影響廣東沿岸地區，該區早上清涼。隨著季候風在本週後期增強，華南顯著轉冷，雲量較多。受季候風的補充影響，下週初廣東氣溫持續偏低，天色漸轉明朗。\",\"weatherForecast\":[{\"forecastDate\":\"20210106\",\"week\":\"星期三\",\"forecastWind\":\"微風2級，漸轉東北風4至5級。\",\"forecastWeather\":\"漸轉多雲，日間短暫時間有陽光及乾燥。早上清涼。\",\"forecastMaxtemp\":{\"value\":19,\"unit\":\"C\"},\"forecastMintemp\":{\"value\":15,\"unit\":\"C\"},\"forecastMaxrh\":{\"value\":75,\"unit\":\"percent\"},\"forecastMinrh\":{\"value\":55,\"unit\":\"percent\"},\"ForecastIcon\":52},{\"forecastDate\":\"20210107\",\"week\":\"星期四\",\"forecastWind\":\"東至東北風4級，後轉北風5級。\",\"forecastWeather\":\"大致多雲，部分時間天色明朗。稍後天氣顯著轉冷。\",\"forecastMaxtemp\":{\"value\":17,\"unit\":\"C\"},\"forecastMintemp\":{\"value\":11,\"unit\":\"C\"},\"forecastMaxrh\":{\"value\":80,\"unit\":\"percent\"},\"forecastMinrh\":{\"value\":50,\"unit\":\"percent\"},\"ForecastIcon\":92},{\"forecastDate\":\"20210108\",\"week\":\"星期五\",\"forecastWind\":\"北至東北風4至5級，初時離岸間中6級。\",\"forecastWeather\":\"寒冷及乾燥。大致多雲，部分時間天色明朗。\",\"forecastMaxtemp\":{\"value\":13,\"unit\":\"C\"},\"forecastMintemp\":{\"value\":8,\"unit\":\"C\"},\"forecastMaxrh\":{\"value\":65,\"unit\":\"percent\"},\"forecastMinrh\":{\"value\":35,\"unit\":\"percent\"},\"ForecastIcon\":92},{\"forecastDate\":\"20210109\",\"week\":\"星期六\",\"forecastWind\":\"北至東北風4級，初時5級。\",\"forecastWeather\":\"寒冷及乾燥。短暫時間有陽光。\",\"forecastMaxtemp\":{\"value\":13,\"unit\":\"C\"},\"forecastMintemp\":{\"value\":8,\"unit\":\"C\"},\"forecastMaxrh\":{\"value\":60,\"unit\":\"percent\"},\"forecastMinrh\":{\"value\":30,\"unit\":\"percent\"},\"ForecastIcon\":93},{\"forecastDate\":\"20210110\",\"week\":\"星期日\",\"forecastWind\":\"東北風4級。\",\"forecastWeather\":\"寒冷及乾燥。大致多雲，稍後有一兩陣微雨。\",\"forecastMaxtemp\":{\"value\":13,\"unit\":\"C\"},\"forecastMintemp\":{\"value\":10,\"unit\":\"C\"},\"forecastMaxrh\":{\"value\":80,\"unit\":\"percent\"},\"forecastMinrh\":{\"value\":45,\"unit\":\"percent\"},\"ForecastIcon\":93},{\"forecastDate\":\"20210111\",\"week\":\"星期一\",\"forecastWind\":\"北風4至5級。\",\"forecastWeather\":\"寒冷及乾燥。部分時間天色明朗。初時有一兩陣微雨。\",\"forecastMaxtemp\":{\"value\":13,\"unit\":\"C\"},\"forecastMintemp\":{\"value\":9,\"unit\":\"C\"},\"forecastMaxrh\":{\"value\":80,\"unit\":\"percent\"},\"forecastMinrh\":{\"value\":45,\"unit\":\"percent\"},\"ForecastIcon\":92},{\"forecastDate\":\"20210112\",\"week\":\"星期二\",\"forecastWind\":\"北至東北風4級。\",\"forecastWeather\":\"部分時間有陽光及乾燥。早上寒冷。\",\"forecastMaxtemp\":{\"value\":15,\"unit\":\"C\"},\"forecastMintemp\":{\"value\":10,\"unit\":\"C\"},\"forecastMaxrh\":{\"value\":70,\"unit\":\"percent\"},\"forecastMinrh\":{\"value\":35,\"unit\":\"percent\"},\"ForecastIcon\":93},{\"forecastDate\":\"20210113\",\"week\":\"星期三\",\"forecastWind\":\"東北風4級。\",\"forecastWeather\":\"部分時間有陽光。早上寒冷。日間乾燥。\",\"forecastMaxtemp\":{\"value\":18,\"unit\":\"C\"},\"forecastMintemp\":{\"value\":12,\"unit\":\"C\"},\"forecastMaxrh\":{\"value\":80,\"unit\":\"percent\"},\"forecastMinrh\":{\"value\":50,\"unit\":\"percent\"},\"ForecastIcon\":93},{\"forecastDate\":\"20210114\",\"week\":\"星期四\",\"forecastWind\":\"東北風3至4級。\",\"forecastWeather\":\"部分時間有陽光。早上清涼。日間乾燥。\",\"forecastMaxtemp\":{\"value\":20,\"unit\":\"C\"},\"forecastMintemp\":{\"value\":14,\"unit\":\"C\"},\"forecastMaxrh\":{\"value\":85,\"unit\":\"percent\"},\"forecastMinrh\":{\"value\":55,\"unit\":\"percent\"},\"ForecastIcon\":51}],\"updateTime\":\"2021-01-05T19:50:00+08:00\",\"seaTemp\":{\"place\":\"北角\",\"value\":19,\"unit\":\"C\",\"recordTime\":\"2021-01-05T14:00:00+08:00\"},\"soilTemp\":[{\"place\":\"香港天文台\",\"value\":21.1,\"unit\":\"C\",\"recordTime\":\"2021-01-05T07:00:00+08:00\",\"depth\":{\"unit\":\"metre\",\"value\":0.5}},{\"place\":\"香港天文台\",\"value\":23.1,\"unit\":\"C\",\"recordTime\":\"2021-01-05T07:00:00+08:00\",\"depth\":{\"unit\":\"metre\",\"value\":1}}]}'"
      ]
     },
     "execution_count": 7,
     "metadata": {},
     "output_type": "execute_result"
    }
   ],
   "source": [
    "r.text"
   ]
  },
  {
   "cell_type": "code",
   "execution_count": 8,
   "metadata": {},
   "outputs": [
    {
     "data": {
      "text/plain": [
       "{'generalSituation': '預料一股冬季季候風會在明日影響廣東沿岸地區，該區早上清涼。隨著季候風在本週後期增強，華南顯著轉冷，雲量較多。受季候風的補充影響，下週初廣東氣溫持續偏低，天色漸轉明朗。',\n",
       " 'weatherForecast': [{'forecastDate': '20210106',\n",
       "   'week': '星期三',\n",
       "   'forecastWind': '微風2級，漸轉東北風4至5級。',\n",
       "   'forecastWeather': '漸轉多雲，日間短暫時間有陽光及乾燥。早上清涼。',\n",
       "   'forecastMaxtemp': {'value': 19, 'unit': 'C'},\n",
       "   'forecastMintemp': {'value': 15, 'unit': 'C'},\n",
       "   'forecastMaxrh': {'value': 75, 'unit': 'percent'},\n",
       "   'forecastMinrh': {'value': 55, 'unit': 'percent'},\n",
       "   'ForecastIcon': 52},\n",
       "  {'forecastDate': '20210107',\n",
       "   'week': '星期四',\n",
       "   'forecastWind': '東至東北風4級，後轉北風5級。',\n",
       "   'forecastWeather': '大致多雲，部分時間天色明朗。稍後天氣顯著轉冷。',\n",
       "   'forecastMaxtemp': {'value': 17, 'unit': 'C'},\n",
       "   'forecastMintemp': {'value': 11, 'unit': 'C'},\n",
       "   'forecastMaxrh': {'value': 80, 'unit': 'percent'},\n",
       "   'forecastMinrh': {'value': 50, 'unit': 'percent'},\n",
       "   'ForecastIcon': 92},\n",
       "  {'forecastDate': '20210108',\n",
       "   'week': '星期五',\n",
       "   'forecastWind': '北至東北風4至5級，初時離岸間中6級。',\n",
       "   'forecastWeather': '寒冷及乾燥。大致多雲，部分時間天色明朗。',\n",
       "   'forecastMaxtemp': {'value': 13, 'unit': 'C'},\n",
       "   'forecastMintemp': {'value': 8, 'unit': 'C'},\n",
       "   'forecastMaxrh': {'value': 65, 'unit': 'percent'},\n",
       "   'forecastMinrh': {'value': 35, 'unit': 'percent'},\n",
       "   'ForecastIcon': 92},\n",
       "  {'forecastDate': '20210109',\n",
       "   'week': '星期六',\n",
       "   'forecastWind': '北至東北風4級，初時5級。',\n",
       "   'forecastWeather': '寒冷及乾燥。短暫時間有陽光。',\n",
       "   'forecastMaxtemp': {'value': 13, 'unit': 'C'},\n",
       "   'forecastMintemp': {'value': 8, 'unit': 'C'},\n",
       "   'forecastMaxrh': {'value': 60, 'unit': 'percent'},\n",
       "   'forecastMinrh': {'value': 30, 'unit': 'percent'},\n",
       "   'ForecastIcon': 93},\n",
       "  {'forecastDate': '20210110',\n",
       "   'week': '星期日',\n",
       "   'forecastWind': '東北風4級。',\n",
       "   'forecastWeather': '寒冷及乾燥。大致多雲，稍後有一兩陣微雨。',\n",
       "   'forecastMaxtemp': {'value': 13, 'unit': 'C'},\n",
       "   'forecastMintemp': {'value': 10, 'unit': 'C'},\n",
       "   'forecastMaxrh': {'value': 80, 'unit': 'percent'},\n",
       "   'forecastMinrh': {'value': 45, 'unit': 'percent'},\n",
       "   'ForecastIcon': 93},\n",
       "  {'forecastDate': '20210111',\n",
       "   'week': '星期一',\n",
       "   'forecastWind': '北風4至5級。',\n",
       "   'forecastWeather': '寒冷及乾燥。部分時間天色明朗。初時有一兩陣微雨。',\n",
       "   'forecastMaxtemp': {'value': 13, 'unit': 'C'},\n",
       "   'forecastMintemp': {'value': 9, 'unit': 'C'},\n",
       "   'forecastMaxrh': {'value': 80, 'unit': 'percent'},\n",
       "   'forecastMinrh': {'value': 45, 'unit': 'percent'},\n",
       "   'ForecastIcon': 92},\n",
       "  {'forecastDate': '20210112',\n",
       "   'week': '星期二',\n",
       "   'forecastWind': '北至東北風4級。',\n",
       "   'forecastWeather': '部分時間有陽光及乾燥。早上寒冷。',\n",
       "   'forecastMaxtemp': {'value': 15, 'unit': 'C'},\n",
       "   'forecastMintemp': {'value': 10, 'unit': 'C'},\n",
       "   'forecastMaxrh': {'value': 70, 'unit': 'percent'},\n",
       "   'forecastMinrh': {'value': 35, 'unit': 'percent'},\n",
       "   'ForecastIcon': 93},\n",
       "  {'forecastDate': '20210113',\n",
       "   'week': '星期三',\n",
       "   'forecastWind': '東北風4級。',\n",
       "   'forecastWeather': '部分時間有陽光。早上寒冷。日間乾燥。',\n",
       "   'forecastMaxtemp': {'value': 18, 'unit': 'C'},\n",
       "   'forecastMintemp': {'value': 12, 'unit': 'C'},\n",
       "   'forecastMaxrh': {'value': 80, 'unit': 'percent'},\n",
       "   'forecastMinrh': {'value': 50, 'unit': 'percent'},\n",
       "   'ForecastIcon': 93},\n",
       "  {'forecastDate': '20210114',\n",
       "   'week': '星期四',\n",
       "   'forecastWind': '東北風3至4級。',\n",
       "   'forecastWeather': '部分時間有陽光。早上清涼。日間乾燥。',\n",
       "   'forecastMaxtemp': {'value': 20, 'unit': 'C'},\n",
       "   'forecastMintemp': {'value': 14, 'unit': 'C'},\n",
       "   'forecastMaxrh': {'value': 85, 'unit': 'percent'},\n",
       "   'forecastMinrh': {'value': 55, 'unit': 'percent'},\n",
       "   'ForecastIcon': 51}],\n",
       " 'updateTime': '2021-01-05T19:50:00+08:00',\n",
       " 'seaTemp': {'place': '北角',\n",
       "  'value': 19,\n",
       "  'unit': 'C',\n",
       "  'recordTime': '2021-01-05T14:00:00+08:00'},\n",
       " 'soilTemp': [{'place': '香港天文台',\n",
       "   'value': 21.1,\n",
       "   'unit': 'C',\n",
       "   'recordTime': '2021-01-05T07:00:00+08:00',\n",
       "   'depth': {'unit': 'metre', 'value': 0.5}},\n",
       "  {'place': '香港天文台',\n",
       "   'value': 23.1,\n",
       "   'unit': 'C',\n",
       "   'recordTime': '2021-01-05T07:00:00+08:00',\n",
       "   'depth': {'unit': 'metre', 'value': 1}}]}"
      ]
     },
     "execution_count": 8,
     "metadata": {},
     "output_type": "execute_result"
    }
   ],
   "source": [
    "r.json()"
   ]
  },
  {
   "cell_type": "markdown",
   "metadata": {},
   "source": [
    "# Retrieving JSON Data\n",
    "Example commands to retrieve JSON data\n",
    "```\n",
    "r.json()\n",
    "r.json()['generalSituation']\n",
    "r.json()['weatherForecast'][0]\n",
    "r.json()['weatherForecast'][0]['week']\n",
    "r.json()['weatherForecast'][0]['forecastWeather']\n",
    "print(r.json()['weatherForecast'][0]['week'],\n",
    "      ' | ',\n",
    "      r.json()['weatherForecast'][0]['forecastMintemp']['value'],\n",
    "      r.json()['weatherForecast'][0]['forecastMintemp']['unit'],\n",
    "      ' | ',\n",
    "      r.json()['weatherForecast'][0]['forecastWeather']\n",
    "     )\n",
    "```"
   ]
  },
  {
   "cell_type": "code",
   "execution_count": 16,
   "metadata": {},
   "outputs": [
    {
     "data": {
      "text/plain": [
       "{'generalSituation': '預料一股冬季季候風會在明日影響廣東沿岸地區，該區早上清涼。隨著季候風在本週後期增強，華南顯著轉冷，雲量較多。受季候風的補充影響，下週初廣東氣溫持續偏低，天色漸轉明朗。',\n",
       " 'weatherForecast': [{'forecastDate': '20210106',\n",
       "   'week': '星期三',\n",
       "   'forecastWind': '微風2級，漸轉東北風4至5級。',\n",
       "   'forecastWeather': '漸轉多雲，日間短暫時間有陽光及乾燥。早上清涼。',\n",
       "   'forecastMaxtemp': {'value': 19, 'unit': 'C'},\n",
       "   'forecastMintemp': {'value': 15, 'unit': 'C'},\n",
       "   'forecastMaxrh': {'value': 75, 'unit': 'percent'},\n",
       "   'forecastMinrh': {'value': 55, 'unit': 'percent'},\n",
       "   'ForecastIcon': 52},\n",
       "  {'forecastDate': '20210107',\n",
       "   'week': '星期四',\n",
       "   'forecastWind': '東至東北風4級，後轉北風5級。',\n",
       "   'forecastWeather': '大致多雲，部分時間天色明朗。稍後天氣顯著轉冷。',\n",
       "   'forecastMaxtemp': {'value': 17, 'unit': 'C'},\n",
       "   'forecastMintemp': {'value': 11, 'unit': 'C'},\n",
       "   'forecastMaxrh': {'value': 80, 'unit': 'percent'},\n",
       "   'forecastMinrh': {'value': 50, 'unit': 'percent'},\n",
       "   'ForecastIcon': 92},\n",
       "  {'forecastDate': '20210108',\n",
       "   'week': '星期五',\n",
       "   'forecastWind': '北至東北風4至5級，初時離岸間中6級。',\n",
       "   'forecastWeather': '寒冷及乾燥。大致多雲，部分時間天色明朗。',\n",
       "   'forecastMaxtemp': {'value': 13, 'unit': 'C'},\n",
       "   'forecastMintemp': {'value': 8, 'unit': 'C'},\n",
       "   'forecastMaxrh': {'value': 65, 'unit': 'percent'},\n",
       "   'forecastMinrh': {'value': 35, 'unit': 'percent'},\n",
       "   'ForecastIcon': 92},\n",
       "  {'forecastDate': '20210109',\n",
       "   'week': '星期六',\n",
       "   'forecastWind': '北至東北風4級，初時5級。',\n",
       "   'forecastWeather': '寒冷及乾燥。短暫時間有陽光。',\n",
       "   'forecastMaxtemp': {'value': 13, 'unit': 'C'},\n",
       "   'forecastMintemp': {'value': 8, 'unit': 'C'},\n",
       "   'forecastMaxrh': {'value': 60, 'unit': 'percent'},\n",
       "   'forecastMinrh': {'value': 30, 'unit': 'percent'},\n",
       "   'ForecastIcon': 93},\n",
       "  {'forecastDate': '20210110',\n",
       "   'week': '星期日',\n",
       "   'forecastWind': '東北風4級。',\n",
       "   'forecastWeather': '寒冷及乾燥。大致多雲，稍後有一兩陣微雨。',\n",
       "   'forecastMaxtemp': {'value': 13, 'unit': 'C'},\n",
       "   'forecastMintemp': {'value': 10, 'unit': 'C'},\n",
       "   'forecastMaxrh': {'value': 80, 'unit': 'percent'},\n",
       "   'forecastMinrh': {'value': 45, 'unit': 'percent'},\n",
       "   'ForecastIcon': 93},\n",
       "  {'forecastDate': '20210111',\n",
       "   'week': '星期一',\n",
       "   'forecastWind': '北風4至5級。',\n",
       "   'forecastWeather': '寒冷及乾燥。部分時間天色明朗。初時有一兩陣微雨。',\n",
       "   'forecastMaxtemp': {'value': 13, 'unit': 'C'},\n",
       "   'forecastMintemp': {'value': 9, 'unit': 'C'},\n",
       "   'forecastMaxrh': {'value': 80, 'unit': 'percent'},\n",
       "   'forecastMinrh': {'value': 45, 'unit': 'percent'},\n",
       "   'ForecastIcon': 92},\n",
       "  {'forecastDate': '20210112',\n",
       "   'week': '星期二',\n",
       "   'forecastWind': '北至東北風4級。',\n",
       "   'forecastWeather': '部分時間有陽光及乾燥。早上寒冷。',\n",
       "   'forecastMaxtemp': {'value': 15, 'unit': 'C'},\n",
       "   'forecastMintemp': {'value': 10, 'unit': 'C'},\n",
       "   'forecastMaxrh': {'value': 70, 'unit': 'percent'},\n",
       "   'forecastMinrh': {'value': 35, 'unit': 'percent'},\n",
       "   'ForecastIcon': 93},\n",
       "  {'forecastDate': '20210113',\n",
       "   'week': '星期三',\n",
       "   'forecastWind': '東北風4級。',\n",
       "   'forecastWeather': '部分時間有陽光。早上寒冷。日間乾燥。',\n",
       "   'forecastMaxtemp': {'value': 18, 'unit': 'C'},\n",
       "   'forecastMintemp': {'value': 12, 'unit': 'C'},\n",
       "   'forecastMaxrh': {'value': 80, 'unit': 'percent'},\n",
       "   'forecastMinrh': {'value': 50, 'unit': 'percent'},\n",
       "   'ForecastIcon': 93},\n",
       "  {'forecastDate': '20210114',\n",
       "   'week': '星期四',\n",
       "   'forecastWind': '東北風3至4級。',\n",
       "   'forecastWeather': '部分時間有陽光。早上清涼。日間乾燥。',\n",
       "   'forecastMaxtemp': {'value': 20, 'unit': 'C'},\n",
       "   'forecastMintemp': {'value': 14, 'unit': 'C'},\n",
       "   'forecastMaxrh': {'value': 85, 'unit': 'percent'},\n",
       "   'forecastMinrh': {'value': 55, 'unit': 'percent'},\n",
       "   'ForecastIcon': 51}],\n",
       " 'updateTime': '2021-01-05T19:50:00+08:00',\n",
       " 'seaTemp': {'place': '北角',\n",
       "  'value': 19,\n",
       "  'unit': 'C',\n",
       "  'recordTime': '2021-01-05T14:00:00+08:00'},\n",
       " 'soilTemp': [{'place': '香港天文台',\n",
       "   'value': 21.1,\n",
       "   'unit': 'C',\n",
       "   'recordTime': '2021-01-05T07:00:00+08:00',\n",
       "   'depth': {'unit': 'metre', 'value': 0.5}},\n",
       "  {'place': '香港天文台',\n",
       "   'value': 23.1,\n",
       "   'unit': 'C',\n",
       "   'recordTime': '2021-01-05T07:00:00+08:00',\n",
       "   'depth': {'unit': 'metre', 'value': 1}}]}"
      ]
     },
     "execution_count": 16,
     "metadata": {},
     "output_type": "execute_result"
    }
   ],
   "source": [
    "r.json()"
   ]
  },
  {
   "cell_type": "code",
   "execution_count": 17,
   "metadata": {},
   "outputs": [
    {
     "data": {
      "text/plain": [
       "'預料一股冬季季候風會在明日影響廣東沿岸地區，該區早上清涼。隨著季候風在本週後期增強，華南顯著轉冷，雲量較多。受季候風的補充影響，下週初廣東氣溫持續偏低，天色漸轉明朗。'"
      ]
     },
     "execution_count": 17,
     "metadata": {},
     "output_type": "execute_result"
    }
   ],
   "source": [
    "r.json()['generalSituation']"
   ]
  },
  {
   "cell_type": "code",
   "execution_count": 23,
   "metadata": {},
   "outputs": [
    {
     "data": {
      "text/plain": [
       "{'forecastDate': '20210106',\n",
       " 'week': '星期三',\n",
       " 'forecastWind': '微風2級，漸轉東北風4至5級。',\n",
       " 'forecastWeather': '漸轉多雲，日間短暫時間有陽光及乾燥。早上清涼。',\n",
       " 'forecastMaxtemp': {'value': 19, 'unit': 'C'},\n",
       " 'forecastMintemp': {'value': 15, 'unit': 'C'},\n",
       " 'forecastMaxrh': {'value': 75, 'unit': 'percent'},\n",
       " 'forecastMinrh': {'value': 55, 'unit': 'percent'},\n",
       " 'ForecastIcon': 52}"
      ]
     },
     "execution_count": 23,
     "metadata": {},
     "output_type": "execute_result"
    }
   ],
   "source": [
    "r.json()['weatherForecast'][0]"
   ]
  },
  {
   "cell_type": "code",
   "execution_count": 18,
   "metadata": {},
   "outputs": [
    {
     "data": {
      "text/plain": [
       "'星期三'"
      ]
     },
     "execution_count": 18,
     "metadata": {},
     "output_type": "execute_result"
    }
   ],
   "source": [
    "r.json()['weatherForecast'][0]['week']"
   ]
  },
  {
   "cell_type": "code",
   "execution_count": 19,
   "metadata": {},
   "outputs": [
    {
     "data": {
      "text/plain": [
       "'漸轉多雲，日間短暫時間有陽光及乾燥。早上清涼。'"
      ]
     },
     "execution_count": 19,
     "metadata": {},
     "output_type": "execute_result"
    }
   ],
   "source": [
    "r.json()['weatherForecast'][0]['forecastWeather']"
   ]
  },
  {
   "cell_type": "code",
   "execution_count": 28,
   "metadata": {},
   "outputs": [
    {
     "name": "stdout",
     "output_type": "stream",
     "text": [
      "星期三  |  15 C  |  漸轉多雲，日間短暫時間有陽光及乾燥。早上清涼。\n"
     ]
    }
   ],
   "source": [
    "print(r.json()['weatherForecast'][0]['week'],\n",
    "      ' | ',\n",
    "      r.json()['weatherForecast'][0]['forecastMintemp']['value'],\n",
    "      r.json()['weatherForecast'][0]['forecastMintemp']['unit'],\n",
    "      ' | ',\n",
    "      r.json()['weatherForecast'][0]['forecastWeather']\n",
    "     )"
   ]
  },
  {
   "cell_type": "markdown",
   "metadata": {},
   "source": [
    "# Simple HTML Extracting\n",
    "\n",
    "Import `BeautifulSoup` before you use it\n",
    "\n",
    "```\n",
    "from bs4 import BeautifulSoup\n",
    "```\n"
   ]
  },
  {
   "cell_type": "code",
   "execution_count": 29,
   "metadata": {},
   "outputs": [],
   "source": [
    "from bs4 import BeautifulSoup"
   ]
  },
  {
   "cell_type": "markdown",
   "metadata": {},
   "source": [
    "# Dummy HTML Texts\n",
    "\n",
    "Declare the following HTML documents\n",
    "\n",
    "```\n",
    "html_doc = \"\"\"\n",
    "<html><head><title>The Dormouse's story</title></head>\n",
    "<body>\n",
    "<b>Sample HTML Contents</b>\n",
    "<p class=\"title purple\"><b>The Dormouse's story</b></p>\n",
    "\n",
    "<p class=\"story\">Once upon a time there were three little sisters; and their names were\n",
    "<a href=\"http://example.com/elsie\" class=\"sister purple\" id=\"link1\">Elsie</a>,\n",
    "<a href=\"http://example.com/lacie\" class=\"sister\" id=\"link2\">Lacie</a> and\n",
    "<a href=\"http://example.com/tillie\" class=\"sister\" id=\"link3\">Tillie (<b>Important</b>)</a>;\n",
    "and they lived at the bottom of a well.</p>\n",
    "\n",
    "<p class=\"story\">a paragraph ... </p>\n",
    "</body>\n",
    "</html>\n",
    "\"\"\"\n",
    "````"
   ]
  },
  {
   "cell_type": "code",
   "execution_count": 30,
   "metadata": {},
   "outputs": [],
   "source": [
    "html_doc = \"\"\"\n",
    "<html><head><title>The Dormouse's story</title></head>\n",
    "<body>\n",
    "<b>Sample HTML Contents</b>\n",
    "<p class=\"title purple\"><b>The Dormouse's story</b></p>\n",
    "\n",
    "<p class=\"story\">Once upon a time there were three little sisters; and their names were\n",
    "<a href=\"http://example.com/elsie\" class=\"sister purple\" id=\"link1\">Elsie</a>,\n",
    "<a href=\"http://example.com/lacie\" class=\"sister\" id=\"link2\">Lacie</a> and\n",
    "<a href=\"http://example.com/tillie\" class=\"sister\" id=\"link3\">Tillie</a>;\n",
    "and they lived at the bottom of a well.</p>\n",
    "\n",
    "<p class=\"story\">a paragraph ... </p>\n",
    "</body>\n",
    "</html>\n",
    "\"\"\""
   ]
  },
  {
   "cell_type": "code",
   "execution_count": 31,
   "metadata": {},
   "outputs": [],
   "source": [
    "soup = BeautifulSoup(html_doc, 'html.parser')"
   ]
  },
  {
   "cell_type": "code",
   "execution_count": 32,
   "metadata": {},
   "outputs": [
    {
     "data": {
      "text/plain": [
       "\n",
       "<html><head><title>The Dormouse's story</title></head>\n",
       "<body>\n",
       "<b>Sample HTML Contents</b>\n",
       "<p class=\"title purple\"><b>The Dormouse's story</b></p>\n",
       "<p class=\"story\">Once upon a time there were three little sisters; and their names were\n",
       "<a class=\"sister purple\" href=\"http://example.com/elsie\" id=\"link1\">Elsie</a>,\n",
       "<a class=\"sister\" href=\"http://example.com/lacie\" id=\"link2\">Lacie</a> and\n",
       "<a class=\"sister\" href=\"http://example.com/tillie\" id=\"link3\">Tillie</a>;\n",
       "and they lived at the bottom of a well.</p>\n",
       "<p class=\"story\">a paragraph ... </p>\n",
       "</body>\n",
       "</html>"
      ]
     },
     "execution_count": 32,
     "metadata": {},
     "output_type": "execute_result"
    }
   ],
   "source": [
    "soup"
   ]
  },
  {
   "cell_type": "code",
   "execution_count": 35,
   "metadata": {},
   "outputs": [
    {
     "data": {
      "text/plain": [
       "bs4.BeautifulSoup"
      ]
     },
     "execution_count": 35,
     "metadata": {},
     "output_type": "execute_result"
    }
   ],
   "source": [
    "type(soup)"
   ]
  },
  {
   "cell_type": "markdown",
   "metadata": {},
   "source": [
    "# call `prettify()` function to show neat HTML codes\n",
    "The following command will display a neat output\n",
    "```\n",
    "print(soup.prettify())\n",
    "```"
   ]
  },
  {
   "cell_type": "code",
   "execution_count": 34,
   "metadata": {},
   "outputs": [
    {
     "name": "stdout",
     "output_type": "stream",
     "text": [
      "<html>\n",
      " <head>\n",
      "  <title>\n",
      "   The Dormouse's story\n",
      "  </title>\n",
      " </head>\n",
      " <body>\n",
      "  <b>\n",
      "   Sample HTML Contents\n",
      "  </b>\n",
      "  <p class=\"title purple\">\n",
      "   <b>\n",
      "    The Dormouse's story\n",
      "   </b>\n",
      "  </p>\n",
      "  <p class=\"story\">\n",
      "   Once upon a time there were three little sisters; and their names were\n",
      "   <a class=\"sister purple\" href=\"http://example.com/elsie\" id=\"link1\">\n",
      "    Elsie\n",
      "   </a>\n",
      "   ,\n",
      "   <a class=\"sister\" href=\"http://example.com/lacie\" id=\"link2\">\n",
      "    Lacie\n",
      "   </a>\n",
      "   and\n",
      "   <a class=\"sister\" href=\"http://example.com/tillie\" id=\"link3\">\n",
      "    Tillie\n",
      "   </a>\n",
      "   ;\n",
      "and they lived at the bottom of a well.\n",
      "  </p>\n",
      "  <p class=\"story\">\n",
      "   a paragraph ...\n",
      "  </p>\n",
      " </body>\n",
      "</html>\n",
      "\n"
     ]
    }
   ],
   "source": [
    "print(soup.prettify())"
   ]
  },
  {
   "cell_type": "markdown",
   "metadata": {},
   "source": [
    "# Use `find()` to retrieve a child elements\n",
    "Examples:\n",
    "```\n",
    "soup.find('html')\n",
    "soup.find('head')\n",
    "soup.find('title')\n",
    "soup.find('body')\n",
    "soup.find('p')\n",
    "p = soup.find('p')\n",
    "type(p)\n",
    "b = p.find('b')\n",
    "type(b)\n",
    "```\n",
    "`find()` _function will only return ONE SINGLE element even if there are multiple matched_"
   ]
  },
  {
   "cell_type": "code",
   "execution_count": 44,
   "metadata": {},
   "outputs": [
    {
     "data": {
      "text/plain": [
       "bs4.element.Tag"
      ]
     },
     "execution_count": 44,
     "metadata": {},
     "output_type": "execute_result"
    }
   ],
   "source": []
  },
  {
   "cell_type": "markdown",
   "metadata": {},
   "source": [
    "# Use dot  `.` as short hand\n",
    "To retrieve the `<title>` tag\n",
    "```\n",
    "soup.title\n",
    "```\n",
    "Other examples\n",
    "```\n",
    "soup.html\n",
    "soup.head\n",
    "soup.body\n",
    "title_tag = soup.title \n",
    "print(title_tag.name)\n",
    "print(title_tag.string)\n",
    "print(title_tag.text)\n",
    "```\n",
    "\n",
    "To retrieve the title text only\n"
   ]
  },
  {
   "cell_type": "code",
   "execution_count": 45,
   "metadata": {},
   "outputs": [],
   "source": [
    "title_tag = soup.title"
   ]
  },
  {
   "cell_type": "code",
   "execution_count": 46,
   "metadata": {},
   "outputs": [
    {
     "data": {
      "text/plain": [
       "<title>The Dormouse's story</title>"
      ]
     },
     "execution_count": 46,
     "metadata": {},
     "output_type": "execute_result"
    }
   ],
   "source": [
    "title_tag"
   ]
  },
  {
   "cell_type": "code",
   "execution_count": 47,
   "metadata": {},
   "outputs": [
    {
     "data": {
      "text/plain": [
       "bs4.element.Tag"
      ]
     },
     "execution_count": 47,
     "metadata": {},
     "output_type": "execute_result"
    }
   ],
   "source": [
    "type(title_tag)"
   ]
  },
  {
   "cell_type": "code",
   "execution_count": 48,
   "metadata": {},
   "outputs": [
    {
     "data": {
      "text/plain": [
       "'title'"
      ]
     },
     "execution_count": 48,
     "metadata": {},
     "output_type": "execute_result"
    }
   ],
   "source": [
    "title_tag.name"
   ]
  },
  {
   "cell_type": "code",
   "execution_count": 49,
   "metadata": {
    "scrolled": true
   },
   "outputs": [
    {
     "data": {
      "text/plain": [
       "\"The Dormouse's story\""
      ]
     },
     "execution_count": 49,
     "metadata": {},
     "output_type": "execute_result"
    }
   ],
   "source": [
    "title_tag.string"
   ]
  },
  {
   "cell_type": "code",
   "execution_count": 50,
   "metadata": {},
   "outputs": [
    {
     "data": {
      "text/plain": [
       "\"The Dormouse's story\""
      ]
     },
     "execution_count": 50,
     "metadata": {},
     "output_type": "execute_result"
    }
   ],
   "source": [
    "title_tag.text"
   ]
  },
  {
   "cell_type": "code",
   "execution_count": 51,
   "metadata": {},
   "outputs": [
    {
     "data": {
      "text/plain": [
       "bs4.element.NavigableString"
      ]
     },
     "execution_count": 51,
     "metadata": {},
     "output_type": "execute_result"
    }
   ],
   "source": [
    "type(title_tag.string)"
   ]
  },
  {
   "cell_type": "code",
   "execution_count": 52,
   "metadata": {},
   "outputs": [
    {
     "data": {
      "text/plain": [
       "str"
      ]
     },
     "execution_count": 52,
     "metadata": {},
     "output_type": "execute_result"
    }
   ],
   "source": [
    "type(title_tag.text)"
   ]
  },
  {
   "cell_type": "markdown",
   "metadata": {},
   "source": [
    "# Get the parent tag\n",
    "`.parent` gives the parent tag of current tag\n",
    "```\n",
    "title_tag.parent\n",
    "title_tag.parent.name\n",
    "title_tag.parent.string\n",
    "```"
   ]
  },
  {
   "cell_type": "code",
   "execution_count": 53,
   "metadata": {},
   "outputs": [
    {
     "data": {
      "text/plain": [
       "<head><title>The Dormouse's story</title></head>"
      ]
     },
     "execution_count": 53,
     "metadata": {},
     "output_type": "execute_result"
    }
   ],
   "source": [
    "title_tag.parent"
   ]
  },
  {
   "cell_type": "code",
   "execution_count": 54,
   "metadata": {},
   "outputs": [
    {
     "data": {
      "text/plain": [
       "'head'"
      ]
     },
     "execution_count": 54,
     "metadata": {},
     "output_type": "execute_result"
    }
   ],
   "source": [
    "title_tag.parent.name"
   ]
  },
  {
   "cell_type": "code",
   "execution_count": 55,
   "metadata": {},
   "outputs": [
    {
     "data": {
      "text/plain": [
       "\"The Dormouse's story\""
      ]
     },
     "execution_count": 55,
     "metadata": {},
     "output_type": "execute_result"
    }
   ],
   "source": [
    "title_tag.parent.string"
   ]
  },
  {
   "cell_type": "markdown",
   "metadata": {},
   "source": [
    "# Extracting the attributes of a tag\n",
    "Showing attribute\n",
    "```\n",
    "a_tag = soup.a\n",
    "a_tag\n",
    "a_tag[\"class\"]\n",
    "a_tag[\"href\"]\n",
    "a_tag[\"id\"]\n",
    "a_tag.attrs # show all the attributes of a tag\n",
    "```\n",
    "a_tag.attrs\n",
    "Showing all attributes\n",
    "```\n",
    "\n",
    "```"
   ]
  },
  {
   "cell_type": "code",
   "execution_count": 56,
   "metadata": {},
   "outputs": [],
   "source": [
    "a_tag = soup.a"
   ]
  },
  {
   "cell_type": "code",
   "execution_count": 57,
   "metadata": {},
   "outputs": [
    {
     "data": {
      "text/plain": [
       "<a class=\"sister purple\" href=\"http://example.com/elsie\" id=\"link1\">Elsie</a>"
      ]
     },
     "execution_count": 57,
     "metadata": {},
     "output_type": "execute_result"
    }
   ],
   "source": [
    "a_tag"
   ]
  },
  {
   "cell_type": "code",
   "execution_count": 58,
   "metadata": {},
   "outputs": [
    {
     "data": {
      "text/plain": [
       "'link1'"
      ]
     },
     "execution_count": 58,
     "metadata": {},
     "output_type": "execute_result"
    }
   ],
   "source": [
    "a_tag[\"id\"]"
   ]
  },
  {
   "cell_type": "code",
   "execution_count": 59,
   "metadata": {},
   "outputs": [
    {
     "data": {
      "text/plain": [
       "{'href': 'http://example.com/elsie',\n",
       " 'class': ['sister', 'purple'],\n",
       " 'id': 'link1'}"
      ]
     },
     "execution_count": 59,
     "metadata": {},
     "output_type": "execute_result"
    }
   ],
   "source": [
    "a_tag.attrs"
   ]
  },
  {
   "cell_type": "markdown",
   "metadata": {},
   "source": [
    "# Find all the matching tags, use `find_all()`\n",
    "`find_all()` function will return all the matching tags in the form of array\n",
    "Example:\n",
    "```\n",
    "soup.find_all('a')\n",
    "links = soup.find_all('a')\n",
    "print(links)\n",
    "type(links)\n",
    "links[0]\n",
    "links[1]\n",
    "links[0][\"href\"]\n",
    "```\n"
   ]
  },
  {
   "cell_type": "code",
   "execution_count": 60,
   "metadata": {},
   "outputs": [
    {
     "data": {
      "text/plain": [
       "[<a class=\"sister purple\" href=\"http://example.com/elsie\" id=\"link1\">Elsie</a>,\n",
       " <a class=\"sister\" href=\"http://example.com/lacie\" id=\"link2\">Lacie</a>,\n",
       " <a class=\"sister\" href=\"http://example.com/tillie\" id=\"link3\">Tillie</a>]"
      ]
     },
     "execution_count": 60,
     "metadata": {},
     "output_type": "execute_result"
    }
   ],
   "source": [
    "soup.find_all('a')"
   ]
  },
  {
   "cell_type": "code",
   "execution_count": 61,
   "metadata": {},
   "outputs": [],
   "source": [
    "links = soup.find_all('a')"
   ]
  },
  {
   "cell_type": "code",
   "execution_count": 64,
   "metadata": {},
   "outputs": [
    {
     "data": {
      "text/plain": [
       "[<a class=\"sister purple\" href=\"http://example.com/elsie\" id=\"link1\">Elsie</a>,\n",
       " <a class=\"sister\" href=\"http://example.com/lacie\" id=\"link2\">Lacie</a>,\n",
       " <a class=\"sister\" href=\"http://example.com/tillie\" id=\"link3\">Tillie</a>]"
      ]
     },
     "execution_count": 64,
     "metadata": {},
     "output_type": "execute_result"
    }
   ],
   "source": [
    "links"
   ]
  },
  {
   "cell_type": "code",
   "execution_count": 63,
   "metadata": {},
   "outputs": [
    {
     "data": {
      "text/plain": [
       "bs4.element.ResultSet"
      ]
     },
     "execution_count": 63,
     "metadata": {},
     "output_type": "execute_result"
    }
   ],
   "source": [
    "type(links)"
   ]
  },
  {
   "cell_type": "code",
   "execution_count": 65,
   "metadata": {},
   "outputs": [
    {
     "data": {
      "text/plain": [
       "<a class=\"sister purple\" href=\"http://example.com/elsie\" id=\"link1\">Elsie</a>"
      ]
     },
     "execution_count": 65,
     "metadata": {},
     "output_type": "execute_result"
    }
   ],
   "source": [
    "links[0]"
   ]
  },
  {
   "cell_type": "code",
   "execution_count": 66,
   "metadata": {},
   "outputs": [
    {
     "data": {
      "text/plain": [
       "<a class=\"sister\" href=\"http://example.com/lacie\" id=\"link2\">Lacie</a>"
      ]
     },
     "execution_count": 66,
     "metadata": {},
     "output_type": "execute_result"
    }
   ],
   "source": [
    "links[1]"
   ]
  },
  {
   "cell_type": "code",
   "execution_count": 67,
   "metadata": {},
   "outputs": [
    {
     "data": {
      "text/plain": [
       "'http://example.com/elsie'"
      ]
     },
     "execution_count": 67,
     "metadata": {},
     "output_type": "execute_result"
    }
   ],
   "source": [
    "links[0][\"href\"]"
   ]
  },
  {
   "cell_type": "markdown",
   "metadata": {},
   "source": [
    "# Retrieving by css class name\n",
    "Examples:\n",
    "```\n",
    "soup.find(class_='sister')\n",
    "soup.find_all(class_='sister') # returns all tags with sister css class\n",
    "soup.find_all('a', class_='purple') # returns the `<a>` tag with css class purple\n",
    "soup.find_all('p', class_='purple') # returns the `<p>` tag with css class purple\n",
    "\n",
    "```"
   ]
  },
  {
   "cell_type": "code",
   "execution_count": 71,
   "metadata": {},
   "outputs": [
    {
     "data": {
      "text/plain": [
       "[<a class=\"sister purple\" href=\"http://example.com/elsie\" id=\"link1\">Elsie</a>,\n",
       " <a class=\"sister\" href=\"http://example.com/lacie\" id=\"link2\">Lacie</a>,\n",
       " <a class=\"sister\" href=\"http://example.com/tillie\" id=\"link3\">Tillie</a>]"
      ]
     },
     "execution_count": 71,
     "metadata": {},
     "output_type": "execute_result"
    }
   ],
   "source": [
    "soup.find_all(class_='sister')"
   ]
  },
  {
   "cell_type": "code",
   "execution_count": 72,
   "metadata": {},
   "outputs": [
    {
     "data": {
      "text/plain": [
       "[<a class=\"sister purple\" href=\"http://example.com/elsie\" id=\"link1\">Elsie</a>]"
      ]
     },
     "execution_count": 72,
     "metadata": {},
     "output_type": "execute_result"
    }
   ],
   "source": [
    "soup.find_all('a', class_='purple') "
   ]
  },
  {
   "cell_type": "code",
   "execution_count": 73,
   "metadata": {},
   "outputs": [
    {
     "data": {
      "text/plain": [
       "[<p class=\"title purple\"><b>The Dormouse's story</b></p>]"
      ]
     },
     "execution_count": 73,
     "metadata": {},
     "output_type": "execute_result"
    }
   ],
   "source": [
    "soup.find_all('p', class_='purple') "
   ]
  },
  {
   "cell_type": "markdown",
   "metadata": {},
   "source": [
    "# Limit the number in search result\n",
    "Example\n",
    "```\n",
    "soup.find_all('a')\n",
    "soup.find_all('a', limit=2) # set the limit return to 2\n",
    "\n",
    "```"
   ]
  },
  {
   "cell_type": "code",
   "execution_count": 76,
   "metadata": {},
   "outputs": [
    {
     "data": {
      "text/plain": [
       "[<a class=\"sister purple\" href=\"http://example.com/elsie\" id=\"link1\">Elsie</a>,\n",
       " <a class=\"sister\" href=\"http://example.com/lacie\" id=\"link2\">Lacie</a>]"
      ]
     },
     "execution_count": 76,
     "metadata": {},
     "output_type": "execute_result"
    }
   ],
   "source": [
    "soup.find_all('a', limit=2)"
   ]
  },
  {
   "cell_type": "markdown",
   "metadata": {},
   "source": [
    "# Retrieving by HTML `id`\n",
    "Examples:\n",
    "```\n",
    "soup.find(id='link1')\n",
    "```\n",
    "\n",
    "**Note**:\n",
    "- id is a unique value. So you should expecting only one matched tag.  \n",
    "- However there could be exception as it's quite common that HMTL codes are buggy and messy."
   ]
  },
  {
   "cell_type": "code",
   "execution_count": 78,
   "metadata": {},
   "outputs": [
    {
     "data": {
      "text/plain": [
       "<a class=\"sister purple\" href=\"http://example.com/elsie\" id=\"link1\">Elsie</a>"
      ]
     },
     "execution_count": 78,
     "metadata": {},
     "output_type": "execute_result"
    }
   ],
   "source": [
    "soup.find(id='link1')"
   ]
  },
  {
   "cell_type": "markdown",
   "metadata": {},
   "source": [
    "# Advanced CSS Selectors\n",
    "If you are experienced with CSS coding, you will be familiar with the following coding styles\n",
    "```\n",
    "soup.select('body b')\n",
    "soup.select('p b')\n",
    "soup.select('body>b')\n",
    "soup.select('body>p>b')\n",
    "```"
   ]
  },
  {
   "cell_type": "code",
   "execution_count": 80,
   "metadata": {},
   "outputs": [
    {
     "data": {
      "text/plain": [
       "[<b>Sample HTML Contents</b>, <b>The Dormouse's story</b>]"
      ]
     },
     "execution_count": 80,
     "metadata": {},
     "output_type": "execute_result"
    }
   ],
   "source": [
    "soup.select('body b')"
   ]
  },
  {
   "cell_type": "code",
   "execution_count": null,
   "metadata": {},
   "outputs": [],
   "source": []
  },
  {
   "cell_type": "code",
   "execution_count": null,
   "metadata": {},
   "outputs": [],
   "source": []
  },
  {
   "cell_type": "code",
   "execution_count": null,
   "metadata": {},
   "outputs": [],
   "source": []
  },
  {
   "cell_type": "markdown",
   "metadata": {},
   "source": [
    "# Practical Session\n",
    "#### Use requests and BeautifulSoup together\n",
    "BeautifulSoup is NOT a HTTP client, we have to use `requests` to retrieve HTML codes from an actual webiste\n",
    "\n",
    "**Required imports**:\n",
    "```\n",
    "import requests\n",
    "from bs4 import BeautifulSoup\n",
    "```"
   ]
  },
  {
   "cell_type": "code",
   "execution_count": 82,
   "metadata": {},
   "outputs": [],
   "source": [
    "import requests\n",
    "from bs4 import BeautifulSoup"
   ]
  },
  {
   "cell_type": "markdown",
   "metadata": {},
   "source": [
    "### Declaring url to retrieve\n",
    "```\n",
    "url = \"https://stock360.hkej.com/marketWatch/Top20/topGainers\"\n",
    "webpage_request = requests.get(url)\n",
    "soup = BeautifulSoup(webpage_request.content, 'html.parser')\n",
    "```"
   ]
  },
  {
   "cell_type": "code",
   "execution_count": 83,
   "metadata": {},
   "outputs": [],
   "source": [
    "url = \"https://stock360.hkej.com/marketWatch/Top20/topGainers\"\n",
    "webpage_request = requests.get(url)\n",
    "soup = BeautifulSoup(webpage_request.content, 'html.parser')"
   ]
  },
  {
   "cell_type": "code",
   "execution_count": null,
   "metadata": {},
   "outputs": [],
   "source": []
  },
  {
   "cell_type": "code",
   "execution_count": null,
   "metadata": {},
   "outputs": [],
   "source": []
  },
  {
   "cell_type": "markdown",
   "metadata": {},
   "source": [
    "### Use `find()` to retrieve top stock rows\n",
    "```\n",
    "top_stocks_table = soup.find(class_='dt640')\n",
    "print(type(top_stocks_table))\n",
    "stock_rows = top_stocks_table.find_all(\"tr\")\n",
    "print(len(stock_rows))\n",
    "print(stock_rows[0])\n",
    "print(stock_rows[1])\n",
    "print(stock_rows[2])\n",
    "print(stock_rows[3])\n",
    "\n",
    "```"
   ]
  },
  {
   "cell_type": "code",
   "execution_count": null,
   "metadata": {},
   "outputs": [],
   "source": []
  },
  {
   "cell_type": "code",
   "execution_count": null,
   "metadata": {},
   "outputs": [],
   "source": []
  },
  {
   "cell_type": "code",
   "execution_count": null,
   "metadata": {},
   "outputs": [],
   "source": []
  },
  {
   "cell_type": "markdown",
   "metadata": {},
   "source": [
    "### Looping the top stock rows\n",
    "```\n",
    "for i in range(2, len(stock_rows)):\n",
    "    stock = stock_rows[i]\n",
    "    code = stock.find(class_='code')\n",
    "    name = stock.find(class_='name')\n",
    "    print(f'{code}\\t{name}')\n",
    "    #print(f'{code.string}\\t{name.string}')\n",
    "```"
   ]
  },
  {
   "cell_type": "code",
   "execution_count": 109,
   "metadata": {},
   "outputs": [
    {
     "name": "stdout",
     "output_type": "stream",
     "text": [
      "<td class=\"code\" title=\"福紡控股(08506)\"><a href=\"/quotePlus/8506\">08506</a></td>\t<td class=\"name\" title=\"福紡控股(08506)\"><a href=\"/quotePlus/8506\">福紡控股</a></td>\n",
      "<td class=\"code\" title=\"新威斯頓(08242)\"><a href=\"/quotePlus/8242\">08242</a></td>\t<td class=\"name\" title=\"新威斯頓(08242)\"><a href=\"/quotePlus/8242\">新威斯頓</a></td>\n",
      "<td class=\"code\" title=\"世界（集團）(00713)\"><a href=\"/quotePlus/713\">00713</a></td>\t<td class=\"name\" title=\"世界（集團）(00713)\"><a href=\"/quotePlus/713\">世界（集團）</a></td>\n",
      "<td class=\"code\" title=\"劍虹集團控股(01557)\"><a href=\"/quotePlus/1557\">01557</a></td>\t<td class=\"name\" title=\"劍虹集團控股(01557)\"><a href=\"/quotePlus/1557\">劍虹集團控股</a></td>\n",
      "<td class=\"code\" title=\"裕興科技(08005)\"><a href=\"/quotePlus/8005\">08005</a></td>\t<td class=\"name\" title=\"裕興科技(08005)\"><a href=\"/quotePlus/8005\">裕興科技</a></td>\n",
      "<td class=\"code\" title=\"圓通速遞(國際)(06123)\"><a href=\"/quotePlus/6123\">06123</a></td>\t<td class=\"name\" title=\"圓通速遞(國際)(06123)\"><a href=\"/quotePlus/6123\">圓通速遞(國際)</a></td>\n",
      "<td class=\"code\" title=\"中聯發展控股(00264)\"><a href=\"/quotePlus/264\">00264</a></td>\t<td class=\"name\" title=\"中聯發展控股(00264)\"><a href=\"/quotePlus/264\">中聯發展控股</a></td>\n",
      "<td class=\"code\" title=\"中國蜀塔(08623)\"><a href=\"/quotePlus/8623\">08623</a></td>\t<td class=\"name\" title=\"中國蜀塔(08623)\"><a href=\"/quotePlus/8623\">中國蜀塔</a></td>\n",
      "<td class=\"code\" title=\"裕勤控股(02110)\"><a href=\"/quotePlus/2110\">02110</a></td>\t<td class=\"name\" title=\"裕勤控股(02110)\"><a href=\"/quotePlus/2110\">裕勤控股</a></td>\n",
      "<td class=\"code\" title=\"沛然環保(08320)\"><a href=\"/quotePlus/8320\">08320</a></td>\t<td class=\"name\" title=\"沛然環保(08320)\"><a href=\"/quotePlus/8320\">沛然環保</a></td>\n",
      "<td class=\"code\" title=\"匯友生命科學(08088)\"><a href=\"/quotePlus/8088\">08088</a></td>\t<td class=\"name\" title=\"匯友生命科學(08088)\"><a href=\"/quotePlus/8088\">匯友生命科學</a></td>\n",
      "<td class=\"code\" title=\"Republic Healthcare(08357)\"><a href=\"/quotePlus/8357\">08357</a></td>\t<td class=\"name\" title=\"Republic Healthcare(08357)\"><a href=\"/quotePlus/8357\">Republic Healthcare</a></td>\n",
      "<td class=\"code\" title=\"麗豐控股(01125)\"><a href=\"/quotePlus/1125\">01125</a></td>\t<td class=\"name\" title=\"麗豐控股(01125)\"><a href=\"/quotePlus/1125\">麗豐控股</a></td>\n",
      "<td class=\"code\" title=\"倩碧控股(08367)\"><a href=\"/quotePlus/8367\">08367</a></td>\t<td class=\"name\" title=\"倩碧控股(08367)\"><a href=\"/quotePlus/8367\">倩碧控股</a></td>\n",
      "<td class=\"code\" title=\"首長四方(集團)(00730)\"><a href=\"/quotePlus/730\">00730</a></td>\t<td class=\"name\" title=\"首長四方(集團)(00730)\"><a href=\"/quotePlus/730\">首長四方(集團)</a></td>\n",
      "<td class=\"code\" title=\"皇璽餐飲集團(08300)\"><a href=\"/quotePlus/8300\">08300</a></td>\t<td class=\"name\" title=\"皇璽餐飲集團(08300)\"><a href=\"/quotePlus/8300\">皇璽餐飲集團</a></td>\n",
      "<td class=\"code\" title=\"無縫綠色(08150)\"><a href=\"/quotePlus/8150\">08150</a></td>\t<td class=\"name\" title=\"無縫綠色(08150)\"><a href=\"/quotePlus/8150\">無縫綠色</a></td>\n",
      "<td class=\"code\" title=\"中國藝術金融(01572)\"><a href=\"/quotePlus/1572\">01572</a></td>\t<td class=\"name\" title=\"中國藝術金融(01572)\"><a href=\"/quotePlus/1572\">中國藝術金融</a></td>\n",
      "<td class=\"code\" title=\"中國醫療集團(08225)\"><a href=\"/quotePlus/8225\">08225</a></td>\t<td class=\"name\" title=\"中國醫療集團(08225)\"><a href=\"/quotePlus/8225\">中國醫療集團</a></td>\n",
      "<td class=\"code\" title=\"洪橋集團(08137)\"><a href=\"/quotePlus/8137\">08137</a></td>\t<td class=\"name\" title=\"洪橋集團(08137)\"><a href=\"/quotePlus/8137\">洪橋集團</a></td>\n"
     ]
    }
   ],
   "source": [
    "for i in range(2, len(stock_rows)):\n",
    "    stock = stock_rows[i]\n",
    "    code = stock.find(class_='code')\n",
    "    name = stock.find(class_='name')\n",
    "    print(f'{code}\\t{name}')\n",
    "    #print(f'{code.string}\\t{name.string}')\n"
   ]
  },
  {
   "cell_type": "markdown",
   "metadata": {},
   "source": [
    "### Retrieving more stock columns\n",
    "```\n",
    "for i in range(2, len(stock_rows)):\n",
    "    stock = stock_rows[i]\n",
    "    code = stock.find(class_='code')\n",
    "    name = stock.find(class_='name')\n",
    "    latest = stock.find(class_='latest')\n",
    "    change = stock.find(class_='change')\n",
    "    change_p = stock.find(class_='change_p')\n",
    "    volumn = stock.find(class_='volumn')\n",
    "    turnover = stock.find(class_='turnover')\n",
    "    market_cap = stock.find(class_='marketCap')    \n",
    "    print(f'{code.string}\\t{name.string}\\t{latest.string}\\t{change_p.text}')\n",
    "```"
   ]
  },
  {
   "cell_type": "code",
   "execution_count": 110,
   "metadata": {},
   "outputs": [
    {
     "name": "stdout",
     "output_type": "stream",
     "text": [
      "08506\t福紡控股\t1.200\t+84.6\n",
      "08242\t新威斯頓\t0.020\t+66.7\n",
      "00713\t世界（集團）\t0.550\t+44.7\n",
      "01557\t劍虹集團控股\t0.570\t+44.3\n",
      "08005\t裕興科技\t0.300\t+35.7\n",
      "06123\t圓通速遞(國際)\t6.200\t+32.5\n",
      "00264\t中聯發展控股\t1.250\t+30.2\n",
      "08623\t中國蜀塔\t0.113\t+29.9\n",
      "02110\t裕勤控股\t0.127\t+27.0\n",
      "08320\t沛然環保\t0.071\t+26.8\n",
      "08088\t匯友生命科學\t0.043\t+26.5\n",
      "08357\tRepublic Healthcare\t0.430\t+26.5\n",
      "01125\t麗豐控股\t7.500\t+24.6\n",
      "08367\t倩碧控股\t0.144\t+24.1\n",
      "00730\t首長四方(集團)\t0.295\t+23.4\n",
      "08300\t皇璽餐飲集團\t0.038\t+22.6\n",
      "08150\t無縫綠色\t0.038\t+22.6\n",
      "01572\t中國藝術金融\t0.162\t+21.8\n",
      "08225\t中國醫療集團\t0.510\t+21.4\n",
      "08137\t洪橋集團\t0.600\t+21.2\n"
     ]
    }
   ],
   "source": [
    "for i in range(2, len(stock_rows)):\n",
    "    stock = stock_rows[i]\n",
    "    code = stock.find(class_='code')\n",
    "    name = stock.find(class_='name')\n",
    "    latest = stock.find(class_='latest')\n",
    "    change = stock.find(class_='change')\n",
    "    change_p = stock.find(class_='change_p')\n",
    "    volumn = stock.find(class_='volumn')\n",
    "    turnover = stock.find(class_='turnover')\n",
    "    market_cap = stock.find(class_='marketCap')    \n",
    "    print(f'{code.string}\\t{name.string}\\t{latest.string}\\t{change_p.text}')\n"
   ]
  },
  {
   "cell_type": "code",
   "execution_count": null,
   "metadata": {},
   "outputs": [],
   "source": []
  },
  {
   "cell_type": "markdown",
   "metadata": {},
   "source": [
    "# Run the complete python script\n",
    "There is a complete python script named `get_active_stock.py` in the script folder of the downloaded folder\n",
    "\n",
    "**To run the script**:\n",
    "- Open the command line window / Terminal\n",
    "- Type in command: `python3 get_active_stock.py`"
   ]
  },
  {
   "cell_type": "code",
   "execution_count": null,
   "metadata": {},
   "outputs": [],
   "source": []
  }
 ],
 "metadata": {
  "kernelspec": {
   "display_name": "Python 3",
   "language": "python",
   "name": "python3"
  },
  "language_info": {
   "codemirror_mode": {
    "name": "ipython",
    "version": 3
   },
   "file_extension": ".py",
   "mimetype": "text/x-python",
   "name": "python",
   "nbconvert_exporter": "python",
   "pygments_lexer": "ipython3",
   "version": "3.8.5"
  }
 },
 "nbformat": 4,
 "nbformat_minor": 4
}
