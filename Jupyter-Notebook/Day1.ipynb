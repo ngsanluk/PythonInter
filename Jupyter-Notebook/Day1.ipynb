{
 "cells": [
  {
   "cell_type": "markdown",
   "metadata": {},
   "source": [
    "# Python Intermediate - Day 1\n",
    "---\n",
    "# `requests` - the python addon to get data by HTTP\n",
    "\n",
    "**Import before you use it**\n",
    "\n",
    "```\n",
    "import requests\n",
    "```\n",
    "\n",
    "Provide a web page link that you want to fetch data from\n",
    "\n",
    "```\n",
    "r = requests.get('https://data.weather.gov.hk/weatherAPI/opendata/weather.php?dataType=fnd&lang=tc') # retrieving live weather data\n",
    "r\n",
    "r.status_code\n",
    "r.headers\n",
    "r.headers['content-type']\n",
    "r.encoding\n",
    "r.text\n",
    "r.json()\n",
    "```\n",
    "To run a CELL\n",
    "- Press `▶ Run` Button\n",
    "- HOLD `SHIFT` + PRESS ```ENTER```"
   ]
  },
  {
   "cell_type": "code",
   "execution_count": null,
   "metadata": {},
   "outputs": [],
   "source": []
  },
  {
   "cell_type": "code",
   "execution_count": null,
   "metadata": {},
   "outputs": [],
   "source": []
  },
  {
   "cell_type": "code",
   "execution_count": null,
   "metadata": {},
   "outputs": [],
   "source": []
  },
  {
   "cell_type": "code",
   "execution_count": null,
   "metadata": {},
   "outputs": [],
   "source": []
  },
  {
   "cell_type": "code",
   "execution_count": null,
   "metadata": {},
   "outputs": [],
   "source": []
  },
  {
   "cell_type": "code",
   "execution_count": null,
   "metadata": {},
   "outputs": [],
   "source": []
  },
  {
   "cell_type": "code",
   "execution_count": null,
   "metadata": {},
   "outputs": [],
   "source": []
  },
  {
   "cell_type": "code",
   "execution_count": null,
   "metadata": {},
   "outputs": [],
   "source": []
  },
  {
   "cell_type": "markdown",
   "metadata": {},
   "source": [
    "# Retrieving JSON Data\n",
    "Example commands to retrieve JSON data\n",
    "```\n",
    "r.json()\n",
    "r.json()['generalSituation']\n",
    "r.json()['weatherForecast'][0]\n",
    "r.json()['weatherForecast'][0]['week']\n",
    "r.json()['weatherForecast'][0]['forecastWeather']\n",
    "print(r.json()['weatherForecast'][0]['week'],\n",
    "      ' | ',\n",
    "      r.json()['weatherForecast'][0]['forecastMintemp']['value'],\n",
    "      r.json()['weatherForecast'][0]['forecastMintemp']['unit'],\n",
    "      ' | ',\n",
    "      r.json()['weatherForecast'][0]['forecastWeather']\n",
    "     )\n",
    "```"
   ]
  },
  {
   "cell_type": "code",
   "execution_count": null,
   "metadata": {},
   "outputs": [],
   "source": []
  },
  {
   "cell_type": "code",
   "execution_count": null,
   "metadata": {},
   "outputs": [],
   "source": []
  },
  {
   "cell_type": "code",
   "execution_count": null,
   "metadata": {},
   "outputs": [],
   "source": []
  },
  {
   "cell_type": "code",
   "execution_count": null,
   "metadata": {},
   "outputs": [],
   "source": []
  },
  {
   "cell_type": "code",
   "execution_count": null,
   "metadata": {},
   "outputs": [],
   "source": []
  },
  {
   "cell_type": "code",
   "execution_count": null,
   "metadata": {},
   "outputs": [],
   "source": []
  },
  {
   "cell_type": "markdown",
   "metadata": {},
   "source": [
    "# Simple HTML Extracting\n",
    "\n",
    "Import `BeautifulSoup` before you use it\n",
    "\n",
    "```\n",
    "from bs4 import BeautifulSoup\n",
    "```\n"
   ]
  },
  {
   "cell_type": "code",
   "execution_count": null,
   "metadata": {},
   "outputs": [],
   "source": []
  },
  {
   "cell_type": "markdown",
   "metadata": {},
   "source": [
    "# Dummy HTML Texts\n",
    "\n",
    "Declare the following HTML documents\n",
    "\n",
    "```\n",
    "html_doc = \"\"\"\n",
    "<html><head><title>The Dormouse's story</title></head>\n",
    "<body>\n",
    "<b>Sample HTML Contents</b>\n",
    "<p class=\"title purple\"><b>The Dormouse's story</b></p>\n",
    "\n",
    "<p class=\"story\">Once upon a time there were three little sisters; and their names were\n",
    "<a href=\"http://example.com/elsie\" class=\"sister purple\" id=\"link1\">Elsie</a>,\n",
    "<a href=\"http://example.com/lacie\" class=\"sister\" id=\"link2\">Lacie</a> and\n",
    "<a href=\"http://example.com/tillie\" class=\"sister\" id=\"link3\">Tillie (<b>Important</b>)</a>;\n",
    "and they lived at the bottom of a well.</p>\n",
    "\n",
    "<p class=\"story\">a paragraph ... </p>\n",
    "</body>\n",
    "</html>\n",
    "\"\"\"\n",
    "````\n",
    "\n",
    "**Type the following commands to get to know soup**:\n",
    "```\n",
    "soup = BeautifulSoup(html_doc, 'html.parser')\n",
    "soup\n",
    "type(soup)\n",
    "```"
   ]
  },
  {
   "cell_type": "code",
   "execution_count": null,
   "metadata": {},
   "outputs": [],
   "source": []
  },
  {
   "cell_type": "code",
   "execution_count": null,
   "metadata": {},
   "outputs": [],
   "source": []
  },
  {
   "cell_type": "code",
   "execution_count": null,
   "metadata": {},
   "outputs": [],
   "source": []
  },
  {
   "cell_type": "code",
   "execution_count": null,
   "metadata": {},
   "outputs": [],
   "source": []
  },
  {
   "cell_type": "markdown",
   "metadata": {},
   "source": [
    "# call `prettify()` function to show neat HTML codes\n",
    "The following command will display a neat output\n",
    "```\n",
    "print(soup.prettify())\n",
    "```"
   ]
  },
  {
   "cell_type": "code",
   "execution_count": null,
   "metadata": {},
   "outputs": [],
   "source": []
  },
  {
   "cell_type": "markdown",
   "metadata": {},
   "source": [
    "# Use `find()` to retrieve a child elements\n",
    "Examples:\n",
    "```\n",
    "soup.find('html')\n",
    "soup.find('head')\n",
    "soup.find('title')\n",
    "soup.find('body')\n",
    "soup.find('p')\n",
    "p = soup.find('p')\n",
    "type(p)\n",
    "b = p.find('b')\n",
    "type(b)\n",
    "```\n",
    "`find()` _function will only return ONE SINGLE element even if there are multiple matched_"
   ]
  },
  {
   "cell_type": "code",
   "execution_count": null,
   "metadata": {},
   "outputs": [],
   "source": []
  },
  {
   "cell_type": "markdown",
   "metadata": {},
   "source": [
    "# Use dot  `.` as short hand\n",
    "To retrieve the `<title>` tag\n",
    "```\n",
    "soup.title\n",
    "```\n",
    "Other examples\n",
    "```\n",
    "soup.html\n",
    "soup.head\n",
    "soup.body\n",
    "title_tag = soup.title \n",
    "print(title_tag.name)\n",
    "print(title_tag.string)\n",
    "print(title_tag.text)\n",
    "```\n",
    "\n",
    "To retrieve the title text only\n"
   ]
  },
  {
   "cell_type": "code",
   "execution_count": null,
   "metadata": {},
   "outputs": [],
   "source": []
  },
  {
   "cell_type": "code",
   "execution_count": null,
   "metadata": {},
   "outputs": [],
   "source": []
  },
  {
   "cell_type": "code",
   "execution_count": null,
   "metadata": {},
   "outputs": [],
   "source": []
  },
  {
   "cell_type": "code",
   "execution_count": null,
   "metadata": {},
   "outputs": [],
   "source": []
  },
  {
   "cell_type": "code",
   "execution_count": null,
   "metadata": {
    "scrolled": true
   },
   "outputs": [],
   "source": []
  },
  {
   "cell_type": "code",
   "execution_count": null,
   "metadata": {},
   "outputs": [],
   "source": []
  },
  {
   "cell_type": "code",
   "execution_count": null,
   "metadata": {},
   "outputs": [],
   "source": []
  },
  {
   "cell_type": "code",
   "execution_count": null,
   "metadata": {},
   "outputs": [],
   "source": []
  },
  {
   "cell_type": "markdown",
   "metadata": {},
   "source": [
    "# Get the parent tag\n",
    "`.parent` gives the parent tag of current tag\n",
    "```\n",
    "title_tag.parent\n",
    "title_tag.parent.name\n",
    "title_tag.parent.string\n",
    "```"
   ]
  },
  {
   "cell_type": "code",
   "execution_count": null,
   "metadata": {},
   "outputs": [],
   "source": []
  },
  {
   "cell_type": "code",
   "execution_count": null,
   "metadata": {},
   "outputs": [],
   "source": []
  },
  {
   "cell_type": "code",
   "execution_count": null,
   "metadata": {},
   "outputs": [],
   "source": []
  },
  {
   "cell_type": "markdown",
   "metadata": {},
   "source": [
    "# Extracting the attributes of a tag\n",
    "Showing attribute\n",
    "```\n",
    "a_tag = soup.a\n",
    "a_tag\n",
    "a_tag[\"class\"]\n",
    "a_tag[\"href\"]\n",
    "a_tag[\"id\"]\n",
    "a_tag.attrs # show all the attributes of a tag\n",
    "```\n",
    "a_tag.attrs\n",
    "Showing all attributes\n",
    "```\n",
    "\n",
    "```"
   ]
  },
  {
   "cell_type": "code",
   "execution_count": null,
   "metadata": {},
   "outputs": [],
   "source": []
  },
  {
   "cell_type": "code",
   "execution_count": null,
   "metadata": {},
   "outputs": [],
   "source": []
  },
  {
   "cell_type": "code",
   "execution_count": null,
   "metadata": {},
   "outputs": [],
   "source": []
  },
  {
   "cell_type": "code",
   "execution_count": null,
   "metadata": {},
   "outputs": [],
   "source": []
  },
  {
   "cell_type": "markdown",
   "metadata": {},
   "source": [
    "# Find all the matching tags, use `find_all()`\n",
    "`find_all()` function will return all the matching tags in the form of array\n",
    "Example:\n",
    "```\n",
    "soup.find_all('a')\n",
    "links = soup.find_all('a')\n",
    "print(links)\n",
    "type(links)\n",
    "links[0]\n",
    "links[1]\n",
    "links[0][\"href\"]\n",
    "```\n"
   ]
  },
  {
   "cell_type": "code",
   "execution_count": null,
   "metadata": {},
   "outputs": [],
   "source": []
  },
  {
   "cell_type": "code",
   "execution_count": null,
   "metadata": {},
   "outputs": [],
   "source": []
  },
  {
   "cell_type": "code",
   "execution_count": null,
   "metadata": {},
   "outputs": [],
   "source": []
  },
  {
   "cell_type": "code",
   "execution_count": null,
   "metadata": {},
   "outputs": [],
   "source": []
  },
  {
   "cell_type": "code",
   "execution_count": null,
   "metadata": {},
   "outputs": [],
   "source": []
  },
  {
   "cell_type": "code",
   "execution_count": null,
   "metadata": {},
   "outputs": [],
   "source": []
  },
  {
   "cell_type": "code",
   "execution_count": null,
   "metadata": {},
   "outputs": [],
   "source": []
  },
  {
   "cell_type": "markdown",
   "metadata": {},
   "source": [
    "# Retrieving by css class name\n",
    "Examples:\n",
    "```\n",
    "soup.find(class_='sister')\n",
    "soup.find_all(class_='sister') # returns all tags with sister css class\n",
    "soup.find_all('a', class_='purple') # returns the `<a>` tag with css class purple\n",
    "soup.find_all('p', class_='purple') # returns the `<p>` tag with css class purple\n",
    "\n",
    "```"
   ]
  },
  {
   "cell_type": "code",
   "execution_count": null,
   "metadata": {},
   "outputs": [],
   "source": []
  },
  {
   "cell_type": "code",
   "execution_count": null,
   "metadata": {},
   "outputs": [],
   "source": []
  },
  {
   "cell_type": "code",
   "execution_count": null,
   "metadata": {},
   "outputs": [],
   "source": []
  },
  {
   "cell_type": "markdown",
   "metadata": {},
   "source": [
    "# Limit the number in search result\n",
    "Example\n",
    "```\n",
    "soup.find_all('a')\n",
    "soup.find_all('a', limit=2) # set the limit return to 2\n",
    "\n",
    "```"
   ]
  },
  {
   "cell_type": "code",
   "execution_count": null,
   "metadata": {},
   "outputs": [],
   "source": []
  },
  {
   "cell_type": "markdown",
   "metadata": {},
   "source": [
    "# Retrieving by HTML `id`\n",
    "Examples:\n",
    "```\n",
    "soup.find(id='link1')\n",
    "```\n",
    "\n",
    "**Note**:\n",
    "- id is a unique value. So you should expecting only one matched tag.  \n",
    "- However there could be exception as it's quite common that HMTL codes are buggy and messy."
   ]
  },
  {
   "cell_type": "code",
   "execution_count": null,
   "metadata": {},
   "outputs": [],
   "source": []
  },
  {
   "cell_type": "markdown",
   "metadata": {},
   "source": [
    "# Advanced CSS Selectors\n",
    "If you are experienced with CSS coding, you will be familiar with the following coding styles\n",
    "```\n",
    "soup.select('body b')\n",
    "soup.select('p b')\n",
    "soup.select('body>b')\n",
    "soup.select('body>p>b')\n",
    "```"
   ]
  },
  {
   "cell_type": "code",
   "execution_count": null,
   "metadata": {},
   "outputs": [],
   "source": []
  },
  {
   "cell_type": "code",
   "execution_count": null,
   "metadata": {},
   "outputs": [],
   "source": []
  },
  {
   "cell_type": "code",
   "execution_count": null,
   "metadata": {},
   "outputs": [],
   "source": []
  },
  {
   "cell_type": "code",
   "execution_count": null,
   "metadata": {},
   "outputs": [],
   "source": []
  },
  {
   "cell_type": "markdown",
   "metadata": {},
   "source": [
    "# Practical Session\n",
    "#### Use requests and BeautifulSoup together\n",
    "BeautifulSoup is NOT a HTTP client, we have to use `requests` to retrieve HTML codes from an actual webiste\n",
    "\n",
    "**Required imports**:\n",
    "```\n",
    "import requests\n",
    "from bs4 import BeautifulSoup\n",
    "```"
   ]
  },
  {
   "cell_type": "code",
   "execution_count": null,
   "metadata": {},
   "outputs": [],
   "source": [
    "import requests\n",
    "from bs4 import BeautifulSoup"
   ]
  },
  {
   "cell_type": "markdown",
   "metadata": {},
   "source": [
    "### Declaring url to retrieve\n",
    "```\n",
    "url = \"https://stock360.hkej.com/marketWatch/Top20/topGainers\"\n",
    "webpage_request = requests.get(url)\n",
    "soup = BeautifulSoup(webpage_request.content, 'html.parser')\n",
    "```"
   ]
  },
  {
   "cell_type": "code",
   "execution_count": null,
   "metadata": {},
   "outputs": [],
   "source": []
  },
  {
   "cell_type": "code",
   "execution_count": null,
   "metadata": {},
   "outputs": [],
   "source": []
  },
  {
   "cell_type": "code",
   "execution_count": null,
   "metadata": {},
   "outputs": [],
   "source": []
  },
  {
   "cell_type": "markdown",
   "metadata": {},
   "source": [
    "### Use `find()` to retrieve top stock rows\n",
    "```\n",
    "top_stocks_table = soup.find(class_='dt640')\n",
    "print(type(top_stocks_table))\n",
    "stock_rows = top_stocks_table.find_all(\"tr\")\n",
    "print(len(stock_rows))\n",
    "print(stock_rows[0])\n",
    "print(stock_rows[1])\n",
    "print(stock_rows[2])\n",
    "print(stock_rows[3])\n",
    "\n",
    "```"
   ]
  },
  {
   "cell_type": "code",
   "execution_count": null,
   "metadata": {},
   "outputs": [],
   "source": []
  },
  {
   "cell_type": "code",
   "execution_count": null,
   "metadata": {},
   "outputs": [],
   "source": []
  },
  {
   "cell_type": "code",
   "execution_count": null,
   "metadata": {},
   "outputs": [],
   "source": []
  },
  {
   "cell_type": "markdown",
   "metadata": {},
   "source": [
    "### Looping the top stock rows\n",
    "```\n",
    "for i in range(2, len(stock_rows)):\n",
    "    stock = stock_rows[i]\n",
    "    code = stock.find(class_='code')\n",
    "    name = stock.find(class_='name')\n",
    "    print(f'{code}\\t{name}')\n",
    "    #print(f'{code.string}\\t{name.string}')\n",
    "```"
   ]
  },
  {
   "cell_type": "code",
   "execution_count": null,
   "metadata": {},
   "outputs": [],
   "source": []
  },
  {
   "cell_type": "markdown",
   "metadata": {},
   "source": [
    "### Retrieving more stock columns\n",
    "```\n",
    "for i in range(2, len(stock_rows)):\n",
    "    stock = stock_rows[i]\n",
    "    code = stock.find(class_='code')\n",
    "    name = stock.find(class_='name')\n",
    "    latest = stock.find(class_='latest')\n",
    "    change = stock.find(class_='change')\n",
    "    change_p = stock.find(class_='change_p')\n",
    "    volumn = stock.find(class_='volumn')\n",
    "    turnover = stock.find(class_='turnover')\n",
    "    market_cap = stock.find(class_='marketCap')    \n",
    "    print(f'{code.string}\\t{name.string}\\t{latest.string}\\t{change_p.text}')\n",
    "```"
   ]
  },
  {
   "cell_type": "code",
   "execution_count": null,
   "metadata": {},
   "outputs": [],
   "source": []
  },
  {
   "cell_type": "code",
   "execution_count": null,
   "metadata": {},
   "outputs": [],
   "source": []
  },
  {
   "cell_type": "markdown",
   "metadata": {},
   "source": [
    "# Run the complete python script\n",
    "There is a complete python script named `get_active_stock.py` in the script folder of the downloaded folder\n",
    "\n",
    "**To run the script**:\n",
    "- Open the command line window / Terminal\n",
    "- Type in command: `python3 get_active_stock.py`"
   ]
  },
  {
   "cell_type": "code",
   "execution_count": null,
   "metadata": {},
   "outputs": [],
   "source": []
  }
 ],
 "metadata": {
  "kernelspec": {
   "display_name": "Python 3",
   "language": "python",
   "name": "python3"
  },
  "language_info": {
   "codemirror_mode": {
    "name": "ipython",
    "version": 3
   },
   "file_extension": ".py",
   "mimetype": "text/x-python",
   "name": "python",
   "nbconvert_exporter": "python",
   "pygments_lexer": "ipython3",
   "version": "3.8.5"
  }
 },
 "nbformat": 4,
 "nbformat_minor": 4
}
