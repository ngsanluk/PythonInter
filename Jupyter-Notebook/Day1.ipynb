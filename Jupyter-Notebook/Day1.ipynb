{
 "cells": [
  {
   "cell_type": "markdown",
   "metadata": {},
   "source": [
    "# `requests` - the python addon to get data by HTTP\n",
    "\n",
    "Import before you use it\n",
    "\n",
    "```\n",
    "import requests\n",
    "```\n",
    "\n",
    "Provide a web page link that you want to fetch data from\n",
    "\n",
    "```\n",
    "r = requests.get('https://data.weather.gov.hk/weatherAPI/opendata/weather.php?dataType=fnd&lang=tc')\n",
    "r\n",
    "r.status_code\n",
    "r.headers\n",
    "r.headers['content-type']\n",
    "r.encoding\n",
    "r.text\n",
    "r.json()\n",
    "```\n",
    "To run a CELL\n",
    "- Press `▶ Run` Button\n",
    "- HOLD `SHIFT` + PRESS ```ENTER```"
   ]
  },
  {
   "cell_type": "code",
   "execution_count": 193,
   "metadata": {},
   "outputs": [],
   "source": [
    "import requests"
   ]
  },
  {
   "cell_type": "code",
   "execution_count": 195,
   "metadata": {},
   "outputs": [],
   "source": [
    "r = requests.get('https://data.weather.gov.hk/weatherAPI/opendata/weather.php?dataType=fnd&lang=tc')"
   ]
  },
  {
   "cell_type": "code",
   "execution_count": 196,
   "metadata": {},
   "outputs": [
    {
     "data": {
      "text/plain": [
       "{'Date': 'Sun, 03 Jan 2021 16:57:35 GMT', 'Server': 'Apache', 'Strict-Transport-Security': 'max-age=63072000', 'Referrer-Policy': 'no-referrer-when-downgrade', 'X-Frame-Options': 'SAMEORIGIN, SAMEORIGIN', 'Content-Security-Policy': \"default-src 'self'; frame-ancestors 'self' *;, frame-ancestors 'self';\", 'Access-Control-Allow-Origin': '*', 'Content-Length': '3859', 'Keep-Alive': 'timeout=10, max=100', 'Connection': 'Keep-Alive', 'Content-Type': 'application/json; charset=utf-8'}"
      ]
     },
     "execution_count": 196,
     "metadata": {},
     "output_type": "execute_result"
    }
   ],
   "source": [
    "r.headers"
   ]
  },
  {
   "cell_type": "code",
   "execution_count": 197,
   "metadata": {},
   "outputs": [
    {
     "data": {
      "text/plain": [
       "200"
      ]
     },
     "execution_count": 197,
     "metadata": {},
     "output_type": "execute_result"
    }
   ],
   "source": [
    "r.status_code"
   ]
  },
  {
   "cell_type": "code",
   "execution_count": 198,
   "metadata": {},
   "outputs": [
    {
     "data": {
      "text/plain": [
       "'application/json; charset=utf-8'"
      ]
     },
     "execution_count": 198,
     "metadata": {},
     "output_type": "execute_result"
    }
   ],
   "source": [
    "r.headers['content-type']"
   ]
  },
  {
   "cell_type": "code",
   "execution_count": 199,
   "metadata": {},
   "outputs": [
    {
     "data": {
      "text/plain": [
       "'utf-8'"
      ]
     },
     "execution_count": 199,
     "metadata": {},
     "output_type": "execute_result"
    }
   ],
   "source": [
    "r.encoding"
   ]
  },
  {
   "cell_type": "code",
   "execution_count": 200,
   "metadata": {},
   "outputs": [
    {
     "data": {
      "text/plain": [
       "'{\"generalSituation\":\"乾燥的東北季候風會在今明兩日為廣東帶來普遍晴朗的天氣，該區早晚仍然清涼。預料一股冬季季候風會在星期三影響華南沿岸地區，隨著該季候風在本週後期增強，華南天氣顯著轉冷，雲量較多。\",\"weatherForecast\":[{\"forecastDate\":\"20210104\",\"week\":\"星期一\",\"forecastWind\":\"東北風3至4級。\",\"forecastWeather\":\"大致天晴。早上相當清涼，日間乾燥。\",\"forecastMaxtemp\":{\"value\":20,\"unit\":\"C\"},\"forecastMintemp\":{\"value\":14,\"unit\":\"C\"},\"forecastMaxrh\":{\"value\":85,\"unit\":\"percent\"},\"forecastMinrh\":{\"value\":50,\"unit\":\"percent\"},\"ForecastIcon\":51},{\"forecastDate\":\"20210105\",\"week\":\"星期二\",\"forecastWind\":\"東北風3至4級。\",\"forecastWeather\":\"大致天晴，日間乾燥。\",\"forecastMaxtemp\":{\"value\":21,\"unit\":\"C\"},\"forecastMintemp\":{\"value\":16,\"unit\":\"C\"},\"forecastMaxrh\":{\"value\":80,\"unit\":\"percent\"},\"forecastMinrh\":{\"value\":55,\"unit\":\"percent\"},\"ForecastIcon\":51},{\"forecastDate\":\"20210106\",\"week\":\"星期三\",\"forecastWind\":\"東北風4至5級。\",\"forecastWeather\":\"短暫時間有陽光。\",\"forecastMaxtemp\":{\"value\":19,\"unit\":\"C\"},\"forecastMintemp\":{\"value\":15,\"unit\":\"C\"},\"forecastMaxrh\":{\"value\":85,\"unit\":\"percent\"},\"forecastMinrh\":{\"value\":60,\"unit\":\"percent\"},\"ForecastIcon\":52},{\"forecastDate\":\"20210107\",\"week\":\"星期四\",\"forecastWind\":\"東至東北風4級，後轉北風5級。\",\"forecastWeather\":\"大致多雲，早上有一兩陣雨。稍後天氣顯著轉冷。\",\"forecastMaxtemp\":{\"value\":16,\"unit\":\"C\"},\"forecastMintemp\":{\"value\":11,\"unit\":\"C\"},\"forecastMaxrh\":{\"value\":90,\"unit\":\"percent\"},\"forecastMinrh\":{\"value\":60,\"unit\":\"percent\"},\"ForecastIcon\":92},{\"forecastDate\":\"20210108\",\"week\":\"星期五\",\"forecastWind\":\"北至東北風4至5級，初時離岸間中6級。\",\"forecastWeather\":\"大致多雲及乾燥。天氣寒冷。\",\"forecastMaxtemp\":{\"value\":12,\"unit\":\"C\"},\"forecastMintemp\":{\"value\":8,\"unit\":\"C\"},\"forecastMaxrh\":{\"value\":65,\"unit\":\"percent\"},\"forecastMinrh\":{\"value\":45,\"unit\":\"percent\"},\"ForecastIcon\":92},{\"forecastDate\":\"20210109\",\"week\":\"星期六\",\"forecastWind\":\"北至東北風4至5級。\",\"forecastWeather\":\"大致多雲及乾燥。早晚寒冷。\",\"forecastMaxtemp\":{\"value\":13,\"unit\":\"C\"},\"forecastMintemp\":{\"value\":9,\"unit\":\"C\"},\"forecastMaxrh\":{\"value\":60,\"unit\":\"percent\"},\"forecastMinrh\":{\"value\":40,\"unit\":\"percent\"},\"ForecastIcon\":93},{\"forecastDate\":\"20210110\",\"week\":\"星期日\",\"forecastWind\":\"北至東北風4至5級。\",\"forecastWeather\":\"大致多雲及乾燥。早上寒冷。\",\"forecastMaxtemp\":{\"value\":14,\"unit\":\"C\"},\"forecastMintemp\":{\"value\":10,\"unit\":\"C\"},\"forecastMaxrh\":{\"value\":60,\"unit\":\"percent\"},\"forecastMinrh\":{\"value\":40,\"unit\":\"percent\"},\"ForecastIcon\":93},{\"forecastDate\":\"20210111\",\"week\":\"星期一\",\"forecastWind\":\"北至東北風4至5級。\",\"forecastWeather\":\"部分時間天色明朗及乾燥。早上寒冷。\",\"forecastMaxtemp\":{\"value\":15,\"unit\":\"C\"},\"forecastMintemp\":{\"value\":11,\"unit\":\"C\"},\"forecastMaxrh\":{\"value\":65,\"unit\":\"percent\"},\"forecastMinrh\":{\"value\":45,\"unit\":\"percent\"},\"ForecastIcon\":93},{\"forecastDate\":\"20210112\",\"week\":\"星期二\",\"forecastWind\":\"東北風4級。\",\"forecastWeather\":\"短暫時間有陽光及乾燥。早上寒冷。\",\"forecastMaxtemp\":{\"value\":17,\"unit\":\"C\"},\"forecastMintemp\":{\"value\":12,\"unit\":\"C\"},\"forecastMaxrh\":{\"value\":70,\"unit\":\"percent\"},\"forecastMinrh\":{\"value\":50,\"unit\":\"percent\"},\"ForecastIcon\":93}],\"updateTime\":\"2021-01-04T00:00:00+08:00\",\"seaTemp\":{\"place\":\"北角\",\"value\":17,\"unit\":\"C\",\"recordTime\":\"2021-01-03T14:00:00+08:00\"},\"soilTemp\":[{\"place\":\"香港天文台\",\"value\":20.5,\"unit\":\"C\",\"recordTime\":\"2021-01-03T07:00:00+08:00\",\"depth\":{\"unit\":\"metre\",\"value\":0.5}},{\"place\":\"香港天文台\",\"value\":23.4,\"unit\":\"C\",\"recordTime\":\"2021-01-03T07:00:00+08:00\",\"depth\":{\"unit\":\"metre\",\"value\":1}}]}'"
      ]
     },
     "execution_count": 200,
     "metadata": {},
     "output_type": "execute_result"
    }
   ],
   "source": [
    "r.text"
   ]
  },
  {
   "cell_type": "code",
   "execution_count": 201,
   "metadata": {},
   "outputs": [
    {
     "data": {
      "text/plain": [
       "{'generalSituation': '乾燥的東北季候風會在今明兩日為廣東帶來普遍晴朗的天氣，該區早晚仍然清涼。預料一股冬季季候風會在星期三影響華南沿岸地區，隨著該季候風在本週後期增強，華南天氣顯著轉冷，雲量較多。',\n",
       " 'weatherForecast': [{'forecastDate': '20210104',\n",
       "   'week': '星期一',\n",
       "   'forecastWind': '東北風3至4級。',\n",
       "   'forecastWeather': '大致天晴。早上相當清涼，日間乾燥。',\n",
       "   'forecastMaxtemp': {'value': 20, 'unit': 'C'},\n",
       "   'forecastMintemp': {'value': 14, 'unit': 'C'},\n",
       "   'forecastMaxrh': {'value': 85, 'unit': 'percent'},\n",
       "   'forecastMinrh': {'value': 50, 'unit': 'percent'},\n",
       "   'ForecastIcon': 51},\n",
       "  {'forecastDate': '20210105',\n",
       "   'week': '星期二',\n",
       "   'forecastWind': '東北風3至4級。',\n",
       "   'forecastWeather': '大致天晴，日間乾燥。',\n",
       "   'forecastMaxtemp': {'value': 21, 'unit': 'C'},\n",
       "   'forecastMintemp': {'value': 16, 'unit': 'C'},\n",
       "   'forecastMaxrh': {'value': 80, 'unit': 'percent'},\n",
       "   'forecastMinrh': {'value': 55, 'unit': 'percent'},\n",
       "   'ForecastIcon': 51},\n",
       "  {'forecastDate': '20210106',\n",
       "   'week': '星期三',\n",
       "   'forecastWind': '東北風4至5級。',\n",
       "   'forecastWeather': '短暫時間有陽光。',\n",
       "   'forecastMaxtemp': {'value': 19, 'unit': 'C'},\n",
       "   'forecastMintemp': {'value': 15, 'unit': 'C'},\n",
       "   'forecastMaxrh': {'value': 85, 'unit': 'percent'},\n",
       "   'forecastMinrh': {'value': 60, 'unit': 'percent'},\n",
       "   'ForecastIcon': 52},\n",
       "  {'forecastDate': '20210107',\n",
       "   'week': '星期四',\n",
       "   'forecastWind': '東至東北風4級，後轉北風5級。',\n",
       "   'forecastWeather': '大致多雲，早上有一兩陣雨。稍後天氣顯著轉冷。',\n",
       "   'forecastMaxtemp': {'value': 16, 'unit': 'C'},\n",
       "   'forecastMintemp': {'value': 11, 'unit': 'C'},\n",
       "   'forecastMaxrh': {'value': 90, 'unit': 'percent'},\n",
       "   'forecastMinrh': {'value': 60, 'unit': 'percent'},\n",
       "   'ForecastIcon': 92},\n",
       "  {'forecastDate': '20210108',\n",
       "   'week': '星期五',\n",
       "   'forecastWind': '北至東北風4至5級，初時離岸間中6級。',\n",
       "   'forecastWeather': '大致多雲及乾燥。天氣寒冷。',\n",
       "   'forecastMaxtemp': {'value': 12, 'unit': 'C'},\n",
       "   'forecastMintemp': {'value': 8, 'unit': 'C'},\n",
       "   'forecastMaxrh': {'value': 65, 'unit': 'percent'},\n",
       "   'forecastMinrh': {'value': 45, 'unit': 'percent'},\n",
       "   'ForecastIcon': 92},\n",
       "  {'forecastDate': '20210109',\n",
       "   'week': '星期六',\n",
       "   'forecastWind': '北至東北風4至5級。',\n",
       "   'forecastWeather': '大致多雲及乾燥。早晚寒冷。',\n",
       "   'forecastMaxtemp': {'value': 13, 'unit': 'C'},\n",
       "   'forecastMintemp': {'value': 9, 'unit': 'C'},\n",
       "   'forecastMaxrh': {'value': 60, 'unit': 'percent'},\n",
       "   'forecastMinrh': {'value': 40, 'unit': 'percent'},\n",
       "   'ForecastIcon': 93},\n",
       "  {'forecastDate': '20210110',\n",
       "   'week': '星期日',\n",
       "   'forecastWind': '北至東北風4至5級。',\n",
       "   'forecastWeather': '大致多雲及乾燥。早上寒冷。',\n",
       "   'forecastMaxtemp': {'value': 14, 'unit': 'C'},\n",
       "   'forecastMintemp': {'value': 10, 'unit': 'C'},\n",
       "   'forecastMaxrh': {'value': 60, 'unit': 'percent'},\n",
       "   'forecastMinrh': {'value': 40, 'unit': 'percent'},\n",
       "   'ForecastIcon': 93},\n",
       "  {'forecastDate': '20210111',\n",
       "   'week': '星期一',\n",
       "   'forecastWind': '北至東北風4至5級。',\n",
       "   'forecastWeather': '部分時間天色明朗及乾燥。早上寒冷。',\n",
       "   'forecastMaxtemp': {'value': 15, 'unit': 'C'},\n",
       "   'forecastMintemp': {'value': 11, 'unit': 'C'},\n",
       "   'forecastMaxrh': {'value': 65, 'unit': 'percent'},\n",
       "   'forecastMinrh': {'value': 45, 'unit': 'percent'},\n",
       "   'ForecastIcon': 93},\n",
       "  {'forecastDate': '20210112',\n",
       "   'week': '星期二',\n",
       "   'forecastWind': '東北風4級。',\n",
       "   'forecastWeather': '短暫時間有陽光及乾燥。早上寒冷。',\n",
       "   'forecastMaxtemp': {'value': 17, 'unit': 'C'},\n",
       "   'forecastMintemp': {'value': 12, 'unit': 'C'},\n",
       "   'forecastMaxrh': {'value': 70, 'unit': 'percent'},\n",
       "   'forecastMinrh': {'value': 50, 'unit': 'percent'},\n",
       "   'ForecastIcon': 93}],\n",
       " 'updateTime': '2021-01-04T00:00:00+08:00',\n",
       " 'seaTemp': {'place': '北角',\n",
       "  'value': 17,\n",
       "  'unit': 'C',\n",
       "  'recordTime': '2021-01-03T14:00:00+08:00'},\n",
       " 'soilTemp': [{'place': '香港天文台',\n",
       "   'value': 20.5,\n",
       "   'unit': 'C',\n",
       "   'recordTime': '2021-01-03T07:00:00+08:00',\n",
       "   'depth': {'unit': 'metre', 'value': 0.5}},\n",
       "  {'place': '香港天文台',\n",
       "   'value': 23.4,\n",
       "   'unit': 'C',\n",
       "   'recordTime': '2021-01-03T07:00:00+08:00',\n",
       "   'depth': {'unit': 'metre', 'value': 1}}]}"
      ]
     },
     "execution_count": 201,
     "metadata": {},
     "output_type": "execute_result"
    }
   ],
   "source": [
    "r.json()"
   ]
  },
  {
   "cell_type": "code",
   "execution_count": 202,
   "metadata": {},
   "outputs": [
    {
     "data": {
      "text/plain": [
       "'乾燥的東北季候風會在今明兩日為廣東帶來普遍晴朗的天氣，該區早晚仍然清涼。預料一股冬季季候風會在星期三影響華南沿岸地區，隨著該季候風在本週後期增強，華南天氣顯著轉冷，雲量較多。'"
      ]
     },
     "execution_count": 202,
     "metadata": {},
     "output_type": "execute_result"
    }
   ],
   "source": [
    "r.json()['generalSituation']"
   ]
  },
  {
   "attachments": {},
   "cell_type": "markdown",
   "metadata": {},
   "source": [
    "# Simple HTML Extracting\n",
    "\n",
    "Import `BeautifulSoup` before you use it\n",
    "\n",
    "```\n",
    "from bs4 import BeautifulSoup\n",
    "```\n"
   ]
  },
  {
   "cell_type": "code",
   "execution_count": null,
   "metadata": {},
   "outputs": [],
   "source": []
  },
  {
   "cell_type": "markdown",
   "metadata": {},
   "source": [
    "# Dummy HTML Texts\n",
    "\n",
    "Declare the following HTML documents\n",
    "\n",
    "```\n",
    "html_doc = \"\"\"\n",
    "<html><head><title>The Dormouse's story</title></head>\n",
    "<body>\n",
    "<b>Sample HTML Contents</b>\n",
    "<p class=\"title purple\"><b>The Dormouse's story</b></p>\n",
    "\n",
    "<p class=\"story\">Once upon a time there were three little sisters; and their names were\n",
    "<a href=\"http://example.com/elsie\" class=\"sister purple\" id=\"link1\">Elsie</a>,\n",
    "<a href=\"http://example.com/lacie\" class=\"sister\" id=\"link2\">Lacie</a> and\n",
    "<a href=\"http://example.com/tillie\" class=\"sister\" id=\"link3\">Tillie (<b>Important</b>)</a>;\n",
    "and they lived at the bottom of a well.</p>\n",
    "\n",
    "<p class=\"story\">a paragraph ... </p>\n",
    "</body>\n",
    "</html>\n",
    "\"\"\"\n",
    "````"
   ]
  },
  {
   "cell_type": "code",
   "execution_count": null,
   "metadata": {},
   "outputs": [],
   "source": [
    "html_doc = \"\"\"\n",
    "<html><head><title>The Dormouse's story</title></head>\n",
    "<body>\n",
    "<b>Sample HTML Contents</b>\n",
    "<p class=\"title purple\"><b>The Dormouse's story</b></p>\n",
    "\n",
    "<p class=\"story\">Once upon a time there were three little sisters; and their names were\n",
    "<a href=\"http://example.com/elsie\" class=\"sister purple\" id=\"link1\">Elsie</a>,\n",
    "<a href=\"http://example.com/lacie\" class=\"sister\" id=\"link2\">Lacie</a> and\n",
    "<a href=\"http://example.com/tillie\" class=\"sister\" id=\"link3\">Tillie</a>;\n",
    "and they lived at the bottom of a well.</p>\n",
    "\n",
    "<p class=\"story\">a paragraph ... </p>\n",
    "</body>\n",
    "</html>\n",
    "\"\"\""
   ]
  },
  {
   "cell_type": "code",
   "execution_count": 203,
   "metadata": {},
   "outputs": [],
   "source": [
    "soup = BeautifulSoup(html_doc, 'html.parser')"
   ]
  },
  {
   "cell_type": "code",
   "execution_count": 204,
   "metadata": {},
   "outputs": [
    {
     "data": {
      "text/plain": [
       "\n",
       "<html><head><title>The Dormouse's story</title></head>\n",
       "<body>\n",
       "<b>Sample HTML Contents</b>\n",
       "<p class=\"title purple\"><b>The Dormouse's story</b></p>\n",
       "<p class=\"story\">Once upon a time there were three little sisters; and their names were\n",
       "<a class=\"sister purple\" href=\"http://example.com/elsie\" id=\"link1\">Elsie</a>,\n",
       "<a class=\"sister\" href=\"http://example.com/lacie\" id=\"link2\">Lacie</a> and\n",
       "<a class=\"sister\" href=\"http://example.com/tillie\" id=\"link3\">Tillie</a>;\n",
       "and they lived at the bottom of a well.</p>\n",
       "<p class=\"story\">a paragraph ... </p>\n",
       "</body>\n",
       "</html>"
      ]
     },
     "execution_count": 204,
     "metadata": {},
     "output_type": "execute_result"
    }
   ],
   "source": [
    "soup"
   ]
  },
  {
   "cell_type": "markdown",
   "metadata": {},
   "source": [
    "# call `prettify()` function to do a neat display\n",
    "Type the following command\n",
    "```\n",
    "print(soup.prettify())\n",
    "```"
   ]
  },
  {
   "cell_type": "code",
   "execution_count": 205,
   "metadata": {},
   "outputs": [
    {
     "name": "stdout",
     "output_type": "stream",
     "text": [
      "<html>\n",
      " <head>\n",
      "  <title>\n",
      "   The Dormouse's story\n",
      "  </title>\n",
      " </head>\n",
      " <body>\n",
      "  <b>\n",
      "   Sample HTML Contents\n",
      "  </b>\n",
      "  <p class=\"title purple\">\n",
      "   <b>\n",
      "    The Dormouse's story\n",
      "   </b>\n",
      "  </p>\n",
      "  <p class=\"story\">\n",
      "   Once upon a time there were three little sisters; and their names were\n",
      "   <a class=\"sister purple\" href=\"http://example.com/elsie\" id=\"link1\">\n",
      "    Elsie\n",
      "   </a>\n",
      "   ,\n",
      "   <a class=\"sister\" href=\"http://example.com/lacie\" id=\"link2\">\n",
      "    Lacie\n",
      "   </a>\n",
      "   and\n",
      "   <a class=\"sister\" href=\"http://example.com/tillie\" id=\"link3\">\n",
      "    Tillie\n",
      "   </a>\n",
      "   ;\n",
      "and they lived at the bottom of a well.\n",
      "  </p>\n",
      "  <p class=\"story\">\n",
      "   a paragraph ...\n",
      "  </p>\n",
      " </body>\n",
      "</html>\n",
      "\n"
     ]
    }
   ],
   "source": [
    "print(soup.prettify())"
   ]
  },
  {
   "cell_type": "markdown",
   "metadata": {},
   "source": [
    "# Use `find()` to retrieve a child elements\n",
    "Examples:\n",
    "```\n",
    "soup.find('html')\n",
    "soup.find('head')\n",
    "soup.find('title')\n",
    "soup.find('body')\n",
    "soup.find('p')\n",
    "p = soup.find('p')\n",
    "p.find('b')\n",
    "```\n",
    "`find()` _function will only return ONE SINGLE tag element_"
   ]
  },
  {
   "cell_type": "code",
   "execution_count": null,
   "metadata": {},
   "outputs": [],
   "source": [
    "soup.find('html')\n",
    "soup.find('head')\n",
    "soup.find('title')\n",
    "soup.find('body')\n",
    "soup.find('p')\n",
    "p = soup.find('p')\n",
    "p.find('b')"
   ]
  },
  {
   "cell_type": "markdown",
   "metadata": {},
   "source": [
    "# Use dot syntaxt as short hand\n",
    "To retrieve the `<title>` tag\n",
    "```\n",
    "soup.html\n",
    "soup.head\n",
    "soup.body\n",
    "title_tag = soup.title \n",
    "print(title_tag.name)\n",
    "print(title_tag.string)\n",
    "print(title_tag.text)\n",
    "```\n",
    "\n",
    "To retrieve the title text only\n"
   ]
  },
  {
   "cell_type": "code",
   "execution_count": null,
   "metadata": {},
   "outputs": [],
   "source": [
    "title_tag = soup.title"
   ]
  },
  {
   "cell_type": "code",
   "execution_count": null,
   "metadata": {},
   "outputs": [],
   "source": [
    "title_tag"
   ]
  },
  {
   "cell_type": "code",
   "execution_count": null,
   "metadata": {},
   "outputs": [],
   "source": [
    "type(title_tag)"
   ]
  },
  {
   "cell_type": "code",
   "execution_count": null,
   "metadata": {},
   "outputs": [],
   "source": [
    "title_tag.name"
   ]
  },
  {
   "cell_type": "code",
   "execution_count": null,
   "metadata": {
    "scrolled": true
   },
   "outputs": [],
   "source": [
    "title_tag.string"
   ]
  },
  {
   "cell_type": "code",
   "execution_count": null,
   "metadata": {},
   "outputs": [],
   "source": [
    "title_tag.text"
   ]
  },
  {
   "cell_type": "code",
   "execution_count": null,
   "metadata": {},
   "outputs": [],
   "source": [
    "type(title_tag.string)"
   ]
  },
  {
   "cell_type": "code",
   "execution_count": null,
   "metadata": {},
   "outputs": [],
   "source": [
    "type(title_tag.text)"
   ]
  },
  {
   "cell_type": "markdown",
   "metadata": {},
   "source": [
    "# Get the parent tag\n",
    "`.parent` gives the parent tag\n",
    "```\n",
    "title_tag.parent\n",
    "title_tag.parent.name\n",
    "```"
   ]
  },
  {
   "cell_type": "code",
   "execution_count": null,
   "metadata": {},
   "outputs": [],
   "source": [
    "title_tag.parent"
   ]
  },
  {
   "cell_type": "code",
   "execution_count": null,
   "metadata": {},
   "outputs": [],
   "source": [
    "title_tag.parent.name"
   ]
  },
  {
   "cell_type": "code",
   "execution_count": null,
   "metadata": {},
   "outputs": [],
   "source": [
    "title_tag.parent.string"
   ]
  },
  {
   "cell_type": "markdown",
   "metadata": {},
   "source": [
    "# Retrieve by HTML tag name\n",
    "Specify the name of HTML element to retrieve: \n",
    "- p: `<p></p>`\n",
    "- a: `<a></a>`\n",
    "\n",
    "Sample codes:\n",
    "```\n",
    "soup.p\n",
    "soup.a\n",
    "```\n",
    "*returns the first element if there are many of targeted tag*"
   ]
  },
  {
   "cell_type": "code",
   "execution_count": null,
   "metadata": {},
   "outputs": [],
   "source": [
    "soup.p"
   ]
  },
  {
   "cell_type": "code",
   "execution_count": null,
   "metadata": {},
   "outputs": [],
   "source": [
    "soup.a"
   ]
  },
  {
   "cell_type": "markdown",
   "metadata": {},
   "source": [
    "# Extracting the attributes of a tag\n",
    "Showing attribute\n",
    "```\n",
    "a_tag = soup.a\n",
    "a_tag[\"class\"]\n",
    "a_tag[\"href\"]\n",
    "a_tag[\"id\"]\n",
    "```\n",
    "a_tag.attrs\n",
    "Showing all attributes\n",
    "```\n",
    "\n",
    "```"
   ]
  },
  {
   "cell_type": "code",
   "execution_count": null,
   "metadata": {},
   "outputs": [],
   "source": [
    "a_tag = soup.a"
   ]
  },
  {
   "cell_type": "code",
   "execution_count": null,
   "metadata": {},
   "outputs": [],
   "source": [
    "a_tag[\"id\"]"
   ]
  },
  {
   "cell_type": "code",
   "execution_count": null,
   "metadata": {},
   "outputs": [],
   "source": [
    "a_tag.attrs"
   ]
  },
  {
   "cell_type": "markdown",
   "metadata": {},
   "source": [
    "# Find all the matching tags, use `find_all()`\n",
    "`find_all()` function will return all the matching tags in the form of array\n",
    "Example:\n",
    "```\n",
    "soup.find_all('a')\n",
    "links = soup.find_all('a')\n",
    "links[0]\n",
    "```\n"
   ]
  },
  {
   "cell_type": "code",
   "execution_count": null,
   "metadata": {},
   "outputs": [],
   "source": [
    "soup.find_all('a')"
   ]
  },
  {
   "cell_type": "code",
   "execution_count": null,
   "metadata": {},
   "outputs": [],
   "source": [
    "links = soup.find_all('a')"
   ]
  },
  {
   "cell_type": "code",
   "execution_count": null,
   "metadata": {},
   "outputs": [],
   "source": [
    "links"
   ]
  },
  {
   "cell_type": "code",
   "execution_count": null,
   "metadata": {},
   "outputs": [],
   "source": [
    "links[0]"
   ]
  },
  {
   "cell_type": "code",
   "execution_count": null,
   "metadata": {},
   "outputs": [],
   "source": [
    "links[1]"
   ]
  },
  {
   "cell_type": "code",
   "execution_count": null,
   "metadata": {},
   "outputs": [],
   "source": [
    "links[0][\"href\"]"
   ]
  },
  {
   "cell_type": "markdown",
   "metadata": {},
   "source": [
    "# Retrieving by css class name\n",
    "Examples:\n",
    "```\n",
    "soup.find(class_='sister')\n",
    "soup.find_all(class_='sister')\n",
    "soup.find_all('a', class_='purple') # return the `<a>` tag with css class purple\n",
    "soup.find_all('p', class_='purple') # return the `<p>` tag with css class purple\n",
    "\n",
    "```"
   ]
  },
  {
   "cell_type": "code",
   "execution_count": null,
   "metadata": {},
   "outputs": [],
   "source": [
    "soup\n",
    "soup.find_all(class_='sister')"
   ]
  },
  {
   "cell_type": "code",
   "execution_count": null,
   "metadata": {},
   "outputs": [],
   "source": [
    "soup.find_all('a', class_='purple') "
   ]
  },
  {
   "cell_type": "code",
   "execution_count": null,
   "metadata": {},
   "outputs": [],
   "source": [
    "soup.find_all('p', class_='purple') "
   ]
  },
  {
   "cell_type": "markdown",
   "metadata": {},
   "source": [
    "# Limit the number in search result\n",
    "Example\n",
    "```\n",
    "soup.find_all('a')\n",
    "soup.find_all('a', limit=2) # set the limit return to 2\n",
    "\n",
    "```"
   ]
  },
  {
   "cell_type": "code",
   "execution_count": null,
   "metadata": {},
   "outputs": [],
   "source": [
    "soup.find_all('a', limit=2)"
   ]
  },
  {
   "cell_type": "markdown",
   "metadata": {},
   "source": [
    "# Retrieving by HTML `id`\n",
    "Examples:\n",
    "```\n",
    "soup.find(id='link1')\n",
    "```"
   ]
  },
  {
   "cell_type": "code",
   "execution_count": null,
   "metadata": {},
   "outputs": [],
   "source": [
    "soup.find(id='link2')"
   ]
  },
  {
   "cell_type": "markdown",
   "metadata": {},
   "source": [
    "# Using CSS Selectors\n",
    "If you are experienced with CSS coding, you will be familiar with the following coding styles\n",
    "```\n",
    "soup.select('body b')\n",
    "soup.select('p b')\n",
    "soup.select('body>b')\n",
    "soup.select('body>p>b')\n",
    "```"
   ]
  },
  {
   "cell_type": "code",
   "execution_count": null,
   "metadata": {},
   "outputs": [],
   "source": [
    "soup.select('body>p>b')"
   ]
  },
  {
   "cell_type": "code",
   "execution_count": null,
   "metadata": {},
   "outputs": [],
   "source": [
    "soup"
   ]
  },
  {
   "cell_type": "markdown",
   "metadata": {},
   "source": [
    "# Practical Session\n",
    "#### Use requests and BeautifulSoup together\n",
    "BeautifulSoup is NOT a HTTP client, we have to use requests to retrieve HTML from an actual webiste\n",
    "\n",
    "Required Imports:\n",
    "```\n",
    "import requests\n",
    "from bs4 import BeautifulSoup\n",
    "```"
   ]
  },
  {
   "cell_type": "code",
   "execution_count": null,
   "metadata": {},
   "outputs": [],
   "source": [
    "import requests\n",
    "from bs4 import BeautifulSoup"
   ]
  },
  {
   "cell_type": "markdown",
   "metadata": {},
   "source": [
    "### Declaring url & requrest header\n",
    "```\n",
    "url = \"https://stock360.hkej.com/marketWatch/Top20/topGainers\"\n",
    "headers = requests.utils.default_headers()\n",
    "headers.update({ 'User-Agent': 'Mozilla/5.0 (X11; Ubuntu; Linux x86_64; rv:52.0) Gecko/20100101 Firefox/52.0'})\n",
    "webpage_request = requests.get(url, headers)\n",
    "soup = BeautifulSoup(rwebpage_request.content, 'html.parser')\n",
    "```"
   ]
  },
  {
   "cell_type": "code",
   "execution_count": null,
   "metadata": {},
   "outputs": [],
   "source": [
    "url = \"https://stock360.hkej.com/marketWatch/Top20/topGainers\"\n",
    "webpage_request = requests.get(url)\n",
    "soup = BeautifulSoup(webpage_request.content, 'html.parser')"
   ]
  },
  {
   "cell_type": "markdown",
   "metadata": {},
   "source": [
    "### `find()` top stock tags\n",
    "```\n",
    "top_stocks = soup.find(class_='dt640')\n",
    "print(len(top_stocks))\n",
    "stocks = top_stocks.find_all(\"tr\")\n",
    "print(len(stocks))\n",
    "```"
   ]
  },
  {
   "cell_type": "code",
   "execution_count": null,
   "metadata": {},
   "outputs": [],
   "source": [
    "top_stocks = soup.find(class_='dt640')\n",
    "print(len(top_stocks))\n",
    "stocks = top_stocks.find_all(\"tr\")\n",
    "print(len(stocks))"
   ]
  },
  {
   "cell_type": "code",
   "execution_count": null,
   "metadata": {},
   "outputs": [],
   "source": [
    "top_stocks"
   ]
  },
  {
   "cell_type": "code",
   "execution_count": null,
   "metadata": {},
   "outputs": [],
   "source": [
    "print(len(top_stocks))"
   ]
  },
  {
   "cell_type": "markdown",
   "metadata": {},
   "source": [
    "### Looping the top stocks\n",
    "```\n",
    "for i in range(0, len(stocks)):\n",
    "    stock = stocks[i]\n",
    "    code = stock.find(class_='code')\n",
    "    name = stock.find(class_='name')\n",
    "    print(f'{code}\\t{name}')\n",
    "    #print(f'{code.string}\\t{name.string}')\n",
    "```"
   ]
  },
  {
   "cell_type": "code",
   "execution_count": null,
   "metadata": {},
   "outputs": [],
   "source": [
    "for i in range(2, len(stocks)):\n",
    "    stock = stocks[i]\n",
    "    code = stock.find(class_='code')\n",
    "    name = stock.find(class_='name')\n",
    "    #print(f'{code}\\t{name}')\n",
    "    print(f'{code.string}\\t{name.string}')\n",
    "    print(f'{code.string}\\t{name.string}\\t')\n"
   ]
  },
  {
   "cell_type": "markdown",
   "metadata": {},
   "source": [
    "### Retrieving more columns\n",
    "```\n",
    "for i in range(2, len(stocks)):\n",
    "    stock = stocks[i]\n",
    "    code = stock.find(class_='code')\n",
    "    name = stock.find(class_='name')\n",
    "    latest = stock.find(class_='latest')\n",
    "    change = stock.find(class_='change')\n",
    "    change_p = stock.find(class_='change_p')\n",
    "    volumn = stock.find(class_='volumn')\n",
    "    turnover = stock.find(class_='turnover')\n",
    "    market_cap = stock.find(class_='marketCap')    \n",
    "    print(f'{code.string}\\t{name.string}\\t{latest.string}\\t{change.string}\\t{volumn.string')\n",
    "```"
   ]
  },
  {
   "cell_type": "code",
   "execution_count": 192,
   "metadata": {},
   "outputs": [
    {
     "name": "stdout",
     "output_type": "stream",
     "text": [
      "00730\t首長四方(集團)\t0.305\t+165.2\n",
      "08057\t麥迪森控股\t0.350\t+84.2\n",
      "00650\tＩＤＧ能源投資\t1.000\t+66.7\n",
      "00583\t長城環亞控股\t0.650\t+46.1\n",
      "02371\t創聯教育金融\t0.042\t+40.0\n",
      "08493\t龍皇集團\t0.086\t+36.5\n",
      "01488\t百福控股\t0.750\t+36.4\n",
      "08427\t瑞強集團\t0.065\t+35.4\n",
      "01702\t東光化工\t2.000\t+35.1\n",
      "08455\t禮建德集團\t0.115\t+32.2\n",
      "08106\t浙江升華蘭德\t0.166\t+28.7\n",
      "01173\t威高國際\t0.058\t+26.1\n",
      "01175\t鮮馳達控股\t0.070\t+25.0\n",
      "01229\t南南資源實業\t0.106\t+24.7\n",
      "08191\t鴻偉亞洲\t0.162\t+24.6\n",
      "00197\t亨泰\t0.076\t+24.6\n",
      "01108\t洛陽玻璃股份\t8.160\t+23.6\n",
      "08422\tＷＴ集團\t0.110\t+23.6\n",
      "01230\t雅士利國際\t0.840\t+23.5\n",
      "00395\t環球智能控股\t0.043\t+22.9\n"
     ]
    }
   ],
   "source": [
    "for i in range(2, len(stocks)):\n",
    "    stock = stocks[i]\n",
    "    code = stock.find(class_='code')\n",
    "    name = stock.find(class_='name')\n",
    "    latest = stock.find(class_='latest')\n",
    "    change = stock.find(class_='change')\n",
    "    change_p = stock.find(class_='change_p')\n",
    "    volumn = stock.find(class_='volumn')\n",
    "    turnover = stock.find(class_='turnover')\n",
    "    market_cap = stock.find(class_='marketCap')    \n",
    "    print(f'{code.string}\\t{name.string}\\t{latest.string}\\t{change_p.text}')\n"
   ]
  },
  {
   "cell_type": "code",
   "execution_count": null,
   "metadata": {},
   "outputs": [],
   "source": []
  }
 ],
 "metadata": {
  "kernelspec": {
   "display_name": "Python 3",
   "language": "python",
   "name": "python3"
  },
  "language_info": {
   "codemirror_mode": {
    "name": "ipython",
    "version": 3
   },
   "file_extension": ".py",
   "mimetype": "text/x-python",
   "name": "python",
   "nbconvert_exporter": "python",
   "pygments_lexer": "ipython3",
   "version": "3.8.5"
  }
 },
 "nbformat": 4,
 "nbformat_minor": 4
}
