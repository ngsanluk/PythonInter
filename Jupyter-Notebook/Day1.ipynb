{
 "cells": [
  {
   "cell_type": "markdown",
   "metadata": {},
   "source": [
    "# Python Intermediate - Day 2\n",
    "---\n",
    "# Using Pandas\n",
    "- `pandas` is a fast, powerful, flexible and easy to use open source data analysis and manipulation tool\n",
    "- `pandas` is built on top of `numpy` and therefore quite often used together with `numpy`\n"
   ]
  },
  {
   "cell_type": "code",
   "execution_count": 1,
   "metadata": {},
   "outputs": [],
   "source": [
    "import numpy as np\n",
    "import pandas as pd"
   ]
  },
  {
   "cell_type": "markdown",
   "metadata": {},
   "source": [
    "# Check your Pandas version\n",
    "Syntax:\n",
    "```\n",
    "print(pd.__version__)\n",
    "```"
   ]
  },
  {
   "cell_type": "code",
   "execution_count": 2,
   "metadata": {},
   "outputs": [
    {
     "name": "stdout",
     "output_type": "stream",
     "text": [
      "1.1.5\n"
     ]
    }
   ],
   "source": [
    "print(pd.__version__)"
   ]
  },
  {
   "cell_type": "markdown",
   "metadata": {},
   "source": [
    "# Some python handy features\n",
    "\n",
    "**Createing array**\n",
    "\n",
    "instead of typing `l = ['A', 'B', 'C', 'D', 'E']`\n",
    "```\n",
    "l = list('ABCDE')\n",
    "l = 'A B C D E'.split()\n",
    "```\n",
    "\n",
    "**Generates a range of dates**:\n",
    "```\n",
    "dates = pd.date_range('20210101', periods=7) \n",
    "type(dates) # returns pandas.core.indexes.datetimes.DatetimeIndex\n",
    "```"
   ]
  },
  {
   "cell_type": "code",
   "execution_count": 3,
   "metadata": {},
<<<<<<< HEAD
   "outputs": [],
   "source": []
=======
   "outputs": [
    {
     "data": {
      "text/plain": [
       "['A', 'B', 'C', 'D', 'E']"
      ]
     },
     "execution_count": 3,
     "metadata": {},
     "output_type": "execute_result"
    }
   ],
   "source": [
    "list('ABCDE')"
   ]
>>>>>>> Completed
  },
  {
   "cell_type": "code",
   "execution_count": 4,
   "metadata": {},
<<<<<<< HEAD
   "outputs": [],
   "source": []
=======
   "outputs": [
    {
     "data": {
      "text/plain": [
       "['A', 'B', 'C', 'D', 'E']"
      ]
     },
     "execution_count": 4,
     "metadata": {},
     "output_type": "execute_result"
    }
   ],
   "source": [
    "'A B C D E'.split()"
   ]
>>>>>>> Completed
  },
  {
   "cell_type": "code",
   "execution_count": 5,
   "metadata": {},
   "outputs": [],
<<<<<<< HEAD
   "source": []
=======
   "source": [
    "dates = pd.date_range('20210101', periods=7)"
   ]
>>>>>>> Completed
  },
  {
   "cell_type": "code",
   "execution_count": 6,
   "metadata": {
    "scrolled": true
   },
   "outputs": [
    {
     "data": {
      "text/plain": [
       "DatetimeIndex(['2021-01-01', '2021-01-02', '2021-01-03', '2021-01-04',\n",
       "               '2021-01-05', '2021-01-06', '2021-01-07'],\n",
       "              dtype='datetime64[ns]', freq='D')"
      ]
     },
     "execution_count": 6,
     "metadata": {},
     "output_type": "execute_result"
    }
   ],
   "source": [
    "dates"
   ]
  },
  {
   "cell_type": "code",
   "execution_count": 7,
   "metadata": {},
<<<<<<< HEAD
   "outputs": [],
   "source": []
=======
   "outputs": [
    {
     "data": {
      "text/plain": [
       "pandas.core.indexes.datetimes.DatetimeIndex"
      ]
     },
     "execution_count": 7,
     "metadata": {},
     "output_type": "execute_result"
    }
   ],
   "source": [
    "type(dates)"
   ]
>>>>>>> Completed
  },
  {
   "cell_type": "code",
   "execution_count": null,
   "metadata": {},
   "outputs": [],
   "source": []
<<<<<<< HEAD
=======
  },
  {
   "cell_type": "markdown",
   "metadata": {},
   "source": [
    "# Pandas `DataFrame`\n",
    "A DataFrame is a two dimensional data structure\n",
    "\n",
    "**To declare a dataframe**:\n",
    "```\n",
    "df = pd.DataFrame({\n",
    "    \"Name\": [\"Andy\", \"Ben\", \"Cathy\", \"Debra\"],\n",
    "    \"Age\": [20, 22, 23, 22],\n",
    "    \"Sex\": [\"male\", \"male\", \"female\", \"female\"],\n",
    "    \"Year\": [1, 3, 4, 3]\n",
    "})\n",
    "```\n",
    "\n",
    "**Check the type**\n",
    "```\n",
    "print(type(df)) # it returns pandas.core.frame.DataFrame\n",
    "\n",
    "```\n",
    "**In real applications**\n",
    "- DataFrame are seldom declared by code in the above approach.\n",
    "- Instead, they are imported from external sources\n",
    "- E.g.: csv, excel, json"
   ]
>>>>>>> Completed
  },
  {
   "cell_type": "code",
   "execution_count": 8,
   "metadata": {},
   "outputs": [],
<<<<<<< HEAD
   "source": []
=======
   "source": [
    "df = pd.DataFrame({\n",
    "    \"Name\": [\"Andy\", \"Ben\", \"Cathy\", \"Debra\"],\n",
    "    \"Age\": [20, 22, 23, 22],\n",
    "    \"Sex\": [\"male\", \"male\", \"female\", \"female\"],\n",
    "    \"Year\": [1, 3, 4, 3]\n",
    "})"
   ]
>>>>>>> Completed
  },
  {
   "cell_type": "code",
   "execution_count": 9,
   "metadata": {},
<<<<<<< HEAD
   "outputs": [],
   "source": []
=======
   "outputs": [
    {
     "data": {
      "text/html": [
       "<div>\n",
       "<style scoped>\n",
       "    .dataframe tbody tr th:only-of-type {\n",
       "        vertical-align: middle;\n",
       "    }\n",
       "\n",
       "    .dataframe tbody tr th {\n",
       "        vertical-align: top;\n",
       "    }\n",
       "\n",
       "    .dataframe thead th {\n",
       "        text-align: right;\n",
       "    }\n",
       "</style>\n",
       "<table border=\"1\" class=\"dataframe\">\n",
       "  <thead>\n",
       "    <tr style=\"text-align: right;\">\n",
       "      <th></th>\n",
       "      <th>Name</th>\n",
       "      <th>Age</th>\n",
       "      <th>Sex</th>\n",
       "      <th>Year</th>\n",
       "    </tr>\n",
       "  </thead>\n",
       "  <tbody>\n",
       "    <tr>\n",
       "      <th>0</th>\n",
       "      <td>Andy</td>\n",
       "      <td>20</td>\n",
       "      <td>male</td>\n",
       "      <td>1</td>\n",
       "    </tr>\n",
       "    <tr>\n",
       "      <th>1</th>\n",
       "      <td>Ben</td>\n",
       "      <td>22</td>\n",
       "      <td>male</td>\n",
       "      <td>3</td>\n",
       "    </tr>\n",
       "    <tr>\n",
       "      <th>2</th>\n",
       "      <td>Cathy</td>\n",
       "      <td>23</td>\n",
       "      <td>female</td>\n",
       "      <td>4</td>\n",
       "    </tr>\n",
       "    <tr>\n",
       "      <th>3</th>\n",
       "      <td>Debra</td>\n",
       "      <td>22</td>\n",
       "      <td>female</td>\n",
       "      <td>3</td>\n",
       "    </tr>\n",
       "  </tbody>\n",
       "</table>\n",
       "</div>"
      ],
      "text/plain": [
       "    Name  Age     Sex  Year\n",
       "0   Andy   20    male     1\n",
       "1    Ben   22    male     3\n",
       "2  Cathy   23  female     4\n",
       "3  Debra   22  female     3"
      ]
     },
     "execution_count": 9,
     "metadata": {},
     "output_type": "execute_result"
    }
   ],
   "source": [
    "df"
   ]
>>>>>>> Completed
  },
  {
   "cell_type": "code",
   "execution_count": 10,
   "metadata": {},
<<<<<<< HEAD
   "outputs": [],
   "source": []
=======
   "outputs": [
    {
     "name": "stdout",
     "output_type": "stream",
     "text": [
      "<class 'pandas.core.frame.DataFrame'>\n"
     ]
    }
   ],
   "source": [
    "print(type(df))"
   ]
>>>>>>> Completed
  },
  {
   "cell_type": "markdown",
   "metadata": {},
   "source": [
    "# DataFrame information\n",
    "```\n",
    "df.shape # return the dimension\n",
    "df.shape[0] # return the number of row\n",
    "df.info()\n",
    "df.describe()\n",
    "```"
   ]
  },
  {
   "cell_type": "code",
   "execution_count": 11,
   "metadata": {},
<<<<<<< HEAD
   "outputs": [],
   "source": []
=======
   "outputs": [
    {
     "data": {
      "text/plain": [
       "(4, 4)"
      ]
     },
     "execution_count": 11,
     "metadata": {},
     "output_type": "execute_result"
    }
   ],
   "source": [
    "df.shape"
   ]
>>>>>>> Completed
  },
  {
   "cell_type": "code",
   "execution_count": 12,
   "metadata": {},
<<<<<<< HEAD
   "outputs": [],
   "source": []
=======
   "outputs": [
    {
     "data": {
      "text/plain": [
       "4"
      ]
     },
     "execution_count": 12,
     "metadata": {},
     "output_type": "execute_result"
    }
   ],
   "source": [
    "df.shape[0]"
   ]
>>>>>>> Completed
  },
  {
   "cell_type": "code",
   "execution_count": 13,
   "metadata": {},
<<<<<<< HEAD
   "outputs": [],
   "source": []
=======
   "outputs": [
    {
     "name": "stdout",
     "output_type": "stream",
     "text": [
      "<class 'pandas.core.frame.DataFrame'>\n",
      "RangeIndex: 4 entries, 0 to 3\n",
      "Data columns (total 4 columns):\n",
      " #   Column  Non-Null Count  Dtype \n",
      "---  ------  --------------  ----- \n",
      " 0   Name    4 non-null      object\n",
      " 1   Age     4 non-null      int64 \n",
      " 2   Sex     4 non-null      object\n",
      " 3   Year    4 non-null      int64 \n",
      "dtypes: int64(2), object(2)\n",
      "memory usage: 256.0+ bytes\n"
     ]
    }
   ],
   "source": [
    "df.info()"
   ]
>>>>>>> Completed
  },
  {
   "cell_type": "code",
   "execution_count": 14,
   "metadata": {},
<<<<<<< HEAD
   "outputs": [],
   "source": []
=======
   "outputs": [
    {
     "data": {
      "text/html": [
       "<div>\n",
       "<style scoped>\n",
       "    .dataframe tbody tr th:only-of-type {\n",
       "        vertical-align: middle;\n",
       "    }\n",
       "\n",
       "    .dataframe tbody tr th {\n",
       "        vertical-align: top;\n",
       "    }\n",
       "\n",
       "    .dataframe thead th {\n",
       "        text-align: right;\n",
       "    }\n",
       "</style>\n",
       "<table border=\"1\" class=\"dataframe\">\n",
       "  <thead>\n",
       "    <tr style=\"text-align: right;\">\n",
       "      <th></th>\n",
       "      <th>Age</th>\n",
       "      <th>Year</th>\n",
       "    </tr>\n",
       "  </thead>\n",
       "  <tbody>\n",
       "    <tr>\n",
       "      <th>count</th>\n",
       "      <td>4.000000</td>\n",
       "      <td>4.000000</td>\n",
       "    </tr>\n",
       "    <tr>\n",
       "      <th>mean</th>\n",
       "      <td>21.750000</td>\n",
       "      <td>2.750000</td>\n",
       "    </tr>\n",
       "    <tr>\n",
       "      <th>std</th>\n",
       "      <td>1.258306</td>\n",
       "      <td>1.258306</td>\n",
       "    </tr>\n",
       "    <tr>\n",
       "      <th>min</th>\n",
       "      <td>20.000000</td>\n",
       "      <td>1.000000</td>\n",
       "    </tr>\n",
       "    <tr>\n",
       "      <th>25%</th>\n",
       "      <td>21.500000</td>\n",
       "      <td>2.500000</td>\n",
       "    </tr>\n",
       "    <tr>\n",
       "      <th>50%</th>\n",
       "      <td>22.000000</td>\n",
       "      <td>3.000000</td>\n",
       "    </tr>\n",
       "    <tr>\n",
       "      <th>75%</th>\n",
       "      <td>22.250000</td>\n",
       "      <td>3.250000</td>\n",
       "    </tr>\n",
       "    <tr>\n",
       "      <th>max</th>\n",
       "      <td>23.000000</td>\n",
       "      <td>4.000000</td>\n",
       "    </tr>\n",
       "  </tbody>\n",
       "</table>\n",
       "</div>"
      ],
      "text/plain": [
       "             Age      Year\n",
       "count   4.000000  4.000000\n",
       "mean   21.750000  2.750000\n",
       "std     1.258306  1.258306\n",
       "min    20.000000  1.000000\n",
       "25%    21.500000  2.500000\n",
       "50%    22.000000  3.000000\n",
       "75%    22.250000  3.250000\n",
       "max    23.000000  4.000000"
      ]
     },
     "execution_count": 14,
     "metadata": {},
     "output_type": "execute_result"
    }
   ],
   "source": [
    "df.describe()"
   ]
  },
  {
   "cell_type": "markdown",
   "metadata": {},
   "source": [
    "# Retrieving a column (a.k.a Pandas Series)\n",
    "Use a `[]` (square bracket) with a column name (in string) to indicate which column you want to retrieve\n",
    "\n",
    "Example\n",
    "```\n",
    "df['Name']\n",
    "name = df['Name']\n",
    "print(type(name)) # returns pandas.core.series.Series\n",
    "```"
   ]
>>>>>>> Completed
  },
  {
   "cell_type": "code",
   "execution_count": 15,
   "metadata": {},
<<<<<<< HEAD
   "outputs": [],
   "source": []
=======
   "outputs": [
    {
     "data": {
      "text/plain": [
       "0     Andy\n",
       "1      Ben\n",
       "2    Cathy\n",
       "3    Debra\n",
       "Name: Name, dtype: object"
      ]
     },
     "execution_count": 15,
     "metadata": {},
     "output_type": "execute_result"
    }
   ],
   "source": [
    "df['Name']\n",
    "name = df['Name']\n",
    "name"
   ]
>>>>>>> Completed
  },
  {
   "cell_type": "code",
   "execution_count": 16,
   "metadata": {},
<<<<<<< HEAD
   "outputs": [],
   "source": []
=======
   "outputs": [
    {
     "name": "stdout",
     "output_type": "stream",
     "text": [
      "<class 'pandas.core.series.Series'>\n"
     ]
    }
   ],
   "source": [
    "print(type(name)) # returns pandas.core.series.Series"
   ]
>>>>>>> Completed
  },
  {
   "cell_type": "markdown",
   "metadata": {},
   "source": [
    "# Retrieving multiple columns\n",
    "Use a `[]` (square bracket) with a column index name (in string) to indicate which column you want to retrieve\n",
    "\n",
    "**Example**\n",
    "```\n",
    "columns = ['Name', 'Year'] # declare the columns you want in a list\n",
    "df[columns] # pass the column list as paramenter to the dataframe\n",
    "df[['Name', 'Year']] # Or simply put the list of column names directly\n",
    "# Note is double squared\n",
    "name_and_year = df[['Name', 'Year']]\n",
    "print(type(name_and_year)) # Returns pandas.core.frame.DataFrame\n",
    "```\n",
    "**Below is a mistake**\n",
    "```\n",
    "name_and_year = df['Name', 'Year']\n",
    "```"
   ]
  },
  {
   "cell_type": "code",
   "execution_count": 17,
   "metadata": {},
   "outputs": [
    {
     "name": "stdout",
     "output_type": "stream",
     "text": [
      "<class 'pandas.core.frame.DataFrame'>\n"
     ]
    }
   ],
   "source": [
    "columns = ['Name', 'Year'] # declare the columns you want in a list\n",
    "df[columns] # pass the column list as paramenter to the dataframe\n",
    "df[['Name', 'Year']] # Or simply put the list of column names directly\n",
    "# Note is double squared\n",
    "name_and_year = df[['Name', 'Year']]\n",
    "print(type(name_and_year)) # Returns pandas.core.frame.DataFrame"
   ]
  },
  {
   "cell_type": "code",
   "execution_count": null,
   "metadata": {},
   "outputs": [],
   "source": []
<<<<<<< HEAD
=======
  },
  {
   "cell_type": "code",
   "execution_count": null,
   "metadata": {},
   "outputs": [],
   "source": [
    "print(type(name_and_year))"
   ]
>>>>>>> Completed
  },
  {
   "cell_type": "markdown",
   "metadata": {},
   "source": [
    "# Use `loc()` function to locate a row\n",
    "Pandas use the loc attribute to return one or more specified row(s)\n",
    "Example:\n",
    "```\n",
    "df.loc[0]\n",
    "df.loc[1]\n",
    "type(df.loc[0]) # returns pandas.core.series.Series\n",
    "```"
   ]
  },
  {
   "cell_type": "code",
   "execution_count": 18,
   "metadata": {},
   "outputs": [
    {
     "data": {
      "text/plain": [
       "pandas.core.series.Series"
      ]
     },
     "execution_count": 18,
     "metadata": {},
     "output_type": "execute_result"
    }
   ],
   "source": [
    "df.loc[0]\n",
    "df.loc[1]\n",
    "type(df.loc[0]) # returns pandas.core.series.Series"
   ]
  },
  {
   "cell_type": "code",
   "execution_count": 19,
   "metadata": {
    "scrolled": true
   },
   "outputs": [
    {
     "data": {
      "text/plain": [
       "Name    Andy\n",
       "Age       20\n",
       "Sex     male\n",
       "Year       1\n",
       "Name: 0, dtype: object"
      ]
     },
     "execution_count": 19,
     "metadata": {},
     "output_type": "execute_result"
    }
   ],
   "source": [
    "df.loc[0]"
   ]
  },
  {
   "cell_type": "code",
   "execution_count": 20,
   "metadata": {},
   "outputs": [
    {
     "data": {
      "text/plain": [
       "pandas.core.series.Series"
      ]
     },
     "execution_count": 20,
     "metadata": {},
     "output_type": "execute_result"
    }
   ],
   "source": [
    "type(df.loc[0])"
   ]
  },
  {
   "cell_type": "markdown",
   "metadata": {},
   "source": [
    "# Locating Multiple Rows\n",
    "Provide a list of row number: `[0, 2]`\n",
    "\n",
    "**Example**:\n",
    "```\n",
    "rows = [0, 2]\n",
    "df.loc[rows]\n",
    "```\n",
    "\n",
    "**Or simplified one liner**:\n",
    "```\n",
    "df.loc[[0, 2]]\n",
    "```\n",
    "\n",
<<<<<<< HEAD
    "<p class=\"story\">a paragraph ... </p>\n",
    "</body>\n",
    "</html>\n",
    "\"\"\"\n",
    "````\n",
    "\n",
    "**Type the following commands to get to know soup**:\n",
    "```\n",
    "soup = BeautifulSoup(html_doc, 'html.parser')\n",
    "soup\n",
    "type(soup)\n",
    "```"
=======
    "**Mistake**:\n",
    "```\n",
    "df.loc[0, 2]\n",
    "```\n"
>>>>>>> Completed
   ]
  },
  {
   "cell_type": "code",
   "execution_count": 21,
   "metadata": {},
<<<<<<< HEAD
   "outputs": [],
   "source": []
=======
   "outputs": [
    {
     "data": {
      "text/html": [
       "<div>\n",
       "<style scoped>\n",
       "    .dataframe tbody tr th:only-of-type {\n",
       "        vertical-align: middle;\n",
       "    }\n",
       "\n",
       "    .dataframe tbody tr th {\n",
       "        vertical-align: top;\n",
       "    }\n",
       "\n",
       "    .dataframe thead th {\n",
       "        text-align: right;\n",
       "    }\n",
       "</style>\n",
       "<table border=\"1\" class=\"dataframe\">\n",
       "  <thead>\n",
       "    <tr style=\"text-align: right;\">\n",
       "      <th></th>\n",
       "      <th>Name</th>\n",
       "      <th>Age</th>\n",
       "      <th>Sex</th>\n",
       "      <th>Year</th>\n",
       "    </tr>\n",
       "  </thead>\n",
       "  <tbody>\n",
       "    <tr>\n",
       "      <th>0</th>\n",
       "      <td>Andy</td>\n",
       "      <td>20</td>\n",
       "      <td>male</td>\n",
       "      <td>1</td>\n",
       "    </tr>\n",
       "    <tr>\n",
       "      <th>2</th>\n",
       "      <td>Cathy</td>\n",
       "      <td>23</td>\n",
       "      <td>female</td>\n",
       "      <td>4</td>\n",
       "    </tr>\n",
       "  </tbody>\n",
       "</table>\n",
       "</div>"
      ],
      "text/plain": [
       "    Name  Age     Sex  Year\n",
       "0   Andy   20    male     1\n",
       "2  Cathy   23  female     4"
      ]
     },
     "execution_count": 21,
     "metadata": {},
     "output_type": "execute_result"
    }
   ],
   "source": [
    "df.loc[[0, 2]]"
   ]
  },
  {
   "cell_type": "markdown",
   "metadata": {},
   "source": [
    "## Retrieving a range of row\n",
    "- Provide the starting row number and ending row number. \n",
    "- Use `:` to separate the starting row number and ending row number\n",
    "\n",
    "Example:\n",
    "```\n",
    "df.loc[0:1]\n",
    "df.loc[:2] # from position 0 to 2\n",
    "df.loc[2:] # from position 2 to the end\n",
    "```\n",
    "Short hand:\n",
    "```\n",
    "df[0:1]\n",
    "df[:2] # from position 0 to 1. End position exclusive.\n",
    "df[2:] # from position 2 to the end\n",
    "```\n"
   ]
>>>>>>> Completed
  },
  {
   "cell_type": "code",
   "execution_count": 22,
   "metadata": {},
<<<<<<< HEAD
   "outputs": [],
   "source": []
=======
   "outputs": [
    {
     "data": {
      "text/html": [
       "<div>\n",
       "<style scoped>\n",
       "    .dataframe tbody tr th:only-of-type {\n",
       "        vertical-align: middle;\n",
       "    }\n",
       "\n",
       "    .dataframe tbody tr th {\n",
       "        vertical-align: top;\n",
       "    }\n",
       "\n",
       "    .dataframe thead th {\n",
       "        text-align: right;\n",
       "    }\n",
       "</style>\n",
       "<table border=\"1\" class=\"dataframe\">\n",
       "  <thead>\n",
       "    <tr style=\"text-align: right;\">\n",
       "      <th></th>\n",
       "      <th>Name</th>\n",
       "      <th>Age</th>\n",
       "      <th>Sex</th>\n",
       "      <th>Year</th>\n",
       "    </tr>\n",
       "  </thead>\n",
       "  <tbody>\n",
       "    <tr>\n",
       "      <th>2</th>\n",
       "      <td>Cathy</td>\n",
       "      <td>23</td>\n",
       "      <td>female</td>\n",
       "      <td>4</td>\n",
       "    </tr>\n",
       "    <tr>\n",
       "      <th>3</th>\n",
       "      <td>Debra</td>\n",
       "      <td>22</td>\n",
       "      <td>female</td>\n",
       "      <td>3</td>\n",
       "    </tr>\n",
       "  </tbody>\n",
       "</table>\n",
       "</div>"
      ],
      "text/plain": [
       "    Name  Age     Sex  Year\n",
       "2  Cathy   23  female     4\n",
       "3  Debra   22  female     3"
      ]
     },
     "execution_count": 22,
     "metadata": {},
     "output_type": "execute_result"
    }
   ],
   "source": [
    "df.loc[2:]"
   ]
>>>>>>> Completed
  },
  {
   "cell_type": "code",
   "execution_count": 23,
   "metadata": {},
<<<<<<< HEAD
   "outputs": [],
   "source": []
=======
   "outputs": [
    {
     "data": {
      "text/html": [
       "<div>\n",
       "<style scoped>\n",
       "    .dataframe tbody tr th:only-of-type {\n",
       "        vertical-align: middle;\n",
       "    }\n",
       "\n",
       "    .dataframe tbody tr th {\n",
       "        vertical-align: top;\n",
       "    }\n",
       "\n",
       "    .dataframe thead th {\n",
       "        text-align: right;\n",
       "    }\n",
       "</style>\n",
       "<table border=\"1\" class=\"dataframe\">\n",
       "  <thead>\n",
       "    <tr style=\"text-align: right;\">\n",
       "      <th></th>\n",
       "      <th>Name</th>\n",
       "      <th>Age</th>\n",
       "      <th>Sex</th>\n",
       "      <th>Year</th>\n",
       "    </tr>\n",
       "  </thead>\n",
       "  <tbody>\n",
       "    <tr>\n",
       "      <th>0</th>\n",
       "      <td>Andy</td>\n",
       "      <td>20</td>\n",
       "      <td>male</td>\n",
       "      <td>1</td>\n",
       "    </tr>\n",
       "    <tr>\n",
       "      <th>1</th>\n",
       "      <td>Ben</td>\n",
       "      <td>22</td>\n",
       "      <td>male</td>\n",
       "      <td>3</td>\n",
       "    </tr>\n",
       "  </tbody>\n",
       "</table>\n",
       "</div>"
      ],
      "text/plain": [
       "   Name  Age   Sex  Year\n",
       "0  Andy   20  male     1\n",
       "1   Ben   22  male     3"
      ]
     },
     "execution_count": 23,
     "metadata": {},
     "output_type": "execute_result"
    }
   ],
   "source": [
    "df.loc[0:1]"
   ]
>>>>>>> Completed
  },
  {
   "cell_type": "code",
   "execution_count": 24,
   "metadata": {},
<<<<<<< HEAD
   "outputs": [],
   "source": []
=======
   "outputs": [
    {
     "data": {
      "text/html": [
       "<div>\n",
       "<style scoped>\n",
       "    .dataframe tbody tr th:only-of-type {\n",
       "        vertical-align: middle;\n",
       "    }\n",
       "\n",
       "    .dataframe tbody tr th {\n",
       "        vertical-align: top;\n",
       "    }\n",
       "\n",
       "    .dataframe thead th {\n",
       "        text-align: right;\n",
       "    }\n",
       "</style>\n",
       "<table border=\"1\" class=\"dataframe\">\n",
       "  <thead>\n",
       "    <tr style=\"text-align: right;\">\n",
       "      <th></th>\n",
       "      <th>Name</th>\n",
       "      <th>Age</th>\n",
       "      <th>Sex</th>\n",
       "      <th>Year</th>\n",
       "    </tr>\n",
       "  </thead>\n",
       "  <tbody>\n",
       "    <tr>\n",
       "      <th>0</th>\n",
       "      <td>Andy</td>\n",
       "      <td>20</td>\n",
       "      <td>male</td>\n",
       "      <td>1</td>\n",
       "    </tr>\n",
       "  </tbody>\n",
       "</table>\n",
       "</div>"
      ],
      "text/plain": [
       "   Name  Age   Sex  Year\n",
       "0  Andy   20  male     1"
      ]
     },
     "execution_count": 24,
     "metadata": {},
     "output_type": "execute_result"
    }
   ],
   "source": [
    "df[0:1]"
   ]
>>>>>>> Completed
  },
  {
   "cell_type": "markdown",
   "metadata": {},
   "source": [
    "# Filtering Rows\n",
    "- It scans through each row\n",
    "- Perform a comparison operation on a column of each row \n",
    "- It returns `True` or `False` for comparison operation on that row\n",
    "\n",
    "Example:\n",
    "```\n",
    "filter = df['Age']<23\n",
    "print(filter)\n",
    "df[filter]\n",
    "```\n",
    "or in one line\n",
    "```\n",
    "df[df['Age']<23]\n",
    "```\n"
   ]
  },
  {
   "cell_type": "code",
   "execution_count": 25,
   "metadata": {},
<<<<<<< HEAD
   "outputs": [],
   "source": []
=======
   "outputs": [
    {
     "name": "stdout",
     "output_type": "stream",
     "text": [
      "0     True\n",
      "1     True\n",
      "2    False\n",
      "3     True\n",
      "Name: Age, dtype: bool\n"
     ]
    },
    {
     "data": {
      "text/html": [
       "<div>\n",
       "<style scoped>\n",
       "    .dataframe tbody tr th:only-of-type {\n",
       "        vertical-align: middle;\n",
       "    }\n",
       "\n",
       "    .dataframe tbody tr th {\n",
       "        vertical-align: top;\n",
       "    }\n",
       "\n",
       "    .dataframe thead th {\n",
       "        text-align: right;\n",
       "    }\n",
       "</style>\n",
       "<table border=\"1\" class=\"dataframe\">\n",
       "  <thead>\n",
       "    <tr style=\"text-align: right;\">\n",
       "      <th></th>\n",
       "      <th>Name</th>\n",
       "      <th>Age</th>\n",
       "      <th>Sex</th>\n",
       "      <th>Year</th>\n",
       "    </tr>\n",
       "  </thead>\n",
       "  <tbody>\n",
       "    <tr>\n",
       "      <th>0</th>\n",
       "      <td>Andy</td>\n",
       "      <td>20</td>\n",
       "      <td>male</td>\n",
       "      <td>1</td>\n",
       "    </tr>\n",
       "    <tr>\n",
       "      <th>1</th>\n",
       "      <td>Ben</td>\n",
       "      <td>22</td>\n",
       "      <td>male</td>\n",
       "      <td>3</td>\n",
       "    </tr>\n",
       "    <tr>\n",
       "      <th>3</th>\n",
       "      <td>Debra</td>\n",
       "      <td>22</td>\n",
       "      <td>female</td>\n",
       "      <td>3</td>\n",
       "    </tr>\n",
       "  </tbody>\n",
       "</table>\n",
       "</div>"
      ],
      "text/plain": [
       "    Name  Age     Sex  Year\n",
       "0   Andy   20    male     1\n",
       "1    Ben   22    male     3\n",
       "3  Debra   22  female     3"
      ]
     },
     "execution_count": 25,
     "metadata": {},
     "output_type": "execute_result"
    }
   ],
   "source": [
    "filter = df['Age']<23\n",
    "print(filter)\n",
    "df[filter]"
   ]
>>>>>>> Completed
  },
  {
   "cell_type": "code",
   "execution_count": 26,
   "metadata": {},
   "outputs": [
    {
     "data": {
      "text/plain": [
       "0     True\n",
       "1     True\n",
       "2    False\n",
       "3     True\n",
       "Name: Age, dtype: bool"
      ]
     },
     "execution_count": 26,
     "metadata": {},
     "output_type": "execute_result"
    }
   ],
   "source": [
    "filter = df['Age']<23\n",
    "filter"
   ]
  },
  {
   "cell_type": "code",
   "execution_count": 27,
   "metadata": {},
   "outputs": [
    {
     "data": {
      "text/plain": [
       "pandas.core.series.Series"
      ]
     },
     "execution_count": 27,
     "metadata": {},
     "output_type": "execute_result"
    }
   ],
   "source": [
    "type(filter)"
   ]
  },
  {
   "cell_type": "code",
   "execution_count": 28,
   "metadata": {},
   "outputs": [
    {
     "data": {
      "text/html": [
       "<div>\n",
       "<style scoped>\n",
       "    .dataframe tbody tr th:only-of-type {\n",
       "        vertical-align: middle;\n",
       "    }\n",
       "\n",
       "    .dataframe tbody tr th {\n",
       "        vertical-align: top;\n",
       "    }\n",
       "\n",
       "    .dataframe thead th {\n",
       "        text-align: right;\n",
       "    }\n",
       "</style>\n",
       "<table border=\"1\" class=\"dataframe\">\n",
       "  <thead>\n",
       "    <tr style=\"text-align: right;\">\n",
       "      <th></th>\n",
       "      <th>Name</th>\n",
       "      <th>Age</th>\n",
       "      <th>Sex</th>\n",
       "      <th>Year</th>\n",
       "    </tr>\n",
       "  </thead>\n",
       "  <tbody>\n",
       "    <tr>\n",
       "      <th>0</th>\n",
       "      <td>Andy</td>\n",
       "      <td>20</td>\n",
       "      <td>male</td>\n",
       "      <td>1</td>\n",
       "    </tr>\n",
       "    <tr>\n",
       "      <th>1</th>\n",
       "      <td>Ben</td>\n",
       "      <td>22</td>\n",
       "      <td>male</td>\n",
       "      <td>3</td>\n",
       "    </tr>\n",
       "    <tr>\n",
       "      <th>3</th>\n",
       "      <td>Debra</td>\n",
       "      <td>22</td>\n",
       "      <td>female</td>\n",
       "      <td>3</td>\n",
       "    </tr>\n",
       "  </tbody>\n",
       "</table>\n",
       "</div>"
      ],
      "text/plain": [
       "    Name  Age     Sex  Year\n",
       "0   Andy   20    male     1\n",
       "1    Ben   22    male     3\n",
       "3  Debra   22  female     3"
      ]
     },
     "execution_count": 28,
     "metadata": {},
     "output_type": "execute_result"
    }
   ],
   "source": [
    "df[filter]"
   ]
  },
  {
   "cell_type": "code",
   "execution_count": null,
   "metadata": {},
   "outputs": [],
   "source": []
  },
  {
   "cell_type": "markdown",
   "metadata": {},
   "source": [
    "# Filtering Rows with multiple filters\n",
    "Example:\n",
    "```\n",
    "filter = df['Age']<23\n",
    "filter2 = df['Year']==3\n",
    "df[filter & filter2]\n",
    "df[filter | filter2]\n",
    "```\n",
    "Concatenate the filter result for display\n",
    "```\n",
    "pd.concat([filter, filter2, (filter & filter2)], axis=1)\n",
    "pd.concat([filter, filter2, (filter | filter2)], axis=1)\n",
    "\n",
    "```"
   ]
  },
  {
   "cell_type": "code",
   "execution_count": 29,
   "metadata": {},
<<<<<<< HEAD
   "outputs": [],
   "source": []
=======
   "outputs": [
    {
     "data": {
      "text/plain": [
       "0     True\n",
       "1     True\n",
       "2    False\n",
       "3     True\n",
       "Name: Age, dtype: bool"
      ]
     },
     "execution_count": 29,
     "metadata": {},
     "output_type": "execute_result"
    }
   ],
   "source": [
    "filter = df['Age']<23\n",
    "filter"
   ]
>>>>>>> Completed
  },
  {
   "cell_type": "code",
   "execution_count": 30,
   "metadata": {},
<<<<<<< HEAD
   "outputs": [],
   "source": []
=======
   "outputs": [
    {
     "data": {
      "text/plain": [
       "0    False\n",
       "1     True\n",
       "2    False\n",
       "3     True\n",
       "Name: Year, dtype: bool"
      ]
     },
     "execution_count": 30,
     "metadata": {},
     "output_type": "execute_result"
    }
   ],
   "source": [
    "filter2 = df['Year']==3\n",
    "filter2"
   ]
>>>>>>> Completed
  },
  {
   "cell_type": "code",
   "execution_count": 31,
   "metadata": {},
<<<<<<< HEAD
   "outputs": [],
   "source": []
=======
   "outputs": [
    {
     "data": {
      "text/html": [
       "<div>\n",
       "<style scoped>\n",
       "    .dataframe tbody tr th:only-of-type {\n",
       "        vertical-align: middle;\n",
       "    }\n",
       "\n",
       "    .dataframe tbody tr th {\n",
       "        vertical-align: top;\n",
       "    }\n",
       "\n",
       "    .dataframe thead th {\n",
       "        text-align: right;\n",
       "    }\n",
       "</style>\n",
       "<table border=\"1\" class=\"dataframe\">\n",
       "  <thead>\n",
       "    <tr style=\"text-align: right;\">\n",
       "      <th></th>\n",
       "      <th>Age</th>\n",
       "      <th>Year</th>\n",
       "      <th>0</th>\n",
       "    </tr>\n",
       "  </thead>\n",
       "  <tbody>\n",
       "    <tr>\n",
       "      <th>0</th>\n",
       "      <td>True</td>\n",
       "      <td>False</td>\n",
       "      <td>True</td>\n",
       "    </tr>\n",
       "    <tr>\n",
       "      <th>1</th>\n",
       "      <td>True</td>\n",
       "      <td>True</td>\n",
       "      <td>True</td>\n",
       "    </tr>\n",
       "    <tr>\n",
       "      <th>2</th>\n",
       "      <td>False</td>\n",
       "      <td>False</td>\n",
       "      <td>False</td>\n",
       "    </tr>\n",
       "    <tr>\n",
       "      <th>3</th>\n",
       "      <td>True</td>\n",
       "      <td>True</td>\n",
       "      <td>True</td>\n",
       "    </tr>\n",
       "  </tbody>\n",
       "</table>\n",
       "</div>"
      ],
      "text/plain": [
       "     Age   Year      0\n",
       "0   True  False   True\n",
       "1   True   True   True\n",
       "2  False  False  False\n",
       "3   True   True   True"
      ]
     },
     "execution_count": 31,
     "metadata": {},
     "output_type": "execute_result"
    }
   ],
   "source": [
    "pd.concat([filter, filter2, (filter | filter2)], axis=1)"
   ]
>>>>>>> Completed
  },
  {
   "cell_type": "code",
   "execution_count": 32,
   "metadata": {},
<<<<<<< HEAD
   "outputs": [],
   "source": []
  },
  {
   "cell_type": "code",
   "execution_count": null,
   "metadata": {
    "scrolled": true
   },
   "outputs": [],
   "source": []
=======
   "outputs": [
    {
     "data": {
      "text/html": [
       "<div>\n",
       "<style scoped>\n",
       "    .dataframe tbody tr th:only-of-type {\n",
       "        vertical-align: middle;\n",
       "    }\n",
       "\n",
       "    .dataframe tbody tr th {\n",
       "        vertical-align: top;\n",
       "    }\n",
       "\n",
       "    .dataframe thead th {\n",
       "        text-align: right;\n",
       "    }\n",
       "</style>\n",
       "<table border=\"1\" class=\"dataframe\">\n",
       "  <thead>\n",
       "    <tr style=\"text-align: right;\">\n",
       "      <th></th>\n",
       "      <th>Name</th>\n",
       "      <th>Age</th>\n",
       "      <th>Sex</th>\n",
       "      <th>Year</th>\n",
       "    </tr>\n",
       "  </thead>\n",
       "  <tbody>\n",
       "    <tr>\n",
       "      <th>0</th>\n",
       "      <td>Andy</td>\n",
       "      <td>20</td>\n",
       "      <td>male</td>\n",
       "      <td>1</td>\n",
       "    </tr>\n",
       "    <tr>\n",
       "      <th>1</th>\n",
       "      <td>Ben</td>\n",
       "      <td>22</td>\n",
       "      <td>male</td>\n",
       "      <td>3</td>\n",
       "    </tr>\n",
       "    <tr>\n",
       "      <th>3</th>\n",
       "      <td>Debra</td>\n",
       "      <td>22</td>\n",
       "      <td>female</td>\n",
       "      <td>3</td>\n",
       "    </tr>\n",
       "  </tbody>\n",
       "</table>\n",
       "</div>"
      ],
      "text/plain": [
       "    Name  Age     Sex  Year\n",
       "0   Andy   20    male     1\n",
       "1    Ben   22    male     3\n",
       "3  Debra   22  female     3"
      ]
     },
     "execution_count": 32,
     "metadata": {},
     "output_type": "execute_result"
    }
   ],
   "source": [
    "df[filter | filter2]"
   ]
  },
  {
   "cell_type": "markdown",
   "metadata": {},
   "source": [
    "# Restricting rows and columns at the same time\n",
    "You are apply both row filtering and columns retricting\n",
    "Example:\n",
    "```\n",
    "df[df['Year']==3]\n",
    "df[df['Year']==3][['Name', 'Year']]\n",
    "```"
   ]
  },
  {
   "cell_type": "code",
   "execution_count": 33,
   "metadata": {},
   "outputs": [
    {
     "data": {
      "text/html": [
       "<div>\n",
       "<style scoped>\n",
       "    .dataframe tbody tr th:only-of-type {\n",
       "        vertical-align: middle;\n",
       "    }\n",
       "\n",
       "    .dataframe tbody tr th {\n",
       "        vertical-align: top;\n",
       "    }\n",
       "\n",
       "    .dataframe thead th {\n",
       "        text-align: right;\n",
       "    }\n",
       "</style>\n",
       "<table border=\"1\" class=\"dataframe\">\n",
       "  <thead>\n",
       "    <tr style=\"text-align: right;\">\n",
       "      <th></th>\n",
       "      <th>Name</th>\n",
       "      <th>Age</th>\n",
       "      <th>Sex</th>\n",
       "      <th>Year</th>\n",
       "    </tr>\n",
       "  </thead>\n",
       "  <tbody>\n",
       "    <tr>\n",
       "      <th>1</th>\n",
       "      <td>Ben</td>\n",
       "      <td>22</td>\n",
       "      <td>male</td>\n",
       "      <td>3</td>\n",
       "    </tr>\n",
       "    <tr>\n",
       "      <th>3</th>\n",
       "      <td>Debra</td>\n",
       "      <td>22</td>\n",
       "      <td>female</td>\n",
       "      <td>3</td>\n",
       "    </tr>\n",
       "  </tbody>\n",
       "</table>\n",
       "</div>"
      ],
      "text/plain": [
       "    Name  Age     Sex  Year\n",
       "1    Ben   22    male     3\n",
       "3  Debra   22  female     3"
      ]
     },
     "execution_count": 33,
     "metadata": {},
     "output_type": "execute_result"
    }
   ],
   "source": [
    "df[df['Year']==3]"
   ]
>>>>>>> Completed
  },
  {
   "cell_type": "code",
   "execution_count": 34,
   "metadata": {},
   "outputs": [
    {
     "data": {
      "text/html": [
       "<div>\n",
       "<style scoped>\n",
       "    .dataframe tbody tr th:only-of-type {\n",
       "        vertical-align: middle;\n",
       "    }\n",
       "\n",
       "    .dataframe tbody tr th {\n",
       "        vertical-align: top;\n",
       "    }\n",
       "\n",
       "    .dataframe thead th {\n",
       "        text-align: right;\n",
       "    }\n",
       "</style>\n",
       "<table border=\"1\" class=\"dataframe\">\n",
       "  <thead>\n",
       "    <tr style=\"text-align: right;\">\n",
       "      <th></th>\n",
       "      <th>Name</th>\n",
       "      <th>Year</th>\n",
       "    </tr>\n",
       "  </thead>\n",
       "  <tbody>\n",
       "    <tr>\n",
       "      <th>1</th>\n",
       "      <td>Ben</td>\n",
       "      <td>3</td>\n",
       "    </tr>\n",
       "    <tr>\n",
       "      <th>3</th>\n",
       "      <td>Debra</td>\n",
       "      <td>3</td>\n",
       "    </tr>\n",
       "  </tbody>\n",
       "</table>\n",
       "</div>"
      ],
      "text/plain": [
       "    Name  Year\n",
       "1    Ben     3\n",
       "3  Debra     3"
      ]
     },
     "execution_count": 34,
     "metadata": {},
     "output_type": "execute_result"
    }
   ],
   "source": [
    "df[df['Year']==3][['Name', 'Year']]"
   ]
  },
  {
   "cell_type": "markdown",
   "metadata": {},
<<<<<<< HEAD
   "outputs": [],
   "source": []
=======
   "source": [
    "# Use Pandas to retrieve HTML content\n",
    "Example:\n",
    "```\n",
    "url = 'http://www.multpl.com/s-p-500-dividend-yield/table?f=m'\n",
    "raw_html_tbl = pd.read_html(url)\n",
    "type(raw_html_tbl)\n",
    "len(raw_html_tbl)\n",
    "raw_html_tbl[0]\n",
    "type(raw_html_tbl[0])\n",
    "```"
   ]
>>>>>>> Completed
  },
  {
   "cell_type": "code",
   "execution_count": 35,
   "metadata": {},
   "outputs": [],
<<<<<<< HEAD
   "source": []
=======
   "source": [
    "url = 'http://www.multpl.com/s-p-500-dividend-yield/table?f=m'"
   ]
>>>>>>> Completed
  },
  {
   "cell_type": "code",
   "execution_count": 36,
   "metadata": {},
   "outputs": [],
<<<<<<< HEAD
   "source": []
=======
   "source": [
    "raw_html_tbl = pd.read_html(url)"
   ]
>>>>>>> Completed
  },
  {
   "cell_type": "code",
   "execution_count": 37,
   "metadata": {},
   "outputs": [
    {
     "data": {
      "text/plain": [
       "list"
      ]
     },
     "execution_count": 37,
     "metadata": {},
     "output_type": "execute_result"
    }
   ],
   "source": [
    "type(raw_html_tbl)"
   ]
  },
  {
   "cell_type": "code",
   "execution_count": 38,
   "metadata": {},
<<<<<<< HEAD
   "outputs": [],
   "source": []
=======
   "outputs": [
    {
     "data": {
      "text/plain": [
       "1"
      ]
     },
     "execution_count": 38,
     "metadata": {},
     "output_type": "execute_result"
    }
   ],
   "source": [
    "len(raw_html_tbl)"
   ]
>>>>>>> Completed
  },
  {
   "cell_type": "code",
   "execution_count": 39,
   "metadata": {},
<<<<<<< HEAD
   "outputs": [],
   "source": []
=======
   "outputs": [
    {
     "data": {
      "text/plain": [
       "pandas.core.frame.DataFrame"
      ]
     },
     "execution_count": 39,
     "metadata": {},
     "output_type": "execute_result"
    }
   ],
   "source": [
    "type(raw_html_tbl[0])"
   ]
>>>>>>> Completed
  },
  {
   "cell_type": "code",
   "execution_count": 40,
   "metadata": {},
<<<<<<< HEAD
   "outputs": [],
   "source": []
=======
   "outputs": [
    {
     "data": {
      "text/html": [
       "<div>\n",
       "<style scoped>\n",
       "    .dataframe tbody tr th:only-of-type {\n",
       "        vertical-align: middle;\n",
       "    }\n",
       "\n",
       "    .dataframe tbody tr th {\n",
       "        vertical-align: top;\n",
       "    }\n",
       "\n",
       "    .dataframe thead th {\n",
       "        text-align: right;\n",
       "    }\n",
       "</style>\n",
       "<table border=\"1\" class=\"dataframe\">\n",
       "  <thead>\n",
       "    <tr style=\"text-align: right;\">\n",
       "      <th></th>\n",
       "      <th>Date</th>\n",
       "      <th>Yield Value</th>\n",
       "    </tr>\n",
       "  </thead>\n",
       "  <tbody>\n",
       "    <tr>\n",
       "      <th>0</th>\n",
       "      <td>Jan 5, 2021</td>\n",
       "      <td>1.59% estimate</td>\n",
       "    </tr>\n",
       "    <tr>\n",
       "      <th>1</th>\n",
       "      <td>Dec 31, 2020</td>\n",
       "      <td>1.60% estimate</td>\n",
       "    </tr>\n",
       "    <tr>\n",
       "      <th>2</th>\n",
       "      <td>Nov 30, 2020</td>\n",
       "      <td>1.66% estimate</td>\n",
       "    </tr>\n",
       "    <tr>\n",
       "      <th>3</th>\n",
       "      <td>Oct 31, 2020</td>\n",
       "      <td>1.72% estimate</td>\n",
       "    </tr>\n",
       "    <tr>\n",
       "      <th>4</th>\n",
       "      <td>Sep 30, 2020</td>\n",
       "      <td>1.75%</td>\n",
       "    </tr>\n",
       "    <tr>\n",
       "      <th>...</th>\n",
       "      <td>...</td>\n",
       "      <td>...</td>\n",
       "    </tr>\n",
       "    <tr>\n",
       "      <th>1796</th>\n",
       "      <td>May 31, 1871</td>\n",
       "      <td>5.35%</td>\n",
       "    </tr>\n",
       "    <tr>\n",
       "      <th>1797</th>\n",
       "      <td>Apr 30, 1871</td>\n",
       "      <td>5.49%</td>\n",
       "    </tr>\n",
       "    <tr>\n",
       "      <th>1798</th>\n",
       "      <td>Mar 31, 1871</td>\n",
       "      <td>5.64%</td>\n",
       "    </tr>\n",
       "    <tr>\n",
       "      <th>1799</th>\n",
       "      <td>Feb 28, 1871</td>\n",
       "      <td>5.78%</td>\n",
       "    </tr>\n",
       "    <tr>\n",
       "      <th>1800</th>\n",
       "      <td>Jan 31, 1871</td>\n",
       "      <td>5.86%</td>\n",
       "    </tr>\n",
       "  </tbody>\n",
       "</table>\n",
       "<p>1801 rows × 2 columns</p>\n",
       "</div>"
      ],
      "text/plain": [
       "              Date     Yield Value\n",
       "0      Jan 5, 2021  1.59% estimate\n",
       "1     Dec 31, 2020  1.60% estimate\n",
       "2     Nov 30, 2020  1.66% estimate\n",
       "3     Oct 31, 2020  1.72% estimate\n",
       "4     Sep 30, 2020           1.75%\n",
       "...            ...             ...\n",
       "1796  May 31, 1871           5.35%\n",
       "1797  Apr 30, 1871           5.49%\n",
       "1798  Mar 31, 1871           5.64%\n",
       "1799  Feb 28, 1871           5.78%\n",
       "1800  Jan 31, 1871           5.86%\n",
       "\n",
       "[1801 rows x 2 columns]"
      ]
     },
     "execution_count": 40,
     "metadata": {},
     "output_type": "execute_result"
    }
   ],
   "source": [
    "raw_html_tbl[0]"
   ]
>>>>>>> Completed
  },
  {
   "cell_type": "markdown",
   "metadata": {},
   "source": [
    "# `pd.read_html()` doesn't always work\n",
    "- There are too many broken HTML codes\n",
    "- And some HTML are generated by JavaScript on the fly\n",
    "\n",
    "**Example**: \n",
    "\n",
    "The following scraping won't work\n",
    "```\n",
    "url2 = 'https://stock360.hkej.com/marketWatch/Top20'\n",
    "raw_html_tbl2 = pd.read_html(url2)\n",
    "raw_html_tbl2\n",
    "```"
   ]
  },
  {
   "cell_type": "code",
   "execution_count": 41,
   "metadata": {},
   "outputs": [],
<<<<<<< HEAD
   "source": []
=======
   "source": [
    "dates = pd.date_range('20210101', periods=7)"
   ]
>>>>>>> Completed
  },
  {
   "cell_type": "code",
   "execution_count": 42,
   "metadata": {},
<<<<<<< HEAD
   "outputs": [],
   "source": []
=======
   "outputs": [
    {
     "data": {
      "text/plain": [
       "DatetimeIndex(['2021-01-01', '2021-01-02', '2021-01-03', '2021-01-04',\n",
       "               '2021-01-05', '2021-01-06', '2021-01-07'],\n",
       "              dtype='datetime64[ns]', freq='D')"
      ]
     },
     "execution_count": 42,
     "metadata": {},
     "output_type": "execute_result"
    }
   ],
   "source": [
    "dates"
   ]
>>>>>>> Completed
  },
  {
   "cell_type": "code",
   "execution_count": 43,
   "metadata": {},
<<<<<<< HEAD
   "outputs": [],
   "source": []
=======
   "outputs": [
    {
     "data": {
      "text/plain": [
       "pandas.core.indexes.datetimes.DatetimeIndex"
      ]
     },
     "execution_count": 43,
     "metadata": {},
     "output_type": "execute_result"
    }
   ],
   "source": [
    "type(dates)"
   ]
  },
  {
   "cell_type": "code",
   "execution_count": 44,
   "metadata": {},
   "outputs": [
    {
     "data": {
      "text/plain": [
       "['A', 'B', 'C', 'D', 'E']"
      ]
     },
     "execution_count": 44,
     "metadata": {},
     "output_type": "execute_result"
    }
   ],
   "source": [
    "list('ABCDE')"
   ]
  },
  {
   "cell_type": "code",
   "execution_count": 45,
   "metadata": {},
   "outputs": [
    {
     "data": {
      "text/plain": [
       "['A', 'B', 'C', 'D', 'E']"
      ]
     },
     "execution_count": 45,
     "metadata": {},
     "output_type": "execute_result"
    }
   ],
   "source": [
    "'A B C D E'.split()"
   ]
>>>>>>> Completed
  },
  {
   "cell_type": "code",
   "execution_count": null,
   "metadata": {},
   "outputs": [],
   "source": []
<<<<<<< HEAD
=======
  },
  {
   "cell_type": "markdown",
   "metadata": {},
   "source": [
    "# Another Example or web scraping using Pandas\n",
    "Retrieving currency table from Yahoo Finance\n",
    "```\n",
    "url3 = 'https://hk.finance.yahoo.com/currencies'\n",
    "raw_html_tbl3 = pd.read_html(url3)\n",
    "raw_html_tbl3[0]\n",
    "```"
   ]
  },
  {
   "cell_type": "code",
   "execution_count": 46,
   "metadata": {},
   "outputs": [
    {
     "data": {
      "text/html": [
       "<div>\n",
       "<style scoped>\n",
       "    .dataframe tbody tr th:only-of-type {\n",
       "        vertical-align: middle;\n",
       "    }\n",
       "\n",
       "    .dataframe tbody tr th {\n",
       "        vertical-align: top;\n",
       "    }\n",
       "\n",
       "    .dataframe thead th {\n",
       "        text-align: right;\n",
       "    }\n",
       "</style>\n",
       "<table border=\"1\" class=\"dataframe\">\n",
       "  <thead>\n",
       "    <tr style=\"text-align: right;\">\n",
       "      <th></th>\n",
       "      <th>代號</th>\n",
       "      <th>名稱</th>\n",
       "      <th>收市價</th>\n",
       "      <th>變化</th>\n",
       "      <th>% 變化</th>\n",
       "      <th>52 週範圍</th>\n",
       "      <th>日圖表</th>\n",
       "    </tr>\n",
       "  </thead>\n",
       "  <tbody>\n",
       "    <tr>\n",
       "      <th>0</th>\n",
       "      <td>HKD=X</td>\n",
       "      <td>美元/港元</td>\n",
       "      <td>7.7528</td>\n",
       "      <td>-0.0002</td>\n",
       "      <td>-0.00%</td>\n",
       "      <td>NaN</td>\n",
       "      <td>NaN</td>\n",
       "    </tr>\n",
       "    <tr>\n",
       "      <th>1</th>\n",
       "      <td>HKDCNY=X</td>\n",
       "      <td>港元/人民幣</td>\n",
       "      <td>0.8321</td>\n",
       "      <td>-0.0007</td>\n",
       "      <td>-0.08%</td>\n",
       "      <td>NaN</td>\n",
       "      <td>NaN</td>\n",
       "    </tr>\n",
       "    <tr>\n",
       "      <th>2</th>\n",
       "      <td>EURHKD=X</td>\n",
       "      <td>歐元/港元</td>\n",
       "      <td>9.5208</td>\n",
       "      <td>0.0229</td>\n",
       "      <td>+0.24%</td>\n",
       "      <td>NaN</td>\n",
       "      <td>NaN</td>\n",
       "    </tr>\n",
       "    <tr>\n",
       "      <th>3</th>\n",
       "      <td>GBPHKD=X</td>\n",
       "      <td>英鎊/港元</td>\n",
       "      <td>10.5380</td>\n",
       "      <td>0.0150</td>\n",
       "      <td>+0.14%</td>\n",
       "      <td>NaN</td>\n",
       "      <td>NaN</td>\n",
       "    </tr>\n",
       "    <tr>\n",
       "      <th>4</th>\n",
       "      <td>JPYHKD=X</td>\n",
       "      <td>日圓/港元</td>\n",
       "      <td>0.0752</td>\n",
       "      <td>0.0002</td>\n",
       "      <td>+0.29%</td>\n",
       "      <td>NaN</td>\n",
       "      <td>NaN</td>\n",
       "    </tr>\n",
       "    <tr>\n",
       "      <th>5</th>\n",
       "      <td>AUDHKD=X</td>\n",
       "      <td>澳元/港元</td>\n",
       "      <td>5.9888</td>\n",
       "      <td>0.0431</td>\n",
       "      <td>+0.72%</td>\n",
       "      <td>NaN</td>\n",
       "      <td>NaN</td>\n",
       "    </tr>\n",
       "    <tr>\n",
       "      <th>6</th>\n",
       "      <td>NZDHKD=X</td>\n",
       "      <td>紐元/港元</td>\n",
       "      <td>5.5974</td>\n",
       "      <td>0.0337</td>\n",
       "      <td>+0.61%</td>\n",
       "      <td>NaN</td>\n",
       "      <td>NaN</td>\n",
       "    </tr>\n",
       "    <tr>\n",
       "      <th>7</th>\n",
       "      <td>CADHKD=X</td>\n",
       "      <td>加元/港元</td>\n",
       "      <td>6.0885</td>\n",
       "      <td>0.0249</td>\n",
       "      <td>+0.41%</td>\n",
       "      <td>NaN</td>\n",
       "      <td>NaN</td>\n",
       "    </tr>\n",
       "    <tr>\n",
       "      <th>8</th>\n",
       "      <td>HKDTWD=X</td>\n",
       "      <td>港元/新台幣</td>\n",
       "      <td>3.6119</td>\n",
       "      <td>-0.0159</td>\n",
       "      <td>-0.44%</td>\n",
       "      <td>NaN</td>\n",
       "      <td>NaN</td>\n",
       "    </tr>\n",
       "    <tr>\n",
       "      <th>9</th>\n",
       "      <td>HKDTHB=X</td>\n",
       "      <td>港元/泰銖</td>\n",
       "      <td>3.8593</td>\n",
       "      <td>-0.0091</td>\n",
       "      <td>-0.24%</td>\n",
       "      <td>NaN</td>\n",
       "      <td>NaN</td>\n",
       "    </tr>\n",
       "    <tr>\n",
       "      <th>10</th>\n",
       "      <td>KRWHKD=X</td>\n",
       "      <td>韓圜/港元</td>\n",
       "      <td>0.0071</td>\n",
       "      <td>-0.0000</td>\n",
       "      <td>-0.14%</td>\n",
       "      <td>NaN</td>\n",
       "      <td>NaN</td>\n",
       "    </tr>\n",
       "    <tr>\n",
       "      <th>11</th>\n",
       "      <td>SGDHKD=X</td>\n",
       "      <td>新加坡元/港元</td>\n",
       "      <td>5.8803</td>\n",
       "      <td>0.0069</td>\n",
       "      <td>+0.12%</td>\n",
       "      <td>NaN</td>\n",
       "      <td>NaN</td>\n",
       "    </tr>\n",
       "    <tr>\n",
       "      <th>12</th>\n",
       "      <td>CHFHKD=X</td>\n",
       "      <td>瑞士法郎/港元</td>\n",
       "      <td>8.8184</td>\n",
       "      <td>0.0244</td>\n",
       "      <td>+0.28%</td>\n",
       "      <td>NaN</td>\n",
       "      <td>NaN</td>\n",
       "    </tr>\n",
       "    <tr>\n",
       "      <th>13</th>\n",
       "      <td>VNDHKD=X</td>\n",
       "      <td>越南盾/港元</td>\n",
       "      <td>0.0003</td>\n",
       "      <td>-0.0000</td>\n",
       "      <td>-0.01%</td>\n",
       "      <td>NaN</td>\n",
       "      <td>NaN</td>\n",
       "    </tr>\n",
       "    <tr>\n",
       "      <th>14</th>\n",
       "      <td>IDRHKD=X</td>\n",
       "      <td>印尼盾/港元</td>\n",
       "      <td>0.0006</td>\n",
       "      <td>-0.0000</td>\n",
       "      <td>-0.31%</td>\n",
       "      <td>NaN</td>\n",
       "      <td>NaN</td>\n",
       "    </tr>\n",
       "    <tr>\n",
       "      <th>15</th>\n",
       "      <td>MOPHKD=X</td>\n",
       "      <td>澳門元/港元</td>\n",
       "      <td>0.9704</td>\n",
       "      <td>0.0001</td>\n",
       "      <td>+0.01%</td>\n",
       "      <td>NaN</td>\n",
       "      <td>NaN</td>\n",
       "    </tr>\n",
       "    <tr>\n",
       "      <th>16</th>\n",
       "      <td>CNY=X</td>\n",
       "      <td>美元/人民幣</td>\n",
       "      <td>6.4550</td>\n",
       "      <td>-0.0050</td>\n",
       "      <td>-0.08%</td>\n",
       "      <td>NaN</td>\n",
       "      <td>NaN</td>\n",
       "    </tr>\n",
       "    <tr>\n",
       "      <th>17</th>\n",
       "      <td>EURUSD=X</td>\n",
       "      <td>美元/歐元</td>\n",
       "      <td>1.2287</td>\n",
       "      <td>0.0033</td>\n",
       "      <td>+0.27%</td>\n",
       "      <td>NaN</td>\n",
       "      <td>NaN</td>\n",
       "    </tr>\n",
       "    <tr>\n",
       "      <th>18</th>\n",
       "      <td>GBPUSD=X</td>\n",
       "      <td>美元/英鎊</td>\n",
       "      <td>1.3593</td>\n",
       "      <td>0.0016</td>\n",
       "      <td>+0.12%</td>\n",
       "      <td>NaN</td>\n",
       "      <td>NaN</td>\n",
       "    </tr>\n",
       "    <tr>\n",
       "      <th>19</th>\n",
       "      <td>JPY=X</td>\n",
       "      <td>美元/日圓</td>\n",
       "      <td>102.7900</td>\n",
       "      <td>-0.3110</td>\n",
       "      <td>-0.30%</td>\n",
       "      <td>NaN</td>\n",
       "      <td>NaN</td>\n",
       "    </tr>\n",
       "    <tr>\n",
       "      <th>20</th>\n",
       "      <td>CHF=X</td>\n",
       "      <td>美元/瑞士法郎</td>\n",
       "      <td>0.8790</td>\n",
       "      <td>-0.0021</td>\n",
       "      <td>-0.24%</td>\n",
       "      <td>NaN</td>\n",
       "      <td>NaN</td>\n",
       "    </tr>\n",
       "    <tr>\n",
       "      <th>21</th>\n",
       "      <td>AUDUSD=X</td>\n",
       "      <td>美元/澳元</td>\n",
       "      <td>0.7728</td>\n",
       "      <td>0.0054</td>\n",
       "      <td>+0.70%</td>\n",
       "      <td>NaN</td>\n",
       "      <td>NaN</td>\n",
       "    </tr>\n",
       "    <tr>\n",
       "      <th>22</th>\n",
       "      <td>NZDUSD=X</td>\n",
       "      <td>美元/紐元</td>\n",
       "      <td>0.7225</td>\n",
       "      <td>0.0045</td>\n",
       "      <td>+0.62%</td>\n",
       "      <td>NaN</td>\n",
       "      <td>NaN</td>\n",
       "    </tr>\n",
       "    <tr>\n",
       "      <th>23</th>\n",
       "      <td>CAD=X</td>\n",
       "      <td>美元/加元</td>\n",
       "      <td>1.2733</td>\n",
       "      <td>-0.0046</td>\n",
       "      <td>-0.36%</td>\n",
       "      <td>NaN</td>\n",
       "      <td>NaN</td>\n",
       "    </tr>\n",
       "    <tr>\n",
       "      <th>24</th>\n",
       "      <td>EURGBP=X</td>\n",
       "      <td>歐元/英鎊</td>\n",
       "      <td>0.9031</td>\n",
       "      <td>0.0010</td>\n",
       "      <td>+0.11%</td>\n",
       "      <td>NaN</td>\n",
       "      <td>NaN</td>\n",
       "    </tr>\n",
       "    <tr>\n",
       "      <th>25</th>\n",
       "      <td>EURCHF=X</td>\n",
       "      <td>歐元/瑞士法郎</td>\n",
       "      <td>1.0795</td>\n",
       "      <td>0.0002</td>\n",
       "      <td>+0.02%</td>\n",
       "      <td>NaN</td>\n",
       "      <td>NaN</td>\n",
       "    </tr>\n",
       "  </tbody>\n",
       "</table>\n",
       "</div>"
      ],
      "text/plain": [
       "          代號       名稱       收市價      變化    % 變化  52 週範圍  日圖表\n",
       "0      HKD=X    美元/港元    7.7528 -0.0002  -0.00%     NaN  NaN\n",
       "1   HKDCNY=X   港元/人民幣    0.8321 -0.0007  -0.08%     NaN  NaN\n",
       "2   EURHKD=X    歐元/港元    9.5208  0.0229  +0.24%     NaN  NaN\n",
       "3   GBPHKD=X    英鎊/港元   10.5380  0.0150  +0.14%     NaN  NaN\n",
       "4   JPYHKD=X    日圓/港元    0.0752  0.0002  +0.29%     NaN  NaN\n",
       "5   AUDHKD=X    澳元/港元    5.9888  0.0431  +0.72%     NaN  NaN\n",
       "6   NZDHKD=X    紐元/港元    5.5974  0.0337  +0.61%     NaN  NaN\n",
       "7   CADHKD=X    加元/港元    6.0885  0.0249  +0.41%     NaN  NaN\n",
       "8   HKDTWD=X   港元/新台幣    3.6119 -0.0159  -0.44%     NaN  NaN\n",
       "9   HKDTHB=X    港元/泰銖    3.8593 -0.0091  -0.24%     NaN  NaN\n",
       "10  KRWHKD=X    韓圜/港元    0.0071 -0.0000  -0.14%     NaN  NaN\n",
       "11  SGDHKD=X  新加坡元/港元    5.8803  0.0069  +0.12%     NaN  NaN\n",
       "12  CHFHKD=X  瑞士法郎/港元    8.8184  0.0244  +0.28%     NaN  NaN\n",
       "13  VNDHKD=X   越南盾/港元    0.0003 -0.0000  -0.01%     NaN  NaN\n",
       "14  IDRHKD=X   印尼盾/港元    0.0006 -0.0000  -0.31%     NaN  NaN\n",
       "15  MOPHKD=X   澳門元/港元    0.9704  0.0001  +0.01%     NaN  NaN\n",
       "16     CNY=X   美元/人民幣    6.4550 -0.0050  -0.08%     NaN  NaN\n",
       "17  EURUSD=X    美元/歐元    1.2287  0.0033  +0.27%     NaN  NaN\n",
       "18  GBPUSD=X    美元/英鎊    1.3593  0.0016  +0.12%     NaN  NaN\n",
       "19     JPY=X    美元/日圓  102.7900 -0.3110  -0.30%     NaN  NaN\n",
       "20     CHF=X  美元/瑞士法郎    0.8790 -0.0021  -0.24%     NaN  NaN\n",
       "21  AUDUSD=X    美元/澳元    0.7728  0.0054  +0.70%     NaN  NaN\n",
       "22  NZDUSD=X    美元/紐元    0.7225  0.0045  +0.62%     NaN  NaN\n",
       "23     CAD=X    美元/加元    1.2733 -0.0046  -0.36%     NaN  NaN\n",
       "24  EURGBP=X    歐元/英鎊    0.9031  0.0010  +0.11%     NaN  NaN\n",
       "25  EURCHF=X  歐元/瑞士法郎    1.0795  0.0002  +0.02%     NaN  NaN"
      ]
     },
     "execution_count": 46,
     "metadata": {},
     "output_type": "execute_result"
    }
   ],
   "source": [
    "url3 = 'https://hk.finance.yahoo.com/currencies'\n",
    "raw_html_tbl3 = pd.read_html(url3)\n",
    "raw_html_tbl3[0]"
   ]
>>>>>>> Completed
  },
  {
   "cell_type": "markdown",
   "metadata": {},
   "source": [
    "# Reading CSV\n",
    "Code example:\n",
    "```\n",
    "df = pd.read_csv('./data/Salaries.csv')\n",
    "df.head() # return the first 5 rows\n",
    "df.tail() # return the last 5 rows\n",
    "df.head(10)\n",
    "df.tail(10)\n",
    "df.info() # the table meta data\n",
    "df.describe() # basic statistic information\n",
    "```\n",
    "**Handling Empty Values**:\n",
    "- The `info()` method also tells us how many Non-Null values there are present in each column\n",
    "- Empty values, or Null values, can be bad when analyzing data, and you should consider removing rows with empty values. \n",
    "- This is a called cleaning data"
   ]
  },
  {
   "cell_type": "code",
   "execution_count": 47,
   "metadata": {},
<<<<<<< HEAD
   "outputs": [],
   "source": []
=======
   "outputs": [
    {
     "name": "stdout",
     "output_type": "stream",
     "text": [
      "<class 'pandas.core.frame.DataFrame'>\n",
      "RangeIndex: 148654 entries, 0 to 148653\n",
      "Data columns (total 13 columns):\n",
      " #   Column            Non-Null Count   Dtype  \n",
      "---  ------            --------------   -----  \n",
      " 0   Id                148654 non-null  int64  \n",
      " 1   EmployeeName      148654 non-null  object \n",
      " 2   JobTitle          148654 non-null  object \n",
      " 3   BasePay           148045 non-null  float64\n",
      " 4   OvertimePay       148650 non-null  float64\n",
      " 5   OtherPay          148650 non-null  float64\n",
      " 6   Benefits          112491 non-null  float64\n",
      " 7   TotalPay          148654 non-null  float64\n",
      " 8   TotalPayBenefits  148654 non-null  float64\n",
      " 9   Year              148654 non-null  int64  \n",
      " 10  Notes             0 non-null       float64\n",
      " 11  Agency            148654 non-null  object \n",
      " 12  Status            0 non-null       float64\n",
      "dtypes: float64(8), int64(2), object(3)\n",
      "memory usage: 14.7+ MB\n"
     ]
    },
    {
     "data": {
      "text/html": [
       "<div>\n",
       "<style scoped>\n",
       "    .dataframe tbody tr th:only-of-type {\n",
       "        vertical-align: middle;\n",
       "    }\n",
       "\n",
       "    .dataframe tbody tr th {\n",
       "        vertical-align: top;\n",
       "    }\n",
       "\n",
       "    .dataframe thead th {\n",
       "        text-align: right;\n",
       "    }\n",
       "</style>\n",
       "<table border=\"1\" class=\"dataframe\">\n",
       "  <thead>\n",
       "    <tr style=\"text-align: right;\">\n",
       "      <th></th>\n",
       "      <th>Id</th>\n",
       "      <th>BasePay</th>\n",
       "      <th>OvertimePay</th>\n",
       "      <th>OtherPay</th>\n",
       "      <th>Benefits</th>\n",
       "      <th>TotalPay</th>\n",
       "      <th>TotalPayBenefits</th>\n",
       "      <th>Year</th>\n",
       "      <th>Notes</th>\n",
       "      <th>Status</th>\n",
       "    </tr>\n",
       "  </thead>\n",
       "  <tbody>\n",
       "    <tr>\n",
       "      <th>count</th>\n",
       "      <td>148654.000000</td>\n",
       "      <td>148045.000000</td>\n",
       "      <td>148650.000000</td>\n",
       "      <td>148650.000000</td>\n",
       "      <td>112491.000000</td>\n",
       "      <td>148654.000000</td>\n",
       "      <td>148654.000000</td>\n",
       "      <td>148654.000000</td>\n",
       "      <td>0.0</td>\n",
       "      <td>0.0</td>\n",
       "    </tr>\n",
       "    <tr>\n",
       "      <th>mean</th>\n",
       "      <td>74327.500000</td>\n",
       "      <td>66325.448841</td>\n",
       "      <td>5066.059886</td>\n",
       "      <td>3648.767297</td>\n",
       "      <td>25007.893151</td>\n",
       "      <td>74768.321972</td>\n",
       "      <td>93692.554811</td>\n",
       "      <td>2012.522643</td>\n",
       "      <td>NaN</td>\n",
       "      <td>NaN</td>\n",
       "    </tr>\n",
       "    <tr>\n",
       "      <th>std</th>\n",
       "      <td>42912.857795</td>\n",
       "      <td>42764.635495</td>\n",
       "      <td>11454.380559</td>\n",
       "      <td>8056.601866</td>\n",
       "      <td>15402.215858</td>\n",
       "      <td>50517.005274</td>\n",
       "      <td>62793.533483</td>\n",
       "      <td>1.117538</td>\n",
       "      <td>NaN</td>\n",
       "      <td>NaN</td>\n",
       "    </tr>\n",
       "    <tr>\n",
       "      <th>min</th>\n",
       "      <td>1.000000</td>\n",
       "      <td>-166.010000</td>\n",
       "      <td>-0.010000</td>\n",
       "      <td>-7058.590000</td>\n",
       "      <td>-33.890000</td>\n",
       "      <td>-618.130000</td>\n",
       "      <td>-618.130000</td>\n",
       "      <td>2011.000000</td>\n",
       "      <td>NaN</td>\n",
       "      <td>NaN</td>\n",
       "    </tr>\n",
       "    <tr>\n",
       "      <th>25%</th>\n",
       "      <td>37164.250000</td>\n",
       "      <td>33588.200000</td>\n",
       "      <td>0.000000</td>\n",
       "      <td>0.000000</td>\n",
       "      <td>11535.395000</td>\n",
       "      <td>36168.995000</td>\n",
       "      <td>44065.650000</td>\n",
       "      <td>2012.000000</td>\n",
       "      <td>NaN</td>\n",
       "      <td>NaN</td>\n",
       "    </tr>\n",
       "    <tr>\n",
       "      <th>50%</th>\n",
       "      <td>74327.500000</td>\n",
       "      <td>65007.450000</td>\n",
       "      <td>0.000000</td>\n",
       "      <td>811.270000</td>\n",
       "      <td>28628.620000</td>\n",
       "      <td>71426.610000</td>\n",
       "      <td>92404.090000</td>\n",
       "      <td>2013.000000</td>\n",
       "      <td>NaN</td>\n",
       "      <td>NaN</td>\n",
       "    </tr>\n",
       "    <tr>\n",
       "      <th>75%</th>\n",
       "      <td>111490.750000</td>\n",
       "      <td>94691.050000</td>\n",
       "      <td>4658.175000</td>\n",
       "      <td>4236.065000</td>\n",
       "      <td>35566.855000</td>\n",
       "      <td>105839.135000</td>\n",
       "      <td>132876.450000</td>\n",
       "      <td>2014.000000</td>\n",
       "      <td>NaN</td>\n",
       "      <td>NaN</td>\n",
       "    </tr>\n",
       "    <tr>\n",
       "      <th>max</th>\n",
       "      <td>148654.000000</td>\n",
       "      <td>319275.010000</td>\n",
       "      <td>245131.880000</td>\n",
       "      <td>400184.250000</td>\n",
       "      <td>96570.660000</td>\n",
       "      <td>567595.430000</td>\n",
       "      <td>567595.430000</td>\n",
       "      <td>2014.000000</td>\n",
       "      <td>NaN</td>\n",
       "      <td>NaN</td>\n",
       "    </tr>\n",
       "  </tbody>\n",
       "</table>\n",
       "</div>"
      ],
      "text/plain": [
       "                  Id        BasePay    OvertimePay       OtherPay  \\\n",
       "count  148654.000000  148045.000000  148650.000000  148650.000000   \n",
       "mean    74327.500000   66325.448841    5066.059886    3648.767297   \n",
       "std     42912.857795   42764.635495   11454.380559    8056.601866   \n",
       "min         1.000000    -166.010000      -0.010000   -7058.590000   \n",
       "25%     37164.250000   33588.200000       0.000000       0.000000   \n",
       "50%     74327.500000   65007.450000       0.000000     811.270000   \n",
       "75%    111490.750000   94691.050000    4658.175000    4236.065000   \n",
       "max    148654.000000  319275.010000  245131.880000  400184.250000   \n",
       "\n",
       "            Benefits       TotalPay  TotalPayBenefits           Year  Notes  \\\n",
       "count  112491.000000  148654.000000     148654.000000  148654.000000    0.0   \n",
       "mean    25007.893151   74768.321972      93692.554811    2012.522643    NaN   \n",
       "std     15402.215858   50517.005274      62793.533483       1.117538    NaN   \n",
       "min       -33.890000    -618.130000       -618.130000    2011.000000    NaN   \n",
       "25%     11535.395000   36168.995000      44065.650000    2012.000000    NaN   \n",
       "50%     28628.620000   71426.610000      92404.090000    2013.000000    NaN   \n",
       "75%     35566.855000  105839.135000     132876.450000    2014.000000    NaN   \n",
       "max     96570.660000  567595.430000     567595.430000    2014.000000    NaN   \n",
       "\n",
       "       Status  \n",
       "count     0.0  \n",
       "mean      NaN  \n",
       "std       NaN  \n",
       "min       NaN  \n",
       "25%       NaN  \n",
       "50%       NaN  \n",
       "75%       NaN  \n",
       "max       NaN  "
      ]
     },
     "execution_count": 47,
     "metadata": {},
     "output_type": "execute_result"
    }
   ],
   "source": [
    "df = pd.read_csv('./data/Salaries.csv')\n",
    "df.head() # return the first 5 rows\n",
    "df.tail() # return the last 5 rows\n",
    "df.head(10)\n",
    "df.tail(10)\n",
    "df.info() # the table meta data\n",
    "df.describe() # basic statistic information"
   ]
  },
  {
   "cell_type": "markdown",
   "metadata": {},
   "source": [
    "# `pd.read_html()` doesn't always work\n",
    "- There are two many broken HTML Codes\n",
    "- Some HTML are generated by JavaScript on the fly\n",
    "Example: The following scraping won't work\n",
    "```\n",
    "url2 = 'https://stock360.hkej.com/marketWatch/Top20'\n",
    "raw_html_tbl2 = pd.read_html(url2)\n",
    "raw_html_tbl2\n",
    "```"
   ]
>>>>>>> Completed
  },
  {
   "cell_type": "code",
   "execution_count": 48,
   "metadata": {},
<<<<<<< HEAD
   "outputs": [],
   "source": []
=======
   "outputs": [
    {
     "ename": "HTTPError",
     "evalue": "HTTP Error 403: Forbidden",
     "output_type": "error",
     "traceback": [
      "\u001b[0;31m---------------------------------------------------------------------------\u001b[0m",
      "\u001b[0;31mHTTPError\u001b[0m                                 Traceback (most recent call last)",
      "\u001b[0;32m<ipython-input-48-76c8e0fd27c1>\u001b[0m in \u001b[0;36m<module>\u001b[0;34m\u001b[0m\n\u001b[1;32m      1\u001b[0m \u001b[0murl2\u001b[0m \u001b[0;34m=\u001b[0m \u001b[0;34m'https://stock360.hkej.com/marketWatch/Top20'\u001b[0m\u001b[0;34m\u001b[0m\u001b[0;34m\u001b[0m\u001b[0m\n\u001b[0;32m----> 2\u001b[0;31m \u001b[0mraw_html_tbl2\u001b[0m \u001b[0;34m=\u001b[0m \u001b[0mpd\u001b[0m\u001b[0;34m.\u001b[0m\u001b[0mread_html\u001b[0m\u001b[0;34m(\u001b[0m\u001b[0murl2\u001b[0m\u001b[0;34m)\u001b[0m\u001b[0;34m\u001b[0m\u001b[0;34m\u001b[0m\u001b[0m\n\u001b[0m\u001b[1;32m      3\u001b[0m \u001b[0mraw_html_tbl2\u001b[0m\u001b[0;34m\u001b[0m\u001b[0;34m\u001b[0m\u001b[0m\n",
      "\u001b[0;32m~/opt/anaconda3/lib/python3.8/site-packages/pandas/util/_decorators.py\u001b[0m in \u001b[0;36mwrapper\u001b[0;34m(*args, **kwargs)\u001b[0m\n\u001b[1;32m    294\u001b[0m                 )\n\u001b[1;32m    295\u001b[0m                 \u001b[0mwarnings\u001b[0m\u001b[0;34m.\u001b[0m\u001b[0mwarn\u001b[0m\u001b[0;34m(\u001b[0m\u001b[0mmsg\u001b[0m\u001b[0;34m,\u001b[0m \u001b[0mFutureWarning\u001b[0m\u001b[0;34m,\u001b[0m \u001b[0mstacklevel\u001b[0m\u001b[0;34m=\u001b[0m\u001b[0mstacklevel\u001b[0m\u001b[0;34m)\u001b[0m\u001b[0;34m\u001b[0m\u001b[0;34m\u001b[0m\u001b[0m\n\u001b[0;32m--> 296\u001b[0;31m             \u001b[0;32mreturn\u001b[0m \u001b[0mfunc\u001b[0m\u001b[0;34m(\u001b[0m\u001b[0;34m*\u001b[0m\u001b[0margs\u001b[0m\u001b[0;34m,\u001b[0m \u001b[0;34m**\u001b[0m\u001b[0mkwargs\u001b[0m\u001b[0;34m)\u001b[0m\u001b[0;34m\u001b[0m\u001b[0;34m\u001b[0m\u001b[0m\n\u001b[0m\u001b[1;32m    297\u001b[0m \u001b[0;34m\u001b[0m\u001b[0m\n\u001b[1;32m    298\u001b[0m         \u001b[0;32mreturn\u001b[0m \u001b[0mwrapper\u001b[0m\u001b[0;34m\u001b[0m\u001b[0;34m\u001b[0m\u001b[0m\n",
      "\u001b[0;32m~/opt/anaconda3/lib/python3.8/site-packages/pandas/io/html.py\u001b[0m in \u001b[0;36mread_html\u001b[0;34m(io, match, flavor, header, index_col, skiprows, attrs, parse_dates, thousands, encoding, decimal, converters, na_values, keep_default_na, displayed_only)\u001b[0m\n\u001b[1;32m   1084\u001b[0m         )\n\u001b[1;32m   1085\u001b[0m     \u001b[0mvalidate_header_arg\u001b[0m\u001b[0;34m(\u001b[0m\u001b[0mheader\u001b[0m\u001b[0;34m)\u001b[0m\u001b[0;34m\u001b[0m\u001b[0;34m\u001b[0m\u001b[0m\n\u001b[0;32m-> 1086\u001b[0;31m     return _parse(\n\u001b[0m\u001b[1;32m   1087\u001b[0m         \u001b[0mflavor\u001b[0m\u001b[0;34m=\u001b[0m\u001b[0mflavor\u001b[0m\u001b[0;34m,\u001b[0m\u001b[0;34m\u001b[0m\u001b[0;34m\u001b[0m\u001b[0m\n\u001b[1;32m   1088\u001b[0m         \u001b[0mio\u001b[0m\u001b[0;34m=\u001b[0m\u001b[0mio\u001b[0m\u001b[0;34m,\u001b[0m\u001b[0;34m\u001b[0m\u001b[0;34m\u001b[0m\u001b[0m\n",
      "\u001b[0;32m~/opt/anaconda3/lib/python3.8/site-packages/pandas/io/html.py\u001b[0m in \u001b[0;36m_parse\u001b[0;34m(flavor, io, match, attrs, encoding, displayed_only, **kwargs)\u001b[0m\n\u001b[1;32m    896\u001b[0m \u001b[0;34m\u001b[0m\u001b[0m\n\u001b[1;32m    897\u001b[0m         \u001b[0;32mtry\u001b[0m\u001b[0;34m:\u001b[0m\u001b[0;34m\u001b[0m\u001b[0;34m\u001b[0m\u001b[0m\n\u001b[0;32m--> 898\u001b[0;31m             \u001b[0mtables\u001b[0m \u001b[0;34m=\u001b[0m \u001b[0mp\u001b[0m\u001b[0;34m.\u001b[0m\u001b[0mparse_tables\u001b[0m\u001b[0;34m(\u001b[0m\u001b[0;34m)\u001b[0m\u001b[0;34m\u001b[0m\u001b[0;34m\u001b[0m\u001b[0m\n\u001b[0m\u001b[1;32m    899\u001b[0m         \u001b[0;32mexcept\u001b[0m \u001b[0mValueError\u001b[0m \u001b[0;32mas\u001b[0m \u001b[0mcaught\u001b[0m\u001b[0;34m:\u001b[0m\u001b[0;34m\u001b[0m\u001b[0;34m\u001b[0m\u001b[0m\n\u001b[1;32m    900\u001b[0m             \u001b[0;31m# if `io` is an io-like object, check if it's seekable\u001b[0m\u001b[0;34m\u001b[0m\u001b[0;34m\u001b[0m\u001b[0;34m\u001b[0m\u001b[0m\n",
      "\u001b[0;32m~/opt/anaconda3/lib/python3.8/site-packages/pandas/io/html.py\u001b[0m in \u001b[0;36mparse_tables\u001b[0;34m(self)\u001b[0m\n\u001b[1;32m    215\u001b[0m         \u001b[0mlist\u001b[0m \u001b[0mof\u001b[0m \u001b[0mparsed\u001b[0m \u001b[0;34m(\u001b[0m\u001b[0mheader\u001b[0m\u001b[0;34m,\u001b[0m \u001b[0mbody\u001b[0m\u001b[0;34m,\u001b[0m \u001b[0mfooter\u001b[0m\u001b[0;34m)\u001b[0m \u001b[0mtuples\u001b[0m \u001b[0;32mfrom\u001b[0m \u001b[0mtables\u001b[0m\u001b[0;34m.\u001b[0m\u001b[0;34m\u001b[0m\u001b[0;34m\u001b[0m\u001b[0m\n\u001b[1;32m    216\u001b[0m         \"\"\"\n\u001b[0;32m--> 217\u001b[0;31m         \u001b[0mtables\u001b[0m \u001b[0;34m=\u001b[0m \u001b[0mself\u001b[0m\u001b[0;34m.\u001b[0m\u001b[0m_parse_tables\u001b[0m\u001b[0;34m(\u001b[0m\u001b[0mself\u001b[0m\u001b[0;34m.\u001b[0m\u001b[0m_build_doc\u001b[0m\u001b[0;34m(\u001b[0m\u001b[0;34m)\u001b[0m\u001b[0;34m,\u001b[0m \u001b[0mself\u001b[0m\u001b[0;34m.\u001b[0m\u001b[0mmatch\u001b[0m\u001b[0;34m,\u001b[0m \u001b[0mself\u001b[0m\u001b[0;34m.\u001b[0m\u001b[0mattrs\u001b[0m\u001b[0;34m)\u001b[0m\u001b[0;34m\u001b[0m\u001b[0;34m\u001b[0m\u001b[0m\n\u001b[0m\u001b[1;32m    218\u001b[0m         \u001b[0;32mreturn\u001b[0m \u001b[0;34m(\u001b[0m\u001b[0mself\u001b[0m\u001b[0;34m.\u001b[0m\u001b[0m_parse_thead_tbody_tfoot\u001b[0m\u001b[0;34m(\u001b[0m\u001b[0mtable\u001b[0m\u001b[0;34m)\u001b[0m \u001b[0;32mfor\u001b[0m \u001b[0mtable\u001b[0m \u001b[0;32min\u001b[0m \u001b[0mtables\u001b[0m\u001b[0;34m)\u001b[0m\u001b[0;34m\u001b[0m\u001b[0;34m\u001b[0m\u001b[0m\n\u001b[1;32m    219\u001b[0m \u001b[0;34m\u001b[0m\u001b[0m\n",
      "\u001b[0;32m~/opt/anaconda3/lib/python3.8/site-packages/pandas/io/html.py\u001b[0m in \u001b[0;36m_build_doc\u001b[0;34m(self)\u001b[0m\n\u001b[1;32m    734\u001b[0m                     \u001b[0;32mpass\u001b[0m\u001b[0;34m\u001b[0m\u001b[0;34m\u001b[0m\u001b[0m\n\u001b[1;32m    735\u001b[0m             \u001b[0;32melse\u001b[0m\u001b[0;34m:\u001b[0m\u001b[0;34m\u001b[0m\u001b[0;34m\u001b[0m\u001b[0m\n\u001b[0;32m--> 736\u001b[0;31m                 \u001b[0;32mraise\u001b[0m \u001b[0me\u001b[0m\u001b[0;34m\u001b[0m\u001b[0;34m\u001b[0m\u001b[0m\n\u001b[0m\u001b[1;32m    737\u001b[0m         \u001b[0;32melse\u001b[0m\u001b[0;34m:\u001b[0m\u001b[0;34m\u001b[0m\u001b[0;34m\u001b[0m\u001b[0m\n\u001b[1;32m    738\u001b[0m             \u001b[0;32mif\u001b[0m \u001b[0;32mnot\u001b[0m \u001b[0mhasattr\u001b[0m\u001b[0;34m(\u001b[0m\u001b[0mr\u001b[0m\u001b[0;34m,\u001b[0m \u001b[0;34m\"text_content\"\u001b[0m\u001b[0;34m)\u001b[0m\u001b[0;34m:\u001b[0m\u001b[0;34m\u001b[0m\u001b[0;34m\u001b[0m\u001b[0m\n",
      "\u001b[0;32m~/opt/anaconda3/lib/python3.8/site-packages/pandas/io/html.py\u001b[0m in \u001b[0;36m_build_doc\u001b[0;34m(self)\u001b[0m\n\u001b[1;32m    715\u001b[0m         \u001b[0;32mtry\u001b[0m\u001b[0;34m:\u001b[0m\u001b[0;34m\u001b[0m\u001b[0;34m\u001b[0m\u001b[0m\n\u001b[1;32m    716\u001b[0m             \u001b[0;32mif\u001b[0m \u001b[0mis_url\u001b[0m\u001b[0;34m(\u001b[0m\u001b[0mself\u001b[0m\u001b[0;34m.\u001b[0m\u001b[0mio\u001b[0m\u001b[0;34m)\u001b[0m\u001b[0;34m:\u001b[0m\u001b[0;34m\u001b[0m\u001b[0;34m\u001b[0m\u001b[0m\n\u001b[0;32m--> 717\u001b[0;31m                 \u001b[0;32mwith\u001b[0m \u001b[0murlopen\u001b[0m\u001b[0;34m(\u001b[0m\u001b[0mself\u001b[0m\u001b[0;34m.\u001b[0m\u001b[0mio\u001b[0m\u001b[0;34m)\u001b[0m \u001b[0;32mas\u001b[0m \u001b[0mf\u001b[0m\u001b[0;34m:\u001b[0m\u001b[0;34m\u001b[0m\u001b[0;34m\u001b[0m\u001b[0m\n\u001b[0m\u001b[1;32m    718\u001b[0m                     \u001b[0mr\u001b[0m \u001b[0;34m=\u001b[0m \u001b[0mparse\u001b[0m\u001b[0;34m(\u001b[0m\u001b[0mf\u001b[0m\u001b[0;34m,\u001b[0m \u001b[0mparser\u001b[0m\u001b[0;34m=\u001b[0m\u001b[0mparser\u001b[0m\u001b[0;34m)\u001b[0m\u001b[0;34m\u001b[0m\u001b[0;34m\u001b[0m\u001b[0m\n\u001b[1;32m    719\u001b[0m             \u001b[0;32melse\u001b[0m\u001b[0;34m:\u001b[0m\u001b[0;34m\u001b[0m\u001b[0;34m\u001b[0m\u001b[0m\n",
      "\u001b[0;32m~/opt/anaconda3/lib/python3.8/site-packages/pandas/io/common.py\u001b[0m in \u001b[0;36murlopen\u001b[0;34m(*args, **kwargs)\u001b[0m\n\u001b[1;32m    135\u001b[0m     \u001b[0;32mimport\u001b[0m \u001b[0murllib\u001b[0m\u001b[0;34m.\u001b[0m\u001b[0mrequest\u001b[0m\u001b[0;34m\u001b[0m\u001b[0;34m\u001b[0m\u001b[0m\n\u001b[1;32m    136\u001b[0m \u001b[0;34m\u001b[0m\u001b[0m\n\u001b[0;32m--> 137\u001b[0;31m     \u001b[0;32mreturn\u001b[0m \u001b[0murllib\u001b[0m\u001b[0;34m.\u001b[0m\u001b[0mrequest\u001b[0m\u001b[0;34m.\u001b[0m\u001b[0murlopen\u001b[0m\u001b[0;34m(\u001b[0m\u001b[0;34m*\u001b[0m\u001b[0margs\u001b[0m\u001b[0;34m,\u001b[0m \u001b[0;34m**\u001b[0m\u001b[0mkwargs\u001b[0m\u001b[0;34m)\u001b[0m\u001b[0;34m\u001b[0m\u001b[0;34m\u001b[0m\u001b[0m\n\u001b[0m\u001b[1;32m    138\u001b[0m \u001b[0;34m\u001b[0m\u001b[0m\n\u001b[1;32m    139\u001b[0m \u001b[0;34m\u001b[0m\u001b[0m\n",
      "\u001b[0;32m~/opt/anaconda3/lib/python3.8/urllib/request.py\u001b[0m in \u001b[0;36murlopen\u001b[0;34m(url, data, timeout, cafile, capath, cadefault, context)\u001b[0m\n\u001b[1;32m    220\u001b[0m     \u001b[0;32melse\u001b[0m\u001b[0;34m:\u001b[0m\u001b[0;34m\u001b[0m\u001b[0;34m\u001b[0m\u001b[0m\n\u001b[1;32m    221\u001b[0m         \u001b[0mopener\u001b[0m \u001b[0;34m=\u001b[0m \u001b[0m_opener\u001b[0m\u001b[0;34m\u001b[0m\u001b[0;34m\u001b[0m\u001b[0m\n\u001b[0;32m--> 222\u001b[0;31m     \u001b[0;32mreturn\u001b[0m \u001b[0mopener\u001b[0m\u001b[0;34m.\u001b[0m\u001b[0mopen\u001b[0m\u001b[0;34m(\u001b[0m\u001b[0murl\u001b[0m\u001b[0;34m,\u001b[0m \u001b[0mdata\u001b[0m\u001b[0;34m,\u001b[0m \u001b[0mtimeout\u001b[0m\u001b[0;34m)\u001b[0m\u001b[0;34m\u001b[0m\u001b[0;34m\u001b[0m\u001b[0m\n\u001b[0m\u001b[1;32m    223\u001b[0m \u001b[0;34m\u001b[0m\u001b[0m\n\u001b[1;32m    224\u001b[0m \u001b[0;32mdef\u001b[0m \u001b[0minstall_opener\u001b[0m\u001b[0;34m(\u001b[0m\u001b[0mopener\u001b[0m\u001b[0;34m)\u001b[0m\u001b[0;34m:\u001b[0m\u001b[0;34m\u001b[0m\u001b[0;34m\u001b[0m\u001b[0m\n",
      "\u001b[0;32m~/opt/anaconda3/lib/python3.8/urllib/request.py\u001b[0m in \u001b[0;36mopen\u001b[0;34m(self, fullurl, data, timeout)\u001b[0m\n\u001b[1;32m    529\u001b[0m         \u001b[0;32mfor\u001b[0m \u001b[0mprocessor\u001b[0m \u001b[0;32min\u001b[0m \u001b[0mself\u001b[0m\u001b[0;34m.\u001b[0m\u001b[0mprocess_response\u001b[0m\u001b[0;34m.\u001b[0m\u001b[0mget\u001b[0m\u001b[0;34m(\u001b[0m\u001b[0mprotocol\u001b[0m\u001b[0;34m,\u001b[0m \u001b[0;34m[\u001b[0m\u001b[0;34m]\u001b[0m\u001b[0;34m)\u001b[0m\u001b[0;34m:\u001b[0m\u001b[0;34m\u001b[0m\u001b[0;34m\u001b[0m\u001b[0m\n\u001b[1;32m    530\u001b[0m             \u001b[0mmeth\u001b[0m \u001b[0;34m=\u001b[0m \u001b[0mgetattr\u001b[0m\u001b[0;34m(\u001b[0m\u001b[0mprocessor\u001b[0m\u001b[0;34m,\u001b[0m \u001b[0mmeth_name\u001b[0m\u001b[0;34m)\u001b[0m\u001b[0;34m\u001b[0m\u001b[0;34m\u001b[0m\u001b[0m\n\u001b[0;32m--> 531\u001b[0;31m             \u001b[0mresponse\u001b[0m \u001b[0;34m=\u001b[0m \u001b[0mmeth\u001b[0m\u001b[0;34m(\u001b[0m\u001b[0mreq\u001b[0m\u001b[0;34m,\u001b[0m \u001b[0mresponse\u001b[0m\u001b[0;34m)\u001b[0m\u001b[0;34m\u001b[0m\u001b[0;34m\u001b[0m\u001b[0m\n\u001b[0m\u001b[1;32m    532\u001b[0m \u001b[0;34m\u001b[0m\u001b[0m\n\u001b[1;32m    533\u001b[0m         \u001b[0;32mreturn\u001b[0m \u001b[0mresponse\u001b[0m\u001b[0;34m\u001b[0m\u001b[0;34m\u001b[0m\u001b[0m\n",
      "\u001b[0;32m~/opt/anaconda3/lib/python3.8/urllib/request.py\u001b[0m in \u001b[0;36mhttp_response\u001b[0;34m(self, request, response)\u001b[0m\n\u001b[1;32m    638\u001b[0m         \u001b[0;31m# request was successfully received, understood, and accepted.\u001b[0m\u001b[0;34m\u001b[0m\u001b[0;34m\u001b[0m\u001b[0;34m\u001b[0m\u001b[0m\n\u001b[1;32m    639\u001b[0m         \u001b[0;32mif\u001b[0m \u001b[0;32mnot\u001b[0m \u001b[0;34m(\u001b[0m\u001b[0;36m200\u001b[0m \u001b[0;34m<=\u001b[0m \u001b[0mcode\u001b[0m \u001b[0;34m<\u001b[0m \u001b[0;36m300\u001b[0m\u001b[0;34m)\u001b[0m\u001b[0;34m:\u001b[0m\u001b[0;34m\u001b[0m\u001b[0;34m\u001b[0m\u001b[0m\n\u001b[0;32m--> 640\u001b[0;31m             response = self.parent.error(\n\u001b[0m\u001b[1;32m    641\u001b[0m                 'http', request, response, code, msg, hdrs)\n\u001b[1;32m    642\u001b[0m \u001b[0;34m\u001b[0m\u001b[0m\n",
      "\u001b[0;32m~/opt/anaconda3/lib/python3.8/urllib/request.py\u001b[0m in \u001b[0;36merror\u001b[0;34m(self, proto, *args)\u001b[0m\n\u001b[1;32m    567\u001b[0m         \u001b[0;32mif\u001b[0m \u001b[0mhttp_err\u001b[0m\u001b[0;34m:\u001b[0m\u001b[0;34m\u001b[0m\u001b[0;34m\u001b[0m\u001b[0m\n\u001b[1;32m    568\u001b[0m             \u001b[0margs\u001b[0m \u001b[0;34m=\u001b[0m \u001b[0;34m(\u001b[0m\u001b[0mdict\u001b[0m\u001b[0;34m,\u001b[0m \u001b[0;34m'default'\u001b[0m\u001b[0;34m,\u001b[0m \u001b[0;34m'http_error_default'\u001b[0m\u001b[0;34m)\u001b[0m \u001b[0;34m+\u001b[0m \u001b[0morig_args\u001b[0m\u001b[0;34m\u001b[0m\u001b[0;34m\u001b[0m\u001b[0m\n\u001b[0;32m--> 569\u001b[0;31m             \u001b[0;32mreturn\u001b[0m \u001b[0mself\u001b[0m\u001b[0;34m.\u001b[0m\u001b[0m_call_chain\u001b[0m\u001b[0;34m(\u001b[0m\u001b[0;34m*\u001b[0m\u001b[0margs\u001b[0m\u001b[0;34m)\u001b[0m\u001b[0;34m\u001b[0m\u001b[0;34m\u001b[0m\u001b[0m\n\u001b[0m\u001b[1;32m    570\u001b[0m \u001b[0;34m\u001b[0m\u001b[0m\n\u001b[1;32m    571\u001b[0m \u001b[0;31m# XXX probably also want an abstract factory that knows when it makes\u001b[0m\u001b[0;34m\u001b[0m\u001b[0;34m\u001b[0m\u001b[0;34m\u001b[0m\u001b[0m\n",
      "\u001b[0;32m~/opt/anaconda3/lib/python3.8/urllib/request.py\u001b[0m in \u001b[0;36m_call_chain\u001b[0;34m(self, chain, kind, meth_name, *args)\u001b[0m\n\u001b[1;32m    500\u001b[0m         \u001b[0;32mfor\u001b[0m \u001b[0mhandler\u001b[0m \u001b[0;32min\u001b[0m \u001b[0mhandlers\u001b[0m\u001b[0;34m:\u001b[0m\u001b[0;34m\u001b[0m\u001b[0;34m\u001b[0m\u001b[0m\n\u001b[1;32m    501\u001b[0m             \u001b[0mfunc\u001b[0m \u001b[0;34m=\u001b[0m \u001b[0mgetattr\u001b[0m\u001b[0;34m(\u001b[0m\u001b[0mhandler\u001b[0m\u001b[0;34m,\u001b[0m \u001b[0mmeth_name\u001b[0m\u001b[0;34m)\u001b[0m\u001b[0;34m\u001b[0m\u001b[0;34m\u001b[0m\u001b[0m\n\u001b[0;32m--> 502\u001b[0;31m             \u001b[0mresult\u001b[0m \u001b[0;34m=\u001b[0m \u001b[0mfunc\u001b[0m\u001b[0;34m(\u001b[0m\u001b[0;34m*\u001b[0m\u001b[0margs\u001b[0m\u001b[0;34m)\u001b[0m\u001b[0;34m\u001b[0m\u001b[0;34m\u001b[0m\u001b[0m\n\u001b[0m\u001b[1;32m    503\u001b[0m             \u001b[0;32mif\u001b[0m \u001b[0mresult\u001b[0m \u001b[0;32mis\u001b[0m \u001b[0;32mnot\u001b[0m \u001b[0;32mNone\u001b[0m\u001b[0;34m:\u001b[0m\u001b[0;34m\u001b[0m\u001b[0;34m\u001b[0m\u001b[0m\n\u001b[1;32m    504\u001b[0m                 \u001b[0;32mreturn\u001b[0m \u001b[0mresult\u001b[0m\u001b[0;34m\u001b[0m\u001b[0;34m\u001b[0m\u001b[0m\n",
      "\u001b[0;32m~/opt/anaconda3/lib/python3.8/urllib/request.py\u001b[0m in \u001b[0;36mhttp_error_default\u001b[0;34m(self, req, fp, code, msg, hdrs)\u001b[0m\n\u001b[1;32m    647\u001b[0m \u001b[0;32mclass\u001b[0m \u001b[0mHTTPDefaultErrorHandler\u001b[0m\u001b[0;34m(\u001b[0m\u001b[0mBaseHandler\u001b[0m\u001b[0;34m)\u001b[0m\u001b[0;34m:\u001b[0m\u001b[0;34m\u001b[0m\u001b[0;34m\u001b[0m\u001b[0m\n\u001b[1;32m    648\u001b[0m     \u001b[0;32mdef\u001b[0m \u001b[0mhttp_error_default\u001b[0m\u001b[0;34m(\u001b[0m\u001b[0mself\u001b[0m\u001b[0;34m,\u001b[0m \u001b[0mreq\u001b[0m\u001b[0;34m,\u001b[0m \u001b[0mfp\u001b[0m\u001b[0;34m,\u001b[0m \u001b[0mcode\u001b[0m\u001b[0;34m,\u001b[0m \u001b[0mmsg\u001b[0m\u001b[0;34m,\u001b[0m \u001b[0mhdrs\u001b[0m\u001b[0;34m)\u001b[0m\u001b[0;34m:\u001b[0m\u001b[0;34m\u001b[0m\u001b[0;34m\u001b[0m\u001b[0m\n\u001b[0;32m--> 649\u001b[0;31m         \u001b[0;32mraise\u001b[0m \u001b[0mHTTPError\u001b[0m\u001b[0;34m(\u001b[0m\u001b[0mreq\u001b[0m\u001b[0;34m.\u001b[0m\u001b[0mfull_url\u001b[0m\u001b[0;34m,\u001b[0m \u001b[0mcode\u001b[0m\u001b[0;34m,\u001b[0m \u001b[0mmsg\u001b[0m\u001b[0;34m,\u001b[0m \u001b[0mhdrs\u001b[0m\u001b[0;34m,\u001b[0m \u001b[0mfp\u001b[0m\u001b[0;34m)\u001b[0m\u001b[0;34m\u001b[0m\u001b[0;34m\u001b[0m\u001b[0m\n\u001b[0m\u001b[1;32m    650\u001b[0m \u001b[0;34m\u001b[0m\u001b[0m\n\u001b[1;32m    651\u001b[0m \u001b[0;32mclass\u001b[0m \u001b[0mHTTPRedirectHandler\u001b[0m\u001b[0;34m(\u001b[0m\u001b[0mBaseHandler\u001b[0m\u001b[0;34m)\u001b[0m\u001b[0;34m:\u001b[0m\u001b[0;34m\u001b[0m\u001b[0;34m\u001b[0m\u001b[0m\n",
      "\u001b[0;31mHTTPError\u001b[0m: HTTP Error 403: Forbidden"
     ]
    }
   ],
   "source": [
    "url2 = 'https://stock360.hkej.com/marketWatch/Top20'\n",
    "raw_html_tbl2 = pd.read_html(url2)\n",
    "raw_html_tbl2"
   ]
>>>>>>> Completed
  },
  {
   "cell_type": "code",
   "execution_count": null,
   "metadata": {},
   "outputs": [],
   "source": []
  },
  {
   "cell_type": "code",
   "execution_count": null,
   "metadata": {},
   "outputs": [],
   "source": []
  },
  {
   "cell_type": "code",
   "execution_count": null,
   "metadata": {},
   "outputs": [],
   "source": []
<<<<<<< HEAD
=======
  },
  {
   "cell_type": "markdown",
   "metadata": {},
   "source": [
    "# Cleaning Data\n",
    "Data cleaning means fixing bad data in your data set.\n",
    "\n",
    "**Bad data could be**:\n",
    "- Empty cells\n",
    "- Data in wrong format\n",
    "- Wrong data\n",
    "- Duplicates"
   ]
>>>>>>> Completed
  },
  {
   "cell_type": "markdown",
   "metadata": {},
   "source": [
    "# Dropping Columns\n",
    "You might like to drop a few columns that you don't need\n",
    "```\n",
    "new_df = df.drop(columns=['Notes', 'Status'])\n",
    "df.info()\n",
    "new_df.info()\n",
    "```"
   ]
  },
  {
   "cell_type": "code",
   "execution_count": null,
   "metadata": {},
   "outputs": [],
   "source": []
  },
  {
   "cell_type": "code",
   "execution_count": null,
   "metadata": {},
   "outputs": [],
   "source": []
  },
  {
   "cell_type": "code",
   "execution_count": null,
   "metadata": {},
   "outputs": [],
<<<<<<< HEAD
   "source": []
=======
   "source": [
    "df.info()"
   ]
>>>>>>> Completed
  },
  {
   "cell_type": "code",
   "execution_count": null,
   "metadata": {},
   "outputs": [],
<<<<<<< HEAD
   "source": []
=======
   "source": [
    "new_df.info()"
   ]
>>>>>>> Completed
  },
  {
   "cell_type": "markdown",
   "metadata": {},
   "source": [
    "# Drop Rows with Empty Value\n",
    "```\n",
    "cleaned_df = new_df.dropna()\n",
    "print(new_df.shape[0])\n",
    "print(cleaned_df.shape[0])\n",
    "cleaned_df.info()\n",
    "cleaned_df.describe()\n",
    "```"
   ]
  },
  {
   "cell_type": "code",
   "execution_count": 51,
   "metadata": {},
<<<<<<< HEAD
   "outputs": [],
   "source": []
=======
   "outputs": [
    {
     "name": "stdout",
     "output_type": "stream",
     "text": [
      "148654\n",
      "111886\n",
      "<class 'pandas.core.frame.DataFrame'>\n",
      "Int64Index: 111886 entries, 36159 to 148653\n",
      "Data columns (total 11 columns):\n",
      " #   Column            Non-Null Count   Dtype  \n",
      "---  ------            --------------   -----  \n",
      " 0   Id                111886 non-null  int64  \n",
      " 1   EmployeeName      111886 non-null  object \n",
      " 2   JobTitle          111886 non-null  object \n",
      " 3   BasePay           111886 non-null  float64\n",
      " 4   OvertimePay       111886 non-null  float64\n",
      " 5   OtherPay          111886 non-null  float64\n",
      " 6   Benefits          111886 non-null  float64\n",
      " 7   TotalPay          111886 non-null  float64\n",
      " 8   TotalPayBenefits  111886 non-null  float64\n",
      " 9   Year              111886 non-null  int64  \n",
      " 10  Agency            111886 non-null  object \n",
      "dtypes: float64(6), int64(2), object(3)\n",
      "memory usage: 10.2+ MB\n"
     ]
    },
    {
     "data": {
      "text/html": [
       "<div>\n",
       "<style scoped>\n",
       "    .dataframe tbody tr th:only-of-type {\n",
       "        vertical-align: middle;\n",
       "    }\n",
       "\n",
       "    .dataframe tbody tr th {\n",
       "        vertical-align: top;\n",
       "    }\n",
       "\n",
       "    .dataframe thead th {\n",
       "        text-align: right;\n",
       "    }\n",
       "</style>\n",
       "<table border=\"1\" class=\"dataframe\">\n",
       "  <thead>\n",
       "    <tr style=\"text-align: right;\">\n",
       "      <th></th>\n",
       "      <th>Id</th>\n",
       "      <th>BasePay</th>\n",
       "      <th>OvertimePay</th>\n",
       "      <th>OtherPay</th>\n",
       "      <th>Benefits</th>\n",
       "      <th>TotalPay</th>\n",
       "      <th>TotalPayBenefits</th>\n",
       "      <th>Year</th>\n",
       "    </tr>\n",
       "  </thead>\n",
       "  <tbody>\n",
       "    <tr>\n",
       "      <th>count</th>\n",
       "      <td>111886.00000</td>\n",
       "      <td>111886.000000</td>\n",
       "      <td>111886.000000</td>\n",
       "      <td>111886.000000</td>\n",
       "      <td>111886.000000</td>\n",
       "      <td>111886.000000</td>\n",
       "      <td>111886.000000</td>\n",
       "      <td>111886.000000</td>\n",
       "    </tr>\n",
       "    <tr>\n",
       "      <th>mean</th>\n",
       "      <td>92327.01674</td>\n",
       "      <td>67207.558425</td>\n",
       "      <td>5266.322389</td>\n",
       "      <td>3654.897644</td>\n",
       "      <td>25114.344510</td>\n",
       "      <td>76128.778458</td>\n",
       "      <td>101243.122968</td>\n",
       "      <td>2013.012093</td>\n",
       "    </tr>\n",
       "    <tr>\n",
       "      <th>std</th>\n",
       "      <td>32543.14780</td>\n",
       "      <td>43417.689463</td>\n",
       "      <td>11764.540181</td>\n",
       "      <td>8038.682219</td>\n",
       "      <td>15372.790545</td>\n",
       "      <td>51269.681584</td>\n",
       "      <td>65248.814471</td>\n",
       "      <td>0.818020</td>\n",
       "    </tr>\n",
       "    <tr>\n",
       "      <th>min</th>\n",
       "      <td>36160.00000</td>\n",
       "      <td>-166.010000</td>\n",
       "      <td>-0.010000</td>\n",
       "      <td>-7058.590000</td>\n",
       "      <td>-13.800000</td>\n",
       "      <td>-618.130000</td>\n",
       "      <td>-618.130000</td>\n",
       "      <td>2012.000000</td>\n",
       "    </tr>\n",
       "    <tr>\n",
       "      <th>25%</th>\n",
       "      <td>64131.25000</td>\n",
       "      <td>33644.427500</td>\n",
       "      <td>0.000000</td>\n",
       "      <td>0.000000</td>\n",
       "      <td>12143.155000</td>\n",
       "      <td>37041.205000</td>\n",
       "      <td>49674.847500</td>\n",
       "      <td>2012.000000</td>\n",
       "    </tr>\n",
       "    <tr>\n",
       "      <th>50%</th>\n",
       "      <td>92109.50000</td>\n",
       "      <td>65547.035000</td>\n",
       "      <td>0.000000</td>\n",
       "      <td>820.630000</td>\n",
       "      <td>28697.845000</td>\n",
       "      <td>72628.810000</td>\n",
       "      <td>101967.740000</td>\n",
       "      <td>2013.000000</td>\n",
       "    </tr>\n",
       "    <tr>\n",
       "      <th>75%</th>\n",
       "      <td>120678.75000</td>\n",
       "      <td>95229.030000</td>\n",
       "      <td>4865.052500</td>\n",
       "      <td>4307.017500</td>\n",
       "      <td>35608.617500</td>\n",
       "      <td>107530.010000</td>\n",
       "      <td>142991.082500</td>\n",
       "      <td>2014.000000</td>\n",
       "    </tr>\n",
       "    <tr>\n",
       "      <th>max</th>\n",
       "      <td>148654.00000</td>\n",
       "      <td>319275.010000</td>\n",
       "      <td>220909.480000</td>\n",
       "      <td>342802.630000</td>\n",
       "      <td>96570.660000</td>\n",
       "      <td>471952.640000</td>\n",
       "      <td>510732.680000</td>\n",
       "      <td>2014.000000</td>\n",
       "    </tr>\n",
       "  </tbody>\n",
       "</table>\n",
       "</div>"
      ],
      "text/plain": [
       "                 Id        BasePay    OvertimePay       OtherPay  \\\n",
       "count  111886.00000  111886.000000  111886.000000  111886.000000   \n",
       "mean    92327.01674   67207.558425    5266.322389    3654.897644   \n",
       "std     32543.14780   43417.689463   11764.540181    8038.682219   \n",
       "min     36160.00000    -166.010000      -0.010000   -7058.590000   \n",
       "25%     64131.25000   33644.427500       0.000000       0.000000   \n",
       "50%     92109.50000   65547.035000       0.000000     820.630000   \n",
       "75%    120678.75000   95229.030000    4865.052500    4307.017500   \n",
       "max    148654.00000  319275.010000  220909.480000  342802.630000   \n",
       "\n",
       "            Benefits       TotalPay  TotalPayBenefits           Year  \n",
       "count  111886.000000  111886.000000     111886.000000  111886.000000  \n",
       "mean    25114.344510   76128.778458     101243.122968    2013.012093  \n",
       "std     15372.790545   51269.681584      65248.814471       0.818020  \n",
       "min       -13.800000    -618.130000       -618.130000    2012.000000  \n",
       "25%     12143.155000   37041.205000      49674.847500    2012.000000  \n",
       "50%     28697.845000   72628.810000     101967.740000    2013.000000  \n",
       "75%     35608.617500  107530.010000     142991.082500    2014.000000  \n",
       "max     96570.660000  471952.640000     510732.680000    2014.000000  "
      ]
     },
     "execution_count": 51,
     "metadata": {},
     "output_type": "execute_result"
    }
   ],
   "source": [
    "cleaned_df = new_df.dropna()\n",
    "print(new_df.shape[0])\n",
    "print(cleaned_df.shape[0])\n",
    "cleaned_df.info()\n",
    "cleaned_df.describe()"
   ]
>>>>>>> Completed
  },
  {
   "cell_type": "code",
   "execution_count": 52,
   "metadata": {},
<<<<<<< HEAD
   "outputs": [],
   "source": []
=======
   "outputs": [
    {
     "name": "stdout",
     "output_type": "stream",
     "text": [
      "148654\n"
     ]
    }
   ],
   "source": [
    "print(new_df.shape[0])"
   ]
>>>>>>> Completed
  },
  {
   "cell_type": "code",
   "execution_count": 53,
   "metadata": {},
<<<<<<< HEAD
   "outputs": [],
   "source": []
=======
   "outputs": [
    {
     "name": "stdout",
     "output_type": "stream",
     "text": [
      "111886\n"
     ]
    }
   ],
   "source": [
    "print(cleaned_df.shape[0])\n"
   ]
  },
  {
   "cell_type": "code",
   "execution_count": 54,
   "metadata": {},
   "outputs": [
    {
     "data": {
      "text/html": [
       "<div>\n",
       "<style scoped>\n",
       "    .dataframe tbody tr th:only-of-type {\n",
       "        vertical-align: middle;\n",
       "    }\n",
       "\n",
       "    .dataframe tbody tr th {\n",
       "        vertical-align: top;\n",
       "    }\n",
       "\n",
       "    .dataframe thead th {\n",
       "        text-align: right;\n",
       "    }\n",
       "</style>\n",
       "<table border=\"1\" class=\"dataframe\">\n",
       "  <thead>\n",
       "    <tr style=\"text-align: right;\">\n",
       "      <th></th>\n",
       "      <th>Id</th>\n",
       "      <th>BasePay</th>\n",
       "      <th>OvertimePay</th>\n",
       "      <th>OtherPay</th>\n",
       "      <th>Benefits</th>\n",
       "      <th>TotalPay</th>\n",
       "      <th>TotalPayBenefits</th>\n",
       "      <th>Year</th>\n",
       "    </tr>\n",
       "  </thead>\n",
       "  <tbody>\n",
       "    <tr>\n",
       "      <th>count</th>\n",
       "      <td>111886.00000</td>\n",
       "      <td>111886.000000</td>\n",
       "      <td>111886.000000</td>\n",
       "      <td>111886.000000</td>\n",
       "      <td>111886.000000</td>\n",
       "      <td>111886.000000</td>\n",
       "      <td>111886.000000</td>\n",
       "      <td>111886.000000</td>\n",
       "    </tr>\n",
       "    <tr>\n",
       "      <th>mean</th>\n",
       "      <td>92327.01674</td>\n",
       "      <td>67207.558425</td>\n",
       "      <td>5266.322389</td>\n",
       "      <td>3654.897644</td>\n",
       "      <td>25114.344510</td>\n",
       "      <td>76128.778458</td>\n",
       "      <td>101243.122968</td>\n",
       "      <td>2013.012093</td>\n",
       "    </tr>\n",
       "    <tr>\n",
       "      <th>std</th>\n",
       "      <td>32543.14780</td>\n",
       "      <td>43417.689463</td>\n",
       "      <td>11764.540181</td>\n",
       "      <td>8038.682219</td>\n",
       "      <td>15372.790545</td>\n",
       "      <td>51269.681584</td>\n",
       "      <td>65248.814471</td>\n",
       "      <td>0.818020</td>\n",
       "    </tr>\n",
       "    <tr>\n",
       "      <th>min</th>\n",
       "      <td>36160.00000</td>\n",
       "      <td>-166.010000</td>\n",
       "      <td>-0.010000</td>\n",
       "      <td>-7058.590000</td>\n",
       "      <td>-13.800000</td>\n",
       "      <td>-618.130000</td>\n",
       "      <td>-618.130000</td>\n",
       "      <td>2012.000000</td>\n",
       "    </tr>\n",
       "    <tr>\n",
       "      <th>25%</th>\n",
       "      <td>64131.25000</td>\n",
       "      <td>33644.427500</td>\n",
       "      <td>0.000000</td>\n",
       "      <td>0.000000</td>\n",
       "      <td>12143.155000</td>\n",
       "      <td>37041.205000</td>\n",
       "      <td>49674.847500</td>\n",
       "      <td>2012.000000</td>\n",
       "    </tr>\n",
       "    <tr>\n",
       "      <th>50%</th>\n",
       "      <td>92109.50000</td>\n",
       "      <td>65547.035000</td>\n",
       "      <td>0.000000</td>\n",
       "      <td>820.630000</td>\n",
       "      <td>28697.845000</td>\n",
       "      <td>72628.810000</td>\n",
       "      <td>101967.740000</td>\n",
       "      <td>2013.000000</td>\n",
       "    </tr>\n",
       "    <tr>\n",
       "      <th>75%</th>\n",
       "      <td>120678.75000</td>\n",
       "      <td>95229.030000</td>\n",
       "      <td>4865.052500</td>\n",
       "      <td>4307.017500</td>\n",
       "      <td>35608.617500</td>\n",
       "      <td>107530.010000</td>\n",
       "      <td>142991.082500</td>\n",
       "      <td>2014.000000</td>\n",
       "    </tr>\n",
       "    <tr>\n",
       "      <th>max</th>\n",
       "      <td>148654.00000</td>\n",
       "      <td>319275.010000</td>\n",
       "      <td>220909.480000</td>\n",
       "      <td>342802.630000</td>\n",
       "      <td>96570.660000</td>\n",
       "      <td>471952.640000</td>\n",
       "      <td>510732.680000</td>\n",
       "      <td>2014.000000</td>\n",
       "    </tr>\n",
       "  </tbody>\n",
       "</table>\n",
       "</div>"
      ],
      "text/plain": [
       "                 Id        BasePay    OvertimePay       OtherPay  \\\n",
       "count  111886.00000  111886.000000  111886.000000  111886.000000   \n",
       "mean    92327.01674   67207.558425    5266.322389    3654.897644   \n",
       "std     32543.14780   43417.689463   11764.540181    8038.682219   \n",
       "min     36160.00000    -166.010000      -0.010000   -7058.590000   \n",
       "25%     64131.25000   33644.427500       0.000000       0.000000   \n",
       "50%     92109.50000   65547.035000       0.000000     820.630000   \n",
       "75%    120678.75000   95229.030000    4865.052500    4307.017500   \n",
       "max    148654.00000  319275.010000  220909.480000  342802.630000   \n",
       "\n",
       "            Benefits       TotalPay  TotalPayBenefits           Year  \n",
       "count  111886.000000  111886.000000     111886.000000  111886.000000  \n",
       "mean    25114.344510   76128.778458     101243.122968    2013.012093  \n",
       "std     15372.790545   51269.681584      65248.814471       0.818020  \n",
       "min       -13.800000    -618.130000       -618.130000    2012.000000  \n",
       "25%     12143.155000   37041.205000      49674.847500    2012.000000  \n",
       "50%     28697.845000   72628.810000     101967.740000    2013.000000  \n",
       "75%     35608.617500  107530.010000     142991.082500    2014.000000  \n",
       "max     96570.660000  471952.640000     510732.680000    2014.000000  "
      ]
     },
     "execution_count": 54,
     "metadata": {},
     "output_type": "execute_result"
    }
   ],
   "source": [
    "cleaned_df.describe()"
   ]
>>>>>>> Completed
  },
  {
   "cell_type": "markdown",
   "metadata": {},
   "source": [
    "# Replacing empty cells with mean or median\n",
    "\n",
    "```\n",
    "df[\"BasePay\"].describe()\n",
    "x = df[\"BasePay\"].mean()\n",
    "df[\"BasePay\"].fillna(x, inplace = True)\n",
    "df[\"BasePay\"].describe()\n",
    "```\n"
   ]
  },
  {
   "cell_type": "code",
   "execution_count": 55,
   "metadata": {},
   "outputs": [
    {
     "name": "stdout",
     "output_type": "stream",
     "text": [
      "148654\n",
      "111886\n",
      "<class 'pandas.core.frame.DataFrame'>\n",
      "Int64Index: 111886 entries, 36159 to 148653\n",
      "Data columns (total 11 columns):\n",
      " #   Column            Non-Null Count   Dtype  \n",
      "---  ------            --------------   -----  \n",
      " 0   Id                111886 non-null  int64  \n",
      " 1   EmployeeName      111886 non-null  object \n",
      " 2   JobTitle          111886 non-null  object \n",
      " 3   BasePay           111886 non-null  float64\n",
      " 4   OvertimePay       111886 non-null  float64\n",
      " 5   OtherPay          111886 non-null  float64\n",
      " 6   Benefits          111886 non-null  float64\n",
      " 7   TotalPay          111886 non-null  float64\n",
      " 8   TotalPayBenefits  111886 non-null  float64\n",
      " 9   Year              111886 non-null  int64  \n",
      " 10  Agency            111886 non-null  object \n",
      "dtypes: float64(6), int64(2), object(3)\n",
      "memory usage: 10.2+ MB\n"
     ]
    },
    {
     "data": {
      "text/html": [
       "<div>\n",
       "<style scoped>\n",
       "    .dataframe tbody tr th:only-of-type {\n",
       "        vertical-align: middle;\n",
       "    }\n",
       "\n",
       "    .dataframe tbody tr th {\n",
       "        vertical-align: top;\n",
       "    }\n",
       "\n",
       "    .dataframe thead th {\n",
       "        text-align: right;\n",
       "    }\n",
       "</style>\n",
       "<table border=\"1\" class=\"dataframe\">\n",
       "  <thead>\n",
       "    <tr style=\"text-align: right;\">\n",
       "      <th></th>\n",
       "      <th>Id</th>\n",
       "      <th>BasePay</th>\n",
       "      <th>OvertimePay</th>\n",
       "      <th>OtherPay</th>\n",
       "      <th>Benefits</th>\n",
       "      <th>TotalPay</th>\n",
       "      <th>TotalPayBenefits</th>\n",
       "      <th>Year</th>\n",
       "    </tr>\n",
       "  </thead>\n",
       "  <tbody>\n",
       "    <tr>\n",
       "      <th>count</th>\n",
       "      <td>111886.00000</td>\n",
       "      <td>111886.000000</td>\n",
       "      <td>111886.000000</td>\n",
       "      <td>111886.000000</td>\n",
       "      <td>111886.000000</td>\n",
       "      <td>111886.000000</td>\n",
       "      <td>111886.000000</td>\n",
       "      <td>111886.000000</td>\n",
       "    </tr>\n",
       "    <tr>\n",
       "      <th>mean</th>\n",
       "      <td>92327.01674</td>\n",
       "      <td>67207.558425</td>\n",
       "      <td>5266.322389</td>\n",
       "      <td>3654.897644</td>\n",
       "      <td>25114.344510</td>\n",
       "      <td>76128.778458</td>\n",
       "      <td>101243.122968</td>\n",
       "      <td>2013.012093</td>\n",
       "    </tr>\n",
       "    <tr>\n",
       "      <th>std</th>\n",
       "      <td>32543.14780</td>\n",
       "      <td>43417.689463</td>\n",
       "      <td>11764.540181</td>\n",
       "      <td>8038.682219</td>\n",
       "      <td>15372.790545</td>\n",
       "      <td>51269.681584</td>\n",
       "      <td>65248.814471</td>\n",
       "      <td>0.818020</td>\n",
       "    </tr>\n",
       "    <tr>\n",
       "      <th>min</th>\n",
       "      <td>36160.00000</td>\n",
       "      <td>-166.010000</td>\n",
       "      <td>-0.010000</td>\n",
       "      <td>-7058.590000</td>\n",
       "      <td>-13.800000</td>\n",
       "      <td>-618.130000</td>\n",
       "      <td>-618.130000</td>\n",
       "      <td>2012.000000</td>\n",
       "    </tr>\n",
       "    <tr>\n",
       "      <th>25%</th>\n",
       "      <td>64131.25000</td>\n",
       "      <td>33644.427500</td>\n",
       "      <td>0.000000</td>\n",
       "      <td>0.000000</td>\n",
       "      <td>12143.155000</td>\n",
       "      <td>37041.205000</td>\n",
       "      <td>49674.847500</td>\n",
       "      <td>2012.000000</td>\n",
       "    </tr>\n",
       "    <tr>\n",
       "      <th>50%</th>\n",
       "      <td>92109.50000</td>\n",
       "      <td>65547.035000</td>\n",
       "      <td>0.000000</td>\n",
       "      <td>820.630000</td>\n",
       "      <td>28697.845000</td>\n",
       "      <td>72628.810000</td>\n",
       "      <td>101967.740000</td>\n",
       "      <td>2013.000000</td>\n",
       "    </tr>\n",
       "    <tr>\n",
       "      <th>75%</th>\n",
       "      <td>120678.75000</td>\n",
       "      <td>95229.030000</td>\n",
       "      <td>4865.052500</td>\n",
       "      <td>4307.017500</td>\n",
       "      <td>35608.617500</td>\n",
       "      <td>107530.010000</td>\n",
       "      <td>142991.082500</td>\n",
       "      <td>2014.000000</td>\n",
       "    </tr>\n",
       "    <tr>\n",
       "      <th>max</th>\n",
       "      <td>148654.00000</td>\n",
       "      <td>319275.010000</td>\n",
       "      <td>220909.480000</td>\n",
       "      <td>342802.630000</td>\n",
       "      <td>96570.660000</td>\n",
       "      <td>471952.640000</td>\n",
       "      <td>510732.680000</td>\n",
       "      <td>2014.000000</td>\n",
       "    </tr>\n",
       "  </tbody>\n",
       "</table>\n",
       "</div>"
      ],
      "text/plain": [
       "                 Id        BasePay    OvertimePay       OtherPay  \\\n",
       "count  111886.00000  111886.000000  111886.000000  111886.000000   \n",
       "mean    92327.01674   67207.558425    5266.322389    3654.897644   \n",
       "std     32543.14780   43417.689463   11764.540181    8038.682219   \n",
       "min     36160.00000    -166.010000      -0.010000   -7058.590000   \n",
       "25%     64131.25000   33644.427500       0.000000       0.000000   \n",
       "50%     92109.50000   65547.035000       0.000000     820.630000   \n",
       "75%    120678.75000   95229.030000    4865.052500    4307.017500   \n",
       "max    148654.00000  319275.010000  220909.480000  342802.630000   \n",
       "\n",
       "            Benefits       TotalPay  TotalPayBenefits           Year  \n",
       "count  111886.000000  111886.000000     111886.000000  111886.000000  \n",
       "mean    25114.344510   76128.778458     101243.122968    2013.012093  \n",
       "std     15372.790545   51269.681584      65248.814471       0.818020  \n",
       "min       -13.800000    -618.130000       -618.130000    2012.000000  \n",
       "25%     12143.155000   37041.205000      49674.847500    2012.000000  \n",
       "50%     28697.845000   72628.810000     101967.740000    2013.000000  \n",
       "75%     35608.617500  107530.010000     142991.082500    2014.000000  \n",
       "max     96570.660000  471952.640000     510732.680000    2014.000000  "
      ]
     },
     "execution_count": 55,
     "metadata": {},
     "output_type": "execute_result"
    }
   ],
   "source": []
  },
  {
   "cell_type": "code",
   "execution_count": null,
   "metadata": {},
   "outputs": [],
<<<<<<< HEAD
   "source": []
=======
   "source": [
    "x = df[\"BasePay\"].mean()\n",
    "x"
   ]
  },
  {
   "cell_type": "code",
   "execution_count": null,
   "metadata": {},
   "outputs": [],
   "source": [
    "df[\"BasePay\"].fillna(x, inplace = True)"
   ]
  },
  {
   "cell_type": "code",
   "execution_count": null,
   "metadata": {},
   "outputs": [],
   "source": [
    "df[\"BasePay\"].describe()"
   ]
>>>>>>> Completed
  },
  {
   "cell_type": "markdown",
   "metadata": {},
   "source": [
    "# Finding Relationship\n",
    "The `corr()` method calculates the relationship between each column in your data set.\n",
    "```\n",
    "df.corr()\n",
    "```\n",
    "The Result of the `corr()` method is a table with a lot of numbers that represents how well the relationship is between two columns.\n",
    "- The number varies from `-1` to `1`.\n",
    "- `1` means that there is a 1 to 1 relationship (a perfect correlation).\n",
    "- `0.9` is also a good relationship, and if you increase one value, the other will probably increase as well.\n",
    "- `-0.9` would be just as good relationship as 0.9, but if you increase one value, the other will go down.\n",
    "- `0.2` means NOT a good relationship, meaning that if one value goes up does not mean that the other will.\n",
    "\n",
    "Example:\n",
    "```\n",
    "df = pd.read_excel('./data/Students.xls', sheet_name=0)\n",
    "df\n",
    "df.corr()\n",
    "```"
   ]
  },
  {
   "cell_type": "code",
   "execution_count": 56,
   "metadata": {},
<<<<<<< HEAD
   "outputs": [],
   "source": []
=======
   "outputs": [
    {
     "data": {
      "text/html": [
       "<div>\n",
       "<style scoped>\n",
       "    .dataframe tbody tr th:only-of-type {\n",
       "        vertical-align: middle;\n",
       "    }\n",
       "\n",
       "    .dataframe tbody tr th {\n",
       "        vertical-align: top;\n",
       "    }\n",
       "\n",
       "    .dataframe thead th {\n",
       "        text-align: right;\n",
       "    }\n",
       "</style>\n",
       "<table border=\"1\" class=\"dataframe\">\n",
       "  <thead>\n",
       "    <tr style=\"text-align: right;\">\n",
       "      <th></th>\n",
       "      <th>Associate Degree</th>\n",
       "      <th>Higher Diploma</th>\n",
       "      <th>Sub-degree</th>\n",
       "      <th>First year first degree</th>\n",
       "      <th>Top-up degree</th>\n",
       "      <th>Under-graduate</th>\n",
       "    </tr>\n",
       "  </thead>\n",
       "  <tbody>\n",
       "    <tr>\n",
       "      <th>Associate Degree</th>\n",
       "      <td>1.000000</td>\n",
       "      <td>0.728727</td>\n",
       "      <td>0.956570</td>\n",
       "      <td>-0.315338</td>\n",
       "      <td>-0.460673</td>\n",
       "      <td>-0.410802</td>\n",
       "    </tr>\n",
       "    <tr>\n",
       "      <th>Higher Diploma</th>\n",
       "      <td>0.728727</td>\n",
       "      <td>1.000000</td>\n",
       "      <td>0.896701</td>\n",
       "      <td>-0.189895</td>\n",
       "      <td>-0.405373</td>\n",
       "      <td>-0.327808</td>\n",
       "    </tr>\n",
       "    <tr>\n",
       "      <th>Sub-degree</th>\n",
       "      <td>0.956570</td>\n",
       "      <td>0.896701</td>\n",
       "      <td>1.000000</td>\n",
       "      <td>-0.284658</td>\n",
       "      <td>-0.470321</td>\n",
       "      <td>-0.405070</td>\n",
       "    </tr>\n",
       "    <tr>\n",
       "      <th>First year first degree</th>\n",
       "      <td>-0.315338</td>\n",
       "      <td>-0.189895</td>\n",
       "      <td>-0.284658</td>\n",
       "      <td>1.000000</td>\n",
       "      <td>0.945621</td>\n",
       "      <td>0.978879</td>\n",
       "    </tr>\n",
       "    <tr>\n",
       "      <th>Top-up degree</th>\n",
       "      <td>-0.460673</td>\n",
       "      <td>-0.405373</td>\n",
       "      <td>-0.470321</td>\n",
       "      <td>0.945621</td>\n",
       "      <td>1.000000</td>\n",
       "      <td>0.992147</td>\n",
       "    </tr>\n",
       "    <tr>\n",
       "      <th>Under-graduate</th>\n",
       "      <td>-0.410802</td>\n",
       "      <td>-0.327808</td>\n",
       "      <td>-0.405070</td>\n",
       "      <td>0.978879</td>\n",
       "      <td>0.992147</td>\n",
       "      <td>1.000000</td>\n",
       "    </tr>\n",
       "  </tbody>\n",
       "</table>\n",
       "</div>"
      ],
      "text/plain": [
       "                         Associate Degree  Higher Diploma  Sub-degree  \\\n",
       "Associate Degree                 1.000000        0.728727    0.956570   \n",
       "Higher Diploma                   0.728727        1.000000    0.896701   \n",
       "Sub-degree                       0.956570        0.896701    1.000000   \n",
       "First year first degree         -0.315338       -0.189895   -0.284658   \n",
       "Top-up degree                   -0.460673       -0.405373   -0.470321   \n",
       "Under-graduate                  -0.410802       -0.327808   -0.405070   \n",
       "\n",
       "                         First year first degree  Top-up degree  \\\n",
       "Associate Degree                       -0.315338      -0.460673   \n",
       "Higher Diploma                         -0.189895      -0.405373   \n",
       "Sub-degree                             -0.284658      -0.470321   \n",
       "First year first degree                 1.000000       0.945621   \n",
       "Top-up degree                           0.945621       1.000000   \n",
       "Under-graduate                          0.978879       0.992147   \n",
       "\n",
       "                         Under-graduate  \n",
       "Associate Degree              -0.410802  \n",
       "Higher Diploma                -0.327808  \n",
       "Sub-degree                    -0.405070  \n",
       "First year first degree        0.978879  \n",
       "Top-up degree                  0.992147  \n",
       "Under-graduate                 1.000000  "
      ]
     },
     "execution_count": 56,
     "metadata": {},
     "output_type": "execute_result"
    }
   ],
   "source": [
    "df = pd.read_excel('./data/Students.xls', sheet_name=0)\n",
    "df\n",
    "df.corr()"
   ]
>>>>>>> Completed
  },
  {
   "cell_type": "markdown",
   "metadata": {},
   "source": [
    "# Groupby: divide data into groups\n",
    "```\n",
    "df = pd.read_csv('./data/Salaries.csv')\n",
    "df.info()\n",
    "df.groupby('JobTitle')\n",
    "df.groupby('Year')\n",
    "group_by_year = df.groupby('Year')\n",
    "group_by_year.groups\n",
    "group_by_year.get_group(2011)\n",
    "```"
   ]
  },
  {
   "cell_type": "code",
   "execution_count": 57,
   "metadata": {},
<<<<<<< HEAD
   "outputs": [],
   "source": []
=======
   "outputs": [
    {
     "name": "stdout",
     "output_type": "stream",
     "text": [
      "<class 'pandas.core.frame.DataFrame'>\n",
      "RangeIndex: 148654 entries, 0 to 148653\n",
      "Data columns (total 13 columns):\n",
      " #   Column            Non-Null Count   Dtype  \n",
      "---  ------            --------------   -----  \n",
      " 0   Id                148654 non-null  int64  \n",
      " 1   EmployeeName      148654 non-null  object \n",
      " 2   JobTitle          148654 non-null  object \n",
      " 3   BasePay           148045 non-null  float64\n",
      " 4   OvertimePay       148650 non-null  float64\n",
      " 5   OtherPay          148650 non-null  float64\n",
      " 6   Benefits          112491 non-null  float64\n",
      " 7   TotalPay          148654 non-null  float64\n",
      " 8   TotalPayBenefits  148654 non-null  float64\n",
      " 9   Year              148654 non-null  int64  \n",
      " 10  Notes             0 non-null       float64\n",
      " 11  Agency            148654 non-null  object \n",
      " 12  Status            0 non-null       float64\n",
      "dtypes: float64(8), int64(2), object(3)\n",
      "memory usage: 14.7+ MB\n"
     ]
    },
    {
     "data": {
      "text/html": [
       "<div>\n",
       "<style scoped>\n",
       "    .dataframe tbody tr th:only-of-type {\n",
       "        vertical-align: middle;\n",
       "    }\n",
       "\n",
       "    .dataframe tbody tr th {\n",
       "        vertical-align: top;\n",
       "    }\n",
       "\n",
       "    .dataframe thead th {\n",
       "        text-align: right;\n",
       "    }\n",
       "</style>\n",
       "<table border=\"1\" class=\"dataframe\">\n",
       "  <thead>\n",
       "    <tr style=\"text-align: right;\">\n",
       "      <th></th>\n",
       "      <th>Id</th>\n",
       "      <th>EmployeeName</th>\n",
       "      <th>JobTitle</th>\n",
       "      <th>BasePay</th>\n",
       "      <th>OvertimePay</th>\n",
       "      <th>OtherPay</th>\n",
       "      <th>Benefits</th>\n",
       "      <th>TotalPay</th>\n",
       "      <th>TotalPayBenefits</th>\n",
       "      <th>Year</th>\n",
       "      <th>Notes</th>\n",
       "      <th>Agency</th>\n",
       "      <th>Status</th>\n",
       "    </tr>\n",
       "  </thead>\n",
       "  <tbody>\n",
       "    <tr>\n",
       "      <th>0</th>\n",
       "      <td>1</td>\n",
       "      <td>NATHANIEL FORD</td>\n",
       "      <td>GENERAL MANAGER-METROPOLITAN TRANSIT AUTHORITY</td>\n",
       "      <td>167411.18</td>\n",
       "      <td>0.00</td>\n",
       "      <td>400184.25</td>\n",
       "      <td>NaN</td>\n",
       "      <td>567595.43</td>\n",
       "      <td>567595.43</td>\n",
       "      <td>2011</td>\n",
       "      <td>NaN</td>\n",
       "      <td>San Francisco</td>\n",
       "      <td>NaN</td>\n",
       "    </tr>\n",
       "    <tr>\n",
       "      <th>1</th>\n",
       "      <td>2</td>\n",
       "      <td>GARY JIMENEZ</td>\n",
       "      <td>CAPTAIN III (POLICE DEPARTMENT)</td>\n",
       "      <td>155966.02</td>\n",
       "      <td>245131.88</td>\n",
       "      <td>137811.38</td>\n",
       "      <td>NaN</td>\n",
       "      <td>538909.28</td>\n",
       "      <td>538909.28</td>\n",
       "      <td>2011</td>\n",
       "      <td>NaN</td>\n",
       "      <td>San Francisco</td>\n",
       "      <td>NaN</td>\n",
       "    </tr>\n",
       "    <tr>\n",
       "      <th>2</th>\n",
       "      <td>3</td>\n",
       "      <td>ALBERT PARDINI</td>\n",
       "      <td>CAPTAIN III (POLICE DEPARTMENT)</td>\n",
       "      <td>212739.13</td>\n",
       "      <td>106088.18</td>\n",
       "      <td>16452.60</td>\n",
       "      <td>NaN</td>\n",
       "      <td>335279.91</td>\n",
       "      <td>335279.91</td>\n",
       "      <td>2011</td>\n",
       "      <td>NaN</td>\n",
       "      <td>San Francisco</td>\n",
       "      <td>NaN</td>\n",
       "    </tr>\n",
       "    <tr>\n",
       "      <th>3</th>\n",
       "      <td>4</td>\n",
       "      <td>CHRISTOPHER CHONG</td>\n",
       "      <td>WIRE ROPE CABLE MAINTENANCE MECHANIC</td>\n",
       "      <td>77916.00</td>\n",
       "      <td>56120.71</td>\n",
       "      <td>198306.90</td>\n",
       "      <td>NaN</td>\n",
       "      <td>332343.61</td>\n",
       "      <td>332343.61</td>\n",
       "      <td>2011</td>\n",
       "      <td>NaN</td>\n",
       "      <td>San Francisco</td>\n",
       "      <td>NaN</td>\n",
       "    </tr>\n",
       "    <tr>\n",
       "      <th>4</th>\n",
       "      <td>5</td>\n",
       "      <td>PATRICK GARDNER</td>\n",
       "      <td>DEPUTY CHIEF OF DEPARTMENT,(FIRE DEPARTMENT)</td>\n",
       "      <td>134401.60</td>\n",
       "      <td>9737.00</td>\n",
       "      <td>182234.59</td>\n",
       "      <td>NaN</td>\n",
       "      <td>326373.19</td>\n",
       "      <td>326373.19</td>\n",
       "      <td>2011</td>\n",
       "      <td>NaN</td>\n",
       "      <td>San Francisco</td>\n",
       "      <td>NaN</td>\n",
       "    </tr>\n",
       "    <tr>\n",
       "      <th>...</th>\n",
       "      <td>...</td>\n",
       "      <td>...</td>\n",
       "      <td>...</td>\n",
       "      <td>...</td>\n",
       "      <td>...</td>\n",
       "      <td>...</td>\n",
       "      <td>...</td>\n",
       "      <td>...</td>\n",
       "      <td>...</td>\n",
       "      <td>...</td>\n",
       "      <td>...</td>\n",
       "      <td>...</td>\n",
       "      <td>...</td>\n",
       "    </tr>\n",
       "    <tr>\n",
       "      <th>36154</th>\n",
       "      <td>36155</td>\n",
       "      <td>SERENA HUGHES</td>\n",
       "      <td>SWIMMING INSTRUCTOR/POOL LIFEGUARD</td>\n",
       "      <td>0.00</td>\n",
       "      <td>0.00</td>\n",
       "      <td>4.17</td>\n",
       "      <td>NaN</td>\n",
       "      <td>4.17</td>\n",
       "      <td>4.17</td>\n",
       "      <td>2011</td>\n",
       "      <td>NaN</td>\n",
       "      <td>San Francisco</td>\n",
       "      <td>NaN</td>\n",
       "    </tr>\n",
       "    <tr>\n",
       "      <th>36155</th>\n",
       "      <td>36156</td>\n",
       "      <td>JOE BROWN JR</td>\n",
       "      <td>TRANSIT OPERATOR</td>\n",
       "      <td>0.00</td>\n",
       "      <td>0.00</td>\n",
       "      <td>0.30</td>\n",
       "      <td>NaN</td>\n",
       "      <td>0.30</td>\n",
       "      <td>0.30</td>\n",
       "      <td>2011</td>\n",
       "      <td>NaN</td>\n",
       "      <td>San Francisco</td>\n",
       "      <td>NaN</td>\n",
       "    </tr>\n",
       "    <tr>\n",
       "      <th>36156</th>\n",
       "      <td>36157</td>\n",
       "      <td>PAULETTE ADAMS</td>\n",
       "      <td>STATIONARY ENGINEER, WATER TREATMENT PLANT</td>\n",
       "      <td>0.00</td>\n",
       "      <td>0.00</td>\n",
       "      <td>0.00</td>\n",
       "      <td>NaN</td>\n",
       "      <td>0.00</td>\n",
       "      <td>0.00</td>\n",
       "      <td>2011</td>\n",
       "      <td>NaN</td>\n",
       "      <td>San Francisco</td>\n",
       "      <td>NaN</td>\n",
       "    </tr>\n",
       "    <tr>\n",
       "      <th>36157</th>\n",
       "      <td>36158</td>\n",
       "      <td>KAUKAB MOHSIN</td>\n",
       "      <td>TRANSIT OPERATOR</td>\n",
       "      <td>0.00</td>\n",
       "      <td>0.00</td>\n",
       "      <td>0.00</td>\n",
       "      <td>NaN</td>\n",
       "      <td>0.00</td>\n",
       "      <td>0.00</td>\n",
       "      <td>2011</td>\n",
       "      <td>NaN</td>\n",
       "      <td>San Francisco</td>\n",
       "      <td>NaN</td>\n",
       "    </tr>\n",
       "    <tr>\n",
       "      <th>36158</th>\n",
       "      <td>36159</td>\n",
       "      <td>JOSEPHINE MCCREARY</td>\n",
       "      <td>MANAGER IV</td>\n",
       "      <td>0.00</td>\n",
       "      <td>0.00</td>\n",
       "      <td>0.00</td>\n",
       "      <td>NaN</td>\n",
       "      <td>0.00</td>\n",
       "      <td>0.00</td>\n",
       "      <td>2011</td>\n",
       "      <td>NaN</td>\n",
       "      <td>San Francisco</td>\n",
       "      <td>NaN</td>\n",
       "    </tr>\n",
       "  </tbody>\n",
       "</table>\n",
       "<p>36159 rows × 13 columns</p>\n",
       "</div>"
      ],
      "text/plain": [
       "          Id        EmployeeName  \\\n",
       "0          1      NATHANIEL FORD   \n",
       "1          2        GARY JIMENEZ   \n",
       "2          3      ALBERT PARDINI   \n",
       "3          4   CHRISTOPHER CHONG   \n",
       "4          5     PATRICK GARDNER   \n",
       "...      ...                 ...   \n",
       "36154  36155       SERENA HUGHES   \n",
       "36155  36156        JOE BROWN JR   \n",
       "36156  36157      PAULETTE ADAMS   \n",
       "36157  36158       KAUKAB MOHSIN   \n",
       "36158  36159  JOSEPHINE MCCREARY   \n",
       "\n",
       "                                             JobTitle    BasePay  OvertimePay  \\\n",
       "0      GENERAL MANAGER-METROPOLITAN TRANSIT AUTHORITY  167411.18         0.00   \n",
       "1                     CAPTAIN III (POLICE DEPARTMENT)  155966.02    245131.88   \n",
       "2                     CAPTAIN III (POLICE DEPARTMENT)  212739.13    106088.18   \n",
       "3                WIRE ROPE CABLE MAINTENANCE MECHANIC   77916.00     56120.71   \n",
       "4        DEPUTY CHIEF OF DEPARTMENT,(FIRE DEPARTMENT)  134401.60      9737.00   \n",
       "...                                               ...        ...          ...   \n",
       "36154              SWIMMING INSTRUCTOR/POOL LIFEGUARD       0.00         0.00   \n",
       "36155                                TRANSIT OPERATOR       0.00         0.00   \n",
       "36156      STATIONARY ENGINEER, WATER TREATMENT PLANT       0.00         0.00   \n",
       "36157                                TRANSIT OPERATOR       0.00         0.00   \n",
       "36158                                      MANAGER IV       0.00         0.00   \n",
       "\n",
       "        OtherPay  Benefits   TotalPay  TotalPayBenefits  Year  Notes  \\\n",
       "0      400184.25       NaN  567595.43         567595.43  2011    NaN   \n",
       "1      137811.38       NaN  538909.28         538909.28  2011    NaN   \n",
       "2       16452.60       NaN  335279.91         335279.91  2011    NaN   \n",
       "3      198306.90       NaN  332343.61         332343.61  2011    NaN   \n",
       "4      182234.59       NaN  326373.19         326373.19  2011    NaN   \n",
       "...          ...       ...        ...               ...   ...    ...   \n",
       "36154       4.17       NaN       4.17              4.17  2011    NaN   \n",
       "36155       0.30       NaN       0.30              0.30  2011    NaN   \n",
       "36156       0.00       NaN       0.00              0.00  2011    NaN   \n",
       "36157       0.00       NaN       0.00              0.00  2011    NaN   \n",
       "36158       0.00       NaN       0.00              0.00  2011    NaN   \n",
       "\n",
       "              Agency  Status  \n",
       "0      San Francisco     NaN  \n",
       "1      San Francisco     NaN  \n",
       "2      San Francisco     NaN  \n",
       "3      San Francisco     NaN  \n",
       "4      San Francisco     NaN  \n",
       "...              ...     ...  \n",
       "36154  San Francisco     NaN  \n",
       "36155  San Francisco     NaN  \n",
       "36156  San Francisco     NaN  \n",
       "36157  San Francisco     NaN  \n",
       "36158  San Francisco     NaN  \n",
       "\n",
       "[36159 rows x 13 columns]"
      ]
     },
     "execution_count": 57,
     "metadata": {},
     "output_type": "execute_result"
    }
   ],
   "source": [
    "df = pd.read_csv('./data/Salaries.csv')\n",
    "df.info()\n",
    "df.groupby('JobTitle')\n",
    "df.groupby('Year')\n",
    "group_by_year = df.groupby('Year')\n",
    "group_by_year.groups\n",
    "group_by_year.get_group(2011)"
   ]
>>>>>>> Completed
  },
  {
   "cell_type": "code",
   "execution_count": null,
   "metadata": {},
   "outputs": [],
   "source": []
  },
  {
   "cell_type": "code",
   "execution_count": null,
   "metadata": {},
   "outputs": [],
   "source": []
  },
  {
   "cell_type": "code",
   "execution_count": null,
   "metadata": {},
   "outputs": [],
   "source": []
  },
  {
   "cell_type": "markdown",
   "metadata": {},
   "source": [
    "# Group Aggregated Data\n",
    "An aggregated function returns a single aggregated value for each group.\n",
    "\n",
    "Example:\n",
    "```\n",
    "group_by_year.agg(np.mean)\n",
    "group_by_year.agg(np.max)\n",
    "group_by_year.agg(np.min)\n",
    "group_by_year.agg([np.sum, np.mean, np.std])\n",
    "```"
   ]
  },
  {
   "cell_type": "code",
   "execution_count": 58,
   "metadata": {},
   "outputs": [
    {
     "data": {
      "text/html": [
       "<div>\n",
       "<style scoped>\n",
       "    .dataframe tbody tr th:only-of-type {\n",
       "        vertical-align: middle;\n",
       "    }\n",
       "\n",
       "    .dataframe tbody tr th {\n",
       "        vertical-align: top;\n",
       "    }\n",
       "\n",
       "    .dataframe thead tr th {\n",
       "        text-align: left;\n",
       "    }\n",
       "\n",
       "    .dataframe thead tr:last-of-type th {\n",
       "        text-align: right;\n",
       "    }\n",
       "</style>\n",
       "<table border=\"1\" class=\"dataframe\">\n",
       "  <thead>\n",
       "    <tr>\n",
       "      <th></th>\n",
       "      <th colspan=\"3\" halign=\"left\">Id</th>\n",
       "      <th colspan=\"3\" halign=\"left\">BasePay</th>\n",
       "      <th colspan=\"3\" halign=\"left\">OvertimePay</th>\n",
       "      <th>OtherPay</th>\n",
       "      <th>...</th>\n",
       "      <th>TotalPay</th>\n",
       "      <th colspan=\"3\" halign=\"left\">TotalPayBenefits</th>\n",
       "      <th colspan=\"3\" halign=\"left\">Notes</th>\n",
       "      <th colspan=\"3\" halign=\"left\">Status</th>\n",
       "    </tr>\n",
       "    <tr>\n",
       "      <th></th>\n",
       "      <th>sum</th>\n",
       "      <th>mean</th>\n",
       "      <th>std</th>\n",
       "      <th>sum</th>\n",
       "      <th>mean</th>\n",
       "      <th>std</th>\n",
       "      <th>sum</th>\n",
       "      <th>mean</th>\n",
       "      <th>std</th>\n",
       "      <th>sum</th>\n",
       "      <th>...</th>\n",
       "      <th>std</th>\n",
       "      <th>sum</th>\n",
       "      <th>mean</th>\n",
       "      <th>std</th>\n",
       "      <th>sum</th>\n",
       "      <th>mean</th>\n",
       "      <th>std</th>\n",
       "      <th>sum</th>\n",
       "      <th>mean</th>\n",
       "      <th>std</th>\n",
       "    </tr>\n",
       "    <tr>\n",
       "      <th>Year</th>\n",
       "      <th></th>\n",
       "      <th></th>\n",
       "      <th></th>\n",
       "      <th></th>\n",
       "      <th></th>\n",
       "      <th></th>\n",
       "      <th></th>\n",
       "      <th></th>\n",
       "      <th></th>\n",
       "      <th></th>\n",
       "      <th></th>\n",
       "      <th></th>\n",
       "      <th></th>\n",
       "      <th></th>\n",
       "      <th></th>\n",
       "      <th></th>\n",
       "      <th></th>\n",
       "      <th></th>\n",
       "      <th></th>\n",
       "      <th></th>\n",
       "      <th></th>\n",
       "    </tr>\n",
       "  </thead>\n",
       "  <tbody>\n",
       "    <tr>\n",
       "      <th>2011</th>\n",
       "      <td>653754720</td>\n",
       "      <td>18080.0</td>\n",
       "      <td>10438.348528</td>\n",
       "      <td>2.299566e+09</td>\n",
       "      <td>63595.956517</td>\n",
       "      <td>40556.774993</td>\n",
       "      <td>1.638388e+08</td>\n",
       "      <td>4531.065429</td>\n",
       "      <td>10501.367793</td>\n",
       "      <td>1.307901e+08</td>\n",
       "      <td>...</td>\n",
       "      <td>47498.706594</td>\n",
       "      <td>2.594195e+09</td>\n",
       "      <td>71744.103871</td>\n",
       "      <td>47498.706594</td>\n",
       "      <td>0.0</td>\n",
       "      <td>NaN</td>\n",
       "      <td>NaN</td>\n",
       "      <td>0.0</td>\n",
       "      <td>NaN</td>\n",
       "      <td>NaN</td>\n",
       "    </tr>\n",
       "    <tr>\n",
       "      <th>2012</th>\n",
       "      <td>2005309555</td>\n",
       "      <td>54542.5</td>\n",
       "      <td>10613.574335</td>\n",
       "      <td>2.405835e+09</td>\n",
       "      <td>65436.406857</td>\n",
       "      <td>41782.209797</td>\n",
       "      <td>1.846910e+08</td>\n",
       "      <td>5023.417824</td>\n",
       "      <td>11431.885357</td>\n",
       "      <td>1.343223e+08</td>\n",
       "      <td>...</td>\n",
       "      <td>49523.904319</td>\n",
       "      <td>3.696940e+09</td>\n",
       "      <td>100553.229232</td>\n",
       "      <td>63555.796681</td>\n",
       "      <td>0.0</td>\n",
       "      <td>NaN</td>\n",
       "      <td>NaN</td>\n",
       "      <td>0.0</td>\n",
       "      <td>NaN</td>\n",
       "      <td>NaN</td>\n",
       "    </tr>\n",
       "    <tr>\n",
       "      <th>2013</th>\n",
       "      <td>3449541971</td>\n",
       "      <td>91728.5</td>\n",
       "      <td>10856.061448</td>\n",
       "      <td>2.576381e+09</td>\n",
       "      <td>69630.030216</td>\n",
       "      <td>44237.113207</td>\n",
       "      <td>1.986214e+08</td>\n",
       "      <td>5281.641980</td>\n",
       "      <td>11998.995040</td>\n",
       "      <td>1.436538e+08</td>\n",
       "      <td>...</td>\n",
       "      <td>52854.774783</td>\n",
       "      <td>3.814772e+09</td>\n",
       "      <td>101440.519714</td>\n",
       "      <td>66390.034642</td>\n",
       "      <td>0.0</td>\n",
       "      <td>NaN</td>\n",
       "      <td>NaN</td>\n",
       "      <td>0.0</td>\n",
       "      <td>NaN</td>\n",
       "      <td>NaN</td>\n",
       "    </tr>\n",
       "    <tr>\n",
       "      <th>2014</th>\n",
       "      <td>4940473939</td>\n",
       "      <td>129593.0</td>\n",
       "      <td>11005.306493</td>\n",
       "      <td>2.537369e+09</td>\n",
       "      <td>66564.421924</td>\n",
       "      <td>44053.783972</td>\n",
       "      <td>2.059186e+08</td>\n",
       "      <td>5401.993737</td>\n",
       "      <td>11769.656257</td>\n",
       "      <td>1.336232e+08</td>\n",
       "      <td>...</td>\n",
       "      <td>51697.713029</td>\n",
       "      <td>3.821866e+09</td>\n",
       "      <td>100250.918884</td>\n",
       "      <td>66238.852887</td>\n",
       "      <td>0.0</td>\n",
       "      <td>NaN</td>\n",
       "      <td>NaN</td>\n",
       "      <td>0.0</td>\n",
       "      <td>NaN</td>\n",
       "      <td>NaN</td>\n",
       "    </tr>\n",
       "  </tbody>\n",
       "</table>\n",
       "<p>4 rows × 27 columns</p>\n",
       "</div>"
      ],
      "text/plain": [
       "              Id                               BasePay                \\\n",
       "             sum      mean           std           sum          mean   \n",
       "Year                                                                   \n",
       "2011   653754720   18080.0  10438.348528  2.299566e+09  63595.956517   \n",
       "2012  2005309555   54542.5  10613.574335  2.405835e+09  65436.406857   \n",
       "2013  3449541971   91728.5  10856.061448  2.576381e+09  69630.030216   \n",
       "2014  4940473939  129593.0  11005.306493  2.537369e+09  66564.421924   \n",
       "\n",
       "                     OvertimePay                                 OtherPay  \\\n",
       "               std           sum         mean           std           sum   \n",
       "Year                                                                        \n",
       "2011  40556.774993  1.638388e+08  4531.065429  10501.367793  1.307901e+08   \n",
       "2012  41782.209797  1.846910e+08  5023.417824  11431.885357  1.343223e+08   \n",
       "2013  44237.113207  1.986214e+08  5281.641980  11998.995040  1.436538e+08   \n",
       "2014  44053.783972  2.059186e+08  5401.993737  11769.656257  1.336232e+08   \n",
       "\n",
       "      ...      TotalPay TotalPayBenefits                              Notes  \\\n",
       "      ...           std              sum           mean           std   sum   \n",
       "Year  ...                                                                     \n",
       "2011  ...  47498.706594     2.594195e+09   71744.103871  47498.706594   0.0   \n",
       "2012  ...  49523.904319     3.696940e+09  100553.229232  63555.796681   0.0   \n",
       "2013  ...  52854.774783     3.814772e+09  101440.519714  66390.034642   0.0   \n",
       "2014  ...  51697.713029     3.821866e+09  100250.918884  66238.852887   0.0   \n",
       "\n",
       "              Status           \n",
       "     mean std    sum mean std  \n",
       "Year                           \n",
       "2011  NaN NaN    0.0  NaN NaN  \n",
       "2012  NaN NaN    0.0  NaN NaN  \n",
       "2013  NaN NaN    0.0  NaN NaN  \n",
       "2014  NaN NaN    0.0  NaN NaN  \n",
       "\n",
       "[4 rows x 27 columns]"
      ]
     },
     "execution_count": 58,
     "metadata": {},
     "output_type": "execute_result"
    }
   ],
   "source": [
    "group_by_year.agg(np.mean)\n",
    "group_by_year.agg(np.max)\n",
    "group_by_year.agg(np.min)\n",
    "group_by_year.agg([np.sum, np.mean, np.std])"
   ]
  },
  {
   "cell_type": "code",
   "execution_count": null,
   "metadata": {},
   "outputs": [],
   "source": []
  },
  {
   "cell_type": "code",
   "execution_count": null,
   "metadata": {},
   "outputs": [],
   "source": []
  },
  {
   "cell_type": "code",
   "execution_count": null,
   "metadata": {},
   "outputs": [],
   "source": []
  },
  {
   "cell_type": "markdown",
   "metadata": {},
   "source": [
    "# Group by with multiple columns\n",
    "\n",
    "Example:\n",
    "```\n",
    "df.groupby(['JobTitle', 'Year'])\n",
    "df.groupby(['JobTitle', 'Year']).groups\n",
    "df.groupby(['JobTitle', 'Year']).agg(np.mean)\n",
    "```\n",
    "\n"
   ]
  },
  {
   "cell_type": "code",
   "execution_count": 59,
   "metadata": {},
<<<<<<< HEAD
   "outputs": [],
   "source": []
=======
   "outputs": [
    {
     "data": {
      "text/html": [
       "<div>\n",
       "<style scoped>\n",
       "    .dataframe tbody tr th:only-of-type {\n",
       "        vertical-align: middle;\n",
       "    }\n",
       "\n",
       "    .dataframe tbody tr th {\n",
       "        vertical-align: top;\n",
       "    }\n",
       "\n",
       "    .dataframe thead th {\n",
       "        text-align: right;\n",
       "    }\n",
       "</style>\n",
       "<table border=\"1\" class=\"dataframe\">\n",
       "  <thead>\n",
       "    <tr style=\"text-align: right;\">\n",
       "      <th></th>\n",
       "      <th></th>\n",
       "      <th>Id</th>\n",
       "      <th>BasePay</th>\n",
       "      <th>OvertimePay</th>\n",
       "      <th>OtherPay</th>\n",
       "      <th>Benefits</th>\n",
       "      <th>TotalPay</th>\n",
       "      <th>TotalPayBenefits</th>\n",
       "      <th>Notes</th>\n",
       "      <th>Status</th>\n",
       "    </tr>\n",
       "    <tr>\n",
       "      <th>JobTitle</th>\n",
       "      <th>Year</th>\n",
       "      <th></th>\n",
       "      <th></th>\n",
       "      <th></th>\n",
       "      <th></th>\n",
       "      <th></th>\n",
       "      <th></th>\n",
       "      <th></th>\n",
       "      <th></th>\n",
       "      <th></th>\n",
       "    </tr>\n",
       "  </thead>\n",
       "  <tbody>\n",
       "    <tr>\n",
       "      <th>ACCOUNT CLERK</th>\n",
       "      <th>2011</th>\n",
       "      <td>25734.819277</td>\n",
       "      <td>43300.806506</td>\n",
       "      <td>373.200843</td>\n",
       "      <td>361.656988</td>\n",
       "      <td>NaN</td>\n",
       "      <td>44035.664337</td>\n",
       "      <td>44035.664337</td>\n",
       "      <td>NaN</td>\n",
       "      <td>NaN</td>\n",
       "    </tr>\n",
       "    <tr>\n",
       "      <th>ACCOUNTANT</th>\n",
       "      <th>2011</th>\n",
       "      <td>24159.200000</td>\n",
       "      <td>46643.172000</td>\n",
       "      <td>0.000000</td>\n",
       "      <td>786.096000</td>\n",
       "      <td>NaN</td>\n",
       "      <td>47429.268000</td>\n",
       "      <td>47429.268000</td>\n",
       "      <td>NaN</td>\n",
       "      <td>NaN</td>\n",
       "    </tr>\n",
       "    <tr>\n",
       "      <th>ACCOUNTANT INTERN</th>\n",
       "      <th>2011</th>\n",
       "      <td>28128.833333</td>\n",
       "      <td>28732.663958</td>\n",
       "      <td>24.430625</td>\n",
       "      <td>274.648333</td>\n",
       "      <td>NaN</td>\n",
       "      <td>29031.742917</td>\n",
       "      <td>29031.742917</td>\n",
       "      <td>NaN</td>\n",
       "      <td>NaN</td>\n",
       "    </tr>\n",
       "    <tr>\n",
       "      <th>ACPO,JuvP, Juv Prob (SFERS)</th>\n",
       "      <th>2014</th>\n",
       "      <td>135284.000000</td>\n",
       "      <td>62290.780000</td>\n",
       "      <td>0.000000</td>\n",
       "      <td>0.000000</td>\n",
       "      <td>17975.590</td>\n",
       "      <td>62290.780000</td>\n",
       "      <td>80266.370000</td>\n",
       "      <td>NaN</td>\n",
       "      <td>NaN</td>\n",
       "    </tr>\n",
       "    <tr>\n",
       "      <th>ACUPUNCTURIST</th>\n",
       "      <th>2011</th>\n",
       "      <td>18379.000000</td>\n",
       "      <td>66374.400000</td>\n",
       "      <td>0.000000</td>\n",
       "      <td>1220.000000</td>\n",
       "      <td>NaN</td>\n",
       "      <td>67594.400000</td>\n",
       "      <td>67594.400000</td>\n",
       "      <td>NaN</td>\n",
       "      <td>NaN</td>\n",
       "    </tr>\n",
       "    <tr>\n",
       "      <th>...</th>\n",
       "      <th>...</th>\n",
       "      <td>...</td>\n",
       "      <td>...</td>\n",
       "      <td>...</td>\n",
       "      <td>...</td>\n",
       "      <td>...</td>\n",
       "      <td>...</td>\n",
       "      <td>...</td>\n",
       "      <td>...</td>\n",
       "      <td>...</td>\n",
       "    </tr>\n",
       "    <tr>\n",
       "      <th>YOUTH COMMISSION ADVISOR, BOARD OF SUPERVISORS</th>\n",
       "      <th>2011</th>\n",
       "      <td>23392.000000</td>\n",
       "      <td>52609.910000</td>\n",
       "      <td>0.000000</td>\n",
       "      <td>1022.960000</td>\n",
       "      <td>NaN</td>\n",
       "      <td>53632.870000</td>\n",
       "      <td>53632.870000</td>\n",
       "      <td>NaN</td>\n",
       "      <td>NaN</td>\n",
       "    </tr>\n",
       "    <tr>\n",
       "      <th rowspan=\"3\" valign=\"top\">Youth Comm Advisor</th>\n",
       "      <th>2012</th>\n",
       "      <td>58843.000000</td>\n",
       "      <td>57544.730000</td>\n",
       "      <td>0.000000</td>\n",
       "      <td>0.000000</td>\n",
       "      <td>28229.660</td>\n",
       "      <td>57544.730000</td>\n",
       "      <td>85774.390000</td>\n",
       "      <td>NaN</td>\n",
       "      <td>NaN</td>\n",
       "    </tr>\n",
       "    <tr>\n",
       "      <th>2013</th>\n",
       "      <td>100704.500000</td>\n",
       "      <td>33174.840000</td>\n",
       "      <td>0.000000</td>\n",
       "      <td>2648.455000</td>\n",
       "      <td>15521.015</td>\n",
       "      <td>35823.295000</td>\n",
       "      <td>51344.310000</td>\n",
       "      <td>NaN</td>\n",
       "      <td>NaN</td>\n",
       "    </tr>\n",
       "    <tr>\n",
       "      <th>2014</th>\n",
       "      <td>138459.000000</td>\n",
       "      <td>32417.420000</td>\n",
       "      <td>0.000000</td>\n",
       "      <td>4048.490000</td>\n",
       "      <td>15545.280</td>\n",
       "      <td>36465.910000</td>\n",
       "      <td>52011.190000</td>\n",
       "      <td>NaN</td>\n",
       "      <td>NaN</td>\n",
       "    </tr>\n",
       "    <tr>\n",
       "      <th>ZOO CURATOR</th>\n",
       "      <th>2011</th>\n",
       "      <td>18779.000000</td>\n",
       "      <td>43148.000000</td>\n",
       "      <td>0.000000</td>\n",
       "      <td>23538.560000</td>\n",
       "      <td>NaN</td>\n",
       "      <td>66686.560000</td>\n",
       "      <td>66686.560000</td>\n",
       "      <td>NaN</td>\n",
       "      <td>NaN</td>\n",
       "    </tr>\n",
       "  </tbody>\n",
       "</table>\n",
       "<p>4137 rows × 9 columns</p>\n",
       "</div>"
      ],
      "text/plain": [
       "                                                                Id  \\\n",
       "JobTitle                                       Year                  \n",
       "ACCOUNT CLERK                                  2011   25734.819277   \n",
       "ACCOUNTANT                                     2011   24159.200000   \n",
       "ACCOUNTANT INTERN                              2011   28128.833333   \n",
       "ACPO,JuvP, Juv Prob (SFERS)                    2014  135284.000000   \n",
       "ACUPUNCTURIST                                  2011   18379.000000   \n",
       "...                                                            ...   \n",
       "YOUTH COMMISSION ADVISOR, BOARD OF SUPERVISORS 2011   23392.000000   \n",
       "Youth Comm Advisor                             2012   58843.000000   \n",
       "                                               2013  100704.500000   \n",
       "                                               2014  138459.000000   \n",
       "ZOO CURATOR                                    2011   18779.000000   \n",
       "\n",
       "                                                          BasePay  \\\n",
       "JobTitle                                       Year                 \n",
       "ACCOUNT CLERK                                  2011  43300.806506   \n",
       "ACCOUNTANT                                     2011  46643.172000   \n",
       "ACCOUNTANT INTERN                              2011  28732.663958   \n",
       "ACPO,JuvP, Juv Prob (SFERS)                    2014  62290.780000   \n",
       "ACUPUNCTURIST                                  2011  66374.400000   \n",
       "...                                                           ...   \n",
       "YOUTH COMMISSION ADVISOR, BOARD OF SUPERVISORS 2011  52609.910000   \n",
       "Youth Comm Advisor                             2012  57544.730000   \n",
       "                                               2013  33174.840000   \n",
       "                                               2014  32417.420000   \n",
       "ZOO CURATOR                                    2011  43148.000000   \n",
       "\n",
       "                                                     OvertimePay  \\\n",
       "JobTitle                                       Year                \n",
       "ACCOUNT CLERK                                  2011   373.200843   \n",
       "ACCOUNTANT                                     2011     0.000000   \n",
       "ACCOUNTANT INTERN                              2011    24.430625   \n",
       "ACPO,JuvP, Juv Prob (SFERS)                    2014     0.000000   \n",
       "ACUPUNCTURIST                                  2011     0.000000   \n",
       "...                                                          ...   \n",
       "YOUTH COMMISSION ADVISOR, BOARD OF SUPERVISORS 2011     0.000000   \n",
       "Youth Comm Advisor                             2012     0.000000   \n",
       "                                               2013     0.000000   \n",
       "                                               2014     0.000000   \n",
       "ZOO CURATOR                                    2011     0.000000   \n",
       "\n",
       "                                                         OtherPay   Benefits  \\\n",
       "JobTitle                                       Year                            \n",
       "ACCOUNT CLERK                                  2011    361.656988        NaN   \n",
       "ACCOUNTANT                                     2011    786.096000        NaN   \n",
       "ACCOUNTANT INTERN                              2011    274.648333        NaN   \n",
       "ACPO,JuvP, Juv Prob (SFERS)                    2014      0.000000  17975.590   \n",
       "ACUPUNCTURIST                                  2011   1220.000000        NaN   \n",
       "...                                                           ...        ...   \n",
       "YOUTH COMMISSION ADVISOR, BOARD OF SUPERVISORS 2011   1022.960000        NaN   \n",
       "Youth Comm Advisor                             2012      0.000000  28229.660   \n",
       "                                               2013   2648.455000  15521.015   \n",
       "                                               2014   4048.490000  15545.280   \n",
       "ZOO CURATOR                                    2011  23538.560000        NaN   \n",
       "\n",
       "                                                         TotalPay  \\\n",
       "JobTitle                                       Year                 \n",
       "ACCOUNT CLERK                                  2011  44035.664337   \n",
       "ACCOUNTANT                                     2011  47429.268000   \n",
       "ACCOUNTANT INTERN                              2011  29031.742917   \n",
       "ACPO,JuvP, Juv Prob (SFERS)                    2014  62290.780000   \n",
       "ACUPUNCTURIST                                  2011  67594.400000   \n",
       "...                                                           ...   \n",
       "YOUTH COMMISSION ADVISOR, BOARD OF SUPERVISORS 2011  53632.870000   \n",
       "Youth Comm Advisor                             2012  57544.730000   \n",
       "                                               2013  35823.295000   \n",
       "                                               2014  36465.910000   \n",
       "ZOO CURATOR                                    2011  66686.560000   \n",
       "\n",
       "                                                     TotalPayBenefits  Notes  \\\n",
       "JobTitle                                       Year                            \n",
       "ACCOUNT CLERK                                  2011      44035.664337    NaN   \n",
       "ACCOUNTANT                                     2011      47429.268000    NaN   \n",
       "ACCOUNTANT INTERN                              2011      29031.742917    NaN   \n",
       "ACPO,JuvP, Juv Prob (SFERS)                    2014      80266.370000    NaN   \n",
       "ACUPUNCTURIST                                  2011      67594.400000    NaN   \n",
       "...                                                               ...    ...   \n",
       "YOUTH COMMISSION ADVISOR, BOARD OF SUPERVISORS 2011      53632.870000    NaN   \n",
       "Youth Comm Advisor                             2012      85774.390000    NaN   \n",
       "                                               2013      51344.310000    NaN   \n",
       "                                               2014      52011.190000    NaN   \n",
       "ZOO CURATOR                                    2011      66686.560000    NaN   \n",
       "\n",
       "                                                     Status  \n",
       "JobTitle                                       Year          \n",
       "ACCOUNT CLERK                                  2011     NaN  \n",
       "ACCOUNTANT                                     2011     NaN  \n",
       "ACCOUNTANT INTERN                              2011     NaN  \n",
       "ACPO,JuvP, Juv Prob (SFERS)                    2014     NaN  \n",
       "ACUPUNCTURIST                                  2011     NaN  \n",
       "...                                                     ...  \n",
       "YOUTH COMMISSION ADVISOR, BOARD OF SUPERVISORS 2011     NaN  \n",
       "Youth Comm Advisor                             2012     NaN  \n",
       "                                               2013     NaN  \n",
       "                                               2014     NaN  \n",
       "ZOO CURATOR                                    2011     NaN  \n",
       "\n",
       "[4137 rows x 9 columns]"
      ]
     },
     "execution_count": 59,
     "metadata": {},
     "output_type": "execute_result"
    }
   ],
   "source": [
    "df.groupby(['JobTitle', 'Year'])\n",
    "df.groupby(['JobTitle', 'Year']).groups\n",
    "df.groupby(['JobTitle', 'Year']).agg(np.mean)"
   ]
>>>>>>> Completed
  },
  {
   "cell_type": "code",
   "execution_count": null,
   "metadata": {},
   "outputs": [],
   "source": []
  },
  {
   "cell_type": "code",
   "execution_count": null,
   "metadata": {},
   "outputs": [],
   "source": []
  },
  {
   "cell_type": "markdown",
   "metadata": {},
   "source": [
    "# Merging Data\n",
    "- **Concatenation**: combining together Series, DataFrame\n",
    "- **Joining**: join operations idiomatically very similar to relational databases like SQL\n",
    "\n",
    "**Concatenation**:\n",
    "```\n",
    "df1 = pd.read_excel('./data/Students.xls', sheet_name=0)\n",
    "df2 = pd.read_excel('./data/Students.xls', sheet_name=0)\n",
    "concatencate1 = pd.concat([df1, df2])\n",
    "concatencate1\n",
    "concatencate2 = pd.concat([df1, df2], axis=1)\n",
    "concatencate2\n",
    "```\n",
    "\n",
    "\n",
    "**Joining**:\n",
    "```\n",
    "left = pd.read_excel('./data/Students.xls', sheet_name=0)\n",
    "right = pd.read_excel('./data/Students.xls', sheet_name=1)\n",
    "joined = pd.merge(left, right, on='Academic year')\n",
    "joined\n",
    "```"
   ]
  },
  {
   "cell_type": "code",
   "execution_count": 60,
   "metadata": {},
   "outputs": [
    {
     "data": {
      "text/html": [
       "<div>\n",
       "<style scoped>\n",
       "    .dataframe tbody tr th:only-of-type {\n",
       "        vertical-align: middle;\n",
       "    }\n",
       "\n",
       "    .dataframe tbody tr th {\n",
       "        vertical-align: top;\n",
       "    }\n",
       "\n",
       "    .dataframe thead th {\n",
       "        text-align: right;\n",
       "    }\n",
       "</style>\n",
       "<table border=\"1\" class=\"dataframe\">\n",
       "  <thead>\n",
       "    <tr style=\"text-align: right;\">\n",
       "      <th></th>\n",
       "      <th>Academic year</th>\n",
       "      <th>Associate Degree</th>\n",
       "      <th>Higher Diploma</th>\n",
       "      <th>Sub-degree</th>\n",
       "      <th>First year first degree</th>\n",
       "      <th>Top-up degree</th>\n",
       "      <th>Under-graduate</th>\n",
       "      <th>Academic year</th>\n",
       "      <th>Associate Degree</th>\n",
       "      <th>Higher Diploma</th>\n",
       "      <th>Sub-degree</th>\n",
       "      <th>First year first degree</th>\n",
       "      <th>Top-up degree</th>\n",
       "      <th>Under-graduate</th>\n",
       "    </tr>\n",
       "  </thead>\n",
       "  <tbody>\n",
       "    <tr>\n",
       "      <th>0</th>\n",
       "      <td>2007/08</td>\n",
       "      <td>12029</td>\n",
       "      <td>9882</td>\n",
       "      <td>21911</td>\n",
       "      <td>2468</td>\n",
       "      <td>1731</td>\n",
       "      <td>4199</td>\n",
       "      <td>2007/08</td>\n",
       "      <td>12029</td>\n",
       "      <td>9882</td>\n",
       "      <td>21911</td>\n",
       "      <td>2468</td>\n",
       "      <td>1731</td>\n",
       "      <td>4199</td>\n",
       "    </tr>\n",
       "    <tr>\n",
       "      <th>1</th>\n",
       "      <td>2008/09</td>\n",
       "      <td>11238</td>\n",
       "      <td>9405</td>\n",
       "      <td>20643</td>\n",
       "      <td>3004</td>\n",
       "      <td>2095</td>\n",
       "      <td>5099</td>\n",
       "      <td>2008/09</td>\n",
       "      <td>11238</td>\n",
       "      <td>9405</td>\n",
       "      <td>20643</td>\n",
       "      <td>3004</td>\n",
       "      <td>2095</td>\n",
       "      <td>5099</td>\n",
       "    </tr>\n",
       "    <tr>\n",
       "      <th>2</th>\n",
       "      <td>2009/10</td>\n",
       "      <td>14177</td>\n",
       "      <td>10186</td>\n",
       "      <td>24363</td>\n",
       "      <td>2782</td>\n",
       "      <td>2680</td>\n",
       "      <td>5462</td>\n",
       "      <td>2009/10</td>\n",
       "      <td>14177</td>\n",
       "      <td>10186</td>\n",
       "      <td>24363</td>\n",
       "      <td>2782</td>\n",
       "      <td>2680</td>\n",
       "      <td>5462</td>\n",
       "    </tr>\n",
       "    <tr>\n",
       "      <th>3</th>\n",
       "      <td>2010/11</td>\n",
       "      <td>17646</td>\n",
       "      <td>10715</td>\n",
       "      <td>28361</td>\n",
       "      <td>3193</td>\n",
       "      <td>3334</td>\n",
       "      <td>6527</td>\n",
       "      <td>2010/11</td>\n",
       "      <td>17646</td>\n",
       "      <td>10715</td>\n",
       "      <td>28361</td>\n",
       "      <td>3193</td>\n",
       "      <td>3334</td>\n",
       "      <td>6527</td>\n",
       "    </tr>\n",
       "    <tr>\n",
       "      <th>4</th>\n",
       "      <td>2011/12</td>\n",
       "      <td>16018</td>\n",
       "      <td>9331</td>\n",
       "      <td>25349</td>\n",
       "      <td>3640</td>\n",
       "      <td>4081</td>\n",
       "      <td>7721</td>\n",
       "      <td>2011/12</td>\n",
       "      <td>16018</td>\n",
       "      <td>9331</td>\n",
       "      <td>25349</td>\n",
       "      <td>3640</td>\n",
       "      <td>4081</td>\n",
       "      <td>7721</td>\n",
       "    </tr>\n",
       "    <tr>\n",
       "      <th>5</th>\n",
       "      <td>2012/13</td>\n",
       "      <td>18131</td>\n",
       "      <td>13486</td>\n",
       "      <td>31617</td>\n",
       "      <td>6796</td>\n",
       "      <td>6082</td>\n",
       "      <td>12878</td>\n",
       "      <td>2012/13</td>\n",
       "      <td>18131</td>\n",
       "      <td>13486</td>\n",
       "      <td>31617</td>\n",
       "      <td>6796</td>\n",
       "      <td>6082</td>\n",
       "      <td>12878</td>\n",
       "    </tr>\n",
       "    <tr>\n",
       "      <th>6</th>\n",
       "      <td>2013/14</td>\n",
       "      <td>11715</td>\n",
       "      <td>9751</td>\n",
       "      <td>21466</td>\n",
       "      <td>6128</td>\n",
       "      <td>7349</td>\n",
       "      <td>13477</td>\n",
       "      <td>2013/14</td>\n",
       "      <td>11715</td>\n",
       "      <td>9751</td>\n",
       "      <td>21466</td>\n",
       "      <td>6128</td>\n",
       "      <td>7349</td>\n",
       "      <td>13477</td>\n",
       "    </tr>\n",
       "    <tr>\n",
       "      <th>7</th>\n",
       "      <td>2014/15</td>\n",
       "      <td>10275</td>\n",
       "      <td>9483</td>\n",
       "      <td>19758</td>\n",
       "      <td>7194</td>\n",
       "      <td>10488</td>\n",
       "      <td>17682</td>\n",
       "      <td>2014/15</td>\n",
       "      <td>10275</td>\n",
       "      <td>9483</td>\n",
       "      <td>19758</td>\n",
       "      <td>7194</td>\n",
       "      <td>10488</td>\n",
       "      <td>17682</td>\n",
       "    </tr>\n",
       "    <tr>\n",
       "      <th>8</th>\n",
       "      <td>2015/16</td>\n",
       "      <td>10942</td>\n",
       "      <td>8713</td>\n",
       "      <td>19655</td>\n",
       "      <td>6701</td>\n",
       "      <td>8736</td>\n",
       "      <td>15437</td>\n",
       "      <td>2015/16</td>\n",
       "      <td>10942</td>\n",
       "      <td>8713</td>\n",
       "      <td>19655</td>\n",
       "      <td>6701</td>\n",
       "      <td>8736</td>\n",
       "      <td>15437</td>\n",
       "    </tr>\n",
       "    <tr>\n",
       "      <th>9</th>\n",
       "      <td>2016/17</td>\n",
       "      <td>11127</td>\n",
       "      <td>7884</td>\n",
       "      <td>19011</td>\n",
       "      <td>6153</td>\n",
       "      <td>7635</td>\n",
       "      <td>13788</td>\n",
       "      <td>2016/17</td>\n",
       "      <td>11127</td>\n",
       "      <td>7884</td>\n",
       "      <td>19011</td>\n",
       "      <td>6153</td>\n",
       "      <td>7635</td>\n",
       "      <td>13788</td>\n",
       "    </tr>\n",
       "    <tr>\n",
       "      <th>10</th>\n",
       "      <td>2017/18</td>\n",
       "      <td>11420</td>\n",
       "      <td>6863</td>\n",
       "      <td>18283</td>\n",
       "      <td>5997</td>\n",
       "      <td>7906</td>\n",
       "      <td>13903</td>\n",
       "      <td>2017/18</td>\n",
       "      <td>11420</td>\n",
       "      <td>6863</td>\n",
       "      <td>18283</td>\n",
       "      <td>5997</td>\n",
       "      <td>7906</td>\n",
       "      <td>13903</td>\n",
       "    </tr>\n",
       "    <tr>\n",
       "      <th>11</th>\n",
       "      <td>2018/19</td>\n",
       "      <td>11574</td>\n",
       "      <td>7263</td>\n",
       "      <td>18837</td>\n",
       "      <td>5753</td>\n",
       "      <td>8175</td>\n",
       "      <td>13928</td>\n",
       "      <td>2018/19</td>\n",
       "      <td>11574</td>\n",
       "      <td>7263</td>\n",
       "      <td>18837</td>\n",
       "      <td>5753</td>\n",
       "      <td>8175</td>\n",
       "      <td>13928</td>\n",
       "    </tr>\n",
       "    <tr>\n",
       "      <th>12</th>\n",
       "      <td>2019/20</td>\n",
       "      <td>11170</td>\n",
       "      <td>7196</td>\n",
       "      <td>18366</td>\n",
       "      <td>6311</td>\n",
       "      <td>7863</td>\n",
       "      <td>14174</td>\n",
       "      <td>2019/20</td>\n",
       "      <td>11170</td>\n",
       "      <td>7196</td>\n",
       "      <td>18366</td>\n",
       "      <td>6311</td>\n",
       "      <td>7863</td>\n",
       "      <td>14174</td>\n",
       "    </tr>\n",
       "  </tbody>\n",
       "</table>\n",
       "</div>"
      ],
      "text/plain": [
       "   Academic year  Associate Degree  Higher Diploma  Sub-degree  \\\n",
       "0        2007/08             12029            9882       21911   \n",
       "1        2008/09             11238            9405       20643   \n",
       "2        2009/10             14177           10186       24363   \n",
       "3        2010/11             17646           10715       28361   \n",
       "4        2011/12             16018            9331       25349   \n",
       "5        2012/13             18131           13486       31617   \n",
       "6        2013/14             11715            9751       21466   \n",
       "7        2014/15             10275            9483       19758   \n",
       "8        2015/16             10942            8713       19655   \n",
       "9        2016/17             11127            7884       19011   \n",
       "10       2017/18             11420            6863       18283   \n",
       "11       2018/19             11574            7263       18837   \n",
       "12       2019/20             11170            7196       18366   \n",
       "\n",
       "    First year first degree  Top-up degree  Under-graduate Academic year  \\\n",
       "0                      2468           1731            4199       2007/08   \n",
       "1                      3004           2095            5099       2008/09   \n",
       "2                      2782           2680            5462       2009/10   \n",
       "3                      3193           3334            6527       2010/11   \n",
       "4                      3640           4081            7721       2011/12   \n",
       "5                      6796           6082           12878       2012/13   \n",
       "6                      6128           7349           13477       2013/14   \n",
       "7                      7194          10488           17682       2014/15   \n",
       "8                      6701           8736           15437       2015/16   \n",
       "9                      6153           7635           13788       2016/17   \n",
       "10                     5997           7906           13903       2017/18   \n",
       "11                     5753           8175           13928       2018/19   \n",
       "12                     6311           7863           14174       2019/20   \n",
       "\n",
       "    Associate Degree  Higher Diploma  Sub-degree  First year first degree  \\\n",
       "0              12029            9882       21911                     2468   \n",
       "1              11238            9405       20643                     3004   \n",
       "2              14177           10186       24363                     2782   \n",
       "3              17646           10715       28361                     3193   \n",
       "4              16018            9331       25349                     3640   \n",
       "5              18131           13486       31617                     6796   \n",
       "6              11715            9751       21466                     6128   \n",
       "7              10275            9483       19758                     7194   \n",
       "8              10942            8713       19655                     6701   \n",
       "9              11127            7884       19011                     6153   \n",
       "10             11420            6863       18283                     5997   \n",
       "11             11574            7263       18837                     5753   \n",
       "12             11170            7196       18366                     6311   \n",
       "\n",
       "    Top-up degree  Under-graduate  \n",
       "0            1731            4199  \n",
       "1            2095            5099  \n",
       "2            2680            5462  \n",
       "3            3334            6527  \n",
       "4            4081            7721  \n",
       "5            6082           12878  \n",
       "6            7349           13477  \n",
       "7           10488           17682  \n",
       "8            8736           15437  \n",
       "9            7635           13788  \n",
       "10           7906           13903  \n",
       "11           8175           13928  \n",
       "12           7863           14174  "
      ]
     },
     "execution_count": 60,
     "metadata": {},
     "output_type": "execute_result"
    }
   ],
   "source": [
    "df1 = pd.read_excel('./data/Students.xls', sheet_name=0)\n",
    "df2 = pd.read_excel('./data/Students.xls', sheet_name=0)\n",
    "concatencate1 = pd.concat([df1, df2])\n",
    "concatencate1\n",
    "concatencate2 = pd.concat([df1, df2], axis=1)\n",
    "concatencate2"
   ]
  },
  {
   "cell_type": "code",
   "execution_count": 61,
   "metadata": {},
   "outputs": [
    {
     "data": {
      "text/html": [
       "<div>\n",
       "<style scoped>\n",
       "    .dataframe tbody tr th:only-of-type {\n",
       "        vertical-align: middle;\n",
       "    }\n",
       "\n",
       "    .dataframe tbody tr th {\n",
       "        vertical-align: top;\n",
       "    }\n",
       "\n",
       "    .dataframe thead th {\n",
       "        text-align: right;\n",
       "    }\n",
       "</style>\n",
       "<table border=\"1\" class=\"dataframe\">\n",
       "  <thead>\n",
       "    <tr style=\"text-align: right;\">\n",
       "      <th></th>\n",
       "      <th>Academic year</th>\n",
       "      <th>Associate Degree_x</th>\n",
       "      <th>Higher Diploma_x</th>\n",
       "      <th>Sub-degree_x</th>\n",
       "      <th>First year first degree_x</th>\n",
       "      <th>Top-up degree_x</th>\n",
       "      <th>Under-graduate_x</th>\n",
       "      <th>Associate Degree_y</th>\n",
       "      <th>Higher Diploma_y</th>\n",
       "      <th>Sub-degree_y</th>\n",
       "      <th>First year first degree_y</th>\n",
       "      <th>Top-up degree_y</th>\n",
       "      <th>Under-graduate_y</th>\n",
       "    </tr>\n",
       "  </thead>\n",
       "  <tbody>\n",
       "    <tr>\n",
       "      <th>0</th>\n",
       "      <td>2007/08</td>\n",
       "      <td>12029</td>\n",
       "      <td>9882</td>\n",
       "      <td>21911</td>\n",
       "      <td>2468</td>\n",
       "      <td>1731</td>\n",
       "      <td>4199</td>\n",
       "      <td>7159</td>\n",
       "      <td>6372</td>\n",
       "      <td>13531</td>\n",
       "      <td>1558</td>\n",
       "      <td>-</td>\n",
       "      <td>1558</td>\n",
       "    </tr>\n",
       "    <tr>\n",
       "      <th>1</th>\n",
       "      <td>2008/09</td>\n",
       "      <td>11238</td>\n",
       "      <td>9405</td>\n",
       "      <td>20643</td>\n",
       "      <td>3004</td>\n",
       "      <td>2095</td>\n",
       "      <td>5099</td>\n",
       "      <td>7211</td>\n",
       "      <td>7459</td>\n",
       "      <td>14670</td>\n",
       "      <td>2065</td>\n",
       "      <td>-</td>\n",
       "      <td>2065</td>\n",
       "    </tr>\n",
       "    <tr>\n",
       "      <th>2</th>\n",
       "      <td>2009/10</td>\n",
       "      <td>14177</td>\n",
       "      <td>10186</td>\n",
       "      <td>24363</td>\n",
       "      <td>2782</td>\n",
       "      <td>2680</td>\n",
       "      <td>5462</td>\n",
       "      <td>7303</td>\n",
       "      <td>8097</td>\n",
       "      <td>15400</td>\n",
       "      <td>2727</td>\n",
       "      <td>1499</td>\n",
       "      <td>4226</td>\n",
       "    </tr>\n",
       "    <tr>\n",
       "      <th>3</th>\n",
       "      <td>2010/11</td>\n",
       "      <td>17646</td>\n",
       "      <td>10715</td>\n",
       "      <td>28361</td>\n",
       "      <td>3193</td>\n",
       "      <td>3334</td>\n",
       "      <td>6527</td>\n",
       "      <td>8026</td>\n",
       "      <td>7167</td>\n",
       "      <td>15193</td>\n",
       "      <td>2921</td>\n",
       "      <td>2296</td>\n",
       "      <td>5217</td>\n",
       "    </tr>\n",
       "    <tr>\n",
       "      <th>4</th>\n",
       "      <td>2011/12</td>\n",
       "      <td>16018</td>\n",
       "      <td>9331</td>\n",
       "      <td>25349</td>\n",
       "      <td>3640</td>\n",
       "      <td>4081</td>\n",
       "      <td>7721</td>\n",
       "      <td>9468</td>\n",
       "      <td>7669</td>\n",
       "      <td>17137</td>\n",
       "      <td>2915</td>\n",
       "      <td>3003</td>\n",
       "      <td>5918</td>\n",
       "    </tr>\n",
       "    <tr>\n",
       "      <th>5</th>\n",
       "      <td>2012/13</td>\n",
       "      <td>18131</td>\n",
       "      <td>13486</td>\n",
       "      <td>31617</td>\n",
       "      <td>6796</td>\n",
       "      <td>6082</td>\n",
       "      <td>12878</td>\n",
       "      <td>10541</td>\n",
       "      <td>9271</td>\n",
       "      <td>19812</td>\n",
       "      <td>3040</td>\n",
       "      <td>4656</td>\n",
       "      <td>7696</td>\n",
       "    </tr>\n",
       "    <tr>\n",
       "      <th>6</th>\n",
       "      <td>2013/14</td>\n",
       "      <td>11715</td>\n",
       "      <td>9751</td>\n",
       "      <td>21466</td>\n",
       "      <td>6128</td>\n",
       "      <td>7349</td>\n",
       "      <td>13477</td>\n",
       "      <td>13035</td>\n",
       "      <td>13620</td>\n",
       "      <td>26655</td>\n",
       "      <td>3939</td>\n",
       "      <td>5767</td>\n",
       "      <td>9706</td>\n",
       "    </tr>\n",
       "    <tr>\n",
       "      <th>7</th>\n",
       "      <td>2014/15</td>\n",
       "      <td>10275</td>\n",
       "      <td>9483</td>\n",
       "      <td>19758</td>\n",
       "      <td>7194</td>\n",
       "      <td>10488</td>\n",
       "      <td>17682</td>\n",
       "      <td>9061</td>\n",
       "      <td>8387</td>\n",
       "      <td>17448</td>\n",
       "      <td>3286</td>\n",
       "      <td>7768</td>\n",
       "      <td>11054</td>\n",
       "    </tr>\n",
       "    <tr>\n",
       "      <th>8</th>\n",
       "      <td>2015/16</td>\n",
       "      <td>10942</td>\n",
       "      <td>8713</td>\n",
       "      <td>19655</td>\n",
       "      <td>6701</td>\n",
       "      <td>8736</td>\n",
       "      <td>15437</td>\n",
       "      <td>7962</td>\n",
       "      <td>7983</td>\n",
       "      <td>15945</td>\n",
       "      <td>5933</td>\n",
       "      <td>8279</td>\n",
       "      <td>14212</td>\n",
       "    </tr>\n",
       "    <tr>\n",
       "      <th>9</th>\n",
       "      <td>2016/17</td>\n",
       "      <td>11127</td>\n",
       "      <td>7884</td>\n",
       "      <td>19011</td>\n",
       "      <td>6153</td>\n",
       "      <td>7635</td>\n",
       "      <td>13788</td>\n",
       "      <td>8246</td>\n",
       "      <td>6986</td>\n",
       "      <td>15232</td>\n",
       "      <td>6060</td>\n",
       "      <td>7127</td>\n",
       "      <td>13187</td>\n",
       "    </tr>\n",
       "    <tr>\n",
       "      <th>10</th>\n",
       "      <td>2017/18</td>\n",
       "      <td>11420</td>\n",
       "      <td>6863</td>\n",
       "      <td>18283</td>\n",
       "      <td>5997</td>\n",
       "      <td>7906</td>\n",
       "      <td>13903</td>\n",
       "      <td>8460</td>\n",
       "      <td>6382</td>\n",
       "      <td>14842</td>\n",
       "      <td>6124</td>\n",
       "      <td>6591</td>\n",
       "      <td>12715</td>\n",
       "    </tr>\n",
       "    <tr>\n",
       "      <th>11</th>\n",
       "      <td>2018/19</td>\n",
       "      <td>11574</td>\n",
       "      <td>7263</td>\n",
       "      <td>18837</td>\n",
       "      <td>5753</td>\n",
       "      <td>8175</td>\n",
       "      <td>13928</td>\n",
       "      <td>8334</td>\n",
       "      <td>5619</td>\n",
       "      <td>13953</td>\n",
       "      <td>6501</td>\n",
       "      <td>6144</td>\n",
       "      <td>12645</td>\n",
       "    </tr>\n",
       "  </tbody>\n",
       "</table>\n",
       "</div>"
      ],
      "text/plain": [
       "   Academic year  Associate Degree_x  Higher Diploma_x  Sub-degree_x  \\\n",
       "0        2007/08               12029              9882         21911   \n",
       "1        2008/09               11238              9405         20643   \n",
       "2        2009/10               14177             10186         24363   \n",
       "3        2010/11               17646             10715         28361   \n",
       "4        2011/12               16018              9331         25349   \n",
       "5        2012/13               18131             13486         31617   \n",
       "6        2013/14               11715              9751         21466   \n",
       "7        2014/15               10275              9483         19758   \n",
       "8        2015/16               10942              8713         19655   \n",
       "9        2016/17               11127              7884         19011   \n",
       "10       2017/18               11420              6863         18283   \n",
       "11       2018/19               11574              7263         18837   \n",
       "\n",
       "    First year first degree_x  Top-up degree_x  Under-graduate_x  \\\n",
       "0                        2468             1731              4199   \n",
       "1                        3004             2095              5099   \n",
       "2                        2782             2680              5462   \n",
       "3                        3193             3334              6527   \n",
       "4                        3640             4081              7721   \n",
       "5                        6796             6082             12878   \n",
       "6                        6128             7349             13477   \n",
       "7                        7194            10488             17682   \n",
       "8                        6701             8736             15437   \n",
       "9                        6153             7635             13788   \n",
       "10                       5997             7906             13903   \n",
       "11                       5753             8175             13928   \n",
       "\n",
       "    Associate Degree_y  Higher Diploma_y  Sub-degree_y  \\\n",
       "0                 7159              6372         13531   \n",
       "1                 7211              7459         14670   \n",
       "2                 7303              8097         15400   \n",
       "3                 8026              7167         15193   \n",
       "4                 9468              7669         17137   \n",
       "5                10541              9271         19812   \n",
       "6                13035             13620         26655   \n",
       "7                 9061              8387         17448   \n",
       "8                 7962              7983         15945   \n",
       "9                 8246              6986         15232   \n",
       "10                8460              6382         14842   \n",
       "11                8334              5619         13953   \n",
       "\n",
       "    First year first degree_y Top-up degree_y  Under-graduate_y  \n",
       "0                        1558               -              1558  \n",
       "1                        2065               -              2065  \n",
       "2                        2727            1499              4226  \n",
       "3                        2921            2296              5217  \n",
       "4                        2915            3003              5918  \n",
       "5                        3040            4656              7696  \n",
       "6                        3939            5767              9706  \n",
       "7                        3286            7768             11054  \n",
       "8                        5933            8279             14212  \n",
       "9                        6060            7127             13187  \n",
       "10                       6124            6591             12715  \n",
       "11                       6501            6144             12645  "
      ]
     },
     "execution_count": 61,
     "metadata": {},
     "output_type": "execute_result"
    }
   ],
   "source": [
    "left = pd.read_excel('./data/Students.xls', sheet_name=0)\n",
    "right = pd.read_excel('./data/Students.xls', sheet_name=1)\n",
    "joined = pd.merge(left, right, on='Academic year')\n",
    "joined"
   ]
  },
  {
   "cell_type": "code",
   "execution_count": null,
   "metadata": {},
   "outputs": [],
   "source": []
  },
  {
   "cell_type": "code",
   "execution_count": null,
   "metadata": {},
   "outputs": [],
   "source": []
  },
  {
   "cell_type": "code",
   "execution_count": null,
   "metadata": {},
   "outputs": [],
   "source": []
  },
  {
   "cell_type": "markdown",
   "metadata": {},
   "source": [
    "# Matplotlib\n",
    "Matplotlib is a low level graph plotting library in python that serves as a visualization utility.\n",
    "\n",
    "**import before you use**:\n",
    "```\n",
    "import matplotlib.pyplot as plt\n",
    "```\n",
    "\n",
    "**Samples**:\n",
    "```\n",
    "df = pd.read_excel('./data/Students.xls', sheet_name=0)\n",
    "year = df['Academic year']\n",
    "ug = df['Under-graduate']\n",
    "plt.plot(year, ug)\n",
    "plt.plot(year, ug, 'o')\n",
    "```"
   ]
  },
  {
   "cell_type": "code",
   "execution_count": 62,
   "metadata": {},
   "outputs": [],
<<<<<<< HEAD
   "source": []
=======
   "source": [
    "import matplotlib.pyplot as plt"
   ]
>>>>>>> Completed
  },
  {
   "cell_type": "code",
   "execution_count": 63,
   "metadata": {},
   "outputs": [
    {
     "data": {
      "text/plain": [
       "[<matplotlib.lines.Line2D at 0x7ff0b848bbb0>]"
      ]
     },
     "execution_count": 63,
     "metadata": {},
     "output_type": "execute_result"
    },
    {
     "data": {
      "image/png": "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\n",
      "text/plain": [
       "<Figure size 432x288 with 1 Axes>"
      ]
     },
     "metadata": {
      "needs_background": "light"
     },
     "output_type": "display_data"
    }
   ],
   "source": [
    "df = pd.read_excel('./data/Students.xls', sheet_name=0)\n",
    "year = df['Academic year']\n",
    "ug = df['Under-graduate']\n",
    "plt.plot(year, ug)"
   ]
  },
  {
   "cell_type": "code",
   "execution_count": 64,
   "metadata": {},
<<<<<<< HEAD
   "outputs": [],
   "source": []
=======
   "outputs": [
    {
     "data": {
      "text/plain": [
       "[<matplotlib.lines.Line2D at 0x7ff0d664e790>]"
      ]
     },
     "execution_count": 64,
     "metadata": {},
     "output_type": "execute_result"
    },
    {
     "data": {
      "image/png": "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\n",
      "text/plain": [
       "<Figure size 432x288 with 1 Axes>"
      ]
     },
     "metadata": {
      "needs_background": "light"
     },
     "output_type": "display_data"
    }
   ],
   "source": [
    "plt.plot(year, ug)"
   ]
>>>>>>> Completed
  },
  {
   "cell_type": "code",
   "execution_count": 65,
   "metadata": {},
   "outputs": [
    {
     "data": {
      "text/plain": [
       "[<matplotlib.lines.Line2D at 0x7ff0b875a850>]"
      ]
     },
     "execution_count": 65,
     "metadata": {},
     "output_type": "execute_result"
    },
    {
     "data": {
      "image/png": "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\n",
      "text/plain": [
       "<Figure size 432x288 with 1 Axes>"
      ]
     },
     "metadata": {
      "needs_background": "light"
     },
     "output_type": "display_data"
    }
   ],
   "source": [
    "plt.plot(year, ug, 'o')"
   ]
  },
  {
   "cell_type": "markdown",
   "metadata": {},
   "source": [
    "# Styling theMarkers\n",
    "\n",
    "Other markers to consider:\n",
    "\n",
    "`'o'`\tCircle\t\n",
    "`'*'`\tStar\t\n",
    "`'.'`\tPoint\t\n",
    "`','`\tPixel\t\n",
    "`'x'`\tX\t\n",
    "`'X'`\tX (filled)\t\n",
    "`'+'`\tPlus\t\n",
    "`'P'`\tPlus (filled)\t\n",
    "`'s'`\tSquare\t\n",
    "`'D'`\tDiamond\t\n",
    "`'d'`\tDiamond (thin)\t\n",
    "`'p'`\tPentagon\t\n",
    "`'H'`\tHexagon\t\n",
    "`'h'`\tHexagon\t\n",
    "`'v'`\tTriangle Down\t\n",
    "`'^'`\tTriangle Up\t\n",
    "`'<'`\tTriangle Left\t\n",
    "`'>'`\tTriangle Right\t\n",
    "`'1'`\tTri Down\t\n",
    "`'2'`\tTri Up\t\n",
    "`'3'`\tTri Left\t\n",
    "`'4'`\tTri Right\t\n",
    "`'|'`\tVline\t\n",
    "`'_'`\tHline"
   ]
  },
  {
   "cell_type": "code",
   "execution_count": 66,
   "metadata": {},
   "outputs": [
    {
     "data": {
      "text/plain": [
       "0     2007/08\n",
       "1     2008/09\n",
       "2     2009/10\n",
       "3     2010/11\n",
       "4     2011/12\n",
       "5     2012/13\n",
       "6     2013/14\n",
       "7     2014/15\n",
       "8     2015/16\n",
       "9     2016/17\n",
       "10    2017/18\n",
       "11    2018/19\n",
       "12    2019/20\n",
       "Name: Academic year, dtype: object"
      ]
     },
     "execution_count": 66,
     "metadata": {},
     "output_type": "execute_result"
    }
   ],
   "source": [
    "df['Academic year']"
   ]
  },
  {
   "cell_type": "code",
   "execution_count": 67,
   "metadata": {},
   "outputs": [
    {
     "data": {
      "text/plain": [
       "[<matplotlib.lines.Line2D at 0x7ff0b87e2c70>]"
      ]
     },
     "execution_count": 67,
     "metadata": {},
     "output_type": "execute_result"
    },
    {
     "data": {
      "image/png": "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\n",
      "text/plain": [
       "<Figure size 432x288 with 1 Axes>"
      ]
     },
     "metadata": {
      "needs_background": "light"
     },
     "output_type": "display_data"
    }
   ],
   "source": [
    "plt.plot(year, ug, '4')"
   ]
  },
  {
   "cell_type": "markdown",
   "metadata": {},
   "source": [
    "# Configuring marker size\n",
    "You can use the keyword argument markersize or the shorter version, ms to set the size of the markers:\n",
    "Example:\n",
    "```\n",
    "plt.plot(year, ug, 'D', ms=10)\n",
    "```"
   ]
  },
  {
   "cell_type": "code",
   "execution_count": 68,
   "metadata": {},
   "outputs": [
    {
     "data": {
      "text/plain": [
       "[<matplotlib.lines.Line2D at 0x7ff0b8dd6d30>]"
      ]
     },
     "execution_count": 68,
     "metadata": {},
     "output_type": "execute_result"
    },
    {
     "data": {
      "image/png": "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\n",
      "text/plain": [
       "<Figure size 432x288 with 1 Axes>"
      ]
     },
     "metadata": {
      "needs_background": "light"
     },
     "output_type": "display_data"
    }
   ],
   "source": [
    "plt.plot(year, ug, 'D', ms=5)"
   ]
  },
  {
   "cell_type": "code",
   "execution_count": null,
   "metadata": {
    "scrolled": true
   },
   "outputs": [],
   "source": []
  }
 ],
 "metadata": {
  "kernelspec": {
   "display_name": "Python 3",
   "language": "python",
   "name": "python3"
  },
  "language_info": {
   "codemirror_mode": {
    "name": "ipython",
    "version": 3
   },
   "file_extension": ".py",
   "mimetype": "text/x-python",
   "name": "python",
   "nbconvert_exporter": "python",
   "pygments_lexer": "ipython3",
   "version": "3.8.5"
  }
 },
 "nbformat": 4,
 "nbformat_minor": 4
}
