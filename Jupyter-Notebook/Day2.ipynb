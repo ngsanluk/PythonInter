{
 "cells": [
  {
   "cell_type": "markdown",
   "metadata": {},
   "source": [
    "# Python Intermediate - Day 2\n",
    "---\n",
    "Reading processing **LIVE** data over the web\n",
    "\n",
    "- Reading HTML\n",
    "- Reading JSON\n",
    "- Web Scraping"
   ]
  },
  {
   "cell_type": "markdown",
   "metadata": {},
   "source": [
    "## yfinance"
   ]
  },
  {
   "cell_type": "code",
   "execution_count": null,
   "metadata": {},
   "outputs": [],
   "source": []
  },
  {
   "cell_type": "markdown",
   "metadata": {},
   "source": [
    "### import numpy and pandas \n",
    "\n",
    "```\n",
    "import numpy as np\n",
    "import pandas as pd\n",
    "```"
   ]
  },
  {
   "cell_type": "code",
   "execution_count": 3,
   "metadata": {},
   "outputs": [],
   "source": [
    "import numpy as np\n",
    "import pandas as pd"
   ]
  },
  {
   "cell_type": "markdown",
   "metadata": {},
   "source": [
    "## Use Pandas to retrieve HTML content\n",
    "Example:\n",
    "```\n",
    "url = 'http://www.multpl.com/s-p-500-dividend-yield/table?f=m'\n",
    "raw_html_tbl = pd.read_html(url)\n",
    "type(raw_html_tbl)\n",
    "len(raw_html_tbl)\n",
    "raw_html_tbl[0]\n",
    "type(raw_html_tbl[0])\n",
    "```"
   ]
  },
  {
   "cell_type": "code",
   "execution_count": 6,
   "metadata": {},
   "outputs": [
    {
     "data": {
      "text/html": [
       "<div>\n",
       "<style scoped>\n",
       "    .dataframe tbody tr th:only-of-type {\n",
       "        vertical-align: middle;\n",
       "    }\n",
       "\n",
       "    .dataframe tbody tr th {\n",
       "        vertical-align: top;\n",
       "    }\n",
       "\n",
       "    .dataframe thead th {\n",
       "        text-align: right;\n",
       "    }\n",
       "</style>\n",
       "<table border=\"1\" class=\"dataframe\">\n",
       "  <thead>\n",
       "    <tr style=\"text-align: right;\">\n",
       "      <th></th>\n",
       "      <th>Date</th>\n",
       "      <th>Yield Value</th>\n",
       "    </tr>\n",
       "  </thead>\n",
       "  <tbody>\n",
       "    <tr>\n",
       "      <th>0</th>\n",
       "      <td>Feb 18, 2022</td>\n",
       "      <td>1.39% estimate</td>\n",
       "    </tr>\n",
       "    <tr>\n",
       "      <th>1</th>\n",
       "      <td>Feb 28, 2022</td>\n",
       "      <td>1.32% estimate</td>\n",
       "    </tr>\n",
       "    <tr>\n",
       "      <th>2</th>\n",
       "      <td>Jan 31, 2022</td>\n",
       "      <td>1.32% estimate</td>\n",
       "    </tr>\n",
       "    <tr>\n",
       "      <th>3</th>\n",
       "      <td>Dec 31, 2021</td>\n",
       "      <td>1.29%</td>\n",
       "    </tr>\n",
       "    <tr>\n",
       "      <th>4</th>\n",
       "      <td>Nov 30, 2021</td>\n",
       "      <td>1.29%</td>\n",
       "    </tr>\n",
       "    <tr>\n",
       "      <th>...</th>\n",
       "      <td>...</td>\n",
       "      <td>...</td>\n",
       "    </tr>\n",
       "    <tr>\n",
       "      <th>1810</th>\n",
       "      <td>May 31, 1871</td>\n",
       "      <td>5.35%</td>\n",
       "    </tr>\n",
       "    <tr>\n",
       "      <th>1811</th>\n",
       "      <td>Apr 30, 1871</td>\n",
       "      <td>5.49%</td>\n",
       "    </tr>\n",
       "    <tr>\n",
       "      <th>1812</th>\n",
       "      <td>Mar 31, 1871</td>\n",
       "      <td>5.64%</td>\n",
       "    </tr>\n",
       "    <tr>\n",
       "      <th>1813</th>\n",
       "      <td>Feb 28, 1871</td>\n",
       "      <td>5.78%</td>\n",
       "    </tr>\n",
       "    <tr>\n",
       "      <th>1814</th>\n",
       "      <td>Jan 31, 1871</td>\n",
       "      <td>5.86%</td>\n",
       "    </tr>\n",
       "  </tbody>\n",
       "</table>\n",
       "<p>1815 rows × 2 columns</p>\n",
       "</div>"
      ],
      "text/plain": [
       "              Date     Yield Value\n",
       "0     Feb 18, 2022  1.39% estimate\n",
       "1     Feb 28, 2022  1.32% estimate\n",
       "2     Jan 31, 2022  1.32% estimate\n",
       "3     Dec 31, 2021           1.29%\n",
       "4     Nov 30, 2021           1.29%\n",
       "...            ...             ...\n",
       "1810  May 31, 1871           5.35%\n",
       "1811  Apr 30, 1871           5.49%\n",
       "1812  Mar 31, 1871           5.64%\n",
       "1813  Feb 28, 1871           5.78%\n",
       "1814  Jan 31, 1871           5.86%\n",
       "\n",
       "[1815 rows x 2 columns]"
      ]
     },
     "execution_count": 6,
     "metadata": {},
     "output_type": "execute_result"
    }
   ],
   "source": [
    "url = 'http://www.multpl.com/s-p-500-dividend-yield/table?f=m'\n",
    "raw_html_tbl = pd.read_html(url)\n",
    "type(raw_html_tbl)\n",
    "len(raw_html_tbl)\n",
    "raw_html_tbl[0]"
   ]
  },
  {
   "cell_type": "code",
   "execution_count": 5,
   "metadata": {},
   "outputs": [
    {
     "data": {
      "text/plain": [
       "pandas.core.frame.DataFrame"
      ]
     },
     "execution_count": 5,
     "metadata": {},
     "output_type": "execute_result"
    }
   ],
   "source": [
    "type(raw_html_tbl[0])"
   ]
  },
  {
   "cell_type": "markdown",
   "metadata": {},
   "source": [
    "# `pd.read_html()` doesn't always work\n",
    "\n",
    "- There are too many broken HTML codes\n",
    "- And some HTML are generated by JavaScript on the fly\n",
    "\n",
    "Example:\n",
    "\n",
    "The following scraping won't work\n",
    "\n",
    "```\n",
    "url2 = 'https://stock360.hkej.com/marketWatch/Top20'\n",
    "raw_html_tbl2 = pd.read_html(url2)\n",
    "raw_html_tbl2\n",
    "```"
   ]
  },
  {
   "cell_type": "code",
   "execution_count": null,
   "metadata": {},
   "outputs": [],
   "source": [
    "url2 = 'https://stock360.hkej.com/marketWatch/Top20'\n",
    "raw_html_tbl2 = pd.read_html(url2)\n",
    "raw_html_tbl2"
   ]
  },
  {
   "cell_type": "code",
   "execution_count": null,
   "metadata": {},
   "outputs": [],
   "source": []
  },
  {
   "cell_type": "markdown",
   "metadata": {},
   "source": [
    "# Another Example or web scraping using Pandas\n",
    "\n",
    "Retrieving currency table from Yahoo Finance\n",
    "\n",
    "```\n",
    "url3 = 'https://hk.finance.yahoo.com/currencies'\n",
    "raw_html_tbl3 = pd.read_html(url3)\n",
    "raw_html_tbl3[0]\n",
    "```"
   ]
  },
  {
   "cell_type": "code",
   "execution_count": 8,
   "metadata": {},
   "outputs": [
    {
     "data": {
      "text/html": [
       "<div>\n",
       "<style scoped>\n",
       "    .dataframe tbody tr th:only-of-type {\n",
       "        vertical-align: middle;\n",
       "    }\n",
       "\n",
       "    .dataframe tbody tr th {\n",
       "        vertical-align: top;\n",
       "    }\n",
       "\n",
       "    .dataframe thead th {\n",
       "        text-align: right;\n",
       "    }\n",
       "</style>\n",
       "<table border=\"1\" class=\"dataframe\">\n",
       "  <thead>\n",
       "    <tr style=\"text-align: right;\">\n",
       "      <th></th>\n",
       "      <th>代號</th>\n",
       "      <th>名稱</th>\n",
       "      <th>收市價</th>\n",
       "      <th>變化</th>\n",
       "      <th>% 變化</th>\n",
       "      <th>52 週範圍</th>\n",
       "      <th>日圖表</th>\n",
       "    </tr>\n",
       "  </thead>\n",
       "  <tbody>\n",
       "    <tr>\n",
       "      <th>0</th>\n",
       "      <td>HKD=X</td>\n",
       "      <td>美元/港元</td>\n",
       "      <td>7.7999</td>\n",
       "      <td>0.0007</td>\n",
       "      <td>+0.01%</td>\n",
       "      <td>NaN</td>\n",
       "      <td>NaN</td>\n",
       "    </tr>\n",
       "    <tr>\n",
       "      <th>1</th>\n",
       "      <td>HKDCNY=X</td>\n",
       "      <td>港元/人民幣</td>\n",
       "      <td>0.8104</td>\n",
       "      <td>-0.0018</td>\n",
       "      <td>-0.22%</td>\n",
       "      <td>NaN</td>\n",
       "      <td>NaN</td>\n",
       "    </tr>\n",
       "    <tr>\n",
       "      <th>2</th>\n",
       "      <td>EURHKD=X</td>\n",
       "      <td>歐元/港元</td>\n",
       "      <td>8.8303</td>\n",
       "      <td>-0.0309</td>\n",
       "      <td>-0.35%</td>\n",
       "      <td>NaN</td>\n",
       "      <td>NaN</td>\n",
       "    </tr>\n",
       "    <tr>\n",
       "      <th>3</th>\n",
       "      <td>GBPHKD=X</td>\n",
       "      <td>英鎊/港元</td>\n",
       "      <td>10.5990</td>\n",
       "      <td>-0.0190</td>\n",
       "      <td>-0.18%</td>\n",
       "      <td>NaN</td>\n",
       "      <td>NaN</td>\n",
       "    </tr>\n",
       "    <tr>\n",
       "      <th>4</th>\n",
       "      <td>JPYHKD=X</td>\n",
       "      <td>日圓/港元</td>\n",
       "      <td>0.0676</td>\n",
       "      <td>-0.0000</td>\n",
       "      <td>-0.04%</td>\n",
       "      <td>NaN</td>\n",
       "      <td>NaN</td>\n",
       "    </tr>\n",
       "    <tr>\n",
       "      <th>5</th>\n",
       "      <td>AUDHKD=X</td>\n",
       "      <td>澳元/港元</td>\n",
       "      <td>5.5933</td>\n",
       "      <td>-0.0102</td>\n",
       "      <td>-0.18%</td>\n",
       "      <td>NaN</td>\n",
       "      <td>NaN</td>\n",
       "    </tr>\n",
       "    <tr>\n",
       "      <th>6</th>\n",
       "      <td>NZDHKD=X</td>\n",
       "      <td>紐元/港元</td>\n",
       "      <td>5.2257</td>\n",
       "      <td>0.0083</td>\n",
       "      <td>+0.16%</td>\n",
       "      <td>NaN</td>\n",
       "      <td>NaN</td>\n",
       "    </tr>\n",
       "    <tr>\n",
       "      <th>7</th>\n",
       "      <td>CADHKD=X</td>\n",
       "      <td>加元/港元</td>\n",
       "      <td>6.1162</td>\n",
       "      <td>-0.0200</td>\n",
       "      <td>-0.33%</td>\n",
       "      <td>NaN</td>\n",
       "      <td>NaN</td>\n",
       "    </tr>\n",
       "    <tr>\n",
       "      <th>8</th>\n",
       "      <td>HKDTWD=X</td>\n",
       "      <td>港元/新台幣</td>\n",
       "      <td>3.5751</td>\n",
       "      <td>-0.0013</td>\n",
       "      <td>-0.04%</td>\n",
       "      <td>NaN</td>\n",
       "      <td>NaN</td>\n",
       "    </tr>\n",
       "    <tr>\n",
       "      <th>9</th>\n",
       "      <td>HKDTHB=X</td>\n",
       "      <td>港元/泰銖</td>\n",
       "      <td>4.1246</td>\n",
       "      <td>0.0088</td>\n",
       "      <td>+0.21%</td>\n",
       "      <td>NaN</td>\n",
       "      <td>NaN</td>\n",
       "    </tr>\n",
       "    <tr>\n",
       "      <th>10</th>\n",
       "      <td>KRWHKD=X</td>\n",
       "      <td>韓圜/港元</td>\n",
       "      <td>0.0065</td>\n",
       "      <td>0.0000</td>\n",
       "      <td>+0.15%</td>\n",
       "      <td>NaN</td>\n",
       "      <td>NaN</td>\n",
       "    </tr>\n",
       "    <tr>\n",
       "      <th>11</th>\n",
       "      <td>SGDHKD=X</td>\n",
       "      <td>新加坡元/港元</td>\n",
       "      <td>5.7939</td>\n",
       "      <td>-0.0104</td>\n",
       "      <td>-0.18%</td>\n",
       "      <td>NaN</td>\n",
       "      <td>NaN</td>\n",
       "    </tr>\n",
       "    <tr>\n",
       "      <th>12</th>\n",
       "      <td>CHFHKD=X</td>\n",
       "      <td>瑞士法郎/港元</td>\n",
       "      <td>8.4685</td>\n",
       "      <td>-0.0069</td>\n",
       "      <td>-0.08%</td>\n",
       "      <td>NaN</td>\n",
       "      <td>NaN</td>\n",
       "    </tr>\n",
       "    <tr>\n",
       "      <th>13</th>\n",
       "      <td>VNDHKD=X</td>\n",
       "      <td>越南盾/港元</td>\n",
       "      <td>0.0003</td>\n",
       "      <td>-0.0000</td>\n",
       "      <td>-0.14%</td>\n",
       "      <td>NaN</td>\n",
       "      <td>NaN</td>\n",
       "    </tr>\n",
       "    <tr>\n",
       "      <th>14</th>\n",
       "      <td>IDRHKD=X</td>\n",
       "      <td>印尼盾/港元</td>\n",
       "      <td>0.0005</td>\n",
       "      <td>-0.0000</td>\n",
       "      <td>-0.25%</td>\n",
       "      <td>NaN</td>\n",
       "      <td>NaN</td>\n",
       "    </tr>\n",
       "    <tr>\n",
       "      <th>15</th>\n",
       "      <td>MOPHKD=X</td>\n",
       "      <td>澳門元/港元</td>\n",
       "      <td>0.9705</td>\n",
       "      <td>0.0001</td>\n",
       "      <td>+0.01%</td>\n",
       "      <td>NaN</td>\n",
       "      <td>NaN</td>\n",
       "    </tr>\n",
       "    <tr>\n",
       "      <th>16</th>\n",
       "      <td>CNY=X</td>\n",
       "      <td>美元/人民幣</td>\n",
       "      <td>6.3251</td>\n",
       "      <td>-0.0132</td>\n",
       "      <td>-0.21%</td>\n",
       "      <td>NaN</td>\n",
       "      <td>NaN</td>\n",
       "    </tr>\n",
       "    <tr>\n",
       "      <th>17</th>\n",
       "      <td>EURUSD=X</td>\n",
       "      <td>美元/歐元</td>\n",
       "      <td>1.1326</td>\n",
       "      <td>-0.0039</td>\n",
       "      <td>-0.34%</td>\n",
       "      <td>NaN</td>\n",
       "      <td>NaN</td>\n",
       "    </tr>\n",
       "    <tr>\n",
       "      <th>18</th>\n",
       "      <td>GBPUSD=X</td>\n",
       "      <td>美元/英鎊</td>\n",
       "      <td>1.3591</td>\n",
       "      <td>-0.0025</td>\n",
       "      <td>-0.18%</td>\n",
       "      <td>NaN</td>\n",
       "      <td>NaN</td>\n",
       "    </tr>\n",
       "    <tr>\n",
       "      <th>19</th>\n",
       "      <td>JPY=X</td>\n",
       "      <td>美元/日圓</td>\n",
       "      <td>115.0500</td>\n",
       "      <td>0.1210</td>\n",
       "      <td>+0.11%</td>\n",
       "      <td>NaN</td>\n",
       "      <td>NaN</td>\n",
       "    </tr>\n",
       "    <tr>\n",
       "      <th>20</th>\n",
       "      <td>CHF=X</td>\n",
       "      <td>美元/瑞士法郎</td>\n",
       "      <td>0.9210</td>\n",
       "      <td>0.0011</td>\n",
       "      <td>+0.12%</td>\n",
       "      <td>NaN</td>\n",
       "      <td>NaN</td>\n",
       "    </tr>\n",
       "    <tr>\n",
       "      <th>21</th>\n",
       "      <td>AUDUSD=X</td>\n",
       "      <td>美元/澳元</td>\n",
       "      <td>0.7182</td>\n",
       "      <td>-0.0006</td>\n",
       "      <td>-0.08%</td>\n",
       "      <td>NaN</td>\n",
       "      <td>NaN</td>\n",
       "    </tr>\n",
       "    <tr>\n",
       "      <th>22</th>\n",
       "      <td>NZDUSD=X</td>\n",
       "      <td>美元/紐元</td>\n",
       "      <td>0.6704</td>\n",
       "      <td>0.0011</td>\n",
       "      <td>+0.16%</td>\n",
       "      <td>NaN</td>\n",
       "      <td>NaN</td>\n",
       "    </tr>\n",
       "    <tr>\n",
       "      <th>23</th>\n",
       "      <td>CAD=X</td>\n",
       "      <td>美元/加元</td>\n",
       "      <td>1.2750</td>\n",
       "      <td>0.0044</td>\n",
       "      <td>+0.35%</td>\n",
       "      <td>NaN</td>\n",
       "      <td>NaN</td>\n",
       "    </tr>\n",
       "    <tr>\n",
       "      <th>24</th>\n",
       "      <td>EURGBP=X</td>\n",
       "      <td>歐元/英鎊</td>\n",
       "      <td>0.8329</td>\n",
       "      <td>-0.0013</td>\n",
       "      <td>-0.16%</td>\n",
       "      <td>NaN</td>\n",
       "      <td>NaN</td>\n",
       "    </tr>\n",
       "    <tr>\n",
       "      <th>25</th>\n",
       "      <td>EURCHF=X</td>\n",
       "      <td>歐元/瑞士法郎</td>\n",
       "      <td>1.0426</td>\n",
       "      <td>-0.0024</td>\n",
       "      <td>-0.23%</td>\n",
       "      <td>NaN</td>\n",
       "      <td>NaN</td>\n",
       "    </tr>\n",
       "  </tbody>\n",
       "</table>\n",
       "</div>"
      ],
      "text/plain": [
       "          代號       名稱       收市價      變化    % 變化  52 週範圍  日圖表\n",
       "0      HKD=X    美元/港元    7.7999  0.0007  +0.01%     NaN  NaN\n",
       "1   HKDCNY=X   港元/人民幣    0.8104 -0.0018  -0.22%     NaN  NaN\n",
       "2   EURHKD=X    歐元/港元    8.8303 -0.0309  -0.35%     NaN  NaN\n",
       "3   GBPHKD=X    英鎊/港元   10.5990 -0.0190  -0.18%     NaN  NaN\n",
       "4   JPYHKD=X    日圓/港元    0.0676 -0.0000  -0.04%     NaN  NaN\n",
       "5   AUDHKD=X    澳元/港元    5.5933 -0.0102  -0.18%     NaN  NaN\n",
       "6   NZDHKD=X    紐元/港元    5.2257  0.0083  +0.16%     NaN  NaN\n",
       "7   CADHKD=X    加元/港元    6.1162 -0.0200  -0.33%     NaN  NaN\n",
       "8   HKDTWD=X   港元/新台幣    3.5751 -0.0013  -0.04%     NaN  NaN\n",
       "9   HKDTHB=X    港元/泰銖    4.1246  0.0088  +0.21%     NaN  NaN\n",
       "10  KRWHKD=X    韓圜/港元    0.0065  0.0000  +0.15%     NaN  NaN\n",
       "11  SGDHKD=X  新加坡元/港元    5.7939 -0.0104  -0.18%     NaN  NaN\n",
       "12  CHFHKD=X  瑞士法郎/港元    8.4685 -0.0069  -0.08%     NaN  NaN\n",
       "13  VNDHKD=X   越南盾/港元    0.0003 -0.0000  -0.14%     NaN  NaN\n",
       "14  IDRHKD=X   印尼盾/港元    0.0005 -0.0000  -0.25%     NaN  NaN\n",
       "15  MOPHKD=X   澳門元/港元    0.9705  0.0001  +0.01%     NaN  NaN\n",
       "16     CNY=X   美元/人民幣    6.3251 -0.0132  -0.21%     NaN  NaN\n",
       "17  EURUSD=X    美元/歐元    1.1326 -0.0039  -0.34%     NaN  NaN\n",
       "18  GBPUSD=X    美元/英鎊    1.3591 -0.0025  -0.18%     NaN  NaN\n",
       "19     JPY=X    美元/日圓  115.0500  0.1210  +0.11%     NaN  NaN\n",
       "20     CHF=X  美元/瑞士法郎    0.9210  0.0011  +0.12%     NaN  NaN\n",
       "21  AUDUSD=X    美元/澳元    0.7182 -0.0006  -0.08%     NaN  NaN\n",
       "22  NZDUSD=X    美元/紐元    0.6704  0.0011  +0.16%     NaN  NaN\n",
       "23     CAD=X    美元/加元    1.2750  0.0044  +0.35%     NaN  NaN\n",
       "24  EURGBP=X    歐元/英鎊    0.8329 -0.0013  -0.16%     NaN  NaN\n",
       "25  EURCHF=X  歐元/瑞士法郎    1.0426 -0.0024  -0.23%     NaN  NaN"
      ]
     },
     "execution_count": 8,
     "metadata": {},
     "output_type": "execute_result"
    }
   ],
   "source": [
    "url3 = 'https://hk.finance.yahoo.com/currencies'\n",
    "raw_html_tbl3 = pd.read_html(url3)\n",
    "raw_html_tbl3[0]"
   ]
  },
  {
   "cell_type": "code",
   "execution_count": null,
   "metadata": {},
   "outputs": [],
   "source": []
  },
  {
   "cell_type": "markdown",
   "metadata": {},
   "source": [
    "# JSON Data is more dependable than reading HTML \n",
    "\n",
    "- Reading HTML is not always practical. \n",
    "- Many website implements data protections to prevent data grabbing\n",
    "- Modern web application generates web content on the fly when the page is loading.  (The HTML page are empty at the begining of loading while progressively loading data by JavaScript)"
   ]
  },
  {
   "cell_type": "markdown",
   "metadata": {},
   "source": [
    "\n",
    "# `requests` - the python addon to get data by HTTP\n",
    "\n",
    "**Import before you use it**\n",
    "\n",
    "```\n",
    "import requests\n",
    "```\n",
    "\n",
    "Provide a web page link that you want to fetch data from\n",
    "\n",
    "```\n",
    "r = requests.get('https://data.weather.gov.hk/weatherAPI/opendata/weather.php?dataType=fnd&lang=tc') # retrieving live weather data\n",
    "r\n",
    "r.status_code\n",
    "r.headers\n",
    "r.headers['content-type']\n",
    "r.encoding\n",
    "r.text\n",
    "r.json()\n",
    "```\n",
    "To run a CELL\n",
    "- Press `▶ Run` Button\n",
    "- HOLD `SHIFT` + PRESS ```ENTER```"
   ]
  },
  {
   "cell_type": "code",
   "execution_count": null,
   "metadata": {},
   "outputs": [],
   "source": [
    "import requests"
   ]
  },
  {
   "cell_type": "code",
   "execution_count": null,
   "metadata": {},
   "outputs": [],
   "source": [
    "r = requests.get('https://data.weather.gov.hk/weatherAPI/opendata/weather.php?dataType=fnd&lang=tc')"
   ]
  },
  {
   "cell_type": "code",
   "execution_count": null,
   "metadata": {},
   "outputs": [],
   "source": [
    "r.headers"
   ]
  },
  {
   "cell_type": "code",
   "execution_count": null,
   "metadata": {},
   "outputs": [],
   "source": [
    "r.status_code"
   ]
  },
  {
   "cell_type": "code",
   "execution_count": null,
   "metadata": {},
   "outputs": [],
   "source": [
    "r.headers['content-type']"
   ]
  },
  {
   "cell_type": "code",
   "execution_count": null,
   "metadata": {},
   "outputs": [],
   "source": [
    "r.encoding"
   ]
  },
  {
   "cell_type": "code",
   "execution_count": null,
   "metadata": {},
   "outputs": [],
   "source": [
    "r.text"
   ]
  },
  {
   "cell_type": "code",
   "execution_count": null,
   "metadata": {},
   "outputs": [],
   "source": [
    "r.json()"
   ]
  },
  {
   "cell_type": "markdown",
   "metadata": {},
   "source": [
    "# Retrieving JSON Data\n",
    "Example commands to retrieve JSON data\n",
    "```\n",
    "r.json()\n",
    "r.json()['generalSituation']\n",
    "r.json()['weatherForecast'][0]\n",
    "r.json()['weatherForecast'][0]['week']\n",
    "r.json()['weatherForecast'][0]['forecastWeather']\n",
    "print(r.json()['weatherForecast'][0]['week'],\n",
    "      ' | ',\n",
    "      r.json()['weatherForecast'][0]['forecastMintemp']['value'],\n",
    "      r.json()['weatherForecast'][0]['forecastMintemp']['unit'],\n",
    "      ' | ',\n",
    "      r.json()['weatherForecast'][0]['forecastWeather']\n",
    "     )\n",
    "```"
   ]
  },
  {
   "cell_type": "code",
   "execution_count": null,
   "metadata": {},
   "outputs": [],
   "source": [
    "r.json()"
   ]
  },
  {
   "cell_type": "code",
   "execution_count": null,
   "metadata": {},
   "outputs": [],
   "source": [
    "r.json()['generalSituation']"
   ]
  },
  {
   "cell_type": "code",
   "execution_count": null,
   "metadata": {},
   "outputs": [],
   "source": [
    "r.json()['weatherForecast'][0]"
   ]
  },
  {
   "cell_type": "code",
   "execution_count": null,
   "metadata": {},
   "outputs": [],
   "source": [
    "r.json()['weatherForecast'][0]['week']"
   ]
  },
  {
   "cell_type": "code",
   "execution_count": null,
   "metadata": {},
   "outputs": [],
   "source": [
    "r.json()['weatherForecast'][0]['forecastWeather']"
   ]
  },
  {
   "cell_type": "code",
   "execution_count": null,
   "metadata": {},
   "outputs": [],
   "source": [
    "print(r.json()['weatherForecast'][0]['week'],\n",
    "      ' | ',\n",
    "      r.json()['weatherForecast'][0]['forecastMintemp']['value'],\n",
    "      r.json()['weatherForecast'][0]['forecastMintemp']['unit'],\n",
    "      ' | ',\n",
    "      r.json()['weatherForecast'][0]['forecastWeather']\n",
    "     )"
   ]
  },
  {
   "cell_type": "markdown",
   "metadata": {},
   "source": [
    "# Simple HTML Extracting\n",
    "\n",
    "Import `BeautifulSoup` before you use it\n",
    "\n",
    "```\n",
    "from bs4 import BeautifulSoup\n",
    "```\n"
   ]
  },
  {
   "cell_type": "code",
   "execution_count": null,
   "metadata": {},
   "outputs": [],
   "source": [
    "from bs4 import BeautifulSoup"
   ]
  },
  {
   "cell_type": "markdown",
   "metadata": {},
   "source": [
    "# Dummy HTML Texts\n",
    "\n",
    "Declare the following HTML documents\n",
    "\n",
    "```\n",
    "html_doc = \"\"\"\n",
    "<html><head><title>The Dormouse's story</title></head>\n",
    "<body>\n",
    "<b>Sample HTML Contents</b>\n",
    "<p class=\"title purple\"><b>The Dormouse's story</b></p>\n",
    "\n",
    "<p class=\"story\">Once upon a time there were three little sisters; and their names were\n",
    "<a href=\"http://example.com/elsie\" class=\"sister purple\" id=\"link1\">Elsie</a>,\n",
    "<a href=\"http://example.com/lacie\" class=\"sister\" id=\"link2\">Lacie</a> and\n",
    "<a href=\"http://example.com/tillie\" class=\"sister\" id=\"link3\">Tillie (<b>Important</b>)</a>;\n",
    "and they lived at the bottom of a well.</p>\n",
    "\n",
    "<p class=\"story\">a paragraph ... </p>\n",
    "</body>\n",
    "</html>\n",
    "\"\"\"\n",
    "````"
   ]
  },
  {
   "cell_type": "code",
   "execution_count": null,
   "metadata": {},
   "outputs": [],
   "source": [
    "html_doc = \"\"\"\n",
    "<html><head><title>The Dormouse's story</title></head>\n",
    "<body>\n",
    "<b>Sample HTML Contents</b>\n",
    "<p class=\"title purple\"><b>The Dormouse's story</b></p>\n",
    "\n",
    "<p class=\"story\">Once upon a time there were three little sisters; and their names were\n",
    "<a href=\"http://example.com/elsie\" class=\"sister purple\" id=\"link1\">Elsie</a>,\n",
    "<a href=\"http://example.com/lacie\" class=\"sister\" id=\"link2\">Lacie</a> and\n",
    "<a href=\"http://example.com/tillie\" class=\"sister\" id=\"link3\">Tillie</a>;\n",
    "and they lived at the bottom of a well.</p>\n",
    "\n",
    "<p class=\"story\">a paragraph ... </p>\n",
    "</body>\n",
    "</html>\n",
    "\"\"\""
   ]
  },
  {
   "cell_type": "code",
   "execution_count": null,
   "metadata": {},
   "outputs": [],
   "source": [
    "soup = BeautifulSoup(html_doc, 'html.parser')"
   ]
  },
  {
   "cell_type": "code",
   "execution_count": null,
   "metadata": {},
   "outputs": [],
   "source": [
    "soup"
   ]
  },
  {
   "cell_type": "code",
   "execution_count": null,
   "metadata": {},
   "outputs": [],
   "source": [
    "type(soup)"
   ]
  },
  {
   "cell_type": "markdown",
   "metadata": {},
   "source": [
    "# call `prettify()` function to show neat HTML codes\n",
    "The following command will display a neat output\n",
    "```\n",
    "print(soup.prettify())\n",
    "```"
   ]
  },
  {
   "cell_type": "code",
   "execution_count": null,
   "metadata": {},
   "outputs": [],
   "source": [
    "print(soup.prettify())"
   ]
  },
  {
   "cell_type": "markdown",
   "metadata": {},
   "source": [
    "# Use `find()` to retrieve a child elements\n",
    "Examples:\n",
    "```\n",
    "soup.find('html')\n",
    "soup.find('head')\n",
    "soup.find('title')\n",
    "soup.find('body')\n",
    "soup.find('p')\n",
    "p = soup.find('p')\n",
    "type(p)\n",
    "b = p.find('b')\n",
    "type(b)\n",
    "```\n",
    "`find()` _function will only return ONE SINGLE element even if there are multiple matched_"
   ]
  },
  {
   "cell_type": "code",
   "execution_count": null,
   "metadata": {},
   "outputs": [],
   "source": []
  },
  {
   "cell_type": "markdown",
   "metadata": {},
   "source": [
    "# Use dot  `.` as short hand\n",
    "To retrieve the `<title>` tag\n",
    "```\n",
    "soup.title\n",
    "```\n",
    "Other examples\n",
    "```\n",
    "soup.html\n",
    "soup.head\n",
    "soup.body\n",
    "title_tag = soup.title \n",
    "print(title_tag.name)\n",
    "print(title_tag.string)\n",
    "print(title_tag.text)\n",
    "```\n",
    "\n",
    "To retrieve the title text only\n"
   ]
  },
  {
   "cell_type": "code",
   "execution_count": null,
   "metadata": {},
   "outputs": [],
   "source": [
    "title_tag = soup.title"
   ]
  },
  {
   "cell_type": "code",
   "execution_count": null,
   "metadata": {},
   "outputs": [],
   "source": [
    "title_tag"
   ]
  },
  {
   "cell_type": "code",
   "execution_count": null,
   "metadata": {},
   "outputs": [],
   "source": [
    "type(title_tag)"
   ]
  },
  {
   "cell_type": "code",
   "execution_count": null,
   "metadata": {},
   "outputs": [],
   "source": [
    "title_tag.name"
   ]
  },
  {
   "cell_type": "code",
   "execution_count": null,
   "metadata": {
    "scrolled": true
   },
   "outputs": [],
   "source": [
    "title_tag.string"
   ]
  },
  {
   "cell_type": "code",
   "execution_count": null,
   "metadata": {},
   "outputs": [],
   "source": [
    "title_tag.text"
   ]
  },
  {
   "cell_type": "code",
   "execution_count": null,
   "metadata": {},
   "outputs": [],
   "source": [
    "type(title_tag.string)"
   ]
  },
  {
   "cell_type": "code",
   "execution_count": null,
   "metadata": {},
   "outputs": [],
   "source": [
    "type(title_tag.text)"
   ]
  },
  {
   "cell_type": "markdown",
   "metadata": {},
   "source": [
    "# Get the parent tag\n",
    "`.parent` gives the parent tag of current tag\n",
    "```\n",
    "title_tag.parent\n",
    "title_tag.parent.name\n",
    "title_tag.parent.string\n",
    "```"
   ]
  },
  {
   "cell_type": "code",
   "execution_count": null,
   "metadata": {},
   "outputs": [],
   "source": [
    "title_tag.parent"
   ]
  },
  {
   "cell_type": "code",
   "execution_count": null,
   "metadata": {},
   "outputs": [],
   "source": [
    "title_tag.parent.name"
   ]
  },
  {
   "cell_type": "code",
   "execution_count": null,
   "metadata": {},
   "outputs": [],
   "source": [
    "title_tag.parent.string"
   ]
  },
  {
   "cell_type": "markdown",
   "metadata": {},
   "source": [
    "# Extracting the attributes of a tag\n",
    "Showing attribute\n",
    "```\n",
    "a_tag = soup.a\n",
    "a_tag\n",
    "a_tag[\"class\"]\n",
    "a_tag[\"href\"]\n",
    "a_tag[\"id\"]\n",
    "a_tag.attrs # show all the attributes of a tag\n",
    "```\n",
    "a_tag.attrs\n",
    "Showing all attributes\n",
    "```\n",
    "\n",
    "```"
   ]
  },
  {
   "cell_type": "code",
   "execution_count": null,
   "metadata": {},
   "outputs": [],
   "source": [
    "a_tag = soup.a"
   ]
  },
  {
   "cell_type": "code",
   "execution_count": null,
   "metadata": {},
   "outputs": [],
   "source": [
    "a_tag"
   ]
  },
  {
   "cell_type": "code",
   "execution_count": null,
   "metadata": {},
   "outputs": [],
   "source": [
    "a_tag[\"id\"]"
   ]
  },
  {
   "cell_type": "code",
   "execution_count": null,
   "metadata": {},
   "outputs": [],
   "source": [
    "a_tag.attrs"
   ]
  },
  {
   "cell_type": "markdown",
   "metadata": {},
   "source": [
    "# Find all the matching tags, use `find_all()`\n",
    "`find_all()` function will return all the matching tags in the form of array\n",
    "Example:\n",
    "```\n",
    "soup.find_all('a')\n",
    "links = soup.find_all('a')\n",
    "print(links)\n",
    "type(links)\n",
    "links[0]\n",
    "links[1]\n",
    "links[0][\"href\"]\n",
    "```\n"
   ]
  },
  {
   "cell_type": "code",
   "execution_count": null,
   "metadata": {},
   "outputs": [],
   "source": [
    "soup.find_all('a')"
   ]
  },
  {
   "cell_type": "code",
   "execution_count": null,
   "metadata": {},
   "outputs": [],
   "source": [
    "links = soup.find_all('a')"
   ]
  },
  {
   "cell_type": "code",
   "execution_count": null,
   "metadata": {},
   "outputs": [],
   "source": [
    "links"
   ]
  },
  {
   "cell_type": "code",
   "execution_count": null,
   "metadata": {},
   "outputs": [],
   "source": [
    "type(links)"
   ]
  },
  {
   "cell_type": "code",
   "execution_count": null,
   "metadata": {},
   "outputs": [],
   "source": [
    "links[0]"
   ]
  },
  {
   "cell_type": "code",
   "execution_count": null,
   "metadata": {},
   "outputs": [],
   "source": [
    "links[1]"
   ]
  },
  {
   "cell_type": "code",
   "execution_count": null,
   "metadata": {},
   "outputs": [],
   "source": [
    "links[0][\"href\"]"
   ]
  },
  {
   "cell_type": "markdown",
   "metadata": {},
   "source": [
    "# Retrieving by css class name\n",
    "Examples:\n",
    "```\n",
    "soup.find(class_='sister')\n",
    "soup.find_all(class_='sister') # returns all tags with sister css class\n",
    "soup.find_all('a', class_='purple') # returns the `<a>` tag with css class purple\n",
    "soup.find_all('p', class_='purple') # returns the `<p>` tag with css class purple\n",
    "\n",
    "```"
   ]
  },
  {
   "cell_type": "code",
   "execution_count": null,
   "metadata": {},
   "outputs": [],
   "source": [
    "soup.find_all(class_='sister')"
   ]
  },
  {
   "cell_type": "code",
   "execution_count": null,
   "metadata": {},
   "outputs": [],
   "source": [
    "soup.find_all('a', class_='purple') "
   ]
  },
  {
   "cell_type": "code",
   "execution_count": null,
   "metadata": {},
   "outputs": [],
   "source": [
    "soup.find_all('p', class_='purple') "
   ]
  },
  {
   "cell_type": "markdown",
   "metadata": {},
   "source": [
    "# Limit the number in search result\n",
    "Example\n",
    "```\n",
    "soup.find_all('a')\n",
    "soup.find_all('a', limit=2) # set the limit return to 2\n",
    "\n",
    "```"
   ]
  },
  {
   "cell_type": "code",
   "execution_count": null,
   "metadata": {},
   "outputs": [],
   "source": [
    "soup.find_all('a', limit=2)"
   ]
  },
  {
   "cell_type": "markdown",
   "metadata": {},
   "source": [
    "# Retrieving by HTML `id`\n",
    "Examples:\n",
    "```\n",
    "soup.find(id='link1')\n",
    "```\n",
    "\n",
    "**Note**:\n",
    "- id is a unique value. So you should expecting only one matched tag.  \n",
    "- However there could be exception as it's quite common that HMTL codes are buggy and messy."
   ]
  },
  {
   "cell_type": "code",
   "execution_count": null,
   "metadata": {},
   "outputs": [],
   "source": [
    "soup.find(id='link1')"
   ]
  },
  {
   "cell_type": "markdown",
   "metadata": {},
   "source": [
    "# Advanced CSS Selectors\n",
    "If you are experienced with CSS coding, you will be familiar with the following coding styles\n",
    "```\n",
    "soup.select('body b')\n",
    "soup.select('p b')\n",
    "soup.select('body>b')\n",
    "soup.select('body>p>b')\n",
    "```"
   ]
  },
  {
   "cell_type": "code",
   "execution_count": null,
   "metadata": {},
   "outputs": [],
   "source": [
    "soup.select('body b')"
   ]
  },
  {
   "cell_type": "code",
   "execution_count": null,
   "metadata": {},
   "outputs": [],
   "source": []
  },
  {
   "cell_type": "code",
   "execution_count": null,
   "metadata": {},
   "outputs": [],
   "source": []
  },
  {
   "cell_type": "code",
   "execution_count": null,
   "metadata": {},
   "outputs": [],
   "source": []
  },
  {
   "cell_type": "markdown",
   "metadata": {},
   "source": [
    "# Practical Session\n",
    "#### Use requests and BeautifulSoup together\n",
    "BeautifulSoup is NOT a HTTP client, we have to use `requests` to retrieve HTML codes from an actual webiste\n",
    "\n",
    "**Required imports**:\n",
    "```\n",
    "import requests\n",
    "from bs4 import BeautifulSoup\n",
    "```"
   ]
  },
  {
   "cell_type": "code",
   "execution_count": null,
   "metadata": {},
   "outputs": [],
   "source": [
    "import requests\n",
    "from bs4 import BeautifulSoup"
   ]
  },
  {
   "cell_type": "markdown",
   "metadata": {},
   "source": [
    "### Declaring url to retrieve\n",
    "```\n",
    "url = \"https://stock360.hkej.com/marketWatch/Top20/topGainers\"\n",
    "webpage_request = requests.get(url)\n",
    "soup = BeautifulSoup(webpage_request.content, 'html.parser')\n",
    "```"
   ]
  },
  {
   "cell_type": "code",
   "execution_count": null,
   "metadata": {},
   "outputs": [],
   "source": [
    "url = \"https://stock360.hkej.com/marketWatch/Top20/topGainers\"\n",
    "webpage_request = requests.get(url)\n",
    "soup = BeautifulSoup(webpage_request.content, 'html.parser')"
   ]
  },
  {
   "cell_type": "code",
   "execution_count": null,
   "metadata": {},
   "outputs": [],
   "source": []
  },
  {
   "cell_type": "code",
   "execution_count": null,
   "metadata": {},
   "outputs": [],
   "source": []
  },
  {
   "cell_type": "markdown",
   "metadata": {},
   "source": [
    "### Use `find()` to retrieve top stock rows\n",
    "```\n",
    "top_stocks_table = soup.find(class_='dt640')\n",
    "print(type(top_stocks_table))\n",
    "stock_rows = top_stocks_table.find_all(\"tr\")\n",
    "print(len(stock_rows))\n",
    "print(stock_rows[0])\n",
    "print(stock_rows[1])\n",
    "print(stock_rows[2])\n",
    "print(stock_rows[3])\n",
    "\n",
    "```"
   ]
  },
  {
   "cell_type": "code",
   "execution_count": null,
   "metadata": {},
   "outputs": [],
   "source": []
  },
  {
   "cell_type": "code",
   "execution_count": null,
   "metadata": {},
   "outputs": [],
   "source": []
  },
  {
   "cell_type": "code",
   "execution_count": null,
   "metadata": {},
   "outputs": [],
   "source": []
  },
  {
   "cell_type": "markdown",
   "metadata": {},
   "source": [
    "### Looping the top stock rows\n",
    "```\n",
    "for i in range(2, len(stock_rows)):\n",
    "    stock = stock_rows[i]\n",
    "    code = stock.find(class_='code')\n",
    "    name = stock.find(class_='name')\n",
    "    print(f'{code}\\t{name}')\n",
    "    #print(f'{code.string}\\t{name.string}')\n",
    "```"
   ]
  },
  {
   "cell_type": "code",
   "execution_count": null,
   "metadata": {},
   "outputs": [],
   "source": [
    "for i in range(2, len(stock_rows)):\n",
    "    stock = stock_rows[i]\n",
    "    code = stock.find(class_='code')\n",
    "    name = stock.find(class_='name')\n",
    "    print(f'{code}\\t{name}')\n",
    "    #print(f'{code.string}\\t{name.string}')\n"
   ]
  },
  {
   "cell_type": "markdown",
   "metadata": {},
   "source": [
    "### Retrieving more stock columns\n",
    "```\n",
    "for i in range(2, len(stock_rows)):\n",
    "    stock = stock_rows[i]\n",
    "    code = stock.find(class_='code')\n",
    "    name = stock.find(class_='name')\n",
    "    latest = stock.find(class_='latest')\n",
    "    change = stock.find(class_='change')\n",
    "    change_p = stock.find(class_='change_p')\n",
    "    volumn = stock.find(class_='volumn')\n",
    "    turnover = stock.find(class_='turnover')\n",
    "    market_cap = stock.find(class_='marketCap')    \n",
    "    print(f'{code.string}\\t{name.string}\\t{latest.string}\\t{change_p.text}')\n",
    "```"
   ]
  },
  {
   "cell_type": "code",
   "execution_count": null,
   "metadata": {},
   "outputs": [],
   "source": [
    "for i in range(2, len(stock_rows)):\n",
    "    stock = stock_rows[i]\n",
    "    code = stock.find(class_='code')\n",
    "    name = stock.find(class_='name')\n",
    "    latest = stock.find(class_='latest')\n",
    "    change = stock.find(class_='change')\n",
    "    change_p = stock.find(class_='change_p')\n",
    "    volumn = stock.find(class_='volumn')\n",
    "    turnover = stock.find(class_='turnover')\n",
    "    market_cap = stock.find(class_='marketCap')    \n",
    "    print(f'{code.string}\\t{name.string}\\t{latest.string}\\t{change_p.text}')\n"
   ]
  },
  {
   "cell_type": "code",
   "execution_count": null,
   "metadata": {},
   "outputs": [],
   "source": []
  },
  {
   "cell_type": "markdown",
   "metadata": {},
   "source": [
    "# Run the complete python script\n",
    "There is a complete python script named `get_active_stock.py` in the script folder of the downloaded folder\n",
    "\n",
    "**To run the script**:\n",
    "- Open the command line window / Terminal\n",
    "- Type in command: `python3 get_active_stock.py`"
   ]
  },
  {
   "cell_type": "code",
   "execution_count": null,
   "metadata": {},
   "outputs": [],
   "source": []
  }
 ],
 "metadata": {
  "kernelspec": {
   "display_name": "Python 3 (ipykernel)",
   "language": "python",
   "name": "python3"
  },
  "language_info": {
   "codemirror_mode": {
    "name": "ipython",
    "version": 3
   },
   "file_extension": ".py",
   "mimetype": "text/x-python",
   "name": "python",
   "nbconvert_exporter": "python",
   "pygments_lexer": "ipython3",
   "version": "3.8.5"
  }
 },
 "nbformat": 4,
 "nbformat_minor": 4
}
