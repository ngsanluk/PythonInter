{
 "cells": [
  {
   "cell_type": "markdown",
   "metadata": {},
   "source": [
    "# Using Pandas\n",
    "- `pandas` is a fast, powerful, flexible and easy to use open source data analysis and manipulation tool\n",
    "- `pandas` is built on top of `numpy` and therefore quite often used together with `numpy`\n"
   ]
  },
  {
   "cell_type": "code",
   "execution_count": 3,
   "metadata": {},
   "outputs": [],
   "source": [
    "import numpy as np\n",
    "import pandas as pd"
   ]
  },
  {
   "cell_type": "markdown",
   "metadata": {},
   "source": [
    "# Check your Pandas version\n",
    "Syntax:\n",
    "```\n",
    "print(pd.__version__)\n",
    "```"
   ]
  },
  {
   "cell_type": "code",
   "execution_count": 229,
   "metadata": {},
   "outputs": [
    {
     "name": "stdout",
     "output_type": "stream",
     "text": [
      "1.1.5\n"
     ]
    }
   ],
   "source": [
    "print(pd.__version__)"
   ]
  },
  {
   "cell_type": "markdown",
   "metadata": {},
   "source": [
    "# Some numpy handy functions\n",
    "\n",
    "**Createing array**\n",
    "\n",
    "instead of typing `l = ['A', 'B', 'C', 'D', 'E']`\n",
    "```\n",
    "l = list('ABCDE')\n",
    "l = 'A B C D E'.split()\n",
    "```\n",
    "\n",
    "**Generates a range of dates**:\n",
    "```\n",
    "dates = pd.date_range('20210101', periods=7) \n",
    "type(dates) # returns pandas.core.indexes.datetimes.DatetimeIndex\n",
    "```"
   ]
  },
  {
   "cell_type": "code",
   "execution_count": 235,
   "metadata": {},
   "outputs": [],
   "source": [
    "dates = pd.date_range('20210101', periods=7) "
   ]
  },
  {
   "cell_type": "code",
   "execution_count": 65,
   "metadata": {},
   "outputs": [
    {
     "data": {
      "text/plain": [
       "['A', 'B', 'C', 'D', 'E']"
      ]
     },
     "execution_count": 65,
     "metadata": {},
     "output_type": "execute_result"
    }
   ],
   "source": [
    "list('ABCDE')"
   ]
  },
  {
   "cell_type": "code",
   "execution_count": 66,
   "metadata": {},
   "outputs": [
    {
     "data": {
      "text/plain": [
       "['A', 'B', 'C', 'D', 'E']"
      ]
     },
     "execution_count": 66,
     "metadata": {},
     "output_type": "execute_result"
    }
   ],
   "source": [
    "'A B C D E'.split()"
   ]
  },
  {
   "cell_type": "code",
   "execution_count": 236,
   "metadata": {
    "scrolled": true
   },
   "outputs": [
    {
     "data": {
      "text/plain": [
       "DatetimeIndex(['2021-01-01', '2021-01-02', '2021-01-03', '2021-01-04',\n",
       "               '2021-01-05', '2021-01-06', '2021-01-07'],\n",
       "              dtype='datetime64[ns]', freq='D')"
      ]
     },
     "execution_count": 236,
     "metadata": {},
     "output_type": "execute_result"
    }
   ],
   "source": [
    "dates"
   ]
  },
  {
   "cell_type": "code",
   "execution_count": 64,
   "metadata": {},
   "outputs": [
    {
     "data": {
      "text/plain": [
       "pandas.core.indexes.datetimes.DatetimeIndex"
      ]
     },
     "execution_count": 64,
     "metadata": {},
     "output_type": "execute_result"
    }
   ],
   "source": [
    "type(dates)"
   ]
  },
  {
   "cell_type": "markdown",
   "metadata": {},
   "source": [
    "# Pandas `DataFrame`\n",
    "A DataFrame is a two dimensional data structure\n",
    "\n",
    "**To declare a dataframe**:\n",
    "```\n",
    "df = pd.DataFrame({\n",
    "    \"Name\": [\"Andy\", \"Ben\", \"Cathy\", \"Debra\"],\n",
    "    \"Age\": [20, 22, 23, 22],\n",
    "    \"Sex\": [\"male\", \"male\", \"female\", \"female\"],\n",
    "    \"Year\": [1, 3, 4, 3]\n",
    "})\n",
    "```\n",
    "\n",
    "**Check the type**\n",
    "```\n",
    "print(type(df)) # it returns pandas.core.frame.DataFrame\n",
    "\n",
    "```\n",
    "**In real applications**\n",
    "- DataFrame are seldom declared by this approach.\n",
    "- Instead, they are imported from external sources\n",
    "- E.g.: csv, excel, json"
   ]
  },
  {
   "cell_type": "code",
   "execution_count": 14,
   "metadata": {},
   "outputs": [],
   "source": [
    "df = pd.DataFrame({\n",
    "    \"Name\": [\"Andy\", \"Ben\", \"Cathy\", \"Debra\"],\n",
    "    \"Age\": [20, 22, 23, 22],\n",
    "    \"Sex\": [\"male\", \"male\", \"female\", \"female\"],\n",
    "    \"Year\": [1, 3, 4, 3]\n",
    "})"
   ]
  },
  {
   "cell_type": "code",
   "execution_count": 15,
   "metadata": {},
   "outputs": [
    {
     "data": {
      "text/html": [
       "<div>\n",
       "<style scoped>\n",
       "    .dataframe tbody tr th:only-of-type {\n",
       "        vertical-align: middle;\n",
       "    }\n",
       "\n",
       "    .dataframe tbody tr th {\n",
       "        vertical-align: top;\n",
       "    }\n",
       "\n",
       "    .dataframe thead th {\n",
       "        text-align: right;\n",
       "    }\n",
       "</style>\n",
       "<table border=\"1\" class=\"dataframe\">\n",
       "  <thead>\n",
       "    <tr style=\"text-align: right;\">\n",
       "      <th></th>\n",
       "      <th>Name</th>\n",
       "      <th>Age</th>\n",
       "      <th>Sex</th>\n",
       "      <th>Year</th>\n",
       "    </tr>\n",
       "  </thead>\n",
       "  <tbody>\n",
       "    <tr>\n",
       "      <th>0</th>\n",
       "      <td>Andy</td>\n",
       "      <td>20</td>\n",
       "      <td>male</td>\n",
       "      <td>1</td>\n",
       "    </tr>\n",
       "    <tr>\n",
       "      <th>1</th>\n",
       "      <td>Ben</td>\n",
       "      <td>22</td>\n",
       "      <td>male</td>\n",
       "      <td>3</td>\n",
       "    </tr>\n",
       "    <tr>\n",
       "      <th>2</th>\n",
       "      <td>Cathy</td>\n",
       "      <td>23</td>\n",
       "      <td>female</td>\n",
       "      <td>4</td>\n",
       "    </tr>\n",
       "    <tr>\n",
       "      <th>3</th>\n",
       "      <td>Debra</td>\n",
       "      <td>22</td>\n",
       "      <td>female</td>\n",
       "      <td>3</td>\n",
       "    </tr>\n",
       "  </tbody>\n",
       "</table>\n",
       "</div>"
      ],
      "text/plain": [
       "    Name  Age     Sex  Year\n",
       "0   Andy   20    male     1\n",
       "1    Ben   22    male     3\n",
       "2  Cathy   23  female     4\n",
       "3  Debra   22  female     3"
      ]
     },
     "execution_count": 15,
     "metadata": {},
     "output_type": "execute_result"
    }
   ],
   "source": [
    "df"
   ]
  },
  {
   "cell_type": "code",
   "execution_count": 48,
   "metadata": {},
   "outputs": [
    {
     "name": "stdout",
     "output_type": "stream",
     "text": [
      "<class 'pandas.core.frame.DataFrame'>\n"
     ]
    }
   ],
   "source": [
    "print(type(df))"
   ]
  },
  {
   "cell_type": "markdown",
   "metadata": {},
   "source": [
    "# DataFrame information\n",
    "```\n",
    "df.shape # return the dimension\n",
    "df.shape[0] # return the number of row\n",
    "df.info()\n",
    "df.describe()\n",
    "```"
   ]
  },
  {
   "cell_type": "code",
   "execution_count": null,
   "metadata": {},
   "outputs": [],
   "source": []
  },
  {
   "cell_type": "markdown",
   "metadata": {},
   "source": [
    "# Retrieving a column\n",
    "Use a `[]` (square bracket) with a column index name (in string) to indicate which column you want to retrieve\n",
    "\n",
    "Example\n",
    "```\n",
    "df['Name']\n",
    "name = df['Name']\n",
    "print(type(name)) # returns pandas.core.series.Series\n",
    "```"
   ]
  },
  {
   "cell_type": "code",
   "execution_count": 35,
   "metadata": {},
   "outputs": [
    {
     "name": "stdout",
     "output_type": "stream",
     "text": [
      "<class 'pandas.core.series.Series'>\n"
     ]
    }
   ],
   "source": [
    "df['Name']\n",
    "name = df['Name']\n",
    "print(type(name))"
   ]
  },
  {
   "cell_type": "markdown",
   "metadata": {},
   "source": [
    "# Retrieving multiple columns\n",
    "Use a `[]` (square bracket) with a column index name (in string) to indicate which column you want to retrieve\n",
    "\n",
    "**Example**\n",
    "```\n",
    "columns = ['Name', 'Year'] # declare the columns you want in a list\n",
    "df[columns] # pass the column list as paramenter to the dataframe\n",
    "df[['Name', 'Year']] # Or simply put the list of column names directly, Note is double squared\n",
    "name_and_year = df[['Name', 'Year']]\n",
    "print(type(name_and_year)) # Returns pandas.core.frame.DataFrame\n",
    "```\n",
    "**Below is a mistake**\n",
    "```\n",
    "name_and_year = df['Name', 'Year']\n",
    "```"
   ]
  },
  {
   "cell_type": "code",
   "execution_count": 62,
   "metadata": {},
   "outputs": [
    {
     "data": {
      "text/html": [
       "<div>\n",
       "<style scoped>\n",
       "    .dataframe tbody tr th:only-of-type {\n",
       "        vertical-align: middle;\n",
       "    }\n",
       "\n",
       "    .dataframe tbody tr th {\n",
       "        vertical-align: top;\n",
       "    }\n",
       "\n",
       "    .dataframe thead th {\n",
       "        text-align: right;\n",
       "    }\n",
       "</style>\n",
       "<table border=\"1\" class=\"dataframe\">\n",
       "  <thead>\n",
       "    <tr style=\"text-align: right;\">\n",
       "      <th></th>\n",
       "      <th>Name</th>\n",
       "      <th>Year</th>\n",
       "    </tr>\n",
       "  </thead>\n",
       "  <tbody>\n",
       "    <tr>\n",
       "      <th>0</th>\n",
       "      <td>Andy</td>\n",
       "      <td>1</td>\n",
       "    </tr>\n",
       "    <tr>\n",
       "      <th>1</th>\n",
       "      <td>Ben</td>\n",
       "      <td>3</td>\n",
       "    </tr>\n",
       "    <tr>\n",
       "      <th>2</th>\n",
       "      <td>Cathy</td>\n",
       "      <td>4</td>\n",
       "    </tr>\n",
       "  </tbody>\n",
       "</table>\n",
       "</div>"
      ],
      "text/plain": [
       "    Name  Year\n",
       "0   Andy     1\n",
       "1    Ben     3\n",
       "2  Cathy     4"
      ]
     },
     "execution_count": 62,
     "metadata": {},
     "output_type": "execute_result"
    }
   ],
   "source": [
    "columns = ['Name', 'Year']\n",
    "df[columns]"
   ]
  },
  {
   "cell_type": "code",
   "execution_count": 53,
   "metadata": {},
   "outputs": [
    {
     "name": "stdout",
     "output_type": "stream",
     "text": [
      "<class 'pandas.core.frame.DataFrame'>\n"
     ]
    }
   ],
   "source": [
    "print(type(name_and_year))"
   ]
  },
  {
   "cell_type": "markdown",
   "metadata": {},
   "source": [
    "# Locating Row\n",
    "Pandas use the loc attribute to return one or more specified row(s)\n",
    "Example:\n",
    "```\n",
    "df.loc[0]\n",
    "df.loc[1]\n",
    "\n",
    "type(df.loc[0]) # returns pandas.core.series.Series\n",
    "```"
   ]
  },
  {
   "cell_type": "code",
   "execution_count": 70,
   "metadata": {},
   "outputs": [
    {
     "data": {
      "text/html": [
       "<div>\n",
       "<style scoped>\n",
       "    .dataframe tbody tr th:only-of-type {\n",
       "        vertical-align: middle;\n",
       "    }\n",
       "\n",
       "    .dataframe tbody tr th {\n",
       "        vertical-align: top;\n",
       "    }\n",
       "\n",
       "    .dataframe thead th {\n",
       "        text-align: right;\n",
       "    }\n",
       "</style>\n",
       "<table border=\"1\" class=\"dataframe\">\n",
       "  <thead>\n",
       "    <tr style=\"text-align: right;\">\n",
       "      <th></th>\n",
       "      <th>Name</th>\n",
       "      <th>Age</th>\n",
       "      <th>Sex</th>\n",
       "      <th>Year</th>\n",
       "    </tr>\n",
       "  </thead>\n",
       "  <tbody>\n",
       "    <tr>\n",
       "      <th>0</th>\n",
       "      <td>Andy</td>\n",
       "      <td>20</td>\n",
       "      <td>male</td>\n",
       "      <td>1</td>\n",
       "    </tr>\n",
       "    <tr>\n",
       "      <th>1</th>\n",
       "      <td>Ben</td>\n",
       "      <td>22</td>\n",
       "      <td>male</td>\n",
       "      <td>3</td>\n",
       "    </tr>\n",
       "    <tr>\n",
       "      <th>2</th>\n",
       "      <td>Cathy</td>\n",
       "      <td>23</td>\n",
       "      <td>female</td>\n",
       "      <td>4</td>\n",
       "    </tr>\n",
       "  </tbody>\n",
       "</table>\n",
       "</div>"
      ],
      "text/plain": [
       "    Name  Age     Sex  Year\n",
       "0   Andy   20    male     1\n",
       "1    Ben   22    male     3\n",
       "2  Cathy   23  female     4"
      ]
     },
     "execution_count": 70,
     "metadata": {},
     "output_type": "execute_result"
    }
   ],
   "source": [
    "df"
   ]
  },
  {
   "cell_type": "code",
   "execution_count": 13,
   "metadata": {
    "scrolled": true
   },
   "outputs": [
    {
     "ename": "NameError",
     "evalue": "name 'df' is not defined",
     "output_type": "error",
     "traceback": [
      "\u001b[0;31m---------------------------------------------------------------------------\u001b[0m",
      "\u001b[0;31mNameError\u001b[0m                                 Traceback (most recent call last)",
      "\u001b[0;32m<ipython-input-13-7eaf75073732>\u001b[0m in \u001b[0;36m<module>\u001b[0;34m\u001b[0m\n\u001b[0;32m----> 1\u001b[0;31m \u001b[0mdf\u001b[0m\u001b[0;34m.\u001b[0m\u001b[0mloc\u001b[0m\u001b[0;34m[\u001b[0m\u001b[0;36m0\u001b[0m\u001b[0;34m]\u001b[0m\u001b[0;34m\u001b[0m\u001b[0;34m\u001b[0m\u001b[0m\n\u001b[0m",
      "\u001b[0;31mNameError\u001b[0m: name 'df' is not defined"
     ]
    }
   ],
   "source": [
    "df.loc[0]"
   ]
  },
  {
   "cell_type": "code",
   "execution_count": 72,
   "metadata": {},
   "outputs": [
    {
     "data": {
      "text/plain": [
       "pandas.core.series.Series"
      ]
     },
     "execution_count": 72,
     "metadata": {},
     "output_type": "execute_result"
    }
   ],
   "source": [
    "type(df.loc[1])|"
   ]
  },
  {
   "cell_type": "markdown",
   "metadata": {},
   "source": [
    "# Locating Multiple Rows\n",
    "Provide a list of row number: `[0, 2]`\n",
    "\n",
    "Example:\n",
    "```\n",
    "df.loc[[0, 2]]\n",
    "```\n",
    "**Mistake**:\n",
    "```\n",
    "df.loc[0, 2]\n",
    "```\n"
   ]
  },
  {
   "cell_type": "code",
   "execution_count": 18,
   "metadata": {},
   "outputs": [
    {
     "data": {
      "text/html": [
       "<div>\n",
       "<style scoped>\n",
       "    .dataframe tbody tr th:only-of-type {\n",
       "        vertical-align: middle;\n",
       "    }\n",
       "\n",
       "    .dataframe tbody tr th {\n",
       "        vertical-align: top;\n",
       "    }\n",
       "\n",
       "    .dataframe thead th {\n",
       "        text-align: right;\n",
       "    }\n",
       "</style>\n",
       "<table border=\"1\" class=\"dataframe\">\n",
       "  <thead>\n",
       "    <tr style=\"text-align: right;\">\n",
       "      <th></th>\n",
       "      <th>Name</th>\n",
       "      <th>Age</th>\n",
       "      <th>Sex</th>\n",
       "      <th>Year</th>\n",
       "    </tr>\n",
       "  </thead>\n",
       "  <tbody>\n",
       "    <tr>\n",
       "      <th>0</th>\n",
       "      <td>Andy</td>\n",
       "      <td>20</td>\n",
       "      <td>male</td>\n",
       "      <td>1</td>\n",
       "    </tr>\n",
       "    <tr>\n",
       "      <th>2</th>\n",
       "      <td>Cathy</td>\n",
       "      <td>23</td>\n",
       "      <td>female</td>\n",
       "      <td>4</td>\n",
       "    </tr>\n",
       "    <tr>\n",
       "      <th>3</th>\n",
       "      <td>Debra</td>\n",
       "      <td>22</td>\n",
       "      <td>female</td>\n",
       "      <td>3</td>\n",
       "    </tr>\n",
       "  </tbody>\n",
       "</table>\n",
       "</div>"
      ],
      "text/plain": [
       "    Name  Age     Sex  Year\n",
       "0   Andy   20    male     1\n",
       "2  Cathy   23  female     4\n",
       "3  Debra   22  female     3"
      ]
     },
     "execution_count": 18,
     "metadata": {},
     "output_type": "execute_result"
    }
   ],
   "source": [
    "df.loc[[0,2,3]]"
   ]
  },
  {
   "cell_type": "markdown",
   "metadata": {},
   "source": [
    "## Retrieving a range of row\n",
    "Provide the starting row number and ending row number. `:` separated\n",
    "\n",
    "Example:\n",
    "```\n",
    "df.loc[0:1]\n",
    "df.loc[:2] # from position 0 to 2\n",
    "df.loc[2:] # from position 2 to the end\n",
    "```\n",
    "Short hand:\n",
    "```\n",
    "df[0:1]\n",
    "df[:2] # from position 0 to 1. End position exclusive.\n",
    "df[2:] # from position 2 to the end\n",
    "```\n"
   ]
  },
  {
   "cell_type": "code",
   "execution_count": 38,
   "metadata": {},
   "outputs": [
    {
     "data": {
      "text/html": [
       "<div>\n",
       "<style scoped>\n",
       "    .dataframe tbody tr th:only-of-type {\n",
       "        vertical-align: middle;\n",
       "    }\n",
       "\n",
       "    .dataframe tbody tr th {\n",
       "        vertical-align: top;\n",
       "    }\n",
       "\n",
       "    .dataframe thead th {\n",
       "        text-align: right;\n",
       "    }\n",
       "</style>\n",
       "<table border=\"1\" class=\"dataframe\">\n",
       "  <thead>\n",
       "    <tr style=\"text-align: right;\">\n",
       "      <th></th>\n",
       "      <th>Name</th>\n",
       "      <th>Age</th>\n",
       "      <th>Sex</th>\n",
       "      <th>Year</th>\n",
       "    </tr>\n",
       "  </thead>\n",
       "  <tbody>\n",
       "    <tr>\n",
       "      <th>1</th>\n",
       "      <td>Ben</td>\n",
       "      <td>22</td>\n",
       "      <td>male</td>\n",
       "      <td>3</td>\n",
       "    </tr>\n",
       "    <tr>\n",
       "      <th>2</th>\n",
       "      <td>Cathy</td>\n",
       "      <td>23</td>\n",
       "      <td>female</td>\n",
       "      <td>4</td>\n",
       "    </tr>\n",
       "    <tr>\n",
       "      <th>3</th>\n",
       "      <td>Debra</td>\n",
       "      <td>22</td>\n",
       "      <td>female</td>\n",
       "      <td>3</td>\n",
       "    </tr>\n",
       "  </tbody>\n",
       "</table>\n",
       "</div>"
      ],
      "text/plain": [
       "    Name  Age     Sex  Year\n",
       "1    Ben   22    male     3\n",
       "2  Cathy   23  female     4\n",
       "3  Debra   22  female     3"
      ]
     },
     "execution_count": 38,
     "metadata": {},
     "output_type": "execute_result"
    }
   ],
   "source": [
    "df[1:]"
   ]
  },
  {
   "cell_type": "code",
   "execution_count": 37,
   "metadata": {},
   "outputs": [
    {
     "data": {
      "text/html": [
       "<div>\n",
       "<style scoped>\n",
       "    .dataframe tbody tr th:only-of-type {\n",
       "        vertical-align: middle;\n",
       "    }\n",
       "\n",
       "    .dataframe tbody tr th {\n",
       "        vertical-align: top;\n",
       "    }\n",
       "\n",
       "    .dataframe thead th {\n",
       "        text-align: right;\n",
       "    }\n",
       "</style>\n",
       "<table border=\"1\" class=\"dataframe\">\n",
       "  <thead>\n",
       "    <tr style=\"text-align: right;\">\n",
       "      <th></th>\n",
       "      <th>Name</th>\n",
       "      <th>Age</th>\n",
       "      <th>Sex</th>\n",
       "      <th>Year</th>\n",
       "    </tr>\n",
       "  </thead>\n",
       "  <tbody>\n",
       "    <tr>\n",
       "      <th>1</th>\n",
       "      <td>Ben</td>\n",
       "      <td>22</td>\n",
       "      <td>male</td>\n",
       "      <td>3</td>\n",
       "    </tr>\n",
       "    <tr>\n",
       "      <th>2</th>\n",
       "      <td>Cathy</td>\n",
       "      <td>23</td>\n",
       "      <td>female</td>\n",
       "      <td>4</td>\n",
       "    </tr>\n",
       "    <tr>\n",
       "      <th>3</th>\n",
       "      <td>Debra</td>\n",
       "      <td>22</td>\n",
       "      <td>female</td>\n",
       "      <td>3</td>\n",
       "    </tr>\n",
       "  </tbody>\n",
       "</table>\n",
       "</div>"
      ],
      "text/plain": [
       "    Name  Age     Sex  Year\n",
       "1    Ben   22    male     3\n",
       "2  Cathy   23  female     4\n",
       "3  Debra   22  female     3"
      ]
     },
     "execution_count": 37,
     "metadata": {},
     "output_type": "execute_result"
    }
   ],
   "source": [
    "df.loc[1:]"
   ]
  },
  {
   "cell_type": "code",
   "execution_count": 22,
   "metadata": {},
   "outputs": [
    {
     "data": {
      "text/html": [
       "<div>\n",
       "<style scoped>\n",
       "    .dataframe tbody tr th:only-of-type {\n",
       "        vertical-align: middle;\n",
       "    }\n",
       "\n",
       "    .dataframe tbody tr th {\n",
       "        vertical-align: top;\n",
       "    }\n",
       "\n",
       "    .dataframe thead th {\n",
       "        text-align: right;\n",
       "    }\n",
       "</style>\n",
       "<table border=\"1\" class=\"dataframe\">\n",
       "  <thead>\n",
       "    <tr style=\"text-align: right;\">\n",
       "      <th></th>\n",
       "      <th>Name</th>\n",
       "      <th>Age</th>\n",
       "      <th>Sex</th>\n",
       "      <th>Year</th>\n",
       "    </tr>\n",
       "  </thead>\n",
       "  <tbody>\n",
       "    <tr>\n",
       "      <th>0</th>\n",
       "      <td>Andy</td>\n",
       "      <td>20</td>\n",
       "      <td>male</td>\n",
       "      <td>1</td>\n",
       "    </tr>\n",
       "    <tr>\n",
       "      <th>1</th>\n",
       "      <td>Ben</td>\n",
       "      <td>22</td>\n",
       "      <td>male</td>\n",
       "      <td>3</td>\n",
       "    </tr>\n",
       "    <tr>\n",
       "      <th>2</th>\n",
       "      <td>Cathy</td>\n",
       "      <td>23</td>\n",
       "      <td>female</td>\n",
       "      <td>4</td>\n",
       "    </tr>\n",
       "    <tr>\n",
       "      <th>3</th>\n",
       "      <td>Debra</td>\n",
       "      <td>22</td>\n",
       "      <td>female</td>\n",
       "      <td>3</td>\n",
       "    </tr>\n",
       "  </tbody>\n",
       "</table>\n",
       "</div>"
      ],
      "text/plain": [
       "    Name  Age     Sex  Year\n",
       "0   Andy   20    male     1\n",
       "1    Ben   22    male     3\n",
       "2  Cathy   23  female     4\n",
       "3  Debra   22  female     3"
      ]
     },
     "execution_count": 22,
     "metadata": {},
     "output_type": "execute_result"
    }
   ],
   "source": [
    "df"
   ]
  },
  {
   "cell_type": "markdown",
   "metadata": {},
   "source": [
    "# Filtering Rows\n",
    "- Perform a comparison operation on a certain column. \n",
    "- It scans through each row\n",
    "- It returns `True` or `False` for comparison operation on that row\n",
    "\n",
    "Example:\n",
    "```\n",
    "filter = df['Age']<23\n",
    "df[filter]\n",
    "```\n",
    "or in one line\n",
    "```\n",
    "df[df['Age']<23]\n",
    "```\n"
   ]
  },
  {
   "cell_type": "code",
   "execution_count": 40,
   "metadata": {},
   "outputs": [
    {
     "data": {
      "text/html": [
       "<div>\n",
       "<style scoped>\n",
       "    .dataframe tbody tr th:only-of-type {\n",
       "        vertical-align: middle;\n",
       "    }\n",
       "\n",
       "    .dataframe tbody tr th {\n",
       "        vertical-align: top;\n",
       "    }\n",
       "\n",
       "    .dataframe thead th {\n",
       "        text-align: right;\n",
       "    }\n",
       "</style>\n",
       "<table border=\"1\" class=\"dataframe\">\n",
       "  <thead>\n",
       "    <tr style=\"text-align: right;\">\n",
       "      <th></th>\n",
       "      <th>Name</th>\n",
       "      <th>Age</th>\n",
       "      <th>Sex</th>\n",
       "      <th>Year</th>\n",
       "    </tr>\n",
       "  </thead>\n",
       "  <tbody>\n",
       "    <tr>\n",
       "      <th>0</th>\n",
       "      <td>Andy</td>\n",
       "      <td>20</td>\n",
       "      <td>male</td>\n",
       "      <td>1</td>\n",
       "    </tr>\n",
       "    <tr>\n",
       "      <th>1</th>\n",
       "      <td>Ben</td>\n",
       "      <td>22</td>\n",
       "      <td>male</td>\n",
       "      <td>3</td>\n",
       "    </tr>\n",
       "    <tr>\n",
       "      <th>2</th>\n",
       "      <td>Cathy</td>\n",
       "      <td>23</td>\n",
       "      <td>female</td>\n",
       "      <td>4</td>\n",
       "    </tr>\n",
       "    <tr>\n",
       "      <th>3</th>\n",
       "      <td>Debra</td>\n",
       "      <td>22</td>\n",
       "      <td>female</td>\n",
       "      <td>3</td>\n",
       "    </tr>\n",
       "  </tbody>\n",
       "</table>\n",
       "</div>"
      ],
      "text/plain": [
       "    Name  Age     Sex  Year\n",
       "0   Andy   20    male     1\n",
       "1    Ben   22    male     3\n",
       "2  Cathy   23  female     4\n",
       "3  Debra   22  female     3"
      ]
     },
     "execution_count": 40,
     "metadata": {},
     "output_type": "execute_result"
    }
   ],
   "source": [
    "df"
   ]
  },
  {
   "cell_type": "code",
   "execution_count": 29,
   "metadata": {},
   "outputs": [
    {
     "data": {
      "text/plain": [
       "0     True\n",
       "1     True\n",
       "2    False\n",
       "3     True\n",
       "Name: Age, dtype: bool"
      ]
     },
     "execution_count": 29,
     "metadata": {},
     "output_type": "execute_result"
    }
   ],
   "source": [
    "filter = df['Age']<23\n",
    "filter"
   ]
  },
  {
   "cell_type": "code",
   "execution_count": 30,
   "metadata": {},
   "outputs": [
    {
     "data": {
      "text/plain": [
       "pandas.core.series.Series"
      ]
     },
     "execution_count": 30,
     "metadata": {},
     "output_type": "execute_result"
    }
   ],
   "source": [
    "type(filter)"
   ]
  },
  {
   "cell_type": "code",
   "execution_count": 31,
   "metadata": {},
   "outputs": [
    {
     "data": {
      "text/html": [
       "<div>\n",
       "<style scoped>\n",
       "    .dataframe tbody tr th:only-of-type {\n",
       "        vertical-align: middle;\n",
       "    }\n",
       "\n",
       "    .dataframe tbody tr th {\n",
       "        vertical-align: top;\n",
       "    }\n",
       "\n",
       "    .dataframe thead th {\n",
       "        text-align: right;\n",
       "    }\n",
       "</style>\n",
       "<table border=\"1\" class=\"dataframe\">\n",
       "  <thead>\n",
       "    <tr style=\"text-align: right;\">\n",
       "      <th></th>\n",
       "      <th>Name</th>\n",
       "      <th>Age</th>\n",
       "      <th>Sex</th>\n",
       "      <th>Year</th>\n",
       "    </tr>\n",
       "  </thead>\n",
       "  <tbody>\n",
       "    <tr>\n",
       "      <th>0</th>\n",
       "      <td>Andy</td>\n",
       "      <td>20</td>\n",
       "      <td>male</td>\n",
       "      <td>1</td>\n",
       "    </tr>\n",
       "    <tr>\n",
       "      <th>1</th>\n",
       "      <td>Ben</td>\n",
       "      <td>22</td>\n",
       "      <td>male</td>\n",
       "      <td>3</td>\n",
       "    </tr>\n",
       "    <tr>\n",
       "      <th>3</th>\n",
       "      <td>Debra</td>\n",
       "      <td>22</td>\n",
       "      <td>female</td>\n",
       "      <td>3</td>\n",
       "    </tr>\n",
       "  </tbody>\n",
       "</table>\n",
       "</div>"
      ],
      "text/plain": [
       "    Name  Age     Sex  Year\n",
       "0   Andy   20    male     1\n",
       "1    Ben   22    male     3\n",
       "3  Debra   22  female     3"
      ]
     },
     "execution_count": 31,
     "metadata": {},
     "output_type": "execute_result"
    }
   ],
   "source": [
    "df[filter]"
   ]
  },
  {
   "cell_type": "code",
   "execution_count": null,
   "metadata": {},
   "outputs": [],
   "source": []
  },
  {
   "cell_type": "markdown",
   "metadata": {},
   "source": [
    "# Filtering Rows with multiple filters\n",
    "Example:\n",
    "```\n",
    "filter = df['Age']<23\n",
    "filter2 = df['Year']==3\n",
    "df[filter & filter2]\n",
    "df[filter | filter2]\n",
    "```\n",
    "Concatenate the filter result for display\n",
    "```\n",
    "pd.concat([filter, filter2, (filter & filter2)], axis=1)\n",
    "pd.concat([filter, filter2, (filter | filter2)], axis=1)\n",
    "\n",
    "```"
   ]
  },
  {
   "cell_type": "code",
   "execution_count": 48,
   "metadata": {},
   "outputs": [
    {
     "data": {
      "text/plain": [
       "0     True\n",
       "1     True\n",
       "2    False\n",
       "3     True\n",
       "Name: Age, dtype: bool"
      ]
     },
     "execution_count": 48,
     "metadata": {},
     "output_type": "execute_result"
    }
   ],
   "source": [
    "filter = df['Age']<23\n",
    "filter"
   ]
  },
  {
   "cell_type": "code",
   "execution_count": 49,
   "metadata": {},
   "outputs": [
    {
     "data": {
      "text/plain": [
       "0    False\n",
       "1     True\n",
       "2    False\n",
       "3     True\n",
       "Name: Year, dtype: bool"
      ]
     },
     "execution_count": 49,
     "metadata": {},
     "output_type": "execute_result"
    }
   ],
   "source": [
    "filter2 = df['Year']==3\n",
    "filter2"
   ]
  },
  {
   "cell_type": "code",
   "execution_count": 57,
   "metadata": {},
   "outputs": [
    {
     "data": {
      "text/html": [
       "<div>\n",
       "<style scoped>\n",
       "    .dataframe tbody tr th:only-of-type {\n",
       "        vertical-align: middle;\n",
       "    }\n",
       "\n",
       "    .dataframe tbody tr th {\n",
       "        vertical-align: top;\n",
       "    }\n",
       "\n",
       "    .dataframe thead th {\n",
       "        text-align: right;\n",
       "    }\n",
       "</style>\n",
       "<table border=\"1\" class=\"dataframe\">\n",
       "  <thead>\n",
       "    <tr style=\"text-align: right;\">\n",
       "      <th></th>\n",
       "      <th>Age</th>\n",
       "      <th>Year</th>\n",
       "      <th>0</th>\n",
       "    </tr>\n",
       "  </thead>\n",
       "  <tbody>\n",
       "    <tr>\n",
       "      <th>0</th>\n",
       "      <td>True</td>\n",
       "      <td>False</td>\n",
       "      <td>True</td>\n",
       "    </tr>\n",
       "    <tr>\n",
       "      <th>1</th>\n",
       "      <td>True</td>\n",
       "      <td>True</td>\n",
       "      <td>True</td>\n",
       "    </tr>\n",
       "    <tr>\n",
       "      <th>2</th>\n",
       "      <td>False</td>\n",
       "      <td>False</td>\n",
       "      <td>False</td>\n",
       "    </tr>\n",
       "    <tr>\n",
       "      <th>3</th>\n",
       "      <td>True</td>\n",
       "      <td>True</td>\n",
       "      <td>True</td>\n",
       "    </tr>\n",
       "  </tbody>\n",
       "</table>\n",
       "</div>"
      ],
      "text/plain": [
       "     Age   Year      0\n",
       "0   True  False   True\n",
       "1   True   True   True\n",
       "2  False  False  False\n",
       "3   True   True   True"
      ]
     },
     "execution_count": 57,
     "metadata": {},
     "output_type": "execute_result"
    }
   ],
   "source": [
    "pd.concat([filter, filter2, (filter | filter2)], axis=1)"
   ]
  },
  {
   "cell_type": "code",
   "execution_count": 56,
   "metadata": {},
   "outputs": [
    {
     "data": {
      "text/html": [
       "<div>\n",
       "<style scoped>\n",
       "    .dataframe tbody tr th:only-of-type {\n",
       "        vertical-align: middle;\n",
       "    }\n",
       "\n",
       "    .dataframe tbody tr th {\n",
       "        vertical-align: top;\n",
       "    }\n",
       "\n",
       "    .dataframe thead th {\n",
       "        text-align: right;\n",
       "    }\n",
       "</style>\n",
       "<table border=\"1\" class=\"dataframe\">\n",
       "  <thead>\n",
       "    <tr style=\"text-align: right;\">\n",
       "      <th></th>\n",
       "      <th>Name</th>\n",
       "      <th>Age</th>\n",
       "      <th>Sex</th>\n",
       "      <th>Year</th>\n",
       "    </tr>\n",
       "  </thead>\n",
       "  <tbody>\n",
       "    <tr>\n",
       "      <th>0</th>\n",
       "      <td>Andy</td>\n",
       "      <td>20</td>\n",
       "      <td>male</td>\n",
       "      <td>1</td>\n",
       "    </tr>\n",
       "    <tr>\n",
       "      <th>1</th>\n",
       "      <td>Ben</td>\n",
       "      <td>22</td>\n",
       "      <td>male</td>\n",
       "      <td>3</td>\n",
       "    </tr>\n",
       "    <tr>\n",
       "      <th>3</th>\n",
       "      <td>Debra</td>\n",
       "      <td>22</td>\n",
       "      <td>female</td>\n",
       "      <td>3</td>\n",
       "    </tr>\n",
       "  </tbody>\n",
       "</table>\n",
       "</div>"
      ],
      "text/plain": [
       "    Name  Age     Sex  Year\n",
       "0   Andy   20    male     1\n",
       "1    Ben   22    male     3\n",
       "3  Debra   22  female     3"
      ]
     },
     "execution_count": 56,
     "metadata": {},
     "output_type": "execute_result"
    }
   ],
   "source": [
    "df[filter | filter2]"
   ]
  },
  {
   "cell_type": "markdown",
   "metadata": {},
   "source": [
    "# Restricting rows and columns at the same time\n",
    "You are apply both row filtering and columns retricting\n",
    "Example:\n",
    "```\n",
    "df[df['Year']==3][['Name', 'Year']]\n",
    "```"
   ]
  },
  {
   "cell_type": "code",
   "execution_count": 60,
   "metadata": {},
   "outputs": [
    {
     "data": {
      "text/html": [
       "<div>\n",
       "<style scoped>\n",
       "    .dataframe tbody tr th:only-of-type {\n",
       "        vertical-align: middle;\n",
       "    }\n",
       "\n",
       "    .dataframe tbody tr th {\n",
       "        vertical-align: top;\n",
       "    }\n",
       "\n",
       "    .dataframe thead th {\n",
       "        text-align: right;\n",
       "    }\n",
       "</style>\n",
       "<table border=\"1\" class=\"dataframe\">\n",
       "  <thead>\n",
       "    <tr style=\"text-align: right;\">\n",
       "      <th></th>\n",
       "      <th>Name</th>\n",
       "      <th>Year</th>\n",
       "    </tr>\n",
       "  </thead>\n",
       "  <tbody>\n",
       "    <tr>\n",
       "      <th>1</th>\n",
       "      <td>Ben</td>\n",
       "      <td>3</td>\n",
       "    </tr>\n",
       "    <tr>\n",
       "      <th>3</th>\n",
       "      <td>Debra</td>\n",
       "      <td>3</td>\n",
       "    </tr>\n",
       "  </tbody>\n",
       "</table>\n",
       "</div>"
      ],
      "text/plain": [
       "    Name  Year\n",
       "1    Ben     3\n",
       "3  Debra     3"
      ]
     },
     "execution_count": 60,
     "metadata": {},
     "output_type": "execute_result"
    }
   ],
   "source": [
    "df[df['Year']==3][['Name', 'Year']]"
   ]
  },
  {
   "cell_type": "markdown",
   "metadata": {},
   "source": [
    "# Use Pandas to retrieve HTML content\n",
    "Example:\n",
    "```\n",
    "url = 'http://www.multpl.com/s-p-500-dividend-yield/table?f=m'\n",
    "raw_html_tbl = pd.read_html(url)\n",
    "type(raw_html_tbl)\n",
    "len(raw_html_tbl)\n",
    "raw_html_tbl[0]\n",
    "type(raw_html_tbl[0])\n",
    "```"
   ]
  },
  {
   "cell_type": "code",
   "execution_count": 67,
   "metadata": {},
   "outputs": [],
   "source": [
    "url = 'http://www.multpl.com/s-p-500-dividend-yield/table?f=m'"
   ]
  },
  {
   "cell_type": "code",
   "execution_count": 70,
   "metadata": {},
   "outputs": [],
   "source": [
    "raw_html_tbl = pd.read_html(url)"
   ]
  },
  {
   "cell_type": "code",
   "execution_count": 91,
   "metadata": {},
   "outputs": [
    {
     "data": {
      "text/plain": [
       "list"
      ]
     },
     "execution_count": 91,
     "metadata": {},
     "output_type": "execute_result"
    }
   ],
   "source": [
    "type(raw_html_tbl)"
   ]
  },
  {
   "cell_type": "code",
   "execution_count": 90,
   "metadata": {},
   "outputs": [
    {
     "data": {
      "text/plain": [
       "1"
      ]
     },
     "execution_count": 90,
     "metadata": {},
     "output_type": "execute_result"
    }
   ],
   "source": [
    "len(raw_html_tbl)"
   ]
  },
  {
   "cell_type": "code",
   "execution_count": 88,
   "metadata": {},
   "outputs": [
    {
     "data": {
      "text/plain": [
       "pandas.core.frame.DataFrame"
      ]
     },
     "execution_count": 88,
     "metadata": {},
     "output_type": "execute_result"
    }
   ],
   "source": [
    "type(raw_html_tbl[0])"
   ]
  },
  {
   "cell_type": "code",
   "execution_count": 89,
   "metadata": {},
   "outputs": [
    {
     "data": {
      "text/html": [
       "<div>\n",
       "<style scoped>\n",
       "    .dataframe tbody tr th:only-of-type {\n",
       "        vertical-align: middle;\n",
       "    }\n",
       "\n",
       "    .dataframe tbody tr th {\n",
       "        vertical-align: top;\n",
       "    }\n",
       "\n",
       "    .dataframe thead th {\n",
       "        text-align: right;\n",
       "    }\n",
       "</style>\n",
       "<table border=\"1\" class=\"dataframe\">\n",
       "  <thead>\n",
       "    <tr style=\"text-align: right;\">\n",
       "      <th></th>\n",
       "      <th>Date</th>\n",
       "      <th>Yield Value</th>\n",
       "    </tr>\n",
       "  </thead>\n",
       "  <tbody>\n",
       "    <tr>\n",
       "      <th>0</th>\n",
       "      <td>Jan 4, 2021</td>\n",
       "      <td>1.60% estimate</td>\n",
       "    </tr>\n",
       "    <tr>\n",
       "      <th>1</th>\n",
       "      <td>Dec 31, 2020</td>\n",
       "      <td>1.60% estimate</td>\n",
       "    </tr>\n",
       "    <tr>\n",
       "      <th>2</th>\n",
       "      <td>Nov 30, 2020</td>\n",
       "      <td>1.66% estimate</td>\n",
       "    </tr>\n",
       "    <tr>\n",
       "      <th>3</th>\n",
       "      <td>Oct 31, 2020</td>\n",
       "      <td>1.72% estimate</td>\n",
       "    </tr>\n",
       "    <tr>\n",
       "      <th>4</th>\n",
       "      <td>Sep 30, 2020</td>\n",
       "      <td>1.75%</td>\n",
       "    </tr>\n",
       "    <tr>\n",
       "      <th>...</th>\n",
       "      <td>...</td>\n",
       "      <td>...</td>\n",
       "    </tr>\n",
       "    <tr>\n",
       "      <th>1796</th>\n",
       "      <td>May 31, 1871</td>\n",
       "      <td>5.35%</td>\n",
       "    </tr>\n",
       "    <tr>\n",
       "      <th>1797</th>\n",
       "      <td>Apr 30, 1871</td>\n",
       "      <td>5.49%</td>\n",
       "    </tr>\n",
       "    <tr>\n",
       "      <th>1798</th>\n",
       "      <td>Mar 31, 1871</td>\n",
       "      <td>5.64%</td>\n",
       "    </tr>\n",
       "    <tr>\n",
       "      <th>1799</th>\n",
       "      <td>Feb 28, 1871</td>\n",
       "      <td>5.78%</td>\n",
       "    </tr>\n",
       "    <tr>\n",
       "      <th>1800</th>\n",
       "      <td>Jan 31, 1871</td>\n",
       "      <td>5.86%</td>\n",
       "    </tr>\n",
       "  </tbody>\n",
       "</table>\n",
       "<p>1801 rows × 2 columns</p>\n",
       "</div>"
      ],
      "text/plain": [
       "              Date     Yield Value\n",
       "0      Jan 4, 2021  1.60% estimate\n",
       "1     Dec 31, 2020  1.60% estimate\n",
       "2     Nov 30, 2020  1.66% estimate\n",
       "3     Oct 31, 2020  1.72% estimate\n",
       "4     Sep 30, 2020           1.75%\n",
       "...            ...             ...\n",
       "1796  May 31, 1871           5.35%\n",
       "1797  Apr 30, 1871           5.49%\n",
       "1798  Mar 31, 1871           5.64%\n",
       "1799  Feb 28, 1871           5.78%\n",
       "1800  Jan 31, 1871           5.86%\n",
       "\n",
       "[1801 rows x 2 columns]"
      ]
     },
     "execution_count": 89,
     "metadata": {},
     "output_type": "execute_result"
    }
   ],
   "source": [
    "raw_html_tbl[0]"
   ]
  },
  {
   "cell_type": "markdown",
   "metadata": {},
   "source": [
    "# `pd.read_html()` doesn't always work\n",
    "- There are two many broken HTML Codes\n",
    "- Some HTML are generated by JavaScript on the fly\n",
    "Example: The following scraping won't work\n",
    "```\n",
    "url2 = 'https://stock360.hkej.com/marketWatch/Top20'\n",
    "raw_html_tbl2 = pd.read_html(url2)\n",
    "raw_html_tbl2\n",
    "```"
   ]
  },
  {
   "cell_type": "code",
   "execution_count": 92,
   "metadata": {},
   "outputs": [],
   "source": [
    "url2 = 'https://stock360.hkej.com/marketWatch/Top20'\n"
   ]
  },
  {
   "cell_type": "markdown",
   "metadata": {},
   "source": [
    "# Another Example or web scraping\n",
    "Retrieving currency table from Yahoo Finance\n",
    "```\n",
    "url3 = 'https://hk.finance.yahoo.com/currencies'\n",
    "raw_html_tbl3 = pd.read_html(url3)\n",
    "raw_html_tbl3[0]\n",
    "```"
   ]
  },
  {
   "cell_type": "code",
   "execution_count": 93,
   "metadata": {},
   "outputs": [
    {
     "data": {
      "text/html": [
       "<div>\n",
       "<style scoped>\n",
       "    .dataframe tbody tr th:only-of-type {\n",
       "        vertical-align: middle;\n",
       "    }\n",
       "\n",
       "    .dataframe tbody tr th {\n",
       "        vertical-align: top;\n",
       "    }\n",
       "\n",
       "    .dataframe thead th {\n",
       "        text-align: right;\n",
       "    }\n",
       "</style>\n",
       "<table border=\"1\" class=\"dataframe\">\n",
       "  <thead>\n",
       "    <tr style=\"text-align: right;\">\n",
       "      <th></th>\n",
       "      <th>代號</th>\n",
       "      <th>名稱</th>\n",
       "      <th>收市價</th>\n",
       "      <th>變化</th>\n",
       "      <th>% 變化</th>\n",
       "      <th>52 週範圍</th>\n",
       "      <th>日圖表</th>\n",
       "    </tr>\n",
       "  </thead>\n",
       "  <tbody>\n",
       "    <tr>\n",
       "      <th>0</th>\n",
       "      <td>HKD=X</td>\n",
       "      <td>美元/港元</td>\n",
       "      <td>7.7535</td>\n",
       "      <td>0.0011</td>\n",
       "      <td>+0.01%</td>\n",
       "      <td>NaN</td>\n",
       "      <td>NaN</td>\n",
       "    </tr>\n",
       "    <tr>\n",
       "      <th>1</th>\n",
       "      <td>HKDCNY=X</td>\n",
       "      <td>港元/人民幣</td>\n",
       "      <td>0.8327</td>\n",
       "      <td>-0.0087</td>\n",
       "      <td>-1.03%</td>\n",
       "      <td>NaN</td>\n",
       "      <td>NaN</td>\n",
       "    </tr>\n",
       "    <tr>\n",
       "      <th>2</th>\n",
       "      <td>EURHKD=X</td>\n",
       "      <td>歐元/港元</td>\n",
       "      <td>9.5016</td>\n",
       "      <td>0.0322</td>\n",
       "      <td>+0.34%</td>\n",
       "      <td>NaN</td>\n",
       "      <td>NaN</td>\n",
       "    </tr>\n",
       "    <tr>\n",
       "      <th>3</th>\n",
       "      <td>GBPHKD=X</td>\n",
       "      <td>英鎊/港元</td>\n",
       "      <td>10.5030</td>\n",
       "      <td>-0.0950</td>\n",
       "      <td>-0.90%</td>\n",
       "      <td>NaN</td>\n",
       "      <td>NaN</td>\n",
       "    </tr>\n",
       "    <tr>\n",
       "      <th>4</th>\n",
       "      <td>JPYHKD=X</td>\n",
       "      <td>日圓/港元</td>\n",
       "      <td>0.0750</td>\n",
       "      <td>0.0001</td>\n",
       "      <td>+0.13%</td>\n",
       "      <td>NaN</td>\n",
       "      <td>NaN</td>\n",
       "    </tr>\n",
       "    <tr>\n",
       "      <th>5</th>\n",
       "      <td>AUDHKD=X</td>\n",
       "      <td>澳元/港元</td>\n",
       "      <td>5.9205</td>\n",
       "      <td>-0.0431</td>\n",
       "      <td>-0.72%</td>\n",
       "      <td>NaN</td>\n",
       "      <td>NaN</td>\n",
       "    </tr>\n",
       "    <tr>\n",
       "      <th>6</th>\n",
       "      <td>NZDHKD=X</td>\n",
       "      <td>紐元/港元</td>\n",
       "      <td>5.5532</td>\n",
       "      <td>-0.0143</td>\n",
       "      <td>-0.26%</td>\n",
       "      <td>NaN</td>\n",
       "      <td>NaN</td>\n",
       "    </tr>\n",
       "    <tr>\n",
       "      <th>7</th>\n",
       "      <td>CADHKD=X</td>\n",
       "      <td>加元/港元</td>\n",
       "      <td>6.0658</td>\n",
       "      <td>-0.0232</td>\n",
       "      <td>-0.38%</td>\n",
       "      <td>NaN</td>\n",
       "      <td>NaN</td>\n",
       "    </tr>\n",
       "    <tr>\n",
       "      <th>8</th>\n",
       "      <td>HKDTWD=X</td>\n",
       "      <td>港元/新台幣</td>\n",
       "      <td>3.6264</td>\n",
       "      <td>-0.0025</td>\n",
       "      <td>-0.07%</td>\n",
       "      <td>NaN</td>\n",
       "      <td>NaN</td>\n",
       "    </tr>\n",
       "    <tr>\n",
       "      <th>9</th>\n",
       "      <td>HKDTHB=X</td>\n",
       "      <td>港元/泰銖</td>\n",
       "      <td>3.8586</td>\n",
       "      <td>-0.0134</td>\n",
       "      <td>-0.35%</td>\n",
       "      <td>NaN</td>\n",
       "      <td>NaN</td>\n",
       "    </tr>\n",
       "    <tr>\n",
       "      <th>10</th>\n",
       "      <td>KRWHKD=X</td>\n",
       "      <td>韓圜/港元</td>\n",
       "      <td>0.0071</td>\n",
       "      <td>-0.0000</td>\n",
       "      <td>-0.02%</td>\n",
       "      <td>NaN</td>\n",
       "      <td>NaN</td>\n",
       "    </tr>\n",
       "    <tr>\n",
       "      <th>11</th>\n",
       "      <td>SGDHKD=X</td>\n",
       "      <td>新加坡元/港元</td>\n",
       "      <td>5.8684</td>\n",
       "      <td>0.0027</td>\n",
       "      <td>+0.05%</td>\n",
       "      <td>NaN</td>\n",
       "      <td>NaN</td>\n",
       "    </tr>\n",
       "    <tr>\n",
       "      <th>12</th>\n",
       "      <td>CHFHKD=X</td>\n",
       "      <td>瑞士法郎/港元</td>\n",
       "      <td>8.7810</td>\n",
       "      <td>0.0237</td>\n",
       "      <td>+0.27%</td>\n",
       "      <td>NaN</td>\n",
       "      <td>NaN</td>\n",
       "    </tr>\n",
       "    <tr>\n",
       "      <th>13</th>\n",
       "      <td>VNDHKD=X</td>\n",
       "      <td>越南盾/港元</td>\n",
       "      <td>0.0003</td>\n",
       "      <td>0.0000</td>\n",
       "      <td>+0.62%</td>\n",
       "      <td>NaN</td>\n",
       "      <td>NaN</td>\n",
       "    </tr>\n",
       "    <tr>\n",
       "      <th>14</th>\n",
       "      <td>IDRHKD=X</td>\n",
       "      <td>印尼盾/港元</td>\n",
       "      <td>0.0006</td>\n",
       "      <td>0.0000</td>\n",
       "      <td>+1.18%</td>\n",
       "      <td>NaN</td>\n",
       "      <td>NaN</td>\n",
       "    </tr>\n",
       "    <tr>\n",
       "      <th>15</th>\n",
       "      <td>MOPHKD=X</td>\n",
       "      <td>澳門元/港元</td>\n",
       "      <td>0.9703</td>\n",
       "      <td>-0.0001</td>\n",
       "      <td>-0.01%</td>\n",
       "      <td>NaN</td>\n",
       "      <td>NaN</td>\n",
       "    </tr>\n",
       "    <tr>\n",
       "      <th>16</th>\n",
       "      <td>CNY=X</td>\n",
       "      <td>美元/人民幣</td>\n",
       "      <td>6.4601</td>\n",
       "      <td>-0.0659</td>\n",
       "      <td>-1.01%</td>\n",
       "      <td>NaN</td>\n",
       "      <td>NaN</td>\n",
       "    </tr>\n",
       "    <tr>\n",
       "      <th>17</th>\n",
       "      <td>EURUSD=X</td>\n",
       "      <td>美元/歐元</td>\n",
       "      <td>1.2258</td>\n",
       "      <td>0.0027</td>\n",
       "      <td>+0.22%</td>\n",
       "      <td>NaN</td>\n",
       "      <td>NaN</td>\n",
       "    </tr>\n",
       "    <tr>\n",
       "      <th>18</th>\n",
       "      <td>GBPUSD=X</td>\n",
       "      <td>美元/英鎊</td>\n",
       "      <td>1.3549</td>\n",
       "      <td>-0.0116</td>\n",
       "      <td>-0.85%</td>\n",
       "      <td>NaN</td>\n",
       "      <td>NaN</td>\n",
       "    </tr>\n",
       "    <tr>\n",
       "      <th>19</th>\n",
       "      <td>JPY=X</td>\n",
       "      <td>美元/日圓</td>\n",
       "      <td>103.1520</td>\n",
       "      <td>-0.0390</td>\n",
       "      <td>-0.04%</td>\n",
       "      <td>NaN</td>\n",
       "      <td>NaN</td>\n",
       "    </tr>\n",
       "    <tr>\n",
       "      <th>20</th>\n",
       "      <td>CHF=X</td>\n",
       "      <td>美元/瑞士法郎</td>\n",
       "      <td>0.8810</td>\n",
       "      <td>-0.0039</td>\n",
       "      <td>-0.44%</td>\n",
       "      <td>NaN</td>\n",
       "      <td>NaN</td>\n",
       "    </tr>\n",
       "    <tr>\n",
       "      <th>21</th>\n",
       "      <td>AUDUSD=X</td>\n",
       "      <td>美元/澳元</td>\n",
       "      <td>0.7658</td>\n",
       "      <td>-0.0040</td>\n",
       "      <td>-0.53%</td>\n",
       "      <td>NaN</td>\n",
       "      <td>NaN</td>\n",
       "    </tr>\n",
       "    <tr>\n",
       "      <th>22</th>\n",
       "      <td>NZDUSD=X</td>\n",
       "      <td>美元/紐元</td>\n",
       "      <td>0.7166</td>\n",
       "      <td>-0.0020</td>\n",
       "      <td>-0.28%</td>\n",
       "      <td>NaN</td>\n",
       "      <td>NaN</td>\n",
       "    </tr>\n",
       "    <tr>\n",
       "      <th>23</th>\n",
       "      <td>CAD=X</td>\n",
       "      <td>美元/加元</td>\n",
       "      <td>1.2778</td>\n",
       "      <td>0.0051</td>\n",
       "      <td>+0.40%</td>\n",
       "      <td>NaN</td>\n",
       "      <td>NaN</td>\n",
       "    </tr>\n",
       "    <tr>\n",
       "      <th>24</th>\n",
       "      <td>EURGBP=X</td>\n",
       "      <td>歐元/英鎊</td>\n",
       "      <td>0.9045</td>\n",
       "      <td>0.0110</td>\n",
       "      <td>+1.23%</td>\n",
       "      <td>NaN</td>\n",
       "      <td>NaN</td>\n",
       "    </tr>\n",
       "    <tr>\n",
       "      <th>25</th>\n",
       "      <td>EURCHF=X</td>\n",
       "      <td>歐元/瑞士法郎</td>\n",
       "      <td>1.0796</td>\n",
       "      <td>-0.0013</td>\n",
       "      <td>-0.12%</td>\n",
       "      <td>NaN</td>\n",
       "      <td>NaN</td>\n",
       "    </tr>\n",
       "  </tbody>\n",
       "</table>\n",
       "</div>"
      ],
      "text/plain": [
       "          代號       名稱       收市價      變化    % 變化  52 週範圍  日圖表\n",
       "0      HKD=X    美元/港元    7.7535  0.0011  +0.01%     NaN  NaN\n",
       "1   HKDCNY=X   港元/人民幣    0.8327 -0.0087  -1.03%     NaN  NaN\n",
       "2   EURHKD=X    歐元/港元    9.5016  0.0322  +0.34%     NaN  NaN\n",
       "3   GBPHKD=X    英鎊/港元   10.5030 -0.0950  -0.90%     NaN  NaN\n",
       "4   JPYHKD=X    日圓/港元    0.0750  0.0001  +0.13%     NaN  NaN\n",
       "5   AUDHKD=X    澳元/港元    5.9205 -0.0431  -0.72%     NaN  NaN\n",
       "6   NZDHKD=X    紐元/港元    5.5532 -0.0143  -0.26%     NaN  NaN\n",
       "7   CADHKD=X    加元/港元    6.0658 -0.0232  -0.38%     NaN  NaN\n",
       "8   HKDTWD=X   港元/新台幣    3.6264 -0.0025  -0.07%     NaN  NaN\n",
       "9   HKDTHB=X    港元/泰銖    3.8586 -0.0134  -0.35%     NaN  NaN\n",
       "10  KRWHKD=X    韓圜/港元    0.0071 -0.0000  -0.02%     NaN  NaN\n",
       "11  SGDHKD=X  新加坡元/港元    5.8684  0.0027  +0.05%     NaN  NaN\n",
       "12  CHFHKD=X  瑞士法郎/港元    8.7810  0.0237  +0.27%     NaN  NaN\n",
       "13  VNDHKD=X   越南盾/港元    0.0003  0.0000  +0.62%     NaN  NaN\n",
       "14  IDRHKD=X   印尼盾/港元    0.0006  0.0000  +1.18%     NaN  NaN\n",
       "15  MOPHKD=X   澳門元/港元    0.9703 -0.0001  -0.01%     NaN  NaN\n",
       "16     CNY=X   美元/人民幣    6.4601 -0.0659  -1.01%     NaN  NaN\n",
       "17  EURUSD=X    美元/歐元    1.2258  0.0027  +0.22%     NaN  NaN\n",
       "18  GBPUSD=X    美元/英鎊    1.3549 -0.0116  -0.85%     NaN  NaN\n",
       "19     JPY=X    美元/日圓  103.1520 -0.0390  -0.04%     NaN  NaN\n",
       "20     CHF=X  美元/瑞士法郎    0.8810 -0.0039  -0.44%     NaN  NaN\n",
       "21  AUDUSD=X    美元/澳元    0.7658 -0.0040  -0.53%     NaN  NaN\n",
       "22  NZDUSD=X    美元/紐元    0.7166 -0.0020  -0.28%     NaN  NaN\n",
       "23     CAD=X    美元/加元    1.2778  0.0051  +0.40%     NaN  NaN\n",
       "24  EURGBP=X    歐元/英鎊    0.9045  0.0110  +1.23%     NaN  NaN\n",
       "25  EURCHF=X  歐元/瑞士法郎    1.0796 -0.0013  -0.12%     NaN  NaN"
      ]
     },
     "execution_count": 93,
     "metadata": {},
     "output_type": "execute_result"
    }
   ],
   "source": [
    "url3 = 'https://hk.finance.yahoo.com/currencies'\n",
    "raw_html_tbl3 = pd.read_html(url3)\n",
    "raw_html_tbl3[0]"
   ]
  },
  {
   "cell_type": "markdown",
   "metadata": {},
   "source": [
    "# Reading CSV\n",
    "Example:\n",
    "```\n",
    "df = pd.read_csv('./data/Salaries.csv')\n",
    "df.head() # return the first 5 rows\n",
    "df.tail() # return the last 5 rows\n",
    "df.head(10)\n",
    "df.tail(10)\n",
    "df.info() # the table meta data\n",
    "df.describe() # basic statistic information\n",
    "```\n",
    "**Handling Empty Values**:\n",
    "- The `info()` method also tells us how many Non-Null values there are present in each column\n",
    "- Empty values, or Null values, can be bad when analyzing data, and you should consider removing rows with empty values. \n",
    "- This is a called cleaning data"
   ]
  },
  {
   "cell_type": "code",
   "execution_count": 171,
   "metadata": {},
   "outputs": [],
   "source": [
    "df = pd.read_csv('./data/Salaries.csv')"
   ]
  },
  {
   "cell_type": "code",
   "execution_count": 172,
   "metadata": {},
   "outputs": [
    {
     "name": "stdout",
     "output_type": "stream",
     "text": [
      "<class 'pandas.core.frame.DataFrame'>\n",
      "RangeIndex: 148654 entries, 0 to 148653\n",
      "Data columns (total 13 columns):\n",
      " #   Column            Non-Null Count   Dtype  \n",
      "---  ------            --------------   -----  \n",
      " 0   Id                148654 non-null  int64  \n",
      " 1   EmployeeName      148654 non-null  object \n",
      " 2   JobTitle          148654 non-null  object \n",
      " 3   BasePay           148045 non-null  float64\n",
      " 4   OvertimePay       148650 non-null  float64\n",
      " 5   OtherPay          148650 non-null  float64\n",
      " 6   Benefits          112491 non-null  float64\n",
      " 7   TotalPay          148654 non-null  float64\n",
      " 8   TotalPayBenefits  148654 non-null  float64\n",
      " 9   Year              148654 non-null  int64  \n",
      " 10  Notes             0 non-null       float64\n",
      " 11  Agency            148654 non-null  object \n",
      " 12  Status            0 non-null       float64\n",
      "dtypes: float64(8), int64(2), object(3)\n",
      "memory usage: 14.7+ MB\n"
     ]
    }
   ],
   "source": [
    "df.info()"
   ]
  },
  {
   "cell_type": "markdown",
   "metadata": {},
   "source": [
    "# Cleaning Data\n",
    "Data cleaning means fixing bad data in your data set.\n",
    "\n",
    "**Bad data could be**:\n",
    "- Empty cells\n",
    "- Data in wrong format\n",
    "- Wrong data\n",
    "- Duplicates"
   ]
  },
  {
   "cell_type": "markdown",
   "metadata": {},
   "source": [
    "# Dropping Columns\n",
    "You might like to drop a few columns\n",
    "```\n",
    "new_df = df.drop(columns=['Notes', 'Status'])\n",
    "df.info()\n",
    "new_df.info()\n",
    "```"
   ]
  },
  {
   "cell_type": "code",
   "execution_count": 142,
   "metadata": {},
   "outputs": [
    {
     "name": "stdout",
     "output_type": "stream",
     "text": [
      "<class 'pandas.core.frame.DataFrame'>\n",
      "RangeIndex: 148654 entries, 0 to 148653\n",
      "Data columns (total 13 columns):\n",
      " #   Column            Non-Null Count   Dtype  \n",
      "---  ------            --------------   -----  \n",
      " 0   Id                148654 non-null  int64  \n",
      " 1   EmployeeName      148654 non-null  object \n",
      " 2   JobTitle          148654 non-null  object \n",
      " 3   BasePay           148045 non-null  float64\n",
      " 4   OvertimePay       148650 non-null  float64\n",
      " 5   OtherPay          148650 non-null  float64\n",
      " 6   Benefits          112491 non-null  float64\n",
      " 7   TotalPay          148654 non-null  float64\n",
      " 8   TotalPayBenefits  148654 non-null  float64\n",
      " 9   Year              148654 non-null  int64  \n",
      " 10  Notes             0 non-null       float64\n",
      " 11  Agency            148654 non-null  object \n",
      " 12  Status            0 non-null       float64\n",
      "dtypes: float64(8), int64(2), object(3)\n",
      "memory usage: 14.7+ MB\n"
     ]
    }
   ],
   "source": [
    "df.info()"
   ]
  },
  {
   "cell_type": "code",
   "execution_count": 143,
   "metadata": {},
   "outputs": [],
   "source": [
    "new_df = df.drop(columns=['Notes', 'Status'])"
   ]
  },
  {
   "cell_type": "code",
   "execution_count": 144,
   "metadata": {},
   "outputs": [
    {
     "name": "stdout",
     "output_type": "stream",
     "text": [
      "<class 'pandas.core.frame.DataFrame'>\n",
      "RangeIndex: 148654 entries, 0 to 148653\n",
      "Data columns (total 11 columns):\n",
      " #   Column            Non-Null Count   Dtype  \n",
      "---  ------            --------------   -----  \n",
      " 0   Id                148654 non-null  int64  \n",
      " 1   EmployeeName      148654 non-null  object \n",
      " 2   JobTitle          148654 non-null  object \n",
      " 3   BasePay           148045 non-null  float64\n",
      " 4   OvertimePay       148650 non-null  float64\n",
      " 5   OtherPay          148650 non-null  float64\n",
      " 6   Benefits          112491 non-null  float64\n",
      " 7   TotalPay          148654 non-null  float64\n",
      " 8   TotalPayBenefits  148654 non-null  float64\n",
      " 9   Year              148654 non-null  int64  \n",
      " 10  Agency            148654 non-null  object \n",
      "dtypes: float64(6), int64(2), object(3)\n",
      "memory usage: 12.5+ MB\n"
     ]
    }
   ],
   "source": [
    "new_df.info()"
   ]
  },
  {
   "cell_type": "markdown",
   "metadata": {},
   "source": [
    "# Drop Rows with Empty Value\n",
    "```\n",
    "cleaned_df = new_df.dropna()\n",
    "print(new_df.shape[0])\n",
    "print(cleaned_df.shape[0])\n",
    "cleaned_df.info()\n",
    "cleaned_df.describe()\n",
    "```"
   ]
  },
  {
   "cell_type": "code",
   "execution_count": 145,
   "metadata": {},
   "outputs": [],
   "source": [
    "cleaned_df = new_df.dropna()\n"
   ]
  },
  {
   "cell_type": "code",
   "execution_count": 146,
   "metadata": {},
   "outputs": [
    {
     "name": "stdout",
     "output_type": "stream",
     "text": [
      "148654\n"
     ]
    }
   ],
   "source": [
    "print(new_df.shape[0])"
   ]
  },
  {
   "cell_type": "code",
   "execution_count": 147,
   "metadata": {},
   "outputs": [
    {
     "name": "stdout",
     "output_type": "stream",
     "text": [
      "111886\n"
     ]
    }
   ],
   "source": [
    "print(cleaned_df.shape[0])\n"
   ]
  },
  {
   "cell_type": "code",
   "execution_count": 148,
   "metadata": {},
   "outputs": [
    {
     "name": "stdout",
     "output_type": "stream",
     "text": [
      "148654\n",
      "111886\n",
      "<class 'pandas.core.frame.DataFrame'>\n",
      "Int64Index: 111886 entries, 36159 to 148653\n",
      "Data columns (total 11 columns):\n",
      " #   Column            Non-Null Count   Dtype  \n",
      "---  ------            --------------   -----  \n",
      " 0   Id                111886 non-null  int64  \n",
      " 1   EmployeeName      111886 non-null  object \n",
      " 2   JobTitle          111886 non-null  object \n",
      " 3   BasePay           111886 non-null  float64\n",
      " 4   OvertimePay       111886 non-null  float64\n",
      " 5   OtherPay          111886 non-null  float64\n",
      " 6   Benefits          111886 non-null  float64\n",
      " 7   TotalPay          111886 non-null  float64\n",
      " 8   TotalPayBenefits  111886 non-null  float64\n",
      " 9   Year              111886 non-null  int64  \n",
      " 10  Agency            111886 non-null  object \n",
      "dtypes: float64(6), int64(2), object(3)\n",
      "memory usage: 10.2+ MB\n"
     ]
    },
    {
     "data": {
      "text/html": [
       "<div>\n",
       "<style scoped>\n",
       "    .dataframe tbody tr th:only-of-type {\n",
       "        vertical-align: middle;\n",
       "    }\n",
       "\n",
       "    .dataframe tbody tr th {\n",
       "        vertical-align: top;\n",
       "    }\n",
       "\n",
       "    .dataframe thead th {\n",
       "        text-align: right;\n",
       "    }\n",
       "</style>\n",
       "<table border=\"1\" class=\"dataframe\">\n",
       "  <thead>\n",
       "    <tr style=\"text-align: right;\">\n",
       "      <th></th>\n",
       "      <th>Id</th>\n",
       "      <th>BasePay</th>\n",
       "      <th>OvertimePay</th>\n",
       "      <th>OtherPay</th>\n",
       "      <th>Benefits</th>\n",
       "      <th>TotalPay</th>\n",
       "      <th>TotalPayBenefits</th>\n",
       "      <th>Year</th>\n",
       "    </tr>\n",
       "  </thead>\n",
       "  <tbody>\n",
       "    <tr>\n",
       "      <th>count</th>\n",
       "      <td>111886.00000</td>\n",
       "      <td>111886.000000</td>\n",
       "      <td>111886.000000</td>\n",
       "      <td>111886.000000</td>\n",
       "      <td>111886.000000</td>\n",
       "      <td>111886.000000</td>\n",
       "      <td>111886.000000</td>\n",
       "      <td>111886.000000</td>\n",
       "    </tr>\n",
       "    <tr>\n",
       "      <th>mean</th>\n",
       "      <td>92327.01674</td>\n",
       "      <td>67207.558425</td>\n",
       "      <td>5266.322389</td>\n",
       "      <td>3654.897644</td>\n",
       "      <td>25114.344510</td>\n",
       "      <td>76128.778458</td>\n",
       "      <td>101243.122968</td>\n",
       "      <td>2013.012093</td>\n",
       "    </tr>\n",
       "    <tr>\n",
       "      <th>std</th>\n",
       "      <td>32543.14780</td>\n",
       "      <td>43417.689463</td>\n",
       "      <td>11764.540181</td>\n",
       "      <td>8038.682219</td>\n",
       "      <td>15372.790545</td>\n",
       "      <td>51269.681584</td>\n",
       "      <td>65248.814471</td>\n",
       "      <td>0.818020</td>\n",
       "    </tr>\n",
       "    <tr>\n",
       "      <th>min</th>\n",
       "      <td>36160.00000</td>\n",
       "      <td>-166.010000</td>\n",
       "      <td>-0.010000</td>\n",
       "      <td>-7058.590000</td>\n",
       "      <td>-13.800000</td>\n",
       "      <td>-618.130000</td>\n",
       "      <td>-618.130000</td>\n",
       "      <td>2012.000000</td>\n",
       "    </tr>\n",
       "    <tr>\n",
       "      <th>25%</th>\n",
       "      <td>64131.25000</td>\n",
       "      <td>33644.427500</td>\n",
       "      <td>0.000000</td>\n",
       "      <td>0.000000</td>\n",
       "      <td>12143.155000</td>\n",
       "      <td>37041.205000</td>\n",
       "      <td>49674.847500</td>\n",
       "      <td>2012.000000</td>\n",
       "    </tr>\n",
       "    <tr>\n",
       "      <th>50%</th>\n",
       "      <td>92109.50000</td>\n",
       "      <td>65547.035000</td>\n",
       "      <td>0.000000</td>\n",
       "      <td>820.630000</td>\n",
       "      <td>28697.845000</td>\n",
       "      <td>72628.810000</td>\n",
       "      <td>101967.740000</td>\n",
       "      <td>2013.000000</td>\n",
       "    </tr>\n",
       "    <tr>\n",
       "      <th>75%</th>\n",
       "      <td>120678.75000</td>\n",
       "      <td>95229.030000</td>\n",
       "      <td>4865.052500</td>\n",
       "      <td>4307.017500</td>\n",
       "      <td>35608.617500</td>\n",
       "      <td>107530.010000</td>\n",
       "      <td>142991.082500</td>\n",
       "      <td>2014.000000</td>\n",
       "    </tr>\n",
       "    <tr>\n",
       "      <th>max</th>\n",
       "      <td>148654.00000</td>\n",
       "      <td>319275.010000</td>\n",
       "      <td>220909.480000</td>\n",
       "      <td>342802.630000</td>\n",
       "      <td>96570.660000</td>\n",
       "      <td>471952.640000</td>\n",
       "      <td>510732.680000</td>\n",
       "      <td>2014.000000</td>\n",
       "    </tr>\n",
       "  </tbody>\n",
       "</table>\n",
       "</div>"
      ],
      "text/plain": [
       "                 Id        BasePay    OvertimePay       OtherPay  \\\n",
       "count  111886.00000  111886.000000  111886.000000  111886.000000   \n",
       "mean    92327.01674   67207.558425    5266.322389    3654.897644   \n",
       "std     32543.14780   43417.689463   11764.540181    8038.682219   \n",
       "min     36160.00000    -166.010000      -0.010000   -7058.590000   \n",
       "25%     64131.25000   33644.427500       0.000000       0.000000   \n",
       "50%     92109.50000   65547.035000       0.000000     820.630000   \n",
       "75%    120678.75000   95229.030000    4865.052500    4307.017500   \n",
       "max    148654.00000  319275.010000  220909.480000  342802.630000   \n",
       "\n",
       "            Benefits       TotalPay  TotalPayBenefits           Year  \n",
       "count  111886.000000  111886.000000     111886.000000  111886.000000  \n",
       "mean    25114.344510   76128.778458     101243.122968    2013.012093  \n",
       "std     15372.790545   51269.681584      65248.814471       0.818020  \n",
       "min       -13.800000    -618.130000       -618.130000    2012.000000  \n",
       "25%     12143.155000   37041.205000      49674.847500    2012.000000  \n",
       "50%     28697.845000   72628.810000     101967.740000    2013.000000  \n",
       "75%     35608.617500  107530.010000     142991.082500    2014.000000  \n",
       "max     96570.660000  471952.640000     510732.680000    2014.000000  "
      ]
     },
     "execution_count": 148,
     "metadata": {},
     "output_type": "execute_result"
    }
   ],
   "source": [
    "cleaned_df = new_df.dropna()\n",
    "print(new_df.shape[0])\n",
    "print(cleaned_df.shape[0])\n",
    "cleaned_df.info()\n",
    "cleaned_df.describe()"
   ]
  },
  {
   "cell_type": "markdown",
   "metadata": {},
   "source": [
    "# Replacing empty cells with mean or median\n",
    "\n",
    "```\n",
    "df[\"BasePay\"].describe()\n",
    "x = df[\"BasePay\"].mean()\n",
    "df[\"BasePay\"].fillna(x, inplace = False)\n",
    "df[\"BasePay\"].describe()\n",
    "```\n"
   ]
  },
  {
   "cell_type": "code",
   "execution_count": 176,
   "metadata": {},
   "outputs": [
    {
     "data": {
      "text/plain": [
       "count    148045.000000\n",
       "mean      66325.448841\n",
       "std       42764.635495\n",
       "min        -166.010000\n",
       "25%       33588.200000\n",
       "50%       65007.450000\n",
       "75%       94691.050000\n",
       "max      319275.010000\n",
       "Name: BasePay, dtype: float64"
      ]
     },
     "execution_count": 176,
     "metadata": {},
     "output_type": "execute_result"
    }
   ],
   "source": [
    "df[\"BasePay\"].describe()"
   ]
  },
  {
   "cell_type": "code",
   "execution_count": 177,
   "metadata": {},
   "outputs": [],
   "source": [
    "x = df[\"BasePay\"].mean()\n",
    "df[\"BasePay\"].fillna(x, inplace = True)"
   ]
  },
  {
   "cell_type": "code",
   "execution_count": 178,
   "metadata": {},
   "outputs": [
    {
     "data": {
      "text/plain": [
       "count    148654.000000\n",
       "mean      66325.448841\n",
       "std       42676.946745\n",
       "min        -166.010000\n",
       "25%       33847.017500\n",
       "50%       65092.190000\n",
       "75%       94605.740000\n",
       "max      319275.010000\n",
       "Name: BasePay, dtype: float64"
      ]
     },
     "execution_count": 178,
     "metadata": {},
     "output_type": "execute_result"
    }
   ],
   "source": [
    "df[\"BasePay\"].describe()\n"
   ]
  },
  {
   "cell_type": "markdown",
   "metadata": {},
   "source": [
    "# Finding Relationship\n",
    "The corr() method calculates the relationship between each column in your data set.\n",
    "```\n",
    "df.corr()\n",
    "```\n",
    "The Result of the corr() method is a table with a lot of numbers that represents how well the relationship is between two columns.\n",
    "- The number varies from -1 to 1.\n",
    "- 1 means that there is a 1 to 1 relationship (a perfect correlation).\n",
    "- 0.9 is also a good relationship, and if you increase one value, the other will probably increase as well.\n",
    "- -0.9 would be just as good relationship as 0.9, but if you increase one value, the other will go down.\n",
    "- 0.2 means NOT a good relationship, meaning that if one value goes up does not mean that the other will.\n",
    "\n",
    "Example:\n",
    "```\n",
    "df = pd.read_excel('./data/Students.xls', sheet_name=0)\n",
    "df\n",
    "df.corr()\n",
    "```"
   ]
  },
  {
   "cell_type": "code",
   "execution_count": 198,
   "metadata": {},
   "outputs": [
    {
     "data": {
      "text/html": [
       "<div>\n",
       "<style scoped>\n",
       "    .dataframe tbody tr th:only-of-type {\n",
       "        vertical-align: middle;\n",
       "    }\n",
       "\n",
       "    .dataframe tbody tr th {\n",
       "        vertical-align: top;\n",
       "    }\n",
       "\n",
       "    .dataframe thead th {\n",
       "        text-align: right;\n",
       "    }\n",
       "</style>\n",
       "<table border=\"1\" class=\"dataframe\">\n",
       "  <thead>\n",
       "    <tr style=\"text-align: right;\">\n",
       "      <th></th>\n",
       "      <th>Associate Degree</th>\n",
       "      <th>Higher Diploma</th>\n",
       "      <th>Sub-degree</th>\n",
       "      <th>First year first degree</th>\n",
       "      <th>Top-up degree</th>\n",
       "      <th>Under-graduate</th>\n",
       "    </tr>\n",
       "  </thead>\n",
       "  <tbody>\n",
       "    <tr>\n",
       "      <th>Associate Degree</th>\n",
       "      <td>1.000000</td>\n",
       "      <td>0.728727</td>\n",
       "      <td>0.956570</td>\n",
       "      <td>-0.315338</td>\n",
       "      <td>-0.460673</td>\n",
       "      <td>-0.410802</td>\n",
       "    </tr>\n",
       "    <tr>\n",
       "      <th>Higher Diploma</th>\n",
       "      <td>0.728727</td>\n",
       "      <td>1.000000</td>\n",
       "      <td>0.896701</td>\n",
       "      <td>-0.189895</td>\n",
       "      <td>-0.405373</td>\n",
       "      <td>-0.327808</td>\n",
       "    </tr>\n",
       "    <tr>\n",
       "      <th>Sub-degree</th>\n",
       "      <td>0.956570</td>\n",
       "      <td>0.896701</td>\n",
       "      <td>1.000000</td>\n",
       "      <td>-0.284658</td>\n",
       "      <td>-0.470321</td>\n",
       "      <td>-0.405070</td>\n",
       "    </tr>\n",
       "    <tr>\n",
       "      <th>First year first degree</th>\n",
       "      <td>-0.315338</td>\n",
       "      <td>-0.189895</td>\n",
       "      <td>-0.284658</td>\n",
       "      <td>1.000000</td>\n",
       "      <td>0.945621</td>\n",
       "      <td>0.978879</td>\n",
       "    </tr>\n",
       "    <tr>\n",
       "      <th>Top-up degree</th>\n",
       "      <td>-0.460673</td>\n",
       "      <td>-0.405373</td>\n",
       "      <td>-0.470321</td>\n",
       "      <td>0.945621</td>\n",
       "      <td>1.000000</td>\n",
       "      <td>0.992147</td>\n",
       "    </tr>\n",
       "    <tr>\n",
       "      <th>Under-graduate</th>\n",
       "      <td>-0.410802</td>\n",
       "      <td>-0.327808</td>\n",
       "      <td>-0.405070</td>\n",
       "      <td>0.978879</td>\n",
       "      <td>0.992147</td>\n",
       "      <td>1.000000</td>\n",
       "    </tr>\n",
       "  </tbody>\n",
       "</table>\n",
       "</div>"
      ],
      "text/plain": [
       "                         Associate Degree  Higher Diploma  Sub-degree  \\\n",
       "Associate Degree                 1.000000        0.728727    0.956570   \n",
       "Higher Diploma                   0.728727        1.000000    0.896701   \n",
       "Sub-degree                       0.956570        0.896701    1.000000   \n",
       "First year first degree         -0.315338       -0.189895   -0.284658   \n",
       "Top-up degree                   -0.460673       -0.405373   -0.470321   \n",
       "Under-graduate                  -0.410802       -0.327808   -0.405070   \n",
       "\n",
       "                         First year first degree  Top-up degree  \\\n",
       "Associate Degree                       -0.315338      -0.460673   \n",
       "Higher Diploma                         -0.189895      -0.405373   \n",
       "Sub-degree                             -0.284658      -0.470321   \n",
       "First year first degree                 1.000000       0.945621   \n",
       "Top-up degree                           0.945621       1.000000   \n",
       "Under-graduate                          0.978879       0.992147   \n",
       "\n",
       "                         Under-graduate  \n",
       "Associate Degree              -0.410802  \n",
       "Higher Diploma                -0.327808  \n",
       "Sub-degree                    -0.405070  \n",
       "First year first degree        0.978879  \n",
       "Top-up degree                  0.992147  \n",
       "Under-graduate                 1.000000  "
      ]
     },
     "execution_count": 198,
     "metadata": {},
     "output_type": "execute_result"
    }
   ],
   "source": [
    "df = pd.read_excel('./data/Students.xls', sheet_name=0)\n",
    "df\n",
    "df.corr()"
   ]
  },
  {
   "cell_type": "markdown",
   "metadata": {},
   "source": [
    "# Matplotlib\n",
    "Matplotlib is a low level graph plotting library in python that serves as a visualization utility.\n",
    "**Import before you use\n",
    "```\n",
    "import matplotlib.pyplot as plt\n",
    "```\n",
    "\n",
    "Samples:\n",
    "```\n",
    "df = pd.read_excel('./data/Students.xls', sheet_name=0)\n",
    "year = df['Academic year']\n",
    "ug = df['Under-graduate']\n",
    "plt.plot(year, ug)\n",
    "plt.plot(year, ug, 'o')\n",
    "```"
   ]
  },
  {
   "cell_type": "code",
   "execution_count": 209,
   "metadata": {},
   "outputs": [
    {
     "data": {
      "text/html": [
       "<div>\n",
       "<style scoped>\n",
       "    .dataframe tbody tr th:only-of-type {\n",
       "        vertical-align: middle;\n",
       "    }\n",
       "\n",
       "    .dataframe tbody tr th {\n",
       "        vertical-align: top;\n",
       "    }\n",
       "\n",
       "    .dataframe thead th {\n",
       "        text-align: right;\n",
       "    }\n",
       "</style>\n",
       "<table border=\"1\" class=\"dataframe\">\n",
       "  <thead>\n",
       "    <tr style=\"text-align: right;\">\n",
       "      <th></th>\n",
       "      <th>Academic year</th>\n",
       "      <th>Associate Degree</th>\n",
       "      <th>Higher Diploma</th>\n",
       "      <th>Sub-degree</th>\n",
       "      <th>First year first degree</th>\n",
       "      <th>Top-up degree</th>\n",
       "      <th>Under-graduate</th>\n",
       "    </tr>\n",
       "  </thead>\n",
       "  <tbody>\n",
       "    <tr>\n",
       "      <th>0</th>\n",
       "      <td>2007/08</td>\n",
       "      <td>12029</td>\n",
       "      <td>9882</td>\n",
       "      <td>21911</td>\n",
       "      <td>2468</td>\n",
       "      <td>1731</td>\n",
       "      <td>4199</td>\n",
       "    </tr>\n",
       "    <tr>\n",
       "      <th>1</th>\n",
       "      <td>2008/09</td>\n",
       "      <td>11238</td>\n",
       "      <td>9405</td>\n",
       "      <td>20643</td>\n",
       "      <td>3004</td>\n",
       "      <td>2095</td>\n",
       "      <td>5099</td>\n",
       "    </tr>\n",
       "    <tr>\n",
       "      <th>2</th>\n",
       "      <td>2009/10</td>\n",
       "      <td>14177</td>\n",
       "      <td>10186</td>\n",
       "      <td>24363</td>\n",
       "      <td>2782</td>\n",
       "      <td>2680</td>\n",
       "      <td>5462</td>\n",
       "    </tr>\n",
       "    <tr>\n",
       "      <th>3</th>\n",
       "      <td>2010/11</td>\n",
       "      <td>17646</td>\n",
       "      <td>10715</td>\n",
       "      <td>28361</td>\n",
       "      <td>3193</td>\n",
       "      <td>3334</td>\n",
       "      <td>6527</td>\n",
       "    </tr>\n",
       "    <tr>\n",
       "      <th>4</th>\n",
       "      <td>2011/12</td>\n",
       "      <td>16018</td>\n",
       "      <td>9331</td>\n",
       "      <td>25349</td>\n",
       "      <td>3640</td>\n",
       "      <td>4081</td>\n",
       "      <td>7721</td>\n",
       "    </tr>\n",
       "    <tr>\n",
       "      <th>5</th>\n",
       "      <td>2012/13</td>\n",
       "      <td>18131</td>\n",
       "      <td>13486</td>\n",
       "      <td>31617</td>\n",
       "      <td>6796</td>\n",
       "      <td>6082</td>\n",
       "      <td>12878</td>\n",
       "    </tr>\n",
       "    <tr>\n",
       "      <th>6</th>\n",
       "      <td>2013/14</td>\n",
       "      <td>11715</td>\n",
       "      <td>9751</td>\n",
       "      <td>21466</td>\n",
       "      <td>6128</td>\n",
       "      <td>7349</td>\n",
       "      <td>13477</td>\n",
       "    </tr>\n",
       "    <tr>\n",
       "      <th>7</th>\n",
       "      <td>2014/15</td>\n",
       "      <td>10275</td>\n",
       "      <td>9483</td>\n",
       "      <td>19758</td>\n",
       "      <td>7194</td>\n",
       "      <td>10488</td>\n",
       "      <td>17682</td>\n",
       "    </tr>\n",
       "    <tr>\n",
       "      <th>8</th>\n",
       "      <td>2015/16</td>\n",
       "      <td>10942</td>\n",
       "      <td>8713</td>\n",
       "      <td>19655</td>\n",
       "      <td>6701</td>\n",
       "      <td>8736</td>\n",
       "      <td>15437</td>\n",
       "    </tr>\n",
       "    <tr>\n",
       "      <th>9</th>\n",
       "      <td>2016/17</td>\n",
       "      <td>11127</td>\n",
       "      <td>7884</td>\n",
       "      <td>19011</td>\n",
       "      <td>6153</td>\n",
       "      <td>7635</td>\n",
       "      <td>13788</td>\n",
       "    </tr>\n",
       "    <tr>\n",
       "      <th>10</th>\n",
       "      <td>2017/18</td>\n",
       "      <td>11420</td>\n",
       "      <td>6863</td>\n",
       "      <td>18283</td>\n",
       "      <td>5997</td>\n",
       "      <td>7906</td>\n",
       "      <td>13903</td>\n",
       "    </tr>\n",
       "    <tr>\n",
       "      <th>11</th>\n",
       "      <td>2018/19</td>\n",
       "      <td>11574</td>\n",
       "      <td>7263</td>\n",
       "      <td>18837</td>\n",
       "      <td>5753</td>\n",
       "      <td>8175</td>\n",
       "      <td>13928</td>\n",
       "    </tr>\n",
       "    <tr>\n",
       "      <th>12</th>\n",
       "      <td>2019/20</td>\n",
       "      <td>11170</td>\n",
       "      <td>7196</td>\n",
       "      <td>18366</td>\n",
       "      <td>6311</td>\n",
       "      <td>7863</td>\n",
       "      <td>14174</td>\n",
       "    </tr>\n",
       "  </tbody>\n",
       "</table>\n",
       "</div>"
      ],
      "text/plain": [
       "   Academic year  Associate Degree  Higher Diploma  Sub-degree  \\\n",
       "0        2007/08             12029            9882       21911   \n",
       "1        2008/09             11238            9405       20643   \n",
       "2        2009/10             14177           10186       24363   \n",
       "3        2010/11             17646           10715       28361   \n",
       "4        2011/12             16018            9331       25349   \n",
       "5        2012/13             18131           13486       31617   \n",
       "6        2013/14             11715            9751       21466   \n",
       "7        2014/15             10275            9483       19758   \n",
       "8        2015/16             10942            8713       19655   \n",
       "9        2016/17             11127            7884       19011   \n",
       "10       2017/18             11420            6863       18283   \n",
       "11       2018/19             11574            7263       18837   \n",
       "12       2019/20             11170            7196       18366   \n",
       "\n",
       "    First year first degree  Top-up degree  Under-graduate  \n",
       "0                      2468           1731            4199  \n",
       "1                      3004           2095            5099  \n",
       "2                      2782           2680            5462  \n",
       "3                      3193           3334            6527  \n",
       "4                      3640           4081            7721  \n",
       "5                      6796           6082           12878  \n",
       "6                      6128           7349           13477  \n",
       "7                      7194          10488           17682  \n",
       "8                      6701           8736           15437  \n",
       "9                      6153           7635           13788  \n",
       "10                     5997           7906           13903  \n",
       "11                     5753           8175           13928  \n",
       "12                     6311           7863           14174  "
      ]
     },
     "execution_count": 209,
     "metadata": {},
     "output_type": "execute_result"
    }
   ],
   "source": [
    "df"
   ]
  },
  {
   "cell_type": "code",
   "execution_count": 212,
   "metadata": {},
   "outputs": [],
   "source": [
    "year = df['Academic year']"
   ]
  },
  {
   "cell_type": "code",
   "execution_count": 213,
   "metadata": {},
   "outputs": [],
   "source": [
    "ug = df['Under-graduate']"
   ]
  },
  {
   "cell_type": "code",
   "execution_count": 214,
   "metadata": {},
   "outputs": [
    {
     "data": {
      "text/plain": [
       "[<matplotlib.lines.Line2D at 0x7f8f510e7a60>]"
      ]
     },
     "execution_count": 214,
     "metadata": {},
     "output_type": "execute_result"
    },
    {
     "data": {
      "image/png": "[encoded data removed]",
      "text/plain": [
       "<Figure size 432x288 with 1 Axes>"
      ]
     },
     "metadata": {
      "needs_background": "light"
     },
     "output_type": "display_data"
    }
   ],
   "source": [
    "plt.plot(year, ug)"
   ]
  },
  {
   "cell_type": "code",
   "execution_count": 223,
   "metadata": {},
   "outputs": [
    {
     "data": {
      "text/plain": [
       "[<matplotlib.lines.Line2D at 0x7f8f498e2610>]"
      ]
     },
     "execution_count": 223,
     "metadata": {},
     "output_type": "execute_result"
    },
    {
     "data": {
      "image/png": "[encoded data removed]",
      "text/plain": [
       "<Figure size 432x288 with 1 Axes>"
      ]
     },
     "metadata": {
      "needs_background": "light"
     },
     "output_type": "display_data"
    }
   ],
   "source": [
    "plt.plot(year, ug, 'o')"
   ]
  },
  {
   "cell_type": "markdown",
   "metadata": {},
   "source": [
    "# Other Markers\n",
    "`'o'`\tCircle\t\n",
    "`'*'`\tStar\t\n",
    "`'.'`\tPoint\t\n",
    "`','`\tPixel\t\n",
    "`'x'`\tX\t\n",
    "`'X'`\tX (filled)\t\n",
    "`'+'`\tPlus\t\n",
    "`'P'`\tPlus (filled)\t\n",
    "`'s'`\tSquare\t\n",
    "`'D'`\tDiamond\t\n",
    "`'d'`\tDiamond (thin)\t\n",
    "`'p'`\tPentagon\t\n",
    "`'H'`\tHexagon\t\n",
    "`'h'`\tHexagon\t\n",
    "`'v'`\tTriangle Down\t\n",
    "`'^'`\tTriangle Up\t\n",
    "`'<'`\tTriangle Left\t\n",
    "`'>'`\tTriangle Right\t\n",
    "`'1'`\tTri Down\t\n",
    "`'2'`\tTri Up\t\n",
    "`'3'`\tTri Left\t\n",
    "`'4'`\tTri Right\t\n",
    "`'|'`\tVline\t\n",
    "`'_'`\tHline"
   ]
  },
  {
   "cell_type": "code",
   "execution_count": 225,
   "metadata": {},
   "outputs": [
    {
     "data": {
      "text/plain": [
       "[<matplotlib.lines.Line2D at 0x7f8f4a5e27c0>]"
      ]
     },
     "execution_count": 225,
     "metadata": {},
     "output_type": "execute_result"
    },
    {
     "data": {
      "image/png": "[encoded data removed]",
      "text/plain": [
       "<Figure size 432x288 with 1 Axes>"
      ]
     },
     "metadata": {
      "needs_background": "light"
     },
     "output_type": "display_data"
    }
   ],
   "source": [
    "plt.plot(year, ug, 'D')"
   ]
  },
  {
   "cell_type": "markdown",
   "metadata": {},
   "source": [
    "# Configuring market size\n",
    "You can use the keyword argument markersize or the shorter version, ms to set the size of the markers:\n",
    "Example:\n",
    "```\n",
    "plt.plot(year, ug, 'D', ms=10)\n",
    "```"
   ]
  },
  {
   "cell_type": "code",
   "execution_count": 227,
   "metadata": {},
   "outputs": [
    {
     "data": {
      "text/plain": [
       "[<matplotlib.lines.Line2D at 0x7f8f4d781d90>]"
      ]
     },
     "execution_count": 227,
     "metadata": {},
     "output_type": "execute_result"
    },
    {
     "data": {
      "image/png": "[encoded data removed]",
      "text/plain": [
       "<Figure size 432x288 with 1 Axes>"
      ]
     },
     "metadata": {
      "needs_background": "light"
     },
     "output_type": "display_data"
    }
   ],
   "source": [
    "plt.plot(year, ug, 'D', ms=5)\n"
   ]
  },
  {
   "cell_type": "code",
   "execution_count": null,
   "metadata": {},
   "outputs": [],
   "source": []
  }
 ],
 "metadata": {
  "kernelspec": {
   "display_name": "Python 3",
   "language": "python",
   "name": "python3"
  },
  "language_info": {
   "codemirror_mode": {
    "name": "ipython",
    "version": 3
   },
   "file_extension": ".py",
   "mimetype": "text/x-python",
   "name": "python",
   "nbconvert_exporter": "python",
   "pygments_lexer": "ipython3",
   "version": "3.8.5"
  }
 },
 "nbformat": 4,
 "nbformat_minor": 4
}
