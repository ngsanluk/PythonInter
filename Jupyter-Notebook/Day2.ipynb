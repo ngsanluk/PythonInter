{
 "cells": [
  {
   "cell_type": "markdown",
   "metadata": {},
   "source": [
    "# Python Intermediate - Day 2\n",
    "---\n",
    "\n",
    "More on Data Visualization\n",
    "- Using Seaborn\n",
    "\n",
    "Reading **LIVE** Web Data\n",
    "- Reading JSON\n",
    "- Plotting with Live Data\n",
    "- Reading HTML\n",
    "- Web Scraping"
   ]
  },
  {
   "cell_type": "markdown",
   "metadata": {},
   "source": [
    "# Pandas Built-in Plotting\n",
    "\n",
    "The plot method on Series and DataFrame is just a simple wrapper around `plt.plot()`\n",
    "\n",
    "Using the Pandas built-in plotting is quick and easy. \n",
    "\n",
    "**import students data file**\n",
    "```\n",
    "students = pd.read_excel('./data/students.xlsx') \n",
    "```\n",
    "\n",
    "**simple plot**\n",
    "```\n",
    "students.plot()\n",
    "```\n",
    "\n",
    "The built-in plot is good enough to grab an early insight about your data.\n",
    "\n",
    "When you need some theming and styling on your plots, go for Seaborn"
   ]
  },
  {
   "cell_type": "code",
   "execution_count": 58,
   "metadata": {
    "scrolled": true
   },
   "outputs": [
    {
     "name": "stdout",
     "output_type": "stream",
     "text": [
      "<class 'pandas.core.frame.DataFrame'>\n",
      "Int64Index: 12 entries, 16 to 613\n",
      "Data columns (total 5 columns):\n",
      " #   Column             Non-Null Count  Dtype \n",
      "---  ------             --------------  ----- \n",
      " 0   AcademicYear       12 non-null     object\n",
      " 1   LevelOfStudy       12 non-null     object\n",
      " 2   ProgrammeCategory  12 non-null     object\n",
      " 3   Sex                12 non-null     object\n",
      " 4   Headcount          12 non-null     int64 \n",
      "dtypes: int64(1), object(4)\n",
      "memory usage: 576.0+ bytes\n"
     ]
    }
   ],
   "source": [
    "ug_bm_m = graduates[(graduates['LevelOfStudy']=='Undergraduate') \n",
    "                    & (graduates['ProgrammeCategory']=='Business and Management') \n",
    "                    & (graduates['Sex']=='M')]\n",
    "ug_bm_m.head() # shows the rows previews\n",
    "ug_bm_m.info() # show dataframe information"
   ]
  },
  {
   "cell_type": "code",
   "execution_count": 60,
   "metadata": {
    "scrolled": true
   },
   "outputs": [
    {
     "data": {
      "text/plain": [
       "<AxesSubplot:>"
      ]
     },
     "execution_count": 60,
     "metadata": {},
     "output_type": "execute_result"
    },
    {
     "data": {
      "image/png": "[encoded data removed]",
      "text/plain": [
       "<Figure size 432x288 with 1 Axes>"
      ]
     },
     "metadata": {},
     "output_type": "display_data"
    }
   ],
   "source": [
    "ug_bm_m.plot()"
   ]
  },
  {
   "cell_type": "code",
   "execution_count": 65,
   "metadata": {},
   "outputs": [],
   "source": [
    "students = pd.read_excel('./data/students.xlsx') "
   ]
  },
  {
   "cell_type": "code",
   "execution_count": 84,
   "metadata": {},
   "outputs": [
    {
     "data": {
      "text/html": [
       "<div>\n",
       "<style scoped>\n",
       "    .dataframe tbody tr th:only-of-type {\n",
       "        vertical-align: middle;\n",
       "    }\n",
       "\n",
       "    .dataframe tbody tr th {\n",
       "        vertical-align: top;\n",
       "    }\n",
       "\n",
       "    .dataframe thead th {\n",
       "        text-align: right;\n",
       "    }\n",
       "</style>\n",
       "<table border=\"1\" class=\"dataframe\">\n",
       "  <thead>\n",
       "    <tr style=\"text-align: right;\">\n",
       "      <th></th>\n",
       "      <th>AcademicYear</th>\n",
       "      <th>AssociateDegree</th>\n",
       "      <th>HigherDiploma</th>\n",
       "      <th>Subdegree</th>\n",
       "      <th>FirstYearFirstDegree</th>\n",
       "      <th>TopUpDegree</th>\n",
       "      <th>Undergraduate</th>\n",
       "    </tr>\n",
       "  </thead>\n",
       "  <tbody>\n",
       "    <tr>\n",
       "      <th>0</th>\n",
       "      <td>2007/08</td>\n",
       "      <td>12029</td>\n",
       "      <td>9882</td>\n",
       "      <td>21911</td>\n",
       "      <td>2468</td>\n",
       "      <td>1731</td>\n",
       "      <td>4199</td>\n",
       "    </tr>\n",
       "    <tr>\n",
       "      <th>1</th>\n",
       "      <td>2008/09</td>\n",
       "      <td>11238</td>\n",
       "      <td>9405</td>\n",
       "      <td>20643</td>\n",
       "      <td>3004</td>\n",
       "      <td>2095</td>\n",
       "      <td>5099</td>\n",
       "    </tr>\n",
       "    <tr>\n",
       "      <th>2</th>\n",
       "      <td>2009/10</td>\n",
       "      <td>14177</td>\n",
       "      <td>10186</td>\n",
       "      <td>24363</td>\n",
       "      <td>2782</td>\n",
       "      <td>2680</td>\n",
       "      <td>5462</td>\n",
       "    </tr>\n",
       "    <tr>\n",
       "      <th>3</th>\n",
       "      <td>2010/11</td>\n",
       "      <td>17646</td>\n",
       "      <td>10715</td>\n",
       "      <td>28361</td>\n",
       "      <td>3193</td>\n",
       "      <td>3334</td>\n",
       "      <td>6527</td>\n",
       "    </tr>\n",
       "    <tr>\n",
       "      <th>4</th>\n",
       "      <td>2011/12</td>\n",
       "      <td>16018</td>\n",
       "      <td>9331</td>\n",
       "      <td>25349</td>\n",
       "      <td>3640</td>\n",
       "      <td>4081</td>\n",
       "      <td>7721</td>\n",
       "    </tr>\n",
       "    <tr>\n",
       "      <th>5</th>\n",
       "      <td>2012/13</td>\n",
       "      <td>18131</td>\n",
       "      <td>13486</td>\n",
       "      <td>31617</td>\n",
       "      <td>6796</td>\n",
       "      <td>6082</td>\n",
       "      <td>12878</td>\n",
       "    </tr>\n",
       "    <tr>\n",
       "      <th>6</th>\n",
       "      <td>2013/14</td>\n",
       "      <td>11715</td>\n",
       "      <td>9751</td>\n",
       "      <td>21466</td>\n",
       "      <td>6128</td>\n",
       "      <td>7349</td>\n",
       "      <td>13477</td>\n",
       "    </tr>\n",
       "    <tr>\n",
       "      <th>7</th>\n",
       "      <td>2014/15</td>\n",
       "      <td>10275</td>\n",
       "      <td>9483</td>\n",
       "      <td>19758</td>\n",
       "      <td>7194</td>\n",
       "      <td>10488</td>\n",
       "      <td>17682</td>\n",
       "    </tr>\n",
       "    <tr>\n",
       "      <th>8</th>\n",
       "      <td>2015/16</td>\n",
       "      <td>10942</td>\n",
       "      <td>8713</td>\n",
       "      <td>19655</td>\n",
       "      <td>6701</td>\n",
       "      <td>8736</td>\n",
       "      <td>15437</td>\n",
       "    </tr>\n",
       "    <tr>\n",
       "      <th>9</th>\n",
       "      <td>2016/17</td>\n",
       "      <td>11127</td>\n",
       "      <td>7884</td>\n",
       "      <td>19011</td>\n",
       "      <td>6153</td>\n",
       "      <td>7635</td>\n",
       "      <td>13788</td>\n",
       "    </tr>\n",
       "    <tr>\n",
       "      <th>10</th>\n",
       "      <td>2017/18</td>\n",
       "      <td>11420</td>\n",
       "      <td>6863</td>\n",
       "      <td>18283</td>\n",
       "      <td>5997</td>\n",
       "      <td>7906</td>\n",
       "      <td>13903</td>\n",
       "    </tr>\n",
       "    <tr>\n",
       "      <th>11</th>\n",
       "      <td>2018/19</td>\n",
       "      <td>11574</td>\n",
       "      <td>7263</td>\n",
       "      <td>18837</td>\n",
       "      <td>5753</td>\n",
       "      <td>8175</td>\n",
       "      <td>13928</td>\n",
       "    </tr>\n",
       "    <tr>\n",
       "      <th>12</th>\n",
       "      <td>2019/20</td>\n",
       "      <td>11170</td>\n",
       "      <td>7196</td>\n",
       "      <td>18366</td>\n",
       "      <td>6311</td>\n",
       "      <td>7863</td>\n",
       "      <td>14174</td>\n",
       "    </tr>\n",
       "  </tbody>\n",
       "</table>\n",
       "</div>"
      ],
      "text/plain": [
       "   AcademicYear  AssociateDegree  HigherDiploma  Subdegree  \\\n",
       "0       2007/08            12029           9882      21911   \n",
       "1       2008/09            11238           9405      20643   \n",
       "2       2009/10            14177          10186      24363   \n",
       "3       2010/11            17646          10715      28361   \n",
       "4       2011/12            16018           9331      25349   \n",
       "5       2012/13            18131          13486      31617   \n",
       "6       2013/14            11715           9751      21466   \n",
       "7       2014/15            10275           9483      19758   \n",
       "8       2015/16            10942           8713      19655   \n",
       "9       2016/17            11127           7884      19011   \n",
       "10      2017/18            11420           6863      18283   \n",
       "11      2018/19            11574           7263      18837   \n",
       "12      2019/20            11170           7196      18366   \n",
       "\n",
       "    FirstYearFirstDegree  TopUpDegree  Undergraduate  \n",
       "0                   2468         1731           4199  \n",
       "1                   3004         2095           5099  \n",
       "2                   2782         2680           5462  \n",
       "3                   3193         3334           6527  \n",
       "4                   3640         4081           7721  \n",
       "5                   6796         6082          12878  \n",
       "6                   6128         7349          13477  \n",
       "7                   7194        10488          17682  \n",
       "8                   6701         8736          15437  \n",
       "9                   6153         7635          13788  \n",
       "10                  5997         7906          13903  \n",
       "11                  5753         8175          13928  \n",
       "12                  6311         7863          14174  "
      ]
     },
     "execution_count": 84,
     "metadata": {},
     "output_type": "execute_result"
    }
   ],
   "source": [
    "students"
   ]
  },
  {
   "cell_type": "code",
   "execution_count": 68,
   "metadata": {},
   "outputs": [
    {
     "data": {
      "text/plain": [
       "<AxesSubplot:>"
      ]
     },
     "execution_count": 68,
     "metadata": {},
     "output_type": "execute_result"
    },
    {
     "data": {
      "image/png": "[encoded data removed]",
      "text/plain": [
       "<Figure size 432x288 with 1 Axes>"
      ]
     },
     "metadata": {},
     "output_type": "display_data"
    }
   ],
   "source": [
    "students.plot()"
   ]
  },
  {
   "cell_type": "markdown",
   "metadata": {},
   "source": [
    "## Pandas Built-in Plot Types\n",
    "\n",
    "Beside the default line-plot, you can choose the following plot types.\n",
    "\n",
    "* `bar` or `barh` for bar plots\n",
    "* `hist` for histogram\n",
    "* `box` for boxplot\n",
    "* `kde` or ‘density’ for density plots\n",
    "* `area` for area plots\n",
    "* `scatter` for scatter plots\n",
    "* `hexbin` for hexagonal bin plots\n",
    "* `pie` for pie plots\n",
    "\n",
    "\n",
    "Example:\n",
    "```\n",
    "students.plot(kind='bar')\n",
    "students.plot(kind='kde')\n",
    "```"
   ]
  },
  {
   "cell_type": "code",
   "execution_count": 82,
   "metadata": {},
   "outputs": [
    {
     "data": {
      "text/plain": [
       "<AxesSubplot:ylabel='Density'>"
      ]
     },
     "execution_count": 82,
     "metadata": {},
     "output_type": "execute_result"
    },
    {
     "data": {
      "image/png": "[encoded data removed]",
      "text/plain": [
       "<Figure size 432x288 with 1 Axes>"
      ]
     },
     "metadata": {},
     "output_type": "display_data"
    }
   ],
   "source": [
    "students.plot(kind='kde')"
   ]
  },
  {
   "cell_type": "code",
   "execution_count": 88,
   "metadata": {},
   "outputs": [
    {
     "data": {
      "text/plain": [
       "(array([1, 2, 3, 4, 5, 6]),\n",
       " [Text(1, 0, 'AssociateDegree'),\n",
       "  Text(2, 0, 'HigherDiploma'),\n",
       "  Text(3, 0, 'Subdegree'),\n",
       "  Text(4, 0, 'FirstYearFirstDegree'),\n",
       "  Text(5, 0, 'TopUpDegree'),\n",
       "  Text(6, 0, 'Undergraduate')])"
      ]
     },
     "execution_count": 88,
     "metadata": {},
     "output_type": "execute_result"
    },
    {
     "data": {
      "image/png": "[encoded data removed]",
      "text/plain": [
       "<Figure size 432x288 with 1 Axes>"
      ]
     },
     "metadata": {},
     "output_type": "display_data"
    }
   ],
   "source": [
    "students.plot(kind='box')\n",
    "plt.xticks(rotation=90)"
   ]
  },
  {
   "cell_type": "markdown",
   "metadata": {},
   "source": [
    "## Plotting with Pandas Dataframe\n"
   ]
  },
  {
   "cell_type": "code",
   "execution_count": 128,
   "metadata": {},
   "outputs": [
    {
     "data": {
      "text/html": [
       "<div>\n",
       "<style scoped>\n",
       "    .dataframe tbody tr th:only-of-type {\n",
       "        vertical-align: middle;\n",
       "    }\n",
       "\n",
       "    .dataframe tbody tr th {\n",
       "        vertical-align: top;\n",
       "    }\n",
       "\n",
       "    .dataframe thead th {\n",
       "        text-align: right;\n",
       "    }\n",
       "</style>\n",
       "<table border=\"1\" class=\"dataframe\">\n",
       "  <thead>\n",
       "    <tr style=\"text-align: right;\">\n",
       "      <th></th>\n",
       "      <th>AcademicYear</th>\n",
       "      <th>AssociateDegree</th>\n",
       "      <th>HigherDiploma</th>\n",
       "      <th>Subdegree</th>\n",
       "      <th>FirstYearFirstDegree</th>\n",
       "      <th>TopUpDegree</th>\n",
       "      <th>Undergraduate</th>\n",
       "    </tr>\n",
       "  </thead>\n",
       "  <tbody>\n",
       "    <tr>\n",
       "      <th>0</th>\n",
       "      <td>2007/08</td>\n",
       "      <td>12029</td>\n",
       "      <td>9882</td>\n",
       "      <td>21911</td>\n",
       "      <td>2468</td>\n",
       "      <td>1731</td>\n",
       "      <td>4199</td>\n",
       "    </tr>\n",
       "    <tr>\n",
       "      <th>1</th>\n",
       "      <td>2008/09</td>\n",
       "      <td>11238</td>\n",
       "      <td>9405</td>\n",
       "      <td>20643</td>\n",
       "      <td>3004</td>\n",
       "      <td>2095</td>\n",
       "      <td>5099</td>\n",
       "    </tr>\n",
       "    <tr>\n",
       "      <th>2</th>\n",
       "      <td>2009/10</td>\n",
       "      <td>14177</td>\n",
       "      <td>10186</td>\n",
       "      <td>24363</td>\n",
       "      <td>2782</td>\n",
       "      <td>2680</td>\n",
       "      <td>5462</td>\n",
       "    </tr>\n",
       "    <tr>\n",
       "      <th>3</th>\n",
       "      <td>2010/11</td>\n",
       "      <td>17646</td>\n",
       "      <td>10715</td>\n",
       "      <td>28361</td>\n",
       "      <td>3193</td>\n",
       "      <td>3334</td>\n",
       "      <td>6527</td>\n",
       "    </tr>\n",
       "    <tr>\n",
       "      <th>4</th>\n",
       "      <td>2011/12</td>\n",
       "      <td>16018</td>\n",
       "      <td>9331</td>\n",
       "      <td>25349</td>\n",
       "      <td>3640</td>\n",
       "      <td>4081</td>\n",
       "      <td>7721</td>\n",
       "    </tr>\n",
       "    <tr>\n",
       "      <th>5</th>\n",
       "      <td>2012/13</td>\n",
       "      <td>18131</td>\n",
       "      <td>13486</td>\n",
       "      <td>31617</td>\n",
       "      <td>6796</td>\n",
       "      <td>6082</td>\n",
       "      <td>12878</td>\n",
       "    </tr>\n",
       "    <tr>\n",
       "      <th>6</th>\n",
       "      <td>2013/14</td>\n",
       "      <td>11715</td>\n",
       "      <td>9751</td>\n",
       "      <td>21466</td>\n",
       "      <td>6128</td>\n",
       "      <td>7349</td>\n",
       "      <td>13477</td>\n",
       "    </tr>\n",
       "    <tr>\n",
       "      <th>7</th>\n",
       "      <td>2014/15</td>\n",
       "      <td>10275</td>\n",
       "      <td>9483</td>\n",
       "      <td>19758</td>\n",
       "      <td>7194</td>\n",
       "      <td>10488</td>\n",
       "      <td>17682</td>\n",
       "    </tr>\n",
       "    <tr>\n",
       "      <th>8</th>\n",
       "      <td>2015/16</td>\n",
       "      <td>10942</td>\n",
       "      <td>8713</td>\n",
       "      <td>19655</td>\n",
       "      <td>6701</td>\n",
       "      <td>8736</td>\n",
       "      <td>15437</td>\n",
       "    </tr>\n",
       "    <tr>\n",
       "      <th>9</th>\n",
       "      <td>2016/17</td>\n",
       "      <td>11127</td>\n",
       "      <td>7884</td>\n",
       "      <td>19011</td>\n",
       "      <td>6153</td>\n",
       "      <td>7635</td>\n",
       "      <td>13788</td>\n",
       "    </tr>\n",
       "    <tr>\n",
       "      <th>10</th>\n",
       "      <td>2017/18</td>\n",
       "      <td>11420</td>\n",
       "      <td>6863</td>\n",
       "      <td>18283</td>\n",
       "      <td>5997</td>\n",
       "      <td>7906</td>\n",
       "      <td>13903</td>\n",
       "    </tr>\n",
       "    <tr>\n",
       "      <th>11</th>\n",
       "      <td>2018/19</td>\n",
       "      <td>11574</td>\n",
       "      <td>7263</td>\n",
       "      <td>18837</td>\n",
       "      <td>5753</td>\n",
       "      <td>8175</td>\n",
       "      <td>13928</td>\n",
       "    </tr>\n",
       "    <tr>\n",
       "      <th>12</th>\n",
       "      <td>2019/20</td>\n",
       "      <td>11170</td>\n",
       "      <td>7196</td>\n",
       "      <td>18366</td>\n",
       "      <td>6311</td>\n",
       "      <td>7863</td>\n",
       "      <td>14174</td>\n",
       "    </tr>\n",
       "  </tbody>\n",
       "</table>\n",
       "</div>"
      ],
      "text/plain": [
       "   AcademicYear  AssociateDegree  HigherDiploma  Subdegree  \\\n",
       "0       2007/08            12029           9882      21911   \n",
       "1       2008/09            11238           9405      20643   \n",
       "2       2009/10            14177          10186      24363   \n",
       "3       2010/11            17646          10715      28361   \n",
       "4       2011/12            16018           9331      25349   \n",
       "5       2012/13            18131          13486      31617   \n",
       "6       2013/14            11715           9751      21466   \n",
       "7       2014/15            10275           9483      19758   \n",
       "8       2015/16            10942           8713      19655   \n",
       "9       2016/17            11127           7884      19011   \n",
       "10      2017/18            11420           6863      18283   \n",
       "11      2018/19            11574           7263      18837   \n",
       "12      2019/20            11170           7196      18366   \n",
       "\n",
       "    FirstYearFirstDegree  TopUpDegree  Undergraduate  \n",
       "0                   2468         1731           4199  \n",
       "1                   3004         2095           5099  \n",
       "2                   2782         2680           5462  \n",
       "3                   3193         3334           6527  \n",
       "4                   3640         4081           7721  \n",
       "5                   6796         6082          12878  \n",
       "6                   6128         7349          13477  \n",
       "7                   7194        10488          17682  \n",
       "8                   6701         8736          15437  \n",
       "9                   6153         7635          13788  \n",
       "10                  5997         7906          13903  \n",
       "11                  5753         8175          13928  \n",
       "12                  6311         7863          14174  "
      ]
     },
     "execution_count": 128,
     "metadata": {},
     "output_type": "execute_result"
    }
   ],
   "source": [
    "students"
   ]
  },
  {
   "cell_type": "code",
   "execution_count": 129,
   "metadata": {
    "scrolled": true
   },
   "outputs": [
    {
     "data": {
      "text/plain": [
       "<AxesSubplot:xlabel='AcademicYear'>"
      ]
     },
     "execution_count": 129,
     "metadata": {},
     "output_type": "execute_result"
    },
    {
     "data": {
      "image/png": "[encoded data removed]",
      "text/plain": [
       "<Figure size 432x288 with 1 Axes>"
      ]
     },
     "metadata": {},
     "output_type": "display_data"
    }
   ],
   "source": [
    "students.plot(x='AcademicYear', y='Undergraduate')"
   ]
  },
  {
   "cell_type": "markdown",
   "metadata": {},
   "source": [
    "# Using Seaborn\n",
    "\n",
    "* Seaborn is a library that uses Matplotlib underneath to plot graphs.\n",
    "* Matplotlib usually requires numpy array as parameter while seaborn is friendly to pandas dataframe.\n",
    "* Seaborn offers built-in themes/styles and therefore makes plotting easier.\n",
    "* Seaborn is not to replace Matplotlib but complete Matplotlib.  \n",
    "* Seaborn and Matplotlib are usually used together.\n",
    "\n",
    "Import before use\n",
    "```\n",
    "import matplotlib.pyplot as plt\n",
    "import seaborn as sns\n",
    "```\n",
    "\n",
    "You usually also import numpy and pandas\n",
    "```\n",
    "import numpy as np\n",
    "import pandas as pd\n",
    "```\n"
   ]
  },
  {
   "cell_type": "code",
   "execution_count": 16,
   "metadata": {},
   "outputs": [],
   "source": [
    "import numpy as np\n",
    "import pandas as pd\n",
    "import matplotlib.pyplot as plt\n",
    "import seaborn as sns"
   ]
  },
  {
   "cell_type": "markdown",
   "metadata": {},
   "source": [
    "## Built-in Seaborn Data Sets\n",
    "\n",
    "Use the following command to load the names of built-in data sets\n",
    "```\n",
    "sns.get_dataset_names()\n",
    "```\n",
    "\n",
    "To load built-in data set\n",
    "```\n",
    "iris = sns.load_dataset('iris')\n",
    "```"
   ]
  },
  {
   "cell_type": "code",
   "execution_count": 52,
   "metadata": {},
   "outputs": [
    {
     "data": {
      "text/plain": [
       "['anagrams',\n",
       " 'anscombe',\n",
       " 'attention',\n",
       " 'brain_networks',\n",
       " 'car_crashes',\n",
       " 'diamonds',\n",
       " 'dots',\n",
       " 'exercise',\n",
       " 'flights',\n",
       " 'fmri',\n",
       " 'gammas',\n",
       " 'geyser',\n",
       " 'iris',\n",
       " 'mpg',\n",
       " 'penguins',\n",
       " 'planets',\n",
       " 'taxis',\n",
       " 'tips',\n",
       " 'titanic']"
      ]
     },
     "execution_count": 52,
     "metadata": {},
     "output_type": "execute_result"
    }
   ],
   "source": [
    "sns.get_dataset_names()"
   ]
  },
  {
   "cell_type": "code",
   "execution_count": 54,
   "metadata": {},
   "outputs": [
    {
     "data": {
      "text/html": [
       "<div>\n",
       "<style scoped>\n",
       "    .dataframe tbody tr th:only-of-type {\n",
       "        vertical-align: middle;\n",
       "    }\n",
       "\n",
       "    .dataframe tbody tr th {\n",
       "        vertical-align: top;\n",
       "    }\n",
       "\n",
       "    .dataframe thead th {\n",
       "        text-align: right;\n",
       "    }\n",
       "</style>\n",
       "<table border=\"1\" class=\"dataframe\">\n",
       "  <thead>\n",
       "    <tr style=\"text-align: right;\">\n",
       "      <th></th>\n",
       "      <th>sepal_length</th>\n",
       "      <th>sepal_width</th>\n",
       "      <th>petal_length</th>\n",
       "      <th>petal_width</th>\n",
       "      <th>species</th>\n",
       "    </tr>\n",
       "  </thead>\n",
       "  <tbody>\n",
       "    <tr>\n",
       "      <th>0</th>\n",
       "      <td>5.1</td>\n",
       "      <td>3.5</td>\n",
       "      <td>1.4</td>\n",
       "      <td>0.2</td>\n",
       "      <td>setosa</td>\n",
       "    </tr>\n",
       "    <tr>\n",
       "      <th>1</th>\n",
       "      <td>4.9</td>\n",
       "      <td>3.0</td>\n",
       "      <td>1.4</td>\n",
       "      <td>0.2</td>\n",
       "      <td>setosa</td>\n",
       "    </tr>\n",
       "    <tr>\n",
       "      <th>2</th>\n",
       "      <td>4.7</td>\n",
       "      <td>3.2</td>\n",
       "      <td>1.3</td>\n",
       "      <td>0.2</td>\n",
       "      <td>setosa</td>\n",
       "    </tr>\n",
       "    <tr>\n",
       "      <th>3</th>\n",
       "      <td>4.6</td>\n",
       "      <td>3.1</td>\n",
       "      <td>1.5</td>\n",
       "      <td>0.2</td>\n",
       "      <td>setosa</td>\n",
       "    </tr>\n",
       "    <tr>\n",
       "      <th>4</th>\n",
       "      <td>5.0</td>\n",
       "      <td>3.6</td>\n",
       "      <td>1.4</td>\n",
       "      <td>0.2</td>\n",
       "      <td>setosa</td>\n",
       "    </tr>\n",
       "    <tr>\n",
       "      <th>...</th>\n",
       "      <td>...</td>\n",
       "      <td>...</td>\n",
       "      <td>...</td>\n",
       "      <td>...</td>\n",
       "      <td>...</td>\n",
       "    </tr>\n",
       "    <tr>\n",
       "      <th>145</th>\n",
       "      <td>6.7</td>\n",
       "      <td>3.0</td>\n",
       "      <td>5.2</td>\n",
       "      <td>2.3</td>\n",
       "      <td>virginica</td>\n",
       "    </tr>\n",
       "    <tr>\n",
       "      <th>146</th>\n",
       "      <td>6.3</td>\n",
       "      <td>2.5</td>\n",
       "      <td>5.0</td>\n",
       "      <td>1.9</td>\n",
       "      <td>virginica</td>\n",
       "    </tr>\n",
       "    <tr>\n",
       "      <th>147</th>\n",
       "      <td>6.5</td>\n",
       "      <td>3.0</td>\n",
       "      <td>5.2</td>\n",
       "      <td>2.0</td>\n",
       "      <td>virginica</td>\n",
       "    </tr>\n",
       "    <tr>\n",
       "      <th>148</th>\n",
       "      <td>6.2</td>\n",
       "      <td>3.4</td>\n",
       "      <td>5.4</td>\n",
       "      <td>2.3</td>\n",
       "      <td>virginica</td>\n",
       "    </tr>\n",
       "    <tr>\n",
       "      <th>149</th>\n",
       "      <td>5.9</td>\n",
       "      <td>3.0</td>\n",
       "      <td>5.1</td>\n",
       "      <td>1.8</td>\n",
       "      <td>virginica</td>\n",
       "    </tr>\n",
       "  </tbody>\n",
       "</table>\n",
       "<p>150 rows × 5 columns</p>\n",
       "</div>"
      ],
      "text/plain": [
       "     sepal_length  sepal_width  petal_length  petal_width    species\n",
       "0             5.1          3.5           1.4          0.2     setosa\n",
       "1             4.9          3.0           1.4          0.2     setosa\n",
       "2             4.7          3.2           1.3          0.2     setosa\n",
       "3             4.6          3.1           1.5          0.2     setosa\n",
       "4             5.0          3.6           1.4          0.2     setosa\n",
       "..            ...          ...           ...          ...        ...\n",
       "145           6.7          3.0           5.2          2.3  virginica\n",
       "146           6.3          2.5           5.0          1.9  virginica\n",
       "147           6.5          3.0           5.2          2.0  virginica\n",
       "148           6.2          3.4           5.4          2.3  virginica\n",
       "149           5.9          3.0           5.1          1.8  virginica\n",
       "\n",
       "[150 rows x 5 columns]"
      ]
     },
     "execution_count": 54,
     "metadata": {},
     "output_type": "execute_result"
    }
   ],
   "source": [
    "iris = sns.load_dataset('iris')\n",
    "iris"
   ]
  },
  {
   "cell_type": "code",
   "execution_count": 56,
   "metadata": {
    "scrolled": true
   },
   "outputs": [
    {
     "data": {
      "text/plain": [
       "<AxesSubplot:xlabel='sepal_length', ylabel='sepal_width'>"
      ]
     },
     "execution_count": 56,
     "metadata": {},
     "output_type": "execute_result"
    },
    {
     "data": {
      "image/png": "[encoded data removed]",
      "text/plain": [
       "<Figure size 432x288 with 1 Axes>"
      ]
     },
     "metadata": {},
     "output_type": "display_data"
    }
   ],
   "source": [
    "sns.scatterplot(data=iris, x='sepal_length', y='sepal_width')"
   ]
  },
  {
   "cell_type": "code",
   "execution_count": 90,
   "metadata": {},
   "outputs": [
    {
     "data": {
      "text/plain": [
       "<AxesSubplot:xlabel='petal_length', ylabel='petal_width'>"
      ]
     },
     "execution_count": 90,
     "metadata": {},
     "output_type": "execute_result"
    },
    {
     "data": {
      "image/png": "[encoded data removed]",
      "text/plain": [
       "<Figure size 432x288 with 1 Axes>"
      ]
     },
     "metadata": {},
     "output_type": "display_data"
    }
   ],
   "source": [
    "sns.scatterplot(data=iris, x='petal_length', y='petal_width')"
   ]
  },
  {
   "cell_type": "markdown",
   "metadata": {},
   "source": [
    "# Loading Data\n",
    "\n",
    "**Reading CSV File**\n",
    "```\n",
    "graduates = pd.read_csv('./data/graduates.csv') \n",
    "```\n",
    "\n",
    "**Extracting Rows**\n",
    "```\n",
    "ug_bm_m = graduates[(graduates['LevelOfStudy']=='Undergraduate') \n",
    "                    & (graduates['ProgrammeCategory']=='Business and Management') \n",
    "                    & (graduates['Sex']=='M')]\n",
    "```\n",
    "\n",
    "**Extrating the column array for plotting**\n",
    "```\n",
    "year = ug_bm_m['AcademicYear']\n",
    "headcount = ug_bm_m['Headcount']\n",
    "```"
   ]
  },
  {
   "cell_type": "code",
   "execution_count": 95,
   "metadata": {},
   "outputs": [],
   "source": [
    "graduates = pd.read_csv('./data/graduates.csv') "
   ]
  },
  {
   "cell_type": "code",
   "execution_count": 97,
   "metadata": {},
   "outputs": [],
   "source": [
    "ug_bm_m = graduates[(graduates['LevelOfStudy']=='Undergraduate') \n",
    "                    & (graduates['ProgrammeCategory']=='Business and Management') \n",
    "                    & (graduates['Sex']=='M')]\n",
    "\n",
    "year = ug_bm_m['AcademicYear']\n",
    "headcount = ug_bm_m['Headcount']"
   ]
  },
  {
   "cell_type": "markdown",
   "metadata": {},
   "source": [
    "## Matplotlib Style\n",
    "\n",
    "```\n",
    "\n",
    "```"
   ]
  },
  {
   "cell_type": "code",
   "execution_count": 98,
   "metadata": {},
   "outputs": [
    {
     "data": {
      "text/plain": [
       "[<matplotlib.lines.Line2D at 0x7fbe4fdf6970>]"
      ]
     },
     "execution_count": 98,
     "metadata": {},
     "output_type": "execute_result"
    },
    {
     "data": {
      "image/png": "[encoded data removed]",
      "text/plain": [
       "<Figure size 432x288 with 1 Axes>"
      ]
     },
     "metadata": {},
     "output_type": "display_data"
    }
   ],
   "source": [
    "plt.plot(year, headcount)"
   ]
  },
  {
   "cell_type": "markdown",
   "metadata": {},
   "source": [
    "## Set to Seaborn Style\n",
    "\n",
    "```\n",
    "sns.set() # set to seaborn style\n",
    "plt.plot(year, headcount)\n",
    "```"
   ]
  },
  {
   "cell_type": "code",
   "execution_count": 103,
   "metadata": {
    "scrolled": true
   },
   "outputs": [
    {
     "data": {
      "text/plain": [
       "[<matplotlib.lines.Line2D at 0x7fbe4eb249a0>]"
      ]
     },
     "execution_count": 103,
     "metadata": {},
     "output_type": "execute_result"
    },
    {
     "data": {
      "image/png": "[encoded data removed]",
      "text/plain": [
       "<Figure size 432x288 with 1 Axes>"
      ]
     },
     "metadata": {},
     "output_type": "display_data"
    }
   ],
   "source": [
    "sns.set() # set to seaborn style\n",
    "plt.plot(year, headcount)"
   ]
  },
  {
   "cell_type": "markdown",
   "metadata": {},
   "source": [
    "## Seaborn and Matplotlib are Usually Used Together\n",
    "\n",
    "Example:\n",
    "```\n",
    "sns.set() # set to seaborn style\n",
    "plt.xticks(rotation=90) # calling Matplotlib xticks rotation function\n",
    "plt.plot(year, headcount)\n",
    "\n",
    "```"
   ]
  },
  {
   "cell_type": "code",
   "execution_count": 106,
   "metadata": {},
   "outputs": [
    {
     "data": {
      "text/plain": [
       "[<matplotlib.lines.Line2D at 0x7fbe4ffc7100>]"
      ]
     },
     "execution_count": 106,
     "metadata": {},
     "output_type": "execute_result"
    },
    {
     "data": {
      "image/png": "[encoded data removed]",
      "text/plain": [
       "<Figure size 432x288 with 1 Axes>"
      ]
     },
     "metadata": {},
     "output_type": "display_data"
    }
   ],
   "source": [
    "sns.set() # set to seaborn style\n",
    "plt.xticks(rotation=90) # calling Matplotlib xticks rotation function\n",
    "plt.plot(year, headcount)"
   ]
  },
  {
   "cell_type": "markdown",
   "metadata": {},
   "source": [
    "## Style & Scale\n",
    "Seaborn splits the Matplotlib parameters into two groups\n",
    "\n",
    "* Plot styles\n",
    "* Plot scale\n",
    "\n",
    "\n",
    "Use seaborn's `set_style()` function to manipulate the styles.\n",
    "\n",
    "Below are some themes\n",
    "* `darkgrid`\n",
    "* `whitegrid`\n",
    "* `dark`\n",
    "* `white`\n",
    "* `ticks`\n",
    "\n",
    "**Example**:\n",
    "``\n",
    "sns.set_style('white')\n",
    "plt.plot(year, headcount)\n",
    "```"
   ]
  },
  {
   "cell_type": "code",
   "execution_count": 111,
   "metadata": {},
   "outputs": [
    {
     "data": {
      "text/plain": [
       "[<matplotlib.lines.Line2D at 0x7fbe515e36d0>]"
      ]
     },
     "execution_count": 111,
     "metadata": {},
     "output_type": "execute_result"
    },
    {
     "data": {
      "image/png": "[encoded data removed]",
      "text/plain": [
       "<Figure size 432x288 with 1 Axes>"
      ]
     },
     "metadata": {},
     "output_type": "display_data"
    }
   ],
   "source": [
    "sns.set_style('white')\n",
    "plt.plot(year, headcount)"
   ]
  },
  {
   "cell_type": "markdown",
   "metadata": {},
   "source": [
    "## Removing Axes Spines"
   ]
  },
  {
   "cell_type": "code",
   "execution_count": 112,
   "metadata": {},
   "outputs": [
    {
     "data": {
      "image/png": "[encoded data removed]",
      "text/plain": [
       "<Figure size 432x288 with 1 Axes>"
      ]
     },
     "metadata": {},
     "output_type": "display_data"
    }
   ],
   "source": [
    "sns.set_style('white')\n",
    "plt.plot(year, headcount)\n",
    "sns.despine()"
   ]
  },
  {
   "cell_type": "markdown",
   "metadata": {},
   "source": [
    "## Default Color Palettes\n",
    "\n",
    "**`color_palette()` give colors to plots and adding more aesthetic value to it**\n",
    "\n",
    "```\n",
    "current_palette = sns.color_palette()\n",
    "sns.palplot(current_palette) # plot the array of colors horizontally\n",
    "plt.show()\n",
    "```"
   ]
  },
  {
   "cell_type": "code",
   "execution_count": 114,
   "metadata": {},
   "outputs": [
    {
     "data": {
      "image/png": "[encoded data removed]",
      "text/plain": [
       "<Figure size 720x72 with 1 Axes>"
      ]
     },
     "metadata": {},
     "output_type": "display_data"
    }
   ],
   "source": [
    "current_palette = sns.color_palette()\n",
    "sns.palplot(current_palette) # plot the array of colors horizontally\n",
    "plt.show()"
   ]
  },
  {
   "cell_type": "code",
   "execution_count": 115,
   "metadata": {},
   "outputs": [
    {
     "data": {
      "image/png": "[encoded data removed]",
      "text/plain": [
       "<Figure size 432x72 with 1 Axes>"
      ]
     },
     "metadata": {},
     "output_type": "display_data"
    }
   ],
   "source": [
    "new_palette = sns.color_palette(\"Greens\")\n",
    "sns.palplot(new_palette) # plot the array of colors horizontally\n",
    "plt.show()"
   ]
  },
  {
   "cell_type": "markdown",
   "metadata": {},
   "source": [
    "## Line Plot\n",
    "\n",
    "```\n",
    "ug_bm_m\n",
    "sns.lineplot(x='AcademicYear', y='Headcount', data=ug_bm_m)\n",
    "```"
   ]
  },
  {
   "cell_type": "code",
   "execution_count": 132,
   "metadata": {},
   "outputs": [
    {
     "data": {
      "text/html": [
       "<div>\n",
       "<style scoped>\n",
       "    .dataframe tbody tr th:only-of-type {\n",
       "        vertical-align: middle;\n",
       "    }\n",
       "\n",
       "    .dataframe tbody tr th {\n",
       "        vertical-align: top;\n",
       "    }\n",
       "\n",
       "    .dataframe thead th {\n",
       "        text-align: right;\n",
       "    }\n",
       "</style>\n",
       "<table border=\"1\" class=\"dataframe\">\n",
       "  <thead>\n",
       "    <tr style=\"text-align: right;\">\n",
       "      <th></th>\n",
       "      <th>AcademicYear</th>\n",
       "      <th>LevelOfStudy</th>\n",
       "      <th>ProgrammeCategory</th>\n",
       "      <th>Sex</th>\n",
       "      <th>Headcount</th>\n",
       "    </tr>\n",
       "  </thead>\n",
       "  <tbody>\n",
       "    <tr>\n",
       "      <th>16</th>\n",
       "      <td>2009/10</td>\n",
       "      <td>Undergraduate</td>\n",
       "      <td>Business and Management</td>\n",
       "      <td>M</td>\n",
       "      <td>1861</td>\n",
       "    </tr>\n",
       "    <tr>\n",
       "      <th>72</th>\n",
       "      <td>2010/11</td>\n",
       "      <td>Undergraduate</td>\n",
       "      <td>Business and Management</td>\n",
       "      <td>M</td>\n",
       "      <td>1900</td>\n",
       "    </tr>\n",
       "    <tr>\n",
       "      <th>128</th>\n",
       "      <td>2011/12</td>\n",
       "      <td>Undergraduate</td>\n",
       "      <td>Business and Management</td>\n",
       "      <td>M</td>\n",
       "      <td>1815</td>\n",
       "    </tr>\n",
       "    <tr>\n",
       "      <th>184</th>\n",
       "      <td>2012/13</td>\n",
       "      <td>Undergraduate</td>\n",
       "      <td>Business and Management</td>\n",
       "      <td>M</td>\n",
       "      <td>1826</td>\n",
       "    </tr>\n",
       "    <tr>\n",
       "      <th>240</th>\n",
       "      <td>2013/14</td>\n",
       "      <td>Undergraduate</td>\n",
       "      <td>Business and Management</td>\n",
       "      <td>M</td>\n",
       "      <td>1881</td>\n",
       "    </tr>\n",
       "    <tr>\n",
       "      <th>296</th>\n",
       "      <td>2014/15</td>\n",
       "      <td>Undergraduate</td>\n",
       "      <td>Business and Management</td>\n",
       "      <td>M</td>\n",
       "      <td>1927</td>\n",
       "    </tr>\n",
       "    <tr>\n",
       "      <th>349</th>\n",
       "      <td>2015/16</td>\n",
       "      <td>Undergraduate</td>\n",
       "      <td>Business and Management</td>\n",
       "      <td>M</td>\n",
       "      <td>1881</td>\n",
       "    </tr>\n",
       "    <tr>\n",
       "      <th>403</th>\n",
       "      <td>2016/17</td>\n",
       "      <td>Undergraduate</td>\n",
       "      <td>Business and Management</td>\n",
       "      <td>M</td>\n",
       "      <td>1892</td>\n",
       "    </tr>\n",
       "    <tr>\n",
       "      <th>457</th>\n",
       "      <td>2017/18</td>\n",
       "      <td>Undergraduate</td>\n",
       "      <td>Business and Management</td>\n",
       "      <td>M</td>\n",
       "      <td>1944</td>\n",
       "    </tr>\n",
       "    <tr>\n",
       "      <th>511</th>\n",
       "      <td>2018/19</td>\n",
       "      <td>Undergraduate</td>\n",
       "      <td>Business and Management</td>\n",
       "      <td>M</td>\n",
       "      <td>1826</td>\n",
       "    </tr>\n",
       "    <tr>\n",
       "      <th>563</th>\n",
       "      <td>2019/20</td>\n",
       "      <td>Undergraduate</td>\n",
       "      <td>Business and Management</td>\n",
       "      <td>M</td>\n",
       "      <td>1902</td>\n",
       "    </tr>\n",
       "    <tr>\n",
       "      <th>613</th>\n",
       "      <td>2020/21</td>\n",
       "      <td>Undergraduate</td>\n",
       "      <td>Business and Management</td>\n",
       "      <td>M</td>\n",
       "      <td>1959</td>\n",
       "    </tr>\n",
       "  </tbody>\n",
       "</table>\n",
       "</div>"
      ],
      "text/plain": [
       "    AcademicYear   LevelOfStudy        ProgrammeCategory Sex  Headcount\n",
       "16       2009/10  Undergraduate  Business and Management   M       1861\n",
       "72       2010/11  Undergraduate  Business and Management   M       1900\n",
       "128      2011/12  Undergraduate  Business and Management   M       1815\n",
       "184      2012/13  Undergraduate  Business and Management   M       1826\n",
       "240      2013/14  Undergraduate  Business and Management   M       1881\n",
       "296      2014/15  Undergraduate  Business and Management   M       1927\n",
       "349      2015/16  Undergraduate  Business and Management   M       1881\n",
       "403      2016/17  Undergraduate  Business and Management   M       1892\n",
       "457      2017/18  Undergraduate  Business and Management   M       1944\n",
       "511      2018/19  Undergraduate  Business and Management   M       1826\n",
       "563      2019/20  Undergraduate  Business and Management   M       1902\n",
       "613      2020/21  Undergraduate  Business and Management   M       1959"
      ]
     },
     "execution_count": 132,
     "metadata": {},
     "output_type": "execute_result"
    }
   ],
   "source": [
    "ug_bm_m"
   ]
  },
  {
   "cell_type": "code",
   "execution_count": 130,
   "metadata": {},
   "outputs": [
    {
     "data": {
      "text/plain": [
       "<AxesSubplot:xlabel='AcademicYear', ylabel='Headcount'>"
      ]
     },
     "execution_count": 130,
     "metadata": {},
     "output_type": "execute_result"
    },
    {
     "data": {
      "image/png": "[encoded data removed]",
      "text/plain": [
       "<Figure size 432x288 with 1 Axes>"
      ]
     },
     "metadata": {},
     "output_type": "display_data"
    }
   ],
   "source": [
    "sns.lineplot(x='AcademicYear', y='Headcount', data=ug_bm_m)"
   ]
  },
  {
   "cell_type": "code",
   "execution_count": 121,
   "metadata": {},
   "outputs": [
    {
     "data": {
      "text/html": [
       "<div>\n",
       "<style scoped>\n",
       "    .dataframe tbody tr th:only-of-type {\n",
       "        vertical-align: middle;\n",
       "    }\n",
       "\n",
       "    .dataframe tbody tr th {\n",
       "        vertical-align: top;\n",
       "    }\n",
       "\n",
       "    .dataframe thead th {\n",
       "        text-align: right;\n",
       "    }\n",
       "</style>\n",
       "<table border=\"1\" class=\"dataframe\">\n",
       "  <thead>\n",
       "    <tr style=\"text-align: right;\">\n",
       "      <th></th>\n",
       "      <th>AcademicYear</th>\n",
       "      <th>LevelOfStudy</th>\n",
       "      <th>ProgrammeCategory</th>\n",
       "      <th>Sex</th>\n",
       "      <th>Headcount</th>\n",
       "    </tr>\n",
       "  </thead>\n",
       "  <tbody>\n",
       "    <tr>\n",
       "      <th>16</th>\n",
       "      <td>2009/10</td>\n",
       "      <td>Undergraduate</td>\n",
       "      <td>Business and Management</td>\n",
       "      <td>M</td>\n",
       "      <td>1861</td>\n",
       "    </tr>\n",
       "    <tr>\n",
       "      <th>17</th>\n",
       "      <td>2009/10</td>\n",
       "      <td>Undergraduate</td>\n",
       "      <td>Business and Management</td>\n",
       "      <td>F</td>\n",
       "      <td>2314</td>\n",
       "    </tr>\n",
       "    <tr>\n",
       "      <th>72</th>\n",
       "      <td>2010/11</td>\n",
       "      <td>Undergraduate</td>\n",
       "      <td>Business and Management</td>\n",
       "      <td>M</td>\n",
       "      <td>1900</td>\n",
       "    </tr>\n",
       "    <tr>\n",
       "      <th>73</th>\n",
       "      <td>2010/11</td>\n",
       "      <td>Undergraduate</td>\n",
       "      <td>Business and Management</td>\n",
       "      <td>F</td>\n",
       "      <td>2417</td>\n",
       "    </tr>\n",
       "    <tr>\n",
       "      <th>128</th>\n",
       "      <td>2011/12</td>\n",
       "      <td>Undergraduate</td>\n",
       "      <td>Business and Management</td>\n",
       "      <td>M</td>\n",
       "      <td>1815</td>\n",
       "    </tr>\n",
       "    <tr>\n",
       "      <th>129</th>\n",
       "      <td>2011/12</td>\n",
       "      <td>Undergraduate</td>\n",
       "      <td>Business and Management</td>\n",
       "      <td>F</td>\n",
       "      <td>2332</td>\n",
       "    </tr>\n",
       "    <tr>\n",
       "      <th>184</th>\n",
       "      <td>2012/13</td>\n",
       "      <td>Undergraduate</td>\n",
       "      <td>Business and Management</td>\n",
       "      <td>M</td>\n",
       "      <td>1826</td>\n",
       "    </tr>\n",
       "    <tr>\n",
       "      <th>185</th>\n",
       "      <td>2012/13</td>\n",
       "      <td>Undergraduate</td>\n",
       "      <td>Business and Management</td>\n",
       "      <td>F</td>\n",
       "      <td>2315</td>\n",
       "    </tr>\n",
       "    <tr>\n",
       "      <th>240</th>\n",
       "      <td>2013/14</td>\n",
       "      <td>Undergraduate</td>\n",
       "      <td>Business and Management</td>\n",
       "      <td>M</td>\n",
       "      <td>1881</td>\n",
       "    </tr>\n",
       "    <tr>\n",
       "      <th>241</th>\n",
       "      <td>2013/14</td>\n",
       "      <td>Undergraduate</td>\n",
       "      <td>Business and Management</td>\n",
       "      <td>F</td>\n",
       "      <td>2374</td>\n",
       "    </tr>\n",
       "    <tr>\n",
       "      <th>296</th>\n",
       "      <td>2014/15</td>\n",
       "      <td>Undergraduate</td>\n",
       "      <td>Business and Management</td>\n",
       "      <td>M</td>\n",
       "      <td>1927</td>\n",
       "    </tr>\n",
       "    <tr>\n",
       "      <th>297</th>\n",
       "      <td>2014/15</td>\n",
       "      <td>Undergraduate</td>\n",
       "      <td>Business and Management</td>\n",
       "      <td>F</td>\n",
       "      <td>2471</td>\n",
       "    </tr>\n",
       "    <tr>\n",
       "      <th>349</th>\n",
       "      <td>2015/16</td>\n",
       "      <td>Undergraduate</td>\n",
       "      <td>Business and Management</td>\n",
       "      <td>M</td>\n",
       "      <td>1881</td>\n",
       "    </tr>\n",
       "    <tr>\n",
       "      <th>350</th>\n",
       "      <td>2015/16</td>\n",
       "      <td>Undergraduate</td>\n",
       "      <td>Business and Management</td>\n",
       "      <td>F</td>\n",
       "      <td>2878</td>\n",
       "    </tr>\n",
       "    <tr>\n",
       "      <th>403</th>\n",
       "      <td>2016/17</td>\n",
       "      <td>Undergraduate</td>\n",
       "      <td>Business and Management</td>\n",
       "      <td>M</td>\n",
       "      <td>1892</td>\n",
       "    </tr>\n",
       "    <tr>\n",
       "      <th>404</th>\n",
       "      <td>2016/17</td>\n",
       "      <td>Undergraduate</td>\n",
       "      <td>Business and Management</td>\n",
       "      <td>F</td>\n",
       "      <td>2876</td>\n",
       "    </tr>\n",
       "    <tr>\n",
       "      <th>457</th>\n",
       "      <td>2017/18</td>\n",
       "      <td>Undergraduate</td>\n",
       "      <td>Business and Management</td>\n",
       "      <td>M</td>\n",
       "      <td>1944</td>\n",
       "    </tr>\n",
       "    <tr>\n",
       "      <th>458</th>\n",
       "      <td>2017/18</td>\n",
       "      <td>Undergraduate</td>\n",
       "      <td>Business and Management</td>\n",
       "      <td>F</td>\n",
       "      <td>2702</td>\n",
       "    </tr>\n",
       "    <tr>\n",
       "      <th>511</th>\n",
       "      <td>2018/19</td>\n",
       "      <td>Undergraduate</td>\n",
       "      <td>Business and Management</td>\n",
       "      <td>M</td>\n",
       "      <td>1826</td>\n",
       "    </tr>\n",
       "    <tr>\n",
       "      <th>512</th>\n",
       "      <td>2018/19</td>\n",
       "      <td>Undergraduate</td>\n",
       "      <td>Business and Management</td>\n",
       "      <td>F</td>\n",
       "      <td>2780</td>\n",
       "    </tr>\n",
       "    <tr>\n",
       "      <th>563</th>\n",
       "      <td>2019/20</td>\n",
       "      <td>Undergraduate</td>\n",
       "      <td>Business and Management</td>\n",
       "      <td>M</td>\n",
       "      <td>1902</td>\n",
       "    </tr>\n",
       "    <tr>\n",
       "      <th>564</th>\n",
       "      <td>2019/20</td>\n",
       "      <td>Undergraduate</td>\n",
       "      <td>Business and Management</td>\n",
       "      <td>F</td>\n",
       "      <td>2814</td>\n",
       "    </tr>\n",
       "    <tr>\n",
       "      <th>613</th>\n",
       "      <td>2020/21</td>\n",
       "      <td>Undergraduate</td>\n",
       "      <td>Business and Management</td>\n",
       "      <td>M</td>\n",
       "      <td>1959</td>\n",
       "    </tr>\n",
       "    <tr>\n",
       "      <th>614</th>\n",
       "      <td>2020/21</td>\n",
       "      <td>Undergraduate</td>\n",
       "      <td>Business and Management</td>\n",
       "      <td>F</td>\n",
       "      <td>2820</td>\n",
       "    </tr>\n",
       "  </tbody>\n",
       "</table>\n",
       "</div>"
      ],
      "text/plain": [
       "    AcademicYear   LevelOfStudy        ProgrammeCategory Sex  Headcount\n",
       "16       2009/10  Undergraduate  Business and Management   M       1861\n",
       "17       2009/10  Undergraduate  Business and Management   F       2314\n",
       "72       2010/11  Undergraduate  Business and Management   M       1900\n",
       "73       2010/11  Undergraduate  Business and Management   F       2417\n",
       "128      2011/12  Undergraduate  Business and Management   M       1815\n",
       "129      2011/12  Undergraduate  Business and Management   F       2332\n",
       "184      2012/13  Undergraduate  Business and Management   M       1826\n",
       "185      2012/13  Undergraduate  Business and Management   F       2315\n",
       "240      2013/14  Undergraduate  Business and Management   M       1881\n",
       "241      2013/14  Undergraduate  Business and Management   F       2374\n",
       "296      2014/15  Undergraduate  Business and Management   M       1927\n",
       "297      2014/15  Undergraduate  Business and Management   F       2471\n",
       "349      2015/16  Undergraduate  Business and Management   M       1881\n",
       "350      2015/16  Undergraduate  Business and Management   F       2878\n",
       "403      2016/17  Undergraduate  Business and Management   M       1892\n",
       "404      2016/17  Undergraduate  Business and Management   F       2876\n",
       "457      2017/18  Undergraduate  Business and Management   M       1944\n",
       "458      2017/18  Undergraduate  Business and Management   F       2702\n",
       "511      2018/19  Undergraduate  Business and Management   M       1826\n",
       "512      2018/19  Undergraduate  Business and Management   F       2780\n",
       "563      2019/20  Undergraduate  Business and Management   M       1902\n",
       "564      2019/20  Undergraduate  Business and Management   F       2814\n",
       "613      2020/21  Undergraduate  Business and Management   M       1959\n",
       "614      2020/21  Undergraduate  Business and Management   F       2820"
      ]
     },
     "execution_count": 121,
     "metadata": {},
     "output_type": "execute_result"
    }
   ],
   "source": [
    "ug_bm = graduates[(graduates['LevelOfStudy']=='Undergraduate') \n",
    "                    & (graduates['ProgrammeCategory']=='Business and Management')]\n",
    "ug_bm"
   ]
  },
  {
   "cell_type": "code",
   "execution_count": 133,
   "metadata": {},
   "outputs": [
    {
     "data": {
      "text/plain": [
       "<AxesSubplot:xlabel='AcademicYear', ylabel='Headcount'>"
      ]
     },
     "execution_count": 133,
     "metadata": {},
     "output_type": "execute_result"
    },
    {
     "data": {
      "image/png": "[encoded data removed]",
      "text/plain": [
       "<Figure size 432x288 with 1 Axes>"
      ]
     },
     "metadata": {},
     "output_type": "display_data"
    }
   ],
   "source": [
    "plt.xticks(rotation=90)\n",
    "sns.lineplot(x='AcademicYear', y='Headcount', data=ug_bm, hue='Sex')"
   ]
  },
  {
   "cell_type": "code",
   "execution_count": 135,
   "metadata": {},
   "outputs": [
    {
     "data": {
      "text/html": [
       "<div>\n",
       "<style scoped>\n",
       "    .dataframe tbody tr th:only-of-type {\n",
       "        vertical-align: middle;\n",
       "    }\n",
       "\n",
       "    .dataframe tbody tr th {\n",
       "        vertical-align: top;\n",
       "    }\n",
       "\n",
       "    .dataframe thead th {\n",
       "        text-align: right;\n",
       "    }\n",
       "</style>\n",
       "<table border=\"1\" class=\"dataframe\">\n",
       "  <thead>\n",
       "    <tr style=\"text-align: right;\">\n",
       "      <th></th>\n",
       "      <th>AcademicYear</th>\n",
       "      <th>LevelOfStudy</th>\n",
       "      <th>ProgrammeCategory</th>\n",
       "      <th>Sex</th>\n",
       "      <th>Headcount</th>\n",
       "    </tr>\n",
       "  </thead>\n",
       "  <tbody>\n",
       "    <tr>\n",
       "      <th>15</th>\n",
       "      <td>2009/10</td>\n",
       "      <td>Undergraduate</td>\n",
       "      <td>Arts and Humanities</td>\n",
       "      <td>F</td>\n",
       "      <td>1788</td>\n",
       "    </tr>\n",
       "    <tr>\n",
       "      <th>17</th>\n",
       "      <td>2009/10</td>\n",
       "      <td>Undergraduate</td>\n",
       "      <td>Business and Management</td>\n",
       "      <td>F</td>\n",
       "      <td>2314</td>\n",
       "    </tr>\n",
       "    <tr>\n",
       "      <th>19</th>\n",
       "      <td>2009/10</td>\n",
       "      <td>Undergraduate</td>\n",
       "      <td>Education</td>\n",
       "      <td>F</td>\n",
       "      <td>579</td>\n",
       "    </tr>\n",
       "    <tr>\n",
       "      <th>21</th>\n",
       "      <td>2009/10</td>\n",
       "      <td>Undergraduate</td>\n",
       "      <td>Engineering and Technology</td>\n",
       "      <td>F</td>\n",
       "      <td>1016</td>\n",
       "    </tr>\n",
       "    <tr>\n",
       "      <th>23</th>\n",
       "      <td>2009/10</td>\n",
       "      <td>Undergraduate</td>\n",
       "      <td>Medicine, Dentistry and Health</td>\n",
       "      <td>F</td>\n",
       "      <td>769</td>\n",
       "    </tr>\n",
       "    <tr>\n",
       "      <th>...</th>\n",
       "      <td>...</td>\n",
       "      <td>...</td>\n",
       "      <td>...</td>\n",
       "      <td>...</td>\n",
       "      <td>...</td>\n",
       "    </tr>\n",
       "    <tr>\n",
       "      <th>616</th>\n",
       "      <td>2020/21</td>\n",
       "      <td>Undergraduate</td>\n",
       "      <td>Education</td>\n",
       "      <td>F</td>\n",
       "      <td>869</td>\n",
       "    </tr>\n",
       "    <tr>\n",
       "      <th>618</th>\n",
       "      <td>2020/21</td>\n",
       "      <td>Undergraduate</td>\n",
       "      <td>Engineering and Technology</td>\n",
       "      <td>F</td>\n",
       "      <td>1228</td>\n",
       "    </tr>\n",
       "    <tr>\n",
       "      <th>620</th>\n",
       "      <td>2020/21</td>\n",
       "      <td>Undergraduate</td>\n",
       "      <td>Medicine, Dentistry and Health</td>\n",
       "      <td>F</td>\n",
       "      <td>1217</td>\n",
       "    </tr>\n",
       "    <tr>\n",
       "      <th>622</th>\n",
       "      <td>2020/21</td>\n",
       "      <td>Undergraduate</td>\n",
       "      <td>Sciences</td>\n",
       "      <td>F</td>\n",
       "      <td>1379</td>\n",
       "    </tr>\n",
       "    <tr>\n",
       "      <th>624</th>\n",
       "      <td>2020/21</td>\n",
       "      <td>Undergraduate</td>\n",
       "      <td>Social Sciences</td>\n",
       "      <td>F</td>\n",
       "      <td>2164</td>\n",
       "    </tr>\n",
       "  </tbody>\n",
       "</table>\n",
       "<p>84 rows × 5 columns</p>\n",
       "</div>"
      ],
      "text/plain": [
       "    AcademicYear   LevelOfStudy               ProgrammeCategory Sex  Headcount\n",
       "15       2009/10  Undergraduate             Arts and Humanities   F       1788\n",
       "17       2009/10  Undergraduate         Business and Management   F       2314\n",
       "19       2009/10  Undergraduate                       Education   F        579\n",
       "21       2009/10  Undergraduate      Engineering and Technology   F       1016\n",
       "23       2009/10  Undergraduate  Medicine, Dentistry and Health   F        769\n",
       "..           ...            ...                             ...  ..        ...\n",
       "616      2020/21  Undergraduate                       Education   F        869\n",
       "618      2020/21  Undergraduate      Engineering and Technology   F       1228\n",
       "620      2020/21  Undergraduate  Medicine, Dentistry and Health   F       1217\n",
       "622      2020/21  Undergraduate                        Sciences   F       1379\n",
       "624      2020/21  Undergraduate                 Social Sciences   F       2164\n",
       "\n",
       "[84 rows x 5 columns]"
      ]
     },
     "execution_count": 135,
     "metadata": {},
     "output_type": "execute_result"
    }
   ],
   "source": [
    "ug_f = graduates[(graduates['LevelOfStudy']=='Undergraduate') \n",
    "                    & (graduates['Sex']=='F')]\n",
    "ug_f"
   ]
  },
  {
   "cell_type": "code",
   "execution_count": 152,
   "metadata": {},
   "outputs": [
    {
     "data": {
      "text/plain": [
       "<matplotlib.legend.Legend at 0x7fbe55201370>"
      ]
     },
     "execution_count": 152,
     "metadata": {},
     "output_type": "execute_result"
    },
    {
     "data": {
      "image/png": "[encoded data removed]",
      "text/plain": [
       "<Figure size 432x288 with 1 Axes>"
      ]
     },
     "metadata": {},
     "output_type": "display_data"
    }
   ],
   "source": [
    "plt.xticks(rotation=90)\n",
    "sns.lineplot(x='AcademicYear', y='Headcount', data=ug_f, hue='ProgrammeCategory')\n",
    "plt.legend(loc='upper left')"
   ]
  },
  {
   "cell_type": "markdown",
   "metadata": {},
   "source": [
    "## Boxplots"
   ]
  },
  {
   "cell_type": "code",
   "execution_count": 154,
   "metadata": {},
   "outputs": [
    {
     "data": {
      "text/html": [
       "<div>\n",
       "<style scoped>\n",
       "    .dataframe tbody tr th:only-of-type {\n",
       "        vertical-align: middle;\n",
       "    }\n",
       "\n",
       "    .dataframe tbody tr th {\n",
       "        vertical-align: top;\n",
       "    }\n",
       "\n",
       "    .dataframe thead th {\n",
       "        text-align: right;\n",
       "    }\n",
       "</style>\n",
       "<table border=\"1\" class=\"dataframe\">\n",
       "  <thead>\n",
       "    <tr style=\"text-align: right;\">\n",
       "      <th></th>\n",
       "      <th>AcademicYear</th>\n",
       "      <th>LevelOfStudy</th>\n",
       "      <th>ProgrammeCategory</th>\n",
       "      <th>Sex</th>\n",
       "      <th>Headcount</th>\n",
       "    </tr>\n",
       "  </thead>\n",
       "  <tbody>\n",
       "    <tr>\n",
       "      <th>15</th>\n",
       "      <td>2009/10</td>\n",
       "      <td>Undergraduate</td>\n",
       "      <td>Arts and Humanities</td>\n",
       "      <td>F</td>\n",
       "      <td>1788</td>\n",
       "    </tr>\n",
       "    <tr>\n",
       "      <th>17</th>\n",
       "      <td>2009/10</td>\n",
       "      <td>Undergraduate</td>\n",
       "      <td>Business and Management</td>\n",
       "      <td>F</td>\n",
       "      <td>2314</td>\n",
       "    </tr>\n",
       "    <tr>\n",
       "      <th>19</th>\n",
       "      <td>2009/10</td>\n",
       "      <td>Undergraduate</td>\n",
       "      <td>Education</td>\n",
       "      <td>F</td>\n",
       "      <td>579</td>\n",
       "    </tr>\n",
       "    <tr>\n",
       "      <th>21</th>\n",
       "      <td>2009/10</td>\n",
       "      <td>Undergraduate</td>\n",
       "      <td>Engineering and Technology</td>\n",
       "      <td>F</td>\n",
       "      <td>1016</td>\n",
       "    </tr>\n",
       "    <tr>\n",
       "      <th>23</th>\n",
       "      <td>2009/10</td>\n",
       "      <td>Undergraduate</td>\n",
       "      <td>Medicine, Dentistry and Health</td>\n",
       "      <td>F</td>\n",
       "      <td>769</td>\n",
       "    </tr>\n",
       "    <tr>\n",
       "      <th>...</th>\n",
       "      <td>...</td>\n",
       "      <td>...</td>\n",
       "      <td>...</td>\n",
       "      <td>...</td>\n",
       "      <td>...</td>\n",
       "    </tr>\n",
       "    <tr>\n",
       "      <th>616</th>\n",
       "      <td>2020/21</td>\n",
       "      <td>Undergraduate</td>\n",
       "      <td>Education</td>\n",
       "      <td>F</td>\n",
       "      <td>869</td>\n",
       "    </tr>\n",
       "    <tr>\n",
       "      <th>618</th>\n",
       "      <td>2020/21</td>\n",
       "      <td>Undergraduate</td>\n",
       "      <td>Engineering and Technology</td>\n",
       "      <td>F</td>\n",
       "      <td>1228</td>\n",
       "    </tr>\n",
       "    <tr>\n",
       "      <th>620</th>\n",
       "      <td>2020/21</td>\n",
       "      <td>Undergraduate</td>\n",
       "      <td>Medicine, Dentistry and Health</td>\n",
       "      <td>F</td>\n",
       "      <td>1217</td>\n",
       "    </tr>\n",
       "    <tr>\n",
       "      <th>622</th>\n",
       "      <td>2020/21</td>\n",
       "      <td>Undergraduate</td>\n",
       "      <td>Sciences</td>\n",
       "      <td>F</td>\n",
       "      <td>1379</td>\n",
       "    </tr>\n",
       "    <tr>\n",
       "      <th>624</th>\n",
       "      <td>2020/21</td>\n",
       "      <td>Undergraduate</td>\n",
       "      <td>Social Sciences</td>\n",
       "      <td>F</td>\n",
       "      <td>2164</td>\n",
       "    </tr>\n",
       "  </tbody>\n",
       "</table>\n",
       "<p>84 rows × 5 columns</p>\n",
       "</div>"
      ],
      "text/plain": [
       "    AcademicYear   LevelOfStudy               ProgrammeCategory Sex  Headcount\n",
       "15       2009/10  Undergraduate             Arts and Humanities   F       1788\n",
       "17       2009/10  Undergraduate         Business and Management   F       2314\n",
       "19       2009/10  Undergraduate                       Education   F        579\n",
       "21       2009/10  Undergraduate      Engineering and Technology   F       1016\n",
       "23       2009/10  Undergraduate  Medicine, Dentistry and Health   F        769\n",
       "..           ...            ...                             ...  ..        ...\n",
       "616      2020/21  Undergraduate                       Education   F        869\n",
       "618      2020/21  Undergraduate      Engineering and Technology   F       1228\n",
       "620      2020/21  Undergraduate  Medicine, Dentistry and Health   F       1217\n",
       "622      2020/21  Undergraduate                        Sciences   F       1379\n",
       "624      2020/21  Undergraduate                 Social Sciences   F       2164\n",
       "\n",
       "[84 rows x 5 columns]"
      ]
     },
     "execution_count": 154,
     "metadata": {},
     "output_type": "execute_result"
    }
   ],
   "source": [
    "ug_f"
   ]
  },
  {
   "cell_type": "code",
   "execution_count": 161,
   "metadata": {},
   "outputs": [
    {
     "data": {
      "text/plain": [
       "(array([0, 1, 2, 3, 4, 5, 6]),\n",
       " [Text(0, 0, 'Arts and Humanities'),\n",
       "  Text(1, 0, 'Business and Management'),\n",
       "  Text(2, 0, 'Education'),\n",
       "  Text(3, 0, 'Engineering and Technology'),\n",
       "  Text(4, 0, 'Medicine, Dentistry and Health'),\n",
       "  Text(5, 0, 'Sciences'),\n",
       "  Text(6, 0, 'Social Sciences')])"
      ]
     },
     "execution_count": 161,
     "metadata": {},
     "output_type": "execute_result"
    },
    {
     "data": {
      "image/png": "[encoded data removed]",
      "text/plain": [
       "<Figure size 360x360 with 1 Axes>"
      ]
     },
     "metadata": {},
     "output_type": "display_data"
    }
   ],
   "source": [
    "sns.catplot(x=\"ProgrammeCategory\", y=\"Headcount\", kind=\"box\", data=ug_f)\n",
    "plt.xticks(rotation=90)"
   ]
  },
  {
   "cell_type": "code",
   "execution_count": 162,
   "metadata": {},
   "outputs": [
    {
     "data": {
      "text/html": [
       "<div>\n",
       "<style scoped>\n",
       "    .dataframe tbody tr th:only-of-type {\n",
       "        vertical-align: middle;\n",
       "    }\n",
       "\n",
       "    .dataframe tbody tr th {\n",
       "        vertical-align: top;\n",
       "    }\n",
       "\n",
       "    .dataframe thead th {\n",
       "        text-align: right;\n",
       "    }\n",
       "</style>\n",
       "<table border=\"1\" class=\"dataframe\">\n",
       "  <thead>\n",
       "    <tr style=\"text-align: right;\">\n",
       "      <th></th>\n",
       "      <th>AcademicYear</th>\n",
       "      <th>LevelOfStudy</th>\n",
       "      <th>ProgrammeCategory</th>\n",
       "      <th>Sex</th>\n",
       "      <th>Headcount</th>\n",
       "    </tr>\n",
       "  </thead>\n",
       "  <tbody>\n",
       "    <tr>\n",
       "      <th>14</th>\n",
       "      <td>2009/10</td>\n",
       "      <td>Undergraduate</td>\n",
       "      <td>Arts and Humanities</td>\n",
       "      <td>M</td>\n",
       "      <td>659</td>\n",
       "    </tr>\n",
       "    <tr>\n",
       "      <th>15</th>\n",
       "      <td>2009/10</td>\n",
       "      <td>Undergraduate</td>\n",
       "      <td>Arts and Humanities</td>\n",
       "      <td>F</td>\n",
       "      <td>1788</td>\n",
       "    </tr>\n",
       "    <tr>\n",
       "      <th>16</th>\n",
       "      <td>2009/10</td>\n",
       "      <td>Undergraduate</td>\n",
       "      <td>Business and Management</td>\n",
       "      <td>M</td>\n",
       "      <td>1861</td>\n",
       "    </tr>\n",
       "    <tr>\n",
       "      <th>17</th>\n",
       "      <td>2009/10</td>\n",
       "      <td>Undergraduate</td>\n",
       "      <td>Business and Management</td>\n",
       "      <td>F</td>\n",
       "      <td>2314</td>\n",
       "    </tr>\n",
       "    <tr>\n",
       "      <th>18</th>\n",
       "      <td>2009/10</td>\n",
       "      <td>Undergraduate</td>\n",
       "      <td>Education</td>\n",
       "      <td>M</td>\n",
       "      <td>148</td>\n",
       "    </tr>\n",
       "    <tr>\n",
       "      <th>...</th>\n",
       "      <td>...</td>\n",
       "      <td>...</td>\n",
       "      <td>...</td>\n",
       "      <td>...</td>\n",
       "      <td>...</td>\n",
       "    </tr>\n",
       "    <tr>\n",
       "      <th>620</th>\n",
       "      <td>2020/21</td>\n",
       "      <td>Undergraduate</td>\n",
       "      <td>Medicine, Dentistry and Health</td>\n",
       "      <td>F</td>\n",
       "      <td>1217</td>\n",
       "    </tr>\n",
       "    <tr>\n",
       "      <th>621</th>\n",
       "      <td>2020/21</td>\n",
       "      <td>Undergraduate</td>\n",
       "      <td>Sciences</td>\n",
       "      <td>M</td>\n",
       "      <td>2251</td>\n",
       "    </tr>\n",
       "    <tr>\n",
       "      <th>622</th>\n",
       "      <td>2020/21</td>\n",
       "      <td>Undergraduate</td>\n",
       "      <td>Sciences</td>\n",
       "      <td>F</td>\n",
       "      <td>1379</td>\n",
       "    </tr>\n",
       "    <tr>\n",
       "      <th>623</th>\n",
       "      <td>2020/21</td>\n",
       "      <td>Undergraduate</td>\n",
       "      <td>Social Sciences</td>\n",
       "      <td>M</td>\n",
       "      <td>1314</td>\n",
       "    </tr>\n",
       "    <tr>\n",
       "      <th>624</th>\n",
       "      <td>2020/21</td>\n",
       "      <td>Undergraduate</td>\n",
       "      <td>Social Sciences</td>\n",
       "      <td>F</td>\n",
       "      <td>2164</td>\n",
       "    </tr>\n",
       "  </tbody>\n",
       "</table>\n",
       "<p>168 rows × 5 columns</p>\n",
       "</div>"
      ],
      "text/plain": [
       "    AcademicYear   LevelOfStudy               ProgrammeCategory Sex  Headcount\n",
       "14       2009/10  Undergraduate             Arts and Humanities   M        659\n",
       "15       2009/10  Undergraduate             Arts and Humanities   F       1788\n",
       "16       2009/10  Undergraduate         Business and Management   M       1861\n",
       "17       2009/10  Undergraduate         Business and Management   F       2314\n",
       "18       2009/10  Undergraduate                       Education   M        148\n",
       "..           ...            ...                             ...  ..        ...\n",
       "620      2020/21  Undergraduate  Medicine, Dentistry and Health   F       1217\n",
       "621      2020/21  Undergraduate                        Sciences   M       2251\n",
       "622      2020/21  Undergraduate                        Sciences   F       1379\n",
       "623      2020/21  Undergraduate                 Social Sciences   M       1314\n",
       "624      2020/21  Undergraduate                 Social Sciences   F       2164\n",
       "\n",
       "[168 rows x 5 columns]"
      ]
     },
     "execution_count": 162,
     "metadata": {},
     "output_type": "execute_result"
    }
   ],
   "source": [
    "ug = graduates[graduates['LevelOfStudy']=='Undergraduate']\n",
    "ug"
   ]
  },
  {
   "cell_type": "code",
   "execution_count": 165,
   "metadata": {},
   "outputs": [
    {
     "data": {
      "text/plain": [
       "(array([0, 1, 2, 3, 4, 5, 6]),\n",
       " [Text(0, 0, 'Arts and Humanities'),\n",
       "  Text(1, 0, 'Business and Management'),\n",
       "  Text(2, 0, 'Education'),\n",
       "  Text(3, 0, 'Engineering and Technology'),\n",
       "  Text(4, 0, 'Medicine, Dentistry and Health'),\n",
       "  Text(5, 0, 'Sciences'),\n",
       "  Text(6, 0, 'Social Sciences')])"
      ]
     },
     "execution_count": 165,
     "metadata": {},
     "output_type": "execute_result"
    },
    {
     "data": {
      "image/png": "[encoded data removed]",
      "text/plain": [
       "<Figure size 408.85x360 with 1 Axes>"
      ]
     },
     "metadata": {},
     "output_type": "display_data"
    }
   ],
   "source": [
    "sns.catplot(x=\"ProgrammeCategory\", y=\"Headcount\", hue='Sex', kind=\"box\", data=ug)\n",
    "plt.xticks(rotation=90)"
   ]
  },
  {
   "cell_type": "code",
   "execution_count": null,
   "metadata": {},
   "outputs": [],
   "source": []
  },
  {
   "cell_type": "markdown",
   "metadata": {},
   "source": [
    "# Advanced JSON Processing"
   ]
  },
  {
   "cell_type": "markdown",
   "metadata": {},
   "source": [
    "## yfinance"
   ]
  },
  {
   "cell_type": "code",
   "execution_count": null,
   "metadata": {},
   "outputs": [],
   "source": []
  },
  {
   "cell_type": "markdown",
   "metadata": {},
   "source": [
    "### import numpy and pandas \n",
    "\n",
    "```\n",
    "import numpy as np\n",
    "import pandas as pd\n",
    "```"
   ]
  },
  {
   "cell_type": "code",
   "execution_count": 3,
   "metadata": {},
   "outputs": [],
   "source": [
    "import numpy as np\n",
    "import pandas as pd"
   ]
  },
  {
   "cell_type": "markdown",
   "metadata": {},
   "source": [
    "## Use Pandas to retrieve HTML content\n",
    "Example:\n",
    "```\n",
    "url = 'http://www.multpl.com/s-p-500-dividend-yield/table?f=m'\n",
    "raw_html_tbl = pd.read_html(url)\n",
    "type(raw_html_tbl)\n",
    "len(raw_html_tbl)\n",
    "raw_html_tbl[0]\n",
    "type(raw_html_tbl[0])\n",
    "```"
   ]
  },
  {
   "cell_type": "code",
   "execution_count": 6,
   "metadata": {},
   "outputs": [
    {
     "data": {
      "text/html": [
       "<div>\n",
       "<style scoped>\n",
       "    .dataframe tbody tr th:only-of-type {\n",
       "        vertical-align: middle;\n",
       "    }\n",
       "\n",
       "    .dataframe tbody tr th {\n",
       "        vertical-align: top;\n",
       "    }\n",
       "\n",
       "    .dataframe thead th {\n",
       "        text-align: right;\n",
       "    }\n",
       "</style>\n",
       "<table border=\"1\" class=\"dataframe\">\n",
       "  <thead>\n",
       "    <tr style=\"text-align: right;\">\n",
       "      <th></th>\n",
       "      <th>Date</th>\n",
       "      <th>Yield Value</th>\n",
       "    </tr>\n",
       "  </thead>\n",
       "  <tbody>\n",
       "    <tr>\n",
       "      <th>0</th>\n",
       "      <td>Feb 18, 2022</td>\n",
       "      <td>1.39% estimate</td>\n",
       "    </tr>\n",
       "    <tr>\n",
       "      <th>1</th>\n",
       "      <td>Feb 28, 2022</td>\n",
       "      <td>1.32% estimate</td>\n",
       "    </tr>\n",
       "    <tr>\n",
       "      <th>2</th>\n",
       "      <td>Jan 31, 2022</td>\n",
       "      <td>1.32% estimate</td>\n",
       "    </tr>\n",
       "    <tr>\n",
       "      <th>3</th>\n",
       "      <td>Dec 31, 2021</td>\n",
       "      <td>1.29%</td>\n",
       "    </tr>\n",
       "    <tr>\n",
       "      <th>4</th>\n",
       "      <td>Nov 30, 2021</td>\n",
       "      <td>1.29%</td>\n",
       "    </tr>\n",
       "    <tr>\n",
       "      <th>...</th>\n",
       "      <td>...</td>\n",
       "      <td>...</td>\n",
       "    </tr>\n",
       "    <tr>\n",
       "      <th>1810</th>\n",
       "      <td>May 31, 1871</td>\n",
       "      <td>5.35%</td>\n",
       "    </tr>\n",
       "    <tr>\n",
       "      <th>1811</th>\n",
       "      <td>Apr 30, 1871</td>\n",
       "      <td>5.49%</td>\n",
       "    </tr>\n",
       "    <tr>\n",
       "      <th>1812</th>\n",
       "      <td>Mar 31, 1871</td>\n",
       "      <td>5.64%</td>\n",
       "    </tr>\n",
       "    <tr>\n",
       "      <th>1813</th>\n",
       "      <td>Feb 28, 1871</td>\n",
       "      <td>5.78%</td>\n",
       "    </tr>\n",
       "    <tr>\n",
       "      <th>1814</th>\n",
       "      <td>Jan 31, 1871</td>\n",
       "      <td>5.86%</td>\n",
       "    </tr>\n",
       "  </tbody>\n",
       "</table>\n",
       "<p>1815 rows × 2 columns</p>\n",
       "</div>"
      ],
      "text/plain": [
       "              Date     Yield Value\n",
       "0     Feb 18, 2022  1.39% estimate\n",
       "1     Feb 28, 2022  1.32% estimate\n",
       "2     Jan 31, 2022  1.32% estimate\n",
       "3     Dec 31, 2021           1.29%\n",
       "4     Nov 30, 2021           1.29%\n",
       "...            ...             ...\n",
       "1810  May 31, 1871           5.35%\n",
       "1811  Apr 30, 1871           5.49%\n",
       "1812  Mar 31, 1871           5.64%\n",
       "1813  Feb 28, 1871           5.78%\n",
       "1814  Jan 31, 1871           5.86%\n",
       "\n",
       "[1815 rows x 2 columns]"
      ]
     },
     "execution_count": 6,
     "metadata": {},
     "output_type": "execute_result"
    }
   ],
   "source": [
    "url = 'http://www.multpl.com/s-p-500-dividend-yield/table?f=m'\n",
    "raw_html_tbl = pd.read_html(url)\n",
    "type(raw_html_tbl)\n",
    "len(raw_html_tbl)\n",
    "raw_html_tbl[0]"
   ]
  },
  {
   "cell_type": "code",
   "execution_count": 5,
   "metadata": {},
   "outputs": [
    {
     "data": {
      "text/plain": [
       "pandas.core.frame.DataFrame"
      ]
     },
     "execution_count": 5,
     "metadata": {},
     "output_type": "execute_result"
    }
   ],
   "source": [
    "type(raw_html_tbl[0])"
   ]
  },
  {
   "cell_type": "markdown",
   "metadata": {},
   "source": [
    "# `pd.read_html()` doesn't always work\n",
    "\n",
    "- There are too many broken HTML codes\n",
    "- And some HTML are generated by JavaScript on the fly\n",
    "\n",
    "Example:\n",
    "\n",
    "The following scraping won't work\n",
    "\n",
    "```\n",
    "url2 = 'https://stock360.hkej.com/marketWatch/Top20'\n",
    "raw_html_tbl2 = pd.read_html(url2)\n",
    "raw_html_tbl2\n",
    "```"
   ]
  },
  {
   "cell_type": "code",
   "execution_count": null,
   "metadata": {},
   "outputs": [],
   "source": [
    "url2 = 'https://stock360.hkej.com/marketWatch/Top20'\n",
    "raw_html_tbl2 = pd.read_html(url2)\n",
    "raw_html_tbl2"
   ]
  },
  {
   "cell_type": "code",
   "execution_count": null,
   "metadata": {},
   "outputs": [],
   "source": []
  },
  {
   "cell_type": "markdown",
   "metadata": {},
   "source": [
    "# Another Example or web scraping using Pandas\n",
    "\n",
    "Retrieving currency table from Yahoo Finance\n",
    "\n",
    "```\n",
    "url3 = 'https://hk.finance.yahoo.com/currencies'\n",
    "raw_html_tbl3 = pd.read_html(url3)\n",
    "raw_html_tbl3[0]\n",
    "```"
   ]
  },
  {
   "cell_type": "code",
   "execution_count": 8,
   "metadata": {},
   "outputs": [
    {
     "data": {
      "text/html": [
       "<div>\n",
       "<style scoped>\n",
       "    .dataframe tbody tr th:only-of-type {\n",
       "        vertical-align: middle;\n",
       "    }\n",
       "\n",
       "    .dataframe tbody tr th {\n",
       "        vertical-align: top;\n",
       "    }\n",
       "\n",
       "    .dataframe thead th {\n",
       "        text-align: right;\n",
       "    }\n",
       "</style>\n",
       "<table border=\"1\" class=\"dataframe\">\n",
       "  <thead>\n",
       "    <tr style=\"text-align: right;\">\n",
       "      <th></th>\n",
       "      <th>代號</th>\n",
       "      <th>名稱</th>\n",
       "      <th>收市價</th>\n",
       "      <th>變化</th>\n",
       "      <th>% 變化</th>\n",
       "      <th>52 週範圍</th>\n",
       "      <th>日圖表</th>\n",
       "    </tr>\n",
       "  </thead>\n",
       "  <tbody>\n",
       "    <tr>\n",
       "      <th>0</th>\n",
       "      <td>HKD=X</td>\n",
       "      <td>美元/港元</td>\n",
       "      <td>7.7999</td>\n",
       "      <td>0.0007</td>\n",
       "      <td>+0.01%</td>\n",
       "      <td>NaN</td>\n",
       "      <td>NaN</td>\n",
       "    </tr>\n",
       "    <tr>\n",
       "      <th>1</th>\n",
       "      <td>HKDCNY=X</td>\n",
       "      <td>港元/人民幣</td>\n",
       "      <td>0.8104</td>\n",
       "      <td>-0.0018</td>\n",
       "      <td>-0.22%</td>\n",
       "      <td>NaN</td>\n",
       "      <td>NaN</td>\n",
       "    </tr>\n",
       "    <tr>\n",
       "      <th>2</th>\n",
       "      <td>EURHKD=X</td>\n",
       "      <td>歐元/港元</td>\n",
       "      <td>8.8303</td>\n",
       "      <td>-0.0309</td>\n",
       "      <td>-0.35%</td>\n",
       "      <td>NaN</td>\n",
       "      <td>NaN</td>\n",
       "    </tr>\n",
       "    <tr>\n",
       "      <th>3</th>\n",
       "      <td>GBPHKD=X</td>\n",
       "      <td>英鎊/港元</td>\n",
       "      <td>10.5990</td>\n",
       "      <td>-0.0190</td>\n",
       "      <td>-0.18%</td>\n",
       "      <td>NaN</td>\n",
       "      <td>NaN</td>\n",
       "    </tr>\n",
       "    <tr>\n",
       "      <th>4</th>\n",
       "      <td>JPYHKD=X</td>\n",
       "      <td>日圓/港元</td>\n",
       "      <td>0.0676</td>\n",
       "      <td>-0.0000</td>\n",
       "      <td>-0.04%</td>\n",
       "      <td>NaN</td>\n",
       "      <td>NaN</td>\n",
       "    </tr>\n",
       "    <tr>\n",
       "      <th>5</th>\n",
       "      <td>AUDHKD=X</td>\n",
       "      <td>澳元/港元</td>\n",
       "      <td>5.5933</td>\n",
       "      <td>-0.0102</td>\n",
       "      <td>-0.18%</td>\n",
       "      <td>NaN</td>\n",
       "      <td>NaN</td>\n",
       "    </tr>\n",
       "    <tr>\n",
       "      <th>6</th>\n",
       "      <td>NZDHKD=X</td>\n",
       "      <td>紐元/港元</td>\n",
       "      <td>5.2257</td>\n",
       "      <td>0.0083</td>\n",
       "      <td>+0.16%</td>\n",
       "      <td>NaN</td>\n",
       "      <td>NaN</td>\n",
       "    </tr>\n",
       "    <tr>\n",
       "      <th>7</th>\n",
       "      <td>CADHKD=X</td>\n",
       "      <td>加元/港元</td>\n",
       "      <td>6.1162</td>\n",
       "      <td>-0.0200</td>\n",
       "      <td>-0.33%</td>\n",
       "      <td>NaN</td>\n",
       "      <td>NaN</td>\n",
       "    </tr>\n",
       "    <tr>\n",
       "      <th>8</th>\n",
       "      <td>HKDTWD=X</td>\n",
       "      <td>港元/新台幣</td>\n",
       "      <td>3.5751</td>\n",
       "      <td>-0.0013</td>\n",
       "      <td>-0.04%</td>\n",
       "      <td>NaN</td>\n",
       "      <td>NaN</td>\n",
       "    </tr>\n",
       "    <tr>\n",
       "      <th>9</th>\n",
       "      <td>HKDTHB=X</td>\n",
       "      <td>港元/泰銖</td>\n",
       "      <td>4.1246</td>\n",
       "      <td>0.0088</td>\n",
       "      <td>+0.21%</td>\n",
       "      <td>NaN</td>\n",
       "      <td>NaN</td>\n",
       "    </tr>\n",
       "    <tr>\n",
       "      <th>10</th>\n",
       "      <td>KRWHKD=X</td>\n",
       "      <td>韓圜/港元</td>\n",
       "      <td>0.0065</td>\n",
       "      <td>0.0000</td>\n",
       "      <td>+0.15%</td>\n",
       "      <td>NaN</td>\n",
       "      <td>NaN</td>\n",
       "    </tr>\n",
       "    <tr>\n",
       "      <th>11</th>\n",
       "      <td>SGDHKD=X</td>\n",
       "      <td>新加坡元/港元</td>\n",
       "      <td>5.7939</td>\n",
       "      <td>-0.0104</td>\n",
       "      <td>-0.18%</td>\n",
       "      <td>NaN</td>\n",
       "      <td>NaN</td>\n",
       "    </tr>\n",
       "    <tr>\n",
       "      <th>12</th>\n",
       "      <td>CHFHKD=X</td>\n",
       "      <td>瑞士法郎/港元</td>\n",
       "      <td>8.4685</td>\n",
       "      <td>-0.0069</td>\n",
       "      <td>-0.08%</td>\n",
       "      <td>NaN</td>\n",
       "      <td>NaN</td>\n",
       "    </tr>\n",
       "    <tr>\n",
       "      <th>13</th>\n",
       "      <td>VNDHKD=X</td>\n",
       "      <td>越南盾/港元</td>\n",
       "      <td>0.0003</td>\n",
       "      <td>-0.0000</td>\n",
       "      <td>-0.14%</td>\n",
       "      <td>NaN</td>\n",
       "      <td>NaN</td>\n",
       "    </tr>\n",
       "    <tr>\n",
       "      <th>14</th>\n",
       "      <td>IDRHKD=X</td>\n",
       "      <td>印尼盾/港元</td>\n",
       "      <td>0.0005</td>\n",
       "      <td>-0.0000</td>\n",
       "      <td>-0.25%</td>\n",
       "      <td>NaN</td>\n",
       "      <td>NaN</td>\n",
       "    </tr>\n",
       "    <tr>\n",
       "      <th>15</th>\n",
       "      <td>MOPHKD=X</td>\n",
       "      <td>澳門元/港元</td>\n",
       "      <td>0.9705</td>\n",
       "      <td>0.0001</td>\n",
       "      <td>+0.01%</td>\n",
       "      <td>NaN</td>\n",
       "      <td>NaN</td>\n",
       "    </tr>\n",
       "    <tr>\n",
       "      <th>16</th>\n",
       "      <td>CNY=X</td>\n",
       "      <td>美元/人民幣</td>\n",
       "      <td>6.3251</td>\n",
       "      <td>-0.0132</td>\n",
       "      <td>-0.21%</td>\n",
       "      <td>NaN</td>\n",
       "      <td>NaN</td>\n",
       "    </tr>\n",
       "    <tr>\n",
       "      <th>17</th>\n",
       "      <td>EURUSD=X</td>\n",
       "      <td>美元/歐元</td>\n",
       "      <td>1.1326</td>\n",
       "      <td>-0.0039</td>\n",
       "      <td>-0.34%</td>\n",
       "      <td>NaN</td>\n",
       "      <td>NaN</td>\n",
       "    </tr>\n",
       "    <tr>\n",
       "      <th>18</th>\n",
       "      <td>GBPUSD=X</td>\n",
       "      <td>美元/英鎊</td>\n",
       "      <td>1.3591</td>\n",
       "      <td>-0.0025</td>\n",
       "      <td>-0.18%</td>\n",
       "      <td>NaN</td>\n",
       "      <td>NaN</td>\n",
       "    </tr>\n",
       "    <tr>\n",
       "      <th>19</th>\n",
       "      <td>JPY=X</td>\n",
       "      <td>美元/日圓</td>\n",
       "      <td>115.0500</td>\n",
       "      <td>0.1210</td>\n",
       "      <td>+0.11%</td>\n",
       "      <td>NaN</td>\n",
       "      <td>NaN</td>\n",
       "    </tr>\n",
       "    <tr>\n",
       "      <th>20</th>\n",
       "      <td>CHF=X</td>\n",
       "      <td>美元/瑞士法郎</td>\n",
       "      <td>0.9210</td>\n",
       "      <td>0.0011</td>\n",
       "      <td>+0.12%</td>\n",
       "      <td>NaN</td>\n",
       "      <td>NaN</td>\n",
       "    </tr>\n",
       "    <tr>\n",
       "      <th>21</th>\n",
       "      <td>AUDUSD=X</td>\n",
       "      <td>美元/澳元</td>\n",
       "      <td>0.7182</td>\n",
       "      <td>-0.0006</td>\n",
       "      <td>-0.08%</td>\n",
       "      <td>NaN</td>\n",
       "      <td>NaN</td>\n",
       "    </tr>\n",
       "    <tr>\n",
       "      <th>22</th>\n",
       "      <td>NZDUSD=X</td>\n",
       "      <td>美元/紐元</td>\n",
       "      <td>0.6704</td>\n",
       "      <td>0.0011</td>\n",
       "      <td>+0.16%</td>\n",
       "      <td>NaN</td>\n",
       "      <td>NaN</td>\n",
       "    </tr>\n",
       "    <tr>\n",
       "      <th>23</th>\n",
       "      <td>CAD=X</td>\n",
       "      <td>美元/加元</td>\n",
       "      <td>1.2750</td>\n",
       "      <td>0.0044</td>\n",
       "      <td>+0.35%</td>\n",
       "      <td>NaN</td>\n",
       "      <td>NaN</td>\n",
       "    </tr>\n",
       "    <tr>\n",
       "      <th>24</th>\n",
       "      <td>EURGBP=X</td>\n",
       "      <td>歐元/英鎊</td>\n",
       "      <td>0.8329</td>\n",
       "      <td>-0.0013</td>\n",
       "      <td>-0.16%</td>\n",
       "      <td>NaN</td>\n",
       "      <td>NaN</td>\n",
       "    </tr>\n",
       "    <tr>\n",
       "      <th>25</th>\n",
       "      <td>EURCHF=X</td>\n",
       "      <td>歐元/瑞士法郎</td>\n",
       "      <td>1.0426</td>\n",
       "      <td>-0.0024</td>\n",
       "      <td>-0.23%</td>\n",
       "      <td>NaN</td>\n",
       "      <td>NaN</td>\n",
       "    </tr>\n",
       "  </tbody>\n",
       "</table>\n",
       "</div>"
      ],
      "text/plain": [
       "          代號       名稱       收市價      變化    % 變化  52 週範圍  日圖表\n",
       "0      HKD=X    美元/港元    7.7999  0.0007  +0.01%     NaN  NaN\n",
       "1   HKDCNY=X   港元/人民幣    0.8104 -0.0018  -0.22%     NaN  NaN\n",
       "2   EURHKD=X    歐元/港元    8.8303 -0.0309  -0.35%     NaN  NaN\n",
       "3   GBPHKD=X    英鎊/港元   10.5990 -0.0190  -0.18%     NaN  NaN\n",
       "4   JPYHKD=X    日圓/港元    0.0676 -0.0000  -0.04%     NaN  NaN\n",
       "5   AUDHKD=X    澳元/港元    5.5933 -0.0102  -0.18%     NaN  NaN\n",
       "6   NZDHKD=X    紐元/港元    5.2257  0.0083  +0.16%     NaN  NaN\n",
       "7   CADHKD=X    加元/港元    6.1162 -0.0200  -0.33%     NaN  NaN\n",
       "8   HKDTWD=X   港元/新台幣    3.5751 -0.0013  -0.04%     NaN  NaN\n",
       "9   HKDTHB=X    港元/泰銖    4.1246  0.0088  +0.21%     NaN  NaN\n",
       "10  KRWHKD=X    韓圜/港元    0.0065  0.0000  +0.15%     NaN  NaN\n",
       "11  SGDHKD=X  新加坡元/港元    5.7939 -0.0104  -0.18%     NaN  NaN\n",
       "12  CHFHKD=X  瑞士法郎/港元    8.4685 -0.0069  -0.08%     NaN  NaN\n",
       "13  VNDHKD=X   越南盾/港元    0.0003 -0.0000  -0.14%     NaN  NaN\n",
       "14  IDRHKD=X   印尼盾/港元    0.0005 -0.0000  -0.25%     NaN  NaN\n",
       "15  MOPHKD=X   澳門元/港元    0.9705  0.0001  +0.01%     NaN  NaN\n",
       "16     CNY=X   美元/人民幣    6.3251 -0.0132  -0.21%     NaN  NaN\n",
       "17  EURUSD=X    美元/歐元    1.1326 -0.0039  -0.34%     NaN  NaN\n",
       "18  GBPUSD=X    美元/英鎊    1.3591 -0.0025  -0.18%     NaN  NaN\n",
       "19     JPY=X    美元/日圓  115.0500  0.1210  +0.11%     NaN  NaN\n",
       "20     CHF=X  美元/瑞士法郎    0.9210  0.0011  +0.12%     NaN  NaN\n",
       "21  AUDUSD=X    美元/澳元    0.7182 -0.0006  -0.08%     NaN  NaN\n",
       "22  NZDUSD=X    美元/紐元    0.6704  0.0011  +0.16%     NaN  NaN\n",
       "23     CAD=X    美元/加元    1.2750  0.0044  +0.35%     NaN  NaN\n",
       "24  EURGBP=X    歐元/英鎊    0.8329 -0.0013  -0.16%     NaN  NaN\n",
       "25  EURCHF=X  歐元/瑞士法郎    1.0426 -0.0024  -0.23%     NaN  NaN"
      ]
     },
     "execution_count": 8,
     "metadata": {},
     "output_type": "execute_result"
    }
   ],
   "source": [
    "url3 = 'https://hk.finance.yahoo.com/currencies'\n",
    "raw_html_tbl3 = pd.read_html(url3)\n",
    "raw_html_tbl3[0]"
   ]
  },
  {
   "cell_type": "code",
   "execution_count": null,
   "metadata": {},
   "outputs": [],
   "source": []
  },
  {
   "cell_type": "markdown",
   "metadata": {},
   "source": [
    "# JSON Data is more dependable than reading HTML \n",
    "\n",
    "- Reading HTML is not always practical. \n",
    "- Many website implements data protections to prevent data grabbing\n",
    "- Modern web application generates web content on the fly when the page is loading.  (The HTML page are empty at the begining of loading while progressively loading data by JavaScript)"
   ]
  },
  {
   "cell_type": "markdown",
   "metadata": {},
   "source": [
    "\n",
    "# `requests` - the python addon to get data by HTTP\n",
    "\n",
    "**Import before you use it**\n",
    "\n",
    "```\n",
    "import requests\n",
    "```\n",
    "\n",
    "Provide a web page link that you want to fetch data from\n",
    "\n",
    "```\n",
    "r = requests.get('https://data.weather.gov.hk/weatherAPI/opendata/weather.php?dataType=fnd&lang=tc') # retrieving live weather data\n",
    "r\n",
    "r.status_code\n",
    "r.headers\n",
    "r.headers['content-type']\n",
    "r.encoding\n",
    "r.text\n",
    "r.json()\n",
    "```\n",
    "To run a CELL\n",
    "- Press `▶ Run` Button\n",
    "- HOLD `SHIFT` + PRESS ```ENTER```"
   ]
  },
  {
   "cell_type": "code",
   "execution_count": null,
   "metadata": {},
   "outputs": [],
   "source": [
    "import requests"
   ]
  },
  {
   "cell_type": "code",
   "execution_count": null,
   "metadata": {},
   "outputs": [],
   "source": [
    "r = requests.get('https://data.weather.gov.hk/weatherAPI/opendata/weather.php?dataType=fnd&lang=tc')"
   ]
  },
  {
   "cell_type": "code",
   "execution_count": null,
   "metadata": {},
   "outputs": [],
   "source": [
    "r.headers"
   ]
  },
  {
   "cell_type": "code",
   "execution_count": null,
   "metadata": {},
   "outputs": [],
   "source": [
    "r.status_code"
   ]
  },
  {
   "cell_type": "code",
   "execution_count": null,
   "metadata": {},
   "outputs": [],
   "source": [
    "r.headers['content-type']"
   ]
  },
  {
   "cell_type": "code",
   "execution_count": null,
   "metadata": {},
   "outputs": [],
   "source": [
    "r.encoding"
   ]
  },
  {
   "cell_type": "code",
   "execution_count": null,
   "metadata": {},
   "outputs": [],
   "source": [
    "r.text"
   ]
  },
  {
   "cell_type": "code",
   "execution_count": null,
   "metadata": {},
   "outputs": [],
   "source": [
    "r.json()"
   ]
  },
  {
   "cell_type": "markdown",
   "metadata": {},
   "source": [
    "# Retrieving JSON Data\n",
    "Example commands to retrieve JSON data\n",
    "```\n",
    "r.json()\n",
    "r.json()['generalSituation']\n",
    "r.json()['weatherForecast'][0]\n",
    "r.json()['weatherForecast'][0]['week']\n",
    "r.json()['weatherForecast'][0]['forecastWeather']\n",
    "print(r.json()['weatherForecast'][0]['week'],\n",
    "      ' | ',\n",
    "      r.json()['weatherForecast'][0]['forecastMintemp']['value'],\n",
    "      r.json()['weatherForecast'][0]['forecastMintemp']['unit'],\n",
    "      ' | ',\n",
    "      r.json()['weatherForecast'][0]['forecastWeather']\n",
    "     )\n",
    "```"
   ]
  },
  {
   "cell_type": "code",
   "execution_count": null,
   "metadata": {},
   "outputs": [],
   "source": [
    "r.json()"
   ]
  },
  {
   "cell_type": "code",
   "execution_count": null,
   "metadata": {},
   "outputs": [],
   "source": [
    "r.json()['generalSituation']"
   ]
  },
  {
   "cell_type": "code",
   "execution_count": null,
   "metadata": {},
   "outputs": [],
   "source": [
    "r.json()['weatherForecast'][0]"
   ]
  },
  {
   "cell_type": "code",
   "execution_count": null,
   "metadata": {},
   "outputs": [],
   "source": [
    "r.json()['weatherForecast'][0]['week']"
   ]
  },
  {
   "cell_type": "code",
   "execution_count": null,
   "metadata": {},
   "outputs": [],
   "source": [
    "r.json()['weatherForecast'][0]['forecastWeather']"
   ]
  },
  {
   "cell_type": "code",
   "execution_count": null,
   "metadata": {},
   "outputs": [],
   "source": [
    "print(r.json()['weatherForecast'][0]['week'],\n",
    "      ' | ',\n",
    "      r.json()['weatherForecast'][0]['forecastMintemp']['value'],\n",
    "      r.json()['weatherForecast'][0]['forecastMintemp']['unit'],\n",
    "      ' | ',\n",
    "      r.json()['weatherForecast'][0]['forecastWeather']\n",
    "     )"
   ]
  },
  {
   "cell_type": "markdown",
   "metadata": {},
   "source": [
    "# Simple HTML Extracting\n",
    "\n",
    "Import `BeautifulSoup` before you use it\n",
    "\n",
    "```\n",
    "from bs4 import BeautifulSoup\n",
    "```\n"
   ]
  },
  {
   "cell_type": "code",
   "execution_count": null,
   "metadata": {},
   "outputs": [],
   "source": [
    "from bs4 import BeautifulSoup"
   ]
  },
  {
   "cell_type": "markdown",
   "metadata": {},
   "source": [
    "# Dummy HTML Texts\n",
    "\n",
    "Declare the following HTML documents\n",
    "\n",
    "```\n",
    "html_doc = \"\"\"\n",
    "<html><head><title>The Dormouse's story</title></head>\n",
    "<body>\n",
    "<b>Sample HTML Contents</b>\n",
    "<p class=\"title purple\"><b>The Dormouse's story</b></p>\n",
    "\n",
    "<p class=\"story\">Once upon a time there were three little sisters; and their names were\n",
    "<a href=\"http://example.com/elsie\" class=\"sister purple\" id=\"link1\">Elsie</a>,\n",
    "<a href=\"http://example.com/lacie\" class=\"sister\" id=\"link2\">Lacie</a> and\n",
    "<a href=\"http://example.com/tillie\" class=\"sister\" id=\"link3\">Tillie (<b>Important</b>)</a>;\n",
    "and they lived at the bottom of a well.</p>\n",
    "\n",
    "<p class=\"story\">a paragraph ... </p>\n",
    "</body>\n",
    "</html>\n",
    "\"\"\"\n",
    "````"
   ]
  },
  {
   "cell_type": "code",
   "execution_count": null,
   "metadata": {},
   "outputs": [],
   "source": [
    "html_doc = \"\"\"\n",
    "<html><head><title>The Dormouse's story</title></head>\n",
    "<body>\n",
    "<b>Sample HTML Contents</b>\n",
    "<p class=\"title purple\"><b>The Dormouse's story</b></p>\n",
    "\n",
    "<p class=\"story\">Once upon a time there were three little sisters; and their names were\n",
    "<a href=\"http://example.com/elsie\" class=\"sister purple\" id=\"link1\">Elsie</a>,\n",
    "<a href=\"http://example.com/lacie\" class=\"sister\" id=\"link2\">Lacie</a> and\n",
    "<a href=\"http://example.com/tillie\" class=\"sister\" id=\"link3\">Tillie</a>;\n",
    "and they lived at the bottom of a well.</p>\n",
    "\n",
    "<p class=\"story\">a paragraph ... </p>\n",
    "</body>\n",
    "</html>\n",
    "\"\"\""
   ]
  },
  {
   "cell_type": "code",
   "execution_count": null,
   "metadata": {},
   "outputs": [],
   "source": [
    "soup = BeautifulSoup(html_doc, 'html.parser')"
   ]
  },
  {
   "cell_type": "code",
   "execution_count": null,
   "metadata": {},
   "outputs": [],
   "source": [
    "soup"
   ]
  },
  {
   "cell_type": "code",
   "execution_count": null,
   "metadata": {},
   "outputs": [],
   "source": [
    "type(soup)"
   ]
  },
  {
   "cell_type": "markdown",
   "metadata": {},
   "source": [
    "# call `prettify()` function to show neat HTML codes\n",
    "The following command will display a neat output\n",
    "```\n",
    "print(soup.prettify())\n",
    "```"
   ]
  },
  {
   "cell_type": "code",
   "execution_count": null,
   "metadata": {},
   "outputs": [],
   "source": [
    "print(soup.prettify())"
   ]
  },
  {
   "cell_type": "markdown",
   "metadata": {},
   "source": [
    "# Use `find()` to retrieve a child elements\n",
    "Examples:\n",
    "```\n",
    "soup.find('html')\n",
    "soup.find('head')\n",
    "soup.find('title')\n",
    "soup.find('body')\n",
    "soup.find('p')\n",
    "p = soup.find('p')\n",
    "type(p)\n",
    "b = p.find('b')\n",
    "type(b)\n",
    "```\n",
    "`find()` _function will only return ONE SINGLE element even if there are multiple matched_"
   ]
  },
  {
   "cell_type": "code",
   "execution_count": null,
   "metadata": {},
   "outputs": [],
   "source": []
  },
  {
   "cell_type": "markdown",
   "metadata": {},
   "source": [
    "# Use dot  `.` as short hand\n",
    "To retrieve the `<title>` tag\n",
    "```\n",
    "soup.title\n",
    "```\n",
    "Other examples\n",
    "```\n",
    "soup.html\n",
    "soup.head\n",
    "soup.body\n",
    "title_tag = soup.title \n",
    "print(title_tag.name)\n",
    "print(title_tag.string)\n",
    "print(title_tag.text)\n",
    "```\n",
    "\n",
    "To retrieve the title text only\n"
   ]
  },
  {
   "cell_type": "code",
   "execution_count": null,
   "metadata": {},
   "outputs": [],
   "source": [
    "title_tag = soup.title"
   ]
  },
  {
   "cell_type": "code",
   "execution_count": null,
   "metadata": {},
   "outputs": [],
   "source": [
    "title_tag"
   ]
  },
  {
   "cell_type": "code",
   "execution_count": null,
   "metadata": {},
   "outputs": [],
   "source": [
    "type(title_tag)"
   ]
  },
  {
   "cell_type": "code",
   "execution_count": null,
   "metadata": {},
   "outputs": [],
   "source": [
    "title_tag.name"
   ]
  },
  {
   "cell_type": "code",
   "execution_count": null,
   "metadata": {
    "scrolled": true
   },
   "outputs": [],
   "source": [
    "title_tag.string"
   ]
  },
  {
   "cell_type": "code",
   "execution_count": null,
   "metadata": {},
   "outputs": [],
   "source": [
    "title_tag.text"
   ]
  },
  {
   "cell_type": "code",
   "execution_count": null,
   "metadata": {},
   "outputs": [],
   "source": [
    "type(title_tag.string)"
   ]
  },
  {
   "cell_type": "code",
   "execution_count": null,
   "metadata": {},
   "outputs": [],
   "source": [
    "type(title_tag.text)"
   ]
  },
  {
   "cell_type": "markdown",
   "metadata": {},
   "source": [
    "# Get the parent tag\n",
    "`.parent` gives the parent tag of current tag\n",
    "```\n",
    "title_tag.parent\n",
    "title_tag.parent.name\n",
    "title_tag.parent.string\n",
    "```"
   ]
  },
  {
   "cell_type": "code",
   "execution_count": null,
   "metadata": {},
   "outputs": [],
   "source": [
    "title_tag.parent"
   ]
  },
  {
   "cell_type": "code",
   "execution_count": null,
   "metadata": {},
   "outputs": [],
   "source": [
    "title_tag.parent.name"
   ]
  },
  {
   "cell_type": "code",
   "execution_count": null,
   "metadata": {},
   "outputs": [],
   "source": [
    "title_tag.parent.string"
   ]
  },
  {
   "cell_type": "markdown",
   "metadata": {},
   "source": [
    "# Extracting the attributes of a tag\n",
    "Showing attribute\n",
    "```\n",
    "a_tag = soup.a\n",
    "a_tag\n",
    "a_tag[\"class\"]\n",
    "a_tag[\"href\"]\n",
    "a_tag[\"id\"]\n",
    "a_tag.attrs # show all the attributes of a tag\n",
    "```\n",
    "a_tag.attrs\n",
    "Showing all attributes\n",
    "```\n",
    "\n",
    "```"
   ]
  },
  {
   "cell_type": "code",
   "execution_count": null,
   "metadata": {},
   "outputs": [],
   "source": [
    "a_tag = soup.a"
   ]
  },
  {
   "cell_type": "code",
   "execution_count": null,
   "metadata": {},
   "outputs": [],
   "source": [
    "a_tag"
   ]
  },
  {
   "cell_type": "code",
   "execution_count": null,
   "metadata": {},
   "outputs": [],
   "source": [
    "a_tag[\"id\"]"
   ]
  },
  {
   "cell_type": "code",
   "execution_count": null,
   "metadata": {},
   "outputs": [],
   "source": [
    "a_tag.attrs"
   ]
  },
  {
   "cell_type": "markdown",
   "metadata": {},
   "source": [
    "# Find all the matching tags, use `find_all()`\n",
    "`find_all()` function will return all the matching tags in the form of array\n",
    "Example:\n",
    "```\n",
    "soup.find_all('a')\n",
    "links = soup.find_all('a')\n",
    "print(links)\n",
    "type(links)\n",
    "links[0]\n",
    "links[1]\n",
    "links[0][\"href\"]\n",
    "```\n"
   ]
  },
  {
   "cell_type": "code",
   "execution_count": null,
   "metadata": {},
   "outputs": [],
   "source": [
    "soup.find_all('a')"
   ]
  },
  {
   "cell_type": "code",
   "execution_count": null,
   "metadata": {},
   "outputs": [],
   "source": [
    "links = soup.find_all('a')"
   ]
  },
  {
   "cell_type": "code",
   "execution_count": null,
   "metadata": {},
   "outputs": [],
   "source": [
    "links"
   ]
  },
  {
   "cell_type": "code",
   "execution_count": null,
   "metadata": {},
   "outputs": [],
   "source": [
    "type(links)"
   ]
  },
  {
   "cell_type": "code",
   "execution_count": null,
   "metadata": {},
   "outputs": [],
   "source": [
    "links[0]"
   ]
  },
  {
   "cell_type": "code",
   "execution_count": null,
   "metadata": {},
   "outputs": [],
   "source": [
    "links[1]"
   ]
  },
  {
   "cell_type": "code",
   "execution_count": null,
   "metadata": {},
   "outputs": [],
   "source": [
    "links[0][\"href\"]"
   ]
  },
  {
   "cell_type": "markdown",
   "metadata": {},
   "source": [
    "# Retrieving by css class name\n",
    "Examples:\n",
    "```\n",
    "soup.find(class_='sister')\n",
    "soup.find_all(class_='sister') # returns all tags with sister css class\n",
    "soup.find_all('a', class_='purple') # returns the `<a>` tag with css class purple\n",
    "soup.find_all('p', class_='purple') # returns the `<p>` tag with css class purple\n",
    "\n",
    "```"
   ]
  },
  {
   "cell_type": "code",
   "execution_count": null,
   "metadata": {},
   "outputs": [],
   "source": [
    "soup.find_all(class_='sister')"
   ]
  },
  {
   "cell_type": "code",
   "execution_count": null,
   "metadata": {},
   "outputs": [],
   "source": [
    "soup.find_all('a', class_='purple') "
   ]
  },
  {
   "cell_type": "code",
   "execution_count": null,
   "metadata": {},
   "outputs": [],
   "source": [
    "soup.find_all('p', class_='purple') "
   ]
  },
  {
   "cell_type": "markdown",
   "metadata": {},
   "source": [
    "# Limit the number in search result\n",
    "Example\n",
    "```\n",
    "soup.find_all('a')\n",
    "soup.find_all('a', limit=2) # set the limit return to 2\n",
    "\n",
    "```"
   ]
  },
  {
   "cell_type": "code",
   "execution_count": null,
   "metadata": {},
   "outputs": [],
   "source": [
    "soup.find_all('a', limit=2)"
   ]
  },
  {
   "cell_type": "markdown",
   "metadata": {},
   "source": [
    "# Retrieving by HTML `id`\n",
    "Examples:\n",
    "```\n",
    "soup.find(id='link1')\n",
    "```\n",
    "\n",
    "**Note**:\n",
    "- id is a unique value. So you should expecting only one matched tag.  \n",
    "- However there could be exception as it's quite common that HMTL codes are buggy and messy."
   ]
  },
  {
   "cell_type": "code",
   "execution_count": null,
   "metadata": {},
   "outputs": [],
   "source": [
    "soup.find(id='link1')"
   ]
  },
  {
   "cell_type": "markdown",
   "metadata": {},
   "source": [
    "# Advanced CSS Selectors\n",
    "If you are experienced with CSS coding, you will be familiar with the following coding styles\n",
    "```\n",
    "soup.select('body b')\n",
    "soup.select('p b')\n",
    "soup.select('body>b')\n",
    "soup.select('body>p>b')\n",
    "```"
   ]
  },
  {
   "cell_type": "code",
   "execution_count": null,
   "metadata": {},
   "outputs": [],
   "source": [
    "soup.select('body b')"
   ]
  },
  {
   "cell_type": "code",
   "execution_count": null,
   "metadata": {},
   "outputs": [],
   "source": []
  },
  {
   "cell_type": "code",
   "execution_count": null,
   "metadata": {},
   "outputs": [],
   "source": []
  },
  {
   "cell_type": "code",
   "execution_count": null,
   "metadata": {},
   "outputs": [],
   "source": []
  },
  {
   "cell_type": "markdown",
   "metadata": {},
   "source": [
    "# Practical Session\n",
    "#### Use requests and BeautifulSoup together\n",
    "BeautifulSoup is NOT a HTTP client, we have to use `requests` to retrieve HTML codes from an actual webiste\n",
    "\n",
    "**Required imports**:\n",
    "```\n",
    "import requests\n",
    "from bs4 import BeautifulSoup\n",
    "```"
   ]
  },
  {
   "cell_type": "code",
   "execution_count": null,
   "metadata": {},
   "outputs": [],
   "source": [
    "import requests\n",
    "from bs4 import BeautifulSoup"
   ]
  },
  {
   "cell_type": "markdown",
   "metadata": {},
   "source": [
    "### Declaring url to retrieve\n",
    "```\n",
    "url = \"https://stock360.hkej.com/marketWatch/Top20/topGainers\"\n",
    "webpage_request = requests.get(url)\n",
    "soup = BeautifulSoup(webpage_request.content, 'html.parser')\n",
    "```"
   ]
  },
  {
   "cell_type": "code",
   "execution_count": null,
   "metadata": {},
   "outputs": [],
   "source": [
    "url = \"https://stock360.hkej.com/marketWatch/Top20/topGainers\"\n",
    "webpage_request = requests.get(url)\n",
    "soup = BeautifulSoup(webpage_request.content, 'html.parser')"
   ]
  },
  {
   "cell_type": "code",
   "execution_count": null,
   "metadata": {},
   "outputs": [],
   "source": []
  },
  {
   "cell_type": "code",
   "execution_count": null,
   "metadata": {},
   "outputs": [],
   "source": []
  },
  {
   "cell_type": "markdown",
   "metadata": {},
   "source": [
    "### Use `find()` to retrieve top stock rows\n",
    "```\n",
    "top_stocks_table = soup.find(class_='dt640')\n",
    "print(type(top_stocks_table))\n",
    "stock_rows = top_stocks_table.find_all(\"tr\")\n",
    "print(len(stock_rows))\n",
    "print(stock_rows[0])\n",
    "print(stock_rows[1])\n",
    "print(stock_rows[2])\n",
    "print(stock_rows[3])\n",
    "\n",
    "```"
   ]
  },
  {
   "cell_type": "code",
   "execution_count": null,
   "metadata": {},
   "outputs": [],
   "source": []
  },
  {
   "cell_type": "code",
   "execution_count": null,
   "metadata": {},
   "outputs": [],
   "source": []
  },
  {
   "cell_type": "code",
   "execution_count": null,
   "metadata": {},
   "outputs": [],
   "source": []
  },
  {
   "cell_type": "markdown",
   "metadata": {},
   "source": [
    "### Looping the top stock rows\n",
    "```\n",
    "for i in range(2, len(stock_rows)):\n",
    "    stock = stock_rows[i]\n",
    "    code = stock.find(class_='code')\n",
    "    name = stock.find(class_='name')\n",
    "    print(f'{code}\\t{name}')\n",
    "    #print(f'{code.string}\\t{name.string}')\n",
    "```"
   ]
  },
  {
   "cell_type": "code",
   "execution_count": null,
   "metadata": {},
   "outputs": [],
   "source": [
    "for i in range(2, len(stock_rows)):\n",
    "    stock = stock_rows[i]\n",
    "    code = stock.find(class_='code')\n",
    "    name = stock.find(class_='name')\n",
    "    print(f'{code}\\t{name}')\n",
    "    #print(f'{code.string}\\t{name.string}')\n"
   ]
  },
  {
   "cell_type": "markdown",
   "metadata": {},
   "source": [
    "### Retrieving more stock columns\n",
    "```\n",
    "for i in range(2, len(stock_rows)):\n",
    "    stock = stock_rows[i]\n",
    "    code = stock.find(class_='code')\n",
    "    name = stock.find(class_='name')\n",
    "    latest = stock.find(class_='latest')\n",
    "    change = stock.find(class_='change')\n",
    "    change_p = stock.find(class_='change_p')\n",
    "    volumn = stock.find(class_='volumn')\n",
    "    turnover = stock.find(class_='turnover')\n",
    "    market_cap = stock.find(class_='marketCap')    \n",
    "    print(f'{code.string}\\t{name.string}\\t{latest.string}\\t{change_p.text}')\n",
    "```"
   ]
  },
  {
   "cell_type": "code",
   "execution_count": null,
   "metadata": {},
   "outputs": [],
   "source": [
    "for i in range(2, len(stock_rows)):\n",
    "    stock = stock_rows[i]\n",
    "    code = stock.find(class_='code')\n",
    "    name = stock.find(class_='name')\n",
    "    latest = stock.find(class_='latest')\n",
    "    change = stock.find(class_='change')\n",
    "    change_p = stock.find(class_='change_p')\n",
    "    volumn = stock.find(class_='volumn')\n",
    "    turnover = stock.find(class_='turnover')\n",
    "    market_cap = stock.find(class_='marketCap')    \n",
    "    print(f'{code.string}\\t{name.string}\\t{latest.string}\\t{change_p.text}')\n"
   ]
  },
  {
   "cell_type": "code",
   "execution_count": null,
   "metadata": {},
   "outputs": [],
   "source": []
  },
  {
   "cell_type": "markdown",
   "metadata": {},
   "source": [
    "# Run the complete python script\n",
    "There is a complete python script named `get_active_stock.py` in the script folder of the downloaded folder\n",
    "\n",
    "**To run the script**:\n",
    "- Open the command line window / Terminal\n",
    "- Type in command: `python3 get_active_stock.py`"
   ]
  },
  {
   "cell_type": "code",
   "execution_count": null,
   "metadata": {},
   "outputs": [],
   "source": []
  }
 ],
 "metadata": {
  "kernelspec": {
   "display_name": "Python 3 (ipykernel)",
   "language": "python",
   "name": "python3"
  },
  "language_info": {
   "codemirror_mode": {
    "name": "ipython",
    "version": 3
   },
   "file_extension": ".py",
   "mimetype": "text/x-python",
   "name": "python",
   "nbconvert_exporter": "python",
   "pygments_lexer": "ipython3",
   "version": "3.8.5"
  },
  "toc": {
   "base_numbering": 1,
   "nav_menu": {},
   "number_sections": false,
   "sideBar": true,
   "skip_h1_title": false,
   "title_cell": "Table of Contents",
   "title_sidebar": "Contents",
   "toc_cell": false,
   "toc_position": {},
   "toc_section_display": true,
   "toc_window_display": true
  }
 },
 "nbformat": 4,
 "nbformat_minor": 4
}
