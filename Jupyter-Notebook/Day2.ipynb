{
 "cells": [
  {
   "cell_type": "markdown",
   "metadata": {},
   "source": [
    "# Python Intermediate - Day 2\n",
    "---\n",
    "# Using Pandas\n",
    "- `pandas` is a fast, powerful, flexible and easy to use open source data analysis and manipulation tool\n",
    "- `pandas` is built on top of `numpy` and therefore quite often used together with `numpy`\n",
    "\n",
    "**import before you use**:\n",
    "```\n",
    "import numpy as np\n",
    "import pandas as pd\n",
    "```"
   ]
  },
  {
   "cell_type": "code",
   "execution_count": null,
   "metadata": {},
   "outputs": [],
   "source": []
  },
  {
   "cell_type": "markdown",
   "metadata": {},
   "source": [
    "# Check your Pandas version\n",
    "Syntax:\n",
    "```\n",
    "print(pd.__version__)\n",
    "```"
   ]
  },
  {
   "cell_type": "code",
   "execution_count": null,
   "metadata": {},
   "outputs": [],
   "source": []
  },
  {
   "cell_type": "markdown",
   "metadata": {},
   "source": [
    "# Some python handy features\n",
    "\n",
    "**Createing array**\n",
    "\n",
    "instead of typing `l = ['A', 'B', 'C', 'D', 'E']`\n",
    "```\n",
    "l = list('ABCDE')\n",
    "l = 'A B C D E'.split()\n",
    "```\n",
    "\n",
    "**Generates a range of dates**:\n",
    "```\n",
    "dates = pd.date_range('20210101', periods=7) \n",
    "type(dates) # returns pandas.core.indexes.datetimes.DatetimeIndex\n",
    "```"
   ]
  },
  {
   "cell_type": "code",
   "execution_count": null,
   "metadata": {},
   "outputs": [],
   "source": []
  },
  {
   "cell_type": "code",
   "execution_count": null,
   "metadata": {},
   "outputs": [],
   "source": []
  },
  {
   "cell_type": "code",
   "execution_count": null,
   "metadata": {},
   "outputs": [],
   "source": []
  },
  {
   "cell_type": "code",
   "execution_count": null,
   "metadata": {
    "scrolled": true
   },
   "outputs": [],
   "source": []
  },
  {
   "cell_type": "code",
   "execution_count": null,
   "metadata": {},
   "outputs": [],
   "source": []
  },
  {
   "cell_type": "code",
   "execution_count": null,
   "metadata": {},
   "outputs": [],
   "source": []
  },
  {
   "cell_type": "markdown",
   "metadata": {},
   "source": [
    "# Pandas `DataFrame`\n",
    "A DataFrame is a two dimensional data structure\n",
    "\n",
    "**To declare a dataframe**:\n",
    "```\n",
    "df = pd.DataFrame({\n",
    "    \"Name\": [\"Andy\", \"Ben\", \"Cathy\", \"Debra\"],\n",
    "    \"Age\": [20, 22, 23, 22],\n",
    "    \"Sex\": [\"male\", \"male\", \"female\", \"female\"],\n",
    "    \"Year\": [1, 3, 4, 3]\n",
    "})\n",
    "```\n",
    "\n",
    "**Check the type**\n",
    "```\n",
    "print(type(df)) # it returns pandas.core.frame.DataFrame\n",
    "\n",
    "```\n",
    "**In real applications**\n",
    "- DataFrame are seldom declared by code in the above approach.\n",
    "- Instead, they are imported from external sources\n",
    "- E.g.: csv, excel, json"
   ]
  },
  {
   "cell_type": "code",
   "execution_count": null,
   "metadata": {},
   "outputs": [],
   "source": []
  },
  {
   "cell_type": "code",
   "execution_count": null,
   "metadata": {},
   "outputs": [],
   "source": []
  },
  {
   "cell_type": "code",
   "execution_count": null,
   "metadata": {},
   "outputs": [],
   "source": []
  },
  {
   "cell_type": "markdown",
   "metadata": {},
   "source": [
    "# DataFrame information\n",
    "```\n",
    "df.shape # return the dimension\n",
    "df.shape[0] # return the number of row\n",
    "df.info()\n",
    "df.describe()\n",
    "```"
   ]
  },
  {
   "cell_type": "code",
   "execution_count": null,
   "metadata": {},
   "outputs": [],
   "source": []
  },
  {
   "cell_type": "code",
   "execution_count": null,
   "metadata": {},
   "outputs": [],
   "source": []
  },
  {
   "cell_type": "code",
   "execution_count": null,
   "metadata": {},
   "outputs": [],
   "source": []
  },
  {
   "cell_type": "code",
   "execution_count": null,
   "metadata": {},
   "outputs": [],
   "source": []
  },
  {
   "cell_type": "markdown",
   "metadata": {},
   "source": [
    "# Retrieving a column (a.k.a Pandas Series)\n",
    "Use a `[]` (square bracket) with a column name (in string) to indicate which column you want to retrieve\n",
    "\n",
    "Example\n",
    "```\n",
    "df['Name']\n",
    "name = df['Name']\n",
    "print(type(name)) # returns pandas.core.series.Series\n",
    "```"
   ]
  },
  {
   "cell_type": "code",
   "execution_count": null,
   "metadata": {},
   "outputs": [],
   "source": []
  },
  {
   "cell_type": "code",
   "execution_count": null,
   "metadata": {},
   "outputs": [],
   "source": []
  },
  {
   "cell_type": "markdown",
   "metadata": {},
   "source": [
    "# Retrieving multiple columns\n",
    "Use a `[]` (square bracket) with a column index name (in string) to indicate which column you want to retrieve\n",
    "\n",
    "**Example**\n",
    "```\n",
    "columns = ['Name', 'Year'] # declare the columns you want in a list\n",
    "df[columns] # pass the column list as paramenter to the dataframe\n",
    "df[['Name', 'Year']] # Or simply put the list of column names directly\n",
    "# Note is double squared\n",
    "name_and_year = df[['Name', 'Year']]\n",
    "print(type(name_and_year)) # Returns pandas.core.frame.DataFrame\n",
    "```\n",
    "**Below is a mistake**\n",
    "```\n",
    "name_and_year = df['Name', 'Year']\n",
    "```"
   ]
  },
  {
   "cell_type": "code",
   "execution_count": null,
   "metadata": {},
   "outputs": [],
   "source": []
  },
  {
   "cell_type": "code",
   "execution_count": null,
   "metadata": {},
   "outputs": [],
   "source": []
  },
  {
   "cell_type": "code",
   "execution_count": null,
   "metadata": {},
   "outputs": [],
   "source": []
  },
  {
   "cell_type": "markdown",
   "metadata": {},
   "source": [
    "# Use `loc()` function to locate a row\n",
    "Pandas use the loc attribute to return one or more specified row(s)\n",
    "Example:\n",
    "```\n",
    "df.loc[0]\n",
    "df.loc[1]\n",
    "type(df.loc[0]) # returns pandas.core.series.Series\n",
    "```"
   ]
  },
  {
   "cell_type": "code",
   "execution_count": null,
   "metadata": {},
   "outputs": [],
   "source": []
  },
  {
   "cell_type": "code",
   "execution_count": null,
   "metadata": {
    "scrolled": true
   },
   "outputs": [],
   "source": []
  },
  {
   "cell_type": "code",
   "execution_count": null,
   "metadata": {},
   "outputs": [],
   "source": []
  },
  {
   "cell_type": "markdown",
   "metadata": {},
   "source": [
    "# Locating Multiple Rows\n",
    "Provide a list of row number: `[0, 2]`\n",
    "\n",
    "**Example**:\n",
    "```\n",
    "rows = [0, 2]\n",
    "df.loc[rows]\n",
    "```\n",
    "\n",
    "**Or simplified one liner**:\n",
    "```\n",
    "df.loc[[0, 2]]\n",
    "```\n",
    "\n",
    "**Mistake**:\n",
    "```\n",
    "df.loc[0, 2]\n",
    "```\n"
   ]
  },
  {
   "cell_type": "code",
   "execution_count": null,
   "metadata": {},
   "outputs": [],
   "source": []
  },
  {
   "cell_type": "markdown",
   "metadata": {},
   "source": [
    "## Retrieving a range of row\n",
    "- Provide the starting row number and ending row number. \n",
    "- Use `:` to separate the starting row number and ending row number\n",
    "\n",
    "Example:\n",
    "```\n",
    "df.loc[0:1]\n",
    "df.loc[:2] # from position 0 to 2\n",
    "df.loc[2:] # from position 2 to the end\n",
    "```\n",
    "Short hand:\n",
    "```\n",
    "df[0:1]\n",
    "df[:2] # from position 0 to 1. End position exclusive.\n",
    "df[2:] # from position 2 to the end\n",
    "```\n"
   ]
  },
  {
   "cell_type": "code",
   "execution_count": null,
   "metadata": {},
   "outputs": [],
   "source": []
  },
  {
   "cell_type": "code",
   "execution_count": null,
   "metadata": {},
   "outputs": [],
   "source": []
  },
  {
   "cell_type": "code",
   "execution_count": null,
   "metadata": {},
   "outputs": [],
   "source": []
  },
  {
   "cell_type": "markdown",
   "metadata": {},
   "source": [
    "# Filtering Rows\n",
    "- It scans through each row\n",
    "- Perform a comparison operation on a column of each row \n",
    "- It returns `True` or `False` for comparison operation on that row\n",
    "\n",
    "Example:\n",
    "```\n",
    "filter = df['Age']<23\n",
    "print(filter)\n",
    "df[filter]\n",
    "```\n",
    "or in one line\n",
    "```\n",
    "df[df['Age']<23]\n",
    "```\n"
   ]
  },
  {
   "cell_type": "code",
   "execution_count": null,
   "metadata": {},
   "outputs": [],
   "source": []
  },
  {
   "cell_type": "code",
   "execution_count": null,
   "metadata": {},
   "outputs": [],
   "source": []
  },
  {
   "cell_type": "code",
   "execution_count": null,
   "metadata": {},
   "outputs": [],
   "source": []
  },
  {
   "cell_type": "code",
   "execution_count": null,
   "metadata": {},
   "outputs": [],
   "source": []
  },
  {
   "cell_type": "code",
   "execution_count": null,
   "metadata": {},
   "outputs": [],
   "source": []
  },
  {
   "cell_type": "markdown",
   "metadata": {},
   "source": [
    "# Filtering Rows with multiple filters\n",
    "Example:\n",
    "```\n",
    "filter = df['Age']<23\n",
    "filter2 = df['Year']==3\n",
    "df[filter & filter2]\n",
    "df[filter | filter2]\n",
    "```\n",
    "Concatenate the filter result for display\n",
    "```\n",
    "pd.concat([filter, filter2, (filter & filter2)], axis=1)\n",
    "pd.concat([filter, filter2, (filter | filter2)], axis=1)\n",
    "\n",
    "```"
   ]
  },
  {
   "cell_type": "code",
   "execution_count": null,
   "metadata": {},
   "outputs": [],
   "source": []
  },
  {
   "cell_type": "code",
   "execution_count": null,
   "metadata": {},
   "outputs": [],
   "source": []
  },
  {
   "cell_type": "code",
   "execution_count": null,
   "metadata": {},
   "outputs": [],
   "source": []
  },
  {
   "cell_type": "code",
   "execution_count": null,
   "metadata": {},
   "outputs": [],
   "source": []
  },
  {
   "cell_type": "markdown",
   "metadata": {},
   "source": [
    "# Restricting rows and columns at the same time\n",
    "You are apply both row filtering and columns retricting\n",
    "Example:\n",
    "```\n",
    "df[df['Year']==3]\n",
    "df[df['Year']==3][['Name', 'Year']]\n",
    "```"
   ]
  },
  {
   "cell_type": "code",
   "execution_count": null,
   "metadata": {},
   "outputs": [],
   "source": []
  },
  {
   "cell_type": "code",
   "execution_count": null,
   "metadata": {},
   "outputs": [],
   "source": []
  },
  {
   "cell_type": "markdown",
   "metadata": {},
   "source": [
    "# Use Pandas to retrieve HTML content\n",
    "Example:\n",
    "```\n",
    "url = 'http://www.multpl.com/s-p-500-dividend-yield/table?f=m'\n",
    "raw_html_tbl = pd.read_html(url)\n",
    "type(raw_html_tbl)\n",
    "len(raw_html_tbl)\n",
    "raw_html_tbl[0]\n",
    "type(raw_html_tbl[0])\n",
    "```"
   ]
  },
  {
   "cell_type": "code",
   "execution_count": null,
   "metadata": {},
   "outputs": [],
   "source": []
  },
  {
   "cell_type": "code",
   "execution_count": null,
   "metadata": {},
   "outputs": [],
   "source": []
  },
  {
   "cell_type": "code",
   "execution_count": null,
   "metadata": {},
   "outputs": [],
   "source": []
  },
  {
   "cell_type": "code",
   "execution_count": null,
   "metadata": {},
   "outputs": [],
   "source": []
  },
  {
   "cell_type": "code",
   "execution_count": null,
   "metadata": {},
   "outputs": [],
   "source": []
  },
  {
   "cell_type": "code",
   "execution_count": null,
   "metadata": {},
   "outputs": [],
   "source": []
  },
  {
   "cell_type": "markdown",
   "metadata": {},
   "source": [
    "# `pd.read_html()` doesn't always work\n",
    "- There are too many broken HTML codes\n",
    "- And some HTML are generated by JavaScript on the fly\n",
    "\n",
    "**Example**: \n",
    "\n",
    "The following scraping won't work\n",
    "```\n",
    "url2 = 'https://stock360.hkej.com/marketWatch/Top20'\n",
    "raw_html_tbl2 = pd.read_html(url2)\n",
    "raw_html_tbl2\n",
    "```"
   ]
  },
  {
   "cell_type": "code",
   "execution_count": null,
   "metadata": {},
   "outputs": [],
   "source": []
  },
  {
   "cell_type": "code",
   "execution_count": null,
   "metadata": {},
   "outputs": [],
   "source": []
  },
  {
   "cell_type": "code",
   "execution_count": null,
   "metadata": {},
   "outputs": [],
   "source": []
  },
  {
   "cell_type": "code",
   "execution_count": null,
   "metadata": {},
   "outputs": [],
   "source": []
  },
  {
   "cell_type": "code",
   "execution_count": null,
   "metadata": {},
   "outputs": [],
   "source": []
  },
  {
   "cell_type": "code",
   "execution_count": null,
   "metadata": {},
   "outputs": [],
   "source": []
  },
  {
   "cell_type": "markdown",
   "metadata": {},
   "source": [
    "# Another Example or web scraping using Pandas\n",
    "Retrieving currency table from Yahoo Finance\n",
    "```\n",
    "url3 = 'https://hk.finance.yahoo.com/currencies'\n",
    "raw_html_tbl3 = pd.read_html(url3)\n",
    "raw_html_tbl3[0]\n",
    "```"
   ]
  },
  {
   "cell_type": "code",
   "execution_count": null,
   "metadata": {},
   "outputs": [],
   "source": []
  },
  {
   "cell_type": "markdown",
   "metadata": {},
   "source": [
    "# Reading CSV\n",
    "Code example:\n",
    "```\n",
    "df = pd.read_csv('./data/Salaries.csv')\n",
    "df.head() # return the first 5 rows\n",
    "df.tail() # return the last 5 rows\n",
    "df.head(10)\n",
    "df.tail(10)\n",
    "df.info() # the table meta data\n",
    "df.describe() # basic statistic information\n",
    "```\n",
    "**Handling Empty Values**:\n",
    "- The `info()` method also tells us how many Non-Null values there are present in each column\n",
    "- Empty values, or Null values, can be bad when analyzing data, and you should consider removing rows with empty values. \n",
    "- This is a called cleaning data"
   ]
  },
  {
   "cell_type": "code",
   "execution_count": null,
   "metadata": {},
   "outputs": [],
   "source": []
  },
  {
   "cell_type": "markdown",
   "metadata": {},
   "source": [
    "# `pd.read_html()` doesn't always work\n",
    "- There are two many broken HTML Codes\n",
    "- Some HTML are generated by JavaScript on the fly\n",
    "Example: The following scraping won't work\n",
    "```\n",
    "url2 = 'https://stock360.hkej.com/marketWatch/Top20'\n",
    "raw_html_tbl2 = pd.read_html(url2)\n",
    "raw_html_tbl2\n",
    "```"
   ]
  },
  {
   "cell_type": "code",
   "execution_count": null,
   "metadata": {},
   "outputs": [],
   "source": []
  },
  {
   "cell_type": "code",
   "execution_count": null,
   "metadata": {},
   "outputs": [],
   "source": []
  },
  {
   "cell_type": "code",
   "execution_count": null,
   "metadata": {},
   "outputs": [],
   "source": []
  },
  {
   "cell_type": "code",
   "execution_count": null,
   "metadata": {},
   "outputs": [],
   "source": []
  },
  {
   "cell_type": "markdown",
   "metadata": {},
   "source": [
    "# Cleaning Data\n",
    "Data cleaning means fixing bad data in your data set.\n",
    "\n",
    "**Bad data could be**:\n",
    "- Empty cells\n",
    "- Data in wrong format\n",
    "- Wrong data\n",
    "- Duplicates"
   ]
  },
  {
   "cell_type": "markdown",
   "metadata": {},
   "source": [
    "# Dropping Columns\n",
    "You might like to drop a few columns that you don't need\n",
    "```\n",
    "new_df = df.drop(columns=['Notes', 'Status'])\n",
    "df.info()\n",
    "new_df.info()\n",
    "```"
   ]
  },
  {
   "cell_type": "code",
   "execution_count": null,
   "metadata": {},
   "outputs": [],
   "source": []
  },
  {
   "cell_type": "code",
   "execution_count": null,
   "metadata": {},
   "outputs": [],
   "source": []
  },
  {
   "cell_type": "code",
   "execution_count": null,
   "metadata": {},
   "outputs": [],
   "source": []
  },
  {
   "cell_type": "code",
   "execution_count": null,
   "metadata": {},
   "outputs": [],
   "source": []
  },
  {
   "cell_type": "markdown",
   "metadata": {},
   "source": [
    "# Drop Rows with Empty Value\n",
    "```\n",
    "cleaned_df = new_df.dropna()\n",
    "print(new_df.shape[0])\n",
    "print(cleaned_df.shape[0])\n",
    "cleaned_df.info()\n",
    "cleaned_df.describe()\n",
    "```"
   ]
  },
  {
   "cell_type": "code",
   "execution_count": null,
   "metadata": {},
   "outputs": [],
   "source": []
  },
  {
   "cell_type": "code",
   "execution_count": null,
   "metadata": {},
   "outputs": [],
   "source": []
  },
  {
   "cell_type": "code",
   "execution_count": null,
   "metadata": {},
   "outputs": [],
   "source": []
  },
  {
   "cell_type": "code",
   "execution_count": null,
   "metadata": {},
   "outputs": [],
   "source": []
  },
  {
   "cell_type": "markdown",
   "metadata": {},
   "source": [
    "# Replacing empty cells with mean or median\n",
    "\n",
    "```\n",
    "df[\"BasePay\"].describe()\n",
    "x = df[\"BasePay\"].mean()\n",
    "df[\"BasePay\"].fillna(x, inplace = True)\n",
    "df[\"BasePay\"].describe()\n",
    "```\n"
   ]
  },
  {
   "cell_type": "code",
   "execution_count": null,
   "metadata": {},
   "outputs": [],
   "source": []
  },
  {
   "cell_type": "code",
   "execution_count": null,
   "metadata": {},
   "outputs": [],
   "source": []
  },
  {
   "cell_type": "code",
   "execution_count": null,
   "metadata": {},
   "outputs": [],
   "source": []
  },
  {
   "cell_type": "code",
   "execution_count": null,
   "metadata": {},
   "outputs": [],
   "source": []
  },
  {
   "cell_type": "markdown",
   "metadata": {},
   "source": [
    "# Finding Relationship\n",
    "The `corr()` method calculates the relationship between each column in your data set.\n",
    "```\n",
    "df.corr()\n",
    "```\n",
    "The Result of the `corr()` method is a table with a lot of numbers that represents how well the relationship is between two columns.\n",
    "- The number varies from `-1` to `1`.\n",
    "- `1` means that there is a 1 to 1 relationship (a perfect correlation).\n",
    "- `0.9` is also a good relationship, and if you increase one value, the other will probably increase as well.\n",
    "- `-0.9` would be just as good relationship as 0.9, but if you increase one value, the other will go down.\n",
    "- `0.2` means NOT a good relationship, meaning that if one value goes up does not mean that the other will.\n",
    "\n",
    "Example:\n",
    "```\n",
    "df = pd.read_excel('./data/Students.xls', sheet_name=0)\n",
    "df\n",
    "df.corr()\n",
    "```"
   ]
  },
  {
   "cell_type": "code",
   "execution_count": null,
   "metadata": {},
   "outputs": [],
   "source": []
  },
  {
   "cell_type": "markdown",
   "metadata": {},
   "source": [
    "# Groupby: divide data into groups\n",
    "```\n",
    "df = pd.read_csv('./data/Salaries.csv')\n",
    "df.info()\n",
    "df.groupby('JobTitle')\n",
    "df.groupby('Year')\n",
    "group_by_year = df.groupby('Year')\n",
    "group_by_year.groups\n",
    "group_by_year.get_group(2011)\n",
    "```"
   ]
  },
  {
   "cell_type": "code",
   "execution_count": null,
   "metadata": {},
   "outputs": [],
   "source": []
  },
  {
   "cell_type": "code",
   "execution_count": null,
   "metadata": {},
   "outputs": [],
   "source": []
  },
  {
   "cell_type": "code",
   "execution_count": null,
   "metadata": {},
   "outputs": [],
   "source": []
  },
  {
   "cell_type": "code",
   "execution_count": null,
   "metadata": {},
   "outputs": [],
   "source": []
  },
  {
   "cell_type": "markdown",
   "metadata": {},
   "source": [
    "# Group Aggregated Data\n",
    "An aggregated function returns a single aggregated value for each group.\n",
    "\n",
    "Example:\n",
    "```\n",
    "group_by_year.agg(np.mean)\n",
    "group_by_year.agg(np.max)\n",
    "group_by_year.agg(np.min)\n",
    "group_by_year.agg([np.sum, np.mean, np.std])\n",
    "```"
   ]
  },
  {
   "cell_type": "code",
   "execution_count": null,
   "metadata": {},
   "outputs": [],
   "source": []
  },
  {
   "cell_type": "code",
   "execution_count": null,
   "metadata": {},
   "outputs": [],
   "source": []
  },
  {
   "cell_type": "code",
   "execution_count": null,
   "metadata": {},
   "outputs": [],
   "source": []
  },
  {
   "cell_type": "code",
   "execution_count": null,
   "metadata": {},
   "outputs": [],
   "source": []
  },
  {
   "cell_type": "markdown",
   "metadata": {},
   "source": [
    "# Group by with multiple columns\n",
    "\n",
    "Example:\n",
    "```\n",
    "df.groupby(['JobTitle', 'Year'])\n",
    "df.groupby(['JobTitle', 'Year']).groups\n",
    "df.groupby(['JobTitle', 'Year']).agg(np.mean)\n",
    "```\n",
    "\n"
   ]
  },
  {
   "cell_type": "code",
   "execution_count": null,
   "metadata": {},
   "outputs": [],
   "source": []
  },
  {
   "cell_type": "code",
   "execution_count": null,
   "metadata": {},
   "outputs": [],
   "source": []
  },
  {
   "cell_type": "code",
   "execution_count": null,
   "metadata": {},
   "outputs": [],
   "source": []
  },
  {
   "cell_type": "markdown",
   "metadata": {},
   "source": [
    "# Merging Data\n",
    "- **Concatenation**: combining together Series, DataFrame\n",
    "- **Joining**: join operations idiomatically very similar to relational databases like SQL\n",
    "\n",
    "**Concatenation**:\n",
    "```\n",
    "df1 = pd.read_excel('./data/Students.xls', sheet_name=0)\n",
    "df2 = pd.read_excel('./data/Students.xls', sheet_name=0)\n",
    "concatencate1 = pd.concat([df1, df2])\n",
    "concatencate1\n",
    "concatencate2 = pd.concat([df1, df2], axis=1)\n",
    "concatencate2\n",
    "```\n",
    "\n",
    "\n",
    "**Joining**:\n",
    "```\n",
    "left = pd.read_excel('./data/Students.xls', sheet_name=0)\n",
    "right = pd.read_excel('./data/Students.xls', sheet_name=1)\n",
    "joined = pd.merge(left, right, on='Academic year')\n",
    "joined\n",
    "```"
   ]
  },
  {
   "cell_type": "code",
   "execution_count": null,
   "metadata": {},
   "outputs": [],
   "source": []
  },
  {
   "cell_type": "code",
   "execution_count": null,
   "metadata": {},
   "outputs": [],
   "source": []
  },
  {
   "cell_type": "code",
   "execution_count": null,
   "metadata": {},
   "outputs": [],
   "source": []
  },
  {
   "cell_type": "code",
   "execution_count": null,
   "metadata": {},
   "outputs": [],
   "source": []
  },
  {
   "cell_type": "code",
   "execution_count": null,
   "metadata": {},
   "outputs": [],
   "source": []
  },
  {
   "cell_type": "markdown",
   "metadata": {},
   "source": [
    "# Matplotlib\n",
    "Matplotlib is a low level graph plotting library in python that serves as a visualization utility.\n",
    "\n",
    "**import before you use**:\n",
    "```\n",
    "import matplotlib.pyplot as plt\n",
    "```\n",
    "\n",
    "**Samples**:\n",
    "```\n",
    "df = pd.read_excel('./data/Students.xls', sheet_name=0)\n",
    "year = df['Academic year']\n",
    "ug = df['Under-graduate']\n",
    "plt.plot(year, ug)\n",
    "plt.plot(year, ug, 'o')\n",
    "```"
   ]
  },
  {
   "cell_type": "code",
   "execution_count": null,
   "metadata": {},
   "outputs": [],
   "source": []
  },
  {
   "cell_type": "code",
   "execution_count": null,
   "metadata": {},
   "outputs": [],
   "source": []
  },
  {
   "cell_type": "code",
   "execution_count": null,
   "metadata": {},
   "outputs": [],
   "source": []
  },
  {
   "cell_type": "code",
   "execution_count": null,
   "metadata": {},
   "outputs": [],
   "source": []
  },
  {
   "cell_type": "markdown",
   "metadata": {},
   "source": [
    "# Styling theMarkers\n",
    "\n",
    "Other markers to consider:\n",
    "\n",
    "`'o'`\tCircle\t\n",
    "`'*'`\tStar\t\n",
    "`'.'`\tPoint\t\n",
    "`','`\tPixel\t\n",
    "`'x'`\tX\t\n",
    "`'X'`\tX (filled)\t\n",
    "`'+'`\tPlus\t\n",
    "`'P'`\tPlus (filled)\t\n",
    "`'s'`\tSquare\t\n",
    "`'D'`\tDiamond\t\n",
    "`'d'`\tDiamond (thin)\t\n",
    "`'p'`\tPentagon\t\n",
    "`'H'`\tHexagon\t\n",
    "`'h'`\tHexagon\t\n",
    "`'v'`\tTriangle Down\t\n",
    "`'^'`\tTriangle Up\t\n",
    "`'<'`\tTriangle Left\t\n",
    "`'>'`\tTriangle Right\t\n",
    "`'1'`\tTri Down\t\n",
    "`'2'`\tTri Up\t\n",
    "`'3'`\tTri Left\t\n",
    "`'4'`\tTri Right\t\n",
    "`'|'`\tVline\t\n",
    "`'_'`\tHline"
   ]
  },
  {
   "cell_type": "code",
   "execution_count": null,
   "metadata": {},
   "outputs": [],
   "source": []
  },
  {
   "cell_type": "code",
   "execution_count": null,
   "metadata": {},
   "outputs": [],
   "source": []
  },
  {
   "cell_type": "markdown",
   "metadata": {},
   "source": [
    "# Configuring marker size\n",
    "You can use the keyword argument markersize or the shorter version, ms to set the size of the markers:\n",
    "Example:\n",
    "```\n",
    "plt.plot(year, ug, 'D', ms=10)\n",
    "```"
   ]
  },
  {
   "cell_type": "code",
   "execution_count": null,
   "metadata": {},
   "outputs": [],
   "source": []
  },
  {
   "cell_type": "code",
   "execution_count": null,
   "metadata": {
    "scrolled": true
   },
   "outputs": [],
   "source": []
  }
 ],
 "metadata": {
  "kernelspec": {
   "display_name": "Python 3",
   "language": "python",
   "name": "python3"
  },
  "language_info": {
   "codemirror_mode": {
    "name": "ipython",
    "version": 3
   },
   "file_extension": ".py",
   "mimetype": "text/x-python",
   "name": "python",
   "nbconvert_exporter": "python",
   "pygments_lexer": "ipython3",
   "version": "3.8.5"
  }
 },
 "nbformat": 4,
 "nbformat_minor": 4
}
