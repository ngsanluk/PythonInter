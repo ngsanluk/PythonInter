{
 "cells": [
  {
   "cell_type": "markdown",
   "metadata": {},
   "source": [
    "# Python Intermediate - Day 2\n",
    "---\n",
    "\n",
    "**More on Data Visualization**\n",
    "- Pandas Built-in Plot\n",
    "- Using Seaborn\n",
    "- JSON LIve Data Loading and Visualization\n",
    "\n",
    "**Web Scraping**\n",
    "- Plotting with Live Data\n",
    "- Reading HTML\n",
    "- Web Scraping"
   ]
  },
  {
   "cell_type": "markdown",
   "metadata": {},
   "source": [
    "## Import\n",
    "\n",
    "```\n",
    "import numpy as np\n",
    "import pandas as pd\n",
    "import matplotlib.pyplot as plt\n",
    "import seaborn as sns\n",
    "```"
   ]
  },
  {
   "cell_type": "code",
   "execution_count": null,
   "metadata": {},
   "outputs": [],
   "source": [
    "import numpy as np\n",
    "import pandas as pd\n",
    "import matplotlib.pyplot as plt\n",
    "import seaborn as sns"
   ]
  },
  {
   "cell_type": "markdown",
   "metadata": {},
   "source": [
    "# Pandas Built-in Plotting\n",
    "\n",
    "The plot method on `Series` and `DataFrame` is just a simple wrapper around Matplotlib `plt.plot()`\n",
    "\n",
    "Using the Pandas built-in plotting is quick and easy. \n",
    "\n",
    "**import students data file**\n",
    "```\n",
    "students = pd.read_excel('./data/students.xlsx') \n",
    "```\n",
    "\n",
    "**simple plot**\n",
    "```\n",
    "students.plot()\n",
    "students.plot.bar()\n",
    "students.plot(x='AcademicYear', y='Undergraduate')\n",
    "```\n",
    "\n",
    "The built-in plot is good enough to grab an early insight about your data.\n",
    "\n",
    "When you need some theming and styling on your plots, go for Seaborn"
   ]
  },
  {
   "cell_type": "code",
   "execution_count": null,
   "metadata": {},
   "outputs": [],
   "source": [
    "students = pd.read_excel('./data/students.xlsx')"
   ]
  },
  {
   "cell_type": "code",
   "execution_count": null,
   "metadata": {},
   "outputs": [],
   "source": [
    "students"
   ]
  },
  {
   "cell_type": "code",
   "execution_count": null,
   "metadata": {},
   "outputs": [],
   "source": [
    "students.plot()"
   ]
  },
  {
   "cell_type": "markdown",
   "metadata": {},
   "source": [
    "## Pandas Built-in Plot Types\n",
    "\n",
    "Beside the default line-plot, you can choose the following plot types.\n",
    "\n",
    "* `bar` or `barh` for bar plots\n",
    "* `hist` for histogram\n",
    "* `box` for boxplot\n",
    "* `kde` or ‘density’ for density plots\n",
    "* `area` for area plots\n",
    "* `scatter` for scatter plots\n",
    "* `hexbin` for hexagonal bin plots\n",
    "* `pie` for pie plots\n",
    "\n",
    "\n",
    "Example:\n",
    "```\n",
    "students.plot(kind='bar')\n",
    "\n",
    "students.plot(kind='kde')\n",
    "\n",
    "students.plot(kind='box')\n",
    "plt.xticks(rotation=90)\n",
    "\n",
    "students.plot(x='AcademicYear', y='Undergraduate')\n",
    "```\n",
    "\n",
    "or\n",
    "```\n",
    "students.plot.bar()\n",
    "students.plot.bar(stacked=True)\n",
    "students.plot.kde()\n",
    "\n",
    "```"
   ]
  },
  {
   "cell_type": "code",
   "execution_count": null,
   "metadata": {},
   "outputs": [],
   "source": [
    "students.plot(kind='kde')"
   ]
  },
  {
   "cell_type": "code",
   "execution_count": null,
   "metadata": {},
   "outputs": [],
   "source": [
    "students.plot(kind='box')\n",
    "plt.xticks(rotation=90)"
   ]
  },
  {
   "cell_type": "code",
   "execution_count": null,
   "metadata": {
    "scrolled": true
   },
   "outputs": [],
   "source": [
    "students.plot(x='AcademicYear', y='Undergraduate')"
   ]
  },
  {
   "cell_type": "code",
   "execution_count": null,
   "metadata": {},
   "outputs": [],
   "source": [
    "students.plot.bar()"
   ]
  },
  {
   "cell_type": "code",
   "execution_count": null,
   "metadata": {},
   "outputs": [],
   "source": [
    "students.plot.bar(stacked=True)"
   ]
  },
  {
   "cell_type": "markdown",
   "metadata": {},
   "source": [
    "## More on pandas chart visualization\n",
    "\n",
    "[Panda Chart Visualization](https://pandas.pydata.org/docs/user_guide/visualization.html)"
   ]
  },
  {
   "cell_type": "markdown",
   "metadata": {},
   "source": [
    "# Using Seaborn\n",
    "\n",
    "* Seaborn is a library that uses Matplotlib underneath to plot graphs.\n",
    "* Matplotlib usually requires numpy array as parameter while seaborn is friendly to pandas dataframe.\n",
    "* Seaborn offers built-in themes/styles and therefore makes plotting easier.\n",
    "* Seaborn is not to replace Matplotlib but complete Matplotlib.  \n",
    "* Seaborn and Matplotlib are usually used together."
   ]
  },
  {
   "cell_type": "markdown",
   "metadata": {},
   "source": [
    "## Required Imports\n",
    "```\n",
    "import matplotlib.pyplot as plt\n",
    "import seaborn as sns\n",
    "```\n",
    "\n",
    "You usually also import numpy and pandas\n",
    "```\n",
    "import numpy as np\n",
    "import pandas as pd\n",
    "```"
   ]
  },
  {
   "cell_type": "code",
   "execution_count": null,
   "metadata": {},
   "outputs": [],
   "source": [
    "import numpy as np\n",
    "import pandas as pd\n",
    "import matplotlib.pyplot as plt\n",
    "import seaborn as sns"
   ]
  },
  {
   "cell_type": "markdown",
   "metadata": {},
   "source": [
    "## Built-in Seaborn Data Sets\n",
    "\n",
    "Use the following command to load the names of built-in data sets\n",
    "```\n",
    "sns.get_dataset_names()\n",
    "```\n",
    "\n",
    "To load built-in data set\n",
    "```\n",
    "iris = sns.load_dataset('iris')\n",
    "```\n",
    "\n",
    "Simple Scatter Plot\n",
    "```\n",
    "sns.scatterplot(data=iris, x='sepal_length', y='sepal_width')\n",
    "sns.scatterplot(data=iris, x='petal_length', y='petal_width')\n",
    "```"
   ]
  },
  {
   "cell_type": "code",
   "execution_count": null,
   "metadata": {},
   "outputs": [],
   "source": [
    "sns.get_dataset_names()"
   ]
  },
  {
   "cell_type": "code",
   "execution_count": null,
   "metadata": {},
   "outputs": [],
   "source": [
    "iris = sns.load_dataset('iris')\n",
    "iris"
   ]
  },
  {
   "cell_type": "code",
   "execution_count": null,
   "metadata": {
    "scrolled": true
   },
   "outputs": [],
   "source": [
    "sns.scatterplot(data=iris, x='sepal_length', y='sepal_width')"
   ]
  },
  {
   "cell_type": "code",
   "execution_count": null,
   "metadata": {},
   "outputs": [],
   "source": [
    "sns.scatterplot(data=iris, x='petal_length', y='petal_width')"
   ]
  },
  {
   "cell_type": "markdown",
   "metadata": {},
   "source": [
    "## Loading Data\n",
    "\n",
    "**Reading CSV File**\n",
    "```\n",
    "gra = pd.read_csv('./data/graduates.csv') \n",
    "```\n",
    "\n",
    "**Extracting Rows**\n",
    "```\n",
    "ug_bm_m = gra[(gra['LevelOfStudy']=='Undergraduate') \n",
    "                    & (gra['ProgrammeCategory']=='Business and Management') \n",
    "                    & (gra['Sex']=='M')]\n",
    "```\n",
    "\n",
    "**Extracting the column required for plotting**\n",
    "```\n",
    "year = ug_bm_m['AcademicYear']\n",
    "headcount = ug_bm_m['Headcount']\n",
    "```"
   ]
  },
  {
   "cell_type": "code",
   "execution_count": null,
   "metadata": {},
   "outputs": [],
   "source": [
    "gra = pd.read_csv('./data/graduates.csv') "
   ]
  },
  {
   "cell_type": "code",
   "execution_count": null,
   "metadata": {},
   "outputs": [],
   "source": [
    "ug_bm_m = gra[(gra['LevelOfStudy']=='Undergraduate') \n",
    "                    & (gra['ProgrammeCategory']=='Business and Management') \n",
    "                    & (gra['Sex']=='M')]\n",
    "\n",
    "year = ug_bm_m['AcademicYear']\n",
    "headcount = ug_bm_m['Headcount']"
   ]
  },
  {
   "cell_type": "markdown",
   "metadata": {},
   "source": [
    "## Matplotlib Style\n",
    "\n",
    "```\n",
    "plt.plot(year, headcount)\n",
    "```"
   ]
  },
  {
   "cell_type": "code",
   "execution_count": null,
   "metadata": {},
   "outputs": [],
   "source": [
    "plt.plot(year, headcount)"
   ]
  },
  {
   "cell_type": "markdown",
   "metadata": {},
   "source": [
    "## Set to Seaborn Style\n",
    "\n",
    "Call `set()` function to activate seaborn style\n",
    "\n",
    "```\n",
    "sns.set() # activate to seaborn style\n",
    "plt.plot(year, headcount) # use matplotlib plot() function for plotting\n",
    "```"
   ]
  },
  {
   "cell_type": "code",
   "execution_count": null,
   "metadata": {
    "scrolled": true
   },
   "outputs": [],
   "source": [
    "sns.set() # activate seaborn style\n",
    "plt.plot(year, headcount)"
   ]
  },
  {
   "cell_type": "markdown",
   "metadata": {},
   "source": [
    "## Seaborn and Matplotlib are Usually Used Together\n",
    "\n",
    "In the example below, we call seaborn's `set()` to activate Seaborn style. \n",
    "\n",
    "Then we use matplotlib's `xticks()` to set x tick roration degree and also call its `plot()` function for plot generation.\n",
    "\n",
    "**Example:**\n",
    "```\n",
    "sns.set() # set to seaborn style\n",
    "plt.xticks(rotation=90) # calling Matplotlib xticks rotation function\n",
    "plt.plot(year, headcount)\n",
    "\n",
    "```"
   ]
  },
  {
   "cell_type": "code",
   "execution_count": null,
   "metadata": {},
   "outputs": [],
   "source": [
    "sns.set() # set to seaborn style\n",
    "plt.xticks(rotation=90) # calling Matplotlib xticks rotation function\n",
    "plt.plot(year, headcount)"
   ]
  },
  {
   "cell_type": "markdown",
   "metadata": {},
   "source": [
    "## Style\n",
    "Seaborn splits the Matplotlib parameters into two groups\n",
    "\n",
    "* Plot styles\n",
    "* Plot scale\n",
    "\n",
    "\n",
    "Use seaborn's `set_style()` function to manipulate the styles.\n",
    "\n",
    "Below are some themes\n",
    "* `darkgrid`\n",
    "* `whitegrid`\n",
    "* `dark`\n",
    "* `white`\n",
    "* `ticks`\n",
    "\n",
    "**Example**:\n",
    "```\n",
    "sns.set_style('white')\n",
    "plt.plot(year, headcount)\n",
    "```\n",
    "\n",
    "**More on `set_style()`**:\n",
    "\n",
    "[set_style()](https://seaborn.pydata.org/generated/seaborn.set_style.html)"
   ]
  },
  {
   "cell_type": "code",
   "execution_count": null,
   "metadata": {
    "scrolled": true
   },
   "outputs": [],
   "source": [
    "sns.set_style('white')\n",
    "plt.plot(year, headcount)"
   ]
  },
  {
   "cell_type": "markdown",
   "metadata": {},
   "source": [
    "## Removing Axes Spines\n",
    "\n",
    "Call `despine()` function to remove the spine to achieve a cleaner output.\n",
    "\n",
    "```\n",
    "sns.set_style('white')\n",
    "plt.plot(year, headcount)\n",
    "sns.despine()\n",
    "```"
   ]
  },
  {
   "cell_type": "code",
   "execution_count": null,
   "metadata": {},
   "outputs": [],
   "source": [
    "sns.set_style('white')\n",
    "plt.plot(year, headcount)\n",
    "sns.despine()"
   ]
  },
  {
   "cell_type": "markdown",
   "metadata": {},
   "source": [
    "## Customizing Axes Style\n",
    "\n",
    "Call `sns.axes_style()` to show the current axes style.\n",
    "```\n",
    "sns.axes_style()\n",
    "```\n",
    "\n",
    "**To change the axes style**:\n",
    "```\n",
    "sns.set_style(\"darkgrid\", {'axes.facecolor': 'yellow', 'grid.color': '.8'})\n",
    "plt.plot(year, headcount)\n",
    "\n",
    "sns.set_style(\"darkgrid\", {'axes.facecolor': 'white', 'grid.color': '.8'})\n",
    "plt.plot(year, headcount)\n",
    "\n",
    "```"
   ]
  },
  {
   "cell_type": "code",
   "execution_count": null,
   "metadata": {
    "scrolled": true
   },
   "outputs": [],
   "source": [
    "sns.axes_style()"
   ]
  },
  {
   "cell_type": "code",
   "execution_count": null,
   "metadata": {},
   "outputs": [],
   "source": [
    "sns.set_style(\"darkgrid\", {'axes.facecolor': 'yellow', 'grid.color': '.8'})\n",
    "plt.plot(year, headcount)"
   ]
  },
  {
   "cell_type": "code",
   "execution_count": null,
   "metadata": {},
   "outputs": [],
   "source": [
    "sns.set_style(\"darkgrid\", {'axes.facecolor': 'white', 'grid.color': '.8'})\n",
    "plt.plot(year, headcount)"
   ]
  },
  {
   "cell_type": "code",
   "execution_count": null,
   "metadata": {},
   "outputs": [],
   "source": [
    "plt.plot(year, headcount)"
   ]
  },
  {
   "cell_type": "markdown",
   "metadata": {},
   "source": [
    "## Default Color Palettes\n",
    "\n",
    "**Use `color_palette()` to give colors to plots and adding more aesthetic value to it**\n",
    "\n",
    "```\n",
    "current_palette = sns.color_palette()\n",
    "sns.palplot(current_palette) # paplot() functions plot the array of colors horizontally\n",
    "plt.show()\n",
    "```"
   ]
  },
  {
   "cell_type": "code",
   "execution_count": null,
   "metadata": {},
   "outputs": [],
   "source": [
    "current_palette = sns.color_palette()\n",
    "sns.palplot(current_palette) # paplot() functions plot the array of colors horizontally\n",
    "plt.show()"
   ]
  },
  {
   "cell_type": "markdown",
   "metadata": {},
   "source": [
    "## Ready to Use Palette\n",
    "\n",
    "**Some built-in seaborn color palette**:\n",
    "* `deep`\n",
    "* `muted`\n",
    "* `bright`\n",
    "* `pastel`\n",
    "* `dark`\n",
    "* `colorblind`\n",
    "\n",
    "**Show the palette**:\n",
    "```\n",
    "sns.palplot(sns.color_palette('pastel')) \n",
    "plt.show()\n",
    "```\n",
    "\n",
    "**Show more palettes**:\n",
    "```\n",
    "sns.color_palette(\"Set1\")\n",
    "sns.color_palette(\"Set2\")\n",
    "sns.color_palette(\"Set3\")\n",
    "```"
   ]
  },
  {
   "cell_type": "code",
   "execution_count": null,
   "metadata": {
    "scrolled": true
   },
   "outputs": [],
   "source": [
    "sns.palplot(sns.color_palette('pastel')) "
   ]
  },
  {
   "cell_type": "code",
   "execution_count": null,
   "metadata": {
    "scrolled": true
   },
   "outputs": [],
   "source": [
    "sns.color_palette(\"Set1\")"
   ]
  },
  {
   "cell_type": "code",
   "execution_count": null,
   "metadata": {
    "scrolled": true
   },
   "outputs": [],
   "source": [
    "sns.color_palette(\"Set2\")"
   ]
  },
  {
   "cell_type": "code",
   "execution_count": null,
   "metadata": {
    "scrolled": true
   },
   "outputs": [],
   "source": [
    "sns.color_palette(\"Set3\")"
   ]
  },
  {
   "cell_type": "markdown",
   "metadata": {},
   "source": [
    "## Reset Style\n",
    "\n",
    "call `reset_defaults()` to reset the seaborn style.\n",
    "\n",
    "```\n",
    "sns.reset_defaults()\n",
    "```"
   ]
  },
  {
   "cell_type": "code",
   "execution_count": null,
   "metadata": {},
   "outputs": [],
   "source": [
    "sns.reset_defaults()"
   ]
  },
  {
   "cell_type": "markdown",
   "metadata": {},
   "source": [
    "## Line Plot\n",
    "\n",
    "**Examples: undergraduate business management (male students only)**\n",
    "```\n",
    "ug_bm_m\n",
    "sns.lineplot(x='AcademicYear', y='Headcount', data=ug_bm_m)\n",
    "```"
   ]
  },
  {
   "cell_type": "code",
   "execution_count": null,
   "metadata": {},
   "outputs": [],
   "source": [
    "ug_bm_m"
   ]
  },
  {
   "cell_type": "code",
   "execution_count": null,
   "metadata": {},
   "outputs": [],
   "source": [
    "sns.lineplot(x='AcademicYear', y='Headcount', data=ug_bm_m)"
   ]
  },
  {
   "cell_type": "markdown",
   "metadata": {},
   "source": [
    "**Examples: undergraduate business management**\n",
    "```\n",
    "ug_bm = gra[(gra['LevelOfStudy']=='Undergraduate') \n",
    "                    & (gra['ProgrammeCategory']=='Business and Management')]\n",
    "ug_bm\n",
    "\n",
    "\n",
    "plt.xticks(rotation=90)\n",
    "sns.lineplot(x='AcademicYear', \n",
    "             y='Headcount', \n",
    "             data=ug_bm, \n",
    "             hue='Sex', \n",
    "             marker='o')\n",
    "```"
   ]
  },
  {
   "cell_type": "code",
   "execution_count": null,
   "metadata": {},
   "outputs": [],
   "source": [
    "ug_bm = gra[(gra['LevelOfStudy']=='Undergraduate') \n",
    "                    & (gra['ProgrammeCategory']=='Business and Management')]\n",
    "ug_bm"
   ]
  },
  {
   "cell_type": "code",
   "execution_count": null,
   "metadata": {},
   "outputs": [],
   "source": [
    "plt.xticks(rotation=90)\n",
    "sns.lineplot(x='AcademicYear', \n",
    "             y='Headcount', \n",
    "             data=ug_bm, \n",
    "             hue='Sex', \n",
    "             marker='o')"
   ]
  },
  {
   "cell_type": "markdown",
   "metadata": {},
   "source": [
    "**Examples: undergraduate female student**\n",
    "```\n",
    "ug_f = gra[(gra['LevelOfStudy']=='Undergraduate') \n",
    "                    & (gra['Sex']=='F')]\n",
    "ug_f\n",
    "\n",
    "plt.xticks(rotation=90)\n",
    "sns.lineplot(x='AcademicYear', y='Headcount', data=ug_f, hue='ProgrammeCategory')\n",
    "plt.legend(loc='upper left')\n",
    "```"
   ]
  },
  {
   "cell_type": "code",
   "execution_count": null,
   "metadata": {},
   "outputs": [],
   "source": [
    "ug_f = gra[(gra['LevelOfStudy']=='Undergraduate') \n",
    "                    & (gra['Sex']=='F')]\n",
    "ug_f"
   ]
  },
  {
   "cell_type": "code",
   "execution_count": null,
   "metadata": {},
   "outputs": [],
   "source": [
    "plt.xticks(rotation=90)\n",
    "sns.lineplot(x='AcademicYear', y='Headcount', data=ug_f, hue='ProgrammeCategory')\n",
    "plt.legend(loc='upper left')"
   ]
  },
  {
   "cell_type": "markdown",
   "metadata": {},
   "source": [
    "## Scatter Plot\n",
    "\n",
    "```\n",
    "plt.xticks(rotation=90)\n",
    "sns.scatterplot(x='AcademicYear', \n",
    "                y='Headcount', \n",
    "                data=ug_bm, \n",
    "                hue='Sex')\n",
    "```"
   ]
  },
  {
   "cell_type": "code",
   "execution_count": null,
   "metadata": {},
   "outputs": [],
   "source": [
    "plt.xticks(rotation=90)\n",
    "sns.scatterplot(x='AcademicYear', \n",
    "                y='Headcount', \n",
    "                data=ug_bm, \n",
    "                hue='Sex')"
   ]
  },
  {
   "cell_type": "markdown",
   "metadata": {},
   "source": [
    "## Bar Plot\n",
    "\n",
    "```\n",
    "sns.barplot(x='AcademicYear', \n",
    "            y='Headcount', \n",
    "            data=ug_bm_m, \n",
    "            palette=sns.color_palette(\"Set1\")\n",
    "           )\n",
    "```\n",
    "\n",
    "```\n",
    "sns.color_palette(\"Set1\")\n",
    "```\n",
    "\n",
    "```\n",
    "sns.barplot(x='AcademicYear', \n",
    "            y='Headcount', \n",
    "            data=ug_bm, \n",
    "            hue='Sex', \n",
    "            palette=sns.color_palette(\"Set1\")\n",
    "           )\n",
    "```\n"
   ]
  },
  {
   "cell_type": "code",
   "execution_count": null,
   "metadata": {},
   "outputs": [],
   "source": [
    "sns.barplot(x='AcademicYear', \n",
    "            y='Headcount', \n",
    "            data=ug_bm_m, \n",
    "            palette=sns.color_palette(\"Set1\")\n",
    "           )"
   ]
  },
  {
   "cell_type": "code",
   "execution_count": null,
   "metadata": {},
   "outputs": [],
   "source": [
    "sns.color_palette(\"Set1\")"
   ]
  },
  {
   "cell_type": "code",
   "execution_count": null,
   "metadata": {},
   "outputs": [],
   "source": [
    "sns.barplot(x='AcademicYear', \n",
    "            y='Headcount', \n",
    "            data=ug_bm, \n",
    "            hue='Sex', \n",
    "            palette=sns.color_palette(\"Set1\")\n",
    "           )"
   ]
  },
  {
   "cell_type": "markdown",
   "metadata": {},
   "source": [
    "## Pie Chart\n",
    "\n",
    "```\n",
    "ug_m_2122 = gra[(gra['LevelOfStudy']=='Undergraduate') \n",
    "                    & (gra['Sex']=='M')\n",
    "                    & (gra['AcademicYear']=='2020/21')]\n",
    "ug_m_2122\n",
    "\n",
    "colors = sns.color_palette('pastel')\n",
    "plt.pie(ug_m_2122['Headcount'], labels=ug_m_2122['ProgrammeCategory'], colors=colors)\n",
    "plt.show()\n",
    "\n",
    "colors = sns.color_palette('dark')\n",
    "plt.pie(ug_m_2122['Headcount'], labels=ug_m_2122['ProgrammeCategory'], colors=colors)\n",
    "plt.show()\n",
    "```"
   ]
  },
  {
   "cell_type": "code",
   "execution_count": null,
   "metadata": {},
   "outputs": [],
   "source": [
    "ug_m_2122 = gra[(gra['LevelOfStudy']=='Undergraduate') \n",
    "                    & (gra['Sex']=='M')\n",
    "                    & (gra['AcademicYear']=='2020/21')]\n",
    "ug_m_2122"
   ]
  },
  {
   "cell_type": "code",
   "execution_count": null,
   "metadata": {
    "scrolled": true
   },
   "outputs": [],
   "source": [
    "colors = sns.color_palette('pastel')\n",
    "plt.pie(ug_m_2122['Headcount'], labels=ug_m_2122['ProgrammeCategory'], colors=colors)\n",
    "plt.show()"
   ]
  },
  {
   "cell_type": "code",
   "execution_count": null,
   "metadata": {},
   "outputs": [],
   "source": [
    "colors = sns.color_palette('dark')\n",
    "plt.pie(ug_m_2122['Headcount'], labels=ug_m_2122['ProgrammeCategory'], colors=colors)\n",
    "plt.show()"
   ]
  },
  {
   "cell_type": "markdown",
   "metadata": {},
   "source": [
    "## Boxplots\n",
    "\n",
    "```\n",
    "ug_f\n",
    "\n",
    "sns.catplot(x=\"ProgrammeCategory\", y=\"Headcount\", kind=\"box\", data=ug_f)\n",
    "plt.xticks(rotation=90)\n",
    "\n",
    "ug = gra[gra['LevelOfStudy']=='Undergraduate']\n",
    "ug\n",
    "\n",
    "sns.catplot(x=\"ProgrammeCategory\", y=\"Headcount\", hue='Sex', kind=\"box\", data=ug)\n",
    "plt.xticks(rotation=90)\n",
    "```"
   ]
  },
  {
   "cell_type": "code",
   "execution_count": null,
   "metadata": {},
   "outputs": [],
   "source": [
    "ug_f"
   ]
  },
  {
   "cell_type": "code",
   "execution_count": null,
   "metadata": {},
   "outputs": [],
   "source": [
    "sns.catplot(x=\"ProgrammeCategory\", y=\"Headcount\", kind=\"box\", data=ug_f)\n",
    "plt.xticks(rotation=90)"
   ]
  },
  {
   "cell_type": "code",
   "execution_count": null,
   "metadata": {},
   "outputs": [],
   "source": [
    "ug = gra[gra['LevelOfStudy']=='Undergraduate']\n",
    "ug"
   ]
  },
  {
   "cell_type": "code",
   "execution_count": null,
   "metadata": {},
   "outputs": [],
   "source": [
    "sns.catplot(x=\"ProgrammeCategory\", y=\"Headcount\", hue='Sex', kind=\"box\", data=ug)\n",
    "plt.xticks(rotation=90)"
   ]
  },
  {
   "cell_type": "markdown",
   "metadata": {},
   "source": [
    "## Build Your Own Palette\n",
    "\n",
    "**Use `color_palette()` function to build you own palette**\n",
    "\n",
    "```\n",
    "sns.color_palette(n_colors=4) # specify number of colors to use\n",
    "sns.palplot(sns.color_palette(\"Reds\")) # specify a base color. Don't forget the ending 's'\n",
    "sns.color_palette(\"light:purple\") # light theme for a chosen color\n",
    "sns.color_palette(\"light:#5A9\") # light theme for a chosen color\n",
    "sns.color_palette(\"dark:#f00\") # dark theme for a chosen color\n",
    "sns.color_palette(\"blend:#f00,#00F\") # blending from one color to another color\n",
    "```\n",
    "\n",
    "**To reset style to default**\n",
    "```\n",
    "sns.reset_defaults()\n",
    "\n",
    "```\n",
    "\n",
    "**More on `color_palette()`**:\n",
    "\n",
    "[seaborn.color_palette](https://seaborn.pydata.org/generated/seaborn.color_palette.html#seaborn.color_palette)"
   ]
  },
  {
   "cell_type": "markdown",
   "metadata": {},
   "source": [
    "### specify `n_colors`\n",
    "\n",
    "```\n",
    "sns.color_palette(n_colors=4)\n",
    "plt.pie(ug_m_2122['Headcount'], \n",
    "        labels=ug_m_2122['ProgrammeCategory'], \n",
    "        colors=sns.color_palette(n_colors=4))\n",
    "plt.show()\n",
    "```"
   ]
  },
  {
   "cell_type": "code",
   "execution_count": null,
   "metadata": {
    "scrolled": true
   },
   "outputs": [],
   "source": [
    "sns.color_palette(n_colors=4)\n",
    "plt.pie(ug_m_2122['Headcount'], \n",
    "        labels=ug_m_2122['ProgrammeCategory'], \n",
    "        colors=sns.color_palette(n_colors=4))\n",
    "plt.show()"
   ]
  },
  {
   "cell_type": "markdown",
   "metadata": {},
   "source": [
    "### specify fading color series\n",
    "\n",
    "```\n",
    "sns.color_palette(\"Greens\")\n",
    "plt.pie(ug_m_2122['Headcount'], \n",
    "        labels=ug_m_2122['ProgrammeCategory'], \n",
    "        colors=sns.color_palette(\"Greens\"))\n",
    "plt.show()\n",
    "```"
   ]
  },
  {
   "cell_type": "code",
   "execution_count": null,
   "metadata": {
    "scrolled": false
   },
   "outputs": [],
   "source": [
    "sns.color_palette(\"Greens\")\n",
    "plt.pie(ug_m_2122['Headcount'], \n",
    "        labels=ug_m_2122['ProgrammeCategory'], \n",
    "        colors=sns.color_palette(\"Greens\"))\n",
    "plt.show()"
   ]
  },
  {
   "cell_type": "markdown",
   "metadata": {},
   "source": [
    "### specify light color series using color name\n",
    "\n",
    "```\n",
    "sns.color_palette(\"light:purple\")\n",
    "plt.pie(ug_m_2122['Headcount'], \n",
    "        labels=ug_m_2122['ProgrammeCategory'], \n",
    "        colors=sns.color_palette(\"light:purple\"))\n",
    "plt.show()\n",
    "```"
   ]
  },
  {
   "cell_type": "code",
   "execution_count": null,
   "metadata": {},
   "outputs": [],
   "source": [
    "sns.color_palette(\"light:purple\")\n",
    "plt.pie(ug_m_2122['Headcount'], \n",
    "        labels=ug_m_2122['ProgrammeCategory'], \n",
    "        colors=sns.color_palette(\"light:purple\"))\n",
    "plt.show()"
   ]
  },
  {
   "cell_type": "markdown",
   "metadata": {},
   "source": [
    "### specify light color series using color code\n",
    "\n",
    "```\n",
    "sns.color_palette(\"light:#5A9\")\n",
    "plt.pie(ug_m_2122['Headcount'], \n",
    "        labels=ug_m_2122['ProgrammeCategory'], \n",
    "        colors=sns.color_palette(\"light:#5A9\"))\n",
    "plt.show()\n",
    "```"
   ]
  },
  {
   "cell_type": "code",
   "execution_count": null,
   "metadata": {},
   "outputs": [],
   "source": [
    "sns.color_palette(\"light:#5A9\")\n",
    "plt.pie(ug_m_2122['Headcount'], \n",
    "        labels=ug_m_2122['ProgrammeCategory'], \n",
    "        colors=sns.color_palette(\"light:#5A9\"))\n",
    "plt.show()"
   ]
  },
  {
   "cell_type": "markdown",
   "metadata": {},
   "source": [
    "### specify dark color series\n",
    "\n",
    "```\n",
    "sns.color_palette(\"dark:#f00\")\n",
    "plt.pie(ug_m_2122['Headcount'], \n",
    "        labels=ug_m_2122['ProgrammeCategory'], \n",
    "        colors=sns.color_palette(\"dark:#f00\"))\n",
    "plt.show()\n",
    "```"
   ]
  },
  {
   "cell_type": "code",
   "execution_count": null,
   "metadata": {
    "scrolled": false
   },
   "outputs": [],
   "source": [
    "sns.color_palette(\"dark:#f00\")\n",
    "plt.pie(ug_m_2122['Headcount'], \n",
    "        labels=ug_m_2122['ProgrammeCategory'], \n",
    "        colors=sns.color_palette(\"dark:#f00\"))\n",
    "plt.show()"
   ]
  },
  {
   "cell_type": "markdown",
   "metadata": {},
   "source": [
    "### specify blend color series\n",
    "\n",
    "```\n",
    "sns.color_palette(\"blend:#f00,#00F\")\n",
    "plt.pie(ug_m_2122['Headcount'], \n",
    "        labels=ug_m_2122['ProgrammeCategory'], \n",
    "        colors=sns.color_palette(\"blend:#f00,#00F\"))\n",
    "plt.show()\n",
    "```"
   ]
  },
  {
   "cell_type": "code",
   "execution_count": null,
   "metadata": {
    "scrolled": false
   },
   "outputs": [],
   "source": [
    "sns.color_palette(\"blend:#f00,#00F\")\n",
    "plt.pie(ug_m_2122['Headcount'], \n",
    "        labels=ug_m_2122['ProgrammeCategory'], \n",
    "        colors=sns.color_palette(\"blend:#f00,#00F\"))\n",
    "plt.show()"
   ]
  },
  {
   "cell_type": "markdown",
   "metadata": {},
   "source": [
    "## Grouping and Groups' Aggregation\n",
    "\n",
    "```\n",
    "gra\n",
    "\n",
    "grouped_by_level = gra.groupby(['LevelOfStudy', 'AcademicYear'])\n",
    "\n",
    "type(grouped_by_level)\n",
    "\n",
    "grouped_by_level.agg(np.sum)\n",
    "\n",
    "plt.xticks(rotation=90)\n",
    "sns.lineplot(x='AcademicYear', y='Headcount', \n",
    "             data=grouped_by_level.agg(np.sum), \n",
    "             hue='LevelOfStudy')\n",
    "sns.set_style('whitegrid')\n",
    "```\n"
   ]
  },
  {
   "cell_type": "code",
   "execution_count": null,
   "metadata": {},
   "outputs": [],
   "source": [
    "gra"
   ]
  },
  {
   "cell_type": "code",
   "execution_count": null,
   "metadata": {},
   "outputs": [],
   "source": [
    "grouped_by_level = gra.groupby(['LevelOfStudy', 'AcademicYear'])"
   ]
  },
  {
   "cell_type": "code",
   "execution_count": null,
   "metadata": {},
   "outputs": [],
   "source": [
    "type(grouped_by_level)"
   ]
  },
  {
   "cell_type": "code",
   "execution_count": null,
   "metadata": {},
   "outputs": [],
   "source": [
    "grouped_by_level.agg(np.sum)"
   ]
  },
  {
   "cell_type": "code",
   "execution_count": null,
   "metadata": {},
   "outputs": [],
   "source": [
    "plt.xticks(rotation=90)\n",
    "sns.lineplot(x='AcademicYear', y='Headcount', \n",
    "             data=grouped_by_level.agg(np.sum), \n",
    "             hue='LevelOfStudy')\n",
    "sns.set_style('whitegrid')"
   ]
  },
  {
   "cell_type": "markdown",
   "metadata": {},
   "source": [
    "## Seaborn Example Gallery\n",
    "\n",
    "Check the webpage below for seaborn example gallery.\n",
    "\n",
    "[Seaborn Example Gallery](https://seaborn.pydata.org/examples/index.html)"
   ]
  },
  {
   "cell_type": "markdown",
   "metadata": {},
   "source": [
    "# JSON Live Data Loading& Visualization\n",
    "\n"
   ]
  },
  {
   "cell_type": "markdown",
   "metadata": {},
   "source": [
    "\n",
    "## HTTP `requests` \n",
    "\n",
    "`requests` is the python addon to get data by HTTP\n",
    "\n",
    "**To import**\n",
    "\n",
    "```\n",
    "import requests\n",
    "```\n",
    "\n",
    "**Provide a web page url (link) that you want to fetch data from**\n",
    "```\n",
    "hk_w_url = 'https://data.weather.gov.hk/weatherAPI/opendata/weather.php?dataType=fnd&lang=en'\n",
    "```\n",
    "\n",
    "**Issue HTTP GET requests and save server's response as variable `r`**\n",
    "r\n",
    "```\n",
    "r = requests.get(hk_w_url)\n",
    "```\n",
    "\n",
    "**Exploring the response from server**\n",
    "\n",
    "* `r.status_code` # returns 200 if everything has gone fine \n",
    "* `r.headers` # descriptive headers about server's response\n",
    "* `r.headers['content-type']` # returns 'application/json; charset=utf-8'\n",
    "* `r.encoding` # returns ''utf-8''\n",
    "* `r.text` # retrieve server's response in plain text format. type of str\n",
    "* `r.json()` # retrieve server's response in json format, type of dict\n"
   ]
  },
  {
   "cell_type": "code",
   "execution_count": null,
   "metadata": {},
   "outputs": [],
   "source": [
    "import requests"
   ]
  },
  {
   "cell_type": "code",
   "execution_count": null,
   "metadata": {},
   "outputs": [],
   "source": [
    "hk_w_url = 'https://data.weather.gov.hk/weatherAPI/opendata/weather.php?dataType=fnd&lang=en'"
   ]
  },
  {
   "cell_type": "code",
   "execution_count": null,
   "metadata": {},
   "outputs": [],
   "source": [
    "r = requests.get(hk_w_url)"
   ]
  },
  {
   "cell_type": "code",
   "execution_count": null,
   "metadata": {},
   "outputs": [],
   "source": [
    "r.status_code"
   ]
  },
  {
   "cell_type": "code",
   "execution_count": null,
   "metadata": {},
   "outputs": [],
   "source": [
    "r.headers"
   ]
  },
  {
   "cell_type": "code",
   "execution_count": null,
   "metadata": {},
   "outputs": [],
   "source": [
    "r.headers['content-type']"
   ]
  },
  {
   "cell_type": "code",
   "execution_count": null,
   "metadata": {},
   "outputs": [],
   "source": [
    "r.encoding"
   ]
  },
  {
   "cell_type": "code",
   "execution_count": null,
   "metadata": {},
   "outputs": [],
   "source": [
    "type(r.text)"
   ]
  },
  {
   "cell_type": "code",
   "execution_count": null,
   "metadata": {},
   "outputs": [],
   "source": [
    "type(r.json())"
   ]
  },
  {
   "cell_type": "markdown",
   "metadata": {},
   "source": [
    "## Retrieving JSON Data\n",
    "\n",
    "**How to retrieve JSON child element**\n",
    "```\n",
    "r.json()\n",
    "type(r.json() # json data as stored as Python dictionary\n",
    "r.json()['generalSituation']\n",
    "r.json()['weatherForecast']\n",
    "r.json()['weatherForecast'][0]\n",
    "r.json()['weatherForecast'][0]['week']\n",
    "r.json()['weatherForecast'][0]['forecastWeather']\n",
    "```\n",
    "\n",
    "\n",
    "**More complex attributes retrieving**\n",
    "```\n",
    "print(r.json()['weatherForecast'][0]['week'],\n",
    "      ' | ',\n",
    "      r.json()['weatherForecast'][0]['forecastMintemp']['value'],\n",
    "      ('°' + r.json()['weatherForecast'][0]['forecastMintemp']['unit']),\n",
    "      ' | ',\n",
    "      r.json()['weatherForecast'][0]['forecastWeather']\n",
    "     )\n",
    "```"
   ]
  },
  {
   "cell_type": "code",
   "execution_count": null,
   "metadata": {},
   "outputs": [],
   "source": [
    "r.json()"
   ]
  },
  {
   "cell_type": "code",
   "execution_count": null,
   "metadata": {},
   "outputs": [],
   "source": [
    "type(r.json())"
   ]
  },
  {
   "cell_type": "code",
   "execution_count": null,
   "metadata": {},
   "outputs": [],
   "source": [
    "r.json()['generalSituation']"
   ]
  },
  {
   "cell_type": "code",
   "execution_count": null,
   "metadata": {},
   "outputs": [],
   "source": [
    "r.json()['weatherForecast']"
   ]
  },
  {
   "cell_type": "code",
   "execution_count": null,
   "metadata": {},
   "outputs": [],
   "source": [
    "r.json()['weatherForecast'][0]"
   ]
  },
  {
   "cell_type": "code",
   "execution_count": null,
   "metadata": {},
   "outputs": [],
   "source": [
    "r.json()['weatherForecast'][0]['week']"
   ]
  },
  {
   "cell_type": "code",
   "execution_count": null,
   "metadata": {},
   "outputs": [],
   "source": [
    "r.json()['weatherForecast'][0]['forecastWeather']"
   ]
  },
  {
   "cell_type": "code",
   "execution_count": null,
   "metadata": {},
   "outputs": [],
   "source": [
    "print(r.json()['weatherForecast'][0]['week'],\n",
    "      ' | ',\n",
    "      r.json()['weatherForecast'][0]['forecastMintemp']['value'],\n",
    "      ('°' + r.json()['weatherForecast'][0]['forecastMintemp']['unit']),\n",
    "      ' | ',\n",
    "      r.json()['weatherForecast'][0]['forecastWeather']\n",
    "     )"
   ]
  },
  {
   "cell_type": "markdown",
   "metadata": {},
   "source": [
    "## Ploting Weather Forecast\n",
    "\n",
    "**Retrieving weatherForecast element**\n",
    "```\n",
    "weather = r.json()['weatherForecast']\n",
    "weather\n",
    "type(weather)\n",
    "```\n",
    "\n",
    "**Retrieve weatherForecast attribute and convert to DataFrame as flatten attributes**\n",
    "```\n",
    "weather_normalized = pd.json_normalize(weather)\n",
    "type(weather_normalized)\n",
    "weather_normalized.info()\n",
    "sns.lineplot(x='forecastDate', y='forecastMaxtemp.value', data=weather_normalized)\n",
    "```\n",
    "\n",
    "**Multiple Plots**\n",
    "```\n",
    "sns.set_style('darkgrid')\n",
    "plt.xticks(rotation=90)\n",
    "sns.lineplot(x='forecastDate', \n",
    "             y='forecastMaxtemp.value', \n",
    "             data=weather_normalized, \n",
    "             label='Max Temp', \n",
    "             marker='o')\n",
    "\n",
    "sns.lineplot(x='forecastDate', \n",
    "             y='forecastMintemp.value', \n",
    "             data=weather_normalized, \n",
    "             label='Min Temp', \n",
    "             marker='o')\n",
    "```"
   ]
  },
  {
   "cell_type": "code",
   "execution_count": null,
   "metadata": {},
   "outputs": [],
   "source": [
    "# Retrieve weatherForecast attribute and convert to DataFrame\n",
    "weather = r.json()['weatherForecast']"
   ]
  },
  {
   "cell_type": "code",
   "execution_count": null,
   "metadata": {},
   "outputs": [],
   "source": [
    "weather"
   ]
  },
  {
   "cell_type": "code",
   "execution_count": null,
   "metadata": {},
   "outputs": [],
   "source": [
    "type(weather)"
   ]
  },
  {
   "cell_type": "code",
   "execution_count": 2,
   "metadata": {},
   "outputs": [
    {
     "ename": "NameError",
     "evalue": "name 'pd' is not defined",
     "output_type": "error",
     "traceback": [
      "\u001b[0;31m---------------------------------------------------------------------------\u001b[0m",
      "\u001b[0;31mNameError\u001b[0m                                 Traceback (most recent call last)",
      "Input \u001b[0;32mIn [2]\u001b[0m, in \u001b[0;36m<cell line: 1>\u001b[0;34m()\u001b[0m\n\u001b[0;32m----> 1\u001b[0m weather_normalized \u001b[38;5;241m=\u001b[39m \u001b[43mpd\u001b[49m\u001b[38;5;241m.\u001b[39mjson_normalize(weather)\n",
      "\u001b[0;31mNameError\u001b[0m: name 'pd' is not defined"
     ]
    }
   ],
   "source": [
    "weather_normalized = pd.json_normalize(weather)"
   ]
  },
  {
   "cell_type": "code",
   "execution_count": null,
   "metadata": {},
   "outputs": [],
   "source": [
    "type(weather_normalized)"
   ]
  },
  {
   "cell_type": "code",
   "execution_count": null,
   "metadata": {},
   "outputs": [],
   "source": [
    "weather_normalized.info()"
   ]
  },
  {
   "cell_type": "code",
   "execution_count": null,
   "metadata": {},
   "outputs": [],
   "source": [
    "sns.lineplot(x='forecastDate', y='forecastMaxtemp.value', data=weather_normalized)"
   ]
  },
  {
   "cell_type": "code",
   "execution_count": null,
   "metadata": {},
   "outputs": [],
   "source": [
    "sns.set_style('darkgrid')\n",
    "plt.xticks(rotation=90)\n",
    "sns.lineplot(x='forecastDate', \n",
    "             y='forecastMaxtemp.value', \n",
    "             data=weather_normalized, \n",
    "             label='Max Temp', \n",
    "             marker='o')\n",
    "\n",
    "sns.lineplot(x='forecastDate', \n",
    "             y='forecastMintemp.value', \n",
    "             data=weather_normalized, \n",
    "             label='Min Temp', \n",
    "             marker='o')"
   ]
  },
  {
   "cell_type": "markdown",
   "metadata": {},
   "source": [
    "# EXERCISE: Interbank Liquidity\n",
    "\n",
    "Follow the code logics and syntax from previous weather example. Retrieve the live inter-bank liquidity and plot the `hibor_fixing_1m` & `hibor_overnigh` line-plot\n",
    "\n",
    "**The link for retrieving `daily figures interbank liquidity`**\n",
    "```\n",
    "inter_liq_url = \"https://api.hkma.gov.hk/public/market-data-and-statistics/daily-monetary-statistics/daily-figures-interbank-liquidity\"\n",
    "```\n",
    "\n",
    "**HTTP Request**\n",
    "```\n",
    "r = requests.get(inter_liq_url)\n",
    "type(r)\n",
    "inter_liq_json = r.json()\n",
    "type(inter_liq_json)\n",
    "```"
   ]
  },
  {
   "cell_type": "code",
   "execution_count": null,
   "metadata": {},
   "outputs": [],
   "source": [
    "inter_liq_url = \"https://api.hkma.gov.hk/public/market-data-and-statistics/daily-monetary-statistics/daily-figures-interbank-liquidity\""
   ]
  },
  {
   "cell_type": "code",
   "execution_count": null,
   "metadata": {},
   "outputs": [],
   "source": [
    "r = requests.get(inter_liq_url)"
   ]
  },
  {
   "cell_type": "code",
   "execution_count": null,
   "metadata": {},
   "outputs": [],
   "source": [
    "type(r)"
   ]
  },
  {
   "cell_type": "code",
   "execution_count": null,
   "metadata": {},
   "outputs": [],
   "source": [
    "inter_liq_json = r.json()"
   ]
  },
  {
   "cell_type": "code",
   "execution_count": null,
   "metadata": {},
   "outputs": [],
   "source": [
    "type(inter_liq_json)"
   ]
  },
  {
   "cell_type": "code",
   "execution_count": null,
   "metadata": {},
   "outputs": [],
   "source": [
    "inter_liq_json[\"result\"][\"records\"]"
   ]
  },
  {
   "cell_type": "code",
   "execution_count": null,
   "metadata": {},
   "outputs": [],
   "source": [
    "records = inter_liq_json[\"result\"][\"records\"]"
   ]
  },
  {
   "cell_type": "code",
   "execution_count": null,
   "metadata": {},
   "outputs": [],
   "source": [
    "type(records)"
   ]
  },
  {
   "cell_type": "code",
   "execution_count": null,
   "metadata": {},
   "outputs": [],
   "source": [
    "inter_liq_df = pd.DataFrame(inter_liq_json[\"result\"][\"records\"])"
   ]
  },
  {
   "cell_type": "code",
   "execution_count": null,
   "metadata": {},
   "outputs": [],
   "source": [
    "type(inter_liq_df)"
   ]
  },
  {
   "cell_type": "code",
   "execution_count": null,
   "metadata": {},
   "outputs": [],
   "source": [
    "inter_liq_df"
   ]
  },
  {
   "cell_type": "code",
   "execution_count": null,
   "metadata": {},
   "outputs": [],
   "source": [
    "inter_liq_df.info()"
   ]
  },
  {
   "cell_type": "markdown",
   "metadata": {},
   "source": [
    "## Plotting\n",
    "\n",
    "```\n",
    "inter_liq_df.plot() # pandas built-in plots. use all the number column for plotting. Not a good plot.\n",
    "\n",
    "inter_liq_df.plot(y='hibor_fixing_1m') # pandas built-in plots\n",
    "\n",
    "inter_liq_df.info()\n",
    "\n",
    "plt.xticks(rotation=90)\n",
    "plt.xticks([]) # removes xticks\n",
    "sns.lineplot(x='end_of_date', y='hibor_fixing_1m', data=inter_liq_df)\n",
    "\n",
    "plt.xticks(rotation=90)\n",
    "plt.xticks([]) # removes xticks\n",
    "plt.yticks([]) # removes yticks\n",
    "sns.lineplot(x='end_of_date', y='hibor_fixing_1m', data=inter_liq_df, label=\"Hibor One Month\")\n",
    "sns.lineplot(x='end_of_date', y='hibor_overnight', data=inter_liq_df, label=\"Hibor Overnight\")\n",
    "```"
   ]
  },
  {
   "cell_type": "code",
   "execution_count": null,
   "metadata": {},
   "outputs": [],
   "source": [
    "inter_liq_df.plot() # pandas built-in plots. use all the number column for plotting. Not a good plot."
   ]
  },
  {
   "cell_type": "code",
   "execution_count": null,
   "metadata": {},
   "outputs": [],
   "source": [
    "inter_liq_df.plot(y='hibor_fixing_1m') # pandas built-in plots"
   ]
  },
  {
   "cell_type": "code",
   "execution_count": null,
   "metadata": {},
   "outputs": [],
   "source": [
    "inter_liq_df.info()"
   ]
  },
  {
   "cell_type": "code",
   "execution_count": null,
   "metadata": {},
   "outputs": [],
   "source": [
    "plt.xticks(rotation=90)\n",
    "plt.xticks([]) # removes xticks\n",
    "sns.lineplot(x='end_of_date', y='hibor_fixing_1m', data=inter_liq_df)"
   ]
  },
  {
   "cell_type": "code",
   "execution_count": null,
   "metadata": {},
   "outputs": [],
   "source": [
    "plt.xticks(rotation=90)\n",
    "plt.xticks([]) # removes xticks\n",
    "plt.yticks([]) # removes yticks\n",
    "sns.lineplot(x='end_of_date', y='hibor_fixing_1m', data=inter_liq_df, label=\"Hibor One Month\")\n",
    "sns.lineplot(x='end_of_date', y='hibor_overnight', data=inter_liq_df, label=\"Hibor Overnight\")"
   ]
  },
  {
   "cell_type": "markdown",
   "metadata": {},
   "source": [
    "# Web Scraping Introduction\n",
    "\n",
    "When JSON data source is not an option, you can write your own Python codes to grab data from the web.\n",
    "\n",
    "**However, do pay attention that**\n",
    "- Reading HTML is not always easy\n",
    "- Many website implements data protections to prevent data grabbing\n",
    "- Modern web application generates web content on the fly when the page is loading.  The HTML page is empty at the begining of loading while progressively loading data by JavaScript"
   ]
  },
  {
   "cell_type": "markdown",
   "metadata": {},
   "source": [
    "## Use Pandas `read_html()` function\n",
    "\n",
    "You can use pandas's `read_html()` to read a url with HTML table.  \n",
    "It requires a web page link.\n",
    "\n",
    "**Declare url and read url**\n",
    "```\n",
    "sp500_url = 'http://www.multpl.com/s-p-500-dividend-yield/table?f=m'\n",
    "raw_html_tbl = pd.read_html(sp500_url)\n",
    "```\n",
    "\n",
    "**Retrieve the elements**\n",
    "```\n",
    "type(raw_html_tbl) # returns 'list'\n",
    "len(raw_html_tbl) # returns 1\n",
    "raw_html_tbl[0] # get the first table\n",
    "type(raw_html_tbl[0]) # pandas DataFrame\n",
    "```"
   ]
  },
  {
   "cell_type": "code",
   "execution_count": null,
   "metadata": {},
   "outputs": [],
   "source": [
    "sp500_url = 'http://www.multpl.com/s-p-500-dividend-yield/table?f=m'\n",
    "raw_html_tbl = pd.read_html(sp500_url)"
   ]
  },
  {
   "cell_type": "code",
   "execution_count": null,
   "metadata": {},
   "outputs": [],
   "source": [
    "type(raw_html_tbl)"
   ]
  },
  {
   "cell_type": "code",
   "execution_count": null,
   "metadata": {},
   "outputs": [],
   "source": [
    "len(raw_html_tbl)"
   ]
  },
  {
   "cell_type": "code",
   "execution_count": null,
   "metadata": {},
   "outputs": [],
   "source": [
    "raw_html_tbl[0]"
   ]
  },
  {
   "cell_type": "code",
   "execution_count": null,
   "metadata": {},
   "outputs": [],
   "source": [
    "type(raw_html_tbl[0])"
   ]
  },
  {
   "cell_type": "markdown",
   "metadata": {},
   "source": [
    "## `read_html()` doesn't always work\n",
    "\n",
    "- There are too many broken HTML codes\n",
    "- And some HTML are generated by JavaScript on the fly\n",
    "\n",
    "The following scraping won't work\n",
    "\n",
    "```\n",
    "hkej_url = 'https://stock360.hkej.com/marketWatch/Top20'\n",
    "raw_html_tbl2 = pd.read_html(hkej_url)\n",
    "raw_html_tbl2\n",
    "```"
   ]
  },
  {
   "cell_type": "code",
   "execution_count": null,
   "metadata": {},
   "outputs": [],
   "source": [
    "hkej_url = 'https://stock360.hkej.com/marketWatch/Top20'\n",
    "raw_html_tbl2 = pd.read_html(hkej_url)\n",
    "raw_html_tbl2"
   ]
  },
  {
   "cell_type": "markdown",
   "metadata": {},
   "source": [
    "## Another Example or web scraping using Pandas\n",
    "\n",
    "Retrieving currency table from Yahoo Finance\n",
    "\n",
    "```\n",
    "yahoo_url = 'https://hk.finance.yahoo.com/currencies'\n",
    "raw_html_tbl3 = pd.read_html(yahoo_url)\n",
    "raw_html_tbl3[0]\n",
    "```"
   ]
  },
  {
   "cell_type": "code",
   "execution_count": null,
   "metadata": {},
   "outputs": [],
   "source": [
    "yahoo_url = 'https://hk.finance.yahoo.com/currencies'\n",
    "raw_html_tbl3 = pd.read_html(yahoo_url)\n",
    "raw_html_tbl3[0]"
   ]
  },
  {
   "cell_type": "markdown",
   "metadata": {},
   "source": [
    "# BeautifulSoup\n",
    "\n",
    "You can extract HTML element by using BeautifulSoup.  \n",
    "\n",
    "BeautifulSoup is a popular web scraping tools.  \n",
    "\n",
    "Besides, Scrapy and Selenium are also widely used."
   ]
  },
  {
   "cell_type": "markdown",
   "metadata": {},
   "source": [
    "## Import\n",
    "Import `BeautifulSoup` before you use it\n",
    "\n",
    "```\n",
    "from bs4 import BeautifulSoup\n",
    "```"
   ]
  },
  {
   "cell_type": "code",
   "execution_count": null,
   "metadata": {},
   "outputs": [],
   "source": [
    "from bs4 import BeautifulSoup"
   ]
  },
  {
   "cell_type": "markdown",
   "metadata": {},
   "source": [
    "## Work with Dummy HTML\n",
    "\n",
    "**Declare the following HTML documents**\n",
    "\n",
    "```\n",
    "html_doc = \"\"\"\n",
    "<html><head><title>The Dormouse's story</title></head>\n",
    "<body>\n",
    "<b>Sample HTML Contents</b>\n",
    "<p class=\"title purple\"><b>The Dormouse's story</b></p>\n",
    "\n",
    "<p class=\"story\">Once upon a time there were three little sisters; and their names were\n",
    "<a href=\"http://example.com/elsie\" class=\"sister purple\" id=\"link1\">Elsie</a>,\n",
    "<a href=\"http://example.com/lacie\" class=\"sister\" id=\"link2\">Lacie</a> and\n",
    "<a href=\"http://example.com/tillie\" class=\"sister\" id=\"link3\">Tillie (<b>Important</b>)</a>;\n",
    "and they lived at the bottom of a well.</p>\n",
    "\n",
    "<p class=\"story\">a paragraph ... </p>\n",
    "</body>\n",
    "</html>\n",
    "\"\"\"\n",
    "```\n",
    "\n",
    "**Createing soup object**\n",
    "```\n",
    "soup = BeautifulSoup(html_doc, 'html.parser')\n",
    "```"
   ]
  },
  {
   "cell_type": "code",
   "execution_count": null,
   "metadata": {},
   "outputs": [],
   "source": [
    "html_doc = \"\"\"\n",
    "<html><head><title>The Dormouse's story</title></head>\n",
    "<body>\n",
    "<b>Sample HTML Contents</b>\n",
    "<p class=\"title purple\"><b>The Dormouse's story</b></p>\n",
    "\n",
    "<p class=\"story\">Once upon a time there were three little sisters; and their names were\n",
    "<a href=\"http://example.com/elsie\" class=\"sister purple\" id=\"link1\">Elsie</a>,\n",
    "<a href=\"http://example.com/lacie\" class=\"sister\" id=\"link2\">Lacie</a> and\n",
    "<a href=\"http://example.com/tillie\" class=\"sister\" id=\"link3\">Tillie</a>;\n",
    "and they lived at the bottom of a well.</p>\n",
    "\n",
    "<p class=\"story\">a paragraph ... </p>\n",
    "</body>\n",
    "</html>\n",
    "\"\"\""
   ]
  },
  {
   "cell_type": "code",
   "execution_count": null,
   "metadata": {},
   "outputs": [],
   "source": [
    "soup = BeautifulSoup(html_doc, 'html.parser')"
   ]
  },
  {
   "cell_type": "code",
   "execution_count": null,
   "metadata": {},
   "outputs": [],
   "source": [
    "soup"
   ]
  },
  {
   "cell_type": "code",
   "execution_count": null,
   "metadata": {},
   "outputs": [],
   "source": [
    "type(soup)"
   ]
  },
  {
   "cell_type": "markdown",
   "metadata": {},
   "source": [
    "## `prettify()` function\n",
    "\n",
    "The following command will display a neat output\n",
    "```\n",
    "print(soup.prettify())\n",
    "```"
   ]
  },
  {
   "cell_type": "code",
   "execution_count": null,
   "metadata": {},
   "outputs": [],
   "source": [
    "print(soup.prettify())"
   ]
  },
  {
   "cell_type": "markdown",
   "metadata": {},
   "source": [
    "##  `find()` a child elements\n",
    "Examples:\n",
    "```\n",
    "soup.find('html')\n",
    "soup.find('head')\n",
    "soup.find('title')\n",
    "soup.find('body')\n",
    "soup.find('p')\n",
    "p = soup.find('p')\n",
    "type(p)\n",
    "b = p.find('b')\n",
    "type(b)\n",
    "```\n",
    "`find()` _function will only return ONE SINGLE element even if there are multiple matched_"
   ]
  },
  {
   "cell_type": "code",
   "execution_count": null,
   "metadata": {},
   "outputs": [],
   "source": []
  },
  {
   "cell_type": "markdown",
   "metadata": {},
   "source": [
    "## Use  `.` to refer child element\n",
    "To retrieve the `<title>` child tag\n",
    "```\n",
    "soup.title\n",
    "```\n",
    "Other examples on child elements\n",
    "```\n",
    "soup.html\n",
    "soup.head\n",
    "soup.body\n",
    "title_tag = soup.title \n",
    "print(title_tag.name)\n",
    "print(title_tag.string)\n",
    "print(title_tag.text)\n",
    "```"
   ]
  },
  {
   "cell_type": "code",
   "execution_count": null,
   "metadata": {},
   "outputs": [],
   "source": [
    "title_tag = soup.title"
   ]
  },
  {
   "cell_type": "code",
   "execution_count": null,
   "metadata": {},
   "outputs": [],
   "source": [
    "title_tag"
   ]
  },
  {
   "cell_type": "code",
   "execution_count": null,
   "metadata": {},
   "outputs": [],
   "source": [
    "type(title_tag)"
   ]
  },
  {
   "cell_type": "code",
   "execution_count": null,
   "metadata": {},
   "outputs": [],
   "source": [
    "title_tag.name"
   ]
  },
  {
   "cell_type": "code",
   "execution_count": null,
   "metadata": {
    "scrolled": true
   },
   "outputs": [],
   "source": [
    "title_tag.string"
   ]
  },
  {
   "cell_type": "code",
   "execution_count": null,
   "metadata": {},
   "outputs": [],
   "source": [
    "title_tag.text"
   ]
  },
  {
   "cell_type": "code",
   "execution_count": null,
   "metadata": {},
   "outputs": [],
   "source": [
    "type(title_tag.string)"
   ]
  },
  {
   "cell_type": "code",
   "execution_count": null,
   "metadata": {},
   "outputs": [],
   "source": [
    "type(title_tag.text)"
   ]
  },
  {
   "cell_type": "markdown",
   "metadata": {},
   "source": [
    "## Get the parent tag\n",
    "`.parent` gives the parent tag of current tag\n",
    "```\n",
    "title_tag.parent\n",
    "title_tag.parent.name\n",
    "title_tag.parent.string\n",
    "```"
   ]
  },
  {
   "cell_type": "code",
   "execution_count": null,
   "metadata": {},
   "outputs": [],
   "source": [
    "title_tag.parent"
   ]
  },
  {
   "cell_type": "code",
   "execution_count": null,
   "metadata": {},
   "outputs": [],
   "source": [
    "title_tag.parent.name"
   ]
  },
  {
   "cell_type": "code",
   "execution_count": null,
   "metadata": {},
   "outputs": [],
   "source": [
    "title_tag.parent.string"
   ]
  },
  {
   "cell_type": "markdown",
   "metadata": {},
   "source": [
    "## Extract the attributes of a tag\n",
    "Showing attribute\n",
    "```\n",
    "a_tag = soup.a\n",
    "a_tag\n",
    "a_tag[\"class\"]\n",
    "a_tag[\"href\"]\n",
    "a_tag[\"id\"]\n",
    "a_tag.attrs # show all the attributes of a tag\n",
    "```\n",
    "a_tag.attrs\n",
    "Showing all attributes\n",
    "```\n",
    "\n",
    "```"
   ]
  },
  {
   "cell_type": "code",
   "execution_count": null,
   "metadata": {},
   "outputs": [],
   "source": [
    "a_tag = soup.a"
   ]
  },
  {
   "cell_type": "code",
   "execution_count": null,
   "metadata": {},
   "outputs": [],
   "source": [
    "a_tag"
   ]
  },
  {
   "cell_type": "code",
   "execution_count": null,
   "metadata": {},
   "outputs": [],
   "source": [
    "a_tag[\"id\"]"
   ]
  },
  {
   "cell_type": "code",
   "execution_count": null,
   "metadata": {},
   "outputs": [],
   "source": [
    "a_tag.attrs"
   ]
  },
  {
   "cell_type": "markdown",
   "metadata": {},
   "source": [
    "## `find_all()` elements\n",
    "`find_all()` function will return all the matching tags in the form of array\n",
    "Example:\n",
    "```\n",
    "soup.find_all('a')\n",
    "links = soup.find_all('a')\n",
    "print(links)\n",
    "type(links)\n",
    "links[0]\n",
    "links[1]\n",
    "links[0][\"href\"]\n",
    "```\n"
   ]
  },
  {
   "cell_type": "code",
   "execution_count": null,
   "metadata": {},
   "outputs": [],
   "source": [
    "soup.find_all('a')"
   ]
  },
  {
   "cell_type": "code",
   "execution_count": null,
   "metadata": {},
   "outputs": [],
   "source": [
    "links = soup.find_all('a')"
   ]
  },
  {
   "cell_type": "code",
   "execution_count": null,
   "metadata": {},
   "outputs": [],
   "source": [
    "links"
   ]
  },
  {
   "cell_type": "code",
   "execution_count": null,
   "metadata": {},
   "outputs": [],
   "source": [
    "type(links)"
   ]
  },
  {
   "cell_type": "code",
   "execution_count": null,
   "metadata": {},
   "outputs": [],
   "source": [
    "links[0]"
   ]
  },
  {
   "cell_type": "code",
   "execution_count": null,
   "metadata": {},
   "outputs": [],
   "source": [
    "links[1]"
   ]
  },
  {
   "cell_type": "code",
   "execution_count": null,
   "metadata": {},
   "outputs": [],
   "source": [
    "links[0][\"href\"]"
   ]
  },
  {
   "cell_type": "markdown",
   "metadata": {},
   "source": [
    "## Retrieve by css class name\n",
    "Examples:\n",
    "```\n",
    "soup.find(class_='sister')\n",
    "soup.find_all(class_='sister') # returns all tags with sister css class\n",
    "soup.find_all('a', class_='purple') # returns the `<a>` tag with css class purple\n",
    "soup.find_all('p', class_='purple') # returns the `<p>` tag with css class purple\n",
    "\n",
    "```"
   ]
  },
  {
   "cell_type": "code",
   "execution_count": null,
   "metadata": {},
   "outputs": [],
   "source": [
    "soup.find_all(class_='sister')"
   ]
  },
  {
   "cell_type": "code",
   "execution_count": null,
   "metadata": {},
   "outputs": [],
   "source": [
    "soup.find_all('a', class_='purple') "
   ]
  },
  {
   "cell_type": "code",
   "execution_count": null,
   "metadata": {},
   "outputs": [],
   "source": [
    "soup.find_all('p', class_='purple') "
   ]
  },
  {
   "cell_type": "markdown",
   "metadata": {},
   "source": [
    "## Limit the number in search\n",
    "Example\n",
    "```\n",
    "soup.find_all('a')\n",
    "soup.find_all('a', limit=2) # set the limit return to 2\n",
    "\n",
    "```"
   ]
  },
  {
   "cell_type": "code",
   "execution_count": null,
   "metadata": {},
   "outputs": [],
   "source": [
    "soup.find_all('a', limit=2)"
   ]
  },
  {
   "cell_type": "markdown",
   "metadata": {},
   "source": [
    "## Retrieve by HTML `id`\n",
    "Examples:\n",
    "```\n",
    "soup.find(id='link1')\n",
    "```\n",
    "\n",
    "**Note**:\n",
    "- id is a unique value. So you should expecting only one matched tag.  \n",
    "- However there could be exception as it's quite common that HMTL codes are buggy and messy."
   ]
  },
  {
   "cell_type": "code",
   "execution_count": null,
   "metadata": {},
   "outputs": [],
   "source": [
    "soup.find(id='link1')"
   ]
  },
  {
   "cell_type": "markdown",
   "metadata": {},
   "source": [
    "## Advanced CSS Selectors\n",
    "If you are experienced with CSS coding, you will be familiar with the following coding styles\n",
    "```\n",
    "soup.select('body b')\n",
    "soup.select('p b')\n",
    "soup.select('body>b')\n",
    "soup.select('body>p>b')\n",
    "```"
   ]
  },
  {
   "cell_type": "code",
   "execution_count": null,
   "metadata": {},
   "outputs": [],
   "source": [
    "soup.select('body b')"
   ]
  },
  {
   "cell_type": "markdown",
   "metadata": {},
   "source": [
    "# WEB SCRAPING EXERCISE\n",
    "\n",
    "Use requests and BeautifulSoup together\n",
    "\n",
    "BeautifulSoup is NOT a HTTP client, we have to use `requests` to retrieve HTML source codes from an actual webiste\n",
    "\n",
    "**Required imports**:\n",
    "```\n",
    "import requests\n",
    "from bs4 import BeautifulSoup\n",
    "```"
   ]
  },
  {
   "cell_type": "code",
   "execution_count": null,
   "metadata": {},
   "outputs": [],
   "source": [
    "import requests\n",
    "from bs4 import BeautifulSoup"
   ]
  },
  {
   "cell_type": "markdown",
   "metadata": {},
   "source": [
    "## Declaring url to retrieve\n",
    "```\n",
    "hkej_topgainers = \"https://stock360.hkej.com/marketWatch/Top20/topGainers\"\n",
    "html_response_from_server = requests.get(hkej_topgainers)\n",
    "\n",
    "type(html_response_from_server)\n",
    "\n",
    "html_response_from_server.content\n",
    "\n",
    "type(html_response_from_server.content)\n",
    "\n",
    "soup = BeautifulSoup(html_response_from_server.content, 'html.parser')\n",
    "```"
   ]
  },
  {
   "cell_type": "code",
   "execution_count": null,
   "metadata": {
    "scrolled": true
   },
   "outputs": [],
   "source": [
    "hkej_topgainers = \"https://stock360.hkej.com/marketWatch/Top20/topGainers\"\n",
    "html_response_from_server = requests.get(hkej_topgainers)\n",
    "type(html_response_from_server)"
   ]
  },
  {
   "cell_type": "code",
   "execution_count": null,
   "metadata": {},
   "outputs": [],
   "source": [
    "html_response_from_server.content"
   ]
  },
  {
   "cell_type": "code",
   "execution_count": null,
   "metadata": {},
   "outputs": [],
   "source": [
    "type(html_response_from_server.content)"
   ]
  },
  {
   "cell_type": "code",
   "execution_count": null,
   "metadata": {
    "scrolled": true
   },
   "outputs": [],
   "source": [
    "soup = BeautifulSoup(html_response_from_server.content, 'html.parser')"
   ]
  },
  {
   "cell_type": "code",
   "execution_count": null,
   "metadata": {},
   "outputs": [],
   "source": [
    "type(soup)"
   ]
  },
  {
   "cell_type": "markdown",
   "metadata": {},
   "source": [
    "## Use `find()` to retrieve rows\n",
    "```\n",
    "top_stocks_table = soup.find(class_='dt640')\n",
    "print(type(top_stocks_table))\n",
    "stock_rows = top_stocks_table.find_all(\"tr\")\n",
    "print(len(stock_rows))\n",
    "print(stock_rows[0])\n",
    "print(stock_rows[1])\n",
    "print(stock_rows[2])\n",
    "print(stock_rows[3])\n",
    "\n",
    "```"
   ]
  },
  {
   "cell_type": "code",
   "execution_count": null,
   "metadata": {},
   "outputs": [],
   "source": [
    "top_stocks_table = soup.find(class_='dt640')\n",
    "print(type(top_stocks_table))\n",
    "stock_rows = top_stocks_table.find_all(\"tr\")\n",
    "print(len(stock_rows))\n",
    "print(stock_rows[0])\n",
    "print(stock_rows[1])\n",
    "print(stock_rows[2])\n",
    "print(stock_rows[3])"
   ]
  },
  {
   "cell_type": "markdown",
   "metadata": {},
   "source": [
    "## Looping the top stock rows\n",
    "```\n",
    "for i in range(2, len(stock_rows)):\n",
    "    stock = stock_rows[i]\n",
    "    code = stock.find(class_='code')\n",
    "    name = stock.find(class_='name')\n",
    "    print(f'{code}\\t{name}')\n",
    "    #print(f'{code.string}\\t{name.string}')\n",
    "```"
   ]
  },
  {
   "cell_type": "code",
   "execution_count": null,
   "metadata": {},
   "outputs": [],
   "source": [
    "for i in range(2, len(stock_rows)):\n",
    "    stock = stock_rows[i]\n",
    "    code = stock.find(class_='code')\n",
    "    name = stock.find(class_='name')\n",
    "    print(f'{code}\\t{name}')\n",
    "    #print(f'{code.string}\\t{name.string}')\n"
   ]
  },
  {
   "cell_type": "markdown",
   "metadata": {},
   "source": [
    "## Retrieving more stock columns\n",
    "```\n",
    "for i in range(2, len(stock_rows)):\n",
    "    stock = stock_rows[i]\n",
    "    code = stock.find(class_='code')\n",
    "    name = stock.find(class_='name')\n",
    "    latest = stock.find(class_='latest')\n",
    "    change = stock.find(class_='change')\n",
    "    change_p = stock.find(class_='change_p')\n",
    "    volumn = stock.find(class_='volumn')\n",
    "    turnover = stock.find(class_='turnover')\n",
    "    market_cap = stock.find(class_='marketCap')    \n",
    "    print(f'{code.string}\\t{name.string}\\t{latest.string}\\t{change_p.text}')\n",
    "```"
   ]
  },
  {
   "cell_type": "code",
   "execution_count": null,
   "metadata": {},
   "outputs": [],
   "source": [
    "for i in range(2, len(stock_rows)):\n",
    "    stock = stock_rows[i]\n",
    "    code = stock.find(class_='code')\n",
    "    name = stock.find(class_='name')\n",
    "    latest = stock.find(class_='latest')\n",
    "    change = stock.find(class_='change')\n",
    "    change_p = stock.find(class_='change_p')\n",
    "    volumn = stock.find(class_='volumn')\n",
    "    turnover = stock.find(class_='turnover')\n",
    "    market_cap = stock.find(class_='marketCap')    \n",
    "    print(f'{code.string}\\t{name.string.ljust(15)}\\t{latest.string}\\t{change_p.text}')\n"
   ]
  },
  {
   "cell_type": "markdown",
   "metadata": {},
   "source": [
    "## Run the complete python script\n",
    "There is a complete python script named `get_active_stock.py` in the script folder of the downloaded folder\n",
    "\n",
    "**To run the script**:\n",
    "- Open the command line window / Terminal\n",
    "- Type in command: `python3 get_active_stock.py`"
   ]
  }
 ],
 "metadata": {
  "kernelspec": {
   "display_name": "Python 3 (ipykernel)",
   "language": "python",
   "name": "python3"
  },
  "language_info": {
   "codemirror_mode": {
    "name": "ipython",
    "version": 3
   },
   "file_extension": ".py",
   "mimetype": "text/x-python",
   "name": "python",
   "nbconvert_exporter": "python",
   "pygments_lexer": "ipython3",
   "version": "3.8.5"
  },
  "toc": {
   "base_numbering": 1,
   "nav_menu": {},
   "number_sections": true,
   "sideBar": true,
   "skip_h1_title": false,
   "title_cell": "Table of Contents",
   "title_sidebar": "Contents",
   "toc_cell": false,
   "toc_position": {},
   "toc_section_display": true,
   "toc_window_display": true
  }
 },
 "nbformat": 4,
 "nbformat_minor": 4
}
