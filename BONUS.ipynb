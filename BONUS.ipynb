{
 "cells": [
  {
   "cell_type": "markdown",
   "id": "25d4d848",
   "metadata": {},
   "source": [
    "# `yfinance` API Introduction\n",
    "----\n",
    "\n",
    "**This is a bonus notebook. We might not have enough time to cover in deep.**\n",
    "\n",
    "\n",
    "`yfinance` package is not affiliated, endorsed, or vetted by Yahoo, Inc. \n",
    "\n",
    "It's an open-source tool that uses Yahoo's publicly available APIs, and is intended for research and educational purposes.\n",
    "\n",
    "**More about `yfinance`**\n",
    "\n",
    "[yfinance](https://pypi.org/project/yfinance/)"
   ]
  },
  {
   "cell_type": "markdown",
   "id": "cbcfead2",
   "metadata": {},
   "source": [
    "# Install\n",
    "\n",
    "In command line interface (Terminal for Mac or PowerShell for Windows), type the following command\n",
    "\n",
    "```\n",
    "pip install yfinance\n",
    "```\n",
    "\n",
    "OR\n",
    "\n",
    "In Jupyter Noteboo, type\n",
    "```\n",
    "%pip install yfinance\n",
    "```"
   ]
  },
  {
   "cell_type": "code",
   "execution_count": null,
   "id": "76008913",
   "metadata": {},
   "outputs": [],
   "source": []
  },
  {
   "cell_type": "markdown",
   "id": "875e56fc",
   "metadata": {},
   "source": [
    "# Import\n",
    "\n",
    "Make sure your have successfully install `yfinance` in the previous step.\n",
    "\n",
    "```\n",
    "import yfinance as yf\n",
    "```"
   ]
  },
  {
   "cell_type": "code",
   "execution_count": null,
   "id": "e644d28a",
   "metadata": {},
   "outputs": [],
   "source": []
  },
  {
   "cell_type": "markdown",
   "id": "85a7974e",
   "metadata": {},
   "source": [
    "# Create a ticker\n",
    "\n",
    "A ticker is a stock's trade name.\n",
    "\n",
    "Use `Ticker()` function by passing in the stock trade name in string to create a ticker.\n",
    "\n",
    "```\n",
    "aapl = yf.Ticker('AAPL') # Apple\n",
    "tsla = yf.Ticker('TSLA') # Tesla\n",
    "\n",
    "````"
   ]
  },
  {
   "cell_type": "code",
   "execution_count": null,
   "id": "53a29974",
   "metadata": {},
   "outputs": [],
   "source": []
  },
  {
   "cell_type": "code",
   "execution_count": null,
   "id": "498f24d8",
   "metadata": {},
   "outputs": [],
   "source": []
  },
  {
   "cell_type": "markdown",
   "id": "1adf28d2",
   "metadata": {},
   "source": [
    "# Accessing a ticker's information"
   ]
  },
  {
   "cell_type": "markdown",
   "id": "14ff3a65",
   "metadata": {},
   "source": [
    "## show stock info\n",
    "\n",
    "```\n",
    "aapl.info\n",
    "tsla.info\n",
    "```"
   ]
  },
  {
   "cell_type": "code",
   "execution_count": null,
   "id": "4f14032e",
   "metadata": {},
   "outputs": [],
   "source": []
  },
  {
   "cell_type": "code",
   "execution_count": null,
   "id": "03a07100",
   "metadata": {},
   "outputs": [],
   "source": []
  },
  {
   "cell_type": "markdown",
   "id": "ec78ea2c",
   "metadata": {},
   "source": [
    "## show stock's dividends and splits\n",
    "\n",
    "```\n",
    "aapl.actions\n",
    "aapl.dividends\n",
    "aapl.splits\n",
    "```"
   ]
  },
  {
   "cell_type": "code",
   "execution_count": null,
   "id": "a2e6c768",
   "metadata": {},
   "outputs": [],
   "source": []
  },
  {
   "cell_type": "code",
   "execution_count": null,
   "id": "3d768319",
   "metadata": {},
   "outputs": [],
   "source": []
  },
  {
   "cell_type": "code",
   "execution_count": null,
   "id": "af44aede",
   "metadata": {},
   "outputs": [],
   "source": []
  },
  {
   "cell_type": "markdown",
   "id": "98ec5f34",
   "metadata": {},
   "source": [
    "## Show Finanacial Data\n",
    "```\n",
    "aapl.financials\n",
    "```"
   ]
  },
  {
   "cell_type": "code",
   "execution_count": null,
   "id": "b3d40d84",
   "metadata": {},
   "outputs": [],
   "source": []
  },
  {
   "cell_type": "markdown",
   "id": "54a5131c",
   "metadata": {},
   "source": [
    "## Show Institutional Holders\n",
    "```\n",
    "aapl.institutional_holders\n",
    "```"
   ]
  },
  {
   "cell_type": "code",
   "execution_count": null,
   "id": "c89f2b03",
   "metadata": {},
   "outputs": [],
   "source": []
  },
  {
   "cell_type": "markdown",
   "id": "7814efd6",
   "metadata": {},
   "source": [
    "## Show Balance Sheet\n",
    "```\n",
    "aapl.balance_sheet\n",
    "```"
   ]
  },
  {
   "cell_type": "code",
   "execution_count": null,
   "id": "06175c5c",
   "metadata": {},
   "outputs": [],
   "source": []
  },
  {
   "cell_type": "markdown",
   "id": "49c84503",
   "metadata": {},
   "source": [
    "## Show Cashflow\n",
    "```\n",
    "aapl.cashflow\n",
    "```"
   ]
  },
  {
   "cell_type": "code",
   "execution_count": null,
   "id": "e6dcdd71",
   "metadata": {},
   "outputs": [],
   "source": []
  },
  {
   "cell_type": "markdown",
   "id": "00859047",
   "metadata": {},
   "source": [
    "## Show Earning\n",
    "```\n",
    "aapl.earnings\n",
    "```"
   ]
  },
  {
   "cell_type": "code",
   "execution_count": null,
   "id": "cef7c44a",
   "metadata": {},
   "outputs": [],
   "source": []
  },
  {
   "cell_type": "markdown",
   "id": "a40976e9",
   "metadata": {},
   "source": [
    "## Show Options\n",
    "```\n",
    "aapl.options\n",
    "```"
   ]
  },
  {
   "cell_type": "code",
   "execution_count": null,
   "id": "28a24bb3",
   "metadata": {},
   "outputs": [],
   "source": []
  },
  {
   "cell_type": "markdown",
   "id": "1b9d8a95",
   "metadata": {},
   "source": [
    "## Show News\n",
    "```\n",
    "aapl.news\n",
    "```"
   ]
  },
  {
   "cell_type": "code",
   "execution_count": null,
   "id": "0af5c1b1",
   "metadata": {},
   "outputs": [],
   "source": []
  },
  {
   "cell_type": "markdown",
   "id": "1a9ec3c8",
   "metadata": {},
   "source": [
    "# Price History \n",
    "\n",
    "Call ticker's `history()` function to get the price history.\n",
    "\n",
    "```\n",
    "aapl_1mo = aapl.history(period='1mo')\n",
    "aapl_1mo.info()\n",
    "aapl_1mo.describe()\n",
    "aapl_1mo.shape\n",
    "\n",
    "aapl_max = aapl.history(period='max')\n",
    "aapl_max.info()\n",
    "```"
   ]
  },
  {
   "cell_type": "code",
   "execution_count": null,
   "id": "8d23c7f0",
   "metadata": {},
   "outputs": [],
   "source": []
  },
  {
   "cell_type": "code",
   "execution_count": null,
   "id": "d5cba21e",
   "metadata": {},
   "outputs": [],
   "source": []
  },
  {
   "cell_type": "code",
   "execution_count": null,
   "id": "e84541d0",
   "metadata": {
    "scrolled": false
   },
   "outputs": [],
   "source": []
  },
  {
   "cell_type": "code",
   "execution_count": null,
   "id": "67ac614d",
   "metadata": {},
   "outputs": [],
   "source": []
  },
  {
   "cell_type": "code",
   "execution_count": null,
   "id": "1f114693",
   "metadata": {},
   "outputs": [],
   "source": []
  },
  {
   "cell_type": "code",
   "execution_count": null,
   "id": "27e0f96d",
   "metadata": {},
   "outputs": [],
   "source": []
  },
  {
   "cell_type": "code",
   "execution_count": null,
   "id": "ac33e073",
   "metadata": {},
   "outputs": [],
   "source": []
  },
  {
   "cell_type": "markdown",
   "id": "d6f7729e",
   "metadata": {},
   "source": [
    "# Plotting\n",
    "```\n",
    "aapl_1mo['Close'].plot()\n",
    "aapl_max['Close'].plot()\n",
    "```"
   ]
  },
  {
   "cell_type": "code",
   "execution_count": null,
   "id": "6f5cfb50",
   "metadata": {},
   "outputs": [],
   "source": []
  },
  {
   "cell_type": "code",
   "execution_count": null,
   "id": "de4b0373",
   "metadata": {},
   "outputs": [],
   "source": []
  }
 ],
 "metadata": {
  "kernelspec": {
   "display_name": "Python 3 (ipykernel)",
   "language": "python",
   "name": "python3"
  },
  "language_info": {
   "codemirror_mode": {
    "name": "ipython",
    "version": 3
   },
   "file_extension": ".py",
   "mimetype": "text/x-python",
   "name": "python",
   "nbconvert_exporter": "python",
   "pygments_lexer": "ipython3",
   "version": "3.8.5"
  },
  "toc": {
   "base_numbering": 1,
   "nav_menu": {},
   "number_sections": true,
   "sideBar": true,
   "skip_h1_title": false,
   "title_cell": "Table of Contents",
   "title_sidebar": "Contents",
   "toc_cell": false,
   "toc_position": {},
   "toc_section_display": true,
   "toc_window_display": true
  }
 },
 "nbformat": 4,
 "nbformat_minor": 5
}
